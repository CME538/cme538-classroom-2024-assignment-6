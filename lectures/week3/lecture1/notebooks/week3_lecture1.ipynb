{
 "cells": [
  {
   "cell_type": "markdown",
   "metadata": {},
   "source": [
    "# CME538 - Introduction to Data Science\n",
    "## Lecture 3.1 - Exploratory Data Analysis\n",
    "\n",
    "### Introduction\n",
    "In this notebook, we will explore the key principles of Exploratory Data Analysis (EDA), as covered in Lecture 3.1. The goal of EDA is to understand the structure, granularity, scope, temporality, spatiality, and faithfulness of the data before performing any further analysis or modeling.\n",
    "\n",
    "EDA is not just a set of techniques but an attitude of flexibility and curiosity, as described by John Tukey: \n",
    "> \"Exploratory data analysis is an attitude, a state of flexibility, a willingness to look for those things that we believe are not there, as well as those that we believe to be there.\"\n",
    "\n",
    "#### ELI5: What is EDA?\n",
    "Think of EDA as getting to know your new LEGO set before you start building. Before jumping in, you pour out all the pieces, look at their shapes, figure out how many of each you have, and maybe even look at the instructions (sometimes! :D). That’s what EDA does for data—it’s like sorting through the LEGO pieces and understanding what you’re working with before putting everything together.\n",
    "\n",
    "#### Fun Fact:\n",
    "Did you know that John Tukey, the pioneer of EDA, is also credited with coining the term \"bit\" (short for binary digit), which is a fundamental concept in computing today? Not only did he help shape how we explore data, but he also helped shape how we think about computers!\n",
    "\n",
    "<img src=\"https://www.amphilsoc.org/sites/default/files/styles/item_detail_carousel/public/2019-10/Tukey%20graph%20head.jpg?itok=KT07rEvD\" alt=\"John Tukey\" width=\"300\"/>\n",
    "\n",
    "Throughout this notebook, we will examine three datasets:\n",
    "1. **Titanic Dataset** - This is how clean data looks like. We will explore the structure and granularity of clean, well-structured data.\n",
    "2. **NOAA Great Lakes Dataset** - We will analyze and understand unstructured data.\n",
    "3. **Bicycle Counts Dataset** - We will explore the concept of temporality in data, examining how data changes over time.\n",
    "\n",
    "By the end of this notebook, you will have a better understanding of how to approach EDA, ask the right questions, and use various Python libraries to gain insights into your data."
   ]
  },
  {
   "cell_type": "markdown",
   "metadata": {},
   "source": [
    "## Setup Notebook"
   ]
  },
  {
   "cell_type": "code",
   "execution_count": 1,
   "metadata": {},
   "outputs": [],
   "source": [
    "# Import 3rd party libraries\n",
    "import os\n",
    "import pandas as pd\n",
    "import seaborn as sns\n",
    "import matplotlib.pyplot as plt\n",
    "\n",
    "# Configure Notebook\n",
    "%matplotlib inline\n",
    "plt.style.use('fivethirtyeight')\n",
    "sns.set_context(\"notebook\")"
   ]
  },
  {
   "cell_type": "markdown",
   "metadata": {},
   "source": [
    "<a id='section1'></a>\n",
    "## 1. Titanic Dataset - Exploring Structure and Granularity of a Cleaned Dataset\n",
    "We will use the Titanic dataset to explore the structure of well-organized data and examine its granularity, which refers to the level of detail within the dataset. Clean and structured datasets like Titanic provide an excellent starting point for EDA."
   ]
  },
  {
   "cell_type": "markdown",
   "metadata": {},
   "source": [
    "### Exploring Clean Data: Structure and Granularity in the Titanic Dataset\n",
    "The Titanic dataset is an example of **clean, structured data**. Clean data refers to data that has already undergone processes to remove errors, inconsistencies, and missing values. It is organized in a clear format, where each column has a specific meaning, and each row represents a distinct observation.\n",
    "\n",
    "- **Structure**: Clean data has a well-defined structure. In this case, each row represents a passenger, and the columns represent different attributes of those passengers, such as age, class, fare, and whether they survived the Titanic disaster. This organization allows us to easily understand and manipulate the data.\n",
    "  \n",
    "- **Granularity**: The level of detail in clean data is referred to as its granularity. In this dataset, each data point (e.g., age, fare) corresponds to a specific passenger, meaning the data is fine-grained, giving us detailed individual-level information.\n",
    "\n",
    "Working with clean data, like the Titanic dataset, is much easier than working with raw or unstructured data because it requires less preprocessing. It allows us to directly focus on exploring patterns and relationships within the data without first having to clean it up.\n",
    "\n",
    "In this section, we are\n",
    "1. Loading and inspecting the Titanic dataset to understand its structure.\n",
    "2. Exploring the granularity of the data by looking at specific attributes (e.g., Age, Fare, etc.).\n",
    "3. Visualize key features of the dataset to get a deeper understanding of the data."
   ]
  },
  {
   "cell_type": "code",
   "execution_count": 2,
   "metadata": {},
   "outputs": [
    {
     "data": {
      "text/html": [
       "<div>\n",
       "<style scoped>\n",
       "    .dataframe tbody tr th:only-of-type {\n",
       "        vertical-align: middle;\n",
       "    }\n",
       "\n",
       "    .dataframe tbody tr th {\n",
       "        vertical-align: top;\n",
       "    }\n",
       "\n",
       "    .dataframe thead th {\n",
       "        text-align: right;\n",
       "    }\n",
       "</style>\n",
       "<table border=\"1\" class=\"dataframe\">\n",
       "  <thead>\n",
       "    <tr style=\"text-align: right;\">\n",
       "      <th></th>\n",
       "      <th>PassengerId</th>\n",
       "      <th>Survived</th>\n",
       "      <th>Pclass</th>\n",
       "      <th>Name</th>\n",
       "      <th>Sex</th>\n",
       "      <th>Age</th>\n",
       "      <th>SibSp</th>\n",
       "      <th>Parch</th>\n",
       "      <th>Ticket</th>\n",
       "      <th>Fare</th>\n",
       "      <th>Cabin</th>\n",
       "      <th>Embarked</th>\n",
       "    </tr>\n",
       "  </thead>\n",
       "  <tbody>\n",
       "    <tr>\n",
       "      <th>0</th>\n",
       "      <td>1</td>\n",
       "      <td>0</td>\n",
       "      <td>3</td>\n",
       "      <td>Braund, Mr. Owen Harris</td>\n",
       "      <td>male</td>\n",
       "      <td>22.0</td>\n",
       "      <td>1</td>\n",
       "      <td>0</td>\n",
       "      <td>A/5 21171</td>\n",
       "      <td>7.2500</td>\n",
       "      <td>NaN</td>\n",
       "      <td>S</td>\n",
       "    </tr>\n",
       "    <tr>\n",
       "      <th>1</th>\n",
       "      <td>2</td>\n",
       "      <td>1</td>\n",
       "      <td>1</td>\n",
       "      <td>Cumings, Mrs. John Bradley (Florence Briggs Th...</td>\n",
       "      <td>female</td>\n",
       "      <td>38.0</td>\n",
       "      <td>1</td>\n",
       "      <td>0</td>\n",
       "      <td>PC 17599</td>\n",
       "      <td>71.2833</td>\n",
       "      <td>C85</td>\n",
       "      <td>C</td>\n",
       "    </tr>\n",
       "    <tr>\n",
       "      <th>2</th>\n",
       "      <td>3</td>\n",
       "      <td>1</td>\n",
       "      <td>3</td>\n",
       "      <td>Heikkinen, Miss. Laina</td>\n",
       "      <td>female</td>\n",
       "      <td>26.0</td>\n",
       "      <td>0</td>\n",
       "      <td>0</td>\n",
       "      <td>STON/O2. 3101282</td>\n",
       "      <td>7.9250</td>\n",
       "      <td>NaN</td>\n",
       "      <td>S</td>\n",
       "    </tr>\n",
       "    <tr>\n",
       "      <th>3</th>\n",
       "      <td>4</td>\n",
       "      <td>1</td>\n",
       "      <td>1</td>\n",
       "      <td>Futrelle, Mrs. Jacques Heath (Lily May Peel)</td>\n",
       "      <td>female</td>\n",
       "      <td>35.0</td>\n",
       "      <td>1</td>\n",
       "      <td>0</td>\n",
       "      <td>113803</td>\n",
       "      <td>53.1000</td>\n",
       "      <td>C123</td>\n",
       "      <td>S</td>\n",
       "    </tr>\n",
       "    <tr>\n",
       "      <th>4</th>\n",
       "      <td>5</td>\n",
       "      <td>0</td>\n",
       "      <td>3</td>\n",
       "      <td>Allen, Mr. William Henry</td>\n",
       "      <td>male</td>\n",
       "      <td>35.0</td>\n",
       "      <td>0</td>\n",
       "      <td>0</td>\n",
       "      <td>373450</td>\n",
       "      <td>8.0500</td>\n",
       "      <td>NaN</td>\n",
       "      <td>S</td>\n",
       "    </tr>\n",
       "    <tr>\n",
       "      <th>5</th>\n",
       "      <td>6</td>\n",
       "      <td>0</td>\n",
       "      <td>3</td>\n",
       "      <td>Moran, Mr. James</td>\n",
       "      <td>male</td>\n",
       "      <td>NaN</td>\n",
       "      <td>0</td>\n",
       "      <td>0</td>\n",
       "      <td>330877</td>\n",
       "      <td>8.4583</td>\n",
       "      <td>NaN</td>\n",
       "      <td>Q</td>\n",
       "    </tr>\n",
       "    <tr>\n",
       "      <th>6</th>\n",
       "      <td>7</td>\n",
       "      <td>0</td>\n",
       "      <td>1</td>\n",
       "      <td>McCarthy, Mr. Timothy J</td>\n",
       "      <td>male</td>\n",
       "      <td>54.0</td>\n",
       "      <td>0</td>\n",
       "      <td>0</td>\n",
       "      <td>17463</td>\n",
       "      <td>51.8625</td>\n",
       "      <td>E46</td>\n",
       "      <td>S</td>\n",
       "    </tr>\n",
       "    <tr>\n",
       "      <th>7</th>\n",
       "      <td>8</td>\n",
       "      <td>0</td>\n",
       "      <td>3</td>\n",
       "      <td>Palsson, Master. Gosta Leonard</td>\n",
       "      <td>male</td>\n",
       "      <td>2.0</td>\n",
       "      <td>3</td>\n",
       "      <td>1</td>\n",
       "      <td>349909</td>\n",
       "      <td>21.0750</td>\n",
       "      <td>NaN</td>\n",
       "      <td>S</td>\n",
       "    </tr>\n",
       "    <tr>\n",
       "      <th>8</th>\n",
       "      <td>9</td>\n",
       "      <td>1</td>\n",
       "      <td>3</td>\n",
       "      <td>Johnson, Mrs. Oscar W (Elisabeth Vilhelmina Berg)</td>\n",
       "      <td>female</td>\n",
       "      <td>27.0</td>\n",
       "      <td>0</td>\n",
       "      <td>2</td>\n",
       "      <td>347742</td>\n",
       "      <td>11.1333</td>\n",
       "      <td>NaN</td>\n",
       "      <td>S</td>\n",
       "    </tr>\n",
       "    <tr>\n",
       "      <th>9</th>\n",
       "      <td>10</td>\n",
       "      <td>1</td>\n",
       "      <td>2</td>\n",
       "      <td>Nasser, Mrs. Nicholas (Adele Achem)</td>\n",
       "      <td>female</td>\n",
       "      <td>14.0</td>\n",
       "      <td>1</td>\n",
       "      <td>0</td>\n",
       "      <td>237736</td>\n",
       "      <td>30.0708</td>\n",
       "      <td>NaN</td>\n",
       "      <td>C</td>\n",
       "    </tr>\n",
       "  </tbody>\n",
       "</table>\n",
       "</div>"
      ],
      "text/plain": [
       "   PassengerId  Survived  Pclass  \\\n",
       "0            1         0       3   \n",
       "1            2         1       1   \n",
       "2            3         1       3   \n",
       "3            4         1       1   \n",
       "4            5         0       3   \n",
       "5            6         0       3   \n",
       "6            7         0       1   \n",
       "7            8         0       3   \n",
       "8            9         1       3   \n",
       "9           10         1       2   \n",
       "\n",
       "                                                Name     Sex   Age  SibSp  \\\n",
       "0                            Braund, Mr. Owen Harris    male  22.0      1   \n",
       "1  Cumings, Mrs. John Bradley (Florence Briggs Th...  female  38.0      1   \n",
       "2                             Heikkinen, Miss. Laina  female  26.0      0   \n",
       "3       Futrelle, Mrs. Jacques Heath (Lily May Peel)  female  35.0      1   \n",
       "4                           Allen, Mr. William Henry    male  35.0      0   \n",
       "5                                   Moran, Mr. James    male   NaN      0   \n",
       "6                            McCarthy, Mr. Timothy J    male  54.0      0   \n",
       "7                     Palsson, Master. Gosta Leonard    male   2.0      3   \n",
       "8  Johnson, Mrs. Oscar W (Elisabeth Vilhelmina Berg)  female  27.0      0   \n",
       "9                Nasser, Mrs. Nicholas (Adele Achem)  female  14.0      1   \n",
       "\n",
       "   Parch            Ticket     Fare Cabin Embarked  \n",
       "0      0         A/5 21171   7.2500   NaN        S  \n",
       "1      0          PC 17599  71.2833   C85        C  \n",
       "2      0  STON/O2. 3101282   7.9250   NaN        S  \n",
       "3      0            113803  53.1000  C123        S  \n",
       "4      0            373450   8.0500   NaN        S  \n",
       "5      0            330877   8.4583   NaN        Q  \n",
       "6      0             17463  51.8625   E46        S  \n",
       "7      1            349909  21.0750   NaN        S  \n",
       "8      2            347742  11.1333   NaN        S  \n",
       "9      0            237736  30.0708   NaN        C  "
      ]
     },
     "execution_count": 2,
     "metadata": {},
     "output_type": "execute_result"
    }
   ],
   "source": [
    "titanic = pd.read_csv('titanic.csv')\n",
    "titanic.head(10)"
   ]
  },
  {
   "cell_type": "markdown",
   "metadata": {},
   "source": [
    "To better understand the **structure** and **granularity** of clean data, visualizations are essential. Visualizing data allows us to:\n",
    "- Identify patterns and relationships between features.\n",
    "- Understand the distribution and composition of our dataset.\n",
    "- Spot any potential anomalies or outliers, even in clean datasets.\n",
    "\n",
    "By visualizing this clean dataset, we can quickly grasp its structure and begin thinking about the relationships between different attributes."
   ]
  },
  {
   "cell_type": "code",
   "execution_count": 4,
   "metadata": {},
   "outputs": [
    {
     "data": {
      "image/png": "[encoded data removed]",
      "text/plain": [
       "<Figure size 800x600 with 1 Axes>"
      ]
     },
     "metadata": {},
     "output_type": "display_data"
    },
    {
     "data": {
      "image/png": "[encoded data removed]",
      "text/plain": [
       "<Figure size 1000x600 with 1 Axes>"
      ]
     },
     "metadata": {},
     "output_type": "display_data"
    },
    {
     "data": {
      "image/png": "[encoded data removed]",
      "text/plain": [
       "<Figure size 1000x600 with 1 Axes>"
      ]
     },
     "metadata": {},
     "output_type": "display_data"
    }
   ],
   "source": [
    "import pandas as pd\n",
    "import matplotlib.pyplot as plt\n",
    "\n",
    "# Load the Titanic dataset\n",
    "titanic = pd.read_csv('titanic.csv')\n",
    "\n",
    "# Preview the first 10 rows of the dataset\n",
    "titanic.head(10)\n",
    "\n",
    "# Visualize the distribution of passenger classes (Pclass)\n",
    "plt.figure(figsize=(8, 6))\n",
    "titanic['Pclass'].value_counts().sort_index().plot(kind='bar', color='skyblue')\n",
    "plt.title('Distribution of Passenger Classes')\n",
    "plt.xlabel('Passenger Class')\n",
    "plt.ylabel('Count')\n",
    "plt.xticks(rotation=0)\n",
    "plt.show()\n",
    "\n",
    "# Visualize the distribution of passenger ages\n",
    "plt.figure(figsize=(10, 6))\n",
    "plt.hist(titanic['Age'].dropna(), bins=30, color='blue', edgecolor='black', alpha=0.7)\n",
    "plt.title('Age Distribution of Titanic Passengers')\n",
    "plt.xlabel('Age')\n",
    "plt.ylabel('Frequency')\n",
    "plt.show()\n",
    "\n",
    "# Visualize Survival Rate by Class\n",
    "survival_rate_by_class = titanic.groupby('Pclass')['Survived'].mean()\n",
    "plt.figure(figsize=(10, 6))\n",
    "survival_rate_by_class.plot(kind='bar', color='green')\n",
    "plt.title('Survival Rate by Passenger Class')\n",
    "plt.xlabel('Passenger Class')\n",
    "plt.ylabel('Survival Rate')\n",
    "plt.xticks(rotation=0)\n",
    "plt.show()"
   ]
  },
  {
   "cell_type": "markdown",
   "metadata": {},
   "source": [
    "### Insights from the Visualizations:\n",
    "- **Passenger Class Distribution**: We can see that the majority of passengers were in 3rd class, while 1st class had the fewest passengers. This tells us about the structure of the dataset and gives us an idea of how evenly distributed the data is across classes.\n",
    "  \n",
    "- **Age Distribution**: The age distribution shows a wide range of passengers from children to elderly adults. The distribution appears somewhat skewed, with more younger passengers. This granularity helps us understand the demographic breakdown of passengers on the Titanic.\n",
    "  \n",
    "- **Survival Rate by Class**: We observe a clear relationship between class and survival rate. Passengers in 1st class had a much higher survival rate than those in 3rd class, which provides valuable insights into the impact of class on survival.\n",
    "\n",
    "### Why Clean Data is Important:\n",
    "Working with **clean data**, like the Titanic dataset, makes it easier to conduct meaningful analyses without worrying about missing values, inconsistencies, or incorrect formats. Clean data:\n",
    "- Reduces the amount of time needed for preprocessing.\n",
    "- Ensures that the results of our analysis are more accurate and reliable.\n",
    "- Allows us to focus on extracting insights rather than fixing errors.\n",
    "\n",
    "By visualizing clean data, we can quickly start exploring relationships, identifying trends, and making data-driven decisions without unnecessary distractions."
   ]
  },
  {
   "cell_type": "markdown",
   "metadata": {},
   "source": [
    "<a id='section2'></a>\n",
    "## 2. NOAA Great Lakes Dataset - Understanding Unstructured Data\n",
    "The NOAA Great Lakes dataset demonstrates the challenges of working with unstructured data. In this section, we will focus on how to extract meaningful information from data that doesn’t have a clearly defined structure.\n",
    "\n",
    "### Working with Unstructured Data\n",
    "In contrast to the clean, structured Titanic dataset, the NOAA Great Lakes dataset presents a challenge because it is **unstructured**. Unstructured data doesn't have a predefined organization or clear structure, which means we can't directly analyze it like structured data.\n",
    "\n",
    "- **What is Unstructured Data?**: Unstructured data can come in many forms, such as text, audio, video, or raw logs. It lacks the rows and columns format of structured data, making it harder to process and analyze.\n",
    "  \n",
    "- **Challenges**: With unstructured data, we need to spend time understanding its structure, cleaning it, and converting it into a usable format. This requires additional steps such as parsing text or extracting features.\n",
    "\n",
    "In this section, we will:\n",
    "1. Explore the raw NOAA dataset to understand its unstructured format.\n",
    "2. Identify ways to extract useful information from the data.\n",
    "3. Convert the unstructured data into a structured format for further analysis.\n"
   ]
  },
  {
   "cell_type": "markdown",
   "metadata": {},
   "source": [
    "### Step 1: Inspecting the Raw NOAA Data\n",
    "The first step in working with unstructured data is to **understand the raw format**. In this case, we are working with a raw text file from the NOAA Great Lakes dataset.\n",
    "\n",
    "We will start by:\n",
    "1. Reading the entire file to get a sense of how the data is organized.\n",
    "2. Printing the first 500 characters to see how the data looks.\n",
    "3. Splitting the data into lines so we can inspect different parts of it.\n",
    "\n",
    "This is important because unstructured data doesn’t follow a clear structure, and we need to explore it to figure out how to extract useful information."
   ]
  },
  {
   "cell_type": "code",
   "execution_count": 5,
   "metadata": {
    "scrolled": false
   },
   "outputs": [
    {
     "name": "stdout",
     "output_type": "stream",
     "text": [
      "First 500 characters of NOAA data:\n",
      "\n",
      "2020 277 13     /glcfs/bathy/erie2km.dat       WAVES                  6436\n",
      "     1   0.121  119  1.7\n",
      "     2   0.174  124  2.0\n",
      "     3   0.079   98  1.2\n",
      "     4   0.153  103  1.9\n",
      "     5   0.212  114  2.3\n",
      "     6   0.252  117  2.5\n",
      "     7   0.285  113  2.6\n",
      "     8   0.310  113  2.7\n",
      "     9   0.055   88  0.9\n",
      "    10   0.122   99  1.5\n",
      "    11   0.193  100  2.0\n",
      "    12   0.249  101  2.3\n",
      "    13   0.296  102  2.7\n",
      "    14   0.333  103  2.8\n",
      "    15   0.361  105  2.9\n",
      "    16   0.384  105  3.0\n",
      "    17   0.402  106  3.1\n",
      "\n"
     ]
    }
   ],
   "source": [
    "# Open and inspect the NOAA Great Lakes Dataset (as a raw text file)\n",
    "with open('e202027712.0.wav', 'r') as file: # 'r' is the mode for reading\n",
    "    noaa_data = file.read()\n",
    "\n",
    "# Print the first 500 characters to get a sense of the unstructured format\n",
    "print(\"First 500 characters of NOAA data:\\n\")\n",
    "print(noaa_data[:500])"
   ]
  },
  {
   "cell_type": "code",
   "execution_count": 6,
   "metadata": {},
   "outputs": [
    {
     "name": "stdout",
     "output_type": "stream",
     "text": [
      "\n",
      "First 10 lines of NOAA data:\n",
      "\n",
      "['2020 277 13     /glcfs/bathy/erie2km.dat       WAVES                  6436', '     1   0.121  119  1.7', '     2   0.174  124  2.0', '     3   0.079   98  1.2', '     4   0.153  103  1.9', '     5   0.212  114  2.3', '     6   0.252  117  2.5', '     7   0.285  113  2.6', '     8   0.310  113  2.7', '     9   0.055   88  0.9']\n"
     ]
    }
   ],
   "source": [
    "# Split the data into lines to understand its layout (each line represents some data)\n",
    "noaa_lines = noaa_data.split('\\n')\n",
    "\n",
    "# Show the first few lines\n",
    "print(\"\\nFirst 10 lines of NOAA data:\\n\")\n",
    "print(noaa_lines[:10])"
   ]
  },
  {
   "cell_type": "markdown",
   "metadata": {},
   "source": [
    "### What We Learned from Inspecting the Raw Data:\n",
    "- **First 500 characters**: By printing the first 500 characters, we got an initial understanding of how the data is organized. We saw that the data appears as text with no clear structure, possibly containing numbers, labels, or other forms of information.\n",
    "  \n",
    "- **Lines of Data**: After splitting the data into lines, we saw that each line might represent a different piece of information. This gave us a better idea of how to start parsing and processing the data.\n",
    "\n",
    "Understanding this raw data format is critical before we start cleaning or structuring it. It helps us decide what techniques or functions to use for extracting valuable information."
   ]
  },
  {
   "cell_type": "markdown",
   "metadata": {},
   "source": [
    "### Step 2: Inspecting Specific Lines of the NOAA Data\n",
    "Now that we have a basic understanding of the raw data, we’ll inspect specific parts of the dataset to further understand its structure.\n",
    "\n",
    "In this step, we will:\n",
    "1. Look at a few lines of data (e.g., lines 6430 to 6445) to explore different sections of the file.\n",
    "2. This deeper inspection helps us understand if there are patterns or certain lines that contain useful information.\n",
    "\n",
    "This step is important because unstructured data often has meaningful patterns hidden in certain sections, and identifying those can guide us in the data extraction process."
   ]
  },
  {
   "cell_type": "code",
   "execution_count": 7,
   "metadata": {},
   "outputs": [
    {
     "name": "stdout",
     "output_type": "stream",
     "text": [
      "\n",
      "Lines 6430-6445 from NOAA data:\n",
      "\n",
      "['  6430   0.100  162  1.4', '  6431   0.103  143  1.5', '  6432   0.096  121  1.4', '  6433   0.062  173  1.1', '  6434   0.067  158  1.1', '  6435   0.053  153  1.0', '  6436   0.050  146  1.0', '2020 277 14     /glcfs/bathy/erie2km.dat       WAVES                  6436', '     1   0.078   89  1.1', '     2   0.113  102  1.5', '     3   0.093   67  1.2', '     4   0.118   78  1.4', '     5   0.139   91  1.5', '     6   0.162   97  1.7', '     7   0.194  101  1.9']\n"
     ]
    }
   ],
   "source": [
    "# Show lines around a specific index (e.g., line 6430) to further inspect the data structure\n",
    "print(\"\\nLines 6430-6445 from NOAA data:\\n\")\n",
    "print(noaa_lines[6430:6445])"
   ]
  },
  {
   "cell_type": "markdown",
   "metadata": {},
   "source": [
    "### What We Learned from Specific Lines:\n",
    "- **Lines 6430-6445**: By inspecting these specific lines, we can start to see patterns or hints about the structure of the data. For instance, some lines might contain comma-separated values, while others might contain descriptive text or irrelevant information.\n",
    "  \n",
    "- **Why is this important?**: Unstructured data isn’t always uniform, meaning different sections of the file can contain different types of information. Identifying patterns in specific lines helps us decide which parts of the data are useful and how to clean or parse it.\n",
    "\n",
    "This understanding will be helpful when we try to extract and clean the data."
   ]
  },
  {
   "cell_type": "markdown",
   "metadata": {},
   "source": [
    "### Step 3: Extracting and Structuring the NOAA Data\n",
    "Now that we have a clearer idea of the NOAA data format, we can proceed to extract meaningful information. The data follows a consistent structure where each line contains an index followed by three numerical values.\n",
    "\n",
    "In this step, we will:\n",
    "1. Extract these values by splitting the lines based on spaces.\n",
    "2. Store the extracted data in a structured format (like rows and columns).\n",
    "3. This will allow us to analyze the data more easily in subsequent steps."
   ]
  },
  {
   "cell_type": "code",
   "execution_count": 10,
   "metadata": {},
   "outputs": [
    {
     "name": "stdout",
     "output_type": "stream",
     "text": [
      "[1, 0.121, 119, 1.7]\n",
      "[2, 0.174, 124, 2.0]\n",
      "[3, 0.079, 98, 1.2]\n",
      "[4, 0.153, 103, 1.9]\n",
      "[5, 0.212, 114, 2.3]\n"
     ]
    }
   ],
   "source": [
    "# Split the NOAA data into lines\n",
    "noaa_lines = noaa_data.split('\\n')\n",
    "\n",
    "# Extract the relevant structured data\n",
    "structured_data = []\n",
    "for line in noaa_lines:\n",
    "    parts = line.split()\n",
    "    # Check if the line contains valid data (should have 4 parts: index and 3 values)\n",
    "    if len(parts) == 4 and parts[0].isdigit():\n",
    "        structured_data.append([int(parts[0]), float(parts[1]), int(parts[2]), float(parts[3])])\n",
    "\n",
    "# Show the first 5 rows of structured data\n",
    "for row in structured_data[:5]:\n",
    "    print(row)"
   ]
  },
  {
   "cell_type": "markdown",
   "metadata": {},
   "source": [
    "### What We Learned from Extracting the Data:\n",
    "- **Structured Data**: We successfully extracted the numerical values from each line of the NOAA dataset and stored them in a structured format (rows and columns).\n",
    "- Each row now contains four pieces of information: an index, followed by three numerical values. This format makes it easier to analyze or visualize the data.\n",
    "\n",
    "### Why Structuring Data Matters:\n",
    "Handling unstructured data often requires transforming it into a format that can be used for analysis. By converting the raw NOAA data into a structured format, we can now start performing statistical analysis, visualizations, or further cleaning."
   ]
  },
  {
   "cell_type": "markdown",
   "metadata": {},
   "source": [
    "<a id='section3'></a>\n",
    "## 3. Bicycle Counts Dataset - Temporal Analysis\n",
    "In this section, we will explore how data can change over time using the Bicycle Counts dataset. This introduces the concept of temporality in EDA, which is crucial for analyzing time-series data.\n",
    "\n",
    "### Understanding Temporality in Data\n",
    "The **Bicycle Counts dataset** provides an opportunity to explore **temporality**, which refers to how data is situated in time and how it changes over a period.\n",
    "\n",
    "In time-series data like this, understanding trends and patterns over time is crucial for making predictions and drawing insights.\n",
    "\n",
    "In this section, we will:\n",
    "1. Load and inspect the Bicycle Counts dataset.\n",
    "2. Parse the time component of the data (e.g., dates).\n",
    "3. Visualize how the bicycle traffic fluctuates over time.\n",
    "4. Identify any trends or patterns in the data that may be useful for future analysis.\n",
    "\n",
    "This is important because time-series analysis is commonly used in fields such as traffic management, climate studies, and sales forecasting."
   ]
  },
  {
   "cell_type": "code",
   "execution_count": 11,
   "metadata": {},
   "outputs": [
    {
     "name": "stderr",
     "output_type": "stream",
     "text": [
      "/var/folders/m2/g6f50pc937n2k89_w_2jfbvc0000gn/T/ipykernel_84734/528622773.py:8: UserWarning: Could not infer format, so each element will be parsed individually, falling back to `dateutil`. To ensure parsing is consistent and as-expected, please specify a format.\n",
      "  bike_count['Date'] = pd.to_datetime(bike_count['Date'])\n"
     ]
    },
    {
     "data": {
      "text/html": [
       "<div>\n",
       "<style scoped>\n",
       "    .dataframe tbody tr th:only-of-type {\n",
       "        vertical-align: middle;\n",
       "    }\n",
       "\n",
       "    .dataframe tbody tr th {\n",
       "        vertical-align: top;\n",
       "    }\n",
       "\n",
       "    .dataframe thead th {\n",
       "        text-align: right;\n",
       "    }\n",
       "</style>\n",
       "<table border=\"1\" class=\"dataframe\">\n",
       "  <thead>\n",
       "    <tr style=\"text-align: right;\">\n",
       "      <th></th>\n",
       "      <th>Date</th>\n",
       "      <th>Fremont Bridge West Sidewalk</th>\n",
       "      <th>Fremont Bridge East Sidewalk</th>\n",
       "    </tr>\n",
       "  </thead>\n",
       "  <tbody>\n",
       "    <tr>\n",
       "      <th>0</th>\n",
       "      <td>2012-10-03 00:00:00</td>\n",
       "      <td>9.0</td>\n",
       "      <td>4.0</td>\n",
       "    </tr>\n",
       "    <tr>\n",
       "      <th>1</th>\n",
       "      <td>2012-10-03 01:00:00</td>\n",
       "      <td>6.0</td>\n",
       "      <td>4.0</td>\n",
       "    </tr>\n",
       "    <tr>\n",
       "      <th>2</th>\n",
       "      <td>2012-10-03 02:00:00</td>\n",
       "      <td>1.0</td>\n",
       "      <td>1.0</td>\n",
       "    </tr>\n",
       "    <tr>\n",
       "      <th>3</th>\n",
       "      <td>2012-10-03 03:00:00</td>\n",
       "      <td>3.0</td>\n",
       "      <td>2.0</td>\n",
       "    </tr>\n",
       "    <tr>\n",
       "      <th>4</th>\n",
       "      <td>2012-10-03 04:00:00</td>\n",
       "      <td>1.0</td>\n",
       "      <td>6.0</td>\n",
       "    </tr>\n",
       "    <tr>\n",
       "      <th>5</th>\n",
       "      <td>2012-10-03 05:00:00</td>\n",
       "      <td>10.0</td>\n",
       "      <td>21.0</td>\n",
       "    </tr>\n",
       "    <tr>\n",
       "      <th>6</th>\n",
       "      <td>2012-10-03 06:00:00</td>\n",
       "      <td>50.0</td>\n",
       "      <td>105.0</td>\n",
       "    </tr>\n",
       "    <tr>\n",
       "      <th>7</th>\n",
       "      <td>2012-10-03 07:00:00</td>\n",
       "      <td>95.0</td>\n",
       "      <td>257.0</td>\n",
       "    </tr>\n",
       "    <tr>\n",
       "      <th>8</th>\n",
       "      <td>2012-10-03 08:00:00</td>\n",
       "      <td>146.0</td>\n",
       "      <td>291.0</td>\n",
       "    </tr>\n",
       "    <tr>\n",
       "      <th>9</th>\n",
       "      <td>2012-10-03 09:00:00</td>\n",
       "      <td>104.0</td>\n",
       "      <td>172.0</td>\n",
       "    </tr>\n",
       "  </tbody>\n",
       "</table>\n",
       "</div>"
      ],
      "text/plain": [
       "                 Date  Fremont Bridge West Sidewalk  \\\n",
       "0 2012-10-03 00:00:00                           9.0   \n",
       "1 2012-10-03 01:00:00                           6.0   \n",
       "2 2012-10-03 02:00:00                           1.0   \n",
       "3 2012-10-03 03:00:00                           3.0   \n",
       "4 2012-10-03 04:00:00                           1.0   \n",
       "5 2012-10-03 05:00:00                          10.0   \n",
       "6 2012-10-03 06:00:00                          50.0   \n",
       "7 2012-10-03 07:00:00                          95.0   \n",
       "8 2012-10-03 08:00:00                         146.0   \n",
       "9 2012-10-03 09:00:00                         104.0   \n",
       "\n",
       "   Fremont Bridge East Sidewalk  \n",
       "0                           4.0  \n",
       "1                           4.0  \n",
       "2                           1.0  \n",
       "3                           2.0  \n",
       "4                           6.0  \n",
       "5                          21.0  \n",
       "6                         105.0  \n",
       "7                         257.0  \n",
       "8                         291.0  \n",
       "9                         172.0  "
      ]
     },
     "execution_count": 11,
     "metadata": {},
     "output_type": "execute_result"
    }
   ],
   "source": [
    "import pandas as pd\n",
    "import matplotlib.pyplot as plt\n",
    "\n",
    "# Load the Bicycle Counts dataset\n",
    "bike_count = pd.read_csv('bike_traffic_data.csv')\n",
    "\n",
    "# Convert the 'Date' column to datetime format\n",
    "bike_count['Date'] = pd.to_datetime(bike_count['Date'])\n",
    "\n",
    "# Preview the dataset\n",
    "bike_count.head(10)"
   ]
  },
  {
   "cell_type": "code",
   "execution_count": 15,
   "metadata": {},
   "outputs": [
    {
     "data": {
      "image/png": "[encoded data removed]",
      "text/plain": [
       "<Figure size 1200x600 with 1 Axes>"
      ]
     },
     "metadata": {},
     "output_type": "display_data"
    }
   ],
   "source": [
    "# Plot the bicycle counts over time\n",
    "plt.figure(figsize=(12, 6))\n",
    "plt.plot(bike_count['Date'], bike_count['Fremont Bridge West Sidewalk'], label='West Sidewalk', color='blue')\n",
    "plt.plot(bike_count['Date'], bike_count['Fremont Bridge East Sidewalk'], label='East Sidewalk', color='green')\n",
    "plt.title('Bicycle Counts Over Time')\n",
    "plt.xlabel('Date')\n",
    "plt.ylabel('Bicycle Count')\n",
    "plt.legend()\n",
    "plt.show()"
   ]
  },
  {
   "cell_type": "markdown",
   "metadata": {},
   "source": [
    "### Insights from the Temporal Analysis:\n",
    "- **Fluctuations in Bicycle Counts**: From the plot, we can see how the number of bicycles fluctuates over time. There may be periods with more traffic, potentially corresponding to specific seasons, holidays, or weather conditions.\n",
    "  \n",
    "- **East vs. West Sidewalk Comparison**: The visualization allows us to compare the bicycle traffic on both sidewalks, revealing any differences in usage patterns.\n",
    "\n",
    "### Why Temporality Matters:\n",
    "Understanding temporality is key for making time-based predictions and identifying trends in data. In the context of bicycle counts, analyzing how traffic changes over time can inform traffic management decisions, identify peak hours for commuting, or highlight the impact of external factors like weather or events.\n",
    "\n",
    "Time-series data is used across many fields, from predicting stock prices to monitoring environmental changes, making it an essential skill in data science."
   ]
  }
 ],
 "metadata": {
  "kernelspec": {
   "display_name": "Python 3 (ipykernel)",
   "language": "python",
   "name": "python3"
  },
  "language_info": {
   "codemirror_mode": {
    "name": "ipython",
    "version": 3
   },
   "file_extension": ".py",
   "mimetype": "text/x-python",
   "name": "python",
   "nbconvert_exporter": "python",
   "pygments_lexer": "ipython3",
   "version": "3.9.6"
  }
 },
 "nbformat": 4,
 "nbformat_minor": 4
}
