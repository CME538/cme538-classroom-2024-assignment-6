{
 "cells": [
  {
   "cell_type": "markdown",
   "metadata": {
    "pycharm": {
     "name": "#%% md\n"
    }
   },
   "source": [
    "# CME538 - Introduction to Data Science\n",
    "## Lecture 3.2 - Importing Data from Different Sources\n",
    "\n",
    "### Lecture Structure\n",
    "1. [Delimited Formats](#section1)\n",
    "2. [Loosely Formatted Text](#section2)\n",
    "3. [Hierarchical Formats (JSON)](#section3)\n",
    "4. [Hierarchical Formats (XML)](#section4)\n",
    "5. [Binary Formats (HDF5)](#section5)\n",
    "6. [Web Technologies (HTTP)](#section6)\n",
    "7. [Web Technologies (REST API)](#section7)\n",
    "8. [Web Technologies (HTML)](#section8)\n",
    "9. [Web Technologies (Web Scraping)](#section9)"
   ]
  },
  {
   "cell_type": "markdown",
   "metadata": {
    "pycharm": {
     "name": "#%% md\n"
    }
   },
   "source": [
    "## Setup Notebook"
   ]
  },
  {
   "cell_type": "code",
   "execution_count": 40,
   "metadata": {
    "pycharm": {
     "name": "#%%\n"
    }
   },
   "outputs": [],
   "source": [
    "# Import 3rd party libraries\n",
    "import os\n",
    "import json \n",
    "import requests\n",
    "import numpy as np\n",
    "import pandas as pd\n",
    "import seaborn as sns\n",
    "from bs4 import BeautifulSoup\n",
    "import matplotlib.pyplot as plt\n",
    "import xml.etree.ElementTree as ET\n",
    "\n",
    "# Configure Notebook\n",
    "%matplotlib inline\n",
    "plt.style.use('fivethirtyeight')\n",
    "sns.set_context(\"notebook\")"
   ]
  },
  {
   "cell_type": "markdown",
   "metadata": {
    "pycharm": {
     "name": "#%% md\n"
    }
   },
   "source": [
    "### Install and Import h5py"
   ]
  },
  {
   "cell_type": "code",
   "execution_count": 41,
   "metadata": {
    "pycharm": {
     "name": "#%%\n"
    }
   },
   "outputs": [
    {
     "name": "stdout",
     "output_type": "stream",
     "text": [
      "Requirement already satisfied: h5py in /Users/ali/opt/anaconda3/envs/cme538/lib/python3.12/site-packages (3.11.0)\n",
      "Requirement already satisfied: numpy>=1.17.3 in /Users/ali/opt/anaconda3/envs/cme538/lib/python3.12/site-packages (from h5py) (2.1.1)\n",
      "Note: you may need to restart the kernel to use updated packages.\n"
     ]
    }
   ],
   "source": [
    "%pip install h5py"
   ]
  },
  {
   "cell_type": "code",
   "execution_count": 42,
   "metadata": {
    "pycharm": {
     "name": "#%%\n"
    }
   },
   "outputs": [],
   "source": [
    "import h5py"
   ]
  },
  {
   "cell_type": "markdown",
   "metadata": {
    "pycharm": {
     "name": "#%% md\n"
    }
   },
   "source": [
    "<a id='section1'></a>\n",
    "## 1. Delimited Formats\n",
    "Text files are human readable, in contrast to binary files, and can be opened using any text editor (Notepad, Sublime, etc.). Tabular (structured) data that is stored as a text file is often delimited using commas `,`, tabs `\\t`, spaces ` `, or pipes `|`. As long as its consistent, any character can be used to delimit a text file. These characters are used to delimit the different columns (fields) in a table. And rows are delimited by a `\\n` at the end of each row.\n",
    "\n",
    "### Comma-Separated Values (CSV)\n",
    "Let's try opening a `.csv`. This file contains 38765 rows of purchase orders from people at a grocery store. "
   ]
  },
  {
   "cell_type": "code",
   "execution_count": 43,
   "metadata": {
    "pycharm": {
     "name": "#%%\n"
    }
   },
   "outputs": [
    {
     "data": {
      "text/plain": [
       "'Member_number,Date,itemDescription\\n1808,21-07-2015,tropical fruit\\n2552,05-01-2015,whole milk\\n2300,19-09-2015,pip fruit\\n1187,12-12-2015,other vegetables\\n3037,01-02-2015,whole milk\\n4941,14-02-2015,rolls/buns\\n4501,08-05-2015,other vegetables\\n3803,23-12-2015,pot plants\\n2762,20-03-2015,whole milk\\n4119,12-02-2015,tropical fruit\\n1340,24-02-2015,citrus fruit\\n2193,14-04-2015,beef\\n1997,21-07-2015,frankfurter\\n4546,03-09-2015,chicken\\n4736,21-07-2015,butter\\n1959,30-03-2015,fruit/vegetable juice\\n1974,03-05-2015,packaged fruit/vegetables\\n2421,02-09-2015,chocolate\\n1513,03-08-2015,specialty bar\\n1905,07-07-2015,other vegetables\\n2810,08-09-2015,butter milk\\n2867,12-11-2015,whole milk\\n3962,18-09-2015,tropical fruit\\n1088,30-11-2015,tropical fruit\\n4976,17-07-2015,bottled water\\n4056,12-06-2015,yogurt\\n3611,13-02-2015,sausage\\n1420,14-01-2015,other vegetables\\n4286,08-03-2015,brown bread\\n4918,27-01-2015,yogurt\\n4783,22-10-2015,hamburger meat\\n3709,26-10-2015,root vegetables\\n4289,08-10-2015,pork\\n1559,03-10-2015,beef'"
      ]
     },
     "execution_count": 43,
     "metadata": {},
     "output_type": "execute_result"
    }
   ],
   "source": [
    "groceries = open('groceries_dataset.csv', 'r')\n",
    "groceries.read()[0:1000]"
   ]
  },
  {
   "cell_type": "code",
   "execution_count": 44,
   "metadata": {
    "pycharm": {
     "name": "#%%\n"
    }
   },
   "outputs": [
    {
     "data": {
      "text/html": [
       "<div>\n",
       "<style scoped>\n",
       "    .dataframe tbody tr th:only-of-type {\n",
       "        vertical-align: middle;\n",
       "    }\n",
       "\n",
       "    .dataframe tbody tr th {\n",
       "        vertical-align: top;\n",
       "    }\n",
       "\n",
       "    .dataframe thead th {\n",
       "        text-align: right;\n",
       "    }\n",
       "</style>\n",
       "<table border=\"1\" class=\"dataframe\">\n",
       "  <thead>\n",
       "    <tr style=\"text-align: right;\">\n",
       "      <th></th>\n",
       "      <th>Member_number</th>\n",
       "      <th>Date</th>\n",
       "      <th>itemDescription</th>\n",
       "    </tr>\n",
       "  </thead>\n",
       "  <tbody>\n",
       "    <tr>\n",
       "      <th>0</th>\n",
       "      <td>1808</td>\n",
       "      <td>21-07-2015</td>\n",
       "      <td>tropical fruit</td>\n",
       "    </tr>\n",
       "    <tr>\n",
       "      <th>1</th>\n",
       "      <td>2552</td>\n",
       "      <td>05-01-2015</td>\n",
       "      <td>whole milk</td>\n",
       "    </tr>\n",
       "    <tr>\n",
       "      <th>2</th>\n",
       "      <td>2300</td>\n",
       "      <td>19-09-2015</td>\n",
       "      <td>pip fruit</td>\n",
       "    </tr>\n",
       "    <tr>\n",
       "      <th>3</th>\n",
       "      <td>1187</td>\n",
       "      <td>12-12-2015</td>\n",
       "      <td>other vegetables</td>\n",
       "    </tr>\n",
       "    <tr>\n",
       "      <th>4</th>\n",
       "      <td>3037</td>\n",
       "      <td>01-02-2015</td>\n",
       "      <td>whole milk</td>\n",
       "    </tr>\n",
       "    <tr>\n",
       "      <th>5</th>\n",
       "      <td>4941</td>\n",
       "      <td>14-02-2015</td>\n",
       "      <td>rolls/buns</td>\n",
       "    </tr>\n",
       "    <tr>\n",
       "      <th>6</th>\n",
       "      <td>4501</td>\n",
       "      <td>08-05-2015</td>\n",
       "      <td>other vegetables</td>\n",
       "    </tr>\n",
       "    <tr>\n",
       "      <th>7</th>\n",
       "      <td>3803</td>\n",
       "      <td>23-12-2015</td>\n",
       "      <td>pot plants</td>\n",
       "    </tr>\n",
       "    <tr>\n",
       "      <th>8</th>\n",
       "      <td>2762</td>\n",
       "      <td>20-03-2015</td>\n",
       "      <td>whole milk</td>\n",
       "    </tr>\n",
       "    <tr>\n",
       "      <th>9</th>\n",
       "      <td>4119</td>\n",
       "      <td>12-02-2015</td>\n",
       "      <td>tropical fruit</td>\n",
       "    </tr>\n",
       "  </tbody>\n",
       "</table>\n",
       "</div>"
      ],
      "text/plain": [
       "   Member_number        Date   itemDescription\n",
       "0           1808  21-07-2015    tropical fruit\n",
       "1           2552  05-01-2015        whole milk\n",
       "2           2300  19-09-2015         pip fruit\n",
       "3           1187  12-12-2015  other vegetables\n",
       "4           3037  01-02-2015        whole milk\n",
       "5           4941  14-02-2015        rolls/buns\n",
       "6           4501  08-05-2015  other vegetables\n",
       "7           3803  23-12-2015        pot plants\n",
       "8           2762  20-03-2015        whole milk\n",
       "9           4119  12-02-2015    tropical fruit"
      ]
     },
     "execution_count": 44,
     "metadata": {},
     "output_type": "execute_result"
    }
   ],
   "source": [
    "groceries = pd.read_csv('groceries_dataset.csv')\n",
    "groceries.head(10)"
   ]
  },
  {
   "cell_type": "markdown",
   "metadata": {
    "pycharm": {
     "name": "#%% md\n"
    }
   },
   "source": [
    "### Tab-Separated Values (TSV)\n",
    "Let's try opening a `.tsv`. "
   ]
  },
  {
   "cell_type": "code",
   "execution_count": 45,
   "metadata": {
    "pycharm": {
     "name": "#%%\n"
    }
   },
   "outputs": [
    {
     "data": {
      "text/plain": [
       "'Member_number\\tDate\\titemDescription\\n1808\\t21-07-2015\\ttropical fruit\\n2552\\t05-01-2015\\twhole milk\\n2300\\t19-09-2015\\tpip fruit\\n1187\\t12-12-2015\\tother vegetables\\n3037\\t01-02-2015\\twhole milk\\n4941\\t14-02-2015\\trolls/buns\\n4501\\t08-05-2015\\tother vegetables\\n3803\\t23-12-2015\\tpot plants\\n2762\\t20-03-2015\\twhole milk\\n4119\\t12-02-2015\\ttropical fruit\\n1340\\t24-02-2015\\tcitrus fruit\\n2193\\t14-04-2015\\tbeef\\n1997\\t21-07-2015\\tfrankfurter\\n4546\\t03-09-2015\\tchicken\\n4736\\t21-07-2015\\tbutter\\n1959\\t30-03-2015\\tfruit/vegetable juice\\n1974\\t03-05-2015\\tpackaged fruit/vegetables\\n2421\\t02-09-2015\\tchocolate\\n1513\\t03-08-2015\\tspecialty bar\\n1905\\t07-07-2015\\tother vegetables\\n2810\\t08-09-2015\\tbutter milk\\n2867\\t12-11-2015\\twhole milk\\n3962\\t18-09-2015\\ttropical fruit\\n1088\\t30-11-2015\\ttropical fruit\\n4976\\t17-07-2015\\tbottled water\\n4056\\t12-06-2015\\tyogurt\\n3611\\t13-02-2015\\tsausage\\n1420\\t14-01-2015\\tother vegetables\\n4286\\t08-03-2015\\tbrown bread\\n4918\\t27-01-2015\\tyogurt\\n4783\\t22-10-2015\\thamburger meat\\n3709\\t26-10-2015\\troot vegetables\\n4289\\t08-10-2015\\tpork\\n1559\\t03-10-2015\\tbeef'"
      ]
     },
     "execution_count": 45,
     "metadata": {},
     "output_type": "execute_result"
    }
   ],
   "source": [
    "groceries = open('groceries_dataset.tsv', 'r')\n",
    "groceries.read()[0:1000]"
   ]
  },
  {
   "cell_type": "code",
   "execution_count": 46,
   "metadata": {
    "pycharm": {
     "name": "#%%\n"
    }
   },
   "outputs": [
    {
     "data": {
      "text/html": [
       "<div>\n",
       "<style scoped>\n",
       "    .dataframe tbody tr th:only-of-type {\n",
       "        vertical-align: middle;\n",
       "    }\n",
       "\n",
       "    .dataframe tbody tr th {\n",
       "        vertical-align: top;\n",
       "    }\n",
       "\n",
       "    .dataframe thead th {\n",
       "        text-align: right;\n",
       "    }\n",
       "</style>\n",
       "<table border=\"1\" class=\"dataframe\">\n",
       "  <thead>\n",
       "    <tr style=\"text-align: right;\">\n",
       "      <th></th>\n",
       "      <th>Member_number</th>\n",
       "      <th>Date</th>\n",
       "      <th>itemDescription</th>\n",
       "    </tr>\n",
       "  </thead>\n",
       "  <tbody>\n",
       "    <tr>\n",
       "      <th>0</th>\n",
       "      <td>1808</td>\n",
       "      <td>21-07-2015</td>\n",
       "      <td>tropical fruit</td>\n",
       "    </tr>\n",
       "    <tr>\n",
       "      <th>1</th>\n",
       "      <td>2552</td>\n",
       "      <td>05-01-2015</td>\n",
       "      <td>whole milk</td>\n",
       "    </tr>\n",
       "    <tr>\n",
       "      <th>2</th>\n",
       "      <td>2300</td>\n",
       "      <td>19-09-2015</td>\n",
       "      <td>pip fruit</td>\n",
       "    </tr>\n",
       "    <tr>\n",
       "      <th>3</th>\n",
       "      <td>1187</td>\n",
       "      <td>12-12-2015</td>\n",
       "      <td>other vegetables</td>\n",
       "    </tr>\n",
       "    <tr>\n",
       "      <th>4</th>\n",
       "      <td>3037</td>\n",
       "      <td>01-02-2015</td>\n",
       "      <td>whole milk</td>\n",
       "    </tr>\n",
       "    <tr>\n",
       "      <th>5</th>\n",
       "      <td>4941</td>\n",
       "      <td>14-02-2015</td>\n",
       "      <td>rolls/buns</td>\n",
       "    </tr>\n",
       "    <tr>\n",
       "      <th>6</th>\n",
       "      <td>4501</td>\n",
       "      <td>08-05-2015</td>\n",
       "      <td>other vegetables</td>\n",
       "    </tr>\n",
       "    <tr>\n",
       "      <th>7</th>\n",
       "      <td>3803</td>\n",
       "      <td>23-12-2015</td>\n",
       "      <td>pot plants</td>\n",
       "    </tr>\n",
       "    <tr>\n",
       "      <th>8</th>\n",
       "      <td>2762</td>\n",
       "      <td>20-03-2015</td>\n",
       "      <td>whole milk</td>\n",
       "    </tr>\n",
       "    <tr>\n",
       "      <th>9</th>\n",
       "      <td>4119</td>\n",
       "      <td>12-02-2015</td>\n",
       "      <td>tropical fruit</td>\n",
       "    </tr>\n",
       "  </tbody>\n",
       "</table>\n",
       "</div>"
      ],
      "text/plain": [
       "   Member_number        Date   itemDescription\n",
       "0           1808  21-07-2015    tropical fruit\n",
       "1           2552  05-01-2015        whole milk\n",
       "2           2300  19-09-2015         pip fruit\n",
       "3           1187  12-12-2015  other vegetables\n",
       "4           3037  01-02-2015        whole milk\n",
       "5           4941  14-02-2015        rolls/buns\n",
       "6           4501  08-05-2015  other vegetables\n",
       "7           3803  23-12-2015        pot plants\n",
       "8           2762  20-03-2015        whole milk\n",
       "9           4119  12-02-2015    tropical fruit"
      ]
     },
     "execution_count": 46,
     "metadata": {},
     "output_type": "execute_result"
    }
   ],
   "source": [
    "groceries = pd.read_csv('groceries_dataset.tsv', sep='\\t')\n",
    "groceries.head(10)"
   ]
  },
  {
   "cell_type": "markdown",
   "metadata": {
    "pycharm": {
     "name": "#%% md\n"
    }
   },
   "source": [
    "### Pipe-Separated Values (PSV) ??\n",
    "Let's try opening a `.psv` (I just made this up). "
   ]
  },
  {
   "cell_type": "code",
   "execution_count": 47,
   "metadata": {
    "pycharm": {
     "name": "#%%\n"
    }
   },
   "outputs": [
    {
     "data": {
      "text/plain": [
       "'Member_number|Date|itemDescription\\n1808|21-07-2015|tropical fruit\\n2552|05-01-2015|whole milk\\n2300|19-09-2015|pip fruit\\n1187|12-12-2015|other vegetables\\n3037|01-02-2015|whole milk\\n4941|14-02-2015|rolls/buns\\n4501|08-05-2015|other vegetables\\n3803|23-12-2015|pot plants\\n2762|20-03-2015|whole milk\\n4119|12-02-2015|tropical fruit\\n1340|24-02-2015|citrus fruit\\n2193|14-04-2015|beef\\n1997|21-07-2015|frankfurter\\n4546|03-09-2015|chicken\\n4736|21-07-2015|butter\\n1959|30-03-2015|fruit/vegetable juice\\n1974|03-05-2015|packaged fruit/vegetables\\n2421|02-09-2015|chocolate\\n1513|03-08-2015|specialty bar\\n1905|07-07-2015|other vegetables\\n2810|08-09-2015|butter milk\\n2867|12-11-2015|whole milk\\n3962|18-09-2015|tropical fruit\\n1088|30-11-2015|tropical fruit\\n4976|17-07-2015|bottled water\\n4056|12-06-2015|yogurt\\n3611|13-02-2015|sausage\\n1420|14-01-2015|other vegetables\\n4286|08-03-2015|brown bread\\n4918|27-01-2015|yogurt\\n4783|22-10-2015|hamburger meat\\n3709|26-10-2015|root vegetables\\n4289|08-10-2015|pork\\n1559|03-10-2015|beef'"
      ]
     },
     "execution_count": 47,
     "metadata": {},
     "output_type": "execute_result"
    }
   ],
   "source": [
    "groceries = open('groceries_dataset.psv', 'r')\n",
    "groceries.read()[0:1000]"
   ]
  },
  {
   "cell_type": "code",
   "execution_count": 48,
   "metadata": {
    "pycharm": {
     "name": "#%%\n"
    }
   },
   "outputs": [
    {
     "data": {
      "text/html": [
       "<div>\n",
       "<style scoped>\n",
       "    .dataframe tbody tr th:only-of-type {\n",
       "        vertical-align: middle;\n",
       "    }\n",
       "\n",
       "    .dataframe tbody tr th {\n",
       "        vertical-align: top;\n",
       "    }\n",
       "\n",
       "    .dataframe thead th {\n",
       "        text-align: right;\n",
       "    }\n",
       "</style>\n",
       "<table border=\"1\" class=\"dataframe\">\n",
       "  <thead>\n",
       "    <tr style=\"text-align: right;\">\n",
       "      <th></th>\n",
       "      <th>Member_number</th>\n",
       "      <th>Date</th>\n",
       "      <th>itemDescription</th>\n",
       "    </tr>\n",
       "  </thead>\n",
       "  <tbody>\n",
       "    <tr>\n",
       "      <th>0</th>\n",
       "      <td>1808</td>\n",
       "      <td>21-07-2015</td>\n",
       "      <td>tropical fruit</td>\n",
       "    </tr>\n",
       "    <tr>\n",
       "      <th>1</th>\n",
       "      <td>2552</td>\n",
       "      <td>05-01-2015</td>\n",
       "      <td>whole milk</td>\n",
       "    </tr>\n",
       "    <tr>\n",
       "      <th>2</th>\n",
       "      <td>2300</td>\n",
       "      <td>19-09-2015</td>\n",
       "      <td>pip fruit</td>\n",
       "    </tr>\n",
       "    <tr>\n",
       "      <th>3</th>\n",
       "      <td>1187</td>\n",
       "      <td>12-12-2015</td>\n",
       "      <td>other vegetables</td>\n",
       "    </tr>\n",
       "    <tr>\n",
       "      <th>4</th>\n",
       "      <td>3037</td>\n",
       "      <td>01-02-2015</td>\n",
       "      <td>whole milk</td>\n",
       "    </tr>\n",
       "    <tr>\n",
       "      <th>5</th>\n",
       "      <td>4941</td>\n",
       "      <td>14-02-2015</td>\n",
       "      <td>rolls/buns</td>\n",
       "    </tr>\n",
       "    <tr>\n",
       "      <th>6</th>\n",
       "      <td>4501</td>\n",
       "      <td>08-05-2015</td>\n",
       "      <td>other vegetables</td>\n",
       "    </tr>\n",
       "    <tr>\n",
       "      <th>7</th>\n",
       "      <td>3803</td>\n",
       "      <td>23-12-2015</td>\n",
       "      <td>pot plants</td>\n",
       "    </tr>\n",
       "    <tr>\n",
       "      <th>8</th>\n",
       "      <td>2762</td>\n",
       "      <td>20-03-2015</td>\n",
       "      <td>whole milk</td>\n",
       "    </tr>\n",
       "    <tr>\n",
       "      <th>9</th>\n",
       "      <td>4119</td>\n",
       "      <td>12-02-2015</td>\n",
       "      <td>tropical fruit</td>\n",
       "    </tr>\n",
       "  </tbody>\n",
       "</table>\n",
       "</div>"
      ],
      "text/plain": [
       "   Member_number        Date   itemDescription\n",
       "0           1808  21-07-2015    tropical fruit\n",
       "1           2552  05-01-2015        whole milk\n",
       "2           2300  19-09-2015         pip fruit\n",
       "3           1187  12-12-2015  other vegetables\n",
       "4           3037  01-02-2015        whole milk\n",
       "5           4941  14-02-2015        rolls/buns\n",
       "6           4501  08-05-2015  other vegetables\n",
       "7           3803  23-12-2015        pot plants\n",
       "8           2762  20-03-2015        whole milk\n",
       "9           4119  12-02-2015    tropical fruit"
      ]
     },
     "execution_count": 48,
     "metadata": {},
     "output_type": "execute_result"
    }
   ],
   "source": [
    "groceries = pd.read_csv('groceries_dataset.psv', sep='|')\n",
    "groceries.head(10)"
   ]
  },
  {
   "cell_type": "markdown",
   "metadata": {
    "pycharm": {
     "name": "#%% md\n"
    }
   },
   "source": [
    "Most of the time, you'll be dealing with `.csv` files when working with tabular files."
   ]
  },
  {
   "cell_type": "markdown",
   "metadata": {
    "pycharm": {
     "name": "#%% md\n"
    }
   },
   "source": [
    "<a id='section2'></a>\n",
    "## 2. Loosely Formatted Text\n",
    "The [NOAA - Great Lakes Environmental Research Laboratory](https://www.glerl.noaa.gov/res/glcfs/) (GLERL) dataset contains forecasts and measurements for Ice Cover, Wave Height, Current Direction, Wind Speed, and others. \n",
    "<br>\n",
    "<img src=\"images/noaa.gif\" alt=\"drawing\" width=\"700\"/>\n",
    "<br>\n",
    "The file is human readable, however, it is not tabular and therefore, cannot be easily imported into a Pandas DataFrame. Don't believe me? Let's give it a try.\n",
    "\n",
    "First, let's take a look at the file in a text editor. I recommend using [Sublime](https://www.sublimetext.com/). From the text editor, we can see that the fields seems to be delimited by tabs or spaces so lets used `.read_csv` to import our file."
   ]
  },
  {
   "cell_type": "code",
   "execution_count": 49,
   "metadata": {
    "pycharm": {
     "name": "#%%\n"
    }
   },
   "outputs": [
    {
     "name": "stderr",
     "output_type": "stream",
     "text": [
      "/var/folders/m2/g6f50pc937n2k89_w_2jfbvc0000gn/T/ipykernel_34600/3181154510.py:1: FutureWarning: The 'delim_whitespace' keyword in pd.read_csv is deprecated and will be removed in a future version. Use ``sep='\\s+'`` instead\n",
      "  noaa = pd.read_csv('e202027712.0.wav', delim_whitespace=True)\n"
     ]
    },
    {
     "data": {
      "text/html": [
       "<div>\n",
       "<style scoped>\n",
       "    .dataframe tbody tr th:only-of-type {\n",
       "        vertical-align: middle;\n",
       "    }\n",
       "\n",
       "    .dataframe tbody tr th {\n",
       "        vertical-align: top;\n",
       "    }\n",
       "\n",
       "    .dataframe thead th {\n",
       "        text-align: right;\n",
       "    }\n",
       "</style>\n",
       "<table border=\"1\" class=\"dataframe\">\n",
       "  <thead>\n",
       "    <tr style=\"text-align: right;\">\n",
       "      <th></th>\n",
       "      <th>2020</th>\n",
       "      <th>277</th>\n",
       "      <th>13</th>\n",
       "      <th>/glcfs/bathy/erie2km.dat</th>\n",
       "      <th>WAVES</th>\n",
       "      <th>6436</th>\n",
       "    </tr>\n",
       "  </thead>\n",
       "  <tbody>\n",
       "    <tr>\n",
       "      <th>0</th>\n",
       "      <td>1</td>\n",
       "      <td>0.121</td>\n",
       "      <td>119</td>\n",
       "      <td>1.7</td>\n",
       "      <td>NaN</td>\n",
       "      <td>NaN</td>\n",
       "    </tr>\n",
       "    <tr>\n",
       "      <th>1</th>\n",
       "      <td>2</td>\n",
       "      <td>0.174</td>\n",
       "      <td>124</td>\n",
       "      <td>2.0</td>\n",
       "      <td>NaN</td>\n",
       "      <td>NaN</td>\n",
       "    </tr>\n",
       "    <tr>\n",
       "      <th>2</th>\n",
       "      <td>3</td>\n",
       "      <td>0.079</td>\n",
       "      <td>98</td>\n",
       "      <td>1.2</td>\n",
       "      <td>NaN</td>\n",
       "      <td>NaN</td>\n",
       "    </tr>\n",
       "    <tr>\n",
       "      <th>3</th>\n",
       "      <td>4</td>\n",
       "      <td>0.153</td>\n",
       "      <td>103</td>\n",
       "      <td>1.9</td>\n",
       "      <td>NaN</td>\n",
       "      <td>NaN</td>\n",
       "    </tr>\n",
       "    <tr>\n",
       "      <th>4</th>\n",
       "      <td>5</td>\n",
       "      <td>0.212</td>\n",
       "      <td>114</td>\n",
       "      <td>2.3</td>\n",
       "      <td>NaN</td>\n",
       "      <td>NaN</td>\n",
       "    </tr>\n",
       "    <tr>\n",
       "      <th>5</th>\n",
       "      <td>6</td>\n",
       "      <td>0.252</td>\n",
       "      <td>117</td>\n",
       "      <td>2.5</td>\n",
       "      <td>NaN</td>\n",
       "      <td>NaN</td>\n",
       "    </tr>\n",
       "    <tr>\n",
       "      <th>6</th>\n",
       "      <td>7</td>\n",
       "      <td>0.285</td>\n",
       "      <td>113</td>\n",
       "      <td>2.6</td>\n",
       "      <td>NaN</td>\n",
       "      <td>NaN</td>\n",
       "    </tr>\n",
       "    <tr>\n",
       "      <th>7</th>\n",
       "      <td>8</td>\n",
       "      <td>0.310</td>\n",
       "      <td>113</td>\n",
       "      <td>2.7</td>\n",
       "      <td>NaN</td>\n",
       "      <td>NaN</td>\n",
       "    </tr>\n",
       "    <tr>\n",
       "      <th>8</th>\n",
       "      <td>9</td>\n",
       "      <td>0.055</td>\n",
       "      <td>88</td>\n",
       "      <td>0.9</td>\n",
       "      <td>NaN</td>\n",
       "      <td>NaN</td>\n",
       "    </tr>\n",
       "    <tr>\n",
       "      <th>9</th>\n",
       "      <td>10</td>\n",
       "      <td>0.122</td>\n",
       "      <td>99</td>\n",
       "      <td>1.5</td>\n",
       "      <td>NaN</td>\n",
       "      <td>NaN</td>\n",
       "    </tr>\n",
       "  </tbody>\n",
       "</table>\n",
       "</div>"
      ],
      "text/plain": [
       "   2020    277   13 /glcfs/bathy/erie2km.dat WAVES  6436\n",
       "0     1  0.121  119                      1.7   NaN   NaN\n",
       "1     2  0.174  124                      2.0   NaN   NaN\n",
       "2     3  0.079   98                      1.2   NaN   NaN\n",
       "3     4  0.153  103                      1.9   NaN   NaN\n",
       "4     5  0.212  114                      2.3   NaN   NaN\n",
       "5     6  0.252  117                      2.5   NaN   NaN\n",
       "6     7  0.285  113                      2.6   NaN   NaN\n",
       "7     8  0.310  113                      2.7   NaN   NaN\n",
       "8     9  0.055   88                      0.9   NaN   NaN\n",
       "9    10  0.122   99                      1.5   NaN   NaN"
      ]
     },
     "execution_count": 49,
     "metadata": {},
     "output_type": "execute_result"
    }
   ],
   "source": [
    "noaa = pd.read_csv('e202027712.0.wav', delim_whitespace=True)\n",
    "noaa.head(10)"
   ]
  },
  {
   "cell_type": "markdown",
   "metadata": {
    "pycharm": {
     "name": "#%% md\n"
    }
   },
   "source": [
    "Something doesn't look right here. Let's try opening the file using the `open()` function which returns a file object, which has helpful methods (`.read()`, `.readline()`) for reading the content of the file. "
   ]
  },
  {
   "cell_type": "code",
   "execution_count": 50,
   "metadata": {
    "pycharm": {
     "name": "#%%\n"
    }
   },
   "outputs": [
    {
     "name": "stdout",
     "output_type": "stream",
     "text": [
      "<_io.TextIOWrapper name='e202027712.0.wav' mode='r' encoding='utf-8'>\n"
     ]
    }
   ],
   "source": [
    "noaa = open('e202027712.0.wav', 'r')\n",
    "print(noaa)"
   ]
  },
  {
   "cell_type": "markdown",
   "metadata": {
    "pycharm": {
     "name": "#%% md\n"
    }
   },
   "source": [
    "We can see that the `noaa` variable is a file object. The file class hass a method for reading one line of a file."
   ]
  },
  {
   "cell_type": "code",
   "execution_count": 51,
   "metadata": {
    "pycharm": {
     "name": "#%%\n"
    }
   },
   "outputs": [
    {
     "name": "stdout",
     "output_type": "stream",
     "text": [
      "2020 277 13     /glcfs/bathy/erie2km.dat       WAVES                  6436\n",
      "\n"
     ]
    }
   ],
   "source": [
    "print(noaa.readline())"
   ]
  },
  {
   "cell_type": "code",
   "execution_count": 52,
   "metadata": {
    "pycharm": {
     "name": "#%%\n"
    }
   },
   "outputs": [
    {
     "name": "stdout",
     "output_type": "stream",
     "text": [
      "     1   0.121  119  1.7\n",
      "\n"
     ]
    }
   ],
   "source": [
    "print(noaa.readline())"
   ]
  },
  {
   "cell_type": "code",
   "execution_count": 53,
   "metadata": {
    "pycharm": {
     "name": "#%%\n"
    }
   },
   "outputs": [
    {
     "name": "stdout",
     "output_type": "stream",
     "text": [
      "     2   0.174  124  2.0\n",
      "\n"
     ]
    }
   ],
   "source": [
    "print(noaa.readline())"
   ]
  },
  {
   "cell_type": "code",
   "execution_count": 54,
   "metadata": {
    "pycharm": {
     "name": "#%%\n"
    }
   },
   "outputs": [
    {
     "name": "stdout",
     "output_type": "stream",
     "text": [
      "     3   0.079   98  1.2\n",
      "\n"
     ]
    }
   ],
   "source": [
    "print(noaa.readline())"
   ]
  },
  {
   "cell_type": "markdown",
   "metadata": {
    "pycharm": {
     "name": "#%% md\n"
    }
   },
   "source": [
    "We can also use `.readline()` in a `for` loop."
   ]
  },
  {
   "cell_type": "code",
   "execution_count": 55,
   "metadata": {
    "pycharm": {
     "name": "#%%\n"
    }
   },
   "outputs": [
    {
     "name": "stdout",
     "output_type": "stream",
     "text": [
      "     4   0.153  103  1.9\n",
      "\n",
      "     5   0.212  114  2.3\n",
      "\n",
      "     6   0.252  117  2.5\n",
      "\n",
      "     7   0.285  113  2.6\n",
      "\n",
      "     8   0.310  113  2.7\n",
      "\n",
      "     9   0.055   88  0.9\n",
      "\n",
      "    10   0.122   99  1.5\n",
      "\n",
      "    11   0.193  100  2.0\n",
      "\n",
      "    12   0.249  101  2.3\n",
      "\n",
      "    13   0.296  102  2.7\n",
      "\n"
     ]
    }
   ],
   "source": [
    "for _ in range(10):\n",
    "    print(noaa.readline())"
   ]
  },
  {
   "cell_type": "markdown",
   "metadata": {
    "pycharm": {
     "name": "#%% md\n"
    }
   },
   "source": [
    "If we want to return to the beginning of the file, we must open the file again. "
   ]
  },
  {
   "cell_type": "code",
   "execution_count": 56,
   "metadata": {
    "pycharm": {
     "name": "#%%\n"
    }
   },
   "outputs": [
    {
     "name": "stdout",
     "output_type": "stream",
     "text": [
      "2020 277 13     /glcfs/bathy/erie2km.dat       WAVES                  6436\n",
      "\n",
      "     1   0.121  119  1.7\n",
      "\n",
      "     2   0.174  124  2.0\n",
      "\n",
      "     3   0.079   98  1.2\n",
      "\n",
      "     4   0.153  103  1.9\n",
      "\n",
      "     5   0.212  114  2.3\n",
      "\n",
      "     6   0.252  117  2.5\n",
      "\n",
      "     7   0.285  113  2.6\n",
      "\n",
      "     8   0.310  113  2.7\n",
      "\n",
      "     9   0.055   88  0.9\n",
      "\n"
     ]
    }
   ],
   "source": [
    "noaa = open('e202027712.0.wav', 'r')\n",
    "for _ in range(10):\n",
    "    print(noaa.readline())"
   ]
  },
  {
   "cell_type": "markdown",
   "metadata": {
    "pycharm": {
     "name": "#%% md\n"
    }
   },
   "source": [
    "The `.read()` method, on the other hand, reads the file as an individual string, and allows for relatively easy file-wide manipulations. Below, lets display the first 1000 characters from the file."
   ]
  },
  {
   "cell_type": "code",
   "execution_count": 57,
   "metadata": {
    "pycharm": {
     "name": "#%%\n"
    },
    "scrolled": true
   },
   "outputs": [
    {
     "data": {
      "text/plain": [
       "'2020 277 13     /glcfs/bathy/erie2km.dat       WAVES                  6436\\n     1   0.121  119  1.7\\n     2   0.174  124  2.0\\n     3   0.079   98  1.2\\n     4   0.153  103  1.9\\n     5   0.212  114  2.3\\n     6   0.252  117  2.5\\n     7   0.285  113  2.6\\n     8   0.310  113  2.7\\n     9   0.055   88  0.9\\n    10   0.122   99  1.5\\n    11   0.193  100  2.0\\n    12   0.249  101  2.3\\n    13   0.296  102  2.7\\n    14   0.333  103  2.8\\n\\n\\n    15   0.361  105  2.9\\n    16   0.384  105  3.0\\n    17   0.402  106  3.1\\n    18   0.121   51  1.3\\n    19   0.145   66  1.5\\n    20   0.193   84  1.8\\n    21   0.257   93  2.2\\n    22   0.307   95  2.5\\n    23   0.343   96  2.7\\n    24   0.373   96  2.9\\n    25   0.395   97  3.0\\n    26   0.410   99  3.1\\n    27   0.427  101  3.2\\n    28   0.442  101  3.3\\n    29   0.456  102  3.3\\n    30   0.472  102  3.4\\n    31   0.488  103  3.4\\n    32   0.504  103  3.5\\n    33   0.037   88  0.7\\n    34   0.040   85  0.7\\n    35   0.081   87  1.1\\n    36   0.158   89  1.6\\n    37   0.221   89  2.'"
      ]
     },
     "execution_count": 57,
     "metadata": {},
     "output_type": "execute_result"
    }
   ],
   "source": [
    "noaa = open('e202027712.0.wav', 'r')\n",
    "noaa.read()[0:1000]"
   ]
  },
  {
   "cell_type": "markdown",
   "metadata": {
    "pycharm": {
     "name": "#%% md\n"
    }
   },
   "source": [
    "And now lets print the first 1000 characters from the file, which created a new line from `\\n` newline character."
   ]
  },
  {
   "cell_type": "code",
   "execution_count": 58,
   "metadata": {
    "pycharm": {
     "name": "#%%\n"
    }
   },
   "outputs": [
    {
     "name": "stdout",
     "output_type": "stream",
     "text": [
      "2020 277 13     /glcfs/bathy/erie2km.dat       WAVES                  6436\n",
      "     1   0.121  119  1.7\n",
      "     2   0.174  124  2.0\n",
      "     3   0.079   98  1.2\n",
      "     4   0.153  103  1.9\n",
      "     5   0.212  114  2.3\n",
      "     6   0.252  117  2.5\n",
      "     7   0.285  113  2.6\n",
      "     8   0.310  113  2.7\n",
      "     9   0.055   88  0.9\n",
      "    10   0.122   99  1.5\n",
      "    11   0.193  100  2.0\n",
      "    12   0.249  101  2.3\n",
      "    13   0.296  102  2.7\n",
      "    14   0.333  103  2.8\n",
      "\n",
      "\n",
      "    15   0.361  105  2.9\n",
      "    16   0.384  105  3.0\n",
      "    17   0.402  106  3.1\n",
      "    18   0.121   51  1.3\n",
      "    19   0.145   66  1.5\n",
      "    20   0.193   84  1.8\n",
      "    21   0.257   93  2.2\n",
      "    22   0.307   95  2.5\n",
      "    23   0.343   96  2.7\n",
      "    24   0.373   96  2.9\n",
      "    25   0.395   97  3.0\n",
      "    26   0.410   99  3.1\n",
      "    27   0.427  101  3.2\n",
      "    28   0.442  101  3.3\n",
      "    29   0.456  102  3.3\n",
      "    30   0.472  102  3.4\n",
      "    31   0.488  103  3.4\n",
      "    32   0.504  103  3.5\n",
      "    33   0.037   88  0.7\n",
      "    34   0.040   85  0.7\n",
      "    35   0.081   87  1.1\n",
      "    36   0.158   89  1.6\n",
      "    37   0.221   89  2.\n"
     ]
    }
   ],
   "source": [
    "noaa = open('e202027712.0.wav', 'r')\n",
    "print(noaa.read()[0:1000])\n",
    "noaa.close()"
   ]
  },
  {
   "cell_type": "markdown",
   "metadata": {
    "pycharm": {
     "name": "#%% md\n"
    }
   },
   "source": [
    "<a id='section3'></a>\n",
    "## 3. Hierarchical Formats (JSON)\n",
    "JavaScript Object Notation (JSON) is a lightweight data format that easy for humans to read and write. JSON is easy for machines to parse and generate and is based on the JavaScript Programming Language Standard. JSON is a text format that is programming language independent and can be early parsed using Python, Ruby, Pearl and many others.\n",
    "\n",
    "JSON is built on two structures:\n",
    "\n",
    "1. A collection of name/value pairs. This is realized as an object, record, dictionary, hash table, keyed list, or associative array.\n",
    "2. An ordered list of values. This is realized as an array, vector, list, or sequence.\n",
    "\n",
    "There are several third party packages that can be used to program with JSON files, however, Python includes a native package `json`, which we imported at the start of this notebook.\n",
    "\n",
    "```python\n",
    "import json\n",
    "```\n",
    "\n",
    "The JSON format is used primarily to transmit data between a server and web application, which we'll see more of in Section 7 [API](#section7) and 8 [HTML](#section8). As as example, we'll be working with the [Twitter](https://twitter.com/) JSON structure for tweets. \n",
    "\n",
    "Let's take a look at the Twitter tweet below,\n",
    "<br>\n",
    "<img src=\"images/tweet.png\" alt=\"drawing\" width=\"500\"/>\n",
    "<br>\n",
    "and the associated JSON file.\n",
    "```json\n",
    "{\n",
    "  \"created_at\": \"Thu Apr 06 15:24:15 +0000 2017\",\n",
    "  \"id_str\": \"850006245121695744\",\n",
    "  \"text\": \"1\\/ Today we\\u2019re sharing our vision for the future of the Twitter API platform!\\nhttps:\\/\\/t.co\\/XweGngmxlP\",\n",
    "  \"user\": {\n",
    "    \"id\": 2244994945,\n",
    "    \"name\": \"Twitter Dev\",\n",
    "    \"screen_name\": \"TwitterDev\",\n",
    "    \"location\": \"Internet\",\n",
    "    \"url\": \"https:\\/\\/dev.twitter.com\\/\",\n",
    "    \"description\": \"Your official source for Twitter Platform news, updates & events. Need technical help? Visit https:\\/\\/twittercommunity.com\\/ \\u2328\\ufe0f #TapIntoTwitter\"\n",
    "  },\n",
    "  \"place\": {   \n",
    "  },\n",
    "  \"entities\": {\n",
    "    \"hashtags\": [      \n",
    "    ],\n",
    "    \"urls\": [\n",
    "      {\n",
    "        \"url\": \"https:\\/\\/t.co\\/XweGngmxlP\",\n",
    "        \"unwound\": {\n",
    "          \"url\": \"https:\\/\\/cards.twitter.com\\/cards\\/18ce53wgo4h\\/3xo1c\",\n",
    "          \"title\": \"Building the Future of the Twitter API Platform\"\n",
    "        }\n",
    "      }\n",
    "    ],\n",
    "    \"user_mentions\": [     \n",
    "    ]\n",
    "  }\n",
    "}\n",
    "```\n",
    "You'll notice that the data structure is very similar to Python Dictionaries. \n",
    "\n",
    "#### Import\n",
    "First, let's learn how to load a JSON file into Python as a Dictionary. There are two methods for parsing JSON, `json.load()` and `json.loads()`. \n",
    "\n",
    "**`json.load()`** can deserialize a file (it accepts a file object)."
   ]
  },
  {
   "cell_type": "code",
   "execution_count": 59,
   "metadata": {
    "pycharm": {
     "name": "#%%\n"
    }
   },
   "outputs": [
    {
     "data": {
      "text/plain": [
       "{'created_at': 'Thu Apr 06 15:24:15 +0000 2017',\n",
       " 'id_str': '850006245121695744',\n",
       " 'text': '1/ Today we’re sharing our vision for the future of the Twitter API platform!\\nhttps://t.co/XweGngmxlP',\n",
       " 'user': {'id': 2244994945,\n",
       "  'name': 'Twitter Dev',\n",
       "  'screen_name': 'TwitterDev',\n",
       "  'location': 'Internet',\n",
       "  'url': 'https://dev.twitter.com/',\n",
       "  'description': 'Your official source for Twitter Platform news, updates & events. Need technical help? Visit https://twittercommunity.com/ ⌨️ #TapIntoTwitter'},\n",
       " 'place': {},\n",
       " 'entities': {'hashtags': [],\n",
       "  'urls': [{'url': 'https://t.co/XweGngmxlP',\n",
       "    'unwound': {'url': 'https://cards.twitter.com/cards/18ce53wgo4h/3xo1c',\n",
       "     'title': 'Building the Future of the Twitter API Platform'}}],\n",
       "  'user_mentions': []}}"
      ]
     },
     "execution_count": 59,
     "metadata": {},
     "output_type": "execute_result"
    }
   ],
   "source": [
    "import json\n",
    "tweet = json.load(open('tweet.json'))\n",
    "tweet"
   ]
  },
  {
   "cell_type": "markdown",
   "metadata": {
    "pycharm": {
     "name": "#%% md\n"
    }
   },
   "source": [
    "The following is a useful function for printing JSONs with the correct indentation to improve readability."
   ]
  },
  {
   "cell_type": "code",
   "execution_count": 60,
   "metadata": {
    "pycharm": {
     "name": "#%%\n"
    }
   },
   "outputs": [],
   "source": [
    "def json_print(obj):\n",
    "    text = json.dumps(obj, sort_keys=True, indent=4)\n",
    "    print(text)"
   ]
  },
  {
   "cell_type": "code",
   "execution_count": 61,
   "metadata": {
    "pycharm": {
     "name": "#%%\n"
    }
   },
   "outputs": [
    {
     "name": "stdout",
     "output_type": "stream",
     "text": [
      "{\n",
      "    \"created_at\": \"Thu Apr 06 15:24:15 +0000 2017\",\n",
      "    \"entities\": {\n",
      "        \"hashtags\": [],\n",
      "        \"urls\": [\n",
      "            {\n",
      "                \"unwound\": {\n",
      "                    \"title\": \"Building the Future of the Twitter API Platform\",\n",
      "                    \"url\": \"https://cards.twitter.com/cards/18ce53wgo4h/3xo1c\"\n",
      "                },\n",
      "                \"url\": \"https://t.co/XweGngmxlP\"\n",
      "            }\n",
      "        ],\n",
      "        \"user_mentions\": []\n",
      "    },\n",
      "    \"id_str\": \"850006245121695744\",\n",
      "    \"place\": {},\n",
      "    \"text\": \"1/ Today we\\u2019re sharing our vision for the future of the Twitter API platform!\\nhttps://t.co/XweGngmxlP\",\n",
      "    \"user\": {\n",
      "        \"description\": \"Your official source for Twitter Platform news, updates & events. Need technical help? Visit https://twittercommunity.com/ \\u2328\\ufe0f #TapIntoTwitter\",\n",
      "        \"id\": 2244994945,\n",
      "        \"location\": \"Internet\",\n",
      "        \"name\": \"Twitter Dev\",\n",
      "        \"screen_name\": \"TwitterDev\",\n",
      "        \"url\": \"https://dev.twitter.com/\"\n",
      "    }\n",
      "}\n"
     ]
    }
   ],
   "source": [
    "json_print(tweet)"
   ]
  },
  {
   "cell_type": "markdown",
   "metadata": {
    "pycharm": {
     "name": "#%% md\n"
    }
   },
   "source": [
    "The variable `tweet` is now a Python Dictionary."
   ]
  },
  {
   "cell_type": "code",
   "execution_count": 62,
   "metadata": {
    "pycharm": {
     "name": "#%%\n"
    }
   },
   "outputs": [
    {
     "data": {
      "text/plain": [
       "dict"
      ]
     },
     "execution_count": 62,
     "metadata": {},
     "output_type": "execute_result"
    }
   ],
   "source": [
    "type(tweet)"
   ]
  },
  {
   "cell_type": "markdown",
   "metadata": {
    "pycharm": {
     "name": "#%% md\n"
    }
   },
   "source": [
    "**`json.loads()`** deserializes a string (the `s` stands for String - \"load string\")."
   ]
  },
  {
   "cell_type": "code",
   "execution_count": 63,
   "metadata": {
    "pycharm": {
     "name": "#%%\n"
    }
   },
   "outputs": [
    {
     "data": {
      "text/plain": [
       "{'name': 'Sebastian', 'age': 35}"
      ]
     },
     "execution_count": 63,
     "metadata": {},
     "output_type": "execute_result"
    }
   ],
   "source": [
    "json_string = '{\"name\": \"Sebastian\", \"age\": 35}'\n",
    "json_dict = json.loads(json_string)\n",
    "json_dict"
   ]
  },
  {
   "cell_type": "markdown",
   "metadata": {
    "pycharm": {
     "name": "#%% md\n"
    }
   },
   "source": [
    "#### Save\n",
    "Like with importing JSONs, there are two functions for saving JSON files, `json.dump()` and `json.dumps()`.\n",
    "\n",
    "**`json.dump()`** is used to write Python serialized object as JSON formatted data into a file. For example, if we take the `tweet` dictionary, we can save it to a file using `json.dump()`."
   ]
  },
  {
   "cell_type": "code",
   "execution_count": 64,
   "metadata": {
    "pycharm": {
     "name": "#%%\n"
    }
   },
   "outputs": [],
   "source": [
    "with open('test_file.json', 'w') as f:\n",
    "    json.dump(tweet, f, indent=4)"
   ]
  },
  {
   "cell_type": "markdown",
   "metadata": {
    "pycharm": {
     "name": "#%% md\n"
    }
   },
   "source": [
    "**`json.dumps()`** encodes any Python object into JSON formatted String. For example, if we take the `tweet` dictionary, we can save it to a string using `json.dumps()`."
   ]
  },
  {
   "cell_type": "code",
   "execution_count": 65,
   "metadata": {
    "pycharm": {
     "name": "#%%\n"
    }
   },
   "outputs": [
    {
     "data": {
      "text/plain": [
       "'{\"created_at\": \"Thu Apr 06 15:24:15 +0000 2017\", \"id_str\": \"850006245121695744\", \"text\": \"1/ Today we\\\\u2019re sharing our vision for the future of the Twitter API platform!\\\\nhttps://t.co/XweGngmxlP\", \"user\": {\"id\": 2244994945, \"name\": \"Twitter Dev\", \"screen_name\": \"TwitterDev\", \"location\": \"Internet\", \"url\": \"https://dev.twitter.com/\", \"description\": \"Your official source for Twitter Platform news, updates & events. Need technical help? Visit https://twittercommunity.com/ \\\\u2328\\\\ufe0f #TapIntoTwitter\"}, \"place\": {}, \"entities\": {\"hashtags\": [], \"urls\": [{\"url\": \"https://t.co/XweGngmxlP\", \"unwound\": {\"url\": \"https://cards.twitter.com/cards/18ce53wgo4h/3xo1c\", \"title\": \"Building the Future of the Twitter API Platform\"}}], \"user_mentions\": []}}'"
      ]
     },
     "execution_count": 65,
     "metadata": {},
     "output_type": "execute_result"
    }
   ],
   "source": [
    "json_string = json.dumps(tweet)\n",
    "json_string "
   ]
  },
  {
   "cell_type": "markdown",
   "metadata": {
    "pycharm": {
     "name": "#%% md\n"
    }
   },
   "source": [
    "Although they appear similar, there are some important differences between Python Dictionaries and JSONs.\n",
    "\n",
    "| Python  | JSON   |\n",
    "|---------|--------|\n",
    "|dict\t  | Object | \n",
    "|list\t  | Array  | \n",
    "|tuple\t  | Array  |\n",
    "|str\t  | String |\n",
    "|int\t  | Number |\n",
    "|float\t  | Number |\n",
    "|True\t  | true   |\n",
    "|False\t  | false  |\n",
    "|None\t  | null   |\n",
    "\n",
    "For example, this means that you cannot include a tuple or a list in a JSON. They will both be incoded as an array. Similarly, you cannot encode a NumPy array in a JSON. Let's give it a try."
   ]
  },
  {
   "cell_type": "code",
   "execution_count": 66,
   "metadata": {
    "pycharm": {
     "name": "#%%\n"
    }
   },
   "outputs": [
    {
     "data": {
      "text/plain": [
       "'{\"counts\": [0, 5, 4, 10, 45]}'"
      ]
     },
     "execution_count": 66,
     "metadata": {},
     "output_type": "execute_result"
    }
   ],
   "source": [
    "sample_data = {'counts': np.array([0, 5, 4, 10, 45]).tolist()} \n",
    "json_string = json.dumps(sample_data)\n",
    "json_string "
   ]
  },
  {
   "cell_type": "markdown",
   "metadata": {
    "pycharm": {
     "name": "#%% md\n"
    }
   },
   "source": [
    "You can learn more about the JSONs by visiting its official [page](https://docs.python.org/3.6/library/json.html) on the Python website."
   ]
  },
  {
   "cell_type": "markdown",
   "metadata": {
    "pycharm": {
     "name": "#%% md\n"
    }
   },
   "source": [
    "<a id='section4'></a>\n",
    "## 4. Hierarchical Formats (XML)\n",
    "Extensible Markup Language (XML) is a markup language that defines a set of rules for encoding documents in a format that is both human-readable and machine-readable. XML is similar to HTML. Python contains a native module for reading XML which we imported at the start of the notebook.\n",
    "```python\n",
    "import xml.etree.ElementTree as ET\n",
    "```\n",
    "Below is an example of the XML file structure containing the names of employees at a company.\n",
    "```xml\n",
    "<employees>\n",
    "  <employee>\n",
    "    <firstName>John</firstName> <lastName>Doe</lastName>\n",
    "  </employee>\n",
    "  <employee>\n",
    "    <firstName>Anna</firstName> <lastName>Smith</lastName>\n",
    "  </employee>\n",
    "  <employee>\n",
    "    <firstName>Peter</firstName> <lastName>Jones</lastName>\n",
    "  </employee>\n",
    "</employees>\n",
    "```\n",
    "Let's try importing a sample XML file."
   ]
  },
  {
   "cell_type": "code",
   "execution_count": 67,
   "metadata": {
    "pycharm": {
     "name": "#%%\n"
    }
   },
   "outputs": [],
   "source": [
    "tree = ET.parse('books.xml')\n",
    "root = tree.getroot()"
   ]
  },
  {
   "cell_type": "markdown",
   "metadata": {
    "pycharm": {
     "name": "#%% md\n"
    }
   },
   "source": [
    "The file we opened `books.xml` looks like this.\n",
    "```xml\n",
    "<catalog>\n",
    "   <book id=\"bk101\">\n",
    "      <author>Gambardella, Matthew</author>\n",
    "      <title>XML Developer's Guide</title>\n",
    "      <genre>Computer</genre>\n",
    "      <price>44.95</price>\n",
    "      <publish_date>2000-10-01</publish_date>\n",
    "      <description>An in-depth look at creating applications \n",
    "      with XML.</description>\n",
    "   </book>\n",
    "   <book id=\"bk102\">\n",
    "      <author>Ralls, Kim</author>\n",
    "      <title>Midnight Rain</title>\n",
    "      <genre>Fantasy</genre>\n",
    "      <price>5.95</price>\n",
    "      <publish_date>2000-12-16</publish_date>\n",
    "      <description>A former architect battles corporate zombies, \n",
    "      an evil sorceress, and her own childhood to become queen \n",
    "      of the world.</description>\n",
    "   </book>\n",
    "   <book id=\"bk103\">\n",
    "      <author>Corets, Eva</author>\n",
    "      <title>Maeve Ascendant</title>\n",
    "      <genre>Fantasy</genre>\n",
    "      <price>5.95</price>\n",
    "      <publish_date>2000-11-17</publish_date>\n",
    "      <description>After the collapse of a nanotechnology \n",
    "      society in England, the young survivors lay the \n",
    "      foundation for a new society.</description>\n",
    "   </book>\n",
    "   <book id=\"bk104\">\n",
    "      <author>Corets, Eva</author>\n",
    "      <title>Oberon's Legacy</title>\n",
    "      <genre>Fantasy</genre>\n",
    "      <price>5.95</price>\n",
    "      <publish_date>2001-03-10</publish_date>\n",
    "      <description>In post-apocalypse England, the mysterious \n",
    "      agent known only as Oberon helps to create a new life \n",
    "      for the inhabitants of London. Sequel to Maeve \n",
    "      Ascendant.</description>\n",
    "   </book>\n",
    "   <book id=\"bk105\">\n",
    "      <author>Corets, Eva</author>\n",
    "      <title>The Sundered Grail</title>\n",
    "      <genre>Fantasy</genre>\n",
    "      <price>5.95</price>\n",
    "      <publish_date>2001-09-10</publish_date>\n",
    "      <description>The two daughters of Maeve, half-sisters, \n",
    "      battle one another for control of England. Sequel to \n",
    "      Oberon's Legacy.</description>\n",
    "   </book>\n",
    "   <book id=\"bk106\">\n",
    "      <author>Randall, Cynthia</author>\n",
    "      <title>Lover Birds</title>\n",
    "      <genre>Romance</genre>\n",
    "      <price>4.95</price>\n",
    "      <publish_date>2000-09-02</publish_date>\n",
    "      <description>When Carla meets Paul at an ornithology \n",
    "      conference, tempers fly as feathers get ruffled.</description>\n",
    "   </book>\n",
    "   <book id=\"bk107\">\n",
    "      <author>Thurman, Paula</author>\n",
    "      <title>Splish Splash</title>\n",
    "      <genre>Romance</genre>\n",
    "      <price>4.95</price>\n",
    "      <publish_date>2000-11-02</publish_date>\n",
    "      <description>A deep sea diver finds true love twenty \n",
    "      thousand leagues beneath the sea.</description>\n",
    "   </book>\n",
    "   <book id=\"bk108\">\n",
    "      <author>Knorr, Stefan</author>\n",
    "      <title>Creepy Crawlies</title>\n",
    "      <genre>Horror</genre>\n",
    "      <price>4.95</price>\n",
    "      <publish_date>2000-12-06</publish_date>\n",
    "      <description>An anthology of horror stories about roaches,\n",
    "      centipedes, scorpions  and other insects.</description>\n",
    "   </book>\n",
    "   <book id=\"bk109\">\n",
    "      <author>Kress, Peter</author>\n",
    "      <title>Paradox Lost</title>\n",
    "      <genre>Science Fiction</genre>\n",
    "      <price>6.95</price>\n",
    "      <publish_date>2000-11-02</publish_date>\n",
    "      <description>After an inadvertant trip through a Heisenberg\n",
    "      Uncertainty Device, James Salway discovers the problems \n",
    "      of being quantum.</description>\n",
    "   </book>\n",
    "   <book id=\"bk110\">\n",
    "      <author>O'Brien, Tim</author>\n",
    "      <title>Microsoft .NET: The Programming Bible</title>\n",
    "      <genre>Computer</genre>\n",
    "      <price>36.95</price>\n",
    "      <publish_date>2000-12-09</publish_date>\n",
    "      <description>Microsoft's .NET initiative is explored in \n",
    "      detail in this deep programmer's reference.</description>\n",
    "   </book>\n",
    "   <book id=\"bk111\">\n",
    "      <author>O'Brien, Tim</author>\n",
    "      <title>MSXML3: A Comprehensive Guide</title>\n",
    "      <genre>Computer</genre>\n",
    "      <price>36.95</price>\n",
    "      <publish_date>2000-12-01</publish_date>\n",
    "      <description>The Microsoft MSXML3 parser is covered in \n",
    "      detail, with attention to XML DOM interfaces, XSLT processing, \n",
    "      SAX and more.</description>\n",
    "   </book>\n",
    "   <book id=\"bk112\">\n",
    "      <author>Galos, Mike</author>\n",
    "      <title>Visual Studio 7: A Comprehensive Guide</title>\n",
    "      <genre>Computer</genre>\n",
    "      <price>49.95</price>\n",
    "      <publish_date>2001-04-16</publish_date>\n",
    "      <description>Microsoft Visual Studio 7 is explored in depth,\n",
    "      looking at how Visual Basic, Visual C++, C#, and ASP+ are \n",
    "      integrated into a comprehensive development \n",
    "      environment.</description>\n",
    "   </book>\n",
    "</catalog>\n",
    "```\n",
    "From the root of the XML tree, we can get all children, which should correspond to the 12 book tags we see. be can use the Python `list()` operator to do this."
   ]
  },
  {
   "cell_type": "code",
   "execution_count": 68,
   "metadata": {
    "pycharm": {
     "name": "#%%\n"
    }
   },
   "outputs": [
    {
     "name": "stdout",
     "output_type": "stream",
     "text": [
      "book {'id': 'bk101'}\n",
      "Gambardella, Matthew\n",
      "XML Developer's Guide\n",
      "\n",
      "book {'id': 'bk102'}\n",
      "Ralls, Kim\n",
      "Midnight Rain\n",
      "\n",
      "book {'id': 'bk103'}\n",
      "Corets, Eva\n",
      "Maeve Ascendant\n",
      "\n",
      "book {'id': 'bk104'}\n",
      "Corets, Eva\n",
      "Oberon's Legacy\n",
      "\n",
      "book {'id': 'bk105'}\n",
      "Corets, Eva\n",
      "The Sundered Grail\n",
      "\n",
      "book {'id': 'bk106'}\n",
      "Randall, Cynthia\n",
      "Lover Birds\n",
      "\n",
      "book {'id': 'bk107'}\n",
      "Thurman, Paula\n",
      "Splish Splash\n",
      "\n",
      "book {'id': 'bk108'}\n",
      "Knorr, Stefan\n",
      "Creepy Crawlies\n",
      "\n",
      "book {'id': 'bk109'}\n",
      "Kress, Peter\n",
      "Paradox Lost\n",
      "\n",
      "book {'id': 'bk110'}\n",
      "O'Brien, Tim\n",
      "Microsoft .NET: The Programming Bible\n",
      "\n",
      "book {'id': 'bk111'}\n",
      "O'Brien, Tim\n",
      "MSXML3: A Comprehensive Guide\n",
      "\n",
      "book {'id': 'bk112'}\n",
      "Galos, Mike\n",
      "Visual Studio 7: A Comprehensive Guide\n",
      "\n"
     ]
    }
   ],
   "source": [
    "for book in list(root):\n",
    "    print(book.tag, book.attrib)\n",
    "    print(book.find('author').text)\n",
    "    print(book.find('title').text)\n",
    "    print()"
   ]
  },
  {
   "cell_type": "markdown",
   "metadata": {
    "pycharm": {
     "name": "#%% md\n"
    }
   },
   "source": [
    "JSON and XML are similar in some ways\n",
    "\n",
    "- Both JSON and XML are \"self describing\" (human readable)\n",
    "- Both JSON and XML are hierarchical (values within values)\n",
    "- Both JSON and XML can be parsed and used by lots of programming languages\n",
    "- Both JSON and XML can be fetched with an http request\n",
    "\n",
    "and different in other ways.\n",
    "\n",
    "- JSON doesn't use end tag\n",
    "- JSON is shorter\n",
    "- JSON is quicker to read and write\n",
    "- JSON can use arrays"
   ]
  },
  {
   "cell_type": "markdown",
   "metadata": {
    "pycharm": {
     "name": "#%% md\n"
    }
   },
   "source": [
    "<a id='section5'></a>\n",
    "## 5. Binary Formats (HDF5)\n",
    "Hierarchical Data Format (HDF) is a set of file formats (HDF4, HDF5) designed to store and organize large amounts of data. It was originally developed at the **National Center for Supercomputing Applications** and is now supported by [The HDF Group](https://www.hdfgroup.org/solutions/hdf5/), a non-profit corporation.\n",
    "<br>\n",
    "<img src=\"images/hdf5_structure4.jpg\" alt=\"drawing\" width=\"550\"/>\n",
    "<br>\n",
    "Let's see what the [The HDF Group](https://www.hdfgroup.org/solutions/hdf5/) says about the HDF5 file structure."
   ]
  },
  {
   "cell_type": "code",
   "execution_count": 69,
   "metadata": {
    "pycharm": {
     "name": "#%%\n"
    }
   },
   "outputs": [
    {
     "data": {
      "text/html": [
       "'<iframe src=\"https://player.vimeo.com/video/226008481\" width=\"640\" height=\"360\" frameborder=\"0\" allow=\"autoplay; fullscreen\" allowfullscreen></iframe>'\n"
      ],
      "text/plain": [
       "<IPython.core.display.HTML object>"
      ]
     },
     "metadata": {},
     "output_type": "display_data"
    }
   ],
   "source": [
    "%%HTML\n",
    "'<iframe src=\"https://player.vimeo.com/video/226008481\" width=\"640\" height=\"360\" frameborder=\"0\" allow=\"autoplay; fullscreen\" allowfullscreen></iframe>'"
   ]
  },
  {
   "cell_type": "markdown",
   "metadata": {
    "pycharm": {
     "name": "#%% md\n"
    }
   },
   "source": [
    "The Python package [h5py](https://www.h5py.org/) is required for working with HFD5 files. You'll see we installed and imported that package at the start of the Notebook.\n",
    "\n",
    "```python\n",
    "!pip install h5py\n",
    "\n",
    "import h5py\n",
    "```\n",
    "\n",
    "For working exploring the HDF5 file structure, we'll be working with Hyperspectral Imagery data which is a dataset that Civil & Mineral Engineers might run into. \n",
    "<br>\n",
    "<img src=\"images/light_spectrum.jpg\" alt=\"drawing\" width=\"800\"/>\n",
    "<br>\n",
    "Hyperspectral imaging collects information from across the electromagnetic spectrum, which can be seen in the image below. Most familiar to us is the visible light spectrum ranging from red (700 nanometers) to violet (380 nanometers). Hyperspectral imagery is acquired in the infrared spectrum typically between 400 and 1100 nanometers.    \n",
    "<br>\n",
    "<img src=\"images/hyperspectral_image.png\" alt=\"drawing\" width=\"900\"/>\n",
    "<br>\n",
    "A typical JPEG image that you might capture with your smartphone will have three color channels (Red, Green, and Blue). So, if your image is 500 pixels x 500 pixels (spatial dimensions), there will be a 3rd dimension of size three (3 color challanges). When imported into Python as an array, the shape of the array would be (500, 500, 3). With hyperspectral imagery, you're acquiring a continuous spectrum and thus, each pixel contains many more than three values as displayed in the image above. \n",
    "\n",
    "Let's use [h5py](https://www.h5py.org/) to import a hyperspectral image."
   ]
  },
  {
   "cell_type": "code",
   "execution_count": 70,
   "metadata": {
    "pycharm": {
     "name": "#%%\n"
    }
   },
   "outputs": [],
   "source": [
    "hyperspec = h5py.File('NEON_hyperspectral_dataset.h5', mode='r') "
   ]
  },
  {
   "cell_type": "markdown",
   "metadata": {
    "pycharm": {
     "name": "#%% md\n"
    }
   },
   "source": [
    "First, lets see what groups are inside the file object."
   ]
  },
  {
   "cell_type": "code",
   "execution_count": 71,
   "metadata": {
    "pycharm": {
     "name": "#%%\n"
    }
   },
   "outputs": [
    {
     "name": "stdout",
     "output_type": "stream",
     "text": [
      "<KeysViewHDF5 ['SJER']>\n"
     ]
    }
   ],
   "source": [
    "print(hyperspec.keys())"
   ]
  },
  {
   "cell_type": "markdown",
   "metadata": {
    "pycharm": {
     "name": "#%% md\n"
    }
   },
   "source": [
    "and what groups are inside that group."
   ]
  },
  {
   "cell_type": "code",
   "execution_count": 72,
   "metadata": {
    "pycharm": {
     "name": "#%%\n"
    }
   },
   "outputs": [
    {
     "name": "stdout",
     "output_type": "stream",
     "text": [
      "<KeysViewHDF5 ['Reflectance']>\n"
     ]
    }
   ],
   "source": [
    "print(hyperspec['SJER'].keys())"
   ]
  },
  {
   "cell_type": "markdown",
   "metadata": {
    "pycharm": {
     "name": "#%% md\n"
    }
   },
   "source": [
    "and what groups are inside that group."
   ]
  },
  {
   "cell_type": "code",
   "execution_count": 73,
   "metadata": {
    "pycharm": {
     "name": "#%%\n"
    }
   },
   "outputs": [
    {
     "name": "stdout",
     "output_type": "stream",
     "text": [
      "<KeysViewHDF5 ['Metadata', 'Reflectance_Data']>\n"
     ]
    }
   ],
   "source": [
    "print(hyperspec['SJER']['Reflectance'].keys())"
   ]
  },
  {
   "cell_type": "markdown",
   "metadata": {
    "pycharm": {
     "name": "#%% md\n"
    }
   },
   "source": [
    "and what groups are inside the Metadata group."
   ]
  },
  {
   "cell_type": "code",
   "execution_count": 74,
   "metadata": {
    "pycharm": {
     "name": "#%%\n"
    }
   },
   "outputs": [
    {
     "name": "stdout",
     "output_type": "stream",
     "text": [
      "<KeysViewHDF5 ['Coordinate_System', 'Spectral_Data']>\n"
     ]
    }
   ],
   "source": [
    "print(hyperspec['SJER']['Reflectance']['Metadata'].keys())"
   ]
  },
  {
   "cell_type": "markdown",
   "metadata": {
    "pycharm": {
     "name": "#%% md\n"
    }
   },
   "source": [
    "You're starting to get the picture right? HDF5 is just a hierarchical folder structure as the name suggests.\n",
    "\n",
    "Quick tip: We can make the same call as above using the following command."
   ]
  },
  {
   "cell_type": "code",
   "execution_count": 75,
   "metadata": {
    "pycharm": {
     "name": "#%%\n"
    }
   },
   "outputs": [
    {
     "name": "stdout",
     "output_type": "stream",
     "text": [
      "<KeysViewHDF5 ['Coordinate_System', 'Spectral_Data']>\n"
     ]
    }
   ],
   "source": [
    "print(hyperspec['SJER/Reflectance/Metadata'].keys())"
   ]
  },
  {
   "cell_type": "code",
   "execution_count": 76,
   "metadata": {
    "pycharm": {
     "name": "#%%\n"
    }
   },
   "outputs": [],
   "source": [
    "def plot_hyperspectral_data():\n",
    "    hyperspec = h5py.File('NEON_hyperspectral_dataset.h5', mode='r') \n",
    "    sjer_reflectance = hyperspec['SJER']['Reflectance']\n",
    "    sjer_reflectance_array = sjer_reflectance['Reflectance_Data']\n",
    "    reflectance_shape = sjer_reflectance_array.shape\n",
    "    wavelengths = sjer_reflectance['Metadata']['Spectral_Data']['Wavelength']\n",
    "    sjer_mapInfo = sjer_reflectance['Metadata']['Coordinate_System']['Map_Info']\n",
    "    mapInfo_string = str(sjer_mapInfo[()])\n",
    "    mapInfo_split = mapInfo_string.split(',') \n",
    "    res = float(mapInfo_split[5]), float(mapInfo_split[6])\n",
    "    xMin = float(mapInfo_split[3]) \n",
    "    yMax = float(mapInfo_split[4])\n",
    "    xMax = xMin + (reflectance_shape[1] * res[0])\n",
    "    yMin = yMax - (reflectance_shape[0] * res[1])\n",
    "    serc_ext = (xMin, xMax, yMin, yMax)\n",
    "    b56 = sjer_reflectance_array[:, :, 55].astype(float)\n",
    "    \n",
    "    \n",
    "    fig, ax = plt.subplots()\n",
    "    img = ax.imshow(b56, extent=serc_ext, cmap='jet')\n",
    "    ax.set_xlabel('Longitude', fontsize=16)\n",
    "    ax.set_ylabel('Latitude', fontsize=16)\n",
    "    plt.colorbar(img, label='Reflectance', ax=ax)\n",
    "    plt.show()"
   ]
  },
  {
   "cell_type": "code",
   "execution_count": 77,
   "metadata": {
    "pycharm": {
     "name": "#%%\n"
    }
   },
   "outputs": [
    {
     "data": {
      "image/png": "[encoded data removed]",
      "text/plain": [
       "<Figure size 640x480 with 2 Axes>"
      ]
     },
     "metadata": {},
     "output_type": "display_data"
    }
   ],
   "source": [
    "plot_hyperspectral_data()"
   ]
  },
  {
   "cell_type": "markdown",
   "metadata": {
    "pycharm": {
     "name": "#%% md\n"
    }
   },
   "source": [
    "A more indepth look at the HDF file structure is beyond the scope of this course. For those interested in learning more about HDF, Python, and hyperspectral data, check out the excellent resources from \n",
    "[The National Science Foundation's National Ecological Observatory Network (NEON)](https://www.neonscience.org/neon-aop-hdf5-py)."
   ]
  },
  {
   "cell_type": "markdown",
   "metadata": {},
   "source": [
    "<a id='section6'></a>\n",
    "## 6. Web Technologies (HTTP)\n",
    "First lets import a very popular library for making http requests."
   ]
  },
  {
   "cell_type": "code",
   "execution_count": 78,
   "metadata": {},
   "outputs": [],
   "source": [
    "import requests"
   ]
  },
  {
   "cell_type": "markdown",
   "metadata": {},
   "source": [
    "Next, let's make a simple http GET request for the UofT Civil & Mineral Engineering website."
   ]
  },
  {
   "cell_type": "code",
   "execution_count": 79,
   "metadata": {},
   "outputs": [],
   "source": [
    "my_response = requests.get('http://www.civmin.utoronto.ca')"
   ]
  },
  {
   "cell_type": "markdown",
   "metadata": {},
   "source": [
    "Now let's print the response as text."
   ]
  },
  {
   "cell_type": "code",
   "execution_count": 80,
   "metadata": {
    "scrolled": true
   },
   "outputs": [
    {
     "data": {
      "text/plain": [
       "'<!DOCTYPE html>\\r\\n<html lang=\"en-US\">\\r\\n\\r\\n<head>\\r\\n\\r\\n\\t<meta charset=\"UTF-8\">\\r\\n\\t<meta name=\"viewport\" content=\"width=device-width, initial-scale=1\">\\r\\n\\t<link rel=\"profile\" href=\"https://gmpg.org/xfn/11\">\\r\\n\\t<link rel=\"pingback\" href=\"https://civmin.utoronto.ca/xmlrpc.php\">\\r\\n\\r\\n\\t\\t<meta name=\"description\" content=\"\">\\r\\n\\t<meta property=\"og:url\" content=\"https://civmin.utoronto.ca\"/>\\r\\n\\t<meta property=\"og:site_name\" content=\"Department of Civil &amp; Mineral Engineering\" />\\r\\n\\t<meta property=\"og:image\" content=\"\" />\\r\\n\\t<meta property=\"og:description\" content=\"\" />\\r\\n\\t<meta property=\"og:title\" content=\"Department of Civil &amp; Mineral Engineering\" />\\r\\n\\t<!-- Twitter -->\\r\\n\\t<meta name=\"twitter:card\" content=\"summary_large_image\" />\\r\\n\\t<meta name=\"twitter:domain\" content=\"https://civmin.utoronto.ca\" />\\r\\n\\t<meta name=\"twitter:title\" content=\"Department of Civil &amp; Mineral Engineering\" />\\r\\n\\t<meta name=\"twitter:description\" content=\"\" />\\r\\n\\t\\t\\t\\t\\t\\t\\t\\t<link rel=\"icon\" type=\"image/x-icon\" sizes=\"16x16\" href=\"https://civmin.utoronto.ca/wp-content/themes/fase-theme-2023-master/favicon.ico\">\\r\\n\\t\\r\\n\\t<title>Department of Civil &amp; Mineral Engineering</title>\\n<meta name=\\'robots\\' content=\\'max-image-preview:large\\' />\\n<link rel=\\'dns-prefetch\\' href=\\'//fonts.googleapis.com\\' />\\n<link rel=\\'dns-prefetch\\' href=\\'//use.typekit.net\\' />\\n<link rel=\"preload\" href=\"https://civmin.utoronto.ca/wp-content/plugins/bb-plugin/fonts/fontawesome/5.15.4/webfonts/fa-solid-900.woff2\" as=\"font\" type=\"font/woff2\" crossorigin=\"anonymous\">\\n<link rel=\"preload\" href=\"https://civmin.utoronto.ca/wp-content/plugins/bb-plugin/fonts/fontawesome/5.15.4/webfonts/fa-brands-400.woff2\" as=\"font\" type=\"font/woff2\" crossorigin=\"anonymous\">\\n\\t\\t<!-- This site uses the Google Analytics by MonsterInsights plugin v9.0.2 - Using Analytics tracking - https://www.monsterinsights.com/ -->\\n\\t\\t\\t\\t\\t\\t\\t<script src=\"//www.googletagmanager.com/gtag/js?id=G-2E9NND0N6Y\"  data-cfasync=\"false\" data-wpfc-render=\"false\" type=\"text/javascript\" async></script>\\n\\t\\t\\t<script data-cfasync=\"false\" data-wpfc-render=\"false\" type=\"text/javascript\">\\n\\t\\t\\t\\tvar mi_version = \\'9.0.2\\';\\n\\t\\t\\t\\tvar mi_track_user = true;\\n\\t\\t\\t\\tvar mi_no_track_reason = \\'\\';\\n\\t\\t\\t\\t\\t\\t\\t\\tvar MonsterInsightsDefaultLocations = {\"page_location\":\"https:\\\\/\\\\/civmin.utoronto.ca\\\\/\"};\\n\\t\\t\\t\\tif ( typeof MonsterInsightsPrivacyGuardFilter === \\'function\\' ) {\\n\\t\\t\\t\\t\\tvar MonsterInsightsLocations = (typeof MonsterInsightsExcludeQuery === \\'object\\') ? MonsterInsightsPrivacyGuardFilter( MonsterInsightsExcludeQuery ) : MonsterInsightsPrivacyGuardFilter( MonsterInsightsDefaultLocations );\\n\\t\\t\\t\\t} else {\\n\\t\\t\\t\\t\\tvar MonsterInsightsLocations = (typeof MonsterInsightsExcludeQuery === \\'object\\') ? MonsterInsightsExcludeQuery : MonsterInsightsDefaultLocations;\\n\\t\\t\\t\\t}\\n\\n\\t\\t\\t\\t\\t\\t\\t\\tvar disableStrs = [\\n\\t\\t\\t\\t\\t\\t\\t\\t\\t\\t\\'ga-disable-G-2E9NND0N6Y\\',\\n\\t\\t\\t\\t\\t\\t\\t\\t\\t];\\n\\n\\t\\t\\t\\t/* Function to detect opted out users */\\n\\t\\t\\t\\tfunction __gtagTrackerIsOptedOut() {\\n\\t\\t\\t\\t\\tfor (var index = 0; index < disableStrs.length; index++) {\\n\\t\\t\\t\\t\\t\\tif (document.cookie.indexOf(disableStrs[index] + \\'=true\\') > -1) {\\n\\t\\t\\t\\t\\t\\t\\treturn true;\\n\\t\\t\\t\\t\\t\\t}\\n\\t\\t\\t\\t\\t}\\n\\n\\t\\t\\t\\t\\treturn false;\\n\\t\\t\\t\\t}\\n\\n\\t\\t\\t\\t/* Disable tracking if the opt-out cookie exists. */\\n\\t\\t\\t\\tif (__gtagTrackerIsOptedOut()) {\\n\\t\\t\\t\\t\\tfor (var index = 0; index < disableStrs.length; index++) {\\n\\t\\t\\t\\t\\t\\twindow[disableStrs[index]] = true;\\n\\t\\t\\t\\t\\t}\\n\\t\\t\\t\\t}\\n\\n\\t\\t\\t\\t/* Opt-out function */\\n\\t\\t\\t\\tfunction __gtagTrackerOptout() {\\n\\t\\t\\t\\t\\tfor (var index = 0; index < disableStrs.length; index++) {\\n\\t\\t\\t\\t\\t\\tdocument.cookie = disableStrs[index] + \\'=true; expires=Thu, 31 Dec 2099 23:59:59 UTC; path=/\\';\\n\\t\\t\\t\\t\\t\\twindow[disableStrs[index]] = true;\\n\\t\\t\\t\\t\\t}\\n\\t\\t\\t\\t}\\n\\n\\t\\t\\t\\tif (\\'undefined\\' === typeof gaOptout) {\\n\\t\\t\\t\\t\\tfunction gaOptout() {\\n\\t\\t\\t\\t\\t\\t__gtagTrackerOptout();\\n\\t\\t\\t\\t\\t}\\n\\t\\t\\t\\t}\\n\\t\\t\\t\\t\\t\\t\\t\\twindow.dataLayer = window.dataLayer || [];\\n\\n\\t\\t\\t\\twindow.MonsterInsightsDualTracker = {\\n\\t\\t\\t\\t\\thelpers: {},\\n\\t\\t\\t\\t\\ttrackers: {},\\n\\t\\t\\t\\t};\\n\\t\\t\\t\\tif (mi_track_user) {\\n\\t\\t\\t\\t\\tfunction __gtagDataLayer() {\\n\\t\\t\\t\\t\\t\\tdataLayer.push(arguments);\\n\\t\\t\\t\\t\\t}\\n\\n\\t\\t\\t\\t\\tfunction __gtagTracker(type, name, parameters) {\\n\\t\\t\\t\\t\\t\\tif (!parameters) {\\n\\t\\t\\t\\t\\t\\t\\tparameters = {};\\n\\t\\t\\t\\t\\t\\t}\\n\\n\\t\\t\\t\\t\\t\\tif (parameters.send_to) {\\n\\t\\t\\t\\t\\t\\t\\t__gtagDataLayer.apply(null, arguments);\\n\\t\\t\\t\\t\\t\\t\\treturn;\\n\\t\\t\\t\\t\\t\\t}\\n\\n\\t\\t\\t\\t\\t\\tif (type === \\'event\\') {\\n\\t\\t\\t\\t\\t\\t\\t\\t\\t\\t\\t\\t\\t\\tparameters.send_to = monsterinsights_frontend.v4_id;\\n\\t\\t\\t\\t\\t\\t\\tvar hookName = name;\\n\\t\\t\\t\\t\\t\\t\\tif (typeof parameters[\\'event_category\\'] !== \\'undefined\\') {\\n\\t\\t\\t\\t\\t\\t\\t\\thookName = parameters[\\'event_category\\'] + \\':\\' + name;\\n\\t\\t\\t\\t\\t\\t\\t}\\n\\n\\t\\t\\t\\t\\t\\t\\tif (typeof MonsterInsightsDualTracker.trackers[hookName] !== \\'undefined\\') {\\n\\t\\t\\t\\t\\t\\t\\t\\tMonsterInsightsDualTracker.trackers[hookName](parameters);\\n\\t\\t\\t\\t\\t\\t\\t} else {\\n\\t\\t\\t\\t\\t\\t\\t\\t__gtagDataLayer(\\'event\\', name, parameters);\\n\\t\\t\\t\\t\\t\\t\\t}\\n\\t\\t\\t\\t\\t\\t\\t\\n\\t\\t\\t\\t\\t\\t} else {\\n\\t\\t\\t\\t\\t\\t\\t__gtagDataLayer.apply(null, arguments);\\n\\t\\t\\t\\t\\t\\t}\\n\\t\\t\\t\\t\\t}\\n\\n\\t\\t\\t\\t\\t__gtagTracker(\\'js\\', new Date());\\n\\t\\t\\t\\t\\t__gtagTracker(\\'set\\', {\\n\\t\\t\\t\\t\\t\\t\\'developer_id.dZGIzZG\\': true,\\n\\t\\t\\t\\t\\t\\t\\t\\t\\t\\t\\t});\\n\\t\\t\\t\\t\\tif ( MonsterInsightsLocations.page_location ) {\\n\\t\\t\\t\\t\\t\\t__gtagTracker(\\'set\\', MonsterInsightsLocations);\\n\\t\\t\\t\\t\\t}\\n\\t\\t\\t\\t\\t\\t\\t\\t\\t\\t__gtagTracker(\\'config\\', \\'G-2E9NND0N6Y\\', {\"forceSSL\":\"true\"} );\\n\\t\\t\\t\\t\\t\\t\\t\\t\\t\\t\\t\\t\\t\\t\\twindow.gtag = __gtagTracker;\\t\\t\\t\\t\\t\\t\\t\\t\\t\\t(function () {\\n\\t\\t\\t\\t\\t\\t/* https://developers.google.com/analytics/devguides/collection/analyticsjs/ */\\n\\t\\t\\t\\t\\t\\t/* ga and __gaTracker compatibility shim. */\\n\\t\\t\\t\\t\\t\\tvar noopfn = function () {\\n\\t\\t\\t\\t\\t\\t\\treturn null;\\n\\t\\t\\t\\t\\t\\t};\\n\\t\\t\\t\\t\\t\\tvar newtracker = function () {\\n\\t\\t\\t\\t\\t\\t\\treturn new Tracker();\\n\\t\\t\\t\\t\\t\\t};\\n\\t\\t\\t\\t\\t\\tvar Tracker = function () {\\n\\t\\t\\t\\t\\t\\t\\treturn null;\\n\\t\\t\\t\\t\\t\\t};\\n\\t\\t\\t\\t\\t\\tvar p = Tracker.prototype;\\n\\t\\t\\t\\t\\t\\tp.get = noopfn;\\n\\t\\t\\t\\t\\t\\tp.set = noopfn;\\n\\t\\t\\t\\t\\t\\tp.send = function () {\\n\\t\\t\\t\\t\\t\\t\\tvar args = Array.prototype.slice.call(arguments);\\n\\t\\t\\t\\t\\t\\t\\targs.unshift(\\'send\\');\\n\\t\\t\\t\\t\\t\\t\\t__gaTracker.apply(null, args);\\n\\t\\t\\t\\t\\t\\t};\\n\\t\\t\\t\\t\\t\\tvar __gaTracker = function () {\\n\\t\\t\\t\\t\\t\\t\\tvar len = arguments.length;\\n\\t\\t\\t\\t\\t\\t\\tif (len === 0) {\\n\\t\\t\\t\\t\\t\\t\\t\\treturn;\\n\\t\\t\\t\\t\\t\\t\\t}\\n\\t\\t\\t\\t\\t\\t\\tvar f = arguments[len - 1];\\n\\t\\t\\t\\t\\t\\t\\tif (typeof f !== \\'object\\' || f === null || typeof f.hitCallback !== \\'function\\') {\\n\\t\\t\\t\\t\\t\\t\\t\\tif (\\'send\\' === arguments[0]) {\\n\\t\\t\\t\\t\\t\\t\\t\\t\\tvar hitConverted, hitObject = false, action;\\n\\t\\t\\t\\t\\t\\t\\t\\t\\tif (\\'event\\' === arguments[1]) {\\n\\t\\t\\t\\t\\t\\t\\t\\t\\t\\tif (\\'undefined\\' !== typeof arguments[3]) {\\n\\t\\t\\t\\t\\t\\t\\t\\t\\t\\t\\thitObject = {\\n\\t\\t\\t\\t\\t\\t\\t\\t\\t\\t\\t\\t\\'eventAction\\': arguments[3],\\n\\t\\t\\t\\t\\t\\t\\t\\t\\t\\t\\t\\t\\'eventCategory\\': arguments[2],\\n\\t\\t\\t\\t\\t\\t\\t\\t\\t\\t\\t\\t\\'eventLabel\\': arguments[4],\\n\\t\\t\\t\\t\\t\\t\\t\\t\\t\\t\\t\\t\\'value\\': arguments[5] ? arguments[5] : 1,\\n\\t\\t\\t\\t\\t\\t\\t\\t\\t\\t\\t}\\n\\t\\t\\t\\t\\t\\t\\t\\t\\t\\t}\\n\\t\\t\\t\\t\\t\\t\\t\\t\\t}\\n\\t\\t\\t\\t\\t\\t\\t\\t\\tif (\\'pageview\\' === arguments[1]) {\\n\\t\\t\\t\\t\\t\\t\\t\\t\\t\\tif (\\'undefined\\' !== typeof arguments[2]) {\\n\\t\\t\\t\\t\\t\\t\\t\\t\\t\\t\\thitObject = {\\n\\t\\t\\t\\t\\t\\t\\t\\t\\t\\t\\t\\t\\'eventAction\\': \\'page_view\\',\\n\\t\\t\\t\\t\\t\\t\\t\\t\\t\\t\\t\\t\\'page_path\\': arguments[2],\\n\\t\\t\\t\\t\\t\\t\\t\\t\\t\\t\\t}\\n\\t\\t\\t\\t\\t\\t\\t\\t\\t\\t}\\n\\t\\t\\t\\t\\t\\t\\t\\t\\t}\\n\\t\\t\\t\\t\\t\\t\\t\\t\\tif (typeof arguments[2] === \\'object\\') {\\n\\t\\t\\t\\t\\t\\t\\t\\t\\t\\thitObject = arguments[2];\\n\\t\\t\\t\\t\\t\\t\\t\\t\\t}\\n\\t\\t\\t\\t\\t\\t\\t\\t\\tif (typeof arguments[5] === \\'object\\') {\\n\\t\\t\\t\\t\\t\\t\\t\\t\\t\\tObject.assign(hitObject, arguments[5]);\\n\\t\\t\\t\\t\\t\\t\\t\\t\\t}\\n\\t\\t\\t\\t\\t\\t\\t\\t\\tif (\\'undefined\\' !== typeof arguments[1].hitType) {\\n\\t\\t\\t\\t\\t\\t\\t\\t\\t\\thitObject = arguments[1];\\n\\t\\t\\t\\t\\t\\t\\t\\t\\t\\tif (\\'pageview\\' === hitObject.hitType) {\\n\\t\\t\\t\\t\\t\\t\\t\\t\\t\\t\\thitObject.eventAction = \\'page_view\\';\\n\\t\\t\\t\\t\\t\\t\\t\\t\\t\\t}\\n\\t\\t\\t\\t\\t\\t\\t\\t\\t}\\n\\t\\t\\t\\t\\t\\t\\t\\t\\tif (hitObject) {\\n\\t\\t\\t\\t\\t\\t\\t\\t\\t\\taction = \\'timing\\' === arguments[1].hitType ? \\'timing_complete\\' : hitObject.eventAction;\\n\\t\\t\\t\\t\\t\\t\\t\\t\\t\\thitConverted = mapArgs(hitObject);\\n\\t\\t\\t\\t\\t\\t\\t\\t\\t\\t__gtagTracker(\\'event\\', action, hitConverted);\\n\\t\\t\\t\\t\\t\\t\\t\\t\\t}\\n\\t\\t\\t\\t\\t\\t\\t\\t}\\n\\t\\t\\t\\t\\t\\t\\t\\treturn;\\n\\t\\t\\t\\t\\t\\t\\t}\\n\\n\\t\\t\\t\\t\\t\\t\\tfunction mapArgs(args) {\\n\\t\\t\\t\\t\\t\\t\\t\\tvar arg, hit = {};\\n\\t\\t\\t\\t\\t\\t\\t\\tvar gaMap = {\\n\\t\\t\\t\\t\\t\\t\\t\\t\\t\\'eventCategory\\': \\'event_category\\',\\n\\t\\t\\t\\t\\t\\t\\t\\t\\t\\'eventAction\\': \\'event_action\\',\\n\\t\\t\\t\\t\\t\\t\\t\\t\\t\\'eventLabel\\': \\'event_label\\',\\n\\t\\t\\t\\t\\t\\t\\t\\t\\t\\'eventValue\\': \\'event_value\\',\\n\\t\\t\\t\\t\\t\\t\\t\\t\\t\\'nonInteraction\\': \\'non_interaction\\',\\n\\t\\t\\t\\t\\t\\t\\t\\t\\t\\'timingCategory\\': \\'event_category\\',\\n\\t\\t\\t\\t\\t\\t\\t\\t\\t\\'timingVar\\': \\'name\\',\\n\\t\\t\\t\\t\\t\\t\\t\\t\\t\\'timingValue\\': \\'value\\',\\n\\t\\t\\t\\t\\t\\t\\t\\t\\t\\'timingLabel\\': \\'event_label\\',\\n\\t\\t\\t\\t\\t\\t\\t\\t\\t\\'page\\': \\'page_path\\',\\n\\t\\t\\t\\t\\t\\t\\t\\t\\t\\'location\\': \\'page_location\\',\\n\\t\\t\\t\\t\\t\\t\\t\\t\\t\\'title\\': \\'page_title\\',\\n\\t\\t\\t\\t\\t\\t\\t\\t\\t\\'referrer\\' : \\'page_referrer\\',\\n\\t\\t\\t\\t\\t\\t\\t\\t};\\n\\t\\t\\t\\t\\t\\t\\t\\tfor (arg in args) {\\n\\t\\t\\t\\t\\t\\t\\t\\t\\t\\t\\t\\t\\t\\t\\t\\t\\t\\tif (!(!args.hasOwnProperty(arg) || !gaMap.hasOwnProperty(arg))) {\\n\\t\\t\\t\\t\\t\\t\\t\\t\\t\\thit[gaMap[arg]] = args[arg];\\n\\t\\t\\t\\t\\t\\t\\t\\t\\t} else {\\n\\t\\t\\t\\t\\t\\t\\t\\t\\t\\thit[arg] = args[arg];\\n\\t\\t\\t\\t\\t\\t\\t\\t\\t}\\n\\t\\t\\t\\t\\t\\t\\t\\t}\\n\\t\\t\\t\\t\\t\\t\\t\\treturn hit;\\n\\t\\t\\t\\t\\t\\t\\t}\\n\\n\\t\\t\\t\\t\\t\\t\\ttry {\\n\\t\\t\\t\\t\\t\\t\\t\\tf.hitCallback();\\n\\t\\t\\t\\t\\t\\t\\t} catch (ex) {\\n\\t\\t\\t\\t\\t\\t\\t}\\n\\t\\t\\t\\t\\t\\t};\\n\\t\\t\\t\\t\\t\\t__gaTracker.create = newtracker;\\n\\t\\t\\t\\t\\t\\t__gaTracker.getByName = newtracker;\\n\\t\\t\\t\\t\\t\\t__gaTracker.getAll = function () {\\n\\t\\t\\t\\t\\t\\t\\treturn [];\\n\\t\\t\\t\\t\\t\\t};\\n\\t\\t\\t\\t\\t\\t__gaTracker.remove = noopfn;\\n\\t\\t\\t\\t\\t\\t__gaTracker.loaded = true;\\n\\t\\t\\t\\t\\t\\twindow[\\'__gaTracker\\'] = __gaTracker;\\n\\t\\t\\t\\t\\t})();\\n\\t\\t\\t\\t\\t\\t\\t\\t\\t} else {\\n\\t\\t\\t\\t\\t\\t\\t\\t\\t\\tconsole.log(\"\");\\n\\t\\t\\t\\t\\t(function () {\\n\\t\\t\\t\\t\\t\\tfunction __gtagTracker() {\\n\\t\\t\\t\\t\\t\\t\\treturn null;\\n\\t\\t\\t\\t\\t\\t}\\n\\n\\t\\t\\t\\t\\t\\twindow[\\'__gtagTracker\\'] = __gtagTracker;\\n\\t\\t\\t\\t\\t\\twindow[\\'gtag\\'] = __gtagTracker;\\n\\t\\t\\t\\t\\t})();\\n\\t\\t\\t\\t\\t\\t\\t\\t\\t}\\n\\t\\t\\t</script>\\n\\t\\t\\t\\t<!-- / Google Analytics by MonsterInsights -->\\n\\t\\t<script type=\"text/javascript\">\\n/* <![CDATA[ */\\nwindow._wpemojiSettings = {\"baseUrl\":\"https:\\\\/\\\\/s.w.org\\\\/images\\\\/core\\\\/emoji\\\\/15.0.3\\\\/72x72\\\\/\",\"ext\":\".png\",\"svgUrl\":\"https:\\\\/\\\\/s.w.org\\\\/images\\\\/core\\\\/emoji\\\\/15.0.3\\\\/svg\\\\/\",\"svgExt\":\".svg\",\"source\":{\"concatemoji\":\"https:\\\\/\\\\/civmin.utoronto.ca\\\\/wp-includes\\\\/js\\\\/wp-emoji-release.min.js?ver=6.6.2\"}};\\n/*! This file is auto-generated */\\n!function(i,n){var o,s,e;function c(e){try{var t={supportTests:e,timestamp:(new Date).valueOf()};sessionStorage.setItem(o,JSON.stringify(t))}catch(e){}}function p(e,t,n){e.clearRect(0,0,e.canvas.width,e.canvas.height),e.fillText(t,0,0);var t=new Uint32Array(e.getImageData(0,0,e.canvas.width,e.canvas.height).data),r=(e.clearRect(0,0,e.canvas.width,e.canvas.height),e.fillText(n,0,0),new Uint32Array(e.getImageData(0,0,e.canvas.width,e.canvas.height).data));return t.every(function(e,t){return e===r[t]})}function u(e,t,n){switch(t){case\"flag\":return n(e,\"\\\\ud83c\\\\udff3\\\\ufe0f\\\\u200d\\\\u26a7\\\\ufe0f\",\"\\\\ud83c\\\\udff3\\\\ufe0f\\\\u200b\\\\u26a7\\\\ufe0f\")?!1:!n(e,\"\\\\ud83c\\\\uddfa\\\\ud83c\\\\uddf3\",\"\\\\ud83c\\\\uddfa\\\\u200b\\\\ud83c\\\\uddf3\")&&!n(e,\"\\\\ud83c\\\\udff4\\\\udb40\\\\udc67\\\\udb40\\\\udc62\\\\udb40\\\\udc65\\\\udb40\\\\udc6e\\\\udb40\\\\udc67\\\\udb40\\\\udc7f\",\"\\\\ud83c\\\\udff4\\\\u200b\\\\udb40\\\\udc67\\\\u200b\\\\udb40\\\\udc62\\\\u200b\\\\udb40\\\\udc65\\\\u200b\\\\udb40\\\\udc6e\\\\u200b\\\\udb40\\\\udc67\\\\u200b\\\\udb40\\\\udc7f\");case\"emoji\":return!n(e,\"\\\\ud83d\\\\udc26\\\\u200d\\\\u2b1b\",\"\\\\ud83d\\\\udc26\\\\u200b\\\\u2b1b\")}return!1}function f(e,t,n){var r=\"undefined\"!=typeof WorkerGlobalScope&&self instanceof WorkerGlobalScope?new OffscreenCanvas(300,150):i.createElement(\"canvas\"),a=r.getContext(\"2d\",{willReadFrequently:!0}),o=(a.textBaseline=\"top\",a.font=\"600 32px Arial\",{});return e.forEach(function(e){o[e]=t(a,e,n)}),o}function t(e){var t=i.createElement(\"script\");t.src=e,t.defer=!0,i.head.appendChild(t)}\"undefined\"!=typeof Promise&&(o=\"wpEmojiSettingsSupports\",s=[\"flag\",\"emoji\"],n.supports={everything:!0,everythingExceptFlag:!0},e=new Promise(function(e){i.addEventListener(\"DOMContentLoaded\",e,{once:!0})}),new Promise(function(t){var n=function(){try{var e=JSON.parse(sessionStorage.getItem(o));if(\"object\"==typeof e&&\"number\"==typeof e.timestamp&&(new Date).valueOf()<e.timestamp+604800&&\"object\"==typeof e.supportTests)return e.supportTests}catch(e){}return null}();if(!n){if(\"undefined\"!=typeof Worker&&\"undefined\"!=typeof OffscreenCanvas&&\"undefined\"!=typeof URL&&URL.createObjectURL&&\"undefined\"!=typeof Blob)try{var e=\"postMessage(\"+f.toString()+\"(\"+[JSON.stringify(s),u.toString(),p.toString()].join(\",\")+\"));\",r=new Blob([e],{type:\"text/javascript\"}),a=new Worker(URL.createObjectURL(r),{name:\"wpTestEmojiSupports\"});return void(a.onmessage=function(e){c(n=e.data),a.terminate(),t(n)})}catch(e){}c(n=f(s,u,p))}t(n)}).then(function(e){for(var t in e)n.supports[t]=e[t],n.supports.everything=n.supports.everything&&n.supports[t],\"flag\"!==t&&(n.supports.everythingExceptFlag=n.supports.everythingExceptFlag&&n.supports[t]);n.supports.everythingExceptFlag=n.supports.everythingExceptFlag&&!n.supports.flag,n.DOMReady=!1,n.readyCallback=function(){n.DOMReady=!0}}).then(function(){return e}).then(function(){var e;n.supports.everything||(n.readyCallback(),(e=n.source||{}).concatemoji?t(e.concatemoji):e.wpemoji&&e.twemoji&&(t(e.twemoji),t(e.wpemoji)))}))}((window,document),window._wpemojiSettings);\\n/* ]]> */\\n</script>\\n<style id=\\'wp-emoji-styles-inline-css\\' type=\\'text/css\\'>\\n\\n\\timg.wp-smiley, img.emoji {\\n\\t\\tdisplay: inline !important;\\n\\t\\tborder: none !important;\\n\\t\\tbox-shadow: none !important;\\n\\t\\theight: 1em !important;\\n\\t\\twidth: 1em !important;\\n\\t\\tmargin: 0 0.07em !important;\\n\\t\\tvertical-align: -0.1em !important;\\n\\t\\tbackground: none !important;\\n\\t\\tpadding: 0 !important;\\n\\t}\\n</style>\\n<link rel=\\'stylesheet\\' id=\\'awsm-team-css-css\\' href=\\'https://civmin.utoronto.ca/wp-content/plugins/awsm-team-pro/css/team.min.css?ver=1.10.2\\' type=\\'text/css\\' media=\\'all\\' />\\n<link rel=\\'stylesheet\\' id=\\'font-awesome-5-css\\' href=\\'https://civmin.utoronto.ca/wp-content/plugins/bb-plugin/fonts/fontawesome/5.15.4/css/all.min.css?ver=2.8.3.6\\' type=\\'text/css\\' media=\\'all\\' />\\n<link rel=\\'stylesheet\\' id=\\'fl-builder-layout-27502-css\\' href=\\'https://civmin.utoronto.ca/wp-content/uploads/bb-plugin/cache/27502-layout.css?ver=fd6d6dabf9b22aba6ae03715f08c73ea\\' type=\\'text/css\\' media=\\'all\\' />\\n<link rel=\\'stylesheet\\' id=\\'main-css\\' href=\\'https://civmin.utoronto.ca/wp-content/themes/fase-theme-2023-master/dist/css/index.min.css?ver=1.0.3\\' type=\\'text/css\\' media=\\'all\\' />\\n<link rel=\\'stylesheet\\' id=\\'general-css\\' href=\\'https://civmin.utoronto.ca/wp-content/themes/fase-theme-2023-master/dist/css/general.min.css?ver=1.0.3\\' type=\\'text/css\\' media=\\'all\\' />\\n<link rel=\\'stylesheet\\' id=\\'fonts-css\\' href=\\'https://fonts.googleapis.com/css?family=Open+Sans%3A400%2C600%2C700&#038;ver=1.1\\' type=\\'text/css\\' media=\\'all\\' />\\n<link rel=\\'stylesheet\\' id=\\'typekit-css\\' href=\\'https://use.typekit.net/egq6ygb.css?ver=1.0\\' type=\\'text/css\\' media=\\'all\\' />\\n<link rel=\\'stylesheet\\' id=\\'tablepress-default-css\\' href=\\'https://civmin.utoronto.ca/wp-content/tablepress-combined.min.css?ver=126\\' type=\\'text/css\\' media=\\'all\\' />\\n<link rel=\\'stylesheet\\' id=\\'pp-animate-css\\' href=\\'https://civmin.utoronto.ca/wp-content/plugins/bbpowerpack/assets/css/animate.min.css?ver=3.5.1\\' type=\\'text/css\\' media=\\'all\\' />\\n<script type=\"text/javascript\" id=\"jquery-core-js-extra\">\\n/* <![CDATA[ */\\nvar SDT_DATA = {\"ajaxurl\":\"https:\\\\/\\\\/civmin.utoronto.ca\\\\/wp-admin\\\\/admin-ajax.php\",\"siteUrl\":\"https:\\\\/\\\\/civmin.utoronto.ca\\\\/\",\"pluginsUrl\":\"https:\\\\/\\\\/civmin.utoronto.ca\\\\/wp-content\\\\/plugins\",\"isAdmin\":\"\"};\\n/* ]]> */\\n</script>\\n<script type=\"text/javascript\" src=\"https://civmin.utoronto.ca/wp-includes/js/jquery/jquery.min.js?ver=3.7.1\" id=\"jquery-core-js\"></script>\\n<script type=\"text/javascript\" defer=\\'defer\\' src=\"https://civmin.utoronto.ca/wp-includes/js/jquery/jquery-migrate.min.js?ver=3.4.1\" id=\"jquery-migrate-js\"></script>\\n<script type=\"text/javascript\" src=\"https://civmin.utoronto.ca/wp-content/plugins/google-analytics-premium/assets/js/frontend-gtag.min.js?ver=9.0.2\" id=\"monsterinsights-frontend-script-js\"></script>\\n<script data-cfasync=\"false\" data-wpfc-render=\"false\" type=\"text/javascript\" id=\\'monsterinsights-frontend-script-js-extra\\'>/* <![CDATA[ */\\nvar monsterinsights_frontend = {\"js_events_tracking\":\"true\",\"download_extensions\":\"doc,pdf,ppt,zip,xls,docx,pptx,xlsx\",\"inbound_paths\":\"[]\",\"home_url\":\"https:\\\\/\\\\/civmin.utoronto.ca\",\"hash_tracking\":\"false\",\"v4_id\":\"G-2E9NND0N6Y\"};/* ]]> */\\n</script>\\n<script type=\"text/javascript\" src=\"https://civmin.utoronto.ca/wp-content/themes/fase-theme-2023-master/assets/js/vendor/lazysizes.min.js?ver=1.0.0\" id=\"lazysizes-js\"></script>\\n<script type=\"text/javascript\" src=\"https://civmin.utoronto.ca/wp-content/themes/fase-theme-2023-master/assets/js/vendor/focus-visible-main/focus-visible.js?ver=1.0.0\" id=\"focus-visible-js\"></script>\\n<script type=\"text/javascript\" src=\"https://civmin.utoronto.ca/wp-content/themes/fase-theme-2023-master/dist/js/bundled/browser-detect-combined.min.js?ver=1.0.0\" id=\"browser-detect-js\"></script>\\n<link rel=\"https://api.w.org/\" href=\"https://civmin.utoronto.ca/wp-json/\" /><link rel=\"alternate\" title=\"JSON\" type=\"application/json\" href=\"https://civmin.utoronto.ca/wp-json/wp/v2/pages/27502\" /><link rel=\"EditURI\" type=\"application/rsd+xml\" title=\"RSD\" href=\"https://civmin.utoronto.ca/xmlrpc.php?rsd\" />\\n<meta name=\"generator\" content=\"WordPress 6.6.2\" />\\n<link rel=\"canonical\" href=\"https://civmin.utoronto.ca/\" />\\n<link rel=\\'shortlink\\' href=\\'https://civmin.utoronto.ca/\\' />\\n<link rel=\"alternate\" title=\"oEmbed (JSON)\" type=\"application/json+oembed\" href=\"https://civmin.utoronto.ca/wp-json/oembed/1.0/embed?url=https%3A%2F%2Fcivmin.utoronto.ca%2F\" />\\n<link rel=\"alternate\" title=\"oEmbed (XML)\" type=\"text/xml+oembed\" href=\"https://civmin.utoronto.ca/wp-json/oembed/1.0/embed?url=https%3A%2F%2Fcivmin.utoronto.ca%2F&#038;format=xml\" />\\n\\t\\t<script>\\n\\t\\t\\tvar bb_powerpack = {\\n\\t\\t\\t\\tsearch_term: \\'\\',\\n\\t\\t\\t\\tversion: \\'2.37.6\\',\\n\\t\\t\\t\\tgetAjaxUrl: function() { return atob( \\'aHR0cHM6Ly9jaXZtaW4udXRvcm9udG8uY2Evd3AtYWRtaW4vYWRtaW4tYWpheC5waHA=\\' ); },\\n\\t\\t\\t\\tcallback: function() {}\\n\\t\\t\\t};\\n\\t\\t</script>\\n\\t\\t<meta name=\"tec-api-version\" content=\"v1\"><meta name=\"tec-api-origin\" content=\"https://civmin.utoronto.ca\"><link rel=\"alternate\" href=\"https://civmin.utoronto.ca/wp-json/tribe/events/v1/\" /><link rel=\"icon\" href=\"https://civmin.utoronto.ca/wp-content/uploads/2014/06/cropped-Title-Screen-Twitter-Logo-2-32x32.png\" sizes=\"32x32\" />\\n<link rel=\"icon\" href=\"https://civmin.utoronto.ca/wp-content/uploads/2014/06/cropped-Title-Screen-Twitter-Logo-2-192x192.png\" sizes=\"192x192\" />\\n<link rel=\"apple-touch-icon\" href=\"https://civmin.utoronto.ca/wp-content/uploads/2014/06/cropped-Title-Screen-Twitter-Logo-2-180x180.png\" />\\n<meta name=\"msapplication-TileImage\" content=\"https://civmin.utoronto.ca/wp-content/uploads/2014/06/cropped-Title-Screen-Twitter-Logo-2-270x270.png\" />\\n\\t\\t<style type=\"text/css\" id=\"wp-custom-css\">\\n\\t\\t\\t.main-nav-bar .primary-nav > li a {\\n    font-size: 0.95rem;\\n}\\n\\n.ai1ec-day {\\n\\tline-height:0.5;\\n}\\n\\nimg, figure {\\n\\tmax-width: 100%;\\n}\\n\\n.page-template-default.fl-builder .entry-content>.fl-builder-content>.fl-row.fl-row-fixed-width .fl-row-fixed-width, .page-template-default.fl-builder .entry-content>.fl-builder-content>.fl-row.fl-row-fixed-width .fl-row-full-width, .page-template-default.fl-builder .entry-content>.fl-builder-content>.fl-row.fl-row-full-width .fl-row-fixed-width, .page-template-default.fl-builder .entry-content>.fl-builder-content>.fl-row.fl-row-full-width .fl-row-full-width {\\n    margin-left: 0rem !important;\\t\\t</style>\\n\\t\\t</head>\\r\\n\\r\\n\\r\\n<body class=\"home page-template page-template-templates page-template-page-wide page-template-templatespage-wide-php page page-id-27502 fl-builder fl-builder-2-8-3-6 fl-theme-1 tribe-no-js\">\\r\\n\\t<div id=\"page\" class=\"site\">\\r\\n\\t\\t<header>\\n\\t<a href=\"#content\" class=\"screen-reader-text skip-link\">Skip to content</a>\\n\\t<div class=\"top-bar grey-bar\">\\n\\t\\t<div class=\"d-md-flex align-items-center content-wrap flex-row justify-content-between\">\\n\\t\\t\\t<div class=\"top-bar-left p-2\">\\n\\t\\t\\t\\t<span class=\"top-bar-left-1\">\\n\\t\\t\\t\\t\\t<a href=\"https://www.engineering.utoronto.ca\">\\n\\t\\t\\t\\t\\t\\t<span class=\"icon-home\" aria-hidden=\"true\" tabindex=\"-1\"></span>\\n\\t\\t\\t\\t\\t\\t<span class=\"link\">U of T ENGINEERING</span>\\n\\t\\t\\t\\t\\t</a>\\n\\t\\t\\t\\t</span>\\n\\t\\t\\t\\t\\t\\t\\t</div>\\n\\t\\t\\t<div class=\"top-bar-right p-2\">\\n\\t\\t\\t<div class=\"menu-top-menu-container\"><ul id=\"secondaryNav\" class=\"top-nav\"><li itemscope=\"itemscope\" itemtype=\"https://www.schema.org/SiteNavigationElement\" id=\"menu-item-32446\" class=\"menu-item menu-item-type-custom menu-item-object-custom menu-item-32446 nav-item level-0\"><a href=\"https://www.utoronto.ca/\" class=\"nav-link\" id=\"menu-item-link-32446\">U of T Home</a></li>\\n<li itemscope=\"itemscope\" itemtype=\"https://www.schema.org/SiteNavigationElement\" id=\"menu-item-32447\" class=\"menu-item menu-item-type-custom menu-item-object-custom menu-item-32447 nav-item level-0\"><a href=\"https://alumni.engineering.utoronto.ca/giving/\" class=\"nav-link\" id=\"menu-item-link-32447\">Give Now</a></li>\\n<li itemscope=\"itemscope\" itemtype=\"https://www.schema.org/SiteNavigationElement\" id=\"menu-item-32448\" class=\"menu-item menu-item-type-custom menu-item-object-custom menu-item-32448 nav-item level-0\"><a href=\"https://www.engineering.utoronto.ca/mental-health-wellness/talk-to-someone-right-now/\" class=\"nav-link\" id=\"menu-item-link-32448\">Urgent Support</a></li>\\n<li itemscope=\"itemscope\" itemtype=\"https://www.schema.org/SiteNavigationElement\" id=\"menu-item-32449\" class=\"menu-item menu-item-type-custom menu-item-object-custom menu-item-32449 nav-item level-0\"><a href=\"https://civmin.utoronto.ca/home/about-us/contact-us/\" class=\"nav-link\" id=\"menu-item-link-32449\">Contact</a></li>\\n</ul></div>\\t\\t\\t</div>\\n\\t\\t</div>\\n\\t</div>\\n\\t<div class=\"middle-bar -with-title\">\\n\\t\\t<div class=\"d-flex align-items-center content-wrap justify-content-between flex-wrap\">\\n\\t\\t\\t<div class=\"main-logo\">\\n\\t\\t\\t\\t<a href=\"https://civmin.utoronto.ca\" aria-hidden=\"true\" tabIndex=\"-1\"><img src=\"https://civmin.utoronto.ca/wp-content/uploads/2023/02/CivMin_Signature_655.svg\" alt=\"Department of Civil &amp; Mineral Engineering Home Page\" height=\"126\" width=\"618\" /></a>\\n\\t\\t\\t</div>\\n\\t\\t\\t<div class=\"main-search\">\\n\\t\\t\\t\\t<form role=\"search\" aria-label=\"Primary search form\" method=\"get\" class=\"search-form\" action=\"https://find.utoronto.ca/search\">\\n\\t<label for=\"headerSearch\">\\n\\t\\t<span class=\"screen-reader-text\">Search for:</span>\\n\\t\\t<input id=\"headerSearch\" type=\"search\" class=\"search-field\" placeholder=\"Search\" value=\"\" name=\"q\" />\\n\\t</label>\\n\\t<button type=\"submit\" class=\"header-search-submit\">\\n\\t\\t<span class=\"icon-search\" aria-hidden=\"true\" ></span>\\n\\t\\t<span class=\"screen-reader-text\">Submit Search</span>\\n\\t</button>\\n\\t\\t\\t<input type=\"hidden\" name=\"output\" value=\"xml_no_dtd\">\\n\\t\\t<input type=\"hidden\" name=\"ie\" value=\"UTF-8\">\\n\\t\\t<input type=\"hidden\" name=\"oe\" value=\"UTF-8\">\\n\\t\\t<input type=\"hidden\" name=\"site\" value=\"Engineering\">\\n\\t\\t<input type=\"hidden\" name=\"client\" value=\"engineering\">\\n\\t\\t<input type=\"hidden\" name=\"proxystylesheet\" value=\"engineering\">\\n\\t\\t</form>\\n\\t\\t\\t</div>\\n\\t\\t\\t<div class=\"desktop-hidden nav-bar-toggle\">\\n\\t\\t\\t\\t<button class=\"main-nav-toggle\" aria-controls=\"mainNavBar\" type=\"button\" aria-expanded=\"false\" aria-hidden=\"true\" tabindex=\"-1\">\\n\\t\\t\\t\\t\\t<span class=\"transformicon\"></span>\\n\\t\\t\\t\\t\\t<span class=\"screen-reader-text\">Main Menu</span>\\n\\t\\t\\t\\t</button>\\n\\t\\t\\t</div>\\n\\t\\t</div>\\n\\t</div>\\n\\t<div class=\"title-bar grey-bar large-hidden\">\\n\\t\\t<div class=\"content-wrap\">\\n\\t\\t\\t<p><a href=\"https://civmin.utoronto.ca\">Department of Civil &amp; Mineral Engineering</a></p>\\n\\t\\t</div>\\n\\t</div>\\n\\t<div class=\"main-nav-bar\" id=\"mainNavBar\">\\n\\t\\t<div class=\"content-wrap\">\\n\\t\\t\\t<div class=\"main-nav\">\\n\\t\\t\\t<nav class=\"menu-main-v2-container\" aria-label=\"Primary navigation\"><ul id=\"primaryNav\" class=\"primary-nav\"><li itemscope=\"itemscope\" itemtype=\"https://www.schema.org/SiteNavigationElement\" id=\"menu-item-20345\" class=\"menu-item menu-item-type-post_type menu-item-object-page menu-item-has-children dropdown menu-item-20345 nav-item level-0\"><a href=\"https://civmin.utoronto.ca/home/about-us/\" data-url=\"https://civmin.utoronto.ca/home/about-us/\" data-toggle=\"dropdown\" role=\"button\" class=\"dropdown-toggle nav-link\" id=\"menu-item-dropdown-20345\">About</a>\\n<ul class=\"sub-menu\" aria-labelledby=\"menu-item-dropdown-20345\" role=\"menu\" aria-label=\"Sub menu navigation list\" >\\n\\t<li itemscope=\"itemscope\" itemtype=\"https://www.schema.org/SiteNavigationElement\" id=\"menu-item-35433\" class=\"menu-item menu-item-type-post_type menu-item-object-page menu-item-has-children dropdown menu-item-35433 nav-item level-1\"><a href=\"https://civmin.utoronto.ca/home/about-us/about-civmin/\" class=\"dropdown-item\" id=\"menu-item-link-35433\">About CivMin</a>\\n\\t<ul class=\"sub-menu\" aria-labelledby=\"menu-item-link-35433\" role=\"menu\" aria-label=\"Sub menu navigation list\" >\\n\\t\\t<li itemscope=\"itemscope\" itemtype=\"https://www.schema.org/SiteNavigationElement\" id=\"menu-item-37017\" class=\"menu-item menu-item-type-post_type menu-item-object-page menu-item-37017 nav-item level-2\"><a href=\"https://civmin.utoronto.ca/self-study/\" class=\"dropdown-item\" id=\"menu-item-link-37017\">Self-Study</a></li>\\n\\t\\t<li itemscope=\"itemscope\" itemtype=\"https://www.schema.org/SiteNavigationElement\" id=\"menu-item-35434\" class=\"menu-item menu-item-type-post_type menu-item-object-page menu-item-35434 nav-item level-2\"><a href=\"https://civmin.utoronto.ca/home/about-us/about-civmin/history/\" class=\"dropdown-item\" id=\"menu-item-link-35434\">Department History</a></li>\\n\\t\\t<li itemscope=\"itemscope\" itemtype=\"https://www.schema.org/SiteNavigationElement\" id=\"menu-item-36843\" class=\"menu-item menu-item-type-post_type menu-item-object-page menu-item-36843 nav-item level-2\"><a href=\"https://civmin.utoronto.ca/home/about-us/camp/\" class=\"dropdown-item\" id=\"menu-item-link-36843\">Camp</a></li>\\n\\t\\t<li itemscope=\"itemscope\" itemtype=\"https://www.schema.org/SiteNavigationElement\" id=\"menu-item-35435\" class=\"menu-item menu-item-type-post_type menu-item-object-page menu-item-35435 nav-item level-2\"><a href=\"https://civmin.utoronto.ca/home/about-us/about-civmin/skygarden/\" class=\"dropdown-item\" id=\"menu-item-link-35435\">SkyGarden</a></li>\\n\\t</ul>\\n</li>\\n\\t<li itemscope=\"itemscope\" itemtype=\"https://www.schema.org/SiteNavigationElement\" id=\"menu-item-20347\" class=\"menu-item menu-item-type-post_type menu-item-object-page menu-item-20347 nav-item level-1\"><a href=\"https://civmin.utoronto.ca/home/about-us/about-civmin/department-leadership/\" class=\"dropdown-item\" id=\"menu-item-link-20347\">Department Leadership</a></li>\\n\\t<li itemscope=\"itemscope\" itemtype=\"https://www.schema.org/SiteNavigationElement\" id=\"menu-item-20370\" class=\"menu-item menu-item-type-post_type menu-item-object-page menu-item-20370 nav-item level-1\"><a href=\"https://civmin.utoronto.ca/home/about-us/directory/\" class=\"dropdown-item\" id=\"menu-item-link-20370\">Directory</a></li>\\n\\t<li itemscope=\"itemscope\" itemtype=\"https://www.schema.org/SiteNavigationElement\" id=\"menu-item-20349\" class=\"menu-item menu-item-type-post_type menu-item-object-page menu-item-has-children dropdown menu-item-20349 nav-item level-1\"><a href=\"https://civmin.utoronto.ca/home/about-us/news/\" class=\"dropdown-item\" id=\"menu-item-link-20349\">News</a>\\n\\t<ul class=\"sub-menu\" aria-labelledby=\"menu-item-link-20349\" role=\"menu\" aria-label=\"Sub menu navigation list\" >\\n\\t\\t<li itemscope=\"itemscope\" itemtype=\"https://www.schema.org/SiteNavigationElement\" id=\"menu-item-27165\" class=\"menu-item menu-item-type-post_type menu-item-object-page menu-item-27165 nav-item level-2\"><a href=\"https://civmin.utoronto.ca/home/about-us/past-newsletters/\" class=\"dropdown-item\" id=\"menu-item-link-27165\">Past Newsletters</a></li>\\n\\t\\t<li itemscope=\"itemscope\" itemtype=\"https://www.schema.org/SiteNavigationElement\" id=\"menu-item-20350\" class=\"menu-item menu-item-type-post_type menu-item-object-page menu-item-20350 nav-item level-2\"><a href=\"https://civmin.utoronto.ca/home/about-us/calendar/lectures/\" class=\"dropdown-item\" id=\"menu-item-link-20350\">Distinguished Lectures</a></li>\\n\\t</ul>\\n</li>\\n\\t<li itemscope=\"itemscope\" itemtype=\"https://www.schema.org/SiteNavigationElement\" id=\"menu-item-20348\" class=\"menu-item menu-item-type-post_type menu-item-object-page menu-item-20348 nav-item level-1\"><a href=\"https://civmin.utoronto.ca/home/about-us/opportunities/\" class=\"dropdown-item\" id=\"menu-item-link-20348\">Job Opportunities</a></li>\\n\\t<li itemscope=\"itemscope\" itemtype=\"https://www.schema.org/SiteNavigationElement\" id=\"menu-item-29022\" class=\"menu-item menu-item-type-post_type menu-item-object-page menu-item-29022 nav-item level-1\"><a href=\"https://civmin.utoronto.ca/home/about-us/equity-diversity-and-inclusion/\" class=\"dropdown-item\" id=\"menu-item-link-29022\">Equity, Diversity and Inclusion</a></li>\\n\\t<li itemscope=\"itemscope\" itemtype=\"https://www.schema.org/SiteNavigationElement\" id=\"menu-item-20351\" class=\"menu-item menu-item-type-post_type menu-item-object-page menu-item-20351 nav-item level-1\"><a href=\"https://civmin.utoronto.ca/home/about-us/contact-us/\" class=\"dropdown-item\" id=\"menu-item-link-20351\">Contact Us</a></li>\\n</ul>\\n</li>\\n<li itemscope=\"itemscope\" itemtype=\"https://www.schema.org/SiteNavigationElement\" id=\"menu-item-40101\" class=\"menu-item menu-item-type-custom menu-item-object-custom menu-item-has-children dropdown menu-item-40101 nav-item level-0\"><a href=\"#\" data-url=\"#\" data-toggle=\"dropdown\" role=\"button\" class=\"dropdown-toggle nav-link\" id=\"menu-item-dropdown-40101\">Undergraduate Students</a>\\n<ul class=\"sub-menu\" aria-labelledby=\"menu-item-dropdown-40101\" role=\"menu\" aria-label=\"Sub menu navigation list\" >\\n\\t<li itemscope=\"itemscope\" itemtype=\"https://www.schema.org/SiteNavigationElement\" id=\"menu-item-20353\" class=\"menu-item menu-item-type-post_type menu-item-object-page menu-item-20353 nav-item level-1\"><a href=\"https://civmin.utoronto.ca/home/programs/undergraduate-programs/\" class=\"dropdown-item\" id=\"menu-item-link-20353\">Undergraduate Programs &#038; Admission</a></li>\\n\\t<li itemscope=\"itemscope\" itemtype=\"https://www.schema.org/SiteNavigationElement\" id=\"menu-item-40094\" class=\"menu-item menu-item-type-custom menu-item-object-custom menu-item-40094 nav-item level-1\"><a href=\"https://engineering.calendar.utoronto.ca/search-courses\" class=\"dropdown-item\" id=\"menu-item-link-40094\">Undergraduate Courses</a></li>\\n\\t<li itemscope=\"itemscope\" itemtype=\"https://www.schema.org/SiteNavigationElement\" id=\"menu-item-20355\" class=\"menu-item menu-item-type-post_type menu-item-object-page menu-item-20355 nav-item level-1\"><a href=\"https://civmin.utoronto.ca/home/programs/office-of-student-services/\" class=\"dropdown-item\" id=\"menu-item-link-20355\">Office of Student Services</a></li>\\n\\t<li itemscope=\"itemscope\" itemtype=\"https://www.schema.org/SiteNavigationElement\" id=\"menu-item-40114\" class=\"menu-item menu-item-type-custom menu-item-object-custom menu-item-40114 nav-item level-1\"><a href=\"https://q.utoronto.ca/courses/89657\" class=\"dropdown-item\" id=\"menu-item-link-40114\">Info Hub (Current Students)</a></li>\\n</ul>\\n</li>\\n<li itemscope=\"itemscope\" itemtype=\"https://www.schema.org/SiteNavigationElement\" id=\"menu-item-40102\" class=\"menu-item menu-item-type-custom menu-item-object-custom menu-item-has-children dropdown menu-item-40102 nav-item level-0\"><a href=\"#\" data-url=\"#\" data-toggle=\"dropdown\" role=\"button\" class=\"dropdown-toggle nav-link\" id=\"menu-item-dropdown-40102\">Graduate Students</a>\\n<ul class=\"sub-menu\" aria-labelledby=\"menu-item-dropdown-40102\" role=\"menu\" aria-label=\"Sub menu navigation list\" >\\n\\t<li itemscope=\"itemscope\" itemtype=\"https://www.schema.org/SiteNavigationElement\" id=\"menu-item-37297\" class=\"menu-item menu-item-type-post_type menu-item-object-page menu-item-37297 nav-item level-1\"><a href=\"https://civmin.utoronto.ca/home/programs/graduate-programs/professional-programs/\" class=\"dropdown-item\" id=\"menu-item-link-37297\">Professional Degree Programs</a></li>\\n\\t<li itemscope=\"itemscope\" itemtype=\"https://www.schema.org/SiteNavigationElement\" id=\"menu-item-37296\" class=\"menu-item menu-item-type-post_type menu-item-object-page menu-item-37296 nav-item level-1\"><a href=\"https://civmin.utoronto.ca/home/programs/graduate-programs/research-programs/\" class=\"dropdown-item\" id=\"menu-item-link-37296\">Research Degree Programs</a></li>\\n\\t<li itemscope=\"itemscope\" itemtype=\"https://www.schema.org/SiteNavigationElement\" id=\"menu-item-20445\" class=\"menu-item menu-item-type-post_type menu-item-object-page menu-item-20445 nav-item level-1\"><a href=\"https://civmin.utoronto.ca/home/admissions/graduate-admissions/\" class=\"dropdown-item\" id=\"menu-item-link-20445\">Graduate Admissions</a></li>\\n\\t<li itemscope=\"itemscope\" itemtype=\"https://www.schema.org/SiteNavigationElement\" id=\"menu-item-28204\" class=\"menu-item menu-item-type-post_type menu-item-object-page menu-item-28204 nav-item level-1\"><a href=\"https://civmin.utoronto.ca/home/programs/graduate-programs/graduate-fees-scholarships-and-funding/\" class=\"dropdown-item\" id=\"menu-item-link-28204\">Graduate Fees, Scholarships &#038; Funding</a></li>\\n\\t<li itemscope=\"itemscope\" itemtype=\"https://www.schema.org/SiteNavigationElement\" id=\"menu-item-40107\" class=\"menu-item menu-item-type-post_type menu-item-object-page menu-item-40107 nav-item level-1\"><a href=\"https://civmin.utoronto.ca/home/programs/courses/graduate-courses/\" class=\"dropdown-item\" id=\"menu-item-link-40107\">Graduate Courses</a></li>\\n\\t<li itemscope=\"itemscope\" itemtype=\"https://www.schema.org/SiteNavigationElement\" id=\"menu-item-40115\" class=\"menu-item menu-item-type-custom menu-item-object-custom menu-item-40115 nav-item level-1\"><a href=\"https://q.utoronto.ca/courses/97618\" class=\"dropdown-item\" id=\"menu-item-link-40115\">Grad Info Hub (Current Students)</a></li>\\n</ul>\\n</li>\\n<li itemscope=\"itemscope\" itemtype=\"https://www.schema.org/SiteNavigationElement\" id=\"menu-item-20360\" class=\"menu-item menu-item-type-custom menu-item-object-custom menu-item-has-children dropdown menu-item-20360 nav-item level-0\"><a href=\"https://civmin.utoronto.ca/home/our-research/research/\" data-url=\"https://civmin.utoronto.ca/home/our-research/research/\" data-toggle=\"dropdown\" role=\"button\" class=\"dropdown-toggle nav-link\" id=\"menu-item-dropdown-20360\">Research</a>\\n<ul class=\"sub-menu\" aria-labelledby=\"menu-item-dropdown-20360\" role=\"menu\" aria-label=\"Sub menu navigation list\" >\\n\\t<li itemscope=\"itemscope\" itemtype=\"https://www.schema.org/SiteNavigationElement\" id=\"menu-item-20359\" class=\"menu-item menu-item-type-post_type menu-item-object-page menu-item-20359 nav-item level-1\"><a href=\"https://civmin.utoronto.ca/home/our-research/research/\" class=\"dropdown-item\" id=\"menu-item-link-20359\">Research Themes</a></li>\\n\\t<li itemscope=\"itemscope\" itemtype=\"https://www.schema.org/SiteNavigationElement\" id=\"menu-item-20357\" class=\"menu-item menu-item-type-post_type menu-item-object-page menu-item-20357 nav-item level-1\"><a href=\"https://civmin.utoronto.ca/home/our-research/institutes-centres/\" class=\"dropdown-item\" id=\"menu-item-link-20357\">Institutes &#038; Centres</a></li>\\n\\t<li itemscope=\"itemscope\" itemtype=\"https://www.schema.org/SiteNavigationElement\" id=\"menu-item-28539\" class=\"menu-item menu-item-type-custom menu-item-object-custom menu-item-28539 nav-item level-1\"><a href=\"https://civmin.utoronto.ca/civmin-research-handbook/\" class=\"dropdown-item\" id=\"menu-item-link-28539\">CivMin Research Handbook</a></li>\\n\\t<li itemscope=\"itemscope\" itemtype=\"https://www.schema.org/SiteNavigationElement\" id=\"menu-item-20358\" class=\"menu-item menu-item-type-post_type menu-item-object-page menu-item-20358 nav-item level-1\"><a href=\"https://civmin.utoronto.ca/home/our-research/facilities/\" class=\"dropdown-item\" id=\"menu-item-link-20358\">Research Facilities</a></li>\\n</ul>\\n</li>\\n<li itemscope=\"itemscope\" itemtype=\"https://www.schema.org/SiteNavigationElement\" id=\"menu-item-20361\" class=\"menu-item menu-item-type-post_type menu-item-object-page menu-item-has-children dropdown menu-item-20361 nav-item level-0\"><a href=\"https://civmin.utoronto.ca/home/partner-with-us/\" data-url=\"https://civmin.utoronto.ca/home/partner-with-us/\" data-toggle=\"dropdown\" role=\"button\" class=\"dropdown-toggle nav-link\" id=\"menu-item-dropdown-20361\">Partner with Us</a>\\n<ul class=\"sub-menu\" aria-labelledby=\"menu-item-dropdown-20361\" role=\"menu\" aria-label=\"Sub menu navigation list\" >\\n\\t<li itemscope=\"itemscope\" itemtype=\"https://www.schema.org/SiteNavigationElement\" id=\"menu-item-20362\" class=\"menu-item menu-item-type-post_type menu-item-object-page menu-item-20362 nav-item level-1\"><a href=\"https://civmin.utoronto.ca/home/partner-with-us/hire-an-engineering-student-or-graduate/\" class=\"dropdown-item\" id=\"menu-item-link-20362\">Hire An Engineering Student Or Graduate</a></li>\\n\\t<li itemscope=\"itemscope\" itemtype=\"https://www.schema.org/SiteNavigationElement\" id=\"menu-item-20363\" class=\"menu-item menu-item-type-post_type menu-item-object-page menu-item-20363 nav-item level-1\"><a href=\"https://civmin.utoronto.ca/home/partner-with-us/research-partnerships/\" class=\"dropdown-item\" id=\"menu-item-link-20363\">Research Partnerships</a></li>\\n\\t<li itemscope=\"itemscope\" itemtype=\"https://www.schema.org/SiteNavigationElement\" id=\"menu-item-28137\" class=\"menu-item menu-item-type-post_type menu-item-object-page menu-item-28137 nav-item level-1\"><a href=\"https://civmin.utoronto.ca/home/partner-with-us/industry-advisory-board/\" class=\"dropdown-item\" id=\"menu-item-link-28137\">Industry Advisory Board (CivE)</a></li>\\n\\t<li itemscope=\"itemscope\" itemtype=\"https://www.schema.org/SiteNavigationElement\" id=\"menu-item-34374\" class=\"menu-item menu-item-type-post_type menu-item-object-page menu-item-34374 nav-item level-1\"><a href=\"https://civmin.utoronto.ca/home/partner-with-us/lmep-advisory-board/\" class=\"dropdown-item\" id=\"menu-item-link-34374\">Lassonde Mineral Engineering Program Advisory Board</a></li>\\n</ul>\\n</li>\\n<li itemscope=\"itemscope\" itemtype=\"https://www.schema.org/SiteNavigationElement\" id=\"menu-item-36335\" class=\"menu-item menu-item-type-custom menu-item-object-custom menu-item-has-children dropdown menu-item-36335 nav-item level-0\"><a href=\"#\" data-url=\"#\" data-toggle=\"dropdown\" role=\"button\" class=\"dropdown-toggle nav-link\" id=\"menu-item-dropdown-36335\">Alumni</a>\\n<ul class=\"sub-menu\" aria-labelledby=\"menu-item-dropdown-36335\" role=\"menu\" aria-label=\"Sub menu navigation list\" >\\n\\t<li itemscope=\"itemscope\" itemtype=\"https://www.schema.org/SiteNavigationElement\" id=\"menu-item-20365\" class=\"menu-item menu-item-type-post_type menu-item-object-page menu-item-20365 nav-item level-1\"><a href=\"https://civmin.utoronto.ca/home/alumni/get-connected/\" class=\"dropdown-item\" id=\"menu-item-link-20365\">Get Connected</a></li>\\n\\t<li itemscope=\"itemscope\" itemtype=\"https://www.schema.org/SiteNavigationElement\" id=\"menu-item-20366\" class=\"menu-item menu-item-type-post_type menu-item-object-page menu-item-20366 nav-item level-1\"><a href=\"https://civmin.utoronto.ca/home/alumni/foundations/\" class=\"dropdown-item\" id=\"menu-item-link-20366\">foundations Magazine</a></li>\\n\\t<li itemscope=\"itemscope\" itemtype=\"https://www.schema.org/SiteNavigationElement\" id=\"menu-item-20367\" class=\"menu-item menu-item-type-custom menu-item-object-custom menu-item-20367 nav-item level-1\"><a href=\"https://secureca.imodules.com/s/731/form-blank/index.aspx?sid=731&#038;gid=1&#038;pgid=11544&#038;cid=19864\" class=\"dropdown-item\" id=\"menu-item-link-20367\">Update Your Contact Information</a></li>\\n\\t<li itemscope=\"itemscope\" itemtype=\"https://www.schema.org/SiteNavigationElement\" id=\"menu-item-20369\" class=\"menu-item menu-item-type-custom menu-item-object-custom menu-item-20369 nav-item level-1\"><a href=\"https://www.camp1.ca/wordpress/\" class=\"dropdown-item\" id=\"menu-item-link-20369\">Iron Ring</a></li>\\n</ul>\\n</li>\\n<li itemscope=\"itemscope\" itemtype=\"https://www.schema.org/SiteNavigationElement\" id=\"menu-item-28324\" class=\"menu-item menu-item-type-custom menu-item-object-custom menu-item-28324 nav-item level-0\"><a href=\"https://utoronto.sharepoint.com/sites/fase-CivMin/SitePages/Home.aspx?OR=Teams-HL&#038;CT=1643992347378&#038;sourceId=&#038;params=%22AppName%22:%22Teams-Desktop%22,%22AppVersion%22:%2228/22010300409%22\" class=\"nav-link\" id=\"menu-item-link-28324\">CivMin Intranet</a></li>\\n<li itemscope=\"itemscope\" itemtype=\"https://www.schema.org/SiteNavigationElement\" id=\"menu-item-36192\" class=\"menu-item menu-item-type-post_type menu-item-object-page menu-item-36192 nav-item level-0\"><a href=\"https://civmin.utoronto.ca/health-and-safety/\" class=\"nav-link\" id=\"menu-item-link-36192\">Health &#038; Safety</a></li>\\n</ul></nav>\\t\\t\\t</div>\\n\\t\\t\\t\\t\\t\\t<div class=\"social-nav-wrapper\">\\n\\t\\t\\t<div class=\"menu-social-container\"><ul id=\"menu-social\" class=\"social-nav\"><li itemscope=\"itemscope\" itemtype=\"https://www.schema.org/SiteNavigationElement\" id=\"menu-item-14159\" class=\"menu-item menu-item-type-custom menu-item-object-custom menu-item-14159 nav-item\"><a href=\"https://www.facebook.com/civminutoronto/\" class=\"nav-link\"><span class=\"soc-icon-facebook\"></span><span class=\"screen-reader-text\">Facebook</span></span></a></li>\\n<li itemscope=\"itemscope\" itemtype=\"https://www.schema.org/SiteNavigationElement\" id=\"menu-item-14160\" class=\"menu-item menu-item-type-custom menu-item-object-custom menu-item-14160 nav-item\"><a href=\"https://twitter.com/civmin?lang=en\" class=\"nav-link\"><span class=\"soc-icon-twitter\"></span><span class=\"screen-reader-text\">Twitter/X</span></span></a></li>\\n<li itemscope=\"itemscope\" itemtype=\"https://www.schema.org/SiteNavigationElement\" id=\"menu-item-14161\" class=\"menu-item menu-item-type-custom menu-item-object-custom menu-item-14161 nav-item\"><a href=\"https://www.instagram.com/civmin/\" class=\"nav-link\"><span class=\"soc-icon-instagram\"></span><span class=\"screen-reader-text\">Instagram</span></span></a></li>\\n<li itemscope=\"itemscope\" itemtype=\"https://www.schema.org/SiteNavigationElement\" id=\"menu-item-22663\" class=\"menu-item menu-item-type-custom menu-item-object-custom menu-item-22663 nav-item\"><a href=\"https://www.linkedin.com/school/civmin/\" class=\"nav-link\"><span class=\"soc-icon-linkedin\"></span><span class=\"screen-reader-text\">LinkedIn</span></span></a></li>\\n<li itemscope=\"itemscope\" itemtype=\"https://www.schema.org/SiteNavigationElement\" id=\"menu-item-24105\" class=\"menu-item menu-item-type-custom menu-item-object-custom menu-item-24105 nav-item\"><a href=\"https://www.youtube.com/user/civmin\" class=\"nav-link\"><span class=\"soc-icon-youtube\"></span><span class=\"screen-reader-text\">Youtube</span></span></a></li>\\n</ul></div>\\t\\t\\t</div>\\n\\t\\t\\t\\t\\t\\t<div class=\"desktop-hidden main-nav-top-bar\" tabindex=\"-1\" aria-hidden=\"true\"></div>\\n\\t\\t\\t<div class=\"desktop-hidden main-nav-search-bar\" tabindex=\"-1\" aria-hidden=\"true\"></div>\\n\\t\\t</div>\\n\\t</div>\\n</header>\\n\\n<main class=\"primary content-area\" id=\"content\" tabindex=\"-1\">\\n\\t<div class=\"site-content content-wrap\">\\n\\t\\t<div class=\"page-content\">\\n\\t\\t\\t<article id=\"post-27502\" class=\"post-27502 page type-page status-publish hentry\">\\n\\n\\t<section class=\"entry-content\">\\n\\t\\t<div class=\"fl-builder-content fl-builder-content-27502 fl-builder-content-primary fl-builder-global-templates-locked\" data-post-id=\"27502\"><div class=\"fl-row fl-row-full-width fl-row-bg-photo fl-node-cev7w31kuip8 fl-row-default-height fl-row-align-center fl-row-bg-fixed\" data-node=\"cev7w31kuip8\">\\n\\t<div class=\"fl-row-content-wrap\">\\n\\t\\t\\t\\t\\t\\t<div class=\"fl-row-content fl-row-fixed-width fl-node-content\">\\n\\t\\t\\n<div class=\"fl-col-group fl-node-5a783hutsq1w\" data-node=\"5a783hutsq1w\">\\n\\t\\t\\t<div class=\"fl-col fl-node-4hml7peod295 fl-col-has-cols\" data-node=\"4hml7peod295\">\\n\\t<div class=\"fl-col-content fl-node-content\">\\n<div class=\"fl-col-group fl-node-g87srj6mtzek fl-col-group-nested\" data-node=\"g87srj6mtzek\">\\n\\t\\t\\t<div class=\"fl-col fl-node-b6nx0zyut295\" data-node=\"b6nx0zyut295\">\\n\\t<div class=\"fl-col-content fl-node-content\"><div class=\"fl-module fl-module-rich-text fl-node-vxs2h0alpgm9\" data-node=\"vxs2h0alpgm9\">\\n\\t<div class=\"fl-module-content fl-node-content\">\\n\\t\\t<div class=\"fl-rich-text\">\\n\\t<h1 style=\"text-align: center;\"><strong>Robot Made 2024</strong></h1>\\n</div>\\n\\t</div>\\n</div>\\n<div class=\"fl-module fl-module-button fl-node-i37d4gw1c6ap fl-animation fl-slide-in-down\" data-node=\"i37d4gw1c6ap\" data-animation-delay=\"0\" data-animation-duration=\"2\">\\n\\t<div class=\"fl-module-content fl-node-content\">\\n\\t\\t<div class=\"fl-button-wrap fl-button-width-auto fl-button-center fl-button-has-icon\">\\n\\t\\t\\t<a href=\"https://civmin.utoronto.ca/robot-made-2024/\" target=\"_self\" class=\"fl-button\">\\n\\t\\t\\t\\t\\t<i class=\"fl-button-icon fl-button-icon-before fas fa-mouse-pointer\" aria-hidden=\"true\"></i>\\n\\t\\t\\t\\t\\t\\t<span class=\"fl-button-text\">Read full story, find videos and pictures</span>\\n\\t\\t\\t\\t\\t</a>\\n</div>\\n\\t</div>\\n</div>\\n</div>\\n</div>\\n\\t</div>\\n</div>\\n</div>\\n\\t</div>\\n\\t\\t</div>\\n\\t</div>\\n</div>\\n<div class=\"fl-row fl-row-full-width fl-row-bg-color fl-node-7rfhqe8tv2sk fl-row-custom-height fl-row-align-center\" data-node=\"7rfhqe8tv2sk\">\\n\\t<div class=\"fl-row-content-wrap\">\\n\\t\\t\\t\\t\\t\\t<div class=\"fl-row-content fl-row-fixed-width fl-node-content\">\\n\\t\\t\\t\\t</div>\\n\\t</div>\\n</div>\\n<div class=\"fl-row fl-row-full-width fl-row-bg-none fl-node-rt0auzwcnmlg fl-row-custom-height fl-row-align-center\" data-node=\"rt0auzwcnmlg\">\\n\\t<div class=\"fl-row-content-wrap\">\\n\\t\\t\\t\\t\\t\\t<div class=\"fl-row-content fl-row-fixed-width fl-node-content\">\\n\\t\\t\\n<div class=\"fl-col-group fl-node-74xvrkqzgy58\" data-node=\"74xvrkqzgy58\">\\n\\t\\t\\t<div class=\"fl-col fl-node-xynomwetujla\" data-node=\"xynomwetujla\">\\n\\t<div class=\"fl-col-content fl-node-content\"><div class=\"fl-module fl-module-heading fl-node-mr2ks5hldz1f\" data-node=\"mr2ks5hldz1f\">\\n\\t<div class=\"fl-module-content fl-node-content\">\\n\\t\\t<h2 class=\"fl-heading\">\\n\\t\\t<a href=\"http://civmin.utoronto.ca/home/about-us/news/\" title=\"CivMin News\" target=\"_self\">\\n\\t\\t<span class=\"fl-heading-text\">CivMin News</span>\\n\\t\\t</a>\\n\\t</h2>\\n\\t</div>\\n</div>\\n<div class=\"fl-module fl-module-pp-content-grid fl-node-kdghnzjae6cv\" data-node=\"kdghnzjae6cv\">\\n\\t<div class=\"fl-module-content fl-node-content\">\\n\\t\\t<div class=\"pp-posts-wrapper\">\\n\\t\\t\\n\\t<div class=\"pp-content-posts\" style=\"--items-count: 6;--column-xl: 3;--column-lg: 3;--column-md: 3;--column-sm: 2;\">\\n\\t\\t<div class=\"pp-content-post-grid pp-equal-height pp-css-grid\" itemscope=\"itemscope\" itemtype=\"https://schema.org/Blog\">\\n\\t\\t\\t\\n\\t\\t\\t\\t\\n<div class=\"pp-content-post pp-content-grid-post pp-grid-style-7 post-40651 post type-post status-publish format-standard has-post-thumbnail hentry category-news tag-aryan-rezaei-rad tag-collaborate tag-collaboration tag-design-for-manufacturing-and-assembly tag-dfma tag-digital-fabrication tag-robot-made tag-timber tag-timber-construction\" itemscope itemtype=\"https://schema.org/BlogPosting\" data-id=\"40651\">\\n\\n\\t<meta itemscope itemprop=\"mainEntityOfPage\" itemtype=\"https://schema.org/WebPage\" itemid=\"http://40651\" content=\"Robot Made 2024: Digital fabrication brings Engineering and Architecture students together\" /><meta itemprop=\"datePublished\" content=\"2024-09-10\" /><meta itemprop=\"dateModified\" content=\"2024-09-10\" /><div itemprop=\"publisher\" itemscope itemtype=\"https://schema.org/Organization\"><meta itemprop=\"name\" content=\"Department of Civil &amp; Mineral Engineering\"></div><div itemscope itemprop=\"author\" itemtype=\"https://schema.org/Person\"><meta itemprop=\"url\" content=\"https://civmin.utoronto.ca/author/phill-snelutoronto-ca/\" /><meta itemprop=\"name\" content=\"Phill Snel\" /></div><div itemscope itemprop=\"image\" itemtype=\"https://schema.org/ImageObject\"><meta itemprop=\"url\" content=\"https://civmin.utoronto.ca/wp-content/uploads/2024/09/IMG_5367.jpeg\" /><meta itemprop=\"width\" content=\"2048\" /><meta itemprop=\"height\" content=\"1536\" /></div><div itemprop=\"interactionStatistic\" itemscope itemtype=\"https://schema.org/InteractionCounter\"><meta itemprop=\"interactionType\" content=\"https://schema.org/CommentAction\" /><meta itemprop=\"userInteractionCount\" content=\"0\" /></div>\\n\\t\\n\\t\\t\\t\\t\\t<a class=\"pp-post-link\" href=\"https://civmin.utoronto.ca/robot-made-2024/\" title=\"Robot Made 2024: Digital fabrication brings Engineering and Architecture students together\"></a>\\n\\t\\t\\n\\t\\t\\n\\t\\t\\n\\t\\t\\t\\t\\t<div class=\"pp-content-grid-image pp-post-image\">\\n    \\t\\t\\t\\t\\t<div class=\"pp-post-featured-img\">\\n\\t\\t\\t\\t<div class=\"fl-photo fl-photo-crop-square fl-photo-align-center\" itemscope itemtype=\"https://schema.org/ImageObject\">\\n\\t<div class=\"fl-photo-content fl-photo-img-jpeg\">\\n\\t\\t\\t\\t<img fetchpriority=\"high\" decoding=\"async\" class=\"fl-photo-img wp-image-40817 size-large pp-post-img no-lazyload\" src=\"https://civmin.utoronto.ca/wp-content/uploads/bb-plugin/cache/IMG_5367-1024x768-square-684ce97acea22f1ea7089becf9933a48-.jpeg\" alt=\"Prof. Aryan Rezaei Rad with finished product from Robot Made: 2024. (Photo )\" itemprop=\"image\" data-no-lazy=\"1\" height=\"768\" width=\"1024\" title=\"IMG_5367\"  />\\n\\t\\t\\t\\t\\t</div>\\n\\t</div>\\n\\t\\t\\t</div>\\n\\t\\t    \\n\\t\\t\\t\\n\\t\\t\\n\\t\\t\\t</div>\\n\\t\\t\\n\\t\\t<div class=\"pp-content-grid-inner pp-content-body clearfix\">\\n\\t\\t\\t\\n\\t\\t\\t\\n\\t\\t\\t<div class=\"pp-content-post-data\">\\n\\t\\t\\t\\t\\t\\t\\t\\t\\t<h3 class=\"pp-content-grid-title pp-post-title\" itemprop=\"headline\">\\n\\t\\t\\t\\t\\t\\t\\t\\t\\t\\t\\t\\t\\t\\tRobot Made 2024: Digital fabrication brings Engineering and Architecture students together\\t\\t\\t\\t\\t\\t\\t\\t\\t\\t\\t</h3>\\n\\t\\t\\t\\t\\t\\t\\t\\t\\t\\n\\t\\t\\t\\t\\t\\t\\t\\t<div class=\"pp-content-post-meta pp-post-meta\">\\n\\t\\t\\t\\t\\t\\t\\t\\t\\t\\t\\t<span class=\"pp-content-post-author pp-post-author\">\\nBy <a href=\"https://civmin.utoronto.ca/author/phill-snelutoronto-ca/\"><span>Phill Snel</span></a></span>\\t\\t\\t\\t\\t\\n\\t\\t\\t\\t\\t\\t\\t\\t\\t\\t\\t\\t\\t\\t\\t\\t\\t\\t<span>  |  </span>\\n\\t\\t\\t\\t\\t\\t\\t\\t\\t\\t\\t\\t<span class=\"pp-content-grid-date pp-post-date\">\\n\\t\\t\\tSeptember 10, 2024\\t</span>\\t\\t\\t\\t\\t\\n\\t\\t\\t\\t\\t\\t\\t\\t\\t</div>\\n\\t\\t\\t\\t\\n\\t\\t\\t\\t\\n\\t\\t\\t\\t\\n\\t\\t\\t\\t\\n\\t\\t\\t\\t\\n\\t\\t\\t\\t\\n\\t\\t\\t\\t\\n\\t\\t\\t\\t\\n\\t\\t\\t</div>\\n\\t\\t\\t\\n\\t\\t\\t\\t\\t</div>\\n\\n\\t\\t\\t</div>\\n\\n<div class=\"pp-content-post pp-content-grid-post pp-post-2n pp-grid-style-7 post-40598 post type-post status-publish format-standard has-post-thumbnail hentry category-alumni category-news tag-alumni tag-alumnus tag-camp tag-gull-lake tag-phil-feldman tag-survey-camp\" itemscope itemtype=\"https://schema.org/BlogPosting\" data-id=\"40598\">\\n\\n\\t<meta itemscope itemprop=\"mainEntityOfPage\" itemtype=\"https://schema.org/WebPage\" itemid=\"http://40598\" content=\"Memories of Camp from 1957: Visiting Gull Lake\" /><meta itemprop=\"datePublished\" content=\"2024-09-04\" /><meta itemprop=\"dateModified\" content=\"2024-09-04\" /><div itemprop=\"publisher\" itemscope itemtype=\"https://schema.org/Organization\"><meta itemprop=\"name\" content=\"Department of Civil &amp; Mineral Engineering\"></div><div itemscope itemprop=\"author\" itemtype=\"https://schema.org/Person\"><meta itemprop=\"url\" content=\"https://civmin.utoronto.ca/author/phill-snelutoronto-ca/\" /><meta itemprop=\"name\" content=\"Phill Snel\" /></div><div itemscope itemprop=\"image\" itemtype=\"https://schema.org/ImageObject\"><meta itemprop=\"url\" content=\"https://civmin.utoronto.ca/wp-content/uploads/2024/09/Camp1-Group-MED-4L8A3072.jpg\" /><meta itemprop=\"width\" content=\"2500\" /><meta itemprop=\"height\" content=\"1667\" /></div><div itemprop=\"interactionStatistic\" itemscope itemtype=\"https://schema.org/InteractionCounter\"><meta itemprop=\"interactionType\" content=\"https://schema.org/CommentAction\" /><meta itemprop=\"userInteractionCount\" content=\"0\" /></div>\\n\\t\\n\\t\\t\\t\\t\\t<a class=\"pp-post-link\" href=\"https://civmin.utoronto.ca/memories-of-camp-visiting-gull-lake/\" title=\"Memories of Camp from 1957: Visiting Gull Lake\"></a>\\n\\t\\t\\n\\t\\t\\n\\t\\t\\n\\t\\t\\t\\t\\t<div class=\"pp-content-grid-image pp-post-image\">\\n    \\t\\t\\t\\t\\t<div class=\"pp-post-featured-img\">\\n\\t\\t\\t\\t<div class=\"fl-photo fl-photo-crop-square fl-photo-align-center\" itemscope itemtype=\"https://schema.org/ImageObject\">\\n\\t<div class=\"fl-photo-content fl-photo-img-jpg\">\\n\\t\\t\\t\\t<img loading=\"lazy\" decoding=\"async\" class=\"fl-photo-img wp-image-40649 size-large pp-post-img no-lazyload\" src=\"https://civmin.utoronto.ca/wp-content/uploads/bb-plugin/cache/Camp1-Group-MED-4L8A3072-1024x683-square-70fc53679404e796cdc823745179e445-.jpg\" alt=\"A group photo of students, professors, staff and guests at Camp 1 on August 14, 2024. (Photo by Phill Snel)\" itemprop=\"image\" data-no-lazy=\"1\" height=\"683\" width=\"1024\" title=\"Camp1 Group MED -4L8A3072\"  />\\n\\t\\t\\t\\t\\t</div>\\n\\t</div>\\n\\t\\t\\t</div>\\n\\t\\t    \\n\\t\\t\\t\\n\\t\\t\\n\\t\\t\\t</div>\\n\\t\\t\\n\\t\\t<div class=\"pp-content-grid-inner pp-content-body clearfix\">\\n\\t\\t\\t\\n\\t\\t\\t\\n\\t\\t\\t<div class=\"pp-content-post-data\">\\n\\t\\t\\t\\t\\t\\t\\t\\t\\t<h3 class=\"pp-content-grid-title pp-post-title\" itemprop=\"headline\">\\n\\t\\t\\t\\t\\t\\t\\t\\t\\t\\t\\t\\t\\t\\tMemories of Camp from 1957: Visiting Gull Lake\\t\\t\\t\\t\\t\\t\\t\\t\\t\\t\\t</h3>\\n\\t\\t\\t\\t\\t\\t\\t\\t\\t\\n\\t\\t\\t\\t\\t\\t\\t\\t<div class=\"pp-content-post-meta pp-post-meta\">\\n\\t\\t\\t\\t\\t\\t\\t\\t\\t\\t\\t<span class=\"pp-content-post-author pp-post-author\">\\nBy <a href=\"https://civmin.utoronto.ca/author/phill-snelutoronto-ca/\"><span>Phill Snel</span></a></span>\\t\\t\\t\\t\\t\\n\\t\\t\\t\\t\\t\\t\\t\\t\\t\\t\\t\\t\\t\\t\\t\\t\\t\\t<span>  |  </span>\\n\\t\\t\\t\\t\\t\\t\\t\\t\\t\\t\\t\\t<span class=\"pp-content-grid-date pp-post-date\">\\n\\t\\t\\tSeptember 4, 2024\\t</span>\\t\\t\\t\\t\\t\\n\\t\\t\\t\\t\\t\\t\\t\\t\\t</div>\\n\\t\\t\\t\\t\\n\\t\\t\\t\\t\\n\\t\\t\\t\\t\\n\\t\\t\\t\\t\\n\\t\\t\\t\\t\\n\\t\\t\\t\\t\\n\\t\\t\\t\\t\\n\\t\\t\\t\\t\\n\\t\\t\\t</div>\\n\\t\\t\\t\\n\\t\\t\\t\\t\\t</div>\\n\\n\\t\\t\\t</div>\\n\\n<div class=\"pp-content-post pp-content-grid-post pp-grid-style-7 post-40519 post type-post status-publish format-standard has-post-thumbnail hentry category-alumni category-faculty category-news tag-5t7 tag-class-of-5t7 tag-ken-selby tag-kenneth-selby\" itemscope itemtype=\"https://schema.org/BlogPosting\" data-id=\"40519\">\\n\\n\\t<meta itemscope itemprop=\"mainEntityOfPage\" itemtype=\"https://schema.org/WebPage\" itemid=\"http://40519\" content=\"CivMin remembers Professor Emeritus Ken Selby (1935-2024)\" /><meta itemprop=\"datePublished\" content=\"2024-08-29\" /><meta itemprop=\"dateModified\" content=\"2024-08-29\" /><div itemprop=\"publisher\" itemscope itemtype=\"https://schema.org/Organization\"><meta itemprop=\"name\" content=\"Department of Civil &amp; Mineral Engineering\"></div><div itemscope itemprop=\"author\" itemtype=\"https://schema.org/Person\"><meta itemprop=\"url\" content=\"https://civmin.utoronto.ca/author/phill-snelutoronto-ca/\" /><meta itemprop=\"name\" content=\"Phill Snel\" /></div><div itemscope itemprop=\"image\" itemtype=\"https://schema.org/ImageObject\"><meta itemprop=\"url\" content=\"https://civmin.utoronto.ca/wp-content/uploads/2024/08/Ken-Selby.jpeg\" /><meta itemprop=\"width\" content=\"187\" /><meta itemprop=\"height\" content=\"200\" /></div><div itemprop=\"interactionStatistic\" itemscope itemtype=\"https://schema.org/InteractionCounter\"><meta itemprop=\"interactionType\" content=\"https://schema.org/CommentAction\" /><meta itemprop=\"userInteractionCount\" content=\"0\" /></div>\\n\\t\\n\\t\\t\\t\\t\\t<a class=\"pp-post-link\" href=\"https://civmin.utoronto.ca/civmin-remembers-professor-emeritus-ken-selby-1935-2024/\" title=\"CivMin remembers Professor Emeritus Ken Selby (1935-2024)\"></a>\\n\\t\\t\\n\\t\\t\\n\\t\\t\\n\\t\\t\\t\\t\\t<div class=\"pp-content-grid-image pp-post-image\">\\n    \\t\\t\\t\\t\\t<div class=\"pp-post-featured-img\">\\n\\t\\t\\t\\t<div class=\"fl-photo fl-photo-crop-square fl-photo-align-center\" itemscope itemtype=\"https://schema.org/ImageObject\">\\n\\t<div class=\"fl-photo-content fl-photo-img-jpeg\">\\n\\t\\t\\t\\t<img loading=\"lazy\" decoding=\"async\" class=\"fl-photo-img wp-image-40520 size-full pp-post-img no-lazyload\" src=\"https://civmin.utoronto.ca/wp-content/uploads/bb-plugin/cache/Ken-Selby-square-a4edead7248bde4abd8b482edb642129-.jpeg\" alt=\"Ken Selby\" itemprop=\"image\" data-no-lazy=\"1\" height=\"200\" width=\"187\" title=\"Ken Selby\"  />\\n\\t\\t\\t\\t\\t</div>\\n\\t</div>\\n\\t\\t\\t</div>\\n\\t\\t    \\n\\t\\t\\t\\n\\t\\t\\n\\t\\t\\t</div>\\n\\t\\t\\n\\t\\t<div class=\"pp-content-grid-inner pp-content-body clearfix\">\\n\\t\\t\\t\\n\\t\\t\\t\\n\\t\\t\\t<div class=\"pp-content-post-data\">\\n\\t\\t\\t\\t\\t\\t\\t\\t\\t<h3 class=\"pp-content-grid-title pp-post-title\" itemprop=\"headline\">\\n\\t\\t\\t\\t\\t\\t\\t\\t\\t\\t\\t\\t\\t\\tCivMin remembers Professor Emeritus Ken Selby (1935-2024)\\t\\t\\t\\t\\t\\t\\t\\t\\t\\t\\t</h3>\\n\\t\\t\\t\\t\\t\\t\\t\\t\\t\\n\\t\\t\\t\\t\\t\\t\\t\\t<div class=\"pp-content-post-meta pp-post-meta\">\\n\\t\\t\\t\\t\\t\\t\\t\\t\\t\\t\\t<span class=\"pp-content-post-author pp-post-author\">\\nBy <a href=\"https://civmin.utoronto.ca/author/phill-snelutoronto-ca/\"><span>Phill Snel</span></a></span>\\t\\t\\t\\t\\t\\n\\t\\t\\t\\t\\t\\t\\t\\t\\t\\t\\t\\t\\t\\t\\t\\t\\t\\t<span>  |  </span>\\n\\t\\t\\t\\t\\t\\t\\t\\t\\t\\t\\t\\t<span class=\"pp-content-grid-date pp-post-date\">\\n\\t\\t\\tAugust 29, 2024\\t</span>\\t\\t\\t\\t\\t\\n\\t\\t\\t\\t\\t\\t\\t\\t\\t</div>\\n\\t\\t\\t\\t\\n\\t\\t\\t\\t\\n\\t\\t\\t\\t\\n\\t\\t\\t\\t\\n\\t\\t\\t\\t\\n\\t\\t\\t\\t\\n\\t\\t\\t\\t\\n\\t\\t\\t\\t\\n\\t\\t\\t</div>\\n\\t\\t\\t\\n\\t\\t\\t\\t\\t</div>\\n\\n\\t\\t\\t</div>\\n\\n<div class=\"pp-content-post pp-content-grid-post pp-post-2n pp-grid-style-7 post-40480 post type-post status-publish format-standard has-post-thumbnail hentry category-news tag-camp tag-cme358 tag-cme358h1 tag-gull-lake tag-survey-camp\" itemscope itemtype=\"https://schema.org/BlogPosting\" data-id=\"40480\">\\n\\n\\t<meta itemscope itemprop=\"mainEntityOfPage\" itemtype=\"https://schema.org/WebPage\" itemid=\"http://40480\" content=\"Camp in full swing\" /><meta itemprop=\"datePublished\" content=\"2024-08-27\" /><meta itemprop=\"dateModified\" content=\"2024-08-29\" /><div itemprop=\"publisher\" itemscope itemtype=\"https://schema.org/Organization\"><meta itemprop=\"name\" content=\"Department of Civil &amp; Mineral Engineering\"></div><div itemscope itemprop=\"author\" itemtype=\"https://schema.org/Person\"><meta itemprop=\"url\" content=\"https://civmin.utoronto.ca/author/phill-snelutoronto-ca/\" /><meta itemprop=\"name\" content=\"Phill Snel\" /></div><div itemscope itemprop=\"image\" itemtype=\"https://schema.org/ImageObject\"><meta itemprop=\"url\" content=\"https://civmin.utoronto.ca/wp-content/uploads/2024/08/Camp-Highway-Curve-SQ_K8A8102.jpg\" /><meta itemprop=\"width\" content=\"1274\" /><meta itemprop=\"height\" content=\"1274\" /></div><div itemprop=\"interactionStatistic\" itemscope itemtype=\"https://schema.org/InteractionCounter\"><meta itemprop=\"interactionType\" content=\"https://schema.org/CommentAction\" /><meta itemprop=\"userInteractionCount\" content=\"0\" /></div>\\n\\t\\n\\t\\t\\t\\t\\t<a class=\"pp-post-link\" href=\"https://civmin.utoronto.ca/camp-in-full-swing/\" title=\"Camp in full swing\"></a>\\n\\t\\t\\n\\t\\t\\n\\t\\t\\n\\t\\t\\t\\t\\t<div class=\"pp-content-grid-image pp-post-image\">\\n    \\t\\t\\t\\t\\t<div class=\"pp-post-featured-img\">\\n\\t\\t\\t\\t<div class=\"fl-photo fl-photo-crop-square fl-photo-align-center\" itemscope itemtype=\"https://schema.org/ImageObject\">\\n\\t<div class=\"fl-photo-content fl-photo-img-jpg\">\\n\\t\\t\\t\\t<img loading=\"lazy\" decoding=\"async\" class=\"fl-photo-img wp-image-40508 size-large pp-post-img no-lazyload\" src=\"https://civmin.utoronto.ca/wp-content/uploads/bb-plugin/cache/Camp-Highway-Curve-SQ_K8A8102-1024x1024-square-8cd6c18b9d23c123a7d305c6ddcdec54-.jpg\" alt=\"GULL LAKE (near Minden, Ontario), AUGUST 12-14, 2024 — UNIVERSITY OF TORONTO CAMP — Images from U of T Camp on Gull Lake, near Minden, Ontario from August 12 to 14, 2024. Department of Civil &amp;amp; Mineral Engineering students take the course, CME358 Civil And Mineral Practicals (CAMP) every August. The course was previously known as Survey Camp.  (Photo by Phill Snel, CivMin/University of Toronto) *some images by Galina Nikitina too\" itemprop=\"image\" data-no-lazy=\"1\" height=\"1024\" width=\"1024\" title=\"Camp Highway Curve - SQ_K8A8102\"  />\\n\\t\\t\\t\\t\\t</div>\\n\\t</div>\\n\\t\\t\\t</div>\\n\\t\\t    \\n\\t\\t\\t\\n\\t\\t\\n\\t\\t\\t</div>\\n\\t\\t\\n\\t\\t<div class=\"pp-content-grid-inner pp-content-body clearfix\">\\n\\t\\t\\t\\n\\t\\t\\t\\n\\t\\t\\t<div class=\"pp-content-post-data\">\\n\\t\\t\\t\\t\\t\\t\\t\\t\\t<h3 class=\"pp-content-grid-title pp-post-title\" itemprop=\"headline\">\\n\\t\\t\\t\\t\\t\\t\\t\\t\\t\\t\\t\\t\\t\\tCamp in full swing\\t\\t\\t\\t\\t\\t\\t\\t\\t\\t\\t</h3>\\n\\t\\t\\t\\t\\t\\t\\t\\t\\t\\n\\t\\t\\t\\t\\t\\t\\t\\t<div class=\"pp-content-post-meta pp-post-meta\">\\n\\t\\t\\t\\t\\t\\t\\t\\t\\t\\t\\t<span class=\"pp-content-post-author pp-post-author\">\\nBy <a href=\"https://civmin.utoronto.ca/author/phill-snelutoronto-ca/\"><span>Phill Snel</span></a></span>\\t\\t\\t\\t\\t\\n\\t\\t\\t\\t\\t\\t\\t\\t\\t\\t\\t\\t\\t\\t\\t\\t\\t\\t<span>  |  </span>\\n\\t\\t\\t\\t\\t\\t\\t\\t\\t\\t\\t\\t<span class=\"pp-content-grid-date pp-post-date\">\\n\\t\\t\\tAugust 27, 2024\\t</span>\\t\\t\\t\\t\\t\\n\\t\\t\\t\\t\\t\\t\\t\\t\\t</div>\\n\\t\\t\\t\\t\\n\\t\\t\\t\\t\\n\\t\\t\\t\\t\\n\\t\\t\\t\\t\\n\\t\\t\\t\\t\\n\\t\\t\\t\\t\\n\\t\\t\\t\\t\\n\\t\\t\\t\\t\\n\\t\\t\\t</div>\\n\\t\\t\\t\\n\\t\\t\\t\\t\\t</div>\\n\\n\\t\\t\\t</div>\\n\\n<div class=\"pp-content-post pp-content-grid-post pp-grid-style-7 post-40461 post type-post status-publish format-standard has-post-thumbnail hentry category-faculty category-news tag-connaught tag-connaught-new-researcher-awards tag-mohammed-basheer tag-sarah-haines\" itemscope itemtype=\"https://schema.org/BlogPosting\" data-id=\"40461\">\\n\\n\\t<meta itemscope itemprop=\"mainEntityOfPage\" itemtype=\"https://schema.org/WebPage\" itemid=\"http://40461\" content=\"CivMin professors receive Connaught New Researcher Awards\" /><meta itemprop=\"datePublished\" content=\"2024-08-23\" /><meta itemprop=\"dateModified\" content=\"2024-08-23\" /><div itemprop=\"publisher\" itemscope itemtype=\"https://schema.org/Organization\"><meta itemprop=\"name\" content=\"Department of Civil &amp; Mineral Engineering\"></div><div itemscope itemprop=\"author\" itemtype=\"https://schema.org/Person\"><meta itemprop=\"url\" content=\"https://civmin.utoronto.ca/author/phill-snelutoronto-ca/\" /><meta itemprop=\"name\" content=\"Phill Snel\" /></div><div itemscope itemprop=\"image\" itemtype=\"https://schema.org/ImageObject\"><meta itemprop=\"url\" content=\"https://civmin.utoronto.ca/wp-content/uploads/2024/08/Haines-Basheer-sq-copy-2.jpg\" /><meta itemprop=\"width\" content=\"1101\" /><meta itemprop=\"height\" content=\"1101\" /></div><div itemprop=\"interactionStatistic\" itemscope itemtype=\"https://schema.org/InteractionCounter\"><meta itemprop=\"interactionType\" content=\"https://schema.org/CommentAction\" /><meta itemprop=\"userInteractionCount\" content=\"0\" /></div>\\n\\t\\n\\t\\t\\t\\t\\t<a class=\"pp-post-link\" href=\"https://civmin.utoronto.ca/civmin-professors-receive-connaught-new-researcher-awards/\" title=\"CivMin professors receive Connaught New Researcher Awards\"></a>\\n\\t\\t\\n\\t\\t\\n\\t\\t\\n\\t\\t\\t\\t\\t<div class=\"pp-content-grid-image pp-post-image\">\\n    \\t\\t\\t\\t\\t<div class=\"pp-post-featured-img\">\\n\\t\\t\\t\\t<div class=\"fl-photo fl-photo-crop-square fl-photo-align-center\" itemscope itemtype=\"https://schema.org/ImageObject\">\\n\\t<div class=\"fl-photo-content fl-photo-img-jpg\">\\n\\t\\t\\t\\t<img loading=\"lazy\" decoding=\"async\" class=\"fl-photo-img wp-image-40470 size-large pp-post-img no-lazyload\" src=\"https://civmin.utoronto.ca/wp-content/uploads/bb-plugin/cache/Haines-Basheer-sq-copy-2-1024x1024-square-88505300a4e0249ceda5238a313296da-.jpg\" alt=\"TORONTO, ONTARIO, CANADA; SEPTEMBER 28, 2023  — CIVMIN NEW PROFESSOR— An image of CivMin’s newest professor, Mohammed Basheer, during his first visit to U of T on Thursday, September 28, 2023.  (Photo by Phill Snel / Department of Civil &amp;amp; Mineral Engineering, University of Toronto)\" itemprop=\"image\" data-no-lazy=\"1\" height=\"1024\" width=\"1024\" title=\"Haines &amp; Basheer-sq copy\"  />\\n\\t\\t\\t\\t\\t</div>\\n\\t</div>\\n\\t\\t\\t</div>\\n\\t\\t    \\n\\t\\t\\t\\n\\t\\t\\n\\t\\t\\t</div>\\n\\t\\t\\n\\t\\t<div class=\"pp-content-grid-inner pp-content-body clearfix\">\\n\\t\\t\\t\\n\\t\\t\\t\\n\\t\\t\\t<div class=\"pp-content-post-data\">\\n\\t\\t\\t\\t\\t\\t\\t\\t\\t<h3 class=\"pp-content-grid-title pp-post-title\" itemprop=\"headline\">\\n\\t\\t\\t\\t\\t\\t\\t\\t\\t\\t\\t\\t\\t\\tCivMin professors receive Connaught New Researcher Awards\\t\\t\\t\\t\\t\\t\\t\\t\\t\\t\\t</h3>\\n\\t\\t\\t\\t\\t\\t\\t\\t\\t\\n\\t\\t\\t\\t\\t\\t\\t\\t<div class=\"pp-content-post-meta pp-post-meta\">\\n\\t\\t\\t\\t\\t\\t\\t\\t\\t\\t\\t<span class=\"pp-content-post-author pp-post-author\">\\nBy <a href=\"https://civmin.utoronto.ca/author/phill-snelutoronto-ca/\"><span>Phill Snel</span></a></span>\\t\\t\\t\\t\\t\\n\\t\\t\\t\\t\\t\\t\\t\\t\\t\\t\\t\\t\\t\\t\\t\\t\\t\\t<span>  |  </span>\\n\\t\\t\\t\\t\\t\\t\\t\\t\\t\\t\\t\\t<span class=\"pp-content-grid-date pp-post-date\">\\n\\t\\t\\tAugust 23, 2024\\t</span>\\t\\t\\t\\t\\t\\n\\t\\t\\t\\t\\t\\t\\t\\t\\t</div>\\n\\t\\t\\t\\t\\n\\t\\t\\t\\t\\n\\t\\t\\t\\t\\n\\t\\t\\t\\t\\n\\t\\t\\t\\t\\n\\t\\t\\t\\t\\n\\t\\t\\t\\t\\n\\t\\t\\t\\t\\n\\t\\t\\t</div>\\n\\t\\t\\t\\n\\t\\t\\t\\t\\t</div>\\n\\n\\t\\t\\t</div>\\n\\n<div class=\"pp-content-post pp-content-grid-post pp-post-2n pp-grid-style-7 post-40308 post type-post status-publish format-standard has-post-thumbnail hentry category-news tag-civmin tag-evan-bentz tag-undergraduate-experience tag-vice-dean-undergraduate\" itemscope itemtype=\"https://schema.org/BlogPosting\" data-id=\"40308\">\\n\\n\\t<meta itemscope itemprop=\"mainEntityOfPage\" itemtype=\"https://schema.org/WebPage\" itemid=\"http://40308\" content=\"Training for the future: Meet Vice-Dean, Undergraduate Evan Bentz\" /><meta itemprop=\"datePublished\" content=\"2024-08-16\" /><meta itemprop=\"dateModified\" content=\"2024-08-16\" /><div itemprop=\"publisher\" itemscope itemtype=\"https://schema.org/Organization\"><meta itemprop=\"name\" content=\"Department of Civil &amp; Mineral Engineering\"></div><div itemscope itemprop=\"author\" itemtype=\"https://schema.org/Person\"><meta itemprop=\"url\" content=\"https://civmin.utoronto.ca/author/galina-nikitina/\" /><meta itemprop=\"name\" content=\"Galina Nikitina\" /></div><div itemscope itemprop=\"image\" itemtype=\"https://schema.org/ImageObject\"><meta itemprop=\"url\" content=\"https://civmin.utoronto.ca/wp-content/uploads/2024/08/Screen-Shot-2024-08-16-at-2.54.27-PM.png\" /><meta itemprop=\"width\" content=\"1016\" /><meta itemprop=\"height\" content=\"710\" /></div><div itemprop=\"interactionStatistic\" itemscope itemtype=\"https://schema.org/InteractionCounter\"><meta itemprop=\"interactionType\" content=\"https://schema.org/CommentAction\" /><meta itemprop=\"userInteractionCount\" content=\"0\" /></div>\\n\\t\\n\\t\\t\\t\\t\\t<a class=\"pp-post-link\" href=\"https://civmin.utoronto.ca/training-for-the-future-meet-vice-dean-undergraduate-evan-bentz/\" title=\"Training for the future: Meet Vice-Dean, Undergraduate Evan Bentz\"></a>\\n\\t\\t\\n\\t\\t\\n\\t\\t\\n\\t\\t\\t\\t\\t<div class=\"pp-content-grid-image pp-post-image\">\\n    \\t\\t\\t\\t\\t<div class=\"pp-post-featured-img\">\\n\\t\\t\\t\\t<div class=\"fl-photo fl-photo-crop-square fl-photo-align-center\" itemscope itemtype=\"https://schema.org/ImageObject\">\\n\\t<div class=\"fl-photo-content fl-photo-img-png\">\\n\\t\\t\\t\\t<img loading=\"lazy\" decoding=\"async\" class=\"fl-photo-img wp-image-40309 size-full pp-post-img no-lazyload\" src=\"https://civmin.utoronto.ca/wp-content/uploads/bb-plugin/cache/Screen-Shot-2024-08-16-at-2.54.27-PM-square-c7bf9593c3c53f680cac5b5b33864167-.png\" alt=\"Screen Shot 2024-08-16 at 2.54.27 PM\" itemprop=\"image\" data-no-lazy=\"1\" height=\"710\" width=\"1016\" title=\"Screen Shot 2024-08-16 at 2.54.27 PM\"  />\\n\\t\\t\\t\\t\\t</div>\\n\\t</div>\\n\\t\\t\\t</div>\\n\\t\\t    \\n\\t\\t\\t\\n\\t\\t\\n\\t\\t\\t</div>\\n\\t\\t\\n\\t\\t<div class=\"pp-content-grid-inner pp-content-body clearfix\">\\n\\t\\t\\t\\n\\t\\t\\t\\n\\t\\t\\t<div class=\"pp-content-post-data\">\\n\\t\\t\\t\\t\\t\\t\\t\\t\\t<h3 class=\"pp-content-grid-title pp-post-title\" itemprop=\"headline\">\\n\\t\\t\\t\\t\\t\\t\\t\\t\\t\\t\\t\\t\\t\\tTraining for the future: Meet Vice-Dean, Undergraduate Evan Bentz\\t\\t\\t\\t\\t\\t\\t\\t\\t\\t\\t</h3>\\n\\t\\t\\t\\t\\t\\t\\t\\t\\t\\n\\t\\t\\t\\t\\t\\t\\t\\t<div class=\"pp-content-post-meta pp-post-meta\">\\n\\t\\t\\t\\t\\t\\t\\t\\t\\t\\t\\t<span class=\"pp-content-post-author pp-post-author\">\\nBy <a href=\"https://civmin.utoronto.ca/author/galina-nikitina/\"><span>Galina Nikitina</span></a></span>\\t\\t\\t\\t\\t\\n\\t\\t\\t\\t\\t\\t\\t\\t\\t\\t\\t\\t\\t\\t\\t\\t\\t\\t<span>  |  </span>\\n\\t\\t\\t\\t\\t\\t\\t\\t\\t\\t\\t\\t<span class=\"pp-content-grid-date pp-post-date\">\\n\\t\\t\\tAugust 16, 2024\\t</span>\\t\\t\\t\\t\\t\\n\\t\\t\\t\\t\\t\\t\\t\\t\\t</div>\\n\\t\\t\\t\\t\\n\\t\\t\\t\\t\\n\\t\\t\\t\\t\\n\\t\\t\\t\\t\\n\\t\\t\\t\\t\\n\\t\\t\\t\\t\\n\\t\\t\\t\\t\\n\\t\\t\\t\\t\\n\\t\\t\\t</div>\\n\\t\\t\\t\\n\\t\\t\\t\\t\\t</div>\\n\\n\\t\\t\\t</div>\\n\\n\\t\\t\\t\\t\\n\\t\\t\\t\\t\\t</div>\\n\\n\\t\\t<div class=\"fl-clear\"></div>\\n\\n\\t\\t\\n\\t\\t\\t\\t\\t<div class=\"pp-content-grid-pagination fl-builder-pagination\">\\n\\t\\t\\t\\t\\t\\t\\t</div>\\n\\n\\t\\t\\t\\t\\t\\t\\t\\t\\t\\t\\n\\t\\t</div><!-- .pp-content-posts -->\\n\\t\\n\\t</div>\\n\\n\\t</div>\\n</div>\\n</div>\\n</div>\\n\\t\\t\\t<div class=\"fl-col fl-node-pxa3jebm5q8s fl-col-small\" data-node=\"pxa3jebm5q8s\">\\n\\t<div class=\"fl-col-content fl-node-content\"><div class=\"fl-module fl-module-heading fl-node-yd5lkpc3q6gw\" data-node=\"yd5lkpc3q6gw\">\\n\\t<div class=\"fl-module-content fl-node-content\">\\n\\t\\t<h2 class=\"fl-heading\">\\n\\t\\t<span class=\"fl-heading-text\">Upcoming Events</span>\\n\\t</h2>\\n\\t</div>\\n</div>\\n<div class=\"fl-module fl-module-widget fl-node-81uslkv6jfpm\" data-node=\"81uslkv6jfpm\">\\n\\t<div class=\"fl-module-content fl-node-content\">\\n\\t\\t<div class=\"fl-widget\">\\n<div  class=\"tribe-compatibility-container\" >\\n\\t<div\\n\\t\\t class=\"tribe-common tribe-events tribe-events-view tribe-events-view--widget-events-list tribe-events-widget\" \\t\\tdata-js=\"tribe-events-view\"\\n\\t\\tdata-view-rest-url=\"https://civmin.utoronto.ca/wp-json/tribe/views/v2/html\"\\n\\t\\tdata-view-manage-url=\"1\"\\n\\t\\t\\t\\t\\t\\t\\tdata-view-breakpoint-pointer=\"ace1e347-068d-4216-ba5d-368d3f82e2de\"\\n\\t\\t\\t>\\n\\t\\t<div class=\"tribe-events-widget-events-list\">\\n\\n\\t\\t\\t<script type=\"application/ld+json\">\\r\\n[{\"@context\":\"http://schema.org\",\"@type\":\"Event\",\"name\":\"MASc thesis presentation by Jack Tattersall: Quantitative Method for Assessing the Quality of Intermodal/Interagency Connections and Service Integration at Suburban Rail Stations (\",\"description\":\"&lt;p&gt;Quantitative Method for Assessing the Quality of Intermodal/Interagency Connections and Service Integration at Suburban Rail Stations (MASc thesis presentation) Candidate: Jack Tattersall Supervisor: Professor Amer Shalaby Friday, September 13, 2024\\\\u00a0at [&hellip;]&lt;/p&gt;\\\\\\\\n\",\"url\":\"https://civmin.utoronto.ca/event/masc-thesis-presentation-by-jack-tattersall-quantitative-method-for-assessing-the-quality-of-intermodal-interagency-connections-and-service-integration-at-suburban-rail-stations/\",\"eventAttendanceMode\":\"https://schema.org/OfflineEventAttendanceMode\",\"eventStatus\":\"https://schema.org/EventScheduled\",\"startDate\":\"2024-09-13T11:00:00-04:00\",\"endDate\":\"2024-09-13T12:00:00-04:00\",\"performer\":\"Organization\"},{\"@context\":\"http://schema.org\",\"@type\":\"Event\",\"name\":\"GHD &#8211; Info session for students\",\"description\":\"&lt;p&gt;Info session: GHD Friday, September 13, 2024 at noon GB202, Galbraith Building Pizza and drinks provided. RSVP FORM\\\\u00a0(UTORid required) (for dietary needs and numbers)&lt;/p&gt;\\\\\\\\n\",\"url\":\"https://civmin.utoronto.ca/event/ghd-info-session-for-students/\",\"eventAttendanceMode\":\"https://schema.org/OfflineEventAttendanceMode\",\"eventStatus\":\"https://schema.org/EventScheduled\",\"startDate\":\"2024-09-13T12:00:00-04:00\",\"endDate\":\"2024-09-13T14:00:00-04:00\",\"performer\":\"Organization\"},{\"@context\":\"http://schema.org\",\"@type\":\"Event\",\"name\":\"Indian Horse &#8211; film screening\",\"description\":\"&lt;p&gt;In honour of National Day for Truth and Reconciliation, experience community, culture, and connection at a\\\\u00a0screening of the award-winning film\\\\u00a0Indian Horse\\\\u00a0(2017) on Monday September 16, brought to you by the [&hellip;]&lt;/p&gt;\\\\\\\\n\",\"url\":\"https://civmin.utoronto.ca/event/indian-horse-film-screening/\",\"eventAttendanceMode\":\"https://schema.org/OfflineEventAttendanceMode\",\"eventStatus\":\"https://schema.org/EventScheduled\",\"startDate\":\"2024-09-16T17:30:00-04:00\",\"endDate\":\"2024-09-16T20:30:00-04:00\",\"performer\":\"Organization\"},{\"@context\":\"http://schema.org\",\"@type\":\"Event\",\"name\":\"Suncor Energy &#8211; info session for students\",\"description\":\"&lt;p&gt;Info session: Suncor Energy Tuesday, September 17, 2024 \\\\u00a0at 5:30 p.m. GB117, Galbraith Building Pizza and drinks provided. RSVP FORM\\\\u00a0\\\\u00a0\\\\u00a0(UTORid required) (for dietary needs and numbers) We\\\\\\\\\\'re reaching to especially [&hellip;]&lt;/p&gt;\\\\\\\\n\",\"url\":\"https://civmin.utoronto.ca/event/suncor-energy-info-session-for-students/\",\"eventAttendanceMode\":\"https://schema.org/OfflineEventAttendanceMode\",\"eventStatus\":\"https://schema.org/EventScheduled\",\"startDate\":\"2024-09-17T17:00:00-04:00\",\"endDate\":\"2024-09-17T19:00:00-04:00\",\"performer\":\"Organization\"},{\"@context\":\"http://schema.org\",\"@type\":\"Event\",\"name\":\"PhD Departmental Defence by Luca Markus: Parametric Investigation of Efficiency in Post-Tensioned Concrete Bridges\",\"description\":\"&lt;p&gt;Parametric Investigation of Efficiency in Post-Tensioned Concrete Bridges (PhD Departmental Defence) Candidate: Luca Markus Supervisor: Professor Paul Gauvreau Friday, September 27, 2024 at\\\\u00a02 p.m. Join the Teams meeting\\\\u00a0 \\\\u00a0\\\\u00a0Meeting ID:\\\\u00a0267 [&hellip;]&lt;/p&gt;\\\\\\\\n\",\"url\":\"https://civmin.utoronto.ca/event/phd-departmental-defence-by-luca-markus-parametric-investigation-of-efficiency-in-post-tensioned-concrete-bridges/\",\"eventAttendanceMode\":\"https://schema.org/OfflineEventAttendanceMode\",\"eventStatus\":\"https://schema.org/EventScheduled\",\"startDate\":\"2024-09-27T14:00:00-04:00\",\"endDate\":\"2024-09-27T15:00:00-04:00\",\"performer\":\"Organization\"}]\\r\\n</script>\\n\\t\\t\\t<script data-js=\"tribe-events-view-data\" type=\"application/json\">\\n\\t{\"slug\":\"widget-events-list\",\"prev_url\":\"\",\"next_url\":\"https:\\\\/\\\\/civmin.utoronto.ca\\\\/?post_type=tribe_events&eventDisplay=widget-events-list&paged=2\",\"view_class\":\"Tribe\\\\\\\\Events\\\\\\\\Views\\\\\\\\V2\\\\\\\\Views\\\\\\\\Widgets\\\\\\\\Widget_List_View\",\"view_slug\":\"widget-events-list\",\"view_label\":\"View\",\"view\":null,\"should_manage_url\":true,\"id\":null,\"alias-slugs\":null,\"title\":\"Department of Civil & Mineral Engineering\",\"limit\":\"5\",\"no_upcoming_events\":false,\"featured_events_only\":false,\"jsonld_enable\":true,\"tribe_is_list_widget\":false,\"admin_fields\":{\"title\":{\"label\":\"Title:\",\"type\":\"text\",\"classes\":\"\",\"dependency\":\"\",\"id\":\"widget-tribe-widget-events-list--1-title\",\"name\":\"widget-tribe-widget-events-list[-1][title]\",\"options\":[],\"placeholder\":\"\",\"value\":null},\"limit\":{\"label\":\"Show:\",\"type\":\"number\",\"default\":5,\"min\":1,\"max\":10,\"step\":1,\"classes\":\"\",\"dependency\":\"\",\"id\":\"widget-tribe-widget-events-list--1-limit\",\"name\":\"widget-tribe-widget-events-list[-1][limit]\",\"options\":[],\"placeholder\":\"\",\"value\":null},\"no_upcoming_events\":{\"label\":\"Hide this widget if there are no upcoming events.\",\"type\":\"checkbox\",\"classes\":\"\",\"dependency\":\"\",\"id\":\"widget-tribe-widget-events-list--1-no_upcoming_events\",\"name\":\"widget-tribe-widget-events-list[-1][no_upcoming_events]\",\"options\":[],\"placeholder\":\"\",\"value\":null},\"featured_events_only\":{\"label\":\"Limit to featured events only\",\"type\":\"checkbox\",\"classes\":\"\",\"dependency\":\"\",\"id\":\"widget-tribe-widget-events-list--1-featured_events_only\",\"name\":\"widget-tribe-widget-events-list[-1][featured_events_only]\",\"options\":[],\"placeholder\":\"\",\"value\":null},\"jsonld_enable\":{\"label\":\"Generate JSON-LD data\",\"type\":\"checkbox\",\"classes\":\"\",\"dependency\":\"\",\"id\":\"widget-tribe-widget-events-list--1-jsonld_enable\",\"name\":\"widget-tribe-widget-events-list[-1][jsonld_enable]\",\"options\":[],\"placeholder\":\"\",\"value\":null}},\"events\":[40422,40305,40475,40662,40852],\"url\":\"https:\\\\/\\\\/civmin.utoronto.ca\\\\/?post_type=tribe_events&eventDisplay=widget-events-list\",\"url_event_date\":false,\"bar\":{\"keyword\":\"\",\"date\":\"\"},\"today\":\"2024-09-13 00:00:00\",\"now\":\"2024-09-13 00:54:07\",\"rest_url\":\"https:\\\\/\\\\/civmin.utoronto.ca\\\\/wp-json\\\\/tribe\\\\/views\\\\/v2\\\\/html\",\"rest_method\":\"POST\",\"rest_nonce\":\"\",\"today_url\":\"https:\\\\/\\\\/civmin.utoronto.ca\\\\/?post_type=tribe_events&eventDisplay=widget-events-list\",\"today_title\":\"Click to select today\\'s date\",\"today_label\":\"Today\",\"prev_label\":\"\",\"next_label\":\"\",\"date_formats\":{\"compact\":\"m\\\\/d\\\\/Y\",\"month_and_year_compact\":\"m\\\\/Y\",\"month_and_year\":\"F Y\",\"time_range_separator\":\" - \",\"date_time_separator\":\" @ \"},\"messages\":[],\"start_of_week\":\"0\",\"header_title\":\"\",\"header_title_element\":\"h1\",\"content_title\":\"\",\"breadcrumbs\":[],\"before_events\":\"\",\"after_events\":\"\\\\n<!--\\\\nThis calendar is powered by The Events Calendar.\\\\nhttp:\\\\/\\\\/evnt.is\\\\/18wn\\\\n-->\\\\n\",\"display_events_bar\":false,\"disable_event_search\":true,\"live_refresh\":true,\"ical\":{\"display_link\":true,\"link\":{\"url\":\"https:\\\\/\\\\/civmin.utoronto.ca\\\\/?post_type=tribe_events&#038;eventDisplay=widget-events-list&#038;ical=1\",\"text\":\"Export Events\",\"title\":\"Use this to share calendar data with Google Calendar, Apple iCal and other compatible apps\"}},\"container_classes\":[\"tribe-common\",\"tribe-events\",\"tribe-events-view\",\"tribe-events-view--widget-events-list\",\"tribe-events-widget\"],\"container_data\":[],\"is_past\":false,\"breakpoints\":{\"xsmall\":500,\"medium\":768,\"full\":960},\"breakpoint_pointer\":\"ace1e347-068d-4216-ba5d-368d3f82e2de\",\"is_initial_load\":true,\"public_views\":{\"list\":{\"view_class\":\"Tribe\\\\\\\\Events\\\\\\\\Views\\\\\\\\V2\\\\\\\\Views\\\\\\\\List_View\",\"view_url\":\"https:\\\\/\\\\/civmin.utoronto.ca\\\\/events\\\\/list\\\\/\",\"view_label\":\"List\"},\"month\":{\"view_class\":\"Tribe\\\\\\\\Events\\\\\\\\Views\\\\\\\\V2\\\\\\\\Views\\\\\\\\Month_View\",\"view_url\":\"https:\\\\/\\\\/civmin.utoronto.ca\\\\/events\\\\/month\\\\/\",\"view_label\":\"Month\"}},\"show_latest_past\":false,\"compatibility_classes\":[\"tribe-compatibility-container\"],\"view_more_text\":\"View Calendar\",\"view_more_title\":\"View more events.\",\"view_more_link\":\"https:\\\\/\\\\/civmin.utoronto.ca\\\\/events\\\\/\",\"widget_title\":\"\",\"hide_if_no_upcoming_events\":false,\"display\":[],\"subscribe_links\":{\"gcal\":{\"label\":\"Google Calendar\",\"single_label\":\"Add to Google Calendar\",\"visible\":true,\"block_slug\":\"hasGoogleCalendar\"},\"ical\":{\"label\":\"iCalendar\",\"single_label\":\"Add to iCalendar\",\"visible\":true,\"block_slug\":\"hasiCal\"},\"outlook-365\":{\"label\":\"Outlook 365\",\"single_label\":\"Outlook 365\",\"visible\":true,\"block_slug\":\"hasOutlook365\"},\"outlook-live\":{\"label\":\"Outlook Live\",\"single_label\":\"Outlook Live\",\"visible\":true,\"block_slug\":\"hasOutlookLive\"},\"ics\":{\"label\":\"Export .ics file\",\"single_label\":\"Export .ics file\",\"visible\":true,\"block_slug\":null},\"outlook-ics\":{\"label\":\"Export Outlook .ics file\",\"single_label\":\"Export Outlook .ics file\",\"visible\":true,\"block_slug\":null}},\"_context\":{\"slug\":\"widget-events-list\"}}</script>\\n\\n\\t\\t\\t\\n\\t\\t\\t\\n\\t\\t\\t\\t<div class=\"tribe-events-widget-events-list__events\">\\n\\t\\t\\t\\t\\t\\t\\t\\t\\t\\t\\t<div  class=\"tribe-common-g-row tribe-events-widget-events-list__event-row\" >\\n\\n\\t<div class=\"tribe-events-widget-events-list__event-date-tag tribe-common-g-col\">\\n\\t<time class=\"tribe-events-widget-events-list__event-date-tag-datetime\" datetime=\"2024-09-13\">\\n\\t\\t<span class=\"tribe-events-widget-events-list__event-date-tag-month\">\\n\\t\\t\\tSep\\t\\t</span>\\n\\t\\t<span class=\"tribe-events-widget-events-list__event-date-tag-daynum tribe-common-h2 tribe-common-h4--min-medium\">\\n\\t\\t\\t13\\t\\t</span>\\n\\t</time>\\n</div>\\n\\n\\t<div class=\"tribe-events-widget-events-list__event-wrapper tribe-common-g-col\">\\n\\t\\t<article  class=\"tribe-events-widget-events-list__event post-40422 tribe_events type-tribe_events status-publish hentry tribe_events_cat-events tribe_events_cat-featured\" >\\n\\t\\t\\t<div class=\"tribe-events-widget-events-list__event-details\">\\n\\n\\t\\t\\t\\t<header class=\"tribe-events-widget-events-list__event-header\">\\n\\t\\t\\t\\t\\t<div class=\"tribe-events-widget-events-list__event-datetime-wrapper tribe-common-b2 tribe-common-b3--min-medium\">\\n\\t\\t<time class=\"tribe-events-widget-events-list__event-datetime\" datetime=\"2024-09-13\">\\n\\t\\t<span class=\"tribe-event-date-start\">11:00 am</span> - <span class=\"tribe-event-time\">12:00 pm</span>\\t</time>\\n\\t</div>\\n\\t\\t\\t\\t\\t<h3 class=\"tribe-events-widget-events-list__event-title tribe-common-h7\">\\n\\t<a\\n\\t\\thref=\"https://civmin.utoronto.ca/event/masc-thesis-presentation-by-jack-tattersall-quantitative-method-for-assessing-the-quality-of-intermodal-interagency-connections-and-service-integration-at-suburban-rail-stations/\"\\n\\t\\ttitle=\"MASc thesis presentation by Jack Tattersall: Quantitative Method for Assessing the Quality of Intermodal/Interagency Connections and Service Integration at Suburban Rail Stations (\"\\n\\t\\trel=\"bookmark\"\\n\\t\\tclass=\"tribe-events-widget-events-list__event-title-link tribe-common-anchor-thin\"\\n\\t>\\n\\t\\tMASc thesis presentation by Jack Tattersall: Quantitative Method for Assessing the Quality of Intermodal/Interagency Connections and Service Integration at Suburban Rail Stations (\\t</a>\\n</h3>\\n\\t\\t\\t\\t</header>\\n\\n\\t\\t\\t\\t\\n\\t\\t\\t</div>\\n\\t\\t</article>\\n\\t</div>\\n\\n</div>\\n\\t\\t\\t\\t\\t\\t\\t\\t\\t\\t\\t<div  class=\"tribe-common-g-row tribe-events-widget-events-list__event-row\" >\\n\\n\\t<div class=\"tribe-events-widget-events-list__event-date-tag tribe-common-g-col\">\\n\\t<time class=\"tribe-events-widget-events-list__event-date-tag-datetime\" datetime=\"2024-09-13\">\\n\\t\\t<span class=\"tribe-events-widget-events-list__event-date-tag-month\">\\n\\t\\t\\tSep\\t\\t</span>\\n\\t\\t<span class=\"tribe-events-widget-events-list__event-date-tag-daynum tribe-common-h2 tribe-common-h4--min-medium\">\\n\\t\\t\\t13\\t\\t</span>\\n\\t</time>\\n</div>\\n\\n\\t<div class=\"tribe-events-widget-events-list__event-wrapper tribe-common-g-col\">\\n\\t\\t<article  class=\"tribe-events-widget-events-list__event post-40305 tribe_events type-tribe_events status-publish hentry tribe_events_cat-events tribe_events_cat-featured\" >\\n\\t\\t\\t<div class=\"tribe-events-widget-events-list__event-details\">\\n\\n\\t\\t\\t\\t<header class=\"tribe-events-widget-events-list__event-header\">\\n\\t\\t\\t\\t\\t<div class=\"tribe-events-widget-events-list__event-datetime-wrapper tribe-common-b2 tribe-common-b3--min-medium\">\\n\\t\\t<time class=\"tribe-events-widget-events-list__event-datetime\" datetime=\"2024-09-13\">\\n\\t\\t<span class=\"tribe-event-date-start\">12:00 pm</span> - <span class=\"tribe-event-time\">2:00 pm</span>\\t</time>\\n\\t</div>\\n\\t\\t\\t\\t\\t<h3 class=\"tribe-events-widget-events-list__event-title tribe-common-h7\">\\n\\t<a\\n\\t\\thref=\"https://civmin.utoronto.ca/event/ghd-info-session-for-students/\"\\n\\t\\ttitle=\"GHD &#8211; Info session for students\"\\n\\t\\trel=\"bookmark\"\\n\\t\\tclass=\"tribe-events-widget-events-list__event-title-link tribe-common-anchor-thin\"\\n\\t>\\n\\t\\tGHD &#8211; Info session for students\\t</a>\\n</h3>\\n\\t\\t\\t\\t</header>\\n\\n\\t\\t\\t\\t\\n\\t\\t\\t</div>\\n\\t\\t</article>\\n\\t</div>\\n\\n</div>\\n\\t\\t\\t\\t\\t\\t\\t\\t\\t\\t\\t<div  class=\"tribe-common-g-row tribe-events-widget-events-list__event-row\" >\\n\\n\\t<div class=\"tribe-events-widget-events-list__event-date-tag tribe-common-g-col\">\\n\\t<time class=\"tribe-events-widget-events-list__event-date-tag-datetime\" datetime=\"2024-09-16\">\\n\\t\\t<span class=\"tribe-events-widget-events-list__event-date-tag-month\">\\n\\t\\t\\tSep\\t\\t</span>\\n\\t\\t<span class=\"tribe-events-widget-events-list__event-date-tag-daynum tribe-common-h2 tribe-common-h4--min-medium\">\\n\\t\\t\\t16\\t\\t</span>\\n\\t</time>\\n</div>\\n\\n\\t<div class=\"tribe-events-widget-events-list__event-wrapper tribe-common-g-col\">\\n\\t\\t<article  class=\"tribe-events-widget-events-list__event post-40475 tribe_events type-tribe_events status-publish hentry tribe_events_cat-events tribe_events_cat-featured\" >\\n\\t\\t\\t<div class=\"tribe-events-widget-events-list__event-details\">\\n\\n\\t\\t\\t\\t<header class=\"tribe-events-widget-events-list__event-header\">\\n\\t\\t\\t\\t\\t<div class=\"tribe-events-widget-events-list__event-datetime-wrapper tribe-common-b2 tribe-common-b3--min-medium\">\\n\\t\\t<time class=\"tribe-events-widget-events-list__event-datetime\" datetime=\"2024-09-16\">\\n\\t\\t<span class=\"tribe-event-date-start\">5:30 pm</span> - <span class=\"tribe-event-time\">8:30 pm</span>\\t</time>\\n\\t</div>\\n\\t\\t\\t\\t\\t<h3 class=\"tribe-events-widget-events-list__event-title tribe-common-h7\">\\n\\t<a\\n\\t\\thref=\"https://civmin.utoronto.ca/event/indian-horse-film-screening/\"\\n\\t\\ttitle=\"Indian Horse &#8211; film screening\"\\n\\t\\trel=\"bookmark\"\\n\\t\\tclass=\"tribe-events-widget-events-list__event-title-link tribe-common-anchor-thin\"\\n\\t>\\n\\t\\tIndian Horse &#8211; film screening\\t</a>\\n</h3>\\n\\t\\t\\t\\t</header>\\n\\n\\t\\t\\t\\t\\n\\t\\t\\t</div>\\n\\t\\t</article>\\n\\t</div>\\n\\n</div>\\n\\t\\t\\t\\t\\t\\t\\t\\t\\t\\t\\t<div  class=\"tribe-common-g-row tribe-events-widget-events-list__event-row\" >\\n\\n\\t<div class=\"tribe-events-widget-events-list__event-date-tag tribe-common-g-col\">\\n\\t<time class=\"tribe-events-widget-events-list__event-date-tag-datetime\" datetime=\"2024-09-17\">\\n\\t\\t<span class=\"tribe-events-widget-events-list__event-date-tag-month\">\\n\\t\\t\\tSep\\t\\t</span>\\n\\t\\t<span class=\"tribe-events-widget-events-list__event-date-tag-daynum tribe-common-h2 tribe-common-h4--min-medium\">\\n\\t\\t\\t17\\t\\t</span>\\n\\t</time>\\n</div>\\n\\n\\t<div class=\"tribe-events-widget-events-list__event-wrapper tribe-common-g-col\">\\n\\t\\t<article  class=\"tribe-events-widget-events-list__event post-40662 tribe_events type-tribe_events status-publish hentry tribe_events_cat-events tribe_events_cat-featured\" >\\n\\t\\t\\t<div class=\"tribe-events-widget-events-list__event-details\">\\n\\n\\t\\t\\t\\t<header class=\"tribe-events-widget-events-list__event-header\">\\n\\t\\t\\t\\t\\t<div class=\"tribe-events-widget-events-list__event-datetime-wrapper tribe-common-b2 tribe-common-b3--min-medium\">\\n\\t\\t<time class=\"tribe-events-widget-events-list__event-datetime\" datetime=\"2024-09-17\">\\n\\t\\t<span class=\"tribe-event-date-start\">5:00 pm</span> - <span class=\"tribe-event-time\">7:00 pm</span>\\t</time>\\n\\t</div>\\n\\t\\t\\t\\t\\t<h3 class=\"tribe-events-widget-events-list__event-title tribe-common-h7\">\\n\\t<a\\n\\t\\thref=\"https://civmin.utoronto.ca/event/suncor-energy-info-session-for-students/\"\\n\\t\\ttitle=\"Suncor Energy &#8211; info session for students\"\\n\\t\\trel=\"bookmark\"\\n\\t\\tclass=\"tribe-events-widget-events-list__event-title-link tribe-common-anchor-thin\"\\n\\t>\\n\\t\\tSuncor Energy &#8211; info session for students\\t</a>\\n</h3>\\n\\t\\t\\t\\t</header>\\n\\n\\t\\t\\t\\t\\n\\t\\t\\t</div>\\n\\t\\t</article>\\n\\t</div>\\n\\n</div>\\n\\t\\t\\t\\t\\t\\t\\t\\t\\t\\t\\t<div  class=\"tribe-common-g-row tribe-events-widget-events-list__event-row\" >\\n\\n\\t<div class=\"tribe-events-widget-events-list__event-date-tag tribe-common-g-col\">\\n\\t<time class=\"tribe-events-widget-events-list__event-date-tag-datetime\" datetime=\"2024-09-27\">\\n\\t\\t<span class=\"tribe-events-widget-events-list__event-date-tag-month\">\\n\\t\\t\\tSep\\t\\t</span>\\n\\t\\t<span class=\"tribe-events-widget-events-list__event-date-tag-daynum tribe-common-h2 tribe-common-h4--min-medium\">\\n\\t\\t\\t27\\t\\t</span>\\n\\t</time>\\n</div>\\n\\n\\t<div class=\"tribe-events-widget-events-list__event-wrapper tribe-common-g-col\">\\n\\t\\t<article  class=\"tribe-events-widget-events-list__event post-40852 tribe_events type-tribe_events status-publish hentry tag-luca-markus tribe_events_cat-events tribe_events_cat-featured\" >\\n\\t\\t\\t<div class=\"tribe-events-widget-events-list__event-details\">\\n\\n\\t\\t\\t\\t<header class=\"tribe-events-widget-events-list__event-header\">\\n\\t\\t\\t\\t\\t<div class=\"tribe-events-widget-events-list__event-datetime-wrapper tribe-common-b2 tribe-common-b3--min-medium\">\\n\\t\\t<time class=\"tribe-events-widget-events-list__event-datetime\" datetime=\"2024-09-27\">\\n\\t\\t<span class=\"tribe-event-date-start\">2:00 pm</span> - <span class=\"tribe-event-time\">3:00 pm</span>\\t</time>\\n\\t</div>\\n\\t\\t\\t\\t\\t<h3 class=\"tribe-events-widget-events-list__event-title tribe-common-h7\">\\n\\t<a\\n\\t\\thref=\"https://civmin.utoronto.ca/event/phd-departmental-defence-by-luca-markus-parametric-investigation-of-efficiency-in-post-tensioned-concrete-bridges/\"\\n\\t\\ttitle=\"PhD Departmental Defence by Luca Markus: Parametric Investigation of Efficiency in Post-Tensioned Concrete Bridges\"\\n\\t\\trel=\"bookmark\"\\n\\t\\tclass=\"tribe-events-widget-events-list__event-title-link tribe-common-anchor-thin\"\\n\\t>\\n\\t\\tPhD Departmental Defence by Luca Markus: Parametric Investigation of Efficiency in Post-Tensioned Concrete Bridges\\t</a>\\n</h3>\\n\\t\\t\\t\\t</header>\\n\\n\\t\\t\\t\\t\\n\\t\\t\\t</div>\\n\\t\\t</article>\\n\\t</div>\\n\\n</div>\\n\\t\\t\\t\\t\\t\\t\\t\\t\\t</div>\\n\\n\\t\\t\\t\\t<div class=\"tribe-events-widget-events-list__view-more tribe-common-b1 tribe-common-b2--min-medium\">\\n\\t<a\\n\\t\\thref=\"https://civmin.utoronto.ca/events/\"\\n\\t\\tclass=\"tribe-events-widget-events-list__view-more-link tribe-common-anchor-thin\"\\n\\t\\ttitle=\"View more events.\"\\n\\t>\\n\\t\\tView Calendar\\t</a>\\n</div>\\n\\n\\t\\t\\t\\t\\t</div>\\n\\t</div>\\n</div>\\n<script class=\"tribe-events-breakpoints\">\\n\\t( function () {\\n\\t\\tvar completed = false;\\n\\n\\t\\tfunction initBreakpoints() {\\n\\t\\t\\tif ( completed ) {\\n\\t\\t\\t\\t// This was fired already and completed no need to attach to the event listener.\\n\\t\\t\\t\\tdocument.removeEventListener( \\'DOMContentLoaded\\', initBreakpoints );\\n\\t\\t\\t\\treturn;\\n\\t\\t\\t}\\n\\n\\t\\t\\tif ( \\'undefined\\' === typeof window.tribe ) {\\n\\t\\t\\t\\treturn;\\n\\t\\t\\t}\\n\\n\\t\\t\\tif ( \\'undefined\\' === typeof window.tribe.events ) {\\n\\t\\t\\t\\treturn;\\n\\t\\t\\t}\\n\\n\\t\\t\\tif ( \\'undefined\\' === typeof window.tribe.events.views ) {\\n\\t\\t\\t\\treturn;\\n\\t\\t\\t}\\n\\n\\t\\t\\tif ( \\'undefined\\' === typeof window.tribe.events.views.breakpoints ) {\\n\\t\\t\\t\\treturn;\\n\\t\\t\\t}\\n\\n\\t\\t\\tif ( \\'function\\' !== typeof (window.tribe.events.views.breakpoints.setup) ) {\\n\\t\\t\\t\\treturn;\\n\\t\\t\\t}\\n\\n\\t\\t\\tvar container = document.querySelectorAll( \\'[data-view-breakpoint-pointer=\"ace1e347-068d-4216-ba5d-368d3f82e2de\"]\\' );\\n\\t\\t\\tif ( ! container ) {\\n\\t\\t\\t\\treturn;\\n\\t\\t\\t}\\n\\n\\t\\t\\twindow.tribe.events.views.breakpoints.setup( container );\\n\\t\\t\\tcompleted = true;\\n\\t\\t\\t// This was fired already and completed no need to attach to the event listener.\\n\\t\\t\\tdocument.removeEventListener( \\'DOMContentLoaded\\', initBreakpoints );\\n\\t\\t}\\n\\n\\t\\t// Try to init the breakpoints right away.\\n\\t\\tinitBreakpoints();\\n\\t\\tdocument.addEventListener( \\'DOMContentLoaded\\', initBreakpoints );\\n\\t})();\\n</script>\\n<script data-js=\\'tribe-events-view-nonce-data\\' type=\\'application/json\\'>{\"_tec_view_rest_nonce_primary\":\"dc84f080a1\",\"_tec_view_rest_nonce_secondary\":\"\"}</script></div>\\n\\t</div>\\n</div>\\n<div class=\"fl-module fl-module-heading fl-node-ftepuc7w83m2\" data-node=\"ftepuc7w83m2\">\\n\\t<div class=\"fl-module-content fl-node-content\">\\n\\t\\t<h2 class=\"fl-heading\">\\n\\t\\t<a href=\"https://civmin.utoronto.ca/page/in-the-news/\" title=\"CivMin Experts In The News\" target=\"_self\">\\n\\t\\t<span class=\"fl-heading-text\">CivMin Experts In The News</span>\\n\\t\\t</a>\\n\\t</h2>\\n\\t</div>\\n</div>\\n<div class=\"fl-module fl-module-pp-content-grid fl-node-q50lrmh1sian\" data-node=\"q50lrmh1sian\">\\n\\t<div class=\"fl-module-content fl-node-content\">\\n\\t\\t<div class=\"pp-posts-wrapper\">\\n\\t\\t\\n\\t<div class=\"pp-content-posts\" style=\"--items-count: 5;--column-xl: 1;--column-lg: 1;--column-md: 1;--column-sm: 1;\">\\n\\t\\t<div class=\"pp-content-post-grid pp-masonry-active clearfix\" itemscope=\"itemscope\" itemtype=\"https://schema.org/Blog\">\\n\\t\\t\\t\\n\\t\\t\\t\\t\\n<div class=\"pp-content-post pp-content-grid-post pp-grid-default post-40797 post type-post status-publish format-standard hentry category-in-the-news tag-doug-hooton tag-douglas-hooton tag-r-douglas-hooton\" itemscope itemtype=\"https://schema.org/BlogPosting\" data-id=\"40797\">\\n\\n\\t<meta itemscope itemprop=\"mainEntityOfPage\" itemtype=\"https://schema.org/WebPage\" itemid=\"http://40797\" content=\"Prof. Emeritus Doug Hooton | Cementing change: Shrinking the eco footprint of one of the world’s most widely used materials\" /><meta itemprop=\"datePublished\" content=\"2024-09-09\" /><meta itemprop=\"dateModified\" content=\"2024-09-09\" /><div itemprop=\"publisher\" itemscope itemtype=\"https://schema.org/Organization\"><meta itemprop=\"name\" content=\"Department of Civil &amp; Mineral Engineering\"></div><div itemscope itemprop=\"author\" itemtype=\"https://schema.org/Person\"><meta itemprop=\"url\" content=\"https://civmin.utoronto.ca/author/phill-snelutoronto-ca/\" /><meta itemprop=\"name\" content=\"Phill Snel\" /></div><div itemprop=\"interactionStatistic\" itemscope itemtype=\"https://schema.org/InteractionCounter\"><meta itemprop=\"interactionType\" content=\"https://schema.org/CommentAction\" /><meta itemprop=\"userInteractionCount\" content=\"0\" /></div>\\n\\t\\n\\t\\t\\n\\t\\t\\n\\t\\t\\n\\t\\t\\n\\t\\t<div class=\"pp-content-grid-inner pp-content-body clearfix\">\\n\\t\\t\\t\\n\\t\\t\\t\\n\\t\\t\\t<div class=\"pp-content-post-data\">\\n\\t\\t\\t\\t\\t\\t\\t\\t\\t<h6 class=\"pp-content-grid-title pp-post-title\" itemprop=\"headline\">\\n\\t\\t\\t\\t\\t\\t\\t\\t\\t\\t\\t\\t\\t<a href=\"https://civmin.utoronto.ca/prof-emeritus-doug-hooton-cementing-change-shrinking-the-eco-footprint-of-one-of-the-worlds-most-widely-used-materials/\" title=\"Prof. Emeritus Doug Hooton | Cementing change: Shrinking the eco footprint of one of the world’s most widely used materials\">\\n\\t\\t\\t\\t\\t\\t\\t\\t\\t\\t\\t\\t\\t\\tProf. Emeritus Doug Hooton | Cementing change: Shrinking the eco footprint of one of the world’s most widely used materials\\t\\t\\t\\t\\t\\t\\t\\t\\t\\t\\t\\t\\t</a>\\n\\t\\t\\t\\t\\t\\t\\t\\t\\t\\t\\t</h6>\\n\\t\\t\\t\\t\\t\\t\\t\\t\\t\\n\\t\\t\\t\\t\\n\\t\\t\\t\\t\\n\\t\\t\\t\\t\\n\\t\\t\\t\\t\\n\\t\\t\\t\\t\\t\\t\\t\\t\\t<div class=\"pp-content-grid-content pp-post-content content-type-excerpt\">\\n    <p>September 4, 2024 | Toronto Star</p>\\n</div>\\n\\t\\t\\t\\t\\n\\t\\t\\t\\t\\n\\t\\t\\t\\t\\n\\t\\t\\t\\t\\n\\t\\t\\t</div>\\n\\t\\t\\t\\n\\t\\t\\t\\t\\t</div>\\n\\n\\t\\t\\t</div>\\n\\n<div class=\"pp-content-post pp-content-grid-post pp-post-2n pp-grid-default post-40610 post type-post status-publish format-standard hentry category-in-the-news tag-bryan-karney\" itemscope itemtype=\"https://schema.org/BlogPosting\" data-id=\"40610\">\\n\\n\\t<meta itemscope itemprop=\"mainEntityOfPage\" itemtype=\"https://schema.org/WebPage\" itemid=\"http://40610\" content=\"Prof. Bryan Karney | Toronto company using lake water to cool buildings expands system\" /><meta itemprop=\"datePublished\" content=\"2024-08-30\" /><meta itemprop=\"dateModified\" content=\"2024-08-30\" /><div itemprop=\"publisher\" itemscope itemtype=\"https://schema.org/Organization\"><meta itemprop=\"name\" content=\"Department of Civil &amp; Mineral Engineering\"></div><div itemscope itemprop=\"author\" itemtype=\"https://schema.org/Person\"><meta itemprop=\"url\" content=\"https://civmin.utoronto.ca/author/phill-snelutoronto-ca/\" /><meta itemprop=\"name\" content=\"Phill Snel\" /></div><div itemprop=\"interactionStatistic\" itemscope itemtype=\"https://schema.org/InteractionCounter\"><meta itemprop=\"interactionType\" content=\"https://schema.org/CommentAction\" /><meta itemprop=\"userInteractionCount\" content=\"0\" /></div>\\n\\t\\n\\t\\t\\n\\t\\t\\n\\t\\t\\n\\t\\t\\n\\t\\t<div class=\"pp-content-grid-inner pp-content-body clearfix\">\\n\\t\\t\\t\\n\\t\\t\\t\\n\\t\\t\\t<div class=\"pp-content-post-data\">\\n\\t\\t\\t\\t\\t\\t\\t\\t\\t<h6 class=\"pp-content-grid-title pp-post-title\" itemprop=\"headline\">\\n\\t\\t\\t\\t\\t\\t\\t\\t\\t\\t\\t\\t\\t<a href=\"https://civmin.utoronto.ca/prof-bryan-karney-toronto-company-using-lake-water-to-cool-buildings-expands-system/\" title=\"Prof. Bryan Karney | Toronto company using lake water to cool buildings expands system\">\\n\\t\\t\\t\\t\\t\\t\\t\\t\\t\\t\\t\\t\\t\\tProf. Bryan Karney | Toronto company using lake water to cool buildings expands system\\t\\t\\t\\t\\t\\t\\t\\t\\t\\t\\t\\t\\t</a>\\n\\t\\t\\t\\t\\t\\t\\t\\t\\t\\t\\t</h6>\\n\\t\\t\\t\\t\\t\\t\\t\\t\\t\\n\\t\\t\\t\\t\\n\\t\\t\\t\\t\\n\\t\\t\\t\\t\\n\\t\\t\\t\\t\\n\\t\\t\\t\\t\\t\\t\\t\\t\\t<div class=\"pp-content-grid-content pp-post-content content-type-excerpt\">\\n    <p>August 29, 2024 | CBC News</p>\\n</div>\\n\\t\\t\\t\\t\\n\\t\\t\\t\\t\\n\\t\\t\\t\\t\\n\\t\\t\\t\\t\\n\\t\\t\\t</div>\\n\\t\\t\\t\\n\\t\\t\\t\\t\\t</div>\\n\\n\\t\\t\\t</div>\\n\\n<div class=\"pp-content-post pp-content-grid-post pp-grid-default post-40281 post type-post status-publish format-standard hentry category-in-the-news tag-jeff-siegel tag-jeffrey-siegel\" itemscope itemtype=\"https://schema.org/BlogPosting\" data-id=\"40281\">\\n\\n\\t<meta itemscope itemprop=\"mainEntityOfPage\" itemtype=\"https://schema.org/WebPage\" itemid=\"http://40281\" content=\"Prof. Jeffrey Siegel | Les particules ultrafines causent des maladies et des décès à Montréal et Toronto\" /><meta itemprop=\"datePublished\" content=\"2024-08-09\" /><meta itemprop=\"dateModified\" content=\"2024-08-09\" /><div itemprop=\"publisher\" itemscope itemtype=\"https://schema.org/Organization\"><meta itemprop=\"name\" content=\"Department of Civil &amp; Mineral Engineering\"></div><div itemscope itemprop=\"author\" itemtype=\"https://schema.org/Person\"><meta itemprop=\"url\" content=\"https://civmin.utoronto.ca/author/phill-snelutoronto-ca/\" /><meta itemprop=\"name\" content=\"Phill Snel\" /></div><div itemprop=\"interactionStatistic\" itemscope itemtype=\"https://schema.org/InteractionCounter\"><meta itemprop=\"interactionType\" content=\"https://schema.org/CommentAction\" /><meta itemprop=\"userInteractionCount\" content=\"0\" /></div>\\n\\t\\n\\t\\t\\n\\t\\t\\n\\t\\t\\n\\t\\t\\n\\t\\t<div class=\"pp-content-grid-inner pp-content-body clearfix\">\\n\\t\\t\\t\\n\\t\\t\\t\\n\\t\\t\\t<div class=\"pp-content-post-data\">\\n\\t\\t\\t\\t\\t\\t\\t\\t\\t<h6 class=\"pp-content-grid-title pp-post-title\" itemprop=\"headline\">\\n\\t\\t\\t\\t\\t\\t\\t\\t\\t\\t\\t\\t\\t<a href=\"https://civmin.utoronto.ca/prof-jeffrey-siegel-les-particules-ultrafines-causent-des-maladies-et-des-deces-a-montreal-et-toronto/\" title=\"Prof. Jeffrey Siegel | Les particules ultrafines causent des maladies et des décès à Montréal et Toronto\">\\n\\t\\t\\t\\t\\t\\t\\t\\t\\t\\t\\t\\t\\t\\tProf. Jeffrey Siegel | Les particules ultrafines causent des maladies et des décès à Montréal et Toronto\\t\\t\\t\\t\\t\\t\\t\\t\\t\\t\\t\\t\\t</a>\\n\\t\\t\\t\\t\\t\\t\\t\\t\\t\\t\\t</h6>\\n\\t\\t\\t\\t\\t\\t\\t\\t\\t\\n\\t\\t\\t\\t\\n\\t\\t\\t\\t\\n\\t\\t\\t\\t\\n\\t\\t\\t\\t\\n\\t\\t\\t\\t\\t\\t\\t\\t\\t<div class=\"pp-content-grid-content pp-post-content content-type-excerpt\">\\n    <p>Radio-Canada | August 8, 2024</p>\\n</div>\\n\\t\\t\\t\\t\\n\\t\\t\\t\\t\\n\\t\\t\\t\\t\\n\\t\\t\\t\\t\\n\\t\\t\\t</div>\\n\\t\\t\\t\\n\\t\\t\\t\\t\\t</div>\\n\\n\\t\\t\\t</div>\\n\\n<div class=\"pp-content-post pp-content-grid-post pp-post-2n pp-grid-default post-40279 post type-post status-publish format-standard hentry category-in-the-news tag-jeff-siegel tag-jeffrey-siegel\" itemscope itemtype=\"https://schema.org/BlogPosting\" data-id=\"40279\">\\n\\n\\t<meta itemscope itemprop=\"mainEntityOfPage\" itemtype=\"https://schema.org/WebPage\" itemid=\"http://40279\" content=\"Prof. Jeffrey Siegel | What are ultrafine particles and how can we mitigate the risk?\" /><meta itemprop=\"datePublished\" content=\"2024-08-09\" /><meta itemprop=\"dateModified\" content=\"2024-08-09\" /><div itemprop=\"publisher\" itemscope itemtype=\"https://schema.org/Organization\"><meta itemprop=\"name\" content=\"Department of Civil &amp; Mineral Engineering\"></div><div itemscope itemprop=\"author\" itemtype=\"https://schema.org/Person\"><meta itemprop=\"url\" content=\"https://civmin.utoronto.ca/author/phill-snelutoronto-ca/\" /><meta itemprop=\"name\" content=\"Phill Snel\" /></div><div itemprop=\"interactionStatistic\" itemscope itemtype=\"https://schema.org/InteractionCounter\"><meta itemprop=\"interactionType\" content=\"https://schema.org/CommentAction\" /><meta itemprop=\"userInteractionCount\" content=\"0\" /></div>\\n\\t\\n\\t\\t\\n\\t\\t\\n\\t\\t\\n\\t\\t\\n\\t\\t<div class=\"pp-content-grid-inner pp-content-body clearfix\">\\n\\t\\t\\t\\n\\t\\t\\t\\n\\t\\t\\t<div class=\"pp-content-post-data\">\\n\\t\\t\\t\\t\\t\\t\\t\\t\\t<h6 class=\"pp-content-grid-title pp-post-title\" itemprop=\"headline\">\\n\\t\\t\\t\\t\\t\\t\\t\\t\\t\\t\\t\\t\\t<a href=\"https://civmin.utoronto.ca/prof-jeffrey-siegel-what-are-ultrafine-particles-and-how-can-we-mitigate-the-risk/\" title=\"Prof. Jeffrey Siegel | What are ultrafine particles and how can we mitigate the risk?\">\\n\\t\\t\\t\\t\\t\\t\\t\\t\\t\\t\\t\\t\\t\\tProf. Jeffrey Siegel | What are ultrafine particles and how can we mitigate the risk?\\t\\t\\t\\t\\t\\t\\t\\t\\t\\t\\t\\t\\t</a>\\n\\t\\t\\t\\t\\t\\t\\t\\t\\t\\t\\t</h6>\\n\\t\\t\\t\\t\\t\\t\\t\\t\\t\\n\\t\\t\\t\\t\\n\\t\\t\\t\\t\\n\\t\\t\\t\\t\\n\\t\\t\\t\\t\\n\\t\\t\\t\\t\\t\\t\\t\\t\\t<div class=\"pp-content-grid-content pp-post-content content-type-excerpt\">\\n    <p>CBC News | August 8, 2024</p>\\n</div>\\n\\t\\t\\t\\t\\n\\t\\t\\t\\t\\n\\t\\t\\t\\t\\n\\t\\t\\t\\t\\n\\t\\t\\t</div>\\n\\t\\t\\t\\n\\t\\t\\t\\t\\t</div>\\n\\n\\t\\t\\t</div>\\n\\n<div class=\"pp-content-post pp-content-grid-post pp-grid-default post-40258 post type-post status-publish format-standard hentry category-in-the-news tag-shoshanna-saxe\" itemscope itemtype=\"https://schema.org/BlogPosting\" data-id=\"40258\">\\n\\n\\t<meta itemscope itemprop=\"mainEntityOfPage\" itemtype=\"https://schema.org/WebPage\" itemid=\"http://40258\" content=\"Prof. Shoshanna Saxe | More with less: Researchers map a more sustainable path to home construction in Canada\" /><meta itemprop=\"datePublished\" content=\"2024-08-08\" /><meta itemprop=\"dateModified\" content=\"2024-08-08\" /><div itemprop=\"publisher\" itemscope itemtype=\"https://schema.org/Organization\"><meta itemprop=\"name\" content=\"Department of Civil &amp; Mineral Engineering\"></div><div itemscope itemprop=\"author\" itemtype=\"https://schema.org/Person\"><meta itemprop=\"url\" content=\"https://civmin.utoronto.ca/author/phill-snelutoronto-ca/\" /><meta itemprop=\"name\" content=\"Phill Snel\" /></div><div itemprop=\"interactionStatistic\" itemscope itemtype=\"https://schema.org/InteractionCounter\"><meta itemprop=\"interactionType\" content=\"https://schema.org/CommentAction\" /><meta itemprop=\"userInteractionCount\" content=\"0\" /></div>\\n\\t\\n\\t\\t\\n\\t\\t\\n\\t\\t\\n\\t\\t\\n\\t\\t<div class=\"pp-content-grid-inner pp-content-body clearfix\">\\n\\t\\t\\t\\n\\t\\t\\t\\n\\t\\t\\t<div class=\"pp-content-post-data\">\\n\\t\\t\\t\\t\\t\\t\\t\\t\\t<h6 class=\"pp-content-grid-title pp-post-title\" itemprop=\"headline\">\\n\\t\\t\\t\\t\\t\\t\\t\\t\\t\\t\\t\\t\\t<a href=\"https://civmin.utoronto.ca/prof-shoshanna-saxe-more-with-less-researchers-map-a-more-sustainable-path-to-home-construction-in-canada/\" title=\"Prof. Shoshanna Saxe | More with less: Researchers map a more sustainable path to home construction in Canada\">\\n\\t\\t\\t\\t\\t\\t\\t\\t\\t\\t\\t\\t\\t\\tProf. Shoshanna Saxe | More with less: Researchers map a more sustainable path to home construction in Canada\\t\\t\\t\\t\\t\\t\\t\\t\\t\\t\\t\\t\\t</a>\\n\\t\\t\\t\\t\\t\\t\\t\\t\\t\\t\\t</h6>\\n\\t\\t\\t\\t\\t\\t\\t\\t\\t\\n\\t\\t\\t\\t\\n\\t\\t\\t\\t\\n\\t\\t\\t\\t\\n\\t\\t\\t\\t\\n\\t\\t\\t\\t\\t\\t\\t\\t\\t<div class=\"pp-content-grid-content pp-post-content content-type-excerpt\">\\n    <p>Education News Canada | August 7, 2024</p>\\n</div>\\n\\t\\t\\t\\t\\n\\t\\t\\t\\t\\n\\t\\t\\t\\t\\n\\t\\t\\t\\t\\n\\t\\t\\t</div>\\n\\t\\t\\t\\n\\t\\t\\t\\t\\t</div>\\n\\n\\t\\t\\t</div>\\n\\n\\t\\t\\t\\t\\t\\t\\t\\t<div class=\"pp-grid-space\"></div>\\n\\t\\t\\t\\t\\n\\t\\t\\t\\t\\t</div>\\n\\n\\t\\t<div class=\"fl-clear\"></div>\\n\\n\\t\\t\\n\\t\\t\\t\\t\\n\\t\\t</div><!-- .pp-content-posts -->\\n\\t\\n\\t</div>\\n\\n\\t</div>\\n</div>\\n</div>\\n</div>\\n\\t</div>\\n\\n<div class=\"fl-col-group fl-node-jgp57yi09fa6\" data-node=\"jgp57yi09fa6\">\\n\\t\\t\\t<div class=\"fl-col fl-node-die4qfxabmt0\" data-node=\"die4qfxabmt0\">\\n\\t<div class=\"fl-col-content fl-node-content\"><div class=\"fl-module fl-module-pp-line-separator fl-node-k2cibwn4q0h8\" data-node=\"k2cibwn4q0h8\">\\n\\t<div class=\"fl-module-content fl-node-content\">\\n\\t\\t<div class=\"pp-line-separator-wrap\">\\n\\t\\t\\t<div class=\"pp-line-separator-inner pp-line-only\">\\n\\t\\t\\t<span class=\"pp-line-separator pp-line-only\"></span>\\n\\t\\t</div>\\n\\t\\t\\t</div>\\n\\t</div>\\n</div>\\n</div>\\n</div>\\n\\t</div>\\n\\t\\t</div>\\n\\t</div>\\n</div>\\n<div class=\"fl-row fl-row-full-width fl-row-bg-none fl-node-h05kq2r4amnt fl-row-default-height fl-row-align-center\" data-node=\"h05kq2r4amnt\">\\n\\t<div class=\"fl-row-content-wrap\">\\n\\t\\t\\t\\t\\t\\t<div class=\"fl-row-content fl-row-fixed-width fl-node-content\">\\n\\t\\t\\n<div class=\"fl-col-group fl-node-6plm1he5duki\" data-node=\"6plm1he5duki\">\\n\\t\\t\\t<div class=\"fl-col fl-node-6b278jag3ctv fl-col-small\" data-node=\"6b278jag3ctv\">\\n\\t<div class=\"fl-col-content fl-node-content\"><div class=\"fl-module fl-module-heading fl-node-stylv175wxiu fl-visible-desktop fl-visible-large\" data-node=\"stylv175wxiu\">\\n\\t<div class=\"fl-module-content fl-node-content\">\\n\\t\\t<h2 class=\"fl-heading\">\\n\\t\\t<a href=\"https://civmin.utoronto.ca/page/featured/\" title=\"Featured\" target=\"_self\">\\n\\t\\t<span class=\"fl-heading-text\">Featured</span>\\n\\t\\t</a>\\n\\t</h2>\\n\\t</div>\\n</div>\\n<div class=\"fl-module fl-module-pp-content-grid fl-node-v3x4eh28ylnz fl-visible-desktop fl-visible-large fl-visible-medium\" data-node=\"v3x4eh28ylnz\">\\n\\t<div class=\"fl-module-content fl-node-content\">\\n\\t\\t<div class=\"pp-posts-wrapper\">\\n\\t\\t\\n\\t<div class=\"pp-content-posts\" style=\"--items-count: 1;--column-xl: 1;--column-lg: 1;--column-md: 1;--column-sm: 1;\">\\n\\t\\t<div class=\"pp-content-post-grid pp-equal-height pp-css-grid\" itemscope=\"itemscope\" itemtype=\"https://schema.org/Blog\">\\n\\t\\t\\t\\n\\t\\t\\t\\t\\n<div class=\"pp-content-post pp-content-grid-post pp-grid-default post-34037 post type-post status-publish format-standard has-post-thumbnail hentry category-featured category-news tag-adjustable-multidimensional tag-amd tag-canada-foundation-for-innovation tag-cfi tag-civil-engineering tag-constantin-christopoulos tag-renovation tag-stf tag-structural-testing-facilities tag-structural-testing-facility tag-sustainable-infrastructure\" itemscope itemtype=\"https://schema.org/BlogPosting\" data-id=\"34037\">\\n\\n\\t<meta itemscope itemprop=\"mainEntityOfPage\" itemtype=\"https://schema.org/WebPage\" itemid=\"http://34037\" content=\"World&#8217;s first adjustable multidimensional structural testing system coming to CivMin’s Structural Testing Facilities\" /><meta itemprop=\"datePublished\" content=\"2023-07-25\" /><meta itemprop=\"dateModified\" content=\"2023-08-03\" /><div itemprop=\"publisher\" itemscope itemtype=\"https://schema.org/Organization\"><meta itemprop=\"name\" content=\"Department of Civil &amp; Mineral Engineering\"></div><div itemscope itemprop=\"author\" itemtype=\"https://schema.org/Person\"><meta itemprop=\"url\" content=\"https://civmin.utoronto.ca/author/phill-snelutoronto-ca/\" /><meta itemprop=\"name\" content=\"Phill Snel\" /></div><div itemscope itemprop=\"image\" itemtype=\"https://schema.org/ImageObject\"><meta itemprop=\"url\" content=\"https://civmin.utoronto.ca/wp-content/uploads/2023/07/Screenshot-2023-07-12-at-2.11.35-PM.png\" /><meta itemprop=\"width\" content=\"2092\" /><meta itemprop=\"height\" content=\"1372\" /></div><div itemprop=\"interactionStatistic\" itemscope itemtype=\"https://schema.org/InteractionCounter\"><meta itemprop=\"interactionType\" content=\"https://schema.org/CommentAction\" /><meta itemprop=\"userInteractionCount\" content=\"0\" /></div>\\n\\t\\n\\t\\t\\t\\t\\t<a class=\"pp-post-link\" href=\"https://civmin.utoronto.ca/worlds-first-amd/\" title=\"World&#8217;s first adjustable multidimensional structural testing system coming to CivMin’s Structural Testing Facilities\"></a>\\n\\t\\t\\n\\t\\t\\n\\t\\t\\n\\t\\t\\t\\t\\t<div class=\"pp-content-grid-image pp-post-image\">\\n    \\t\\t\\t\\t\\t<div class=\"pp-post-featured-img\">\\n\\t\\t\\t\\t<div class=\"fl-photo fl-photo-crop-square fl-photo-align-center\" itemscope itemtype=\"https://schema.org/ImageObject\">\\n\\t<div class=\"fl-photo-content fl-photo-img-png\">\\n\\t\\t\\t\\t<img loading=\"lazy\" decoding=\"async\" class=\"fl-photo-img wp-image-34970 size-large pp-post-img no-lazyload\" src=\"https://civmin.utoronto.ca/wp-content/uploads/bb-plugin/cache/Screenshot-2023-07-12-at-2.11.35-PM-1024x672-square-6637875f34da6e8fc8b439c59b755923-.png\" alt=\"An illustration of the adjustable multidimensional (AMD) testing device to be installed in CivMin&#039;s Galbraith side of the Structural Testing Facilities (STF). \" itemprop=\"image\" data-no-lazy=\"1\" height=\"672\" width=\"1024\" title=\"Screenshot 2023-07-12 at 2.11.35 PM\"  />\\n\\t\\t\\t\\t\\t</div>\\n\\t</div>\\n\\t\\t\\t</div>\\n\\t\\t    \\n\\t\\t\\t\\n\\t\\t\\n\\t\\t\\t</div>\\n\\t\\t\\n\\t\\t<div class=\"pp-content-grid-inner pp-content-body clearfix\">\\n\\t\\t\\t\\n\\t\\t\\t\\n\\t\\t\\t<div class=\"pp-content-post-data\">\\n\\t\\t\\t\\t\\t\\t\\t\\t\\t<h3 class=\"pp-content-grid-title pp-post-title\" itemprop=\"headline\">\\n\\t\\t\\t\\t\\t\\t\\t\\t\\t\\t\\t\\t\\t\\tWorld&#8217;s first adjustable multidimensional structural testing system coming to CivMin’s Structural Testing Facilities\\t\\t\\t\\t\\t\\t\\t\\t\\t\\t\\t</h3>\\n\\t\\t\\t\\t\\t\\t\\t\\t\\t\\n\\t\\t\\t\\t\\t\\t\\t\\t<div class=\"pp-content-post-meta pp-post-meta\">\\n\\t\\t\\t\\t\\t\\t\\t\\t\\t\\t\\t<span class=\"pp-content-post-author pp-post-author\">\\nBy <a href=\"https://civmin.utoronto.ca/author/phill-snelutoronto-ca/\"><span>Phill Snel</span></a></span>\\t\\t\\t\\t\\t\\n\\t\\t\\t\\t\\t\\t\\t\\t\\t\\t\\t\\t\\t\\t\\t\\t\\t\\t<span>  |  </span>\\n\\t\\t\\t\\t\\t\\t\\t\\t\\t\\t\\t\\t<span class=\"pp-content-grid-date pp-post-date\">\\n\\t\\t\\tJuly 25, 2023\\t</span>\\t\\t\\t\\t\\t\\n\\t\\t\\t\\t\\t\\t\\t\\t\\t</div>\\n\\t\\t\\t\\t\\n\\t\\t\\t\\t\\n\\t\\t\\t\\t\\n\\t\\t\\t\\t\\n\\t\\t\\t\\t\\n\\t\\t\\t\\t\\n\\t\\t\\t\\t\\n\\t\\t\\t\\t\\n\\t\\t\\t</div>\\n\\t\\t\\t\\n\\t\\t\\t\\t\\t</div>\\n\\n\\t\\t\\t</div>\\n\\n\\t\\t\\t\\t\\n\\t\\t\\t\\t\\t</div>\\n\\n\\t\\t<div class=\"fl-clear\"></div>\\n\\n\\t\\t\\n\\t\\t\\t\\t\\n\\t\\t</div><!-- .pp-content-posts -->\\n\\t\\n\\t</div>\\n\\n\\t</div>\\n</div>\\n</div>\\n</div>\\n\\t\\t\\t<div class=\"fl-col fl-node-zacirymlohes fl-col-small\" data-node=\"zacirymlohes\">\\n\\t<div class=\"fl-col-content fl-node-content\"><div class=\"fl-module fl-module-heading fl-node-5g3xkc9ym1ro fl-visible-desktop fl-visible-large fl-visible-medium\" data-node=\"5g3xkc9ym1ro\">\\n\\t<div class=\"fl-module-content fl-node-content\">\\n\\t\\t<h2 class=\"fl-heading\">\\n\\t\\t<a href=\"https://civmin.utoronto.ca/page/people/alumni/\" title=\"Alumni Updates\" target=\"_self\">\\n\\t\\t<span class=\"fl-heading-text\">Alumni Updates</span>\\n\\t\\t</a>\\n\\t</h2>\\n\\t</div>\\n</div>\\n<div class=\"fl-module fl-module-pp-content-grid fl-node-e5uvfswqob17 fl-visible-desktop fl-visible-large fl-visible-medium\" data-node=\"e5uvfswqob17\">\\n\\t<div class=\"fl-module-content fl-node-content\">\\n\\t\\t<div class=\"pp-posts-wrapper\">\\n\\t\\t\\n\\t<div class=\"pp-content-posts\" style=\"--items-count: 1;--column-xl: 1;--column-lg: 1;--column-md: 1;--column-sm: 1;\">\\n\\t\\t<div class=\"pp-content-post-grid pp-equal-height pp-css-grid\" itemscope=\"itemscope\" itemtype=\"https://schema.org/Blog\">\\n\\t\\t\\t\\n\\t\\t\\t\\t\\n<div class=\"pp-content-post pp-content-grid-post pp-grid-default post-40598 post type-post status-publish format-standard has-post-thumbnail hentry category-alumni category-news tag-alumni tag-alumnus tag-camp tag-gull-lake tag-phil-feldman tag-survey-camp\" itemscope itemtype=\"https://schema.org/BlogPosting\" data-id=\"40598\">\\n\\n\\t<meta itemscope itemprop=\"mainEntityOfPage\" itemtype=\"https://schema.org/WebPage\" itemid=\"http://40598\" content=\"Memories of Camp from 1957: Visiting Gull Lake\" /><meta itemprop=\"datePublished\" content=\"2024-09-04\" /><meta itemprop=\"dateModified\" content=\"2024-09-04\" /><div itemprop=\"publisher\" itemscope itemtype=\"https://schema.org/Organization\"><meta itemprop=\"name\" content=\"Department of Civil &amp; Mineral Engineering\"></div><div itemscope itemprop=\"author\" itemtype=\"https://schema.org/Person\"><meta itemprop=\"url\" content=\"https://civmin.utoronto.ca/author/phill-snelutoronto-ca/\" /><meta itemprop=\"name\" content=\"Phill Snel\" /></div><div itemscope itemprop=\"image\" itemtype=\"https://schema.org/ImageObject\"><meta itemprop=\"url\" content=\"https://civmin.utoronto.ca/wp-content/uploads/2024/09/Camp1-Group-MED-4L8A3072.jpg\" /><meta itemprop=\"width\" content=\"2500\" /><meta itemprop=\"height\" content=\"1667\" /></div><div itemprop=\"interactionStatistic\" itemscope itemtype=\"https://schema.org/InteractionCounter\"><meta itemprop=\"interactionType\" content=\"https://schema.org/CommentAction\" /><meta itemprop=\"userInteractionCount\" content=\"0\" /></div>\\n\\t\\n\\t\\t\\t\\t\\t<a class=\"pp-post-link\" href=\"https://civmin.utoronto.ca/memories-of-camp-visiting-gull-lake/\" title=\"Memories of Camp from 1957: Visiting Gull Lake\"></a>\\n\\t\\t\\n\\t\\t\\n\\t\\t\\n\\t\\t\\t\\t\\t<div class=\"pp-content-grid-image pp-post-image\">\\n    \\t\\t\\t\\t\\t<div class=\"pp-post-featured-img\">\\n\\t\\t\\t\\t<div class=\"fl-photo fl-photo-crop-square fl-photo-align-center\" itemscope itemtype=\"https://schema.org/ImageObject\">\\n\\t<div class=\"fl-photo-content fl-photo-img-jpg\">\\n\\t\\t\\t\\t<img loading=\"lazy\" decoding=\"async\" class=\"fl-photo-img wp-image-40649 size-large pp-post-img no-lazyload\" src=\"https://civmin.utoronto.ca/wp-content/uploads/bb-plugin/cache/Camp1-Group-MED-4L8A3072-1024x683-square-70fc53679404e796cdc823745179e445-.jpg\" alt=\"A group photo of students, professors, staff and guests at Camp 1 on August 14, 2024. (Photo by Phill Snel)\" itemprop=\"image\" data-no-lazy=\"1\" height=\"683\" width=\"1024\" title=\"Camp1 Group MED -4L8A3072\"  />\\n\\t\\t\\t\\t\\t</div>\\n\\t</div>\\n\\t\\t\\t</div>\\n\\t\\t    \\n\\t\\t\\t\\n\\t\\t\\n\\t\\t\\t</div>\\n\\t\\t\\n\\t\\t<div class=\"pp-content-grid-inner pp-content-body clearfix\">\\n\\t\\t\\t\\n\\t\\t\\t\\n\\t\\t\\t<div class=\"pp-content-post-data\">\\n\\t\\t\\t\\t\\t\\t\\t\\t\\t<h3 class=\"pp-content-grid-title pp-post-title\" itemprop=\"headline\">\\n\\t\\t\\t\\t\\t\\t\\t\\t\\t\\t\\t\\t\\t\\tMemories of Camp from 1957: Visiting Gull Lake\\t\\t\\t\\t\\t\\t\\t\\t\\t\\t\\t</h3>\\n\\t\\t\\t\\t\\t\\t\\t\\t\\t\\n\\t\\t\\t\\t\\t\\t\\t\\t<div class=\"pp-content-post-meta pp-post-meta\">\\n\\t\\t\\t\\t\\t\\t\\t\\t\\t\\t\\t<span class=\"pp-content-post-author pp-post-author\">\\nBy <a href=\"https://civmin.utoronto.ca/author/phill-snelutoronto-ca/\"><span>Phill Snel</span></a></span>\\t\\t\\t\\t\\t\\n\\t\\t\\t\\t\\t\\t\\t\\t\\t\\t\\t\\t\\t\\t\\t\\t\\t\\t<span>  |  </span>\\n\\t\\t\\t\\t\\t\\t\\t\\t\\t\\t\\t\\t<span class=\"pp-content-grid-date pp-post-date\">\\n\\t\\t\\tSeptember 4, 2024\\t</span>\\t\\t\\t\\t\\t\\n\\t\\t\\t\\t\\t\\t\\t\\t\\t</div>\\n\\t\\t\\t\\t\\n\\t\\t\\t\\t\\n\\t\\t\\t\\t\\n\\t\\t\\t\\t\\n\\t\\t\\t\\t\\n\\t\\t\\t\\t\\n\\t\\t\\t\\t\\n\\t\\t\\t\\t\\n\\t\\t\\t</div>\\n\\t\\t\\t\\n\\t\\t\\t\\t\\t</div>\\n\\n\\t\\t\\t</div>\\n\\n\\t\\t\\t\\t\\n\\t\\t\\t\\t\\t</div>\\n\\n\\t\\t<div class=\"fl-clear\"></div>\\n\\n\\t\\t\\n\\t\\t\\t\\t\\n\\t\\t</div><!-- .pp-content-posts -->\\n\\t\\n\\t</div>\\n\\n\\t</div>\\n</div>\\n</div>\\n</div>\\n\\t\\t\\t<div class=\"fl-col fl-node-d2ar5mlbp3h7 fl-col-small\" data-node=\"d2ar5mlbp3h7\">\\n\\t<div class=\"fl-col-content fl-node-content\"><div class=\"fl-module fl-module-heading fl-node-4cz2lwsyghra\" data-node=\"4cz2lwsyghra\">\\n\\t<div class=\"fl-module-content fl-node-content\">\\n\\t\\t<h2 class=\"fl-heading\">\\n\\t\\t<a href=\"https://civmin.utoronto.ca/page/awards/\" title=\"Awards &amp; Recognition\" target=\"_self\">\\n\\t\\t<span class=\"fl-heading-text\">Awards & Recognition</span>\\n\\t\\t</a>\\n\\t</h2>\\n\\t</div>\\n</div>\\n<div class=\"fl-module fl-module-pp-content-grid fl-node-krzoms17w90p\" data-node=\"krzoms17w90p\">\\n\\t<div class=\"fl-module-content fl-node-content\">\\n\\t\\t<div class=\"pp-posts-wrapper\">\\n\\t\\t\\n\\t<div class=\"pp-content-posts\" style=\"--items-count: 10;--column-xl: 1;--column-lg: 1;--column-md: 1;--column-sm: 1;\">\\n\\t\\t<div class=\"pp-content-post-grid pp-masonry-active clearfix\" itemscope=\"itemscope\" itemtype=\"https://schema.org/Blog\">\\n\\t\\t\\t\\n\\t\\t\\t\\t\\n<div class=\"pp-content-post pp-content-grid-post pp-grid-default post-40616 post type-post status-publish format-standard has-post-thumbnail hentry category-awards category-students\" itemscope itemtype=\"https://schema.org/BlogPosting\" data-id=\"40616\">\\n\\n\\t<meta itemscope itemprop=\"mainEntityOfPage\" itemtype=\"https://schema.org/WebPage\" itemid=\"http://40616\" content=\"Undergrad wins best overall poster presentation\" /><meta itemprop=\"datePublished\" content=\"2024-09-03\" /><meta itemprop=\"dateModified\" content=\"2024-09-03\" /><div itemprop=\"publisher\" itemscope itemtype=\"https://schema.org/Organization\"><meta itemprop=\"name\" content=\"Department of Civil &amp; Mineral Engineering\"></div><div itemscope itemprop=\"author\" itemtype=\"https://schema.org/Person\"><meta itemprop=\"url\" content=\"https://civmin.utoronto.ca/author/phill-snelutoronto-ca/\" /><meta itemprop=\"name\" content=\"Phill Snel\" /></div><div itemscope itemprop=\"image\" itemtype=\"https://schema.org/ImageObject\"><meta itemprop=\"url\" content=\"https://civmin.utoronto.ca/wp-content/uploads/2024/09/Michel-crop-SQ-UnERD-picture-1.jpg\" /><meta itemprop=\"width\" content=\"496\" /><meta itemprop=\"height\" content=\"496\" /></div><div itemprop=\"interactionStatistic\" itemscope itemtype=\"https://schema.org/InteractionCounter\"><meta itemprop=\"interactionType\" content=\"https://schema.org/CommentAction\" /><meta itemprop=\"userInteractionCount\" content=\"0\" /></div>\\n\\t\\n\\t\\t\\n\\t\\t\\n\\t\\t\\n\\t\\t\\n\\t\\t<div class=\"pp-content-grid-inner pp-content-body clearfix\">\\n\\t\\t\\t\\n\\t\\t\\t\\n\\t\\t\\t<div class=\"pp-content-post-data\">\\n\\t\\t\\t\\t\\t\\t\\t\\t\\t<h6 class=\"pp-content-grid-title pp-post-title\" itemprop=\"headline\">\\n\\t\\t\\t\\t\\t\\t\\t\\t\\t\\t\\t\\t\\t<a href=\"https://civmin.utoronto.ca/civmin-undergrad-wins-best-overall-poster-presentation/\" title=\"Undergrad wins best overall poster presentation\">\\n\\t\\t\\t\\t\\t\\t\\t\\t\\t\\t\\t\\t\\t\\tUndergrad wins best overall poster presentation\\t\\t\\t\\t\\t\\t\\t\\t\\t\\t\\t\\t\\t</a>\\n\\t\\t\\t\\t\\t\\t\\t\\t\\t\\t\\t</h6>\\n\\t\\t\\t\\t\\t\\t\\t\\t\\t\\n\\t\\t\\t\\t\\n\\t\\t\\t\\t\\n\\t\\t\\t\\t\\n\\t\\t\\t\\t\\n\\t\\t\\t\\t\\n\\t\\t\\t\\t\\n\\t\\t\\t\\t\\n\\t\\t\\t\\t\\n\\t\\t\\t</div>\\n\\t\\t\\t\\n\\t\\t\\t\\t\\t</div>\\n\\n\\t\\t\\t</div>\\n\\n<div class=\"pp-content-post pp-content-grid-post pp-post-2n pp-grid-default post-40233 post type-post status-publish format-standard has-post-thumbnail hentry category-awards tag-enerphit tag-justin-berquist tag-kelsey-eakin tag-marianne-touchie tag-rdh-research-scholarship tag-research tag-yazan-zamel\" itemscope itemtype=\"https://schema.org/BlogPosting\" data-id=\"40233\">\\n\\n\\t<meta itemscope itemprop=\"mainEntityOfPage\" itemtype=\"https://schema.org/WebPage\" itemid=\"http://40233\" content=\"RDH Research Scholarship winners\" /><meta itemprop=\"datePublished\" content=\"2024-08-01\" /><meta itemprop=\"dateModified\" content=\"2024-08-01\" /><div itemprop=\"publisher\" itemscope itemtype=\"https://schema.org/Organization\"><meta itemprop=\"name\" content=\"Department of Civil &amp; Mineral Engineering\"></div><div itemscope itemprop=\"author\" itemtype=\"https://schema.org/Person\"><meta itemprop=\"url\" content=\"https://civmin.utoronto.ca/author/phill-snelutoronto-ca/\" /><meta itemprop=\"name\" content=\"Phill Snel\" /></div><div itemscope itemprop=\"image\" itemtype=\"https://schema.org/ImageObject\"><meta itemprop=\"url\" content=\"https://civmin.utoronto.ca/wp-content/uploads/2024/08/GHD-trio-SQ-copy.jpg\" /><meta itemprop=\"width\" content=\"768\" /><meta itemprop=\"height\" content=\"768\" /></div><div itemprop=\"interactionStatistic\" itemscope itemtype=\"https://schema.org/InteractionCounter\"><meta itemprop=\"interactionType\" content=\"https://schema.org/CommentAction\" /><meta itemprop=\"userInteractionCount\" content=\"0\" /></div>\\n\\t\\n\\t\\t\\n\\t\\t\\n\\t\\t\\n\\t\\t\\n\\t\\t<div class=\"pp-content-grid-inner pp-content-body clearfix\">\\n\\t\\t\\t\\n\\t\\t\\t\\n\\t\\t\\t<div class=\"pp-content-post-data\">\\n\\t\\t\\t\\t\\t\\t\\t\\t\\t<h6 class=\"pp-content-grid-title pp-post-title\" itemprop=\"headline\">\\n\\t\\t\\t\\t\\t\\t\\t\\t\\t\\t\\t\\t\\t<a href=\"https://civmin.utoronto.ca/rdh-research-scholarship-winners/\" title=\"RDH Research Scholarship winners\">\\n\\t\\t\\t\\t\\t\\t\\t\\t\\t\\t\\t\\t\\t\\tRDH Research Scholarship winners\\t\\t\\t\\t\\t\\t\\t\\t\\t\\t\\t\\t\\t</a>\\n\\t\\t\\t\\t\\t\\t\\t\\t\\t\\t\\t</h6>\\n\\t\\t\\t\\t\\t\\t\\t\\t\\t\\n\\t\\t\\t\\t\\n\\t\\t\\t\\t\\n\\t\\t\\t\\t\\n\\t\\t\\t\\t\\n\\t\\t\\t\\t\\n\\t\\t\\t\\t\\n\\t\\t\\t\\t\\n\\t\\t\\t\\t\\n\\t\\t\\t</div>\\n\\t\\t\\t\\n\\t\\t\\t\\t\\t</div>\\n\\n\\t\\t\\t</div>\\n\\n<div class=\"pp-content-post pp-content-grid-post pp-grid-default post-40184 post type-post status-publish format-standard has-post-thumbnail hentry category-awards tag-alec-mak\" itemscope itemtype=\"https://schema.org/BlogPosting\" data-id=\"40184\">\\n\\n\\t<meta itemscope itemprop=\"mainEntityOfPage\" itemtype=\"https://schema.org/WebPage\" itemid=\"http://40184\" content=\"Alec Mak is winner of 2024 Transportation Association of Canada (TAC) Student Paper Prize\" /><meta itemprop=\"datePublished\" content=\"2024-07-30\" /><meta itemprop=\"dateModified\" content=\"2024-08-01\" /><div itemprop=\"publisher\" itemscope itemtype=\"https://schema.org/Organization\"><meta itemprop=\"name\" content=\"Department of Civil &amp; Mineral Engineering\"></div><div itemscope itemprop=\"author\" itemtype=\"https://schema.org/Person\"><meta itemprop=\"url\" content=\"https://civmin.utoronto.ca/author/phill-snelutoronto-ca/\" /><meta itemprop=\"name\" content=\"Phill Snel\" /></div><div itemscope itemprop=\"image\" itemtype=\"https://schema.org/ImageObject\"><meta itemprop=\"url\" content=\"https://civmin.utoronto.ca/wp-content/uploads/2024/07/Alec-Mak-SM-SQ-IMG_4889.jpg\" /><meta itemprop=\"width\" content=\"696\" /><meta itemprop=\"height\" content=\"695\" /></div><div itemprop=\"interactionStatistic\" itemscope itemtype=\"https://schema.org/InteractionCounter\"><meta itemprop=\"interactionType\" content=\"https://schema.org/CommentAction\" /><meta itemprop=\"userInteractionCount\" content=\"0\" /></div>\\n\\t\\n\\t\\t\\n\\t\\t\\n\\t\\t\\n\\t\\t\\n\\t\\t<div class=\"pp-content-grid-inner pp-content-body clearfix\">\\n\\t\\t\\t\\n\\t\\t\\t\\n\\t\\t\\t<div class=\"pp-content-post-data\">\\n\\t\\t\\t\\t\\t\\t\\t\\t\\t<h6 class=\"pp-content-grid-title pp-post-title\" itemprop=\"headline\">\\n\\t\\t\\t\\t\\t\\t\\t\\t\\t\\t\\t\\t\\t<a href=\"https://civmin.utoronto.ca/alec-mak-is-winner-of-2024-transportation-association-of-canada-tac-student-paper-prize/\" title=\"Alec Mak is winner of 2024 Transportation Association of Canada (TAC) Student Paper Prize\">\\n\\t\\t\\t\\t\\t\\t\\t\\t\\t\\t\\t\\t\\t\\tAlec Mak is winner of 2024 Transportation Association of Canada (TAC) Student Paper Prize\\t\\t\\t\\t\\t\\t\\t\\t\\t\\t\\t\\t\\t</a>\\n\\t\\t\\t\\t\\t\\t\\t\\t\\t\\t\\t</h6>\\n\\t\\t\\t\\t\\t\\t\\t\\t\\t\\n\\t\\t\\t\\t\\n\\t\\t\\t\\t\\n\\t\\t\\t\\t\\n\\t\\t\\t\\t\\n\\t\\t\\t\\t\\n\\t\\t\\t\\t\\n\\t\\t\\t\\t\\n\\t\\t\\t\\t\\n\\t\\t\\t</div>\\n\\t\\t\\t\\n\\t\\t\\t\\t\\t</div>\\n\\n\\t\\t\\t</div>\\n\\n<div class=\"pp-content-post pp-content-grid-post pp-post-2n pp-grid-default post-39970 post type-post status-publish format-standard has-post-thumbnail hentry category-awards category-faculty category-news tag-american-rock-mechanics-association tag-arma tag-paul-young tag-rock-mechanics\" itemscope itemtype=\"https://schema.org/BlogPosting\" data-id=\"39970\">\\n\\n\\t<meta itemscope itemprop=\"mainEntityOfPage\" itemtype=\"https://schema.org/WebPage\" itemid=\"http://39970\" content=\"Paul Young elected as ARMA Fellow\" /><meta itemprop=\"datePublished\" content=\"2024-07-05\" /><meta itemprop=\"dateModified\" content=\"2024-08-08\" /><div itemprop=\"publisher\" itemscope itemtype=\"https://schema.org/Organization\"><meta itemprop=\"name\" content=\"Department of Civil &amp; Mineral Engineering\"></div><div itemscope itemprop=\"author\" itemtype=\"https://schema.org/Person\"><meta itemprop=\"url\" content=\"https://civmin.utoronto.ca/author/galina-nikitina/\" /><meta itemprop=\"name\" content=\"Galina Nikitina\" /></div><div itemscope itemprop=\"image\" itemtype=\"https://schema.org/ImageObject\"><meta itemprop=\"url\" content=\"https://civmin.utoronto.ca/wp-content/uploads/2024/07/Young-ARMA-Fellow-Presentaionsmall.png\" /><meta itemprop=\"width\" content=\"841\" /><meta itemprop=\"height\" content=\"841\" /></div><div itemprop=\"interactionStatistic\" itemscope itemtype=\"https://schema.org/InteractionCounter\"><meta itemprop=\"interactionType\" content=\"https://schema.org/CommentAction\" /><meta itemprop=\"userInteractionCount\" content=\"0\" /></div>\\n\\t\\n\\t\\t\\n\\t\\t\\n\\t\\t\\n\\t\\t\\n\\t\\t<div class=\"pp-content-grid-inner pp-content-body clearfix\">\\n\\t\\t\\t\\n\\t\\t\\t\\n\\t\\t\\t<div class=\"pp-content-post-data\">\\n\\t\\t\\t\\t\\t\\t\\t\\t\\t<h6 class=\"pp-content-grid-title pp-post-title\" itemprop=\"headline\">\\n\\t\\t\\t\\t\\t\\t\\t\\t\\t\\t\\t\\t\\t<a href=\"https://civmin.utoronto.ca/paul-young-elected-as-arma-fellow/\" title=\"Paul Young elected as ARMA Fellow\">\\n\\t\\t\\t\\t\\t\\t\\t\\t\\t\\t\\t\\t\\t\\tPaul Young elected as ARMA Fellow\\t\\t\\t\\t\\t\\t\\t\\t\\t\\t\\t\\t\\t</a>\\n\\t\\t\\t\\t\\t\\t\\t\\t\\t\\t\\t</h6>\\n\\t\\t\\t\\t\\t\\t\\t\\t\\t\\n\\t\\t\\t\\t\\n\\t\\t\\t\\t\\n\\t\\t\\t\\t\\n\\t\\t\\t\\t\\n\\t\\t\\t\\t\\n\\t\\t\\t\\t\\n\\t\\t\\t\\t\\n\\t\\t\\t\\t\\n\\t\\t\\t</div>\\n\\t\\t\\t\\n\\t\\t\\t\\t\\t</div>\\n\\n\\t\\t\\t</div>\\n\\n<div class=\"pp-content-post pp-content-grid-post pp-grid-default post-39813 post type-post status-publish format-standard has-post-thumbnail hentry category-awards category-news category-students tag-5mt tag-alex-ariza tag-award tag-eric-miller tag-farah-ghizzawi tag-five-minute-thesis tag-mobility-network tag-mwendwa-kiko tag-weaam-jaafar\" itemscope itemtype=\"https://schema.org/BlogPosting\" data-id=\"39813\">\\n\\n\\t<meta itemscope itemprop=\"mainEntityOfPage\" itemtype=\"https://schema.org/WebPage\" itemid=\"http://39813\" content=\"Winners of the 2024 Mobility Network 5MT Competition\" /><meta itemprop=\"datePublished\" content=\"2024-06-13\" /><meta itemprop=\"dateModified\" content=\"2024-06-13\" /><div itemprop=\"publisher\" itemscope itemtype=\"https://schema.org/Organization\"><meta itemprop=\"name\" content=\"Department of Civil &amp; Mineral Engineering\"></div><div itemscope itemprop=\"author\" itemtype=\"https://schema.org/Person\"><meta itemprop=\"url\" content=\"https://civmin.utoronto.ca/author/phill-snelutoronto-ca/\" /><meta itemprop=\"name\" content=\"Phill Snel\" /></div><div itemscope itemprop=\"image\" itemtype=\"https://schema.org/ImageObject\"><meta itemprop=\"url\" content=\"https://civmin.utoronto.ca/wp-content/uploads/2024/06/5MT-Group-CROP-med-SQ-4L8A0903.jpg\" /><meta itemprop=\"width\" content=\"1250\" /><meta itemprop=\"height\" content=\"1250\" /></div><div itemprop=\"interactionStatistic\" itemscope itemtype=\"https://schema.org/InteractionCounter\"><meta itemprop=\"interactionType\" content=\"https://schema.org/CommentAction\" /><meta itemprop=\"userInteractionCount\" content=\"0\" /></div>\\n\\t\\n\\t\\t\\n\\t\\t\\n\\t\\t\\n\\t\\t\\n\\t\\t<div class=\"pp-content-grid-inner pp-content-body clearfix\">\\n\\t\\t\\t\\n\\t\\t\\t\\n\\t\\t\\t<div class=\"pp-content-post-data\">\\n\\t\\t\\t\\t\\t\\t\\t\\t\\t<h6 class=\"pp-content-grid-title pp-post-title\" itemprop=\"headline\">\\n\\t\\t\\t\\t\\t\\t\\t\\t\\t\\t\\t\\t\\t<a href=\"https://civmin.utoronto.ca/winners-of-the-2024-mobility-network-5mt-competition/\" title=\"Winners of the 2024 Mobility Network 5MT Competition\">\\n\\t\\t\\t\\t\\t\\t\\t\\t\\t\\t\\t\\t\\t\\tWinners of the 2024 Mobility Network 5MT Competition\\t\\t\\t\\t\\t\\t\\t\\t\\t\\t\\t\\t\\t</a>\\n\\t\\t\\t\\t\\t\\t\\t\\t\\t\\t\\t</h6>\\n\\t\\t\\t\\t\\t\\t\\t\\t\\t\\n\\t\\t\\t\\t\\n\\t\\t\\t\\t\\n\\t\\t\\t\\t\\n\\t\\t\\t\\t\\n\\t\\t\\t\\t\\n\\t\\t\\t\\t\\n\\t\\t\\t\\t\\n\\t\\t\\t\\t\\n\\t\\t\\t</div>\\n\\t\\t\\t\\n\\t\\t\\t\\t\\t</div>\\n\\n\\t\\t\\t</div>\\n\\n<div class=\"pp-content-post pp-content-grid-post pp-post-2n pp-grid-default post-39768 post type-post status-publish format-standard hentry category-awards\" itemscope itemtype=\"https://schema.org/BlogPosting\" data-id=\"39768\">\\n\\n\\t<meta itemscope itemprop=\"mainEntityOfPage\" itemtype=\"https://schema.org/WebPage\" itemid=\"http://39768\" content=\"CivMin undergrads garner fourth-year awards\" /><meta itemprop=\"datePublished\" content=\"2024-06-12\" /><meta itemprop=\"dateModified\" content=\"2024-06-19\" /><div itemprop=\"publisher\" itemscope itemtype=\"https://schema.org/Organization\"><meta itemprop=\"name\" content=\"Department of Civil &amp; Mineral Engineering\"></div><div itemscope itemprop=\"author\" itemtype=\"https://schema.org/Person\"><meta itemprop=\"url\" content=\"https://civmin.utoronto.ca/author/phill-snelutoronto-ca/\" /><meta itemprop=\"name\" content=\"Phill Snel\" /></div><div itemprop=\"interactionStatistic\" itemscope itemtype=\"https://schema.org/InteractionCounter\"><meta itemprop=\"interactionType\" content=\"https://schema.org/CommentAction\" /><meta itemprop=\"userInteractionCount\" content=\"0\" /></div>\\n\\t\\n\\t\\t\\n\\t\\t\\n\\t\\t\\n\\t\\t\\n\\t\\t<div class=\"pp-content-grid-inner pp-content-body clearfix\">\\n\\t\\t\\t\\n\\t\\t\\t\\n\\t\\t\\t<div class=\"pp-content-post-data\">\\n\\t\\t\\t\\t\\t\\t\\t\\t\\t<h6 class=\"pp-content-grid-title pp-post-title\" itemprop=\"headline\">\\n\\t\\t\\t\\t\\t\\t\\t\\t\\t\\t\\t\\t\\t<a href=\"https://civmin.utoronto.ca/civmin-undergrads-garner-fourth-year-awards/\" title=\"CivMin undergrads garner fourth-year awards\">\\n\\t\\t\\t\\t\\t\\t\\t\\t\\t\\t\\t\\t\\t\\tCivMin undergrads garner fourth-year awards\\t\\t\\t\\t\\t\\t\\t\\t\\t\\t\\t\\t\\t</a>\\n\\t\\t\\t\\t\\t\\t\\t\\t\\t\\t\\t</h6>\\n\\t\\t\\t\\t\\t\\t\\t\\t\\t\\n\\t\\t\\t\\t\\n\\t\\t\\t\\t\\n\\t\\t\\t\\t\\n\\t\\t\\t\\t\\n\\t\\t\\t\\t\\n\\t\\t\\t\\t\\n\\t\\t\\t\\t\\n\\t\\t\\t\\t\\n\\t\\t\\t</div>\\n\\t\\t\\t\\n\\t\\t\\t\\t\\t</div>\\n\\n\\t\\t\\t</div>\\n\\n<div class=\"pp-content-post pp-content-grid-post pp-grid-default post-39754 post type-post status-publish format-standard has-post-thumbnail hentry category-awards category-news category-students\" itemscope itemtype=\"https://schema.org/BlogPosting\" data-id=\"39754\">\\n\\n\\t<meta itemscope itemprop=\"mainEntityOfPage\" itemtype=\"https://schema.org/WebPage\" itemid=\"http://39754\" content=\"CivMin grad students win at the third annual symposium for City Logistics for the Urban Economy\" /><meta itemprop=\"datePublished\" content=\"2024-06-05\" /><meta itemprop=\"dateModified\" content=\"2024-06-05\" /><div itemprop=\"publisher\" itemscope itemtype=\"https://schema.org/Organization\"><meta itemprop=\"name\" content=\"Department of Civil &amp; Mineral Engineering\"></div><div itemscope itemprop=\"author\" itemtype=\"https://schema.org/Person\"><meta itemprop=\"url\" content=\"https://civmin.utoronto.ca/author/phill-snelutoronto-ca/\" /><meta itemprop=\"name\" content=\"Phill Snel\" /></div><div itemscope itemprop=\"image\" itemtype=\"https://schema.org/ImageObject\"><meta itemprop=\"url\" content=\"https://civmin.utoronto.ca/wp-content/uploads/2024/06/CLUE-winners-Farah-Sara-copy-SQ.jpg\" /><meta itemprop=\"width\" content=\"290\" /><meta itemprop=\"height\" content=\"290\" /></div><div itemprop=\"interactionStatistic\" itemscope itemtype=\"https://schema.org/InteractionCounter\"><meta itemprop=\"interactionType\" content=\"https://schema.org/CommentAction\" /><meta itemprop=\"userInteractionCount\" content=\"0\" /></div>\\n\\t\\n\\t\\t\\n\\t\\t\\n\\t\\t\\n\\t\\t\\n\\t\\t<div class=\"pp-content-grid-inner pp-content-body clearfix\">\\n\\t\\t\\t\\n\\t\\t\\t\\n\\t\\t\\t<div class=\"pp-content-post-data\">\\n\\t\\t\\t\\t\\t\\t\\t\\t\\t<h6 class=\"pp-content-grid-title pp-post-title\" itemprop=\"headline\">\\n\\t\\t\\t\\t\\t\\t\\t\\t\\t\\t\\t\\t\\t<a href=\"https://civmin.utoronto.ca/civmin-grad-students-win-at-the-third-annual-symposium-for-city-logistics-for-the-urban-economy/\" title=\"CivMin grad students win at the third annual symposium for City Logistics for the Urban Economy\">\\n\\t\\t\\t\\t\\t\\t\\t\\t\\t\\t\\t\\t\\t\\tCivMin grad students win at the third annual symposium for City Logistics for the Urban Economy\\t\\t\\t\\t\\t\\t\\t\\t\\t\\t\\t\\t\\t</a>\\n\\t\\t\\t\\t\\t\\t\\t\\t\\t\\t\\t</h6>\\n\\t\\t\\t\\t\\t\\t\\t\\t\\t\\n\\t\\t\\t\\t\\n\\t\\t\\t\\t\\n\\t\\t\\t\\t\\n\\t\\t\\t\\t\\n\\t\\t\\t\\t\\n\\t\\t\\t\\t\\n\\t\\t\\t\\t\\n\\t\\t\\t\\t\\n\\t\\t\\t</div>\\n\\t\\t\\t\\n\\t\\t\\t\\t\\t</div>\\n\\n\\t\\t\\t</div>\\n\\n<div class=\"pp-content-post pp-content-grid-post pp-post-2n pp-grid-default post-39723 post type-post status-publish format-standard has-post-thumbnail hentry category-awards category-news category-students tag-bhabishya-khaniya tag-nserc tag-vanier-canada-graduate-scholarships tag-vanier-cgs\" itemscope itemtype=\"https://schema.org/BlogPosting\" data-id=\"39723\">\\n\\n\\t<meta itemscope itemprop=\"mainEntityOfPage\" itemtype=\"https://schema.org/WebPage\" itemid=\"http://39723\" content=\"CivMin PhD student Bhabishya Khaniya awarded Vanier Scholarship\" /><meta itemprop=\"datePublished\" content=\"2024-06-04\" /><meta itemprop=\"dateModified\" content=\"2024-06-05\" /><div itemprop=\"publisher\" itemscope itemtype=\"https://schema.org/Organization\"><meta itemprop=\"name\" content=\"Department of Civil &amp; Mineral Engineering\"></div><div itemscope itemprop=\"author\" itemtype=\"https://schema.org/Person\"><meta itemprop=\"url\" content=\"https://civmin.utoronto.ca/author/phill-snelutoronto-ca/\" /><meta itemprop=\"name\" content=\"Phill Snel\" /></div><div itemscope itemprop=\"image\" itemtype=\"https://schema.org/ImageObject\"><meta itemprop=\"url\" content=\"https://civmin.utoronto.ca/wp-content/uploads/2024/06/Bhabishya-Khaniya-GRITLab-Med-SQ.jpg\" /><meta itemprop=\"width\" content=\"1521\" /><meta itemprop=\"height\" content=\"1521\" /></div><div itemprop=\"interactionStatistic\" itemscope itemtype=\"https://schema.org/InteractionCounter\"><meta itemprop=\"interactionType\" content=\"https://schema.org/CommentAction\" /><meta itemprop=\"userInteractionCount\" content=\"0\" /></div>\\n\\t\\n\\t\\t\\n\\t\\t\\n\\t\\t\\n\\t\\t\\n\\t\\t<div class=\"pp-content-grid-inner pp-content-body clearfix\">\\n\\t\\t\\t\\n\\t\\t\\t\\n\\t\\t\\t<div class=\"pp-content-post-data\">\\n\\t\\t\\t\\t\\t\\t\\t\\t\\t<h6 class=\"pp-content-grid-title pp-post-title\" itemprop=\"headline\">\\n\\t\\t\\t\\t\\t\\t\\t\\t\\t\\t\\t\\t\\t<a href=\"https://civmin.utoronto.ca/civmin-phd-student-bhabishya-khaniya-is-vanier-scholar/\" title=\"CivMin PhD student Bhabishya Khaniya awarded Vanier Scholarship\">\\n\\t\\t\\t\\t\\t\\t\\t\\t\\t\\t\\t\\t\\t\\tCivMin PhD student Bhabishya Khaniya awarded Vanier Scholarship\\t\\t\\t\\t\\t\\t\\t\\t\\t\\t\\t\\t\\t</a>\\n\\t\\t\\t\\t\\t\\t\\t\\t\\t\\t\\t</h6>\\n\\t\\t\\t\\t\\t\\t\\t\\t\\t\\n\\t\\t\\t\\t\\n\\t\\t\\t\\t\\n\\t\\t\\t\\t\\n\\t\\t\\t\\t\\n\\t\\t\\t\\t\\n\\t\\t\\t\\t\\n\\t\\t\\t\\t\\n\\t\\t\\t\\t\\n\\t\\t\\t</div>\\n\\t\\t\\t\\n\\t\\t\\t\\t\\t</div>\\n\\n\\t\\t\\t</div>\\n\\n<div class=\"pp-content-post pp-content-grid-post pp-grid-default post-39721 post type-post status-publish format-standard has-post-thumbnail hentry category-awards category-news category-students tag-governor-generals-silver-medal tag-jeff-chen tag-john-black-aird-scholarship\" itemscope itemtype=\"https://schema.org/BlogPosting\" data-id=\"39721\">\\n\\n\\t<meta itemscope itemprop=\"mainEntityOfPage\" itemtype=\"https://schema.org/WebPage\" itemid=\"http://39721\" content=\"CivMin\\xa0student Jeff Chen achieves highest marks in Engineering and all of U of T\" /><meta itemprop=\"datePublished\" content=\"2024-06-04\" /><meta itemprop=\"dateModified\" content=\"2024-06-06\" /><div itemprop=\"publisher\" itemscope itemtype=\"https://schema.org/Organization\"><meta itemprop=\"name\" content=\"Department of Civil &amp; Mineral Engineering\"></div><div itemscope itemprop=\"author\" itemtype=\"https://schema.org/Person\"><meta itemprop=\"url\" content=\"https://civmin.utoronto.ca/author/phill-snelutoronto-ca/\" /><meta itemprop=\"name\" content=\"Phill Snel\" /></div><div itemscope itemprop=\"image\" itemtype=\"https://schema.org/ImageObject\"><meta itemprop=\"url\" content=\"https://civmin.utoronto.ca/wp-content/uploads/2024/06/Jeff-Photo-copy-SQ.jpg\" /><meta itemprop=\"width\" content=\"1427\" /><meta itemprop=\"height\" content=\"1427\" /></div><div itemprop=\"interactionStatistic\" itemscope itemtype=\"https://schema.org/InteractionCounter\"><meta itemprop=\"interactionType\" content=\"https://schema.org/CommentAction\" /><meta itemprop=\"userInteractionCount\" content=\"0\" /></div>\\n\\t\\n\\t\\t\\n\\t\\t\\n\\t\\t\\n\\t\\t\\n\\t\\t<div class=\"pp-content-grid-inner pp-content-body clearfix\">\\n\\t\\t\\t\\n\\t\\t\\t\\n\\t\\t\\t<div class=\"pp-content-post-data\">\\n\\t\\t\\t\\t\\t\\t\\t\\t\\t<h6 class=\"pp-content-grid-title pp-post-title\" itemprop=\"headline\">\\n\\t\\t\\t\\t\\t\\t\\t\\t\\t\\t\\t\\t\\t<a href=\"https://civmin.utoronto.ca/civmin-student-jeff-chen-awarded-the-governor-generals-silver-medal-and-the-john-black-aird-scholarship/\" title=\"CivMin\\xa0student Jeff Chen achieves highest marks in Engineering and all of U of T\">\\n\\t\\t\\t\\t\\t\\t\\t\\t\\t\\t\\t\\t\\t\\tCivMin\\xa0student Jeff Chen achieves highest marks in Engineering and all of U of T\\t\\t\\t\\t\\t\\t\\t\\t\\t\\t\\t\\t\\t</a>\\n\\t\\t\\t\\t\\t\\t\\t\\t\\t\\t\\t</h6>\\n\\t\\t\\t\\t\\t\\t\\t\\t\\t\\n\\t\\t\\t\\t\\n\\t\\t\\t\\t\\n\\t\\t\\t\\t\\n\\t\\t\\t\\t\\n\\t\\t\\t\\t\\n\\t\\t\\t\\t\\n\\t\\t\\t\\t\\n\\t\\t\\t\\t\\n\\t\\t\\t</div>\\n\\t\\t\\t\\n\\t\\t\\t\\t\\t</div>\\n\\n\\t\\t\\t</div>\\n\\n<div class=\"pp-content-post pp-content-grid-post pp-post-2n pp-grid-default post-39636 post type-post status-publish format-standard hentry category-awards category-faculty tag-giovanni-barla-best-paper-award tag-greig-kno tag-john-hadjigeorgiou tag-rock-mechanics-and-rock-engineering\" itemscope itemtype=\"https://schema.org/BlogPosting\" data-id=\"39636\">\\n\\n\\t<meta itemscope itemprop=\"mainEntityOfPage\" itemtype=\"https://schema.org/WebPage\" itemid=\"http://39636\" content=\"CivMin PhD student and professor win Giovanni Barla Best Paper Award\" /><meta itemprop=\"datePublished\" content=\"2024-05-27\" /><meta itemprop=\"dateModified\" content=\"2024-05-27\" /><div itemprop=\"publisher\" itemscope itemtype=\"https://schema.org/Organization\"><meta itemprop=\"name\" content=\"Department of Civil &amp; Mineral Engineering\"></div><div itemscope itemprop=\"author\" itemtype=\"https://schema.org/Person\"><meta itemprop=\"url\" content=\"https://civmin.utoronto.ca/author/phill-snelutoronto-ca/\" /><meta itemprop=\"name\" content=\"Phill Snel\" /></div><div itemprop=\"interactionStatistic\" itemscope itemtype=\"https://schema.org/InteractionCounter\"><meta itemprop=\"interactionType\" content=\"https://schema.org/CommentAction\" /><meta itemprop=\"userInteractionCount\" content=\"0\" /></div>\\n\\t\\n\\t\\t\\n\\t\\t\\n\\t\\t\\n\\t\\t\\n\\t\\t<div class=\"pp-content-grid-inner pp-content-body clearfix\">\\n\\t\\t\\t\\n\\t\\t\\t\\n\\t\\t\\t<div class=\"pp-content-post-data\">\\n\\t\\t\\t\\t\\t\\t\\t\\t\\t<h6 class=\"pp-content-grid-title pp-post-title\" itemprop=\"headline\">\\n\\t\\t\\t\\t\\t\\t\\t\\t\\t\\t\\t\\t\\t<a href=\"https://civmin.utoronto.ca/civmin-phd-student-and-professor-win-giovanni-barla-best-paper-award/\" title=\"CivMin PhD student and professor win Giovanni Barla Best Paper Award\">\\n\\t\\t\\t\\t\\t\\t\\t\\t\\t\\t\\t\\t\\t\\tCivMin PhD student and professor win Giovanni Barla Best Paper Award\\t\\t\\t\\t\\t\\t\\t\\t\\t\\t\\t\\t\\t</a>\\n\\t\\t\\t\\t\\t\\t\\t\\t\\t\\t\\t</h6>\\n\\t\\t\\t\\t\\t\\t\\t\\t\\t\\n\\t\\t\\t\\t\\n\\t\\t\\t\\t\\n\\t\\t\\t\\t\\n\\t\\t\\t\\t\\n\\t\\t\\t\\t\\n\\t\\t\\t\\t\\n\\t\\t\\t\\t\\n\\t\\t\\t\\t\\n\\t\\t\\t</div>\\n\\t\\t\\t\\n\\t\\t\\t\\t\\t</div>\\n\\n\\t\\t\\t</div>\\n\\n\\t\\t\\t\\t\\t\\t\\t\\t<div class=\"pp-grid-space\"></div>\\n\\t\\t\\t\\t\\n\\t\\t\\t\\t\\t</div>\\n\\n\\t\\t<div class=\"fl-clear\"></div>\\n\\n\\t\\t\\n\\t\\t\\t\\t\\n\\t\\t</div><!-- .pp-content-posts -->\\n\\t\\n\\t</div>\\n\\n\\t</div>\\n</div>\\n<div class=\"fl-module fl-module-heading fl-node-pxbvo862fjsr\" data-node=\"pxbvo862fjsr\">\\n\\t<div class=\"fl-module-content fl-node-content\">\\n\\t\\t<h2 class=\"fl-heading\">\\n\\t\\t<span class=\"fl-heading-text\">Get Involved With CivMin</span>\\n\\t</h2>\\n\\t</div>\\n</div>\\n</div>\\n</div>\\n\\t</div>\\n\\t\\t</div>\\n\\t</div>\\n</div>\\n<div class=\"fl-row fl-row-full-width fl-row-bg-color fl-node-l1czvms7en95 fl-row-default-height fl-row-align-center\" data-node=\"l1czvms7en95\">\\n\\t<div class=\"fl-row-content-wrap\">\\n\\t\\t\\t\\t\\t\\t<div class=\"fl-row-content fl-row-fixed-width fl-node-content\">\\n\\t\\t\\n<div class=\"fl-col-group fl-node-jlkuz1rq5sdw\" data-node=\"jlkuz1rq5sdw\">\\n\\t\\t\\t<div class=\"fl-col fl-node-muj7lxop1fak\" data-node=\"muj7lxop1fak\">\\n\\t<div class=\"fl-col-content fl-node-content\"><div class=\"fl-module fl-module-heading fl-node-342esy7t0xgz\" data-node=\"342esy7t0xgz\">\\n\\t<div class=\"fl-module-content fl-node-content\">\\n\\t\\t<h2 class=\"fl-heading\">\\n\\t\\t<span class=\"fl-heading-text\">Get involved</span>\\n\\t</h2>\\n\\t</div>\\n</div>\\n</div>\\n</div>\\n\\t</div>\\n\\n<div class=\"fl-col-group fl-node-sm92lfhq7w3p\" data-node=\"sm92lfhq7w3p\">\\n\\t\\t\\t<div class=\"fl-col fl-node-n80zkm9vhxbe fl-col-has-cols\" data-node=\"n80zkm9vhxbe\">\\n\\t<div class=\"fl-col-content fl-node-content\">\\n<div class=\"fl-col-group fl-node-s9o20en73myi fl-col-group-nested\" data-node=\"s9o20en73myi\">\\n\\t\\t\\t<div class=\"fl-col fl-node-e3ca7o5ngpm6 fl-col-small\" data-node=\"e3ca7o5ngpm6\">\\n\\t<div class=\"fl-col-content fl-node-content\"><div class=\"fl-module fl-module-icon fl-node-i2a5sbocy4vf\" data-node=\"i2a5sbocy4vf\">\\n\\t<div class=\"fl-module-content fl-node-content\">\\n\\t\\t<div class=\"fl-icon-wrap\">\\n\\t<span class=\"fl-icon\">\\n\\t\\t\\t\\t\\t\\t\\t\\t<a href=\"https://uoftengineeringconnect.ca/feed\" target=\"_blank\" tabindex=\"-1\" aria-hidden=\"true\" aria-labelledby=\"fl-icon-text-i2a5sbocy4vf\" rel=\"noopener\" >\\n\\t\\t\\t\\t\\t\\t\\t<i class=\"fab fa-connectdevelop\" aria-hidden=\"true\"></i>\\n\\t\\t\\t\\t\\t\\t</a>\\n\\t\\t\\t</span>\\n\\t\\t\\t<div id=\"fl-icon-text-i2a5sbocy4vf\" class=\"fl-icon-text\">\\n\\t\\t\\t\\t\\t\\t<a href=\"https://uoftengineeringconnect.ca/feed\" target=\"_blank\" class=\"fl-icon-text-link fl-icon-text-wrap\" rel=\"noopener\" >\\n\\t\\t\\t\\t\\t\\t<h5>U of T Engineering Connect</h5>\\t\\t\\t\\t\\t\\t</a>\\n\\t\\t\\t\\t\\t</div>\\n\\t</div>\\n\\t</div>\\n</div>\\n</div>\\n</div>\\n\\t\\t\\t<div class=\"fl-col fl-node-hua1gfb8ocvi fl-col-small\" data-node=\"hua1gfb8ocvi\">\\n\\t<div class=\"fl-col-content fl-node-content\"><div class=\"fl-module fl-module-icon fl-node-licars0mpdvo\" data-node=\"licars0mpdvo\">\\n\\t<div class=\"fl-module-content fl-node-content\">\\n\\t\\t<div class=\"fl-icon-wrap\">\\n\\t<span class=\"fl-icon\">\\n\\t\\t\\t\\t\\t\\t\\t\\t<a href=\"https://civmin.utoronto.ca/home/partner-with-us/industry-advisory-board/#:~:text=Purpose%3A,Department&#039;s%20undergraduate%20and%20graduate%20students.\" target=\"_blank\" tabindex=\"-1\" aria-hidden=\"true\" aria-labelledby=\"fl-icon-text-licars0mpdvo\" rel=\"noopener\" >\\n\\t\\t\\t\\t\\t\\t\\t<i class=\"fas fa-people-carry\" aria-hidden=\"true\"></i>\\n\\t\\t\\t\\t\\t\\t</a>\\n\\t\\t\\t</span>\\n\\t\\t\\t<div id=\"fl-icon-text-licars0mpdvo\" class=\"fl-icon-text\">\\n\\t\\t\\t\\t\\t\\t<a href=\"https://civmin.utoronto.ca/home/partner-with-us/industry-advisory-board/#:~:text=Purpose%3A,Department&#039;s%20undergraduate%20and%20graduate%20students.\" target=\"_blank\" class=\"fl-icon-text-link fl-icon-text-wrap\" rel=\"noopener\" >\\n\\t\\t\\t\\t\\t\\t<h5>Industry Advisory Board</h5>\\t\\t\\t\\t\\t\\t</a>\\n\\t\\t\\t\\t\\t</div>\\n\\t</div>\\n\\t</div>\\n</div>\\n</div>\\n</div>\\n\\t</div>\\n</div>\\n</div>\\n\\t</div>\\n\\t\\t</div>\\n\\t</div>\\n</div>\\n</div>\\t</section><!-- .entry-content -->\\n\\n\\t</article><!-- #post-## -->\\n\\t\\t</div><!-- .dflex -->\\n\\t</div><!-- #main -->\\n</main><!-- #content -->\\n\\n\\n\\t<footer id=\"footer\" class=\"footer\">\\n\\t\\t<div class=\"site-footer content-wrap\">\\n\\t\\t\\t<div class=\"footer-wordmark\">\\n\\t\\t\\t\\t<div class=\"wordmark-wrapper d-flex align-items-center justify-content-center\">\\n\\t\\t\\t\\t\\t<a href=\"https://civmin.utoronto.ca\">\\n\\t\\t\\t\\t\\t<img src=\"https://civmin.utoronto.ca/wp-content/themes/fase-theme-2023-master/assets/img/ll-placeholder.png\" data-src=\"https://civmin.utoronto.ca/wp-content/uploads/2023/02/CivMin_Signature_Reverse.svg\" alt=\"U of T Enginering Home\" height=\"94\" width=\"442\" class=\"lazyload\" />\\n\\t\\t\\t\\t\\t</a>\\n\\t\\t\\t\\t</div>\\n\\t\\t\\t</div>\\n\\t\\t\\t<div class=\"footer-social\">\\n\\t\\t\\t\\t\\t\\t\\t\\t<div class=\"footer-social-menu\">\\n\\t\\t\\t\\t\\t<div class=\"menu-social-container\"><ul id=\"menu-social-1\" class=\"social-nav\"><li itemscope=\"itemscope\" itemtype=\"https://www.schema.org/SiteNavigationElement\" class=\"menu-item menu-item-type-custom menu-item-object-custom menu-item-14159 nav-item\"><a href=\"https://www.facebook.com/civminutoronto/\" class=\"nav-link\"><span class=\"soc-icon-facebook\"></span><span class=\"screen-reader-text\">Facebook</span></span></a></li>\\n<li itemscope=\"itemscope\" itemtype=\"https://www.schema.org/SiteNavigationElement\" class=\"menu-item menu-item-type-custom menu-item-object-custom menu-item-14160 nav-item\"><a href=\"https://twitter.com/civmin?lang=en\" class=\"nav-link\"><span class=\"soc-icon-twitter\"></span><span class=\"screen-reader-text\">Twitter/X</span></span></a></li>\\n<li itemscope=\"itemscope\" itemtype=\"https://www.schema.org/SiteNavigationElement\" class=\"menu-item menu-item-type-custom menu-item-object-custom menu-item-14161 nav-item\"><a href=\"https://www.instagram.com/civmin/\" class=\"nav-link\"><span class=\"soc-icon-instagram\"></span><span class=\"screen-reader-text\">Instagram</span></span></a></li>\\n<li itemscope=\"itemscope\" itemtype=\"https://www.schema.org/SiteNavigationElement\" class=\"menu-item menu-item-type-custom menu-item-object-custom menu-item-22663 nav-item\"><a href=\"https://www.linkedin.com/school/civmin/\" class=\"nav-link\"><span class=\"soc-icon-linkedin\"></span><span class=\"screen-reader-text\">LinkedIn</span></span></a></li>\\n<li itemscope=\"itemscope\" itemtype=\"https://www.schema.org/SiteNavigationElement\" class=\"menu-item menu-item-type-custom menu-item-object-custom menu-item-24105 nav-item\"><a href=\"https://www.youtube.com/user/civmin\" class=\"nav-link\"><span class=\"soc-icon-youtube\"></span><span class=\"screen-reader-text\">Youtube</span></span></a></li>\\n</ul></div>\\t\\t\\t\\t</div>\\n\\t\\t\\t\\t\\t\\t\\t\\t\\t<address>\\n\\t\\t\\t\\t\\tDepartment of Civil &amp; Mineral Engineering<br />\\r\\n35 St. George St.<br />\\r\\nToronto, Ontario, Canada<br />\\r\\nM5S 1A4\\t\\t\\t\\t</address>\\n\\t\\t\\t</div>\\n\\t\\t\\t\\t\\t\\t<div class=\"footer-gravity d-flex align-items-center justify-content-center\">\\n\\t\\t\\t\\t\\t\\t\\t\\t<a href=\"https://defygravitycampaign.utoronto.ca/\" alt=\"Link to Defy Gravity Campaign\">\\n\\t\\t\\t\\t\\t\\t\\t\\t\\t<img src=\"https://civmin.utoronto.ca/wp-content/themes/fase-theme-2023-master/assets/img/ll-placeholder.png\" data-src=\"https://civmin.utoronto.ca/wp-content/themes/fase-theme-2023-master/assets/img/defy_gravity_reverse_digital.svg\" alt=\"Defy Gravity\" height=\"75\" width=\"140\" class=\"lazyload\" />\\n\\t\\t\\t\\t\\t\\t\\t\\t</a>\\n\\t\\t\\t\\t\\t\\t\\t\\t</div>\\n\\t\\t\\t\\t\\t\\t</div>\\n\\t\\t\\t\\t<div class=\"site-footer content-wrap tla d-flex flex-column align-items-center justify-content-center\">\\n\\t\\t\\t<h2>Traditional Land Acknowledgement</h2>\\n<p>We wish to acknowledge this land on which the University of Toronto operates. For thousands of years it has been the traditional land of the Huron-Wendat, the Seneca, and the Mississaugas of the Credit. Today, this meeting place is still the home to many Indigenous people from across Turtle Island and we are grateful to have the opportunity to work on this land.</p>\\n\\t\\t</div>\\n\\t\\t\\t\\t</footer><!-- .site-footer container-->\\n\\t<section class=\"small-footer\" aria-label=\"Copyright\">\\n\\t\\t<div class=\"copyright d-flex flex-column flex-sm-column flex-md-row justify-content-md-between align-items-md-center content-wrap pb-2 pt-2\">\\n\\t\\t\\t<div class=\"copy-text p-2\"><p><p>© 2024 Faculty of Applied Science and Engineering</p>\\n</p></div>\\n\\t\\t\\t<div class=\"copy-nav p-2\">\\n\\t\\t\\t\\t<div class=\"menu-footer-quick-links-container\"><ul id=\"menu-footer-quick-links\" class=\"footer-nav-3\"><li id=\"menu-item-24106\" class=\"menu-item menu-item-type-custom menu-item-object-custom menu-item-24106\"><a href=\"https://www.utoronto.ca/\">U of T Home</a></li>\\n<li id=\"menu-item-24107\" class=\"menu-item menu-item-type-custom menu-item-object-custom menu-item-24107\"><a href=\"https://www.utoronto.ca/accessibility\">Accessibility</a></li>\\n<li id=\"menu-item-24108\" class=\"menu-item menu-item-type-custom menu-item-object-custom menu-item-24108\"><a href=\"https://www.utoronto.ca/privacy\">Privacy</a></li>\\n<li id=\"menu-item-37823\" class=\"menu-item menu-item-type-custom menu-item-object-custom menu-item-37823\"><a href=\"https://data.viceprovoststudents.utoronto.ca/\">Student Data Practices</a></li>\\n<li id=\"menu-item-24109\" class=\"menu-item menu-item-type-custom menu-item-object-custom menu-item-24109\"><a href=\"mailto:civ.communications@utoronto.ca\">Website Feedback</a></li>\\n</ul></div>\\t\\t\\t</div>\\n\\t\\t</div>\\n\\t</section>\\n</div><!-- #page -->\\n\\t\\t<script>\\n\\t\\t( function ( body ) {\\n\\t\\t\\t\\'use strict\\';\\n\\t\\t\\tbody.className = body.className.replace( /\\\\btribe-no-js\\\\b/, \\'tribe-js\\' );\\n\\t\\t} )( document.body );\\n\\t\\t</script>\\n\\t\\t<script> /* <![CDATA[ */var tribe_l10n_datatables = {\"aria\":{\"sort_ascending\":\": activate to sort column ascending\",\"sort_descending\":\": activate to sort column descending\"},\"length_menu\":\"Show _MENU_ entries\",\"empty_table\":\"No data available in table\",\"info\":\"Showing _START_ to _END_ of _TOTAL_ entries\",\"info_empty\":\"Showing 0 to 0 of 0 entries\",\"info_filtered\":\"(filtered from _MAX_ total entries)\",\"zero_records\":\"No matching records found\",\"search\":\"Search:\",\"all_selected_text\":\"All items on this page were selected. \",\"select_all_link\":\"Select all pages\",\"clear_selection\":\"Clear Selection.\",\"pagination\":{\"all\":\"All\",\"next\":\"Next\",\"previous\":\"Previous\"},\"select\":{\"rows\":{\"0\":\"\",\"_\":\": Selected %d rows\",\"1\":\": Selected 1 row\"}},\"datepicker\":{\"dayNames\":[\"Sunday\",\"Monday\",\"Tuesday\",\"Wednesday\",\"Thursday\",\"Friday\",\"Saturday\"],\"dayNamesShort\":[\"Sun\",\"Mon\",\"Tue\",\"Wed\",\"Thu\",\"Fri\",\"Sat\"],\"dayNamesMin\":[\"S\",\"M\",\"T\",\"W\",\"T\",\"F\",\"S\"],\"monthNames\":[\"January\",\"February\",\"March\",\"April\",\"May\",\"June\",\"July\",\"August\",\"September\",\"October\",\"November\",\"December\"],\"monthNamesShort\":[\"January\",\"February\",\"March\",\"April\",\"May\",\"June\",\"July\",\"August\",\"September\",\"October\",\"November\",\"December\"],\"monthNamesMin\":[\"Jan\",\"Feb\",\"Mar\",\"Apr\",\"May\",\"Jun\",\"Jul\",\"Aug\",\"Sep\",\"Oct\",\"Nov\",\"Dec\"],\"nextText\":\"Next\",\"prevText\":\"Prev\",\"currentText\":\"Today\",\"closeText\":\"Done\",\"today\":\"Today\",\"clear\":\"Clear\"}};/* ]]> */ </script><script type=\"text/javascript\">\\n\\t\\t/* MonsterInsights Scroll Tracking */\\n\\t\\tif ( typeof(jQuery) !== \\'undefined\\' ) {\\n\\t\\tjQuery( document ).ready(function(){\\n\\t\\tfunction monsterinsights_scroll_tracking_load() {\\n\\t\\tif ( ( typeof(__gaTracker) !== \\'undefined\\' && __gaTracker && __gaTracker.hasOwnProperty( \"loaded\" ) && __gaTracker.loaded == true ) || ( typeof(__gtagTracker) !== \\'undefined\\' && __gtagTracker ) ) {\\n\\t\\t(function(factory) {\\n\\t\\tfactory(jQuery);\\n\\t\\t}(function($) {\\n\\n\\t\\t/* Scroll Depth */\\n\\t\\t\"use strict\";\\n\\t\\tvar defaults = {\\n\\t\\tpercentage: true\\n\\t\\t};\\n\\n\\t\\tvar $window = $(window),\\n\\t\\tcache = [],\\n\\t\\tscrollEventBound = false,\\n\\t\\tlastPixelDepth = 0;\\n\\n\\t\\t/*\\n\\t\\t* Plugin\\n\\t\\t*/\\n\\n\\t\\t$.scrollDepth = function(options) {\\n\\n\\t\\tvar startTime = +new Date();\\n\\n\\t\\toptions = $.extend({}, defaults, options);\\n\\n\\t\\t/*\\n\\t\\t* Functions\\n\\t\\t*/\\n\\n\\t\\tfunction sendEvent(action, label, scrollDistance, timing) {\\n\\t\\tif ( \\'undefined\\' === typeof MonsterInsightsObject || \\'undefined\\' === typeof MonsterInsightsObject.sendEvent ) {\\n\\t\\treturn;\\n\\t\\t}\\n\\t\\t\\tvar paramName = action.toLowerCase();\\n\\tvar fieldsArray = {\\n\\tsend_to: \\'G-2E9NND0N6Y\\',\\n\\tnon_interaction: true\\n\\t};\\n\\tfieldsArray[paramName] = label;\\n\\n\\tif (arguments.length > 3) {\\n\\tfieldsArray.scroll_timing = timing\\n\\tMonsterInsightsObject.sendEvent(\\'event\\', \\'scroll_depth\\', fieldsArray);\\n\\t} else {\\n\\tMonsterInsightsObject.sendEvent(\\'event\\', \\'scroll_depth\\', fieldsArray);\\n\\t}\\n\\t\\t\\t}\\n\\n\\t\\tfunction calculateMarks(docHeight) {\\n\\t\\treturn {\\n\\t\\t\\'25%\\' : parseInt(docHeight * 0.25, 10),\\n\\t\\t\\'50%\\' : parseInt(docHeight * 0.50, 10),\\n\\t\\t\\'75%\\' : parseInt(docHeight * 0.75, 10),\\n\\t\\t/* Cushion to trigger 100% event in iOS */\\n\\t\\t\\'100%\\': docHeight - 5\\n\\t\\t};\\n\\t\\t}\\n\\n\\t\\tfunction checkMarks(marks, scrollDistance, timing) {\\n\\t\\t/* Check each active mark */\\n\\t\\t$.each(marks, function(key, val) {\\n\\t\\tif ( $.inArray(key, cache) === -1 && scrollDistance >= val ) {\\n\\t\\tsendEvent(\\'Percentage\\', key, scrollDistance, timing);\\n\\t\\tcache.push(key);\\n\\t\\t}\\n\\t\\t});\\n\\t\\t}\\n\\n\\t\\tfunction rounded(scrollDistance) {\\n\\t\\t/* Returns String */\\n\\t\\treturn (Math.floor(scrollDistance/250) * 250).toString();\\n\\t\\t}\\n\\n\\t\\tfunction init() {\\n\\t\\tbindScrollDepth();\\n\\t\\t}\\n\\n\\t\\t/*\\n\\t\\t* Public Methods\\n\\t\\t*/\\n\\n\\t\\t/* Reset Scroll Depth with the originally initialized options */\\n\\t\\t$.scrollDepth.reset = function() {\\n\\t\\tcache = [];\\n\\t\\tlastPixelDepth = 0;\\n\\t\\t$window.off(\\'scroll.scrollDepth\\');\\n\\t\\tbindScrollDepth();\\n\\t\\t};\\n\\n\\t\\t/* Add DOM elements to be tracked */\\n\\t\\t$.scrollDepth.addElements = function(elems) {\\n\\n\\t\\tif (typeof elems == \"undefined\" || !$.isArray(elems)) {\\n\\t\\treturn;\\n\\t\\t}\\n\\n\\t\\t$.merge(options.elements, elems);\\n\\n\\t\\t/* If scroll event has been unbound from window, rebind */\\n\\t\\tif (!scrollEventBound) {\\n\\t\\tbindScrollDepth();\\n\\t\\t}\\n\\n\\t\\t};\\n\\n\\t\\t/* Remove DOM elements currently tracked */\\n\\t\\t$.scrollDepth.removeElements = function(elems) {\\n\\n\\t\\tif (typeof elems == \"undefined\" || !$.isArray(elems)) {\\n\\t\\treturn;\\n\\t\\t}\\n\\n\\t\\t$.each(elems, function(index, elem) {\\n\\n\\t\\tvar inElementsArray = $.inArray(elem, options.elements);\\n\\t\\tvar inCacheArray = $.inArray(elem, cache);\\n\\n\\t\\tif (inElementsArray != -1) {\\n\\t\\toptions.elements.splice(inElementsArray, 1);\\n\\t\\t}\\n\\n\\t\\tif (inCacheArray != -1) {\\n\\t\\tcache.splice(inCacheArray, 1);\\n\\t\\t}\\n\\n\\t\\t});\\n\\n\\t\\t};\\n\\n\\t\\t/*\\n\\t\\t* Throttle function borrowed from:\\n\\t\\t* Underscore.js 1.5.2\\n\\t\\t* http://underscorejs.org\\n\\t\\t* (c) 2009-2013 Jeremy Ashkenas, DocumentCloud and Investigative Reporters & Editors\\n\\t\\t* Underscore may be freely distributed under the MIT license.\\n\\t\\t*/\\n\\n\\t\\tfunction throttle(func, wait) {\\n\\t\\tvar context, args, result;\\n\\t\\tvar timeout = null;\\n\\t\\tvar previous = 0;\\n\\t\\tvar later = function() {\\n\\t\\tprevious = new Date;\\n\\t\\ttimeout = null;\\n\\t\\tresult = func.apply(context, args);\\n\\t\\t};\\n\\t\\treturn function() {\\n\\t\\tvar now = new Date;\\n\\t\\tif (!previous) previous = now;\\n\\t\\tvar remaining = wait - (now - previous);\\n\\t\\tcontext = this;\\n\\t\\targs = arguments;\\n\\t\\tif (remaining <= 0) {\\n\\t\\tclearTimeout(timeout);\\n\\t\\ttimeout = null;\\n\\t\\tprevious = now;\\n\\t\\tresult = func.apply(context, args);\\n\\t\\t} else if (!timeout) {\\n\\t\\ttimeout = setTimeout(later, remaining);\\n\\t\\t}\\n\\t\\treturn result;\\n\\t\\t};\\n\\t\\t}\\n\\n\\t\\t/*\\n\\t\\t* Scroll Event\\n\\t\\t*/\\n\\n\\t\\tfunction bindScrollDepth() {\\n\\n\\t\\tscrollEventBound = true;\\n\\n\\t\\t$window.on(\\'scroll.scrollDepth\\', throttle(function() {\\n\\t\\t/*\\n\\t\\t* We calculate document and window height on each scroll event to\\n\\t\\t* account for dynamic DOM changes.\\n\\t\\t*/\\n\\n\\t\\tvar docHeight = $(document).height(),\\n\\t\\twinHeight = window.innerHeight ? window.innerHeight : $window.height(),\\n\\t\\tscrollDistance = $window.scrollTop() + winHeight,\\n\\n\\t\\t/* Recalculate percentage marks */\\n\\t\\tmarks = calculateMarks(docHeight),\\n\\n\\t\\t/* Timing */\\n\\t\\ttiming = +new Date - startTime;\\n\\n\\t\\tcheckMarks(marks, scrollDistance, timing);\\n\\t\\t}, 500));\\n\\n\\t\\t}\\n\\n\\t\\tinit();\\n\\t\\t};\\n\\n\\t\\t/* UMD export */\\n\\t\\treturn $.scrollDepth;\\n\\n\\t\\t}));\\n\\n\\t\\tjQuery.scrollDepth();\\n\\t\\t} else {\\n\\t\\tsetTimeout(monsterinsights_scroll_tracking_load, 200);\\n\\t\\t}\\n\\t\\t}\\n\\t\\tmonsterinsights_scroll_tracking_load();\\n\\t\\t});\\n\\t\\t}\\n\\t\\t/* End MonsterInsights Scroll Tracking */\\n\\t\\t\\n</script><link rel=\\'stylesheet\\' id=\\'tec-variables-skeleton-css\\' href=\\'https://civmin.utoronto.ca/wp-content/plugins/the-events-calendar/common/src/resources/css/variables-skeleton.min.css?ver=6.0.2\\' type=\\'text/css\\' media=\\'all\\' />\\n<link rel=\\'stylesheet\\' id=\\'tribe-common-skeleton-style-css\\' href=\\'https://civmin.utoronto.ca/wp-content/plugins/the-events-calendar/common/src/resources/css/common-skeleton.min.css?ver=6.0.2\\' type=\\'text/css\\' media=\\'all\\' />\\n<link rel=\\'stylesheet\\' id=\\'tribe-events-widgets-v2-events-list-skeleton-css\\' href=\\'https://civmin.utoronto.ca/wp-content/plugins/the-events-calendar/src/resources/css/widget-events-list-skeleton.min.css?ver=6.6.3\\' type=\\'text/css\\' media=\\'all\\' />\\n<link rel=\\'stylesheet\\' id=\\'tec-variables-full-css\\' href=\\'https://civmin.utoronto.ca/wp-content/plugins/the-events-calendar/common/src/resources/css/variables-full.min.css?ver=6.0.2\\' type=\\'text/css\\' media=\\'all\\' />\\n<link rel=\\'stylesheet\\' id=\\'tribe-common-full-style-css\\' href=\\'https://civmin.utoronto.ca/wp-content/plugins/the-events-calendar/common/src/resources/css/common-full.min.css?ver=6.0.2\\' type=\\'text/css\\' media=\\'all\\' />\\n<link rel=\\'stylesheet\\' id=\\'tribe-events-widgets-v2-events-list-full-css\\' href=\\'https://civmin.utoronto.ca/wp-content/plugins/the-events-calendar/src/resources/css/widget-events-list-full.min.css?ver=6.6.3\\' type=\\'text/css\\' media=\\'all\\' />\\n<script type=\"text/javascript\" src=\"https://civmin.utoronto.ca/wp-content/plugins/data-tables-generator-by-supsystic/app/assets/js/dtgsnonce.js?ver=0.01\" id=\"dtgs_nonce_frontend-js\"></script>\\n<script type=\"text/javascript\" id=\"dtgs_nonce_frontend-js-after\">\\n/* <![CDATA[ */\\nvar DTGS_NONCE_FRONTEND = \"ae41630ac9\"\\n/* ]]> */\\n</script>\\n<script type=\"text/javascript\" id=\"awsm-team-js-extra\">\\n/* <![CDATA[ */\\nvar awsmTeamPublic = {\"ajaxurl\":\"https:\\\\/\\\\/civmin.utoronto.ca\\\\/wp-admin\\\\/admin-ajax.php\",\"deep_linking\":{\"enable\":\"\",\"member\":{\"prefix\":\"member\",\"suffix\":\"info\"},\"team\":{\"prefix\":\"team\",\"suffix\":\"info\"}},\"scripts_src\":\"https:\\\\/\\\\/civmin.utoronto.ca\\\\/wp-content\\\\/plugins\\\\/awsm-team-pro\\\\/js\"};\\n/* ]]> */\\n</script>\\n<script type=\"text/javascript\" src=\"https://civmin.utoronto.ca/wp-content/plugins/awsm-team-pro/js/team.min.js?ver=1.10.2\" id=\"awsm-team-js\"></script>\\n<script type=\"text/javascript\" src=\"https://civmin.utoronto.ca/wp-content/plugins/bb-plugin/js/jquery.waypoints.min.js?ver=2.8.3.6\" id=\"jquery-waypoints-js\"></script>\\n<script type=\"text/javascript\" src=\"https://civmin.utoronto.ca/wp-content/plugins/bb-plugin/js/jquery.imagesloaded.min.js?ver=2.8.3.6\" id=\"imagesloaded-js\"></script>\\n<script type=\"text/javascript\" src=\"https://civmin.utoronto.ca/wp-content/plugins/bbpowerpack/assets/js/isotope.pkgd.min.js?ver=3.0.1\" id=\"jquery-isotope-js\"></script>\\n<script type=\"text/javascript\" src=\"https://civmin.utoronto.ca/wp-content/uploads/bb-plugin/cache/27502-layout.js?ver=8d77d2dd8e2eb2c065462d7149aa2bbd\" id=\"fl-builder-layout-27502-js\"></script>\\n<script type=\"text/javascript\" src=\"https://civmin.utoronto.ca/wp-content/themes/fase-theme-2023-master/dist/js/bootstrap/util.min.js?ver=4.0.0\" id=\"bootstrap-util-js\"></script>\\n<script type=\"text/javascript\" src=\"https://civmin.utoronto.ca/wp-content/themes/fase-theme-2023-master/dist/js/bundled/bootstrap.js?ver=4.0.4\" id=\"bootstrap-theme-js\"></script>\\n<script type=\"text/javascript\" defer=\\'defer\\' src=\"https://civmin.utoronto.ca/wp-content/themes/fase-theme-2023-master/dist/js/site.min.js?ver=1.0.0\" id=\"main-js\"></script>\\n<script type=\"text/javascript\" src=\"https://civmin.utoronto.ca/wp-content/plugins/the-events-calendar/common/src/resources/js/tribe-common.min.js?ver=6.0.2\" id=\"tribe-common-js\"></script>\\n<script type=\"text/javascript\" src=\"https://civmin.utoronto.ca/wp-content/plugins/the-events-calendar/common/src/resources/js/utils/query-string.min.js?ver=6.0.2\" id=\"tribe-query-string-js\"></script>\\n<script src=\\'https://civmin.utoronto.ca/wp-content/plugins/the-events-calendar/common/src/resources/js/underscore-before.js\\'></script>\\n<script type=\"text/javascript\" src=\"https://civmin.utoronto.ca/wp-includes/js/underscore.min.js?ver=1.13.4\" id=\"underscore-js\"></script>\\n<script src=\\'https://civmin.utoronto.ca/wp-content/plugins/the-events-calendar/common/src/resources/js/underscore-after.js\\'></script>\\n<script defer type=\"text/javascript\" src=\"https://civmin.utoronto.ca/wp-content/plugins/the-events-calendar/src/resources/js/views/manager.min.js?ver=6.6.3\" id=\"tribe-events-views-v2-manager-js\"></script>\\n<script type=\"text/javascript\" src=\"https://civmin.utoronto.ca/wp-content/plugins/the-events-calendar/src/resources/js/views/breakpoints.min.js?ver=6.6.3\" id=\"tribe-events-views-v2-breakpoints-js\"></script>\\n<style id=\\'tribe-events-widgets-v2-events-list-full-inline-css\\' class=\\'tec-customizer-inline-style\\' type=\\'text/css\\'>\\n:root {\\n\\t\\t\\t\\t/* Customizer-added Global Event styles */\\n\\t\\t\\t\\t--tec-font-family-sans-serif: inherit;\\n--tec-font-family-base: inherit;\\n--tec-font-size-0: 12px;\\n--tec-font-size-1: 14px;\\n--tec-font-size-2: 16px;\\n--tec-font-size-3: 18px;\\n--tec-font-size-4: 20px;\\n--tec-font-size-5: 23px;\\n--tec-font-size-6: 25px;\\n--tec-font-size-7: 27px;\\n--tec-font-size-8: 32px;\\n--tec-font-size-9: 36px;\\n--tec-font-size-10: 47px;\\n--tec-color-text-events-title: #00546e;\\n--tec-color-text-event-title: #00546e;\\n--tec-color-link-primary: #00546e;\\n--tec-color-link-accent: #00546e;\\n--tec-color-link-accent-hover: rgba(0,84,110, 0.8);\\n\\t\\t\\t}:root {\\n\\t\\t\\t\\t/* Customizer-added Events Bar styles */\\n\\t\\t\\t\\t--tec-color-text-events-bar-input: #00546e;\\n--tec-color-text-events-bar-input-placeholder: #00546e;\\n--tec-opacity-events-bar-input-placeholder: 0.6;\\n--tec-color-text-view-selector-list-item: #00546e;\\n--tec-color-text-view-selector-list-item-hover: #00546e;\\n--tec-color-background-view-selector-list-item-hover: rgba(0,84,110, 0.12);\\n\\t\\t\\t}:root {\\n\\t\\t\\t\\t/* Customizer-added Single Event styles */\\n\\t\\t\\t\\t--tec-color-text-event-title: #00546e;\\n\\t\\t\\t}\\n</style>\\n</body>\\n\\n</html>\\n'"
      ]
     },
     "execution_count": 80,
     "metadata": {},
     "output_type": "execute_result"
    }
   ],
   "source": [
    "my_response.text"
   ]
  },
  {
   "cell_type": "markdown",
   "metadata": {},
   "source": [
    "Its a bit hard to read as unformatted text so let's use BeautifulSoup (more on this later) to print the html code in a very pretty way."
   ]
  },
  {
   "cell_type": "code",
   "execution_count": 81,
   "metadata": {},
   "outputs": [
    {
     "name": "stdout",
     "output_type": "stream",
     "text": [
      "<!DOCTYPE html>\n",
      "<html lang=\"en-US\">\n",
      " <head>\n",
      "  <meta charset=\"utf-8\"/>\n",
      "  <meta content=\"width=device-width, initial-scale=1\" name=\"viewport\"/>\n",
      "  <link href=\"https://gmpg.org/xfn/11\" rel=\"profile\"/>\n",
      "  <link href=\"https://civmin.utoronto.ca/xmlrpc.php\" rel=\"pingback\"/>\n",
      "  <meta content=\"\" name=\"description\"/>\n",
      "  <meta content=\"https://civmin.utoronto.ca\" property=\"og:url\">\n",
      "   <meta content=\"Department of Civil &amp; Mineral Engineering\" property=\"og:site_name\">\n",
      "    <meta content=\"\" property=\"og:image\">\n",
      "     <meta content=\"\" property=\"og:description\"/>\n",
      "     <meta content=\"Department of Civil &amp; Mineral Engineering\" property=\"og:title\"/>\n",
      "     <!-- Twitter -->\n",
      "     <meta content=\"summary_large_image\" name=\"twitter:card\"/>\n",
      "     <meta content=\"https://civmin.utoronto.ca\" name=\"twitter:domain\"/>\n",
      "     <meta content=\"Department of Civil &amp; Mineral Engineering\" name=\"twitter:title\"/>\n",
      "     <meta content=\"\" name=\"twitter:description\"/>\n",
      "     <link href=\"https://civmin.utoronto.ca/wp-content/themes/fase-theme-2023-master/favicon.ico\" rel=\"icon\" sizes=\"16x16\" type=\"image/x-icon\"/>\n",
      "     <title>\n",
      "      Department of Civil &amp; Mineral Engineering\n",
      "     </title>\n",
      "     <meta content=\"max-image-preview:large\" name=\"robots\"/>\n",
      "     <link href=\"//fonts.googleapis.com\" rel=\"dns-prefetch\">\n",
      "      <link href=\"//use.typekit.net\" rel=\"dns-prefetch\">\n",
      "       <link as=\"font\" crossorigin=\"anonymous\" href=\"https://civmin.utoronto.ca/wp-content/plugins/bb-plugin/fonts/fontawesome/5.15.4/webfonts/fa-solid-900.woff2\" rel=\"preload\" type=\"font/woff2\"/>\n",
      "       <link as=\"font\" crossorigin=\"anonymous\" href=\"https://civmin.utoronto.ca/wp-content/plugins/bb-plugin/fonts/fontawesome/5.15.4/webfonts/fa-brands-400.woff2\" rel=\"preload\" type=\"font/woff2\"/>\n",
      "       <!-- This site uses the Google Analytics by MonsterInsights plugin v9.0.2 - Using Analytics tracking - https://www.monsterinsights.com/ -->\n",
      "       <script async=\"\" data-cfasync=\"false\" data-wpfc-render=\"false\" src=\"//www.googletagmanager.com/gtag/js?id=G-2E9NND0N6Y\" type=\"text/javascript\">\n",
      "       </script>\n",
      "       <script data-cfasync=\"false\" data-wpfc-render=\"false\" type=\"text/javascript\">\n",
      "        var mi_version = '9.0.2';\n",
      "\t\t\t\tvar mi_track_user = true;\n",
      "\t\t\t\tvar mi_no_track_reason = '';\n",
      "\t\t\t\t\t\t\t\tvar MonsterInsightsDefaultLocations = {\"page_location\":\"https:\\/\\/civmin.utoronto.ca\\/\"};\n",
      "\t\t\t\tif ( typeof MonsterInsightsPrivacyGuardFilter === 'function' ) {\n",
      "\t\t\t\t\tvar MonsterInsightsLocations = (typeof MonsterInsightsExcludeQuery === 'object') ? MonsterInsightsPrivacyGuardFilter( MonsterInsightsExcludeQuery ) : MonsterInsightsPrivacyGuardFilter( MonsterInsightsDefaultLocations );\n",
      "\t\t\t\t} else {\n",
      "\t\t\t\t\tvar MonsterInsightsLocations = (typeof MonsterInsightsExcludeQuery === 'object') ? MonsterInsightsExcludeQuery : MonsterInsightsDefaultLocations;\n",
      "\t\t\t\t}\n",
      "\n",
      "\t\t\t\t\t\t\t\tvar disableStrs = [\n",
      "\t\t\t\t\t\t\t\t\t\t'ga-disable-G-2E9NND0N6Y',\n",
      "\t\t\t\t\t\t\t\t\t];\n",
      "\n",
      "\t\t\t\t/* Function to detect opted out users */\n",
      "\t\t\t\tfunction __gtagTrackerIsOptedOut() {\n",
      "\t\t\t\t\tfor (var index = 0; index < disableStrs.length; index++) {\n",
      "\t\t\t\t\t\tif (document.cookie.indexOf(disableStrs[index] + '=true') > -1) {\n",
      "\t\t\t\t\t\t\treturn true;\n",
      "\t\t\t\t\t\t}\n",
      "\t\t\t\t\t}\n",
      "\n",
      "\t\t\t\t\treturn false;\n",
      "\t\t\t\t}\n",
      "\n",
      "\t\t\t\t/* Disable tracking if the opt-out cookie exists. */\n",
      "\t\t\t\tif (__gtagTrackerIsOptedOut()) {\n",
      "\t\t\t\t\tfor (var index = 0; index < disableStrs.length; index++) {\n",
      "\t\t\t\t\t\twindow[disableStrs[index]] = true;\n",
      "\t\t\t\t\t}\n",
      "\t\t\t\t}\n",
      "\n",
      "\t\t\t\t/* Opt-out function */\n",
      "\t\t\t\tfunction __gtagTrackerOptout() {\n",
      "\t\t\t\t\tfor (var index = 0; index < disableStrs.length; index++) {\n",
      "\t\t\t\t\t\tdocument.cookie = disableStrs[index] + '=true; expires=Thu, 31 Dec 2099 23:59:59 UTC; path=/';\n",
      "\t\t\t\t\t\twindow[disableStrs[index]] = true;\n",
      "\t\t\t\t\t}\n",
      "\t\t\t\t}\n",
      "\n",
      "\t\t\t\tif ('undefined' === typeof gaOptout) {\n",
      "\t\t\t\t\tfunction gaOptout() {\n",
      "\t\t\t\t\t\t__gtagTrackerOptout();\n",
      "\t\t\t\t\t}\n",
      "\t\t\t\t}\n",
      "\t\t\t\t\t\t\t\twindow.dataLayer = window.dataLayer || [];\n",
      "\n",
      "\t\t\t\twindow.MonsterInsightsDualTracker = {\n",
      "\t\t\t\t\thelpers: {},\n",
      "\t\t\t\t\ttrackers: {},\n",
      "\t\t\t\t};\n",
      "\t\t\t\tif (mi_track_user) {\n",
      "\t\t\t\t\tfunction __gtagDataLayer() {\n",
      "\t\t\t\t\t\tdataLayer.push(arguments);\n",
      "\t\t\t\t\t}\n",
      "\n",
      "\t\t\t\t\tfunction __gtagTracker(type, name, parameters) {\n",
      "\t\t\t\t\t\tif (!parameters) {\n",
      "\t\t\t\t\t\t\tparameters = {};\n",
      "\t\t\t\t\t\t}\n",
      "\n",
      "\t\t\t\t\t\tif (parameters.send_to) {\n",
      "\t\t\t\t\t\t\t__gtagDataLayer.apply(null, arguments);\n",
      "\t\t\t\t\t\t\treturn;\n",
      "\t\t\t\t\t\t}\n",
      "\n",
      "\t\t\t\t\t\tif (type === 'event') {\n",
      "\t\t\t\t\t\t\t\t\t\t\t\t\t\tparameters.send_to = monsterinsights_frontend.v4_id;\n",
      "\t\t\t\t\t\t\tvar hookName = name;\n",
      "\t\t\t\t\t\t\tif (typeof parameters['event_category'] !== 'undefined') {\n",
      "\t\t\t\t\t\t\t\thookName = parameters['event_category'] + ':' + name;\n",
      "\t\t\t\t\t\t\t}\n",
      "\n",
      "\t\t\t\t\t\t\tif (typeof MonsterInsightsDualTracker.trackers[hookName] !== 'undefined') {\n",
      "\t\t\t\t\t\t\t\tMonsterInsightsDualTracker.trackers[hookName](parameters);\n",
      "\t\t\t\t\t\t\t} else {\n",
      "\t\t\t\t\t\t\t\t__gtagDataLayer('event', name, parameters);\n",
      "\t\t\t\t\t\t\t}\n",
      "\t\t\t\t\t\t\t\n",
      "\t\t\t\t\t\t} else {\n",
      "\t\t\t\t\t\t\t__gtagDataLayer.apply(null, arguments);\n",
      "\t\t\t\t\t\t}\n",
      "\t\t\t\t\t}\n",
      "\n",
      "\t\t\t\t\t__gtagTracker('js', new Date());\n",
      "\t\t\t\t\t__gtagTracker('set', {\n",
      "\t\t\t\t\t\t'developer_id.dZGIzZG': true,\n",
      "\t\t\t\t\t\t\t\t\t\t\t});\n",
      "\t\t\t\t\tif ( MonsterInsightsLocations.page_location ) {\n",
      "\t\t\t\t\t\t__gtagTracker('set', MonsterInsightsLocations);\n",
      "\t\t\t\t\t}\n",
      "\t\t\t\t\t\t\t\t\t\t__gtagTracker('config', 'G-2E9NND0N6Y', {\"forceSSL\":\"true\"} );\n",
      "\t\t\t\t\t\t\t\t\t\t\t\t\t\t\twindow.gtag = __gtagTracker;\t\t\t\t\t\t\t\t\t\t(function () {\n",
      "\t\t\t\t\t\t/* https://developers.google.com/analytics/devguides/collection/analyticsjs/ */\n",
      "\t\t\t\t\t\t/* ga and __gaTracker compatibility shim. */\n",
      "\t\t\t\t\t\tvar noopfn = function () {\n",
      "\t\t\t\t\t\t\treturn null;\n",
      "\t\t\t\t\t\t};\n",
      "\t\t\t\t\t\tvar newtracker = function () {\n",
      "\t\t\t\t\t\t\treturn new Tracker();\n",
      "\t\t\t\t\t\t};\n",
      "\t\t\t\t\t\tvar Tracker = function () {\n",
      "\t\t\t\t\t\t\treturn null;\n",
      "\t\t\t\t\t\t};\n",
      "\t\t\t\t\t\tvar p = Tracker.prototype;\n",
      "\t\t\t\t\t\tp.get = noopfn;\n",
      "\t\t\t\t\t\tp.set = noopfn;\n",
      "\t\t\t\t\t\tp.send = function () {\n",
      "\t\t\t\t\t\t\tvar args = Array.prototype.slice.call(arguments);\n",
      "\t\t\t\t\t\t\targs.unshift('send');\n",
      "\t\t\t\t\t\t\t__gaTracker.apply(null, args);\n",
      "\t\t\t\t\t\t};\n",
      "\t\t\t\t\t\tvar __gaTracker = function () {\n",
      "\t\t\t\t\t\t\tvar len = arguments.length;\n",
      "\t\t\t\t\t\t\tif (len === 0) {\n",
      "\t\t\t\t\t\t\t\treturn;\n",
      "\t\t\t\t\t\t\t}\n",
      "\t\t\t\t\t\t\tvar f = arguments[len - 1];\n",
      "\t\t\t\t\t\t\tif (typeof f !== 'object' || f === null || typeof f.hitCallback !== 'function') {\n",
      "\t\t\t\t\t\t\t\tif ('send' === arguments[0]) {\n",
      "\t\t\t\t\t\t\t\t\tvar hitConverted, hitObject = false, action;\n",
      "\t\t\t\t\t\t\t\t\tif ('event' === arguments[1]) {\n",
      "\t\t\t\t\t\t\t\t\t\tif ('undefined' !== typeof arguments[3]) {\n",
      "\t\t\t\t\t\t\t\t\t\t\thitObject = {\n",
      "\t\t\t\t\t\t\t\t\t\t\t\t'eventAction': arguments[3],\n",
      "\t\t\t\t\t\t\t\t\t\t\t\t'eventCategory': arguments[2],\n",
      "\t\t\t\t\t\t\t\t\t\t\t\t'eventLabel': arguments[4],\n",
      "\t\t\t\t\t\t\t\t\t\t\t\t'value': arguments[5] ? arguments[5] : 1,\n",
      "\t\t\t\t\t\t\t\t\t\t\t}\n",
      "\t\t\t\t\t\t\t\t\t\t}\n",
      "\t\t\t\t\t\t\t\t\t}\n",
      "\t\t\t\t\t\t\t\t\tif ('pageview' === arguments[1]) {\n",
      "\t\t\t\t\t\t\t\t\t\tif ('undefined' !== typeof arguments[2]) {\n",
      "\t\t\t\t\t\t\t\t\t\t\thitObject = {\n",
      "\t\t\t\t\t\t\t\t\t\t\t\t'eventAction': 'page_view',\n",
      "\t\t\t\t\t\t\t\t\t\t\t\t'page_path': arguments[2],\n",
      "\t\t\t\t\t\t\t\t\t\t\t}\n",
      "\t\t\t\t\t\t\t\t\t\t}\n",
      "\t\t\t\t\t\t\t\t\t}\n",
      "\t\t\t\t\t\t\t\t\tif (typeof arguments[2] === 'object') {\n",
      "\t\t\t\t\t\t\t\t\t\thitObject = arguments[2];\n",
      "\t\t\t\t\t\t\t\t\t}\n",
      "\t\t\t\t\t\t\t\t\tif (typeof arguments[5] === 'object') {\n",
      "\t\t\t\t\t\t\t\t\t\tObject.assign(hitObject, arguments[5]);\n",
      "\t\t\t\t\t\t\t\t\t}\n",
      "\t\t\t\t\t\t\t\t\tif ('undefined' !== typeof arguments[1].hitType) {\n",
      "\t\t\t\t\t\t\t\t\t\thitObject = arguments[1];\n",
      "\t\t\t\t\t\t\t\t\t\tif ('pageview' === hitObject.hitType) {\n",
      "\t\t\t\t\t\t\t\t\t\t\thitObject.eventAction = 'page_view';\n",
      "\t\t\t\t\t\t\t\t\t\t}\n",
      "\t\t\t\t\t\t\t\t\t}\n",
      "\t\t\t\t\t\t\t\t\tif (hitObject) {\n",
      "\t\t\t\t\t\t\t\t\t\taction = 'timing' === arguments[1].hitType ? 'timing_complete' : hitObject.eventAction;\n",
      "\t\t\t\t\t\t\t\t\t\thitConverted = mapArgs(hitObject);\n",
      "\t\t\t\t\t\t\t\t\t\t__gtagTracker('event', action, hitConverted);\n",
      "\t\t\t\t\t\t\t\t\t}\n",
      "\t\t\t\t\t\t\t\t}\n",
      "\t\t\t\t\t\t\t\treturn;\n",
      "\t\t\t\t\t\t\t}\n",
      "\n",
      "\t\t\t\t\t\t\tfunction mapArgs(args) {\n",
      "\t\t\t\t\t\t\t\tvar arg, hit = {};\n",
      "\t\t\t\t\t\t\t\tvar gaMap = {\n",
      "\t\t\t\t\t\t\t\t\t'eventCategory': 'event_category',\n",
      "\t\t\t\t\t\t\t\t\t'eventAction': 'event_action',\n",
      "\t\t\t\t\t\t\t\t\t'eventLabel': 'event_label',\n",
      "\t\t\t\t\t\t\t\t\t'eventValue': 'event_value',\n",
      "\t\t\t\t\t\t\t\t\t'nonInteraction': 'non_interaction',\n",
      "\t\t\t\t\t\t\t\t\t'timingCategory': 'event_category',\n",
      "\t\t\t\t\t\t\t\t\t'timingVar': 'name',\n",
      "\t\t\t\t\t\t\t\t\t'timingValue': 'value',\n",
      "\t\t\t\t\t\t\t\t\t'timingLabel': 'event_label',\n",
      "\t\t\t\t\t\t\t\t\t'page': 'page_path',\n",
      "\t\t\t\t\t\t\t\t\t'location': 'page_location',\n",
      "\t\t\t\t\t\t\t\t\t'title': 'page_title',\n",
      "\t\t\t\t\t\t\t\t\t'referrer' : 'page_referrer',\n",
      "\t\t\t\t\t\t\t\t};\n",
      "\t\t\t\t\t\t\t\tfor (arg in args) {\n",
      "\t\t\t\t\t\t\t\t\t\t\t\t\t\t\t\t\t\tif (!(!args.hasOwnProperty(arg) || !gaMap.hasOwnProperty(arg))) {\n",
      "\t\t\t\t\t\t\t\t\t\thit[gaMap[arg]] = args[arg];\n",
      "\t\t\t\t\t\t\t\t\t} else {\n",
      "\t\t\t\t\t\t\t\t\t\thit[arg] = args[arg];\n",
      "\t\t\t\t\t\t\t\t\t}\n",
      "\t\t\t\t\t\t\t\t}\n",
      "\t\t\t\t\t\t\t\treturn hit;\n",
      "\t\t\t\t\t\t\t}\n",
      "\n",
      "\t\t\t\t\t\t\ttry {\n",
      "\t\t\t\t\t\t\t\tf.hitCallback();\n",
      "\t\t\t\t\t\t\t} catch (ex) {\n",
      "\t\t\t\t\t\t\t}\n",
      "\t\t\t\t\t\t};\n",
      "\t\t\t\t\t\t__gaTracker.create = newtracker;\n",
      "\t\t\t\t\t\t__gaTracker.getByName = newtracker;\n",
      "\t\t\t\t\t\t__gaTracker.getAll = function () {\n",
      "\t\t\t\t\t\t\treturn [];\n",
      "\t\t\t\t\t\t};\n",
      "\t\t\t\t\t\t__gaTracker.remove = noopfn;\n",
      "\t\t\t\t\t\t__gaTracker.loaded = true;\n",
      "\t\t\t\t\t\twindow['__gaTracker'] = __gaTracker;\n",
      "\t\t\t\t\t})();\n",
      "\t\t\t\t\t\t\t\t\t} else {\n",
      "\t\t\t\t\t\t\t\t\t\tconsole.log(\"\");\n",
      "\t\t\t\t\t(function () {\n",
      "\t\t\t\t\t\tfunction __gtagTracker() {\n",
      "\t\t\t\t\t\t\treturn null;\n",
      "\t\t\t\t\t\t}\n",
      "\n",
      "\t\t\t\t\t\twindow['__gtagTracker'] = __gtagTracker;\n",
      "\t\t\t\t\t\twindow['gtag'] = __gtagTracker;\n",
      "\t\t\t\t\t})();\n",
      "\t\t\t\t\t\t\t\t\t}\n",
      "       </script>\n",
      "       <!-- / Google Analytics by MonsterInsights -->\n",
      "       <script type=\"text/javascript\">\n",
      "        /* <![CDATA[ */\n",
      "window._wpemojiSettings = {\"baseUrl\":\"https:\\/\\/s.w.org\\/images\\/core\\/emoji\\/15.0.3\\/72x72\\/\",\"ext\":\".png\",\"svgUrl\":\"https:\\/\\/s.w.org\\/images\\/core\\/emoji\\/15.0.3\\/svg\\/\",\"svgExt\":\".svg\",\"source\":{\"concatemoji\":\"https:\\/\\/civmin.utoronto.ca\\/wp-includes\\/js\\/wp-emoji-release.min.js?ver=6.6.2\"}};\n",
      "/*! This file is auto-generated */\n",
      "!function(i,n){var o,s,e;function c(e){try{var t={supportTests:e,timestamp:(new Date).valueOf()};sessionStorage.setItem(o,JSON.stringify(t))}catch(e){}}function p(e,t,n){e.clearRect(0,0,e.canvas.width,e.canvas.height),e.fillText(t,0,0);var t=new Uint32Array(e.getImageData(0,0,e.canvas.width,e.canvas.height).data),r=(e.clearRect(0,0,e.canvas.width,e.canvas.height),e.fillText(n,0,0),new Uint32Array(e.getImageData(0,0,e.canvas.width,e.canvas.height).data));return t.every(function(e,t){return e===r[t]})}function u(e,t,n){switch(t){case\"flag\":return n(e,\"\\ud83c\\udff3\\ufe0f\\u200d\\u26a7\\ufe0f\",\"\\ud83c\\udff3\\ufe0f\\u200b\\u26a7\\ufe0f\")?!1:!n(e,\"\\ud83c\\uddfa\\ud83c\\uddf3\",\"\\ud83c\\uddfa\\u200b\\ud83c\\uddf3\")&&!n(e,\"\\ud83c\\udff4\\udb40\\udc67\\udb40\\udc62\\udb40\\udc65\\udb40\\udc6e\\udb40\\udc67\\udb40\\udc7f\",\"\\ud83c\\udff4\\u200b\\udb40\\udc67\\u200b\\udb40\\udc62\\u200b\\udb40\\udc65\\u200b\\udb40\\udc6e\\u200b\\udb40\\udc67\\u200b\\udb40\\udc7f\");case\"emoji\":return!n(e,\"\\ud83d\\udc26\\u200d\\u2b1b\",\"\\ud83d\\udc26\\u200b\\u2b1b\")}return!1}function f(e,t,n){var r=\"undefined\"!=typeof WorkerGlobalScope&&self instanceof WorkerGlobalScope?new OffscreenCanvas(300,150):i.createElement(\"canvas\"),a=r.getContext(\"2d\",{willReadFrequently:!0}),o=(a.textBaseline=\"top\",a.font=\"600 32px Arial\",{});return e.forEach(function(e){o[e]=t(a,e,n)}),o}function t(e){var t=i.createElement(\"script\");t.src=e,t.defer=!0,i.head.appendChild(t)}\"undefined\"!=typeof Promise&&(o=\"wpEmojiSettingsSupports\",s=[\"flag\",\"emoji\"],n.supports={everything:!0,everythingExceptFlag:!0},e=new Promise(function(e){i.addEventListener(\"DOMContentLoaded\",e,{once:!0})}),new Promise(function(t){var n=function(){try{var e=JSON.parse(sessionStorage.getItem(o));if(\"object\"==typeof e&&\"number\"==typeof e.timestamp&&(new Date).valueOf()<e.timestamp+604800&&\"object\"==typeof e.supportTests)return e.supportTests}catch(e){}return null}();if(!n){if(\"undefined\"!=typeof Worker&&\"undefined\"!=typeof OffscreenCanvas&&\"undefined\"!=typeof URL&&URL.createObjectURL&&\"undefined\"!=typeof Blob)try{var e=\"postMessage(\"+f.toString()+\"(\"+[JSON.stringify(s),u.toString(),p.toString()].join(\",\")+\"));\",r=new Blob([e],{type:\"text/javascript\"}),a=new Worker(URL.createObjectURL(r),{name:\"wpTestEmojiSupports\"});return void(a.onmessage=function(e){c(n=e.data),a.terminate(),t(n)})}catch(e){}c(n=f(s,u,p))}t(n)}).then(function(e){for(var t in e)n.supports[t]=e[t],n.supports.everything=n.supports.everything&&n.supports[t],\"flag\"!==t&&(n.supports.everythingExceptFlag=n.supports.everythingExceptFlag&&n.supports[t]);n.supports.everythingExceptFlag=n.supports.everythingExceptFlag&&!n.supports.flag,n.DOMReady=!1,n.readyCallback=function(){n.DOMReady=!0}}).then(function(){return e}).then(function(){var e;n.supports.everything||(n.readyCallback(),(e=n.source||{}).concatemoji?t(e.concatemoji):e.wpemoji&&e.twemoji&&(t(e.twemoji),t(e.wpemoji)))}))}((window,document),window._wpemojiSettings);\n",
      "/* ]]> */\n",
      "       </script>\n",
      "       <style id=\"wp-emoji-styles-inline-css\" type=\"text/css\">\n",
      "        img.wp-smiley, img.emoji {\n",
      "\t\tdisplay: inline !important;\n",
      "\t\tborder: none !important;\n",
      "\t\tbox-shadow: none !important;\n",
      "\t\theight: 1em !important;\n",
      "\t\twidth: 1em !important;\n",
      "\t\tmargin: 0 0.07em !important;\n",
      "\t\tvertical-align: -0.1em !important;\n",
      "\t\tbackground: none !important;\n",
      "\t\tpadding: 0 !important;\n",
      "\t}\n",
      "       </style>\n",
      "       <link href=\"https://civmin.utoronto.ca/wp-content/plugins/awsm-team-pro/css/team.min.css?ver=1.10.2\" id=\"awsm-team-css-css\" media=\"all\" rel=\"stylesheet\" type=\"text/css\">\n",
      "        <link href=\"https://civmin.utoronto.ca/wp-content/plugins/bb-plugin/fonts/fontawesome/5.15.4/css/all.min.css?ver=2.8.3.6\" id=\"font-awesome-5-css\" media=\"all\" rel=\"stylesheet\" type=\"text/css\">\n",
      "         <link href=\"https://civmin.utoronto.ca/wp-content/uploads/bb-plugin/cache/27502-layout.css?ver=fd6d6dabf9b22aba6ae03715f08c73ea\" id=\"fl-builder-layout-27502-css\" media=\"all\" rel=\"stylesheet\" type=\"text/css\">\n",
      "          <link href=\"https://civmin.utoronto.ca/wp-content/themes/fase-theme-2023-master/dist/css/index.min.css?ver=1.0.3\" id=\"main-css\" media=\"all\" rel=\"stylesheet\" type=\"text/css\"/>\n",
      "          <link href=\"https://civmin.utoronto.ca/wp-content/themes/fase-theme-2023-master/dist/css/general.min.css?ver=1.0.3\" id=\"general-css\" media=\"all\" rel=\"stylesheet\" type=\"text/css\"/>\n",
      "          <link href=\"https://fonts.googleapis.com/css?family=Open+Sans%3A400%2C600%2C700&amp;ver=1.1\" id=\"fonts-css\" media=\"all\" rel=\"stylesheet\" type=\"text/css\"/>\n",
      "          <link href=\"https://use.typekit.net/egq6ygb.css?ver=1.0\" id=\"typekit-css\" media=\"all\" rel=\"stylesheet\" type=\"text/css\"/>\n",
      "          <link href=\"https://civmin.utoronto.ca/wp-content/tablepress-combined.min.css?ver=126\" id=\"tablepress-default-css\" media=\"all\" rel=\"stylesheet\" type=\"text/css\"/>\n",
      "          <link href=\"https://civmin.utoronto.ca/wp-content/plugins/bbpowerpack/assets/css/animate.min.css?ver=3.5.1\" id=\"pp-animate-css\" media=\"all\" rel=\"stylesheet\" type=\"text/css\"/>\n",
      "          <script id=\"jquery-core-js-extra\" type=\"text/javascript\">\n",
      "           /* <![CDATA[ */\n",
      "var SDT_DATA = {\"ajaxurl\":\"https:\\/\\/civmin.utoronto.ca\\/wp-admin\\/admin-ajax.php\",\"siteUrl\":\"https:\\/\\/civmin.utoronto.ca\\/\",\"pluginsUrl\":\"https:\\/\\/civmin.utoronto.ca\\/wp-content\\/plugins\",\"isAdmin\":\"\"};\n",
      "/* ]]> */\n",
      "          </script>\n",
      "          <script id=\"jquery-core-js\" src=\"https://civmin.utoronto.ca/wp-includes/js/jquery/jquery.min.js?ver=3.7.1\" type=\"text/javascript\">\n",
      "          </script>\n",
      "          <script defer=\"defer\" id=\"jquery-migrate-js\" src=\"https://civmin.utoronto.ca/wp-includes/js/jquery/jquery-migrate.min.js?ver=3.4.1\" type=\"text/javascript\">\n",
      "          </script>\n",
      "          <script id=\"monsterinsights-frontend-script-js\" src=\"https://civmin.utoronto.ca/wp-content/plugins/google-analytics-premium/assets/js/frontend-gtag.min.js?ver=9.0.2\" type=\"text/javascript\">\n",
      "          </script>\n",
      "          <script data-cfasync=\"false\" data-wpfc-render=\"false\" id=\"monsterinsights-frontend-script-js-extra\" type=\"text/javascript\">\n",
      "           /* <![CDATA[ */\n",
      "var monsterinsights_frontend = {\"js_events_tracking\":\"true\",\"download_extensions\":\"doc,pdf,ppt,zip,xls,docx,pptx,xlsx\",\"inbound_paths\":\"[]\",\"home_url\":\"https:\\/\\/civmin.utoronto.ca\",\"hash_tracking\":\"false\",\"v4_id\":\"G-2E9NND0N6Y\"};/* ]]> */\n",
      "          </script>\n",
      "          <script id=\"lazysizes-js\" src=\"https://civmin.utoronto.ca/wp-content/themes/fase-theme-2023-master/assets/js/vendor/lazysizes.min.js?ver=1.0.0\" type=\"text/javascript\">\n",
      "          </script>\n",
      "          <script id=\"focus-visible-js\" src=\"https://civmin.utoronto.ca/wp-content/themes/fase-theme-2023-master/assets/js/vendor/focus-visible-main/focus-visible.js?ver=1.0.0\" type=\"text/javascript\">\n",
      "          </script>\n",
      "          <script id=\"browser-detect-js\" src=\"https://civmin.utoronto.ca/wp-content/themes/fase-theme-2023-master/dist/js/bundled/browser-detect-combined.min.js?ver=1.0.0\" type=\"text/javascript\">\n",
      "          </script>\n",
      "          <link href=\"https://civmin.utoronto.ca/wp-json/\" rel=\"https://api.w.org/\"/>\n",
      "          <link href=\"https://civmin.utoronto.ca/wp-json/wp/v2/pages/27502\" rel=\"alternate\" title=\"JSON\" type=\"application/json\"/>\n",
      "          <link href=\"https://civmin.utoronto.ca/xmlrpc.php?rsd\" rel=\"EditURI\" title=\"RSD\" type=\"application/rsd+xml\"/>\n",
      "          <meta content=\"WordPress 6.6.2\" name=\"generator\"/>\n",
      "          <link href=\"https://civmin.utoronto.ca/\" rel=\"canonical\"/>\n",
      "          <link href=\"https://civmin.utoronto.ca/\" rel=\"shortlink\"/>\n",
      "          <link href=\"https://civmin.utoronto.ca/wp-json/oembed/1.0/embed?url=https%3A%2F%2Fcivmin.utoronto.ca%2F\" rel=\"alternate\" title=\"oEmbed (JSON)\" type=\"application/json+oembed\"/>\n",
      "          <link href=\"https://civmin.utoronto.ca/wp-json/oembed/1.0/embed?url=https%3A%2F%2Fcivmin.utoronto.ca%2F&amp;format=xml\" rel=\"alternate\" title=\"oEmbed (XML)\" type=\"text/xml+oembed\"/>\n",
      "          <script>\n",
      "           var bb_powerpack = {\n",
      "\t\t\t\tsearch_term: '',\n",
      "\t\t\t\tversion: '2.37.6',\n",
      "\t\t\t\tgetAjaxUrl: function() { return atob( 'aHR0cHM6Ly9jaXZtaW4udXRvcm9udG8uY2Evd3AtYWRtaW4vYWRtaW4tYWpheC5waHA=' ); },\n",
      "\t\t\t\tcallback: function() {}\n",
      "\t\t\t};\n",
      "          </script>\n",
      "          <meta content=\"v1\" name=\"tec-api-version\"/>\n",
      "          <meta content=\"https://civmin.utoronto.ca\" name=\"tec-api-origin\"/>\n",
      "          <link href=\"https://civmin.utoronto.ca/wp-json/tribe/events/v1/\" rel=\"alternate\"/>\n",
      "          <link href=\"https://civmin.utoronto.ca/wp-content/uploads/2014/06/cropped-Title-Screen-Twitter-Logo-2-32x32.png\" rel=\"icon\" sizes=\"32x32\"/>\n",
      "          <link href=\"https://civmin.utoronto.ca/wp-content/uploads/2014/06/cropped-Title-Screen-Twitter-Logo-2-192x192.png\" rel=\"icon\" sizes=\"192x192\"/>\n",
      "          <link href=\"https://civmin.utoronto.ca/wp-content/uploads/2014/06/cropped-Title-Screen-Twitter-Logo-2-180x180.png\" rel=\"apple-touch-icon\"/>\n",
      "          <meta content=\"https://civmin.utoronto.ca/wp-content/uploads/2014/06/cropped-Title-Screen-Twitter-Logo-2-270x270.png\" name=\"msapplication-TileImage\">\n",
      "           <style id=\"wp-custom-css\" type=\"text/css\">\n",
      "            .main-nav-bar .primary-nav > li a {\n",
      "    font-size: 0.95rem;\n",
      "}\n",
      "\n",
      ".ai1ec-day {\n",
      "\tline-height:0.5;\n",
      "}\n",
      "\n",
      "img, figure {\n",
      "\tmax-width: 100%;\n",
      "}\n",
      "\n",
      ".page-template-default.fl-builder .entry-content>.fl-builder-content>.fl-row.fl-row-fixed-width .fl-row-fixed-width, .page-template-default.fl-builder .entry-content>.fl-builder-content>.fl-row.fl-row-fixed-width .fl-row-full-width, .page-template-default.fl-builder .entry-content>.fl-builder-content>.fl-row.fl-row-full-width .fl-row-fixed-width, .page-template-default.fl-builder .entry-content>.fl-builder-content>.fl-row.fl-row-full-width .fl-row-full-width {\n",
      "    margin-left: 0rem !important;\n",
      "           </style>\n",
      "          </meta>\n",
      "         </link>\n",
      "        </link>\n",
      "       </link>\n",
      "      </link>\n",
      "     </link>\n",
      "    </meta>\n",
      "   </meta>\n",
      "  </meta>\n",
      " </head>\n",
      " <body class=\"home page-template page-template-templates page-template-page-wide page-template-templatespage-wide-php page page-id-27502 fl-builder fl-builder-2-8-3-6 fl-theme-1 tribe-no-js\">\n",
      "  <div class=\"site\" id=\"page\">\n",
      "   <header>\n",
      "    <a class=\"screen-reader-text skip-link\" href=\"#content\">\n",
      "     Skip to content\n",
      "    </a>\n",
      "    <div class=\"top-bar grey-bar\">\n",
      "     <div class=\"d-md-flex align-items-center content-wrap flex-row justify-content-between\">\n",
      "      <div class=\"top-bar-left p-2\">\n",
      "       <span class=\"top-bar-left-1\">\n",
      "        <a href=\"https://www.engineering.utoronto.ca\">\n",
      "         <span aria-hidden=\"true\" class=\"icon-home\" tabindex=\"-1\">\n",
      "         </span>\n",
      "         <span class=\"link\">\n",
      "          U of T ENGINEERING\n",
      "         </span>\n",
      "        </a>\n",
      "       </span>\n",
      "      </div>\n",
      "      <div class=\"top-bar-right p-2\">\n",
      "       <div class=\"menu-top-menu-container\">\n",
      "        <ul class=\"top-nav\" id=\"secondaryNav\">\n",
      "         <li class=\"menu-item menu-item-type-custom menu-item-object-custom menu-item-32446 nav-item level-0\" id=\"menu-item-32446\" itemscope=\"itemscope\" itemtype=\"https://www.schema.org/SiteNavigationElement\">\n",
      "          <a class=\"nav-link\" href=\"https://www.utoronto.ca/\" id=\"menu-item-link-32446\">\n",
      "           U of T Home\n",
      "          </a>\n",
      "         </li>\n",
      "         <li class=\"menu-item menu-item-type-custom menu-item-object-custom menu-item-32447 nav-item level-0\" id=\"menu-item-32447\" itemscope=\"itemscope\" itemtype=\"https://www.schema.org/SiteNavigationElement\">\n",
      "          <a class=\"nav-link\" href=\"https://alumni.engineering.utoronto.ca/giving/\" id=\"menu-item-link-32447\">\n",
      "           Give Now\n",
      "          </a>\n",
      "         </li>\n",
      "         <li class=\"menu-item menu-item-type-custom menu-item-object-custom menu-item-32448 nav-item level-0\" id=\"menu-item-32448\" itemscope=\"itemscope\" itemtype=\"https://www.schema.org/SiteNavigationElement\">\n",
      "          <a class=\"nav-link\" href=\"https://www.engineering.utoronto.ca/mental-health-wellness/talk-to-someone-right-now/\" id=\"menu-item-link-32448\">\n",
      "           Urgent Support\n",
      "          </a>\n",
      "         </li>\n",
      "         <li class=\"menu-item menu-item-type-custom menu-item-object-custom menu-item-32449 nav-item level-0\" id=\"menu-item-32449\" itemscope=\"itemscope\" itemtype=\"https://www.schema.org/SiteNavigationElement\">\n",
      "          <a class=\"nav-link\" href=\"https://civmin.utoronto.ca/home/about-us/contact-us/\" id=\"menu-item-link-32449\">\n",
      "           Contact\n",
      "          </a>\n",
      "         </li>\n",
      "        </ul>\n",
      "       </div>\n",
      "      </div>\n",
      "     </div>\n",
      "    </div>\n",
      "    <div class=\"middle-bar -with-title\">\n",
      "     <div class=\"d-flex align-items-center content-wrap justify-content-between flex-wrap\">\n",
      "      <div class=\"main-logo\">\n",
      "       <a aria-hidden=\"true\" href=\"https://civmin.utoronto.ca\" tabindex=\"-1\">\n",
      "        <img alt=\"Department of Civil &amp; Mineral Engineering Home Page\" height=\"126\" src=\"https://civmin.utoronto.ca/wp-content/uploads/2023/02/CivMin_Signature_655.svg\" width=\"618\"/>\n",
      "       </a>\n",
      "      </div>\n",
      "      <div class=\"main-search\">\n",
      "       <form action=\"https://find.utoronto.ca/search\" aria-label=\"Primary search form\" class=\"search-form\" method=\"get\" role=\"search\">\n",
      "        <label for=\"headerSearch\">\n",
      "         <span class=\"screen-reader-text\">\n",
      "          Search for:\n",
      "         </span>\n",
      "         <input class=\"search-field\" id=\"headerSearch\" name=\"q\" placeholder=\"Search\" type=\"search\" value=\"\"/>\n",
      "        </label>\n",
      "        <button class=\"header-search-submit\" type=\"submit\">\n",
      "         <span aria-hidden=\"true\" class=\"icon-search\">\n",
      "         </span>\n",
      "         <span class=\"screen-reader-text\">\n",
      "          Submit Search\n",
      "         </span>\n",
      "        </button>\n",
      "        <input name=\"output\" type=\"hidden\" value=\"xml_no_dtd\"/>\n",
      "        <input name=\"ie\" type=\"hidden\" value=\"UTF-8\"/>\n",
      "        <input name=\"oe\" type=\"hidden\" value=\"UTF-8\"/>\n",
      "        <input name=\"site\" type=\"hidden\" value=\"Engineering\"/>\n",
      "        <input name=\"client\" type=\"hidden\" value=\"engineering\"/>\n",
      "        <input name=\"proxystylesheet\" type=\"hidden\" value=\"engineering\"/>\n",
      "       </form>\n",
      "      </div>\n",
      "      <div class=\"desktop-hidden nav-bar-toggle\">\n",
      "       <button aria-controls=\"mainNavBar\" aria-expanded=\"false\" aria-hidden=\"true\" class=\"main-nav-toggle\" tabindex=\"-1\" type=\"button\">\n",
      "        <span class=\"transformicon\">\n",
      "        </span>\n",
      "        <span class=\"screen-reader-text\">\n",
      "         Main Menu\n",
      "        </span>\n",
      "       </button>\n",
      "      </div>\n",
      "     </div>\n",
      "    </div>\n",
      "    <div class=\"title-bar grey-bar large-hidden\">\n",
      "     <div class=\"content-wrap\">\n",
      "      <p>\n",
      "       <a href=\"https://civmin.utoronto.ca\">\n",
      "        Department of Civil &amp; Mineral Engineering\n",
      "       </a>\n",
      "      </p>\n",
      "     </div>\n",
      "    </div>\n",
      "    <div class=\"main-nav-bar\" id=\"mainNavBar\">\n",
      "     <div class=\"content-wrap\">\n",
      "      <div class=\"main-nav\">\n",
      "       <nav aria-label=\"Primary navigation\" class=\"menu-main-v2-container\">\n",
      "        <ul class=\"primary-nav\" id=\"primaryNav\">\n",
      "         <li class=\"menu-item menu-item-type-post_type menu-item-object-page menu-item-has-children dropdown menu-item-20345 nav-item level-0\" id=\"menu-item-20345\" itemscope=\"itemscope\" itemtype=\"https://www.schema.org/SiteNavigationElement\">\n",
      "          <a class=\"dropdown-toggle nav-link\" data-toggle=\"dropdown\" data-url=\"https://civmin.utoronto.ca/home/about-us/\" href=\"https://civmin.utoronto.ca/home/about-us/\" id=\"menu-item-dropdown-20345\" role=\"button\">\n",
      "           About\n",
      "          </a>\n",
      "          <ul aria-label=\"Sub menu navigation list\" aria-labelledby=\"menu-item-dropdown-20345\" class=\"sub-menu\" role=\"menu\">\n",
      "           <li class=\"menu-item menu-item-type-post_type menu-item-object-page menu-item-has-children dropdown menu-item-35433 nav-item level-1\" id=\"menu-item-35433\" itemscope=\"itemscope\" itemtype=\"https://www.schema.org/SiteNavigationElement\">\n",
      "            <a class=\"dropdown-item\" href=\"https://civmin.utoronto.ca/home/about-us/about-civmin/\" id=\"menu-item-link-35433\">\n",
      "             About CivMin\n",
      "            </a>\n",
      "            <ul aria-label=\"Sub menu navigation list\" aria-labelledby=\"menu-item-link-35433\" class=\"sub-menu\" role=\"menu\">\n",
      "             <li class=\"menu-item menu-item-type-post_type menu-item-object-page menu-item-37017 nav-item level-2\" id=\"menu-item-37017\" itemscope=\"itemscope\" itemtype=\"https://www.schema.org/SiteNavigationElement\">\n",
      "              <a class=\"dropdown-item\" href=\"https://civmin.utoronto.ca/self-study/\" id=\"menu-item-link-37017\">\n",
      "               Self-Study\n",
      "              </a>\n",
      "             </li>\n",
      "             <li class=\"menu-item menu-item-type-post_type menu-item-object-page menu-item-35434 nav-item level-2\" id=\"menu-item-35434\" itemscope=\"itemscope\" itemtype=\"https://www.schema.org/SiteNavigationElement\">\n",
      "              <a class=\"dropdown-item\" href=\"https://civmin.utoronto.ca/home/about-us/about-civmin/history/\" id=\"menu-item-link-35434\">\n",
      "               Department History\n",
      "              </a>\n",
      "             </li>\n",
      "             <li class=\"menu-item menu-item-type-post_type menu-item-object-page menu-item-36843 nav-item level-2\" id=\"menu-item-36843\" itemscope=\"itemscope\" itemtype=\"https://www.schema.org/SiteNavigationElement\">\n",
      "              <a class=\"dropdown-item\" href=\"https://civmin.utoronto.ca/home/about-us/camp/\" id=\"menu-item-link-36843\">\n",
      "               Camp\n",
      "              </a>\n",
      "             </li>\n",
      "             <li class=\"menu-item menu-item-type-post_type menu-item-object-page menu-item-35435 nav-item level-2\" id=\"menu-item-35435\" itemscope=\"itemscope\" itemtype=\"https://www.schema.org/SiteNavigationElement\">\n",
      "              <a class=\"dropdown-item\" href=\"https://civmin.utoronto.ca/home/about-us/about-civmin/skygarden/\" id=\"menu-item-link-35435\">\n",
      "               SkyGarden\n",
      "              </a>\n",
      "             </li>\n",
      "            </ul>\n",
      "           </li>\n",
      "           <li class=\"menu-item menu-item-type-post_type menu-item-object-page menu-item-20347 nav-item level-1\" id=\"menu-item-20347\" itemscope=\"itemscope\" itemtype=\"https://www.schema.org/SiteNavigationElement\">\n",
      "            <a class=\"dropdown-item\" href=\"https://civmin.utoronto.ca/home/about-us/about-civmin/department-leadership/\" id=\"menu-item-link-20347\">\n",
      "             Department Leadership\n",
      "            </a>\n",
      "           </li>\n",
      "           <li class=\"menu-item menu-item-type-post_type menu-item-object-page menu-item-20370 nav-item level-1\" id=\"menu-item-20370\" itemscope=\"itemscope\" itemtype=\"https://www.schema.org/SiteNavigationElement\">\n",
      "            <a class=\"dropdown-item\" href=\"https://civmin.utoronto.ca/home/about-us/directory/\" id=\"menu-item-link-20370\">\n",
      "             Directory\n",
      "            </a>\n",
      "           </li>\n",
      "           <li class=\"menu-item menu-item-type-post_type menu-item-object-page menu-item-has-children dropdown menu-item-20349 nav-item level-1\" id=\"menu-item-20349\" itemscope=\"itemscope\" itemtype=\"https://www.schema.org/SiteNavigationElement\">\n",
      "            <a class=\"dropdown-item\" href=\"https://civmin.utoronto.ca/home/about-us/news/\" id=\"menu-item-link-20349\">\n",
      "             News\n",
      "            </a>\n",
      "            <ul aria-label=\"Sub menu navigation list\" aria-labelledby=\"menu-item-link-20349\" class=\"sub-menu\" role=\"menu\">\n",
      "             <li class=\"menu-item menu-item-type-post_type menu-item-object-page menu-item-27165 nav-item level-2\" id=\"menu-item-27165\" itemscope=\"itemscope\" itemtype=\"https://www.schema.org/SiteNavigationElement\">\n",
      "              <a class=\"dropdown-item\" href=\"https://civmin.utoronto.ca/home/about-us/past-newsletters/\" id=\"menu-item-link-27165\">\n",
      "               Past Newsletters\n",
      "              </a>\n",
      "             </li>\n",
      "             <li class=\"menu-item menu-item-type-post_type menu-item-object-page menu-item-20350 nav-item level-2\" id=\"menu-item-20350\" itemscope=\"itemscope\" itemtype=\"https://www.schema.org/SiteNavigationElement\">\n",
      "              <a class=\"dropdown-item\" href=\"https://civmin.utoronto.ca/home/about-us/calendar/lectures/\" id=\"menu-item-link-20350\">\n",
      "               Distinguished Lectures\n",
      "              </a>\n",
      "             </li>\n",
      "            </ul>\n",
      "           </li>\n",
      "           <li class=\"menu-item menu-item-type-post_type menu-item-object-page menu-item-20348 nav-item level-1\" id=\"menu-item-20348\" itemscope=\"itemscope\" itemtype=\"https://www.schema.org/SiteNavigationElement\">\n",
      "            <a class=\"dropdown-item\" href=\"https://civmin.utoronto.ca/home/about-us/opportunities/\" id=\"menu-item-link-20348\">\n",
      "             Job Opportunities\n",
      "            </a>\n",
      "           </li>\n",
      "           <li class=\"menu-item menu-item-type-post_type menu-item-object-page menu-item-29022 nav-item level-1\" id=\"menu-item-29022\" itemscope=\"itemscope\" itemtype=\"https://www.schema.org/SiteNavigationElement\">\n",
      "            <a class=\"dropdown-item\" href=\"https://civmin.utoronto.ca/home/about-us/equity-diversity-and-inclusion/\" id=\"menu-item-link-29022\">\n",
      "             Equity, Diversity and Inclusion\n",
      "            </a>\n",
      "           </li>\n",
      "           <li class=\"menu-item menu-item-type-post_type menu-item-object-page menu-item-20351 nav-item level-1\" id=\"menu-item-20351\" itemscope=\"itemscope\" itemtype=\"https://www.schema.org/SiteNavigationElement\">\n",
      "            <a class=\"dropdown-item\" href=\"https://civmin.utoronto.ca/home/about-us/contact-us/\" id=\"menu-item-link-20351\">\n",
      "             Contact Us\n",
      "            </a>\n",
      "           </li>\n",
      "          </ul>\n",
      "         </li>\n",
      "         <li class=\"menu-item menu-item-type-custom menu-item-object-custom menu-item-has-children dropdown menu-item-40101 nav-item level-0\" id=\"menu-item-40101\" itemscope=\"itemscope\" itemtype=\"https://www.schema.org/SiteNavigationElement\">\n",
      "          <a class=\"dropdown-toggle nav-link\" data-toggle=\"dropdown\" data-url=\"#\" href=\"#\" id=\"menu-item-dropdown-40101\" role=\"button\">\n",
      "           Undergraduate Students\n",
      "          </a>\n",
      "          <ul aria-label=\"Sub menu navigation list\" aria-labelledby=\"menu-item-dropdown-40101\" class=\"sub-menu\" role=\"menu\">\n",
      "           <li class=\"menu-item menu-item-type-post_type menu-item-object-page menu-item-20353 nav-item level-1\" id=\"menu-item-20353\" itemscope=\"itemscope\" itemtype=\"https://www.schema.org/SiteNavigationElement\">\n",
      "            <a class=\"dropdown-item\" href=\"https://civmin.utoronto.ca/home/programs/undergraduate-programs/\" id=\"menu-item-link-20353\">\n",
      "             Undergraduate Programs &amp; Admission\n",
      "            </a>\n",
      "           </li>\n",
      "           <li class=\"menu-item menu-item-type-custom menu-item-object-custom menu-item-40094 nav-item level-1\" id=\"menu-item-40094\" itemscope=\"itemscope\" itemtype=\"https://www.schema.org/SiteNavigationElement\">\n",
      "            <a class=\"dropdown-item\" href=\"https://engineering.calendar.utoronto.ca/search-courses\" id=\"menu-item-link-40094\">\n",
      "             Undergraduate Courses\n",
      "            </a>\n",
      "           </li>\n",
      "           <li class=\"menu-item menu-item-type-post_type menu-item-object-page menu-item-20355 nav-item level-1\" id=\"menu-item-20355\" itemscope=\"itemscope\" itemtype=\"https://www.schema.org/SiteNavigationElement\">\n",
      "            <a class=\"dropdown-item\" href=\"https://civmin.utoronto.ca/home/programs/office-of-student-services/\" id=\"menu-item-link-20355\">\n",
      "             Office of Student Services\n",
      "            </a>\n",
      "           </li>\n",
      "           <li class=\"menu-item menu-item-type-custom menu-item-object-custom menu-item-40114 nav-item level-1\" id=\"menu-item-40114\" itemscope=\"itemscope\" itemtype=\"https://www.schema.org/SiteNavigationElement\">\n",
      "            <a class=\"dropdown-item\" href=\"https://q.utoronto.ca/courses/89657\" id=\"menu-item-link-40114\">\n",
      "             Info Hub (Current Students)\n",
      "            </a>\n",
      "           </li>\n",
      "          </ul>\n",
      "         </li>\n",
      "         <li class=\"menu-item menu-item-type-custom menu-item-object-custom menu-item-has-children dropdown menu-item-40102 nav-item level-0\" id=\"menu-item-40102\" itemscope=\"itemscope\" itemtype=\"https://www.schema.org/SiteNavigationElement\">\n",
      "          <a class=\"dropdown-toggle nav-link\" data-toggle=\"dropdown\" data-url=\"#\" href=\"#\" id=\"menu-item-dropdown-40102\" role=\"button\">\n",
      "           Graduate Students\n",
      "          </a>\n",
      "          <ul aria-label=\"Sub menu navigation list\" aria-labelledby=\"menu-item-dropdown-40102\" class=\"sub-menu\" role=\"menu\">\n",
      "           <li class=\"menu-item menu-item-type-post_type menu-item-object-page menu-item-37297 nav-item level-1\" id=\"menu-item-37297\" itemscope=\"itemscope\" itemtype=\"https://www.schema.org/SiteNavigationElement\">\n",
      "            <a class=\"dropdown-item\" href=\"https://civmin.utoronto.ca/home/programs/graduate-programs/professional-programs/\" id=\"menu-item-link-37297\">\n",
      "             Professional Degree Programs\n",
      "            </a>\n",
      "           </li>\n",
      "           <li class=\"menu-item menu-item-type-post_type menu-item-object-page menu-item-37296 nav-item level-1\" id=\"menu-item-37296\" itemscope=\"itemscope\" itemtype=\"https://www.schema.org/SiteNavigationElement\">\n",
      "            <a class=\"dropdown-item\" href=\"https://civmin.utoronto.ca/home/programs/graduate-programs/research-programs/\" id=\"menu-item-link-37296\">\n",
      "             Research Degree Programs\n",
      "            </a>\n",
      "           </li>\n",
      "           <li class=\"menu-item menu-item-type-post_type menu-item-object-page menu-item-20445 nav-item level-1\" id=\"menu-item-20445\" itemscope=\"itemscope\" itemtype=\"https://www.schema.org/SiteNavigationElement\">\n",
      "            <a class=\"dropdown-item\" href=\"https://civmin.utoronto.ca/home/admissions/graduate-admissions/\" id=\"menu-item-link-20445\">\n",
      "             Graduate Admissions\n",
      "            </a>\n",
      "           </li>\n",
      "           <li class=\"menu-item menu-item-type-post_type menu-item-object-page menu-item-28204 nav-item level-1\" id=\"menu-item-28204\" itemscope=\"itemscope\" itemtype=\"https://www.schema.org/SiteNavigationElement\">\n",
      "            <a class=\"dropdown-item\" href=\"https://civmin.utoronto.ca/home/programs/graduate-programs/graduate-fees-scholarships-and-funding/\" id=\"menu-item-link-28204\">\n",
      "             Graduate Fees, Scholarships &amp; Funding\n",
      "            </a>\n",
      "           </li>\n",
      "           <li class=\"menu-item menu-item-type-post_type menu-item-object-page menu-item-40107 nav-item level-1\" id=\"menu-item-40107\" itemscope=\"itemscope\" itemtype=\"https://www.schema.org/SiteNavigationElement\">\n",
      "            <a class=\"dropdown-item\" href=\"https://civmin.utoronto.ca/home/programs/courses/graduate-courses/\" id=\"menu-item-link-40107\">\n",
      "             Graduate Courses\n",
      "            </a>\n",
      "           </li>\n",
      "           <li class=\"menu-item menu-item-type-custom menu-item-object-custom menu-item-40115 nav-item level-1\" id=\"menu-item-40115\" itemscope=\"itemscope\" itemtype=\"https://www.schema.org/SiteNavigationElement\">\n",
      "            <a class=\"dropdown-item\" href=\"https://q.utoronto.ca/courses/97618\" id=\"menu-item-link-40115\">\n",
      "             Grad Info Hub (Current Students)\n",
      "            </a>\n",
      "           </li>\n",
      "          </ul>\n",
      "         </li>\n",
      "         <li class=\"menu-item menu-item-type-custom menu-item-object-custom menu-item-has-children dropdown menu-item-20360 nav-item level-0\" id=\"menu-item-20360\" itemscope=\"itemscope\" itemtype=\"https://www.schema.org/SiteNavigationElement\">\n",
      "          <a class=\"dropdown-toggle nav-link\" data-toggle=\"dropdown\" data-url=\"https://civmin.utoronto.ca/home/our-research/research/\" href=\"https://civmin.utoronto.ca/home/our-research/research/\" id=\"menu-item-dropdown-20360\" role=\"button\">\n",
      "           Research\n",
      "          </a>\n",
      "          <ul aria-label=\"Sub menu navigation list\" aria-labelledby=\"menu-item-dropdown-20360\" class=\"sub-menu\" role=\"menu\">\n",
      "           <li class=\"menu-item menu-item-type-post_type menu-item-object-page menu-item-20359 nav-item level-1\" id=\"menu-item-20359\" itemscope=\"itemscope\" itemtype=\"https://www.schema.org/SiteNavigationElement\">\n",
      "            <a class=\"dropdown-item\" href=\"https://civmin.utoronto.ca/home/our-research/research/\" id=\"menu-item-link-20359\">\n",
      "             Research Themes\n",
      "            </a>\n",
      "           </li>\n",
      "           <li class=\"menu-item menu-item-type-post_type menu-item-object-page menu-item-20357 nav-item level-1\" id=\"menu-item-20357\" itemscope=\"itemscope\" itemtype=\"https://www.schema.org/SiteNavigationElement\">\n",
      "            <a class=\"dropdown-item\" href=\"https://civmin.utoronto.ca/home/our-research/institutes-centres/\" id=\"menu-item-link-20357\">\n",
      "             Institutes &amp; Centres\n",
      "            </a>\n",
      "           </li>\n",
      "           <li class=\"menu-item menu-item-type-custom menu-item-object-custom menu-item-28539 nav-item level-1\" id=\"menu-item-28539\" itemscope=\"itemscope\" itemtype=\"https://www.schema.org/SiteNavigationElement\">\n",
      "            <a class=\"dropdown-item\" href=\"https://civmin.utoronto.ca/civmin-research-handbook/\" id=\"menu-item-link-28539\">\n",
      "             CivMin Research Handbook\n",
      "            </a>\n",
      "           </li>\n",
      "           <li class=\"menu-item menu-item-type-post_type menu-item-object-page menu-item-20358 nav-item level-1\" id=\"menu-item-20358\" itemscope=\"itemscope\" itemtype=\"https://www.schema.org/SiteNavigationElement\">\n",
      "            <a class=\"dropdown-item\" href=\"https://civmin.utoronto.ca/home/our-research/facilities/\" id=\"menu-item-link-20358\">\n",
      "             Research Facilities\n",
      "            </a>\n",
      "           </li>\n",
      "          </ul>\n",
      "         </li>\n",
      "         <li class=\"menu-item menu-item-type-post_type menu-item-object-page menu-item-has-children dropdown menu-item-20361 nav-item level-0\" id=\"menu-item-20361\" itemscope=\"itemscope\" itemtype=\"https://www.schema.org/SiteNavigationElement\">\n",
      "          <a class=\"dropdown-toggle nav-link\" data-toggle=\"dropdown\" data-url=\"https://civmin.utoronto.ca/home/partner-with-us/\" href=\"https://civmin.utoronto.ca/home/partner-with-us/\" id=\"menu-item-dropdown-20361\" role=\"button\">\n",
      "           Partner with Us\n",
      "          </a>\n",
      "          <ul aria-label=\"Sub menu navigation list\" aria-labelledby=\"menu-item-dropdown-20361\" class=\"sub-menu\" role=\"menu\">\n",
      "           <li class=\"menu-item menu-item-type-post_type menu-item-object-page menu-item-20362 nav-item level-1\" id=\"menu-item-20362\" itemscope=\"itemscope\" itemtype=\"https://www.schema.org/SiteNavigationElement\">\n",
      "            <a class=\"dropdown-item\" href=\"https://civmin.utoronto.ca/home/partner-with-us/hire-an-engineering-student-or-graduate/\" id=\"menu-item-link-20362\">\n",
      "             Hire An Engineering Student Or Graduate\n",
      "            </a>\n",
      "           </li>\n",
      "           <li class=\"menu-item menu-item-type-post_type menu-item-object-page menu-item-20363 nav-item level-1\" id=\"menu-item-20363\" itemscope=\"itemscope\" itemtype=\"https://www.schema.org/SiteNavigationElement\">\n",
      "            <a class=\"dropdown-item\" href=\"https://civmin.utoronto.ca/home/partner-with-us/research-partnerships/\" id=\"menu-item-link-20363\">\n",
      "             Research Partnerships\n",
      "            </a>\n",
      "           </li>\n",
      "           <li class=\"menu-item menu-item-type-post_type menu-item-object-page menu-item-28137 nav-item level-1\" id=\"menu-item-28137\" itemscope=\"itemscope\" itemtype=\"https://www.schema.org/SiteNavigationElement\">\n",
      "            <a class=\"dropdown-item\" href=\"https://civmin.utoronto.ca/home/partner-with-us/industry-advisory-board/\" id=\"menu-item-link-28137\">\n",
      "             Industry Advisory Board (CivE)\n",
      "            </a>\n",
      "           </li>\n",
      "           <li class=\"menu-item menu-item-type-post_type menu-item-object-page menu-item-34374 nav-item level-1\" id=\"menu-item-34374\" itemscope=\"itemscope\" itemtype=\"https://www.schema.org/SiteNavigationElement\">\n",
      "            <a class=\"dropdown-item\" href=\"https://civmin.utoronto.ca/home/partner-with-us/lmep-advisory-board/\" id=\"menu-item-link-34374\">\n",
      "             Lassonde Mineral Engineering Program Advisory Board\n",
      "            </a>\n",
      "           </li>\n",
      "          </ul>\n",
      "         </li>\n",
      "         <li class=\"menu-item menu-item-type-custom menu-item-object-custom menu-item-has-children dropdown menu-item-36335 nav-item level-0\" id=\"menu-item-36335\" itemscope=\"itemscope\" itemtype=\"https://www.schema.org/SiteNavigationElement\">\n",
      "          <a class=\"dropdown-toggle nav-link\" data-toggle=\"dropdown\" data-url=\"#\" href=\"#\" id=\"menu-item-dropdown-36335\" role=\"button\">\n",
      "           Alumni\n",
      "          </a>\n",
      "          <ul aria-label=\"Sub menu navigation list\" aria-labelledby=\"menu-item-dropdown-36335\" class=\"sub-menu\" role=\"menu\">\n",
      "           <li class=\"menu-item menu-item-type-post_type menu-item-object-page menu-item-20365 nav-item level-1\" id=\"menu-item-20365\" itemscope=\"itemscope\" itemtype=\"https://www.schema.org/SiteNavigationElement\">\n",
      "            <a class=\"dropdown-item\" href=\"https://civmin.utoronto.ca/home/alumni/get-connected/\" id=\"menu-item-link-20365\">\n",
      "             Get Connected\n",
      "            </a>\n",
      "           </li>\n",
      "           <li class=\"menu-item menu-item-type-post_type menu-item-object-page menu-item-20366 nav-item level-1\" id=\"menu-item-20366\" itemscope=\"itemscope\" itemtype=\"https://www.schema.org/SiteNavigationElement\">\n",
      "            <a class=\"dropdown-item\" href=\"https://civmin.utoronto.ca/home/alumni/foundations/\" id=\"menu-item-link-20366\">\n",
      "             foundations Magazine\n",
      "            </a>\n",
      "           </li>\n",
      "           <li class=\"menu-item menu-item-type-custom menu-item-object-custom menu-item-20367 nav-item level-1\" id=\"menu-item-20367\" itemscope=\"itemscope\" itemtype=\"https://www.schema.org/SiteNavigationElement\">\n",
      "            <a class=\"dropdown-item\" href=\"https://secureca.imodules.com/s/731/form-blank/index.aspx?sid=731&amp;gid=1&amp;pgid=11544&amp;cid=19864\" id=\"menu-item-link-20367\">\n",
      "             Update Your Contact Information\n",
      "            </a>\n",
      "           </li>\n",
      "           <li class=\"menu-item menu-item-type-custom menu-item-object-custom menu-item-20369 nav-item level-1\" id=\"menu-item-20369\" itemscope=\"itemscope\" itemtype=\"https://www.schema.org/SiteNavigationElement\">\n",
      "            <a class=\"dropdown-item\" href=\"https://www.camp1.ca/wordpress/\" id=\"menu-item-link-20369\">\n",
      "             Iron Ring\n",
      "            </a>\n",
      "           </li>\n",
      "          </ul>\n",
      "         </li>\n",
      "         <li class=\"menu-item menu-item-type-custom menu-item-object-custom menu-item-28324 nav-item level-0\" id=\"menu-item-28324\" itemscope=\"itemscope\" itemtype=\"https://www.schema.org/SiteNavigationElement\">\n",
      "          <a class=\"nav-link\" href=\"https://utoronto.sharepoint.com/sites/fase-CivMin/SitePages/Home.aspx?OR=Teams-HL&amp;CT=1643992347378&amp;sourceId=&amp;params=%22AppName%22:%22Teams-Desktop%22,%22AppVersion%22:%2228/22010300409%22\" id=\"menu-item-link-28324\">\n",
      "           CivMin Intranet\n",
      "          </a>\n",
      "         </li>\n",
      "         <li class=\"menu-item menu-item-type-post_type menu-item-object-page menu-item-36192 nav-item level-0\" id=\"menu-item-36192\" itemscope=\"itemscope\" itemtype=\"https://www.schema.org/SiteNavigationElement\">\n",
      "          <a class=\"nav-link\" href=\"https://civmin.utoronto.ca/health-and-safety/\" id=\"menu-item-link-36192\">\n",
      "           Health &amp; Safety\n",
      "          </a>\n",
      "         </li>\n",
      "        </ul>\n",
      "       </nav>\n",
      "      </div>\n",
      "      <div class=\"social-nav-wrapper\">\n",
      "       <div class=\"menu-social-container\">\n",
      "        <ul class=\"social-nav\" id=\"menu-social\">\n",
      "         <li class=\"menu-item menu-item-type-custom menu-item-object-custom menu-item-14159 nav-item\" id=\"menu-item-14159\" itemscope=\"itemscope\" itemtype=\"https://www.schema.org/SiteNavigationElement\">\n",
      "          <a class=\"nav-link\" href=\"https://www.facebook.com/civminutoronto/\">\n",
      "           <span class=\"soc-icon-facebook\">\n",
      "           </span>\n",
      "           <span class=\"screen-reader-text\">\n",
      "            Facebook\n",
      "           </span>\n",
      "          </a>\n",
      "         </li>\n",
      "         <li class=\"menu-item menu-item-type-custom menu-item-object-custom menu-item-14160 nav-item\" id=\"menu-item-14160\" itemscope=\"itemscope\" itemtype=\"https://www.schema.org/SiteNavigationElement\">\n",
      "          <a class=\"nav-link\" href=\"https://twitter.com/civmin?lang=en\">\n",
      "           <span class=\"soc-icon-twitter\">\n",
      "           </span>\n",
      "           <span class=\"screen-reader-text\">\n",
      "            Twitter/X\n",
      "           </span>\n",
      "          </a>\n",
      "         </li>\n",
      "         <li class=\"menu-item menu-item-type-custom menu-item-object-custom menu-item-14161 nav-item\" id=\"menu-item-14161\" itemscope=\"itemscope\" itemtype=\"https://www.schema.org/SiteNavigationElement\">\n",
      "          <a class=\"nav-link\" href=\"https://www.instagram.com/civmin/\">\n",
      "           <span class=\"soc-icon-instagram\">\n",
      "           </span>\n",
      "           <span class=\"screen-reader-text\">\n",
      "            Instagram\n",
      "           </span>\n",
      "          </a>\n",
      "         </li>\n",
      "         <li class=\"menu-item menu-item-type-custom menu-item-object-custom menu-item-22663 nav-item\" id=\"menu-item-22663\" itemscope=\"itemscope\" itemtype=\"https://www.schema.org/SiteNavigationElement\">\n",
      "          <a class=\"nav-link\" href=\"https://www.linkedin.com/school/civmin/\">\n",
      "           <span class=\"soc-icon-linkedin\">\n",
      "           </span>\n",
      "           <span class=\"screen-reader-text\">\n",
      "            LinkedIn\n",
      "           </span>\n",
      "          </a>\n",
      "         </li>\n",
      "         <li class=\"menu-item menu-item-type-custom menu-item-object-custom menu-item-24105 nav-item\" id=\"menu-item-24105\" itemscope=\"itemscope\" itemtype=\"https://www.schema.org/SiteNavigationElement\">\n",
      "          <a class=\"nav-link\" href=\"https://www.youtube.com/user/civmin\">\n",
      "           <span class=\"soc-icon-youtube\">\n",
      "           </span>\n",
      "           <span class=\"screen-reader-text\">\n",
      "            Youtube\n",
      "           </span>\n",
      "          </a>\n",
      "         </li>\n",
      "        </ul>\n",
      "       </div>\n",
      "      </div>\n",
      "      <div aria-hidden=\"true\" class=\"desktop-hidden main-nav-top-bar\" tabindex=\"-1\">\n",
      "      </div>\n",
      "      <div aria-hidden=\"true\" class=\"desktop-hidden main-nav-search-bar\" tabindex=\"-1\">\n",
      "      </div>\n",
      "     </div>\n",
      "    </div>\n",
      "   </header>\n",
      "   <main class=\"primary content-area\" id=\"content\" tabindex=\"-1\">\n",
      "    <div class=\"site-content content-wrap\">\n",
      "     <div class=\"page-content\">\n",
      "      <article class=\"post-27502 page type-page status-publish hentry\" id=\"post-27502\">\n",
      "       <section class=\"entry-content\">\n",
      "        <div class=\"fl-builder-content fl-builder-content-27502 fl-builder-content-primary fl-builder-global-templates-locked\" data-post-id=\"27502\">\n",
      "         <div class=\"fl-row fl-row-full-width fl-row-bg-photo fl-node-cev7w31kuip8 fl-row-default-height fl-row-align-center fl-row-bg-fixed\" data-node=\"cev7w31kuip8\">\n",
      "          <div class=\"fl-row-content-wrap\">\n",
      "           <div class=\"fl-row-content fl-row-fixed-width fl-node-content\">\n",
      "            <div class=\"fl-col-group fl-node-5a783hutsq1w\" data-node=\"5a783hutsq1w\">\n",
      "             <div class=\"fl-col fl-node-4hml7peod295 fl-col-has-cols\" data-node=\"4hml7peod295\">\n",
      "              <div class=\"fl-col-content fl-node-content\">\n",
      "               <div class=\"fl-col-group fl-node-g87srj6mtzek fl-col-group-nested\" data-node=\"g87srj6mtzek\">\n",
      "                <div class=\"fl-col fl-node-b6nx0zyut295\" data-node=\"b6nx0zyut295\">\n",
      "                 <div class=\"fl-col-content fl-node-content\">\n",
      "                  <div class=\"fl-module fl-module-rich-text fl-node-vxs2h0alpgm9\" data-node=\"vxs2h0alpgm9\">\n",
      "                   <div class=\"fl-module-content fl-node-content\">\n",
      "                    <div class=\"fl-rich-text\">\n",
      "                     <h1 style=\"text-align: center;\">\n",
      "                      <strong>\n",
      "                       Robot Made 2024\n",
      "                      </strong>\n",
      "                     </h1>\n",
      "                    </div>\n",
      "                   </div>\n",
      "                  </div>\n",
      "                  <div class=\"fl-module fl-module-button fl-node-i37d4gw1c6ap fl-animation fl-slide-in-down\" data-animation-delay=\"0\" data-animation-duration=\"2\" data-node=\"i37d4gw1c6ap\">\n",
      "                   <div class=\"fl-module-content fl-node-content\">\n",
      "                    <div class=\"fl-button-wrap fl-button-width-auto fl-button-center fl-button-has-icon\">\n",
      "                     <a class=\"fl-button\" href=\"https://civmin.utoronto.ca/robot-made-2024/\" target=\"_self\">\n",
      "                      <i aria-hidden=\"true\" class=\"fl-button-icon fl-button-icon-before fas fa-mouse-pointer\">\n",
      "                      </i>\n",
      "                      <span class=\"fl-button-text\">\n",
      "                       Read full story, find videos and pictures\n",
      "                      </span>\n",
      "                     </a>\n",
      "                    </div>\n",
      "                   </div>\n",
      "                  </div>\n",
      "                 </div>\n",
      "                </div>\n",
      "               </div>\n",
      "              </div>\n",
      "             </div>\n",
      "            </div>\n",
      "           </div>\n",
      "          </div>\n",
      "         </div>\n",
      "         <div class=\"fl-row fl-row-full-width fl-row-bg-color fl-node-7rfhqe8tv2sk fl-row-custom-height fl-row-align-center\" data-node=\"7rfhqe8tv2sk\">\n",
      "          <div class=\"fl-row-content-wrap\">\n",
      "           <div class=\"fl-row-content fl-row-fixed-width fl-node-content\">\n",
      "           </div>\n",
      "          </div>\n",
      "         </div>\n",
      "         <div class=\"fl-row fl-row-full-width fl-row-bg-none fl-node-rt0auzwcnmlg fl-row-custom-height fl-row-align-center\" data-node=\"rt0auzwcnmlg\">\n",
      "          <div class=\"fl-row-content-wrap\">\n",
      "           <div class=\"fl-row-content fl-row-fixed-width fl-node-content\">\n",
      "            <div class=\"fl-col-group fl-node-74xvrkqzgy58\" data-node=\"74xvrkqzgy58\">\n",
      "             <div class=\"fl-col fl-node-xynomwetujla\" data-node=\"xynomwetujla\">\n",
      "              <div class=\"fl-col-content fl-node-content\">\n",
      "               <div class=\"fl-module fl-module-heading fl-node-mr2ks5hldz1f\" data-node=\"mr2ks5hldz1f\">\n",
      "                <div class=\"fl-module-content fl-node-content\">\n",
      "                 <h2 class=\"fl-heading\">\n",
      "                  <a href=\"http://civmin.utoronto.ca/home/about-us/news/\" target=\"_self\" title=\"CivMin News\">\n",
      "                   <span class=\"fl-heading-text\">\n",
      "                    CivMin News\n",
      "                   </span>\n",
      "                  </a>\n",
      "                 </h2>\n",
      "                </div>\n",
      "               </div>\n",
      "               <div class=\"fl-module fl-module-pp-content-grid fl-node-kdghnzjae6cv\" data-node=\"kdghnzjae6cv\">\n",
      "                <div class=\"fl-module-content fl-node-content\">\n",
      "                 <div class=\"pp-posts-wrapper\">\n",
      "                  <div class=\"pp-content-posts\" style=\"--items-count: 6;--column-xl: 3;--column-lg: 3;--column-md: 3;--column-sm: 2;\">\n",
      "                   <div class=\"pp-content-post-grid pp-equal-height pp-css-grid\" itemscope=\"itemscope\" itemtype=\"https://schema.org/Blog\">\n",
      "                    <div class=\"pp-content-post pp-content-grid-post pp-grid-style-7 post-40651 post type-post status-publish format-standard has-post-thumbnail hentry category-news tag-aryan-rezaei-rad tag-collaborate tag-collaboration tag-design-for-manufacturing-and-assembly tag-dfma tag-digital-fabrication tag-robot-made tag-timber tag-timber-construction\" data-id=\"40651\" itemscope=\"\" itemtype=\"https://schema.org/BlogPosting\">\n",
      "                     <meta content=\"Robot Made 2024: Digital fabrication brings Engineering and Architecture students together\" itemid=\"http://40651\" itemprop=\"mainEntityOfPage\" itemscope=\"\" itemtype=\"https://schema.org/WebPage\">\n",
      "                      <meta content=\"2024-09-10\" itemprop=\"datePublished\"/>\n",
      "                      <meta content=\"2024-09-10\" itemprop=\"dateModified\"/>\n",
      "                      <div itemprop=\"publisher\" itemscope=\"\" itemtype=\"https://schema.org/Organization\">\n",
      "                       <meta content=\"Department of Civil &amp; Mineral Engineering\" itemprop=\"name\"/>\n",
      "                      </div>\n",
      "                      <div itemprop=\"author\" itemscope=\"\" itemtype=\"https://schema.org/Person\">\n",
      "                       <meta content=\"https://civmin.utoronto.ca/author/phill-snelutoronto-ca/\" itemprop=\"url\">\n",
      "                        <meta content=\"Phill Snel\" itemprop=\"name\"/>\n",
      "                       </meta>\n",
      "                      </div>\n",
      "                      <div itemprop=\"image\" itemscope=\"\" itemtype=\"https://schema.org/ImageObject\">\n",
      "                       <meta content=\"https://civmin.utoronto.ca/wp-content/uploads/2024/09/IMG_5367.jpeg\" itemprop=\"url\"/>\n",
      "                       <meta content=\"2048\" itemprop=\"width\"/>\n",
      "                       <meta content=\"1536\" itemprop=\"height\"/>\n",
      "                      </div>\n",
      "                      <div itemprop=\"interactionStatistic\" itemscope=\"\" itemtype=\"https://schema.org/InteractionCounter\">\n",
      "                       <meta content=\"https://schema.org/CommentAction\" itemprop=\"interactionType\"/>\n",
      "                       <meta content=\"0\" itemprop=\"userInteractionCount\"/>\n",
      "                      </div>\n",
      "                      <a class=\"pp-post-link\" href=\"https://civmin.utoronto.ca/robot-made-2024/\" title=\"Robot Made 2024: Digital fabrication brings Engineering and Architecture students together\">\n",
      "                      </a>\n",
      "                      <div class=\"pp-content-grid-image pp-post-image\">\n",
      "                       <div class=\"pp-post-featured-img\">\n",
      "                        <div class=\"fl-photo fl-photo-crop-square fl-photo-align-center\" itemscope=\"\" itemtype=\"https://schema.org/ImageObject\">\n",
      "                         <div class=\"fl-photo-content fl-photo-img-jpeg\">\n",
      "                          <img alt=\"Prof. Aryan Rezaei Rad with finished product from Robot Made: 2024. (Photo )\" class=\"fl-photo-img wp-image-40817 size-large pp-post-img no-lazyload\" data-no-lazy=\"1\" decoding=\"async\" fetchpriority=\"high\" height=\"768\" itemprop=\"image\" src=\"https://civmin.utoronto.ca/wp-content/uploads/bb-plugin/cache/IMG_5367-1024x768-square-684ce97acea22f1ea7089becf9933a48-.jpeg\" title=\"IMG_5367\" width=\"1024\"/>\n",
      "                         </div>\n",
      "                        </div>\n",
      "                       </div>\n",
      "                      </div>\n",
      "                      <div class=\"pp-content-grid-inner pp-content-body clearfix\">\n",
      "                       <div class=\"pp-content-post-data\">\n",
      "                        <h3 class=\"pp-content-grid-title pp-post-title\" itemprop=\"headline\">\n",
      "                         Robot Made 2024: Digital fabrication brings Engineering and Architecture students together\n",
      "                        </h3>\n",
      "                        <div class=\"pp-content-post-meta pp-post-meta\">\n",
      "                         <span class=\"pp-content-post-author pp-post-author\">\n",
      "                          By\n",
      "                          <a href=\"https://civmin.utoronto.ca/author/phill-snelutoronto-ca/\">\n",
      "                           <span>\n",
      "                            Phill Snel\n",
      "                           </span>\n",
      "                          </a>\n",
      "                         </span>\n",
      "                         <span>\n",
      "                          |\n",
      "                         </span>\n",
      "                         <span class=\"pp-content-grid-date pp-post-date\">\n",
      "                          September 10, 2024\n",
      "                         </span>\n",
      "                        </div>\n",
      "                       </div>\n",
      "                      </div>\n",
      "                     </meta>\n",
      "                    </div>\n",
      "                    <div class=\"pp-content-post pp-content-grid-post pp-post-2n pp-grid-style-7 post-40598 post type-post status-publish format-standard has-post-thumbnail hentry category-alumni category-news tag-alumni tag-alumnus tag-camp tag-gull-lake tag-phil-feldman tag-survey-camp\" data-id=\"40598\" itemscope=\"\" itemtype=\"https://schema.org/BlogPosting\">\n",
      "                     <meta content=\"Memories of Camp from 1957: Visiting Gull Lake\" itemid=\"http://40598\" itemprop=\"mainEntityOfPage\" itemscope=\"\" itemtype=\"https://schema.org/WebPage\"/>\n",
      "                     <meta content=\"2024-09-04\" itemprop=\"datePublished\"/>\n",
      "                     <meta content=\"2024-09-04\" itemprop=\"dateModified\"/>\n",
      "                     <div itemprop=\"publisher\" itemscope=\"\" itemtype=\"https://schema.org/Organization\">\n",
      "                      <meta content=\"Department of Civil &amp; Mineral Engineering\" itemprop=\"name\"/>\n",
      "                     </div>\n",
      "                     <div itemprop=\"author\" itemscope=\"\" itemtype=\"https://schema.org/Person\">\n",
      "                      <meta content=\"https://civmin.utoronto.ca/author/phill-snelutoronto-ca/\" itemprop=\"url\">\n",
      "                       <meta content=\"Phill Snel\" itemprop=\"name\"/>\n",
      "                      </meta>\n",
      "                     </div>\n",
      "                     <div itemprop=\"image\" itemscope=\"\" itemtype=\"https://schema.org/ImageObject\">\n",
      "                      <meta content=\"https://civmin.utoronto.ca/wp-content/uploads/2024/09/Camp1-Group-MED-4L8A3072.jpg\" itemprop=\"url\"/>\n",
      "                      <meta content=\"2500\" itemprop=\"width\"/>\n",
      "                      <meta content=\"1667\" itemprop=\"height\"/>\n",
      "                     </div>\n",
      "                     <div itemprop=\"interactionStatistic\" itemscope=\"\" itemtype=\"https://schema.org/InteractionCounter\">\n",
      "                      <meta content=\"https://schema.org/CommentAction\" itemprop=\"interactionType\"/>\n",
      "                      <meta content=\"0\" itemprop=\"userInteractionCount\"/>\n",
      "                     </div>\n",
      "                     <a class=\"pp-post-link\" href=\"https://civmin.utoronto.ca/memories-of-camp-visiting-gull-lake/\" title=\"Memories of Camp from 1957: Visiting Gull Lake\">\n",
      "                     </a>\n",
      "                     <div class=\"pp-content-grid-image pp-post-image\">\n",
      "                      <div class=\"pp-post-featured-img\">\n",
      "                       <div class=\"fl-photo fl-photo-crop-square fl-photo-align-center\" itemscope=\"\" itemtype=\"https://schema.org/ImageObject\">\n",
      "                        <div class=\"fl-photo-content fl-photo-img-jpg\">\n",
      "                         <img alt=\"A group photo of students, professors, staff and guests at Camp 1 on August 14, 2024. (Photo by Phill Snel)\" class=\"fl-photo-img wp-image-40649 size-large pp-post-img no-lazyload\" data-no-lazy=\"1\" decoding=\"async\" height=\"683\" itemprop=\"image\" loading=\"lazy\" src=\"https://civmin.utoronto.ca/wp-content/uploads/bb-plugin/cache/Camp1-Group-MED-4L8A3072-1024x683-square-70fc53679404e796cdc823745179e445-.jpg\" title=\"Camp1 Group MED -4L8A3072\" width=\"1024\"/>\n",
      "                        </div>\n",
      "                       </div>\n",
      "                      </div>\n",
      "                     </div>\n",
      "                     <div class=\"pp-content-grid-inner pp-content-body clearfix\">\n",
      "                      <div class=\"pp-content-post-data\">\n",
      "                       <h3 class=\"pp-content-grid-title pp-post-title\" itemprop=\"headline\">\n",
      "                        Memories of Camp from 1957: Visiting Gull Lake\n",
      "                       </h3>\n",
      "                       <div class=\"pp-content-post-meta pp-post-meta\">\n",
      "                        <span class=\"pp-content-post-author pp-post-author\">\n",
      "                         By\n",
      "                         <a href=\"https://civmin.utoronto.ca/author/phill-snelutoronto-ca/\">\n",
      "                          <span>\n",
      "                           Phill Snel\n",
      "                          </span>\n",
      "                         </a>\n",
      "                        </span>\n",
      "                        <span>\n",
      "                         |\n",
      "                        </span>\n",
      "                        <span class=\"pp-content-grid-date pp-post-date\">\n",
      "                         September 4, 2024\n",
      "                        </span>\n",
      "                       </div>\n",
      "                      </div>\n",
      "                     </div>\n",
      "                    </div>\n",
      "                    <div class=\"pp-content-post pp-content-grid-post pp-grid-style-7 post-40519 post type-post status-publish format-standard has-post-thumbnail hentry category-alumni category-faculty category-news tag-5t7 tag-class-of-5t7 tag-ken-selby tag-kenneth-selby\" data-id=\"40519\" itemscope=\"\" itemtype=\"https://schema.org/BlogPosting\">\n",
      "                     <meta content=\"CivMin remembers Professor Emeritus Ken Selby (1935-2024)\" itemid=\"http://40519\" itemprop=\"mainEntityOfPage\" itemscope=\"\" itemtype=\"https://schema.org/WebPage\"/>\n",
      "                     <meta content=\"2024-08-29\" itemprop=\"datePublished\"/>\n",
      "                     <meta content=\"2024-08-29\" itemprop=\"dateModified\"/>\n",
      "                     <div itemprop=\"publisher\" itemscope=\"\" itemtype=\"https://schema.org/Organization\">\n",
      "                      <meta content=\"Department of Civil &amp; Mineral Engineering\" itemprop=\"name\"/>\n",
      "                     </div>\n",
      "                     <div itemprop=\"author\" itemscope=\"\" itemtype=\"https://schema.org/Person\">\n",
      "                      <meta content=\"https://civmin.utoronto.ca/author/phill-snelutoronto-ca/\" itemprop=\"url\">\n",
      "                       <meta content=\"Phill Snel\" itemprop=\"name\"/>\n",
      "                      </meta>\n",
      "                     </div>\n",
      "                     <div itemprop=\"image\" itemscope=\"\" itemtype=\"https://schema.org/ImageObject\">\n",
      "                      <meta content=\"https://civmin.utoronto.ca/wp-content/uploads/2024/08/Ken-Selby.jpeg\" itemprop=\"url\"/>\n",
      "                      <meta content=\"187\" itemprop=\"width\"/>\n",
      "                      <meta content=\"200\" itemprop=\"height\"/>\n",
      "                     </div>\n",
      "                     <div itemprop=\"interactionStatistic\" itemscope=\"\" itemtype=\"https://schema.org/InteractionCounter\">\n",
      "                      <meta content=\"https://schema.org/CommentAction\" itemprop=\"interactionType\"/>\n",
      "                      <meta content=\"0\" itemprop=\"userInteractionCount\"/>\n",
      "                     </div>\n",
      "                     <a class=\"pp-post-link\" href=\"https://civmin.utoronto.ca/civmin-remembers-professor-emeritus-ken-selby-1935-2024/\" title=\"CivMin remembers Professor Emeritus Ken Selby (1935-2024)\">\n",
      "                     </a>\n",
      "                     <div class=\"pp-content-grid-image pp-post-image\">\n",
      "                      <div class=\"pp-post-featured-img\">\n",
      "                       <div class=\"fl-photo fl-photo-crop-square fl-photo-align-center\" itemscope=\"\" itemtype=\"https://schema.org/ImageObject\">\n",
      "                        <div class=\"fl-photo-content fl-photo-img-jpeg\">\n",
      "                         <img alt=\"Ken Selby\" class=\"fl-photo-img wp-image-40520 size-full pp-post-img no-lazyload\" data-no-lazy=\"1\" decoding=\"async\" height=\"200\" itemprop=\"image\" loading=\"lazy\" src=\"https://civmin.utoronto.ca/wp-content/uploads/bb-plugin/cache/Ken-Selby-square-a4edead7248bde4abd8b482edb642129-.jpeg\" title=\"Ken Selby\" width=\"187\"/>\n",
      "                        </div>\n",
      "                       </div>\n",
      "                      </div>\n",
      "                     </div>\n",
      "                     <div class=\"pp-content-grid-inner pp-content-body clearfix\">\n",
      "                      <div class=\"pp-content-post-data\">\n",
      "                       <h3 class=\"pp-content-grid-title pp-post-title\" itemprop=\"headline\">\n",
      "                        CivMin remembers Professor Emeritus Ken Selby (1935-2024)\n",
      "                       </h3>\n",
      "                       <div class=\"pp-content-post-meta pp-post-meta\">\n",
      "                        <span class=\"pp-content-post-author pp-post-author\">\n",
      "                         By\n",
      "                         <a href=\"https://civmin.utoronto.ca/author/phill-snelutoronto-ca/\">\n",
      "                          <span>\n",
      "                           Phill Snel\n",
      "                          </span>\n",
      "                         </a>\n",
      "                        </span>\n",
      "                        <span>\n",
      "                         |\n",
      "                        </span>\n",
      "                        <span class=\"pp-content-grid-date pp-post-date\">\n",
      "                         August 29, 2024\n",
      "                        </span>\n",
      "                       </div>\n",
      "                      </div>\n",
      "                     </div>\n",
      "                    </div>\n",
      "                    <div class=\"pp-content-post pp-content-grid-post pp-post-2n pp-grid-style-7 post-40480 post type-post status-publish format-standard has-post-thumbnail hentry category-news tag-camp tag-cme358 tag-cme358h1 tag-gull-lake tag-survey-camp\" data-id=\"40480\" itemscope=\"\" itemtype=\"https://schema.org/BlogPosting\">\n",
      "                     <meta content=\"Camp in full swing\" itemid=\"http://40480\" itemprop=\"mainEntityOfPage\" itemscope=\"\" itemtype=\"https://schema.org/WebPage\"/>\n",
      "                     <meta content=\"2024-08-27\" itemprop=\"datePublished\"/>\n",
      "                     <meta content=\"2024-08-29\" itemprop=\"dateModified\"/>\n",
      "                     <div itemprop=\"publisher\" itemscope=\"\" itemtype=\"https://schema.org/Organization\">\n",
      "                      <meta content=\"Department of Civil &amp; Mineral Engineering\" itemprop=\"name\"/>\n",
      "                     </div>\n",
      "                     <div itemprop=\"author\" itemscope=\"\" itemtype=\"https://schema.org/Person\">\n",
      "                      <meta content=\"https://civmin.utoronto.ca/author/phill-snelutoronto-ca/\" itemprop=\"url\">\n",
      "                       <meta content=\"Phill Snel\" itemprop=\"name\"/>\n",
      "                      </meta>\n",
      "                     </div>\n",
      "                     <div itemprop=\"image\" itemscope=\"\" itemtype=\"https://schema.org/ImageObject\">\n",
      "                      <meta content=\"https://civmin.utoronto.ca/wp-content/uploads/2024/08/Camp-Highway-Curve-SQ_K8A8102.jpg\" itemprop=\"url\"/>\n",
      "                      <meta content=\"1274\" itemprop=\"width\"/>\n",
      "                      <meta content=\"1274\" itemprop=\"height\"/>\n",
      "                     </div>\n",
      "                     <div itemprop=\"interactionStatistic\" itemscope=\"\" itemtype=\"https://schema.org/InteractionCounter\">\n",
      "                      <meta content=\"https://schema.org/CommentAction\" itemprop=\"interactionType\"/>\n",
      "                      <meta content=\"0\" itemprop=\"userInteractionCount\"/>\n",
      "                     </div>\n",
      "                     <a class=\"pp-post-link\" href=\"https://civmin.utoronto.ca/camp-in-full-swing/\" title=\"Camp in full swing\">\n",
      "                     </a>\n",
      "                     <div class=\"pp-content-grid-image pp-post-image\">\n",
      "                      <div class=\"pp-post-featured-img\">\n",
      "                       <div class=\"fl-photo fl-photo-crop-square fl-photo-align-center\" itemscope=\"\" itemtype=\"https://schema.org/ImageObject\">\n",
      "                        <div class=\"fl-photo-content fl-photo-img-jpg\">\n",
      "                         <img alt=\"GULL LAKE (near Minden, Ontario), AUGUST 12-14, 2024 — UNIVERSITY OF TORONTO CAMP — Images from U of T Camp on Gull Lake, near Minden, Ontario from August 12 to 14, 2024. Department of Civil &amp;amp; Mineral Engineering students take the course, CME358 Civil And Mineral Practicals (CAMP) every August. The course was previously known as Survey Camp.  (Photo by Phill Snel, CivMin/University of Toronto) *some images by Galina Nikitina too\" class=\"fl-photo-img wp-image-40508 size-large pp-post-img no-lazyload\" data-no-lazy=\"1\" decoding=\"async\" height=\"1024\" itemprop=\"image\" loading=\"lazy\" src=\"https://civmin.utoronto.ca/wp-content/uploads/bb-plugin/cache/Camp-Highway-Curve-SQ_K8A8102-1024x1024-square-8cd6c18b9d23c123a7d305c6ddcdec54-.jpg\" title=\"Camp Highway Curve - SQ_K8A8102\" width=\"1024\"/>\n",
      "                        </div>\n",
      "                       </div>\n",
      "                      </div>\n",
      "                     </div>\n",
      "                     <div class=\"pp-content-grid-inner pp-content-body clearfix\">\n",
      "                      <div class=\"pp-content-post-data\">\n",
      "                       <h3 class=\"pp-content-grid-title pp-post-title\" itemprop=\"headline\">\n",
      "                        Camp in full swing\n",
      "                       </h3>\n",
      "                       <div class=\"pp-content-post-meta pp-post-meta\">\n",
      "                        <span class=\"pp-content-post-author pp-post-author\">\n",
      "                         By\n",
      "                         <a href=\"https://civmin.utoronto.ca/author/phill-snelutoronto-ca/\">\n",
      "                          <span>\n",
      "                           Phill Snel\n",
      "                          </span>\n",
      "                         </a>\n",
      "                        </span>\n",
      "                        <span>\n",
      "                         |\n",
      "                        </span>\n",
      "                        <span class=\"pp-content-grid-date pp-post-date\">\n",
      "                         August 27, 2024\n",
      "                        </span>\n",
      "                       </div>\n",
      "                      </div>\n",
      "                     </div>\n",
      "                    </div>\n",
      "                    <div class=\"pp-content-post pp-content-grid-post pp-grid-style-7 post-40461 post type-post status-publish format-standard has-post-thumbnail hentry category-faculty category-news tag-connaught tag-connaught-new-researcher-awards tag-mohammed-basheer tag-sarah-haines\" data-id=\"40461\" itemscope=\"\" itemtype=\"https://schema.org/BlogPosting\">\n",
      "                     <meta content=\"CivMin professors receive Connaught New Researcher Awards\" itemid=\"http://40461\" itemprop=\"mainEntityOfPage\" itemscope=\"\" itemtype=\"https://schema.org/WebPage\"/>\n",
      "                     <meta content=\"2024-08-23\" itemprop=\"datePublished\"/>\n",
      "                     <meta content=\"2024-08-23\" itemprop=\"dateModified\"/>\n",
      "                     <div itemprop=\"publisher\" itemscope=\"\" itemtype=\"https://schema.org/Organization\">\n",
      "                      <meta content=\"Department of Civil &amp; Mineral Engineering\" itemprop=\"name\"/>\n",
      "                     </div>\n",
      "                     <div itemprop=\"author\" itemscope=\"\" itemtype=\"https://schema.org/Person\">\n",
      "                      <meta content=\"https://civmin.utoronto.ca/author/phill-snelutoronto-ca/\" itemprop=\"url\">\n",
      "                       <meta content=\"Phill Snel\" itemprop=\"name\"/>\n",
      "                      </meta>\n",
      "                     </div>\n",
      "                     <div itemprop=\"image\" itemscope=\"\" itemtype=\"https://schema.org/ImageObject\">\n",
      "                      <meta content=\"https://civmin.utoronto.ca/wp-content/uploads/2024/08/Haines-Basheer-sq-copy-2.jpg\" itemprop=\"url\"/>\n",
      "                      <meta content=\"1101\" itemprop=\"width\"/>\n",
      "                      <meta content=\"1101\" itemprop=\"height\"/>\n",
      "                     </div>\n",
      "                     <div itemprop=\"interactionStatistic\" itemscope=\"\" itemtype=\"https://schema.org/InteractionCounter\">\n",
      "                      <meta content=\"https://schema.org/CommentAction\" itemprop=\"interactionType\"/>\n",
      "                      <meta content=\"0\" itemprop=\"userInteractionCount\"/>\n",
      "                     </div>\n",
      "                     <a class=\"pp-post-link\" href=\"https://civmin.utoronto.ca/civmin-professors-receive-connaught-new-researcher-awards/\" title=\"CivMin professors receive Connaught New Researcher Awards\">\n",
      "                     </a>\n",
      "                     <div class=\"pp-content-grid-image pp-post-image\">\n",
      "                      <div class=\"pp-post-featured-img\">\n",
      "                       <div class=\"fl-photo fl-photo-crop-square fl-photo-align-center\" itemscope=\"\" itemtype=\"https://schema.org/ImageObject\">\n",
      "                        <div class=\"fl-photo-content fl-photo-img-jpg\">\n",
      "                         <img alt=\"TORONTO, ONTARIO, CANADA; SEPTEMBER 28, 2023  — CIVMIN NEW PROFESSOR— An image of CivMin’s newest professor, Mohammed Basheer, during his first visit to U of T on Thursday, September 28, 2023.  (Photo by Phill Snel / Department of Civil &amp;amp; Mineral Engineering, University of Toronto)\" class=\"fl-photo-img wp-image-40470 size-large pp-post-img no-lazyload\" data-no-lazy=\"1\" decoding=\"async\" height=\"1024\" itemprop=\"image\" loading=\"lazy\" src=\"https://civmin.utoronto.ca/wp-content/uploads/bb-plugin/cache/Haines-Basheer-sq-copy-2-1024x1024-square-88505300a4e0249ceda5238a313296da-.jpg\" title=\"Haines &amp; Basheer-sq copy\" width=\"1024\"/>\n",
      "                        </div>\n",
      "                       </div>\n",
      "                      </div>\n",
      "                     </div>\n",
      "                     <div class=\"pp-content-grid-inner pp-content-body clearfix\">\n",
      "                      <div class=\"pp-content-post-data\">\n",
      "                       <h3 class=\"pp-content-grid-title pp-post-title\" itemprop=\"headline\">\n",
      "                        CivMin professors receive Connaught New Researcher Awards\n",
      "                       </h3>\n",
      "                       <div class=\"pp-content-post-meta pp-post-meta\">\n",
      "                        <span class=\"pp-content-post-author pp-post-author\">\n",
      "                         By\n",
      "                         <a href=\"https://civmin.utoronto.ca/author/phill-snelutoronto-ca/\">\n",
      "                          <span>\n",
      "                           Phill Snel\n",
      "                          </span>\n",
      "                         </a>\n",
      "                        </span>\n",
      "                        <span>\n",
      "                         |\n",
      "                        </span>\n",
      "                        <span class=\"pp-content-grid-date pp-post-date\">\n",
      "                         August 23, 2024\n",
      "                        </span>\n",
      "                       </div>\n",
      "                      </div>\n",
      "                     </div>\n",
      "                    </div>\n",
      "                    <div class=\"pp-content-post pp-content-grid-post pp-post-2n pp-grid-style-7 post-40308 post type-post status-publish format-standard has-post-thumbnail hentry category-news tag-civmin tag-evan-bentz tag-undergraduate-experience tag-vice-dean-undergraduate\" data-id=\"40308\" itemscope=\"\" itemtype=\"https://schema.org/BlogPosting\">\n",
      "                     <meta content=\"Training for the future: Meet Vice-Dean, Undergraduate Evan Bentz\" itemid=\"http://40308\" itemprop=\"mainEntityOfPage\" itemscope=\"\" itemtype=\"https://schema.org/WebPage\"/>\n",
      "                     <meta content=\"2024-08-16\" itemprop=\"datePublished\"/>\n",
      "                     <meta content=\"2024-08-16\" itemprop=\"dateModified\"/>\n",
      "                     <div itemprop=\"publisher\" itemscope=\"\" itemtype=\"https://schema.org/Organization\">\n",
      "                      <meta content=\"Department of Civil &amp; Mineral Engineering\" itemprop=\"name\"/>\n",
      "                     </div>\n",
      "                     <div itemprop=\"author\" itemscope=\"\" itemtype=\"https://schema.org/Person\">\n",
      "                      <meta content=\"https://civmin.utoronto.ca/author/galina-nikitina/\" itemprop=\"url\">\n",
      "                       <meta content=\"Galina Nikitina\" itemprop=\"name\"/>\n",
      "                      </meta>\n",
      "                     </div>\n",
      "                     <div itemprop=\"image\" itemscope=\"\" itemtype=\"https://schema.org/ImageObject\">\n",
      "                      <meta content=\"https://civmin.utoronto.ca/wp-content/uploads/2024/08/Screen-Shot-2024-08-16-at-2.54.27-PM.png\" itemprop=\"url\"/>\n",
      "                      <meta content=\"1016\" itemprop=\"width\"/>\n",
      "                      <meta content=\"710\" itemprop=\"height\"/>\n",
      "                     </div>\n",
      "                     <div itemprop=\"interactionStatistic\" itemscope=\"\" itemtype=\"https://schema.org/InteractionCounter\">\n",
      "                      <meta content=\"https://schema.org/CommentAction\" itemprop=\"interactionType\"/>\n",
      "                      <meta content=\"0\" itemprop=\"userInteractionCount\"/>\n",
      "                     </div>\n",
      "                     <a class=\"pp-post-link\" href=\"https://civmin.utoronto.ca/training-for-the-future-meet-vice-dean-undergraduate-evan-bentz/\" title=\"Training for the future: Meet Vice-Dean, Undergraduate Evan Bentz\">\n",
      "                     </a>\n",
      "                     <div class=\"pp-content-grid-image pp-post-image\">\n",
      "                      <div class=\"pp-post-featured-img\">\n",
      "                       <div class=\"fl-photo fl-photo-crop-square fl-photo-align-center\" itemscope=\"\" itemtype=\"https://schema.org/ImageObject\">\n",
      "                        <div class=\"fl-photo-content fl-photo-img-png\">\n",
      "                         <img alt=\"Screen Shot 2024-08-16 at 2.54.27 PM\" class=\"fl-photo-img wp-image-40309 size-full pp-post-img no-lazyload\" data-no-lazy=\"1\" decoding=\"async\" height=\"710\" itemprop=\"image\" loading=\"lazy\" src=\"https://civmin.utoronto.ca/wp-content/uploads/bb-plugin/cache/Screen-Shot-2024-08-16-at-2.54.27-PM-square-c7bf9593c3c53f680cac5b5b33864167-.png\" title=\"Screen Shot 2024-08-16 at 2.54.27 PM\" width=\"1016\"/>\n",
      "                        </div>\n",
      "                       </div>\n",
      "                      </div>\n",
      "                     </div>\n",
      "                     <div class=\"pp-content-grid-inner pp-content-body clearfix\">\n",
      "                      <div class=\"pp-content-post-data\">\n",
      "                       <h3 class=\"pp-content-grid-title pp-post-title\" itemprop=\"headline\">\n",
      "                        Training for the future: Meet Vice-Dean, Undergraduate Evan Bentz\n",
      "                       </h3>\n",
      "                       <div class=\"pp-content-post-meta pp-post-meta\">\n",
      "                        <span class=\"pp-content-post-author pp-post-author\">\n",
      "                         By\n",
      "                         <a href=\"https://civmin.utoronto.ca/author/galina-nikitina/\">\n",
      "                          <span>\n",
      "                           Galina Nikitina\n",
      "                          </span>\n",
      "                         </a>\n",
      "                        </span>\n",
      "                        <span>\n",
      "                         |\n",
      "                        </span>\n",
      "                        <span class=\"pp-content-grid-date pp-post-date\">\n",
      "                         August 16, 2024\n",
      "                        </span>\n",
      "                       </div>\n",
      "                      </div>\n",
      "                     </div>\n",
      "                    </div>\n",
      "                   </div>\n",
      "                   <div class=\"fl-clear\">\n",
      "                   </div>\n",
      "                   <div class=\"pp-content-grid-pagination fl-builder-pagination\">\n",
      "                   </div>\n",
      "                  </div>\n",
      "                  <!-- .pp-content-posts -->\n",
      "                 </div>\n",
      "                </div>\n",
      "               </div>\n",
      "              </div>\n",
      "             </div>\n",
      "             <div class=\"fl-col fl-node-pxa3jebm5q8s fl-col-small\" data-node=\"pxa3jebm5q8s\">\n",
      "              <div class=\"fl-col-content fl-node-content\">\n",
      "               <div class=\"fl-module fl-module-heading fl-node-yd5lkpc3q6gw\" data-node=\"yd5lkpc3q6gw\">\n",
      "                <div class=\"fl-module-content fl-node-content\">\n",
      "                 <h2 class=\"fl-heading\">\n",
      "                  <span class=\"fl-heading-text\">\n",
      "                   Upcoming Events\n",
      "                  </span>\n",
      "                 </h2>\n",
      "                </div>\n",
      "               </div>\n",
      "               <div class=\"fl-module fl-module-widget fl-node-81uslkv6jfpm\" data-node=\"81uslkv6jfpm\">\n",
      "                <div class=\"fl-module-content fl-node-content\">\n",
      "                 <div class=\"fl-widget\">\n",
      "                  <div class=\"tribe-compatibility-container\">\n",
      "                   <div class=\"tribe-common tribe-events tribe-events-view tribe-events-view--widget-events-list tribe-events-widget\" data-js=\"tribe-events-view\" data-view-breakpoint-pointer=\"ace1e347-068d-4216-ba5d-368d3f82e2de\" data-view-manage-url=\"1\" data-view-rest-url=\"https://civmin.utoronto.ca/wp-json/tribe/views/v2/html\">\n",
      "                    <div class=\"tribe-events-widget-events-list\">\n",
      "                     <script type=\"application/ld+json\">\n",
      "                      [{\"@context\":\"http://schema.org\",\"@type\":\"Event\",\"name\":\"MASc thesis presentation by Jack Tattersall: Quantitative Method for Assessing the Quality of Intermodal/Interagency Connections and Service Integration at Suburban Rail Stations (\",\"description\":\"&lt;p&gt;Quantitative Method for Assessing the Quality of Intermodal/Interagency Connections and Service Integration at Suburban Rail Stations (MASc thesis presentation) Candidate: Jack Tattersall Supervisor: Professor Amer Shalaby Friday, September 13, 2024\\u00a0at [&hellip;]&lt;/p&gt;\\\\n\",\"url\":\"https://civmin.utoronto.ca/event/masc-thesis-presentation-by-jack-tattersall-quantitative-method-for-assessing-the-quality-of-intermodal-interagency-connections-and-service-integration-at-suburban-rail-stations/\",\"eventAttendanceMode\":\"https://schema.org/OfflineEventAttendanceMode\",\"eventStatus\":\"https://schema.org/EventScheduled\",\"startDate\":\"2024-09-13T11:00:00-04:00\",\"endDate\":\"2024-09-13T12:00:00-04:00\",\"performer\":\"Organization\"},{\"@context\":\"http://schema.org\",\"@type\":\"Event\",\"name\":\"GHD &#8211; Info session for students\",\"description\":\"&lt;p&gt;Info session: GHD Friday, September 13, 2024 at noon GB202, Galbraith Building Pizza and drinks provided. RSVP FORM\\u00a0(UTORid required) (for dietary needs and numbers)&lt;/p&gt;\\\\n\",\"url\":\"https://civmin.utoronto.ca/event/ghd-info-session-for-students/\",\"eventAttendanceMode\":\"https://schema.org/OfflineEventAttendanceMode\",\"eventStatus\":\"https://schema.org/EventScheduled\",\"startDate\":\"2024-09-13T12:00:00-04:00\",\"endDate\":\"2024-09-13T14:00:00-04:00\",\"performer\":\"Organization\"},{\"@context\":\"http://schema.org\",\"@type\":\"Event\",\"name\":\"Indian Horse &#8211; film screening\",\"description\":\"&lt;p&gt;In honour of National Day for Truth and Reconciliation, experience community, culture, and connection at a\\u00a0screening of the award-winning film\\u00a0Indian Horse\\u00a0(2017) on Monday September 16, brought to you by the [&hellip;]&lt;/p&gt;\\\\n\",\"url\":\"https://civmin.utoronto.ca/event/indian-horse-film-screening/\",\"eventAttendanceMode\":\"https://schema.org/OfflineEventAttendanceMode\",\"eventStatus\":\"https://schema.org/EventScheduled\",\"startDate\":\"2024-09-16T17:30:00-04:00\",\"endDate\":\"2024-09-16T20:30:00-04:00\",\"performer\":\"Organization\"},{\"@context\":\"http://schema.org\",\"@type\":\"Event\",\"name\":\"Suncor Energy &#8211; info session for students\",\"description\":\"&lt;p&gt;Info session: Suncor Energy Tuesday, September 17, 2024 \\u00a0at 5:30 p.m. GB117, Galbraith Building Pizza and drinks provided. RSVP FORM\\u00a0\\u00a0\\u00a0(UTORid required) (for dietary needs and numbers) We\\\\'re reaching to especially [&hellip;]&lt;/p&gt;\\\\n\",\"url\":\"https://civmin.utoronto.ca/event/suncor-energy-info-session-for-students/\",\"eventAttendanceMode\":\"https://schema.org/OfflineEventAttendanceMode\",\"eventStatus\":\"https://schema.org/EventScheduled\",\"startDate\":\"2024-09-17T17:00:00-04:00\",\"endDate\":\"2024-09-17T19:00:00-04:00\",\"performer\":\"Organization\"},{\"@context\":\"http://schema.org\",\"@type\":\"Event\",\"name\":\"PhD Departmental Defence by Luca Markus: Parametric Investigation of Efficiency in Post-Tensioned Concrete Bridges\",\"description\":\"&lt;p&gt;Parametric Investigation of Efficiency in Post-Tensioned Concrete Bridges (PhD Departmental Defence) Candidate: Luca Markus Supervisor: Professor Paul Gauvreau Friday, September 27, 2024 at\\u00a02 p.m. Join the Teams meeting\\u00a0 \\u00a0\\u00a0Meeting ID:\\u00a0267 [&hellip;]&lt;/p&gt;\\\\n\",\"url\":\"https://civmin.utoronto.ca/event/phd-departmental-defence-by-luca-markus-parametric-investigation-of-efficiency-in-post-tensioned-concrete-bridges/\",\"eventAttendanceMode\":\"https://schema.org/OfflineEventAttendanceMode\",\"eventStatus\":\"https://schema.org/EventScheduled\",\"startDate\":\"2024-09-27T14:00:00-04:00\",\"endDate\":\"2024-09-27T15:00:00-04:00\",\"performer\":\"Organization\"}]\n",
      "                     </script>\n",
      "                     <script data-js=\"tribe-events-view-data\" type=\"application/json\">\n",
      "                      {\"slug\":\"widget-events-list\",\"prev_url\":\"\",\"next_url\":\"https:\\/\\/civmin.utoronto.ca\\/?post_type=tribe_events&eventDisplay=widget-events-list&paged=2\",\"view_class\":\"Tribe\\\\Events\\\\Views\\\\V2\\\\Views\\\\Widgets\\\\Widget_List_View\",\"view_slug\":\"widget-events-list\",\"view_label\":\"View\",\"view\":null,\"should_manage_url\":true,\"id\":null,\"alias-slugs\":null,\"title\":\"Department of Civil & Mineral Engineering\",\"limit\":\"5\",\"no_upcoming_events\":false,\"featured_events_only\":false,\"jsonld_enable\":true,\"tribe_is_list_widget\":false,\"admin_fields\":{\"title\":{\"label\":\"Title:\",\"type\":\"text\",\"classes\":\"\",\"dependency\":\"\",\"id\":\"widget-tribe-widget-events-list--1-title\",\"name\":\"widget-tribe-widget-events-list[-1][title]\",\"options\":[],\"placeholder\":\"\",\"value\":null},\"limit\":{\"label\":\"Show:\",\"type\":\"number\",\"default\":5,\"min\":1,\"max\":10,\"step\":1,\"classes\":\"\",\"dependency\":\"\",\"id\":\"widget-tribe-widget-events-list--1-limit\",\"name\":\"widget-tribe-widget-events-list[-1][limit]\",\"options\":[],\"placeholder\":\"\",\"value\":null},\"no_upcoming_events\":{\"label\":\"Hide this widget if there are no upcoming events.\",\"type\":\"checkbox\",\"classes\":\"\",\"dependency\":\"\",\"id\":\"widget-tribe-widget-events-list--1-no_upcoming_events\",\"name\":\"widget-tribe-widget-events-list[-1][no_upcoming_events]\",\"options\":[],\"placeholder\":\"\",\"value\":null},\"featured_events_only\":{\"label\":\"Limit to featured events only\",\"type\":\"checkbox\",\"classes\":\"\",\"dependency\":\"\",\"id\":\"widget-tribe-widget-events-list--1-featured_events_only\",\"name\":\"widget-tribe-widget-events-list[-1][featured_events_only]\",\"options\":[],\"placeholder\":\"\",\"value\":null},\"jsonld_enable\":{\"label\":\"Generate JSON-LD data\",\"type\":\"checkbox\",\"classes\":\"\",\"dependency\":\"\",\"id\":\"widget-tribe-widget-events-list--1-jsonld_enable\",\"name\":\"widget-tribe-widget-events-list[-1][jsonld_enable]\",\"options\":[],\"placeholder\":\"\",\"value\":null}},\"events\":[40422,40305,40475,40662,40852],\"url\":\"https:\\/\\/civmin.utoronto.ca\\/?post_type=tribe_events&eventDisplay=widget-events-list\",\"url_event_date\":false,\"bar\":{\"keyword\":\"\",\"date\":\"\"},\"today\":\"2024-09-13 00:00:00\",\"now\":\"2024-09-13 00:54:07\",\"rest_url\":\"https:\\/\\/civmin.utoronto.ca\\/wp-json\\/tribe\\/views\\/v2\\/html\",\"rest_method\":\"POST\",\"rest_nonce\":\"\",\"today_url\":\"https:\\/\\/civmin.utoronto.ca\\/?post_type=tribe_events&eventDisplay=widget-events-list\",\"today_title\":\"Click to select today's date\",\"today_label\":\"Today\",\"prev_label\":\"\",\"next_label\":\"\",\"date_formats\":{\"compact\":\"m\\/d\\/Y\",\"month_and_year_compact\":\"m\\/Y\",\"month_and_year\":\"F Y\",\"time_range_separator\":\" - \",\"date_time_separator\":\" @ \"},\"messages\":[],\"start_of_week\":\"0\",\"header_title\":\"\",\"header_title_element\":\"h1\",\"content_title\":\"\",\"breadcrumbs\":[],\"before_events\":\"\",\"after_events\":\"\\n<!--\\nThis calendar is powered by The Events Calendar.\\nhttp:\\/\\/evnt.is\\/18wn\\n-->\\n\",\"display_events_bar\":false,\"disable_event_search\":true,\"live_refresh\":true,\"ical\":{\"display_link\":true,\"link\":{\"url\":\"https:\\/\\/civmin.utoronto.ca\\/?post_type=tribe_events&#038;eventDisplay=widget-events-list&#038;ical=1\",\"text\":\"Export Events\",\"title\":\"Use this to share calendar data with Google Calendar, Apple iCal and other compatible apps\"}},\"container_classes\":[\"tribe-common\",\"tribe-events\",\"tribe-events-view\",\"tribe-events-view--widget-events-list\",\"tribe-events-widget\"],\"container_data\":[],\"is_past\":false,\"breakpoints\":{\"xsmall\":500,\"medium\":768,\"full\":960},\"breakpoint_pointer\":\"ace1e347-068d-4216-ba5d-368d3f82e2de\",\"is_initial_load\":true,\"public_views\":{\"list\":{\"view_class\":\"Tribe\\\\Events\\\\Views\\\\V2\\\\Views\\\\List_View\",\"view_url\":\"https:\\/\\/civmin.utoronto.ca\\/events\\/list\\/\",\"view_label\":\"List\"},\"month\":{\"view_class\":\"Tribe\\\\Events\\\\Views\\\\V2\\\\Views\\\\Month_View\",\"view_url\":\"https:\\/\\/civmin.utoronto.ca\\/events\\/month\\/\",\"view_label\":\"Month\"}},\"show_latest_past\":false,\"compatibility_classes\":[\"tribe-compatibility-container\"],\"view_more_text\":\"View Calendar\",\"view_more_title\":\"View more events.\",\"view_more_link\":\"https:\\/\\/civmin.utoronto.ca\\/events\\/\",\"widget_title\":\"\",\"hide_if_no_upcoming_events\":false,\"display\":[],\"subscribe_links\":{\"gcal\":{\"label\":\"Google Calendar\",\"single_label\":\"Add to Google Calendar\",\"visible\":true,\"block_slug\":\"hasGoogleCalendar\"},\"ical\":{\"label\":\"iCalendar\",\"single_label\":\"Add to iCalendar\",\"visible\":true,\"block_slug\":\"hasiCal\"},\"outlook-365\":{\"label\":\"Outlook 365\",\"single_label\":\"Outlook 365\",\"visible\":true,\"block_slug\":\"hasOutlook365\"},\"outlook-live\":{\"label\":\"Outlook Live\",\"single_label\":\"Outlook Live\",\"visible\":true,\"block_slug\":\"hasOutlookLive\"},\"ics\":{\"label\":\"Export .ics file\",\"single_label\":\"Export .ics file\",\"visible\":true,\"block_slug\":null},\"outlook-ics\":{\"label\":\"Export Outlook .ics file\",\"single_label\":\"Export Outlook .ics file\",\"visible\":true,\"block_slug\":null}},\"_context\":{\"slug\":\"widget-events-list\"}}\n",
      "                     </script>\n",
      "                     <div class=\"tribe-events-widget-events-list__events\">\n",
      "                      <div class=\"tribe-common-g-row tribe-events-widget-events-list__event-row\">\n",
      "                       <div class=\"tribe-events-widget-events-list__event-date-tag tribe-common-g-col\">\n",
      "                        <time class=\"tribe-events-widget-events-list__event-date-tag-datetime\" datetime=\"2024-09-13\">\n",
      "                         <span class=\"tribe-events-widget-events-list__event-date-tag-month\">\n",
      "                          Sep\n",
      "                         </span>\n",
      "                         <span class=\"tribe-events-widget-events-list__event-date-tag-daynum tribe-common-h2 tribe-common-h4--min-medium\">\n",
      "                          13\n",
      "                         </span>\n",
      "                        </time>\n",
      "                       </div>\n",
      "                       <div class=\"tribe-events-widget-events-list__event-wrapper tribe-common-g-col\">\n",
      "                        <article class=\"tribe-events-widget-events-list__event post-40422 tribe_events type-tribe_events status-publish hentry tribe_events_cat-events tribe_events_cat-featured\">\n",
      "                         <div class=\"tribe-events-widget-events-list__event-details\">\n",
      "                          <header class=\"tribe-events-widget-events-list__event-header\">\n",
      "                           <div class=\"tribe-events-widget-events-list__event-datetime-wrapper tribe-common-b2 tribe-common-b3--min-medium\">\n",
      "                            <time class=\"tribe-events-widget-events-list__event-datetime\" datetime=\"2024-09-13\">\n",
      "                             <span class=\"tribe-event-date-start\">\n",
      "                              11:00 am\n",
      "                             </span>\n",
      "                             -\n",
      "                             <span class=\"tribe-event-time\">\n",
      "                              12:00 pm\n",
      "                             </span>\n",
      "                            </time>\n",
      "                           </div>\n",
      "                           <h3 class=\"tribe-events-widget-events-list__event-title tribe-common-h7\">\n",
      "                            <a class=\"tribe-events-widget-events-list__event-title-link tribe-common-anchor-thin\" href=\"https://civmin.utoronto.ca/event/masc-thesis-presentation-by-jack-tattersall-quantitative-method-for-assessing-the-quality-of-intermodal-interagency-connections-and-service-integration-at-suburban-rail-stations/\" rel=\"bookmark\" title=\"MASc thesis presentation by Jack Tattersall: Quantitative Method for Assessing the Quality of Intermodal/Interagency Connections and Service Integration at Suburban Rail Stations (\">\n",
      "                             MASc thesis presentation by Jack Tattersall: Quantitative Method for Assessing the Quality of Intermodal/Interagency Connections and Service Integration at Suburban Rail Stations (\n",
      "                            </a>\n",
      "                           </h3>\n",
      "                          </header>\n",
      "                         </div>\n",
      "                        </article>\n",
      "                       </div>\n",
      "                      </div>\n",
      "                      <div class=\"tribe-common-g-row tribe-events-widget-events-list__event-row\">\n",
      "                       <div class=\"tribe-events-widget-events-list__event-date-tag tribe-common-g-col\">\n",
      "                        <time class=\"tribe-events-widget-events-list__event-date-tag-datetime\" datetime=\"2024-09-13\">\n",
      "                         <span class=\"tribe-events-widget-events-list__event-date-tag-month\">\n",
      "                          Sep\n",
      "                         </span>\n",
      "                         <span class=\"tribe-events-widget-events-list__event-date-tag-daynum tribe-common-h2 tribe-common-h4--min-medium\">\n",
      "                          13\n",
      "                         </span>\n",
      "                        </time>\n",
      "                       </div>\n",
      "                       <div class=\"tribe-events-widget-events-list__event-wrapper tribe-common-g-col\">\n",
      "                        <article class=\"tribe-events-widget-events-list__event post-40305 tribe_events type-tribe_events status-publish hentry tribe_events_cat-events tribe_events_cat-featured\">\n",
      "                         <div class=\"tribe-events-widget-events-list__event-details\">\n",
      "                          <header class=\"tribe-events-widget-events-list__event-header\">\n",
      "                           <div class=\"tribe-events-widget-events-list__event-datetime-wrapper tribe-common-b2 tribe-common-b3--min-medium\">\n",
      "                            <time class=\"tribe-events-widget-events-list__event-datetime\" datetime=\"2024-09-13\">\n",
      "                             <span class=\"tribe-event-date-start\">\n",
      "                              12:00 pm\n",
      "                             </span>\n",
      "                             -\n",
      "                             <span class=\"tribe-event-time\">\n",
      "                              2:00 pm\n",
      "                             </span>\n",
      "                            </time>\n",
      "                           </div>\n",
      "                           <h3 class=\"tribe-events-widget-events-list__event-title tribe-common-h7\">\n",
      "                            <a class=\"tribe-events-widget-events-list__event-title-link tribe-common-anchor-thin\" href=\"https://civmin.utoronto.ca/event/ghd-info-session-for-students/\" rel=\"bookmark\" title=\"GHD – Info session for students\">\n",
      "                             GHD – Info session for students\n",
      "                            </a>\n",
      "                           </h3>\n",
      "                          </header>\n",
      "                         </div>\n",
      "                        </article>\n",
      "                       </div>\n",
      "                      </div>\n",
      "                      <div class=\"tribe-common-g-row tribe-events-widget-events-list__event-row\">\n",
      "                       <div class=\"tribe-events-widget-events-list__event-date-tag tribe-common-g-col\">\n",
      "                        <time class=\"tribe-events-widget-events-list__event-date-tag-datetime\" datetime=\"2024-09-16\">\n",
      "                         <span class=\"tribe-events-widget-events-list__event-date-tag-month\">\n",
      "                          Sep\n",
      "                         </span>\n",
      "                         <span class=\"tribe-events-widget-events-list__event-date-tag-daynum tribe-common-h2 tribe-common-h4--min-medium\">\n",
      "                          16\n",
      "                         </span>\n",
      "                        </time>\n",
      "                       </div>\n",
      "                       <div class=\"tribe-events-widget-events-list__event-wrapper tribe-common-g-col\">\n",
      "                        <article class=\"tribe-events-widget-events-list__event post-40475 tribe_events type-tribe_events status-publish hentry tribe_events_cat-events tribe_events_cat-featured\">\n",
      "                         <div class=\"tribe-events-widget-events-list__event-details\">\n",
      "                          <header class=\"tribe-events-widget-events-list__event-header\">\n",
      "                           <div class=\"tribe-events-widget-events-list__event-datetime-wrapper tribe-common-b2 tribe-common-b3--min-medium\">\n",
      "                            <time class=\"tribe-events-widget-events-list__event-datetime\" datetime=\"2024-09-16\">\n",
      "                             <span class=\"tribe-event-date-start\">\n",
      "                              5:30 pm\n",
      "                             </span>\n",
      "                             -\n",
      "                             <span class=\"tribe-event-time\">\n",
      "                              8:30 pm\n",
      "                             </span>\n",
      "                            </time>\n",
      "                           </div>\n",
      "                           <h3 class=\"tribe-events-widget-events-list__event-title tribe-common-h7\">\n",
      "                            <a class=\"tribe-events-widget-events-list__event-title-link tribe-common-anchor-thin\" href=\"https://civmin.utoronto.ca/event/indian-horse-film-screening/\" rel=\"bookmark\" title=\"Indian Horse – film screening\">\n",
      "                             Indian Horse – film screening\n",
      "                            </a>\n",
      "                           </h3>\n",
      "                          </header>\n",
      "                         </div>\n",
      "                        </article>\n",
      "                       </div>\n",
      "                      </div>\n",
      "                      <div class=\"tribe-common-g-row tribe-events-widget-events-list__event-row\">\n",
      "                       <div class=\"tribe-events-widget-events-list__event-date-tag tribe-common-g-col\">\n",
      "                        <time class=\"tribe-events-widget-events-list__event-date-tag-datetime\" datetime=\"2024-09-17\">\n",
      "                         <span class=\"tribe-events-widget-events-list__event-date-tag-month\">\n",
      "                          Sep\n",
      "                         </span>\n",
      "                         <span class=\"tribe-events-widget-events-list__event-date-tag-daynum tribe-common-h2 tribe-common-h4--min-medium\">\n",
      "                          17\n",
      "                         </span>\n",
      "                        </time>\n",
      "                       </div>\n",
      "                       <div class=\"tribe-events-widget-events-list__event-wrapper tribe-common-g-col\">\n",
      "                        <article class=\"tribe-events-widget-events-list__event post-40662 tribe_events type-tribe_events status-publish hentry tribe_events_cat-events tribe_events_cat-featured\">\n",
      "                         <div class=\"tribe-events-widget-events-list__event-details\">\n",
      "                          <header class=\"tribe-events-widget-events-list__event-header\">\n",
      "                           <div class=\"tribe-events-widget-events-list__event-datetime-wrapper tribe-common-b2 tribe-common-b3--min-medium\">\n",
      "                            <time class=\"tribe-events-widget-events-list__event-datetime\" datetime=\"2024-09-17\">\n",
      "                             <span class=\"tribe-event-date-start\">\n",
      "                              5:00 pm\n",
      "                             </span>\n",
      "                             -\n",
      "                             <span class=\"tribe-event-time\">\n",
      "                              7:00 pm\n",
      "                             </span>\n",
      "                            </time>\n",
      "                           </div>\n",
      "                           <h3 class=\"tribe-events-widget-events-list__event-title tribe-common-h7\">\n",
      "                            <a class=\"tribe-events-widget-events-list__event-title-link tribe-common-anchor-thin\" href=\"https://civmin.utoronto.ca/event/suncor-energy-info-session-for-students/\" rel=\"bookmark\" title=\"Suncor Energy – info session for students\">\n",
      "                             Suncor Energy – info session for students\n",
      "                            </a>\n",
      "                           </h3>\n",
      "                          </header>\n",
      "                         </div>\n",
      "                        </article>\n",
      "                       </div>\n",
      "                      </div>\n",
      "                      <div class=\"tribe-common-g-row tribe-events-widget-events-list__event-row\">\n",
      "                       <div class=\"tribe-events-widget-events-list__event-date-tag tribe-common-g-col\">\n",
      "                        <time class=\"tribe-events-widget-events-list__event-date-tag-datetime\" datetime=\"2024-09-27\">\n",
      "                         <span class=\"tribe-events-widget-events-list__event-date-tag-month\">\n",
      "                          Sep\n",
      "                         </span>\n",
      "                         <span class=\"tribe-events-widget-events-list__event-date-tag-daynum tribe-common-h2 tribe-common-h4--min-medium\">\n",
      "                          27\n",
      "                         </span>\n",
      "                        </time>\n",
      "                       </div>\n",
      "                       <div class=\"tribe-events-widget-events-list__event-wrapper tribe-common-g-col\">\n",
      "                        <article class=\"tribe-events-widget-events-list__event post-40852 tribe_events type-tribe_events status-publish hentry tag-luca-markus tribe_events_cat-events tribe_events_cat-featured\">\n",
      "                         <div class=\"tribe-events-widget-events-list__event-details\">\n",
      "                          <header class=\"tribe-events-widget-events-list__event-header\">\n",
      "                           <div class=\"tribe-events-widget-events-list__event-datetime-wrapper tribe-common-b2 tribe-common-b3--min-medium\">\n",
      "                            <time class=\"tribe-events-widget-events-list__event-datetime\" datetime=\"2024-09-27\">\n",
      "                             <span class=\"tribe-event-date-start\">\n",
      "                              2:00 pm\n",
      "                             </span>\n",
      "                             -\n",
      "                             <span class=\"tribe-event-time\">\n",
      "                              3:00 pm\n",
      "                             </span>\n",
      "                            </time>\n",
      "                           </div>\n",
      "                           <h3 class=\"tribe-events-widget-events-list__event-title tribe-common-h7\">\n",
      "                            <a class=\"tribe-events-widget-events-list__event-title-link tribe-common-anchor-thin\" href=\"https://civmin.utoronto.ca/event/phd-departmental-defence-by-luca-markus-parametric-investigation-of-efficiency-in-post-tensioned-concrete-bridges/\" rel=\"bookmark\" title=\"PhD Departmental Defence by Luca Markus: Parametric Investigation of Efficiency in Post-Tensioned Concrete Bridges\">\n",
      "                             PhD Departmental Defence by Luca Markus: Parametric Investigation of Efficiency in Post-Tensioned Concrete Bridges\n",
      "                            </a>\n",
      "                           </h3>\n",
      "                          </header>\n",
      "                         </div>\n",
      "                        </article>\n",
      "                       </div>\n",
      "                      </div>\n",
      "                     </div>\n",
      "                     <div class=\"tribe-events-widget-events-list__view-more tribe-common-b1 tribe-common-b2--min-medium\">\n",
      "                      <a class=\"tribe-events-widget-events-list__view-more-link tribe-common-anchor-thin\" href=\"https://civmin.utoronto.ca/events/\" title=\"View more events.\">\n",
      "                       View Calendar\n",
      "                      </a>\n",
      "                     </div>\n",
      "                    </div>\n",
      "                   </div>\n",
      "                  </div>\n",
      "                  <script class=\"tribe-events-breakpoints\">\n",
      "                   ( function () {\n",
      "\t\tvar completed = false;\n",
      "\n",
      "\t\tfunction initBreakpoints() {\n",
      "\t\t\tif ( completed ) {\n",
      "\t\t\t\t// This was fired already and completed no need to attach to the event listener.\n",
      "\t\t\t\tdocument.removeEventListener( 'DOMContentLoaded', initBreakpoints );\n",
      "\t\t\t\treturn;\n",
      "\t\t\t}\n",
      "\n",
      "\t\t\tif ( 'undefined' === typeof window.tribe ) {\n",
      "\t\t\t\treturn;\n",
      "\t\t\t}\n",
      "\n",
      "\t\t\tif ( 'undefined' === typeof window.tribe.events ) {\n",
      "\t\t\t\treturn;\n",
      "\t\t\t}\n",
      "\n",
      "\t\t\tif ( 'undefined' === typeof window.tribe.events.views ) {\n",
      "\t\t\t\treturn;\n",
      "\t\t\t}\n",
      "\n",
      "\t\t\tif ( 'undefined' === typeof window.tribe.events.views.breakpoints ) {\n",
      "\t\t\t\treturn;\n",
      "\t\t\t}\n",
      "\n",
      "\t\t\tif ( 'function' !== typeof (window.tribe.events.views.breakpoints.setup) ) {\n",
      "\t\t\t\treturn;\n",
      "\t\t\t}\n",
      "\n",
      "\t\t\tvar container = document.querySelectorAll( '[data-view-breakpoint-pointer=\"ace1e347-068d-4216-ba5d-368d3f82e2de\"]' );\n",
      "\t\t\tif ( ! container ) {\n",
      "\t\t\t\treturn;\n",
      "\t\t\t}\n",
      "\n",
      "\t\t\twindow.tribe.events.views.breakpoints.setup( container );\n",
      "\t\t\tcompleted = true;\n",
      "\t\t\t// This was fired already and completed no need to attach to the event listener.\n",
      "\t\t\tdocument.removeEventListener( 'DOMContentLoaded', initBreakpoints );\n",
      "\t\t}\n",
      "\n",
      "\t\t// Try to init the breakpoints right away.\n",
      "\t\tinitBreakpoints();\n",
      "\t\tdocument.addEventListener( 'DOMContentLoaded', initBreakpoints );\n",
      "\t})();\n",
      "                  </script>\n",
      "                  <script data-js=\"tribe-events-view-nonce-data\" type=\"application/json\">\n",
      "                   {\"_tec_view_rest_nonce_primary\":\"dc84f080a1\",\"_tec_view_rest_nonce_secondary\":\"\"}\n",
      "                  </script>\n",
      "                 </div>\n",
      "                </div>\n",
      "               </div>\n",
      "               <div class=\"fl-module fl-module-heading fl-node-ftepuc7w83m2\" data-node=\"ftepuc7w83m2\">\n",
      "                <div class=\"fl-module-content fl-node-content\">\n",
      "                 <h2 class=\"fl-heading\">\n",
      "                  <a href=\"https://civmin.utoronto.ca/page/in-the-news/\" target=\"_self\" title=\"CivMin Experts In The News\">\n",
      "                   <span class=\"fl-heading-text\">\n",
      "                    CivMin Experts In The News\n",
      "                   </span>\n",
      "                  </a>\n",
      "                 </h2>\n",
      "                </div>\n",
      "               </div>\n",
      "               <div class=\"fl-module fl-module-pp-content-grid fl-node-q50lrmh1sian\" data-node=\"q50lrmh1sian\">\n",
      "                <div class=\"fl-module-content fl-node-content\">\n",
      "                 <div class=\"pp-posts-wrapper\">\n",
      "                  <div class=\"pp-content-posts\" style=\"--items-count: 5;--column-xl: 1;--column-lg: 1;--column-md: 1;--column-sm: 1;\">\n",
      "                   <div class=\"pp-content-post-grid pp-masonry-active clearfix\" itemscope=\"itemscope\" itemtype=\"https://schema.org/Blog\">\n",
      "                    <div class=\"pp-content-post pp-content-grid-post pp-grid-default post-40797 post type-post status-publish format-standard hentry category-in-the-news tag-doug-hooton tag-douglas-hooton tag-r-douglas-hooton\" data-id=\"40797\" itemscope=\"\" itemtype=\"https://schema.org/BlogPosting\">\n",
      "                     <meta content=\"Prof. Emeritus Doug Hooton | Cementing change: Shrinking the eco footprint of one of the world’s most widely used materials\" itemid=\"http://40797\" itemprop=\"mainEntityOfPage\" itemscope=\"\" itemtype=\"https://schema.org/WebPage\"/>\n",
      "                     <meta content=\"2024-09-09\" itemprop=\"datePublished\"/>\n",
      "                     <meta content=\"2024-09-09\" itemprop=\"dateModified\"/>\n",
      "                     <div itemprop=\"publisher\" itemscope=\"\" itemtype=\"https://schema.org/Organization\">\n",
      "                      <meta content=\"Department of Civil &amp; Mineral Engineering\" itemprop=\"name\"/>\n",
      "                     </div>\n",
      "                     <div itemprop=\"author\" itemscope=\"\" itemtype=\"https://schema.org/Person\">\n",
      "                      <meta content=\"https://civmin.utoronto.ca/author/phill-snelutoronto-ca/\" itemprop=\"url\">\n",
      "                       <meta content=\"Phill Snel\" itemprop=\"name\"/>\n",
      "                      </meta>\n",
      "                     </div>\n",
      "                     <div itemprop=\"interactionStatistic\" itemscope=\"\" itemtype=\"https://schema.org/InteractionCounter\">\n",
      "                      <meta content=\"https://schema.org/CommentAction\" itemprop=\"interactionType\"/>\n",
      "                      <meta content=\"0\" itemprop=\"userInteractionCount\"/>\n",
      "                     </div>\n",
      "                     <div class=\"pp-content-grid-inner pp-content-body clearfix\">\n",
      "                      <div class=\"pp-content-post-data\">\n",
      "                       <h6 class=\"pp-content-grid-title pp-post-title\" itemprop=\"headline\">\n",
      "                        <a href=\"https://civmin.utoronto.ca/prof-emeritus-doug-hooton-cementing-change-shrinking-the-eco-footprint-of-one-of-the-worlds-most-widely-used-materials/\" title=\"Prof. Emeritus Doug Hooton | Cementing change: Shrinking the eco footprint of one of the world’s most widely used materials\">\n",
      "                         Prof. Emeritus Doug Hooton | Cementing change: Shrinking the eco footprint of one of the world’s most widely used materials\n",
      "                        </a>\n",
      "                       </h6>\n",
      "                       <div class=\"pp-content-grid-content pp-post-content content-type-excerpt\">\n",
      "                        <p>\n",
      "                         September 4, 2024 | Toronto Star\n",
      "                        </p>\n",
      "                       </div>\n",
      "                      </div>\n",
      "                     </div>\n",
      "                    </div>\n",
      "                    <div class=\"pp-content-post pp-content-grid-post pp-post-2n pp-grid-default post-40610 post type-post status-publish format-standard hentry category-in-the-news tag-bryan-karney\" data-id=\"40610\" itemscope=\"\" itemtype=\"https://schema.org/BlogPosting\">\n",
      "                     <meta content=\"Prof. Bryan Karney | Toronto company using lake water to cool buildings expands system\" itemid=\"http://40610\" itemprop=\"mainEntityOfPage\" itemscope=\"\" itemtype=\"https://schema.org/WebPage\"/>\n",
      "                     <meta content=\"2024-08-30\" itemprop=\"datePublished\"/>\n",
      "                     <meta content=\"2024-08-30\" itemprop=\"dateModified\"/>\n",
      "                     <div itemprop=\"publisher\" itemscope=\"\" itemtype=\"https://schema.org/Organization\">\n",
      "                      <meta content=\"Department of Civil &amp; Mineral Engineering\" itemprop=\"name\"/>\n",
      "                     </div>\n",
      "                     <div itemprop=\"author\" itemscope=\"\" itemtype=\"https://schema.org/Person\">\n",
      "                      <meta content=\"https://civmin.utoronto.ca/author/phill-snelutoronto-ca/\" itemprop=\"url\">\n",
      "                       <meta content=\"Phill Snel\" itemprop=\"name\"/>\n",
      "                      </meta>\n",
      "                     </div>\n",
      "                     <div itemprop=\"interactionStatistic\" itemscope=\"\" itemtype=\"https://schema.org/InteractionCounter\">\n",
      "                      <meta content=\"https://schema.org/CommentAction\" itemprop=\"interactionType\"/>\n",
      "                      <meta content=\"0\" itemprop=\"userInteractionCount\"/>\n",
      "                     </div>\n",
      "                     <div class=\"pp-content-grid-inner pp-content-body clearfix\">\n",
      "                      <div class=\"pp-content-post-data\">\n",
      "                       <h6 class=\"pp-content-grid-title pp-post-title\" itemprop=\"headline\">\n",
      "                        <a href=\"https://civmin.utoronto.ca/prof-bryan-karney-toronto-company-using-lake-water-to-cool-buildings-expands-system/\" title=\"Prof. Bryan Karney | Toronto company using lake water to cool buildings expands system\">\n",
      "                         Prof. Bryan Karney | Toronto company using lake water to cool buildings expands system\n",
      "                        </a>\n",
      "                       </h6>\n",
      "                       <div class=\"pp-content-grid-content pp-post-content content-type-excerpt\">\n",
      "                        <p>\n",
      "                         August 29, 2024 | CBC News\n",
      "                        </p>\n",
      "                       </div>\n",
      "                      </div>\n",
      "                     </div>\n",
      "                    </div>\n",
      "                    <div class=\"pp-content-post pp-content-grid-post pp-grid-default post-40281 post type-post status-publish format-standard hentry category-in-the-news tag-jeff-siegel tag-jeffrey-siegel\" data-id=\"40281\" itemscope=\"\" itemtype=\"https://schema.org/BlogPosting\">\n",
      "                     <meta content=\"Prof. Jeffrey Siegel | Les particules ultrafines causent des maladies et des décès à Montréal et Toronto\" itemid=\"http://40281\" itemprop=\"mainEntityOfPage\" itemscope=\"\" itemtype=\"https://schema.org/WebPage\"/>\n",
      "                     <meta content=\"2024-08-09\" itemprop=\"datePublished\"/>\n",
      "                     <meta content=\"2024-08-09\" itemprop=\"dateModified\"/>\n",
      "                     <div itemprop=\"publisher\" itemscope=\"\" itemtype=\"https://schema.org/Organization\">\n",
      "                      <meta content=\"Department of Civil &amp; Mineral Engineering\" itemprop=\"name\"/>\n",
      "                     </div>\n",
      "                     <div itemprop=\"author\" itemscope=\"\" itemtype=\"https://schema.org/Person\">\n",
      "                      <meta content=\"https://civmin.utoronto.ca/author/phill-snelutoronto-ca/\" itemprop=\"url\">\n",
      "                       <meta content=\"Phill Snel\" itemprop=\"name\"/>\n",
      "                      </meta>\n",
      "                     </div>\n",
      "                     <div itemprop=\"interactionStatistic\" itemscope=\"\" itemtype=\"https://schema.org/InteractionCounter\">\n",
      "                      <meta content=\"https://schema.org/CommentAction\" itemprop=\"interactionType\"/>\n",
      "                      <meta content=\"0\" itemprop=\"userInteractionCount\"/>\n",
      "                     </div>\n",
      "                     <div class=\"pp-content-grid-inner pp-content-body clearfix\">\n",
      "                      <div class=\"pp-content-post-data\">\n",
      "                       <h6 class=\"pp-content-grid-title pp-post-title\" itemprop=\"headline\">\n",
      "                        <a href=\"https://civmin.utoronto.ca/prof-jeffrey-siegel-les-particules-ultrafines-causent-des-maladies-et-des-deces-a-montreal-et-toronto/\" title=\"Prof. Jeffrey Siegel | Les particules ultrafines causent des maladies et des décès à Montréal et Toronto\">\n",
      "                         Prof. Jeffrey Siegel | Les particules ultrafines causent des maladies et des décès à Montréal et Toronto\n",
      "                        </a>\n",
      "                       </h6>\n",
      "                       <div class=\"pp-content-grid-content pp-post-content content-type-excerpt\">\n",
      "                        <p>\n",
      "                         Radio-Canada | August 8, 2024\n",
      "                        </p>\n",
      "                       </div>\n",
      "                      </div>\n",
      "                     </div>\n",
      "                    </div>\n",
      "                    <div class=\"pp-content-post pp-content-grid-post pp-post-2n pp-grid-default post-40279 post type-post status-publish format-standard hentry category-in-the-news tag-jeff-siegel tag-jeffrey-siegel\" data-id=\"40279\" itemscope=\"\" itemtype=\"https://schema.org/BlogPosting\">\n",
      "                     <meta content=\"Prof. Jeffrey Siegel | What are ultrafine particles and how can we mitigate the risk?\" itemid=\"http://40279\" itemprop=\"mainEntityOfPage\" itemscope=\"\" itemtype=\"https://schema.org/WebPage\"/>\n",
      "                     <meta content=\"2024-08-09\" itemprop=\"datePublished\"/>\n",
      "                     <meta content=\"2024-08-09\" itemprop=\"dateModified\"/>\n",
      "                     <div itemprop=\"publisher\" itemscope=\"\" itemtype=\"https://schema.org/Organization\">\n",
      "                      <meta content=\"Department of Civil &amp; Mineral Engineering\" itemprop=\"name\"/>\n",
      "                     </div>\n",
      "                     <div itemprop=\"author\" itemscope=\"\" itemtype=\"https://schema.org/Person\">\n",
      "                      <meta content=\"https://civmin.utoronto.ca/author/phill-snelutoronto-ca/\" itemprop=\"url\">\n",
      "                       <meta content=\"Phill Snel\" itemprop=\"name\"/>\n",
      "                      </meta>\n",
      "                     </div>\n",
      "                     <div itemprop=\"interactionStatistic\" itemscope=\"\" itemtype=\"https://schema.org/InteractionCounter\">\n",
      "                      <meta content=\"https://schema.org/CommentAction\" itemprop=\"interactionType\"/>\n",
      "                      <meta content=\"0\" itemprop=\"userInteractionCount\"/>\n",
      "                     </div>\n",
      "                     <div class=\"pp-content-grid-inner pp-content-body clearfix\">\n",
      "                      <div class=\"pp-content-post-data\">\n",
      "                       <h6 class=\"pp-content-grid-title pp-post-title\" itemprop=\"headline\">\n",
      "                        <a href=\"https://civmin.utoronto.ca/prof-jeffrey-siegel-what-are-ultrafine-particles-and-how-can-we-mitigate-the-risk/\" title=\"Prof. Jeffrey Siegel | What are ultrafine particles and how can we mitigate the risk?\">\n",
      "                         Prof. Jeffrey Siegel | What are ultrafine particles and how can we mitigate the risk?\n",
      "                        </a>\n",
      "                       </h6>\n",
      "                       <div class=\"pp-content-grid-content pp-post-content content-type-excerpt\">\n",
      "                        <p>\n",
      "                         CBC News | August 8, 2024\n",
      "                        </p>\n",
      "                       </div>\n",
      "                      </div>\n",
      "                     </div>\n",
      "                    </div>\n",
      "                    <div class=\"pp-content-post pp-content-grid-post pp-grid-default post-40258 post type-post status-publish format-standard hentry category-in-the-news tag-shoshanna-saxe\" data-id=\"40258\" itemscope=\"\" itemtype=\"https://schema.org/BlogPosting\">\n",
      "                     <meta content=\"Prof. Shoshanna Saxe | More with less: Researchers map a more sustainable path to home construction in Canada\" itemid=\"http://40258\" itemprop=\"mainEntityOfPage\" itemscope=\"\" itemtype=\"https://schema.org/WebPage\"/>\n",
      "                     <meta content=\"2024-08-08\" itemprop=\"datePublished\"/>\n",
      "                     <meta content=\"2024-08-08\" itemprop=\"dateModified\"/>\n",
      "                     <div itemprop=\"publisher\" itemscope=\"\" itemtype=\"https://schema.org/Organization\">\n",
      "                      <meta content=\"Department of Civil &amp; Mineral Engineering\" itemprop=\"name\"/>\n",
      "                     </div>\n",
      "                     <div itemprop=\"author\" itemscope=\"\" itemtype=\"https://schema.org/Person\">\n",
      "                      <meta content=\"https://civmin.utoronto.ca/author/phill-snelutoronto-ca/\" itemprop=\"url\">\n",
      "                       <meta content=\"Phill Snel\" itemprop=\"name\"/>\n",
      "                      </meta>\n",
      "                     </div>\n",
      "                     <div itemprop=\"interactionStatistic\" itemscope=\"\" itemtype=\"https://schema.org/InteractionCounter\">\n",
      "                      <meta content=\"https://schema.org/CommentAction\" itemprop=\"interactionType\"/>\n",
      "                      <meta content=\"0\" itemprop=\"userInteractionCount\"/>\n",
      "                     </div>\n",
      "                     <div class=\"pp-content-grid-inner pp-content-body clearfix\">\n",
      "                      <div class=\"pp-content-post-data\">\n",
      "                       <h6 class=\"pp-content-grid-title pp-post-title\" itemprop=\"headline\">\n",
      "                        <a href=\"https://civmin.utoronto.ca/prof-shoshanna-saxe-more-with-less-researchers-map-a-more-sustainable-path-to-home-construction-in-canada/\" title=\"Prof. Shoshanna Saxe | More with less: Researchers map a more sustainable path to home construction in Canada\">\n",
      "                         Prof. Shoshanna Saxe | More with less: Researchers map a more sustainable path to home construction in Canada\n",
      "                        </a>\n",
      "                       </h6>\n",
      "                       <div class=\"pp-content-grid-content pp-post-content content-type-excerpt\">\n",
      "                        <p>\n",
      "                         Education News Canada | August 7, 2024\n",
      "                        </p>\n",
      "                       </div>\n",
      "                      </div>\n",
      "                     </div>\n",
      "                    </div>\n",
      "                    <div class=\"pp-grid-space\">\n",
      "                    </div>\n",
      "                   </div>\n",
      "                   <div class=\"fl-clear\">\n",
      "                   </div>\n",
      "                  </div>\n",
      "                  <!-- .pp-content-posts -->\n",
      "                 </div>\n",
      "                </div>\n",
      "               </div>\n",
      "              </div>\n",
      "             </div>\n",
      "            </div>\n",
      "            <div class=\"fl-col-group fl-node-jgp57yi09fa6\" data-node=\"jgp57yi09fa6\">\n",
      "             <div class=\"fl-col fl-node-die4qfxabmt0\" data-node=\"die4qfxabmt0\">\n",
      "              <div class=\"fl-col-content fl-node-content\">\n",
      "               <div class=\"fl-module fl-module-pp-line-separator fl-node-k2cibwn4q0h8\" data-node=\"k2cibwn4q0h8\">\n",
      "                <div class=\"fl-module-content fl-node-content\">\n",
      "                 <div class=\"pp-line-separator-wrap\">\n",
      "                  <div class=\"pp-line-separator-inner pp-line-only\">\n",
      "                   <span class=\"pp-line-separator pp-line-only\">\n",
      "                   </span>\n",
      "                  </div>\n",
      "                 </div>\n",
      "                </div>\n",
      "               </div>\n",
      "              </div>\n",
      "             </div>\n",
      "            </div>\n",
      "           </div>\n",
      "          </div>\n",
      "         </div>\n",
      "         <div class=\"fl-row fl-row-full-width fl-row-bg-none fl-node-h05kq2r4amnt fl-row-default-height fl-row-align-center\" data-node=\"h05kq2r4amnt\">\n",
      "          <div class=\"fl-row-content-wrap\">\n",
      "           <div class=\"fl-row-content fl-row-fixed-width fl-node-content\">\n",
      "            <div class=\"fl-col-group fl-node-6plm1he5duki\" data-node=\"6plm1he5duki\">\n",
      "             <div class=\"fl-col fl-node-6b278jag3ctv fl-col-small\" data-node=\"6b278jag3ctv\">\n",
      "              <div class=\"fl-col-content fl-node-content\">\n",
      "               <div class=\"fl-module fl-module-heading fl-node-stylv175wxiu fl-visible-desktop fl-visible-large\" data-node=\"stylv175wxiu\">\n",
      "                <div class=\"fl-module-content fl-node-content\">\n",
      "                 <h2 class=\"fl-heading\">\n",
      "                  <a href=\"https://civmin.utoronto.ca/page/featured/\" target=\"_self\" title=\"Featured\">\n",
      "                   <span class=\"fl-heading-text\">\n",
      "                    Featured\n",
      "                   </span>\n",
      "                  </a>\n",
      "                 </h2>\n",
      "                </div>\n",
      "               </div>\n",
      "               <div class=\"fl-module fl-module-pp-content-grid fl-node-v3x4eh28ylnz fl-visible-desktop fl-visible-large fl-visible-medium\" data-node=\"v3x4eh28ylnz\">\n",
      "                <div class=\"fl-module-content fl-node-content\">\n",
      "                 <div class=\"pp-posts-wrapper\">\n",
      "                  <div class=\"pp-content-posts\" style=\"--items-count: 1;--column-xl: 1;--column-lg: 1;--column-md: 1;--column-sm: 1;\">\n",
      "                   <div class=\"pp-content-post-grid pp-equal-height pp-css-grid\" itemscope=\"itemscope\" itemtype=\"https://schema.org/Blog\">\n",
      "                    <div class=\"pp-content-post pp-content-grid-post pp-grid-default post-34037 post type-post status-publish format-standard has-post-thumbnail hentry category-featured category-news tag-adjustable-multidimensional tag-amd tag-canada-foundation-for-innovation tag-cfi tag-civil-engineering tag-constantin-christopoulos tag-renovation tag-stf tag-structural-testing-facilities tag-structural-testing-facility tag-sustainable-infrastructure\" data-id=\"34037\" itemscope=\"\" itemtype=\"https://schema.org/BlogPosting\">\n",
      "                     <meta content=\"World’s first adjustable multidimensional structural testing system coming to CivMin’s Structural Testing Facilities\" itemid=\"http://34037\" itemprop=\"mainEntityOfPage\" itemscope=\"\" itemtype=\"https://schema.org/WebPage\"/>\n",
      "                     <meta content=\"2023-07-25\" itemprop=\"datePublished\"/>\n",
      "                     <meta content=\"2023-08-03\" itemprop=\"dateModified\"/>\n",
      "                     <div itemprop=\"publisher\" itemscope=\"\" itemtype=\"https://schema.org/Organization\">\n",
      "                      <meta content=\"Department of Civil &amp; Mineral Engineering\" itemprop=\"name\"/>\n",
      "                     </div>\n",
      "                     <div itemprop=\"author\" itemscope=\"\" itemtype=\"https://schema.org/Person\">\n",
      "                      <meta content=\"https://civmin.utoronto.ca/author/phill-snelutoronto-ca/\" itemprop=\"url\">\n",
      "                       <meta content=\"Phill Snel\" itemprop=\"name\"/>\n",
      "                      </meta>\n",
      "                     </div>\n",
      "                     <div itemprop=\"image\" itemscope=\"\" itemtype=\"https://schema.org/ImageObject\">\n",
      "                      <meta content=\"https://civmin.utoronto.ca/wp-content/uploads/2023/07/Screenshot-2023-07-12-at-2.11.35-PM.png\" itemprop=\"url\"/>\n",
      "                      <meta content=\"2092\" itemprop=\"width\"/>\n",
      "                      <meta content=\"1372\" itemprop=\"height\"/>\n",
      "                     </div>\n",
      "                     <div itemprop=\"interactionStatistic\" itemscope=\"\" itemtype=\"https://schema.org/InteractionCounter\">\n",
      "                      <meta content=\"https://schema.org/CommentAction\" itemprop=\"interactionType\"/>\n",
      "                      <meta content=\"0\" itemprop=\"userInteractionCount\"/>\n",
      "                     </div>\n",
      "                     <a class=\"pp-post-link\" href=\"https://civmin.utoronto.ca/worlds-first-amd/\" title=\"World’s first adjustable multidimensional structural testing system coming to CivMin’s Structural Testing Facilities\">\n",
      "                     </a>\n",
      "                     <div class=\"pp-content-grid-image pp-post-image\">\n",
      "                      <div class=\"pp-post-featured-img\">\n",
      "                       <div class=\"fl-photo fl-photo-crop-square fl-photo-align-center\" itemscope=\"\" itemtype=\"https://schema.org/ImageObject\">\n",
      "                        <div class=\"fl-photo-content fl-photo-img-png\">\n",
      "                         <img alt=\"An illustration of the adjustable multidimensional (AMD) testing device to be installed in CivMin's Galbraith side of the Structural Testing Facilities (STF). \" class=\"fl-photo-img wp-image-34970 size-large pp-post-img no-lazyload\" data-no-lazy=\"1\" decoding=\"async\" height=\"672\" itemprop=\"image\" loading=\"lazy\" src=\"https://civmin.utoronto.ca/wp-content/uploads/bb-plugin/cache/Screenshot-2023-07-12-at-2.11.35-PM-1024x672-square-6637875f34da6e8fc8b439c59b755923-.png\" title=\"Screenshot 2023-07-12 at 2.11.35 PM\" width=\"1024\"/>\n",
      "                        </div>\n",
      "                       </div>\n",
      "                      </div>\n",
      "                     </div>\n",
      "                     <div class=\"pp-content-grid-inner pp-content-body clearfix\">\n",
      "                      <div class=\"pp-content-post-data\">\n",
      "                       <h3 class=\"pp-content-grid-title pp-post-title\" itemprop=\"headline\">\n",
      "                        World’s first adjustable multidimensional structural testing system coming to CivMin’s Structural Testing Facilities\n",
      "                       </h3>\n",
      "                       <div class=\"pp-content-post-meta pp-post-meta\">\n",
      "                        <span class=\"pp-content-post-author pp-post-author\">\n",
      "                         By\n",
      "                         <a href=\"https://civmin.utoronto.ca/author/phill-snelutoronto-ca/\">\n",
      "                          <span>\n",
      "                           Phill Snel\n",
      "                          </span>\n",
      "                         </a>\n",
      "                        </span>\n",
      "                        <span>\n",
      "                         |\n",
      "                        </span>\n",
      "                        <span class=\"pp-content-grid-date pp-post-date\">\n",
      "                         July 25, 2023\n",
      "                        </span>\n",
      "                       </div>\n",
      "                      </div>\n",
      "                     </div>\n",
      "                    </div>\n",
      "                   </div>\n",
      "                   <div class=\"fl-clear\">\n",
      "                   </div>\n",
      "                  </div>\n",
      "                  <!-- .pp-content-posts -->\n",
      "                 </div>\n",
      "                </div>\n",
      "               </div>\n",
      "              </div>\n",
      "             </div>\n",
      "             <div class=\"fl-col fl-node-zacirymlohes fl-col-small\" data-node=\"zacirymlohes\">\n",
      "              <div class=\"fl-col-content fl-node-content\">\n",
      "               <div class=\"fl-module fl-module-heading fl-node-5g3xkc9ym1ro fl-visible-desktop fl-visible-large fl-visible-medium\" data-node=\"5g3xkc9ym1ro\">\n",
      "                <div class=\"fl-module-content fl-node-content\">\n",
      "                 <h2 class=\"fl-heading\">\n",
      "                  <a href=\"https://civmin.utoronto.ca/page/people/alumni/\" target=\"_self\" title=\"Alumni Updates\">\n",
      "                   <span class=\"fl-heading-text\">\n",
      "                    Alumni Updates\n",
      "                   </span>\n",
      "                  </a>\n",
      "                 </h2>\n",
      "                </div>\n",
      "               </div>\n",
      "               <div class=\"fl-module fl-module-pp-content-grid fl-node-e5uvfswqob17 fl-visible-desktop fl-visible-large fl-visible-medium\" data-node=\"e5uvfswqob17\">\n",
      "                <div class=\"fl-module-content fl-node-content\">\n",
      "                 <div class=\"pp-posts-wrapper\">\n",
      "                  <div class=\"pp-content-posts\" style=\"--items-count: 1;--column-xl: 1;--column-lg: 1;--column-md: 1;--column-sm: 1;\">\n",
      "                   <div class=\"pp-content-post-grid pp-equal-height pp-css-grid\" itemscope=\"itemscope\" itemtype=\"https://schema.org/Blog\">\n",
      "                    <div class=\"pp-content-post pp-content-grid-post pp-grid-default post-40598 post type-post status-publish format-standard has-post-thumbnail hentry category-alumni category-news tag-alumni tag-alumnus tag-camp tag-gull-lake tag-phil-feldman tag-survey-camp\" data-id=\"40598\" itemscope=\"\" itemtype=\"https://schema.org/BlogPosting\">\n",
      "                     <meta content=\"Memories of Camp from 1957: Visiting Gull Lake\" itemid=\"http://40598\" itemprop=\"mainEntityOfPage\" itemscope=\"\" itemtype=\"https://schema.org/WebPage\"/>\n",
      "                     <meta content=\"2024-09-04\" itemprop=\"datePublished\"/>\n",
      "                     <meta content=\"2024-09-04\" itemprop=\"dateModified\"/>\n",
      "                     <div itemprop=\"publisher\" itemscope=\"\" itemtype=\"https://schema.org/Organization\">\n",
      "                      <meta content=\"Department of Civil &amp; Mineral Engineering\" itemprop=\"name\"/>\n",
      "                     </div>\n",
      "                     <div itemprop=\"author\" itemscope=\"\" itemtype=\"https://schema.org/Person\">\n",
      "                      <meta content=\"https://civmin.utoronto.ca/author/phill-snelutoronto-ca/\" itemprop=\"url\">\n",
      "                       <meta content=\"Phill Snel\" itemprop=\"name\"/>\n",
      "                      </meta>\n",
      "                     </div>\n",
      "                     <div itemprop=\"image\" itemscope=\"\" itemtype=\"https://schema.org/ImageObject\">\n",
      "                      <meta content=\"https://civmin.utoronto.ca/wp-content/uploads/2024/09/Camp1-Group-MED-4L8A3072.jpg\" itemprop=\"url\"/>\n",
      "                      <meta content=\"2500\" itemprop=\"width\"/>\n",
      "                      <meta content=\"1667\" itemprop=\"height\"/>\n",
      "                     </div>\n",
      "                     <div itemprop=\"interactionStatistic\" itemscope=\"\" itemtype=\"https://schema.org/InteractionCounter\">\n",
      "                      <meta content=\"https://schema.org/CommentAction\" itemprop=\"interactionType\"/>\n",
      "                      <meta content=\"0\" itemprop=\"userInteractionCount\"/>\n",
      "                     </div>\n",
      "                     <a class=\"pp-post-link\" href=\"https://civmin.utoronto.ca/memories-of-camp-visiting-gull-lake/\" title=\"Memories of Camp from 1957: Visiting Gull Lake\">\n",
      "                     </a>\n",
      "                     <div class=\"pp-content-grid-image pp-post-image\">\n",
      "                      <div class=\"pp-post-featured-img\">\n",
      "                       <div class=\"fl-photo fl-photo-crop-square fl-photo-align-center\" itemscope=\"\" itemtype=\"https://schema.org/ImageObject\">\n",
      "                        <div class=\"fl-photo-content fl-photo-img-jpg\">\n",
      "                         <img alt=\"A group photo of students, professors, staff and guests at Camp 1 on August 14, 2024. (Photo by Phill Snel)\" class=\"fl-photo-img wp-image-40649 size-large pp-post-img no-lazyload\" data-no-lazy=\"1\" decoding=\"async\" height=\"683\" itemprop=\"image\" loading=\"lazy\" src=\"https://civmin.utoronto.ca/wp-content/uploads/bb-plugin/cache/Camp1-Group-MED-4L8A3072-1024x683-square-70fc53679404e796cdc823745179e445-.jpg\" title=\"Camp1 Group MED -4L8A3072\" width=\"1024\"/>\n",
      "                        </div>\n",
      "                       </div>\n",
      "                      </div>\n",
      "                     </div>\n",
      "                     <div class=\"pp-content-grid-inner pp-content-body clearfix\">\n",
      "                      <div class=\"pp-content-post-data\">\n",
      "                       <h3 class=\"pp-content-grid-title pp-post-title\" itemprop=\"headline\">\n",
      "                        Memories of Camp from 1957: Visiting Gull Lake\n",
      "                       </h3>\n",
      "                       <div class=\"pp-content-post-meta pp-post-meta\">\n",
      "                        <span class=\"pp-content-post-author pp-post-author\">\n",
      "                         By\n",
      "                         <a href=\"https://civmin.utoronto.ca/author/phill-snelutoronto-ca/\">\n",
      "                          <span>\n",
      "                           Phill Snel\n",
      "                          </span>\n",
      "                         </a>\n",
      "                        </span>\n",
      "                        <span>\n",
      "                         |\n",
      "                        </span>\n",
      "                        <span class=\"pp-content-grid-date pp-post-date\">\n",
      "                         September 4, 2024\n",
      "                        </span>\n",
      "                       </div>\n",
      "                      </div>\n",
      "                     </div>\n",
      "                    </div>\n",
      "                   </div>\n",
      "                   <div class=\"fl-clear\">\n",
      "                   </div>\n",
      "                  </div>\n",
      "                  <!-- .pp-content-posts -->\n",
      "                 </div>\n",
      "                </div>\n",
      "               </div>\n",
      "              </div>\n",
      "             </div>\n",
      "             <div class=\"fl-col fl-node-d2ar5mlbp3h7 fl-col-small\" data-node=\"d2ar5mlbp3h7\">\n",
      "              <div class=\"fl-col-content fl-node-content\">\n",
      "               <div class=\"fl-module fl-module-heading fl-node-4cz2lwsyghra\" data-node=\"4cz2lwsyghra\">\n",
      "                <div class=\"fl-module-content fl-node-content\">\n",
      "                 <h2 class=\"fl-heading\">\n",
      "                  <a href=\"https://civmin.utoronto.ca/page/awards/\" target=\"_self\" title=\"Awards &amp; Recognition\">\n",
      "                   <span class=\"fl-heading-text\">\n",
      "                    Awards &amp; Recognition\n",
      "                   </span>\n",
      "                  </a>\n",
      "                 </h2>\n",
      "                </div>\n",
      "               </div>\n",
      "               <div class=\"fl-module fl-module-pp-content-grid fl-node-krzoms17w90p\" data-node=\"krzoms17w90p\">\n",
      "                <div class=\"fl-module-content fl-node-content\">\n",
      "                 <div class=\"pp-posts-wrapper\">\n",
      "                  <div class=\"pp-content-posts\" style=\"--items-count: 10;--column-xl: 1;--column-lg: 1;--column-md: 1;--column-sm: 1;\">\n",
      "                   <div class=\"pp-content-post-grid pp-masonry-active clearfix\" itemscope=\"itemscope\" itemtype=\"https://schema.org/Blog\">\n",
      "                    <div class=\"pp-content-post pp-content-grid-post pp-grid-default post-40616 post type-post status-publish format-standard has-post-thumbnail hentry category-awards category-students\" data-id=\"40616\" itemscope=\"\" itemtype=\"https://schema.org/BlogPosting\">\n",
      "                     <meta content=\"Undergrad wins best overall poster presentation\" itemid=\"http://40616\" itemprop=\"mainEntityOfPage\" itemscope=\"\" itemtype=\"https://schema.org/WebPage\"/>\n",
      "                     <meta content=\"2024-09-03\" itemprop=\"datePublished\"/>\n",
      "                     <meta content=\"2024-09-03\" itemprop=\"dateModified\"/>\n",
      "                     <div itemprop=\"publisher\" itemscope=\"\" itemtype=\"https://schema.org/Organization\">\n",
      "                      <meta content=\"Department of Civil &amp; Mineral Engineering\" itemprop=\"name\"/>\n",
      "                     </div>\n",
      "                     <div itemprop=\"author\" itemscope=\"\" itemtype=\"https://schema.org/Person\">\n",
      "                      <meta content=\"https://civmin.utoronto.ca/author/phill-snelutoronto-ca/\" itemprop=\"url\">\n",
      "                       <meta content=\"Phill Snel\" itemprop=\"name\"/>\n",
      "                      </meta>\n",
      "                     </div>\n",
      "                     <div itemprop=\"image\" itemscope=\"\" itemtype=\"https://schema.org/ImageObject\">\n",
      "                      <meta content=\"https://civmin.utoronto.ca/wp-content/uploads/2024/09/Michel-crop-SQ-UnERD-picture-1.jpg\" itemprop=\"url\"/>\n",
      "                      <meta content=\"496\" itemprop=\"width\"/>\n",
      "                      <meta content=\"496\" itemprop=\"height\"/>\n",
      "                     </div>\n",
      "                     <div itemprop=\"interactionStatistic\" itemscope=\"\" itemtype=\"https://schema.org/InteractionCounter\">\n",
      "                      <meta content=\"https://schema.org/CommentAction\" itemprop=\"interactionType\"/>\n",
      "                      <meta content=\"0\" itemprop=\"userInteractionCount\"/>\n",
      "                     </div>\n",
      "                     <div class=\"pp-content-grid-inner pp-content-body clearfix\">\n",
      "                      <div class=\"pp-content-post-data\">\n",
      "                       <h6 class=\"pp-content-grid-title pp-post-title\" itemprop=\"headline\">\n",
      "                        <a href=\"https://civmin.utoronto.ca/civmin-undergrad-wins-best-overall-poster-presentation/\" title=\"Undergrad wins best overall poster presentation\">\n",
      "                         Undergrad wins best overall poster presentation\n",
      "                        </a>\n",
      "                       </h6>\n",
      "                      </div>\n",
      "                     </div>\n",
      "                    </div>\n",
      "                    <div class=\"pp-content-post pp-content-grid-post pp-post-2n pp-grid-default post-40233 post type-post status-publish format-standard has-post-thumbnail hentry category-awards tag-enerphit tag-justin-berquist tag-kelsey-eakin tag-marianne-touchie tag-rdh-research-scholarship tag-research tag-yazan-zamel\" data-id=\"40233\" itemscope=\"\" itemtype=\"https://schema.org/BlogPosting\">\n",
      "                     <meta content=\"RDH Research Scholarship winners\" itemid=\"http://40233\" itemprop=\"mainEntityOfPage\" itemscope=\"\" itemtype=\"https://schema.org/WebPage\"/>\n",
      "                     <meta content=\"2024-08-01\" itemprop=\"datePublished\"/>\n",
      "                     <meta content=\"2024-08-01\" itemprop=\"dateModified\"/>\n",
      "                     <div itemprop=\"publisher\" itemscope=\"\" itemtype=\"https://schema.org/Organization\">\n",
      "                      <meta content=\"Department of Civil &amp; Mineral Engineering\" itemprop=\"name\"/>\n",
      "                     </div>\n",
      "                     <div itemprop=\"author\" itemscope=\"\" itemtype=\"https://schema.org/Person\">\n",
      "                      <meta content=\"https://civmin.utoronto.ca/author/phill-snelutoronto-ca/\" itemprop=\"url\">\n",
      "                       <meta content=\"Phill Snel\" itemprop=\"name\"/>\n",
      "                      </meta>\n",
      "                     </div>\n",
      "                     <div itemprop=\"image\" itemscope=\"\" itemtype=\"https://schema.org/ImageObject\">\n",
      "                      <meta content=\"https://civmin.utoronto.ca/wp-content/uploads/2024/08/GHD-trio-SQ-copy.jpg\" itemprop=\"url\"/>\n",
      "                      <meta content=\"768\" itemprop=\"width\"/>\n",
      "                      <meta content=\"768\" itemprop=\"height\"/>\n",
      "                     </div>\n",
      "                     <div itemprop=\"interactionStatistic\" itemscope=\"\" itemtype=\"https://schema.org/InteractionCounter\">\n",
      "                      <meta content=\"https://schema.org/CommentAction\" itemprop=\"interactionType\"/>\n",
      "                      <meta content=\"0\" itemprop=\"userInteractionCount\"/>\n",
      "                     </div>\n",
      "                     <div class=\"pp-content-grid-inner pp-content-body clearfix\">\n",
      "                      <div class=\"pp-content-post-data\">\n",
      "                       <h6 class=\"pp-content-grid-title pp-post-title\" itemprop=\"headline\">\n",
      "                        <a href=\"https://civmin.utoronto.ca/rdh-research-scholarship-winners/\" title=\"RDH Research Scholarship winners\">\n",
      "                         RDH Research Scholarship winners\n",
      "                        </a>\n",
      "                       </h6>\n",
      "                      </div>\n",
      "                     </div>\n",
      "                    </div>\n",
      "                    <div class=\"pp-content-post pp-content-grid-post pp-grid-default post-40184 post type-post status-publish format-standard has-post-thumbnail hentry category-awards tag-alec-mak\" data-id=\"40184\" itemscope=\"\" itemtype=\"https://schema.org/BlogPosting\">\n",
      "                     <meta content=\"Alec Mak is winner of 2024 Transportation Association of Canada (TAC) Student Paper Prize\" itemid=\"http://40184\" itemprop=\"mainEntityOfPage\" itemscope=\"\" itemtype=\"https://schema.org/WebPage\"/>\n",
      "                     <meta content=\"2024-07-30\" itemprop=\"datePublished\"/>\n",
      "                     <meta content=\"2024-08-01\" itemprop=\"dateModified\"/>\n",
      "                     <div itemprop=\"publisher\" itemscope=\"\" itemtype=\"https://schema.org/Organization\">\n",
      "                      <meta content=\"Department of Civil &amp; Mineral Engineering\" itemprop=\"name\"/>\n",
      "                     </div>\n",
      "                     <div itemprop=\"author\" itemscope=\"\" itemtype=\"https://schema.org/Person\">\n",
      "                      <meta content=\"https://civmin.utoronto.ca/author/phill-snelutoronto-ca/\" itemprop=\"url\">\n",
      "                       <meta content=\"Phill Snel\" itemprop=\"name\"/>\n",
      "                      </meta>\n",
      "                     </div>\n",
      "                     <div itemprop=\"image\" itemscope=\"\" itemtype=\"https://schema.org/ImageObject\">\n",
      "                      <meta content=\"https://civmin.utoronto.ca/wp-content/uploads/2024/07/Alec-Mak-SM-SQ-IMG_4889.jpg\" itemprop=\"url\"/>\n",
      "                      <meta content=\"696\" itemprop=\"width\"/>\n",
      "                      <meta content=\"695\" itemprop=\"height\"/>\n",
      "                     </div>\n",
      "                     <div itemprop=\"interactionStatistic\" itemscope=\"\" itemtype=\"https://schema.org/InteractionCounter\">\n",
      "                      <meta content=\"https://schema.org/CommentAction\" itemprop=\"interactionType\"/>\n",
      "                      <meta content=\"0\" itemprop=\"userInteractionCount\"/>\n",
      "                     </div>\n",
      "                     <div class=\"pp-content-grid-inner pp-content-body clearfix\">\n",
      "                      <div class=\"pp-content-post-data\">\n",
      "                       <h6 class=\"pp-content-grid-title pp-post-title\" itemprop=\"headline\">\n",
      "                        <a href=\"https://civmin.utoronto.ca/alec-mak-is-winner-of-2024-transportation-association-of-canada-tac-student-paper-prize/\" title=\"Alec Mak is winner of 2024 Transportation Association of Canada (TAC) Student Paper Prize\">\n",
      "                         Alec Mak is winner of 2024 Transportation Association of Canada (TAC) Student Paper Prize\n",
      "                        </a>\n",
      "                       </h6>\n",
      "                      </div>\n",
      "                     </div>\n",
      "                    </div>\n",
      "                    <div class=\"pp-content-post pp-content-grid-post pp-post-2n pp-grid-default post-39970 post type-post status-publish format-standard has-post-thumbnail hentry category-awards category-faculty category-news tag-american-rock-mechanics-association tag-arma tag-paul-young tag-rock-mechanics\" data-id=\"39970\" itemscope=\"\" itemtype=\"https://schema.org/BlogPosting\">\n",
      "                     <meta content=\"Paul Young elected as ARMA Fellow\" itemid=\"http://39970\" itemprop=\"mainEntityOfPage\" itemscope=\"\" itemtype=\"https://schema.org/WebPage\"/>\n",
      "                     <meta content=\"2024-07-05\" itemprop=\"datePublished\"/>\n",
      "                     <meta content=\"2024-08-08\" itemprop=\"dateModified\"/>\n",
      "                     <div itemprop=\"publisher\" itemscope=\"\" itemtype=\"https://schema.org/Organization\">\n",
      "                      <meta content=\"Department of Civil &amp; Mineral Engineering\" itemprop=\"name\"/>\n",
      "                     </div>\n",
      "                     <div itemprop=\"author\" itemscope=\"\" itemtype=\"https://schema.org/Person\">\n",
      "                      <meta content=\"https://civmin.utoronto.ca/author/galina-nikitina/\" itemprop=\"url\">\n",
      "                       <meta content=\"Galina Nikitina\" itemprop=\"name\"/>\n",
      "                      </meta>\n",
      "                     </div>\n",
      "                     <div itemprop=\"image\" itemscope=\"\" itemtype=\"https://schema.org/ImageObject\">\n",
      "                      <meta content=\"https://civmin.utoronto.ca/wp-content/uploads/2024/07/Young-ARMA-Fellow-Presentaionsmall.png\" itemprop=\"url\"/>\n",
      "                      <meta content=\"841\" itemprop=\"width\"/>\n",
      "                      <meta content=\"841\" itemprop=\"height\"/>\n",
      "                     </div>\n",
      "                     <div itemprop=\"interactionStatistic\" itemscope=\"\" itemtype=\"https://schema.org/InteractionCounter\">\n",
      "                      <meta content=\"https://schema.org/CommentAction\" itemprop=\"interactionType\"/>\n",
      "                      <meta content=\"0\" itemprop=\"userInteractionCount\"/>\n",
      "                     </div>\n",
      "                     <div class=\"pp-content-grid-inner pp-content-body clearfix\">\n",
      "                      <div class=\"pp-content-post-data\">\n",
      "                       <h6 class=\"pp-content-grid-title pp-post-title\" itemprop=\"headline\">\n",
      "                        <a href=\"https://civmin.utoronto.ca/paul-young-elected-as-arma-fellow/\" title=\"Paul Young elected as ARMA Fellow\">\n",
      "                         Paul Young elected as ARMA Fellow\n",
      "                        </a>\n",
      "                       </h6>\n",
      "                      </div>\n",
      "                     </div>\n",
      "                    </div>\n",
      "                    <div class=\"pp-content-post pp-content-grid-post pp-grid-default post-39813 post type-post status-publish format-standard has-post-thumbnail hentry category-awards category-news category-students tag-5mt tag-alex-ariza tag-award tag-eric-miller tag-farah-ghizzawi tag-five-minute-thesis tag-mobility-network tag-mwendwa-kiko tag-weaam-jaafar\" data-id=\"39813\" itemscope=\"\" itemtype=\"https://schema.org/BlogPosting\">\n",
      "                     <meta content=\"Winners of the 2024 Mobility Network 5MT Competition\" itemid=\"http://39813\" itemprop=\"mainEntityOfPage\" itemscope=\"\" itemtype=\"https://schema.org/WebPage\"/>\n",
      "                     <meta content=\"2024-06-13\" itemprop=\"datePublished\"/>\n",
      "                     <meta content=\"2024-06-13\" itemprop=\"dateModified\"/>\n",
      "                     <div itemprop=\"publisher\" itemscope=\"\" itemtype=\"https://schema.org/Organization\">\n",
      "                      <meta content=\"Department of Civil &amp; Mineral Engineering\" itemprop=\"name\"/>\n",
      "                     </div>\n",
      "                     <div itemprop=\"author\" itemscope=\"\" itemtype=\"https://schema.org/Person\">\n",
      "                      <meta content=\"https://civmin.utoronto.ca/author/phill-snelutoronto-ca/\" itemprop=\"url\">\n",
      "                       <meta content=\"Phill Snel\" itemprop=\"name\"/>\n",
      "                      </meta>\n",
      "                     </div>\n",
      "                     <div itemprop=\"image\" itemscope=\"\" itemtype=\"https://schema.org/ImageObject\">\n",
      "                      <meta content=\"https://civmin.utoronto.ca/wp-content/uploads/2024/06/5MT-Group-CROP-med-SQ-4L8A0903.jpg\" itemprop=\"url\"/>\n",
      "                      <meta content=\"1250\" itemprop=\"width\"/>\n",
      "                      <meta content=\"1250\" itemprop=\"height\"/>\n",
      "                     </div>\n",
      "                     <div itemprop=\"interactionStatistic\" itemscope=\"\" itemtype=\"https://schema.org/InteractionCounter\">\n",
      "                      <meta content=\"https://schema.org/CommentAction\" itemprop=\"interactionType\"/>\n",
      "                      <meta content=\"0\" itemprop=\"userInteractionCount\"/>\n",
      "                     </div>\n",
      "                     <div class=\"pp-content-grid-inner pp-content-body clearfix\">\n",
      "                      <div class=\"pp-content-post-data\">\n",
      "                       <h6 class=\"pp-content-grid-title pp-post-title\" itemprop=\"headline\">\n",
      "                        <a href=\"https://civmin.utoronto.ca/winners-of-the-2024-mobility-network-5mt-competition/\" title=\"Winners of the 2024 Mobility Network 5MT Competition\">\n",
      "                         Winners of the 2024 Mobility Network 5MT Competition\n",
      "                        </a>\n",
      "                       </h6>\n",
      "                      </div>\n",
      "                     </div>\n",
      "                    </div>\n",
      "                    <div class=\"pp-content-post pp-content-grid-post pp-post-2n pp-grid-default post-39768 post type-post status-publish format-standard hentry category-awards\" data-id=\"39768\" itemscope=\"\" itemtype=\"https://schema.org/BlogPosting\">\n",
      "                     <meta content=\"CivMin undergrads garner fourth-year awards\" itemid=\"http://39768\" itemprop=\"mainEntityOfPage\" itemscope=\"\" itemtype=\"https://schema.org/WebPage\"/>\n",
      "                     <meta content=\"2024-06-12\" itemprop=\"datePublished\"/>\n",
      "                     <meta content=\"2024-06-19\" itemprop=\"dateModified\"/>\n",
      "                     <div itemprop=\"publisher\" itemscope=\"\" itemtype=\"https://schema.org/Organization\">\n",
      "                      <meta content=\"Department of Civil &amp; Mineral Engineering\" itemprop=\"name\"/>\n",
      "                     </div>\n",
      "                     <div itemprop=\"author\" itemscope=\"\" itemtype=\"https://schema.org/Person\">\n",
      "                      <meta content=\"https://civmin.utoronto.ca/author/phill-snelutoronto-ca/\" itemprop=\"url\">\n",
      "                       <meta content=\"Phill Snel\" itemprop=\"name\"/>\n",
      "                      </meta>\n",
      "                     </div>\n",
      "                     <div itemprop=\"interactionStatistic\" itemscope=\"\" itemtype=\"https://schema.org/InteractionCounter\">\n",
      "                      <meta content=\"https://schema.org/CommentAction\" itemprop=\"interactionType\"/>\n",
      "                      <meta content=\"0\" itemprop=\"userInteractionCount\"/>\n",
      "                     </div>\n",
      "                     <div class=\"pp-content-grid-inner pp-content-body clearfix\">\n",
      "                      <div class=\"pp-content-post-data\">\n",
      "                       <h6 class=\"pp-content-grid-title pp-post-title\" itemprop=\"headline\">\n",
      "                        <a href=\"https://civmin.utoronto.ca/civmin-undergrads-garner-fourth-year-awards/\" title=\"CivMin undergrads garner fourth-year awards\">\n",
      "                         CivMin undergrads garner fourth-year awards\n",
      "                        </a>\n",
      "                       </h6>\n",
      "                      </div>\n",
      "                     </div>\n",
      "                    </div>\n",
      "                    <div class=\"pp-content-post pp-content-grid-post pp-grid-default post-39754 post type-post status-publish format-standard has-post-thumbnail hentry category-awards category-news category-students\" data-id=\"39754\" itemscope=\"\" itemtype=\"https://schema.org/BlogPosting\">\n",
      "                     <meta content=\"CivMin grad students win at the third annual symposium for City Logistics for the Urban Economy\" itemid=\"http://39754\" itemprop=\"mainEntityOfPage\" itemscope=\"\" itemtype=\"https://schema.org/WebPage\"/>\n",
      "                     <meta content=\"2024-06-05\" itemprop=\"datePublished\"/>\n",
      "                     <meta content=\"2024-06-05\" itemprop=\"dateModified\"/>\n",
      "                     <div itemprop=\"publisher\" itemscope=\"\" itemtype=\"https://schema.org/Organization\">\n",
      "                      <meta content=\"Department of Civil &amp; Mineral Engineering\" itemprop=\"name\"/>\n",
      "                     </div>\n",
      "                     <div itemprop=\"author\" itemscope=\"\" itemtype=\"https://schema.org/Person\">\n",
      "                      <meta content=\"https://civmin.utoronto.ca/author/phill-snelutoronto-ca/\" itemprop=\"url\">\n",
      "                       <meta content=\"Phill Snel\" itemprop=\"name\"/>\n",
      "                      </meta>\n",
      "                     </div>\n",
      "                     <div itemprop=\"image\" itemscope=\"\" itemtype=\"https://schema.org/ImageObject\">\n",
      "                      <meta content=\"https://civmin.utoronto.ca/wp-content/uploads/2024/06/CLUE-winners-Farah-Sara-copy-SQ.jpg\" itemprop=\"url\"/>\n",
      "                      <meta content=\"290\" itemprop=\"width\"/>\n",
      "                      <meta content=\"290\" itemprop=\"height\"/>\n",
      "                     </div>\n",
      "                     <div itemprop=\"interactionStatistic\" itemscope=\"\" itemtype=\"https://schema.org/InteractionCounter\">\n",
      "                      <meta content=\"https://schema.org/CommentAction\" itemprop=\"interactionType\"/>\n",
      "                      <meta content=\"0\" itemprop=\"userInteractionCount\"/>\n",
      "                     </div>\n",
      "                     <div class=\"pp-content-grid-inner pp-content-body clearfix\">\n",
      "                      <div class=\"pp-content-post-data\">\n",
      "                       <h6 class=\"pp-content-grid-title pp-post-title\" itemprop=\"headline\">\n",
      "                        <a href=\"https://civmin.utoronto.ca/civmin-grad-students-win-at-the-third-annual-symposium-for-city-logistics-for-the-urban-economy/\" title=\"CivMin grad students win at the third annual symposium for City Logistics for the Urban Economy\">\n",
      "                         CivMin grad students win at the third annual symposium for City Logistics for the Urban Economy\n",
      "                        </a>\n",
      "                       </h6>\n",
      "                      </div>\n",
      "                     </div>\n",
      "                    </div>\n",
      "                    <div class=\"pp-content-post pp-content-grid-post pp-post-2n pp-grid-default post-39723 post type-post status-publish format-standard has-post-thumbnail hentry category-awards category-news category-students tag-bhabishya-khaniya tag-nserc tag-vanier-canada-graduate-scholarships tag-vanier-cgs\" data-id=\"39723\" itemscope=\"\" itemtype=\"https://schema.org/BlogPosting\">\n",
      "                     <meta content=\"CivMin PhD student Bhabishya Khaniya awarded Vanier Scholarship\" itemid=\"http://39723\" itemprop=\"mainEntityOfPage\" itemscope=\"\" itemtype=\"https://schema.org/WebPage\"/>\n",
      "                     <meta content=\"2024-06-04\" itemprop=\"datePublished\"/>\n",
      "                     <meta content=\"2024-06-05\" itemprop=\"dateModified\"/>\n",
      "                     <div itemprop=\"publisher\" itemscope=\"\" itemtype=\"https://schema.org/Organization\">\n",
      "                      <meta content=\"Department of Civil &amp; Mineral Engineering\" itemprop=\"name\"/>\n",
      "                     </div>\n",
      "                     <div itemprop=\"author\" itemscope=\"\" itemtype=\"https://schema.org/Person\">\n",
      "                      <meta content=\"https://civmin.utoronto.ca/author/phill-snelutoronto-ca/\" itemprop=\"url\">\n",
      "                       <meta content=\"Phill Snel\" itemprop=\"name\"/>\n",
      "                      </meta>\n",
      "                     </div>\n",
      "                     <div itemprop=\"image\" itemscope=\"\" itemtype=\"https://schema.org/ImageObject\">\n",
      "                      <meta content=\"https://civmin.utoronto.ca/wp-content/uploads/2024/06/Bhabishya-Khaniya-GRITLab-Med-SQ.jpg\" itemprop=\"url\"/>\n",
      "                      <meta content=\"1521\" itemprop=\"width\"/>\n",
      "                      <meta content=\"1521\" itemprop=\"height\"/>\n",
      "                     </div>\n",
      "                     <div itemprop=\"interactionStatistic\" itemscope=\"\" itemtype=\"https://schema.org/InteractionCounter\">\n",
      "                      <meta content=\"https://schema.org/CommentAction\" itemprop=\"interactionType\"/>\n",
      "                      <meta content=\"0\" itemprop=\"userInteractionCount\"/>\n",
      "                     </div>\n",
      "                     <div class=\"pp-content-grid-inner pp-content-body clearfix\">\n",
      "                      <div class=\"pp-content-post-data\">\n",
      "                       <h6 class=\"pp-content-grid-title pp-post-title\" itemprop=\"headline\">\n",
      "                        <a href=\"https://civmin.utoronto.ca/civmin-phd-student-bhabishya-khaniya-is-vanier-scholar/\" title=\"CivMin PhD student Bhabishya Khaniya awarded Vanier Scholarship\">\n",
      "                         CivMin PhD student Bhabishya Khaniya awarded Vanier Scholarship\n",
      "                        </a>\n",
      "                       </h6>\n",
      "                      </div>\n",
      "                     </div>\n",
      "                    </div>\n",
      "                    <div class=\"pp-content-post pp-content-grid-post pp-grid-default post-39721 post type-post status-publish format-standard has-post-thumbnail hentry category-awards category-news category-students tag-governor-generals-silver-medal tag-jeff-chen tag-john-black-aird-scholarship\" data-id=\"39721\" itemscope=\"\" itemtype=\"https://schema.org/BlogPosting\">\n",
      "                     <meta content=\"CivMin student Jeff Chen achieves highest marks in Engineering and all of U of T\" itemid=\"http://39721\" itemprop=\"mainEntityOfPage\" itemscope=\"\" itemtype=\"https://schema.org/WebPage\"/>\n",
      "                     <meta content=\"2024-06-04\" itemprop=\"datePublished\"/>\n",
      "                     <meta content=\"2024-06-06\" itemprop=\"dateModified\"/>\n",
      "                     <div itemprop=\"publisher\" itemscope=\"\" itemtype=\"https://schema.org/Organization\">\n",
      "                      <meta content=\"Department of Civil &amp; Mineral Engineering\" itemprop=\"name\"/>\n",
      "                     </div>\n",
      "                     <div itemprop=\"author\" itemscope=\"\" itemtype=\"https://schema.org/Person\">\n",
      "                      <meta content=\"https://civmin.utoronto.ca/author/phill-snelutoronto-ca/\" itemprop=\"url\">\n",
      "                       <meta content=\"Phill Snel\" itemprop=\"name\"/>\n",
      "                      </meta>\n",
      "                     </div>\n",
      "                     <div itemprop=\"image\" itemscope=\"\" itemtype=\"https://schema.org/ImageObject\">\n",
      "                      <meta content=\"https://civmin.utoronto.ca/wp-content/uploads/2024/06/Jeff-Photo-copy-SQ.jpg\" itemprop=\"url\"/>\n",
      "                      <meta content=\"1427\" itemprop=\"width\"/>\n",
      "                      <meta content=\"1427\" itemprop=\"height\"/>\n",
      "                     </div>\n",
      "                     <div itemprop=\"interactionStatistic\" itemscope=\"\" itemtype=\"https://schema.org/InteractionCounter\">\n",
      "                      <meta content=\"https://schema.org/CommentAction\" itemprop=\"interactionType\"/>\n",
      "                      <meta content=\"0\" itemprop=\"userInteractionCount\"/>\n",
      "                     </div>\n",
      "                     <div class=\"pp-content-grid-inner pp-content-body clearfix\">\n",
      "                      <div class=\"pp-content-post-data\">\n",
      "                       <h6 class=\"pp-content-grid-title pp-post-title\" itemprop=\"headline\">\n",
      "                        <a href=\"https://civmin.utoronto.ca/civmin-student-jeff-chen-awarded-the-governor-generals-silver-medal-and-the-john-black-aird-scholarship/\" title=\"CivMin student Jeff Chen achieves highest marks in Engineering and all of U of T\">\n",
      "                         CivMin student Jeff Chen achieves highest marks in Engineering and all of U of T\n",
      "                        </a>\n",
      "                       </h6>\n",
      "                      </div>\n",
      "                     </div>\n",
      "                    </div>\n",
      "                    <div class=\"pp-content-post pp-content-grid-post pp-post-2n pp-grid-default post-39636 post type-post status-publish format-standard hentry category-awards category-faculty tag-giovanni-barla-best-paper-award tag-greig-kno tag-john-hadjigeorgiou tag-rock-mechanics-and-rock-engineering\" data-id=\"39636\" itemscope=\"\" itemtype=\"https://schema.org/BlogPosting\">\n",
      "                     <meta content=\"CivMin PhD student and professor win Giovanni Barla Best Paper Award\" itemid=\"http://39636\" itemprop=\"mainEntityOfPage\" itemscope=\"\" itemtype=\"https://schema.org/WebPage\"/>\n",
      "                     <meta content=\"2024-05-27\" itemprop=\"datePublished\"/>\n",
      "                     <meta content=\"2024-05-27\" itemprop=\"dateModified\"/>\n",
      "                     <div itemprop=\"publisher\" itemscope=\"\" itemtype=\"https://schema.org/Organization\">\n",
      "                      <meta content=\"Department of Civil &amp; Mineral Engineering\" itemprop=\"name\"/>\n",
      "                     </div>\n",
      "                     <div itemprop=\"author\" itemscope=\"\" itemtype=\"https://schema.org/Person\">\n",
      "                      <meta content=\"https://civmin.utoronto.ca/author/phill-snelutoronto-ca/\" itemprop=\"url\">\n",
      "                       <meta content=\"Phill Snel\" itemprop=\"name\"/>\n",
      "                      </meta>\n",
      "                     </div>\n",
      "                     <div itemprop=\"interactionStatistic\" itemscope=\"\" itemtype=\"https://schema.org/InteractionCounter\">\n",
      "                      <meta content=\"https://schema.org/CommentAction\" itemprop=\"interactionType\"/>\n",
      "                      <meta content=\"0\" itemprop=\"userInteractionCount\"/>\n",
      "                     </div>\n",
      "                     <div class=\"pp-content-grid-inner pp-content-body clearfix\">\n",
      "                      <div class=\"pp-content-post-data\">\n",
      "                       <h6 class=\"pp-content-grid-title pp-post-title\" itemprop=\"headline\">\n",
      "                        <a href=\"https://civmin.utoronto.ca/civmin-phd-student-and-professor-win-giovanni-barla-best-paper-award/\" title=\"CivMin PhD student and professor win Giovanni Barla Best Paper Award\">\n",
      "                         CivMin PhD student and professor win Giovanni Barla Best Paper Award\n",
      "                        </a>\n",
      "                       </h6>\n",
      "                      </div>\n",
      "                     </div>\n",
      "                    </div>\n",
      "                    <div class=\"pp-grid-space\">\n",
      "                    </div>\n",
      "                   </div>\n",
      "                   <div class=\"fl-clear\">\n",
      "                   </div>\n",
      "                  </div>\n",
      "                  <!-- .pp-content-posts -->\n",
      "                 </div>\n",
      "                </div>\n",
      "               </div>\n",
      "               <div class=\"fl-module fl-module-heading fl-node-pxbvo862fjsr\" data-node=\"pxbvo862fjsr\">\n",
      "                <div class=\"fl-module-content fl-node-content\">\n",
      "                 <h2 class=\"fl-heading\">\n",
      "                  <span class=\"fl-heading-text\">\n",
      "                   Get Involved With CivMin\n",
      "                  </span>\n",
      "                 </h2>\n",
      "                </div>\n",
      "               </div>\n",
      "              </div>\n",
      "             </div>\n",
      "            </div>\n",
      "           </div>\n",
      "          </div>\n",
      "         </div>\n",
      "         <div class=\"fl-row fl-row-full-width fl-row-bg-color fl-node-l1czvms7en95 fl-row-default-height fl-row-align-center\" data-node=\"l1czvms7en95\">\n",
      "          <div class=\"fl-row-content-wrap\">\n",
      "           <div class=\"fl-row-content fl-row-fixed-width fl-node-content\">\n",
      "            <div class=\"fl-col-group fl-node-jlkuz1rq5sdw\" data-node=\"jlkuz1rq5sdw\">\n",
      "             <div class=\"fl-col fl-node-muj7lxop1fak\" data-node=\"muj7lxop1fak\">\n",
      "              <div class=\"fl-col-content fl-node-content\">\n",
      "               <div class=\"fl-module fl-module-heading fl-node-342esy7t0xgz\" data-node=\"342esy7t0xgz\">\n",
      "                <div class=\"fl-module-content fl-node-content\">\n",
      "                 <h2 class=\"fl-heading\">\n",
      "                  <span class=\"fl-heading-text\">\n",
      "                   Get involved\n",
      "                  </span>\n",
      "                 </h2>\n",
      "                </div>\n",
      "               </div>\n",
      "              </div>\n",
      "             </div>\n",
      "            </div>\n",
      "            <div class=\"fl-col-group fl-node-sm92lfhq7w3p\" data-node=\"sm92lfhq7w3p\">\n",
      "             <div class=\"fl-col fl-node-n80zkm9vhxbe fl-col-has-cols\" data-node=\"n80zkm9vhxbe\">\n",
      "              <div class=\"fl-col-content fl-node-content\">\n",
      "               <div class=\"fl-col-group fl-node-s9o20en73myi fl-col-group-nested\" data-node=\"s9o20en73myi\">\n",
      "                <div class=\"fl-col fl-node-e3ca7o5ngpm6 fl-col-small\" data-node=\"e3ca7o5ngpm6\">\n",
      "                 <div class=\"fl-col-content fl-node-content\">\n",
      "                  <div class=\"fl-module fl-module-icon fl-node-i2a5sbocy4vf\" data-node=\"i2a5sbocy4vf\">\n",
      "                   <div class=\"fl-module-content fl-node-content\">\n",
      "                    <div class=\"fl-icon-wrap\">\n",
      "                     <span class=\"fl-icon\">\n",
      "                      <a aria-hidden=\"true\" aria-labelledby=\"fl-icon-text-i2a5sbocy4vf\" href=\"https://uoftengineeringconnect.ca/feed\" rel=\"noopener\" tabindex=\"-1\" target=\"_blank\">\n",
      "                       <i aria-hidden=\"true\" class=\"fab fa-connectdevelop\">\n",
      "                       </i>\n",
      "                      </a>\n",
      "                     </span>\n",
      "                     <div class=\"fl-icon-text\" id=\"fl-icon-text-i2a5sbocy4vf\">\n",
      "                      <a class=\"fl-icon-text-link fl-icon-text-wrap\" href=\"https://uoftengineeringconnect.ca/feed\" rel=\"noopener\" target=\"_blank\">\n",
      "                       <h5>\n",
      "                        U of T Engineering Connect\n",
      "                       </h5>\n",
      "                      </a>\n",
      "                     </div>\n",
      "                    </div>\n",
      "                   </div>\n",
      "                  </div>\n",
      "                 </div>\n",
      "                </div>\n",
      "                <div class=\"fl-col fl-node-hua1gfb8ocvi fl-col-small\" data-node=\"hua1gfb8ocvi\">\n",
      "                 <div class=\"fl-col-content fl-node-content\">\n",
      "                  <div class=\"fl-module fl-module-icon fl-node-licars0mpdvo\" data-node=\"licars0mpdvo\">\n",
      "                   <div class=\"fl-module-content fl-node-content\">\n",
      "                    <div class=\"fl-icon-wrap\">\n",
      "                     <span class=\"fl-icon\">\n",
      "                      <a aria-hidden=\"true\" aria-labelledby=\"fl-icon-text-licars0mpdvo\" href=\"https://civmin.utoronto.ca/home/partner-with-us/industry-advisory-board/#:~:text=Purpose%3A,Department's%20undergraduate%20and%20graduate%20students.\" rel=\"noopener\" tabindex=\"-1\" target=\"_blank\">\n",
      "                       <i aria-hidden=\"true\" class=\"fas fa-people-carry\">\n",
      "                       </i>\n",
      "                      </a>\n",
      "                     </span>\n",
      "                     <div class=\"fl-icon-text\" id=\"fl-icon-text-licars0mpdvo\">\n",
      "                      <a class=\"fl-icon-text-link fl-icon-text-wrap\" href=\"https://civmin.utoronto.ca/home/partner-with-us/industry-advisory-board/#:~:text=Purpose%3A,Department's%20undergraduate%20and%20graduate%20students.\" rel=\"noopener\" target=\"_blank\">\n",
      "                       <h5>\n",
      "                        Industry Advisory Board\n",
      "                       </h5>\n",
      "                      </a>\n",
      "                     </div>\n",
      "                    </div>\n",
      "                   </div>\n",
      "                  </div>\n",
      "                 </div>\n",
      "                </div>\n",
      "               </div>\n",
      "              </div>\n",
      "             </div>\n",
      "            </div>\n",
      "           </div>\n",
      "          </div>\n",
      "         </div>\n",
      "        </div>\n",
      "       </section>\n",
      "       <!-- .entry-content -->\n",
      "      </article>\n",
      "      <!-- #post-## -->\n",
      "     </div>\n",
      "     <!-- .dflex -->\n",
      "    </div>\n",
      "    <!-- #main -->\n",
      "   </main>\n",
      "   <!-- #content -->\n",
      "   <footer class=\"footer\" id=\"footer\">\n",
      "    <div class=\"site-footer content-wrap\">\n",
      "     <div class=\"footer-wordmark\">\n",
      "      <div class=\"wordmark-wrapper d-flex align-items-center justify-content-center\">\n",
      "       <a href=\"https://civmin.utoronto.ca\">\n",
      "        <img alt=\"U of T Enginering Home\" class=\"lazyload\" data-src=\"https://civmin.utoronto.ca/wp-content/uploads/2023/02/CivMin_Signature_Reverse.svg\" height=\"94\" src=\"https://civmin.utoronto.ca/wp-content/themes/fase-theme-2023-master/assets/img/ll-placeholder.png\" width=\"442\"/>\n",
      "       </a>\n",
      "      </div>\n",
      "     </div>\n",
      "     <div class=\"footer-social\">\n",
      "      <div class=\"footer-social-menu\">\n",
      "       <div class=\"menu-social-container\">\n",
      "        <ul class=\"social-nav\" id=\"menu-social-1\">\n",
      "         <li class=\"menu-item menu-item-type-custom menu-item-object-custom menu-item-14159 nav-item\" itemscope=\"itemscope\" itemtype=\"https://www.schema.org/SiteNavigationElement\">\n",
      "          <a class=\"nav-link\" href=\"https://www.facebook.com/civminutoronto/\">\n",
      "           <span class=\"soc-icon-facebook\">\n",
      "           </span>\n",
      "           <span class=\"screen-reader-text\">\n",
      "            Facebook\n",
      "           </span>\n",
      "          </a>\n",
      "         </li>\n",
      "         <li class=\"menu-item menu-item-type-custom menu-item-object-custom menu-item-14160 nav-item\" itemscope=\"itemscope\" itemtype=\"https://www.schema.org/SiteNavigationElement\">\n",
      "          <a class=\"nav-link\" href=\"https://twitter.com/civmin?lang=en\">\n",
      "           <span class=\"soc-icon-twitter\">\n",
      "           </span>\n",
      "           <span class=\"screen-reader-text\">\n",
      "            Twitter/X\n",
      "           </span>\n",
      "          </a>\n",
      "         </li>\n",
      "         <li class=\"menu-item menu-item-type-custom menu-item-object-custom menu-item-14161 nav-item\" itemscope=\"itemscope\" itemtype=\"https://www.schema.org/SiteNavigationElement\">\n",
      "          <a class=\"nav-link\" href=\"https://www.instagram.com/civmin/\">\n",
      "           <span class=\"soc-icon-instagram\">\n",
      "           </span>\n",
      "           <span class=\"screen-reader-text\">\n",
      "            Instagram\n",
      "           </span>\n",
      "          </a>\n",
      "         </li>\n",
      "         <li class=\"menu-item menu-item-type-custom menu-item-object-custom menu-item-22663 nav-item\" itemscope=\"itemscope\" itemtype=\"https://www.schema.org/SiteNavigationElement\">\n",
      "          <a class=\"nav-link\" href=\"https://www.linkedin.com/school/civmin/\">\n",
      "           <span class=\"soc-icon-linkedin\">\n",
      "           </span>\n",
      "           <span class=\"screen-reader-text\">\n",
      "            LinkedIn\n",
      "           </span>\n",
      "          </a>\n",
      "         </li>\n",
      "         <li class=\"menu-item menu-item-type-custom menu-item-object-custom menu-item-24105 nav-item\" itemscope=\"itemscope\" itemtype=\"https://www.schema.org/SiteNavigationElement\">\n",
      "          <a class=\"nav-link\" href=\"https://www.youtube.com/user/civmin\">\n",
      "           <span class=\"soc-icon-youtube\">\n",
      "           </span>\n",
      "           <span class=\"screen-reader-text\">\n",
      "            Youtube\n",
      "           </span>\n",
      "          </a>\n",
      "         </li>\n",
      "        </ul>\n",
      "       </div>\n",
      "      </div>\n",
      "      <address>\n",
      "       Department of Civil &amp; Mineral Engineering\n",
      "       <br/>\n",
      "       35 St. George St.\n",
      "       <br/>\n",
      "       Toronto, Ontario, Canada\n",
      "       <br/>\n",
      "       M5S 1A4\n",
      "      </address>\n",
      "     </div>\n",
      "     <div class=\"footer-gravity d-flex align-items-center justify-content-center\">\n",
      "      <a alt=\"Link to Defy Gravity Campaign\" href=\"https://defygravitycampaign.utoronto.ca/\">\n",
      "       <img alt=\"Defy Gravity\" class=\"lazyload\" data-src=\"https://civmin.utoronto.ca/wp-content/themes/fase-theme-2023-master/assets/img/defy_gravity_reverse_digital.svg\" height=\"75\" src=\"https://civmin.utoronto.ca/wp-content/themes/fase-theme-2023-master/assets/img/ll-placeholder.png\" width=\"140\"/>\n",
      "      </a>\n",
      "     </div>\n",
      "    </div>\n",
      "    <div class=\"site-footer content-wrap tla d-flex flex-column align-items-center justify-content-center\">\n",
      "     <h2>\n",
      "      Traditional Land Acknowledgement\n",
      "     </h2>\n",
      "     <p>\n",
      "      We wish to acknowledge this land on which the University of Toronto operates. For thousands of years it has been the traditional land of the Huron-Wendat, the Seneca, and the Mississaugas of the Credit. Today, this meeting place is still the home to many Indigenous people from across Turtle Island and we are grateful to have the opportunity to work on this land.\n",
      "     </p>\n",
      "    </div>\n",
      "   </footer>\n",
      "   <!-- .site-footer container-->\n",
      "   <section aria-label=\"Copyright\" class=\"small-footer\">\n",
      "    <div class=\"copyright d-flex flex-column flex-sm-column flex-md-row justify-content-md-between align-items-md-center content-wrap pb-2 pt-2\">\n",
      "     <div class=\"copy-text p-2\">\n",
      "      <p>\n",
      "       <p>\n",
      "        © 2024 Faculty of Applied Science and Engineering\n",
      "       </p>\n",
      "      </p>\n",
      "     </div>\n",
      "     <div class=\"copy-nav p-2\">\n",
      "      <div class=\"menu-footer-quick-links-container\">\n",
      "       <ul class=\"footer-nav-3\" id=\"menu-footer-quick-links\">\n",
      "        <li class=\"menu-item menu-item-type-custom menu-item-object-custom menu-item-24106\" id=\"menu-item-24106\">\n",
      "         <a href=\"https://www.utoronto.ca/\">\n",
      "          U of T Home\n",
      "         </a>\n",
      "        </li>\n",
      "        <li class=\"menu-item menu-item-type-custom menu-item-object-custom menu-item-24107\" id=\"menu-item-24107\">\n",
      "         <a href=\"https://www.utoronto.ca/accessibility\">\n",
      "          Accessibility\n",
      "         </a>\n",
      "        </li>\n",
      "        <li class=\"menu-item menu-item-type-custom menu-item-object-custom menu-item-24108\" id=\"menu-item-24108\">\n",
      "         <a href=\"https://www.utoronto.ca/privacy\">\n",
      "          Privacy\n",
      "         </a>\n",
      "        </li>\n",
      "        <li class=\"menu-item menu-item-type-custom menu-item-object-custom menu-item-37823\" id=\"menu-item-37823\">\n",
      "         <a href=\"https://data.viceprovoststudents.utoronto.ca/\">\n",
      "          Student Data Practices\n",
      "         </a>\n",
      "        </li>\n",
      "        <li class=\"menu-item menu-item-type-custom menu-item-object-custom menu-item-24109\" id=\"menu-item-24109\">\n",
      "         <a href=\"mailto:civ.communications@utoronto.ca\">\n",
      "          Website Feedback\n",
      "         </a>\n",
      "        </li>\n",
      "       </ul>\n",
      "      </div>\n",
      "     </div>\n",
      "    </div>\n",
      "   </section>\n",
      "  </div>\n",
      "  <!-- #page -->\n",
      "  <script>\n",
      "   ( function ( body ) {\n",
      "\t\t\t'use strict';\n",
      "\t\t\tbody.className = body.className.replace( /\\btribe-no-js\\b/, 'tribe-js' );\n",
      "\t\t} )( document.body );\n",
      "  </script>\n",
      "  <script>\n",
      "   /* <![CDATA[ */var tribe_l10n_datatables = {\"aria\":{\"sort_ascending\":\": activate to sort column ascending\",\"sort_descending\":\": activate to sort column descending\"},\"length_menu\":\"Show _MENU_ entries\",\"empty_table\":\"No data available in table\",\"info\":\"Showing _START_ to _END_ of _TOTAL_ entries\",\"info_empty\":\"Showing 0 to 0 of 0 entries\",\"info_filtered\":\"(filtered from _MAX_ total entries)\",\"zero_records\":\"No matching records found\",\"search\":\"Search:\",\"all_selected_text\":\"All items on this page were selected. \",\"select_all_link\":\"Select all pages\",\"clear_selection\":\"Clear Selection.\",\"pagination\":{\"all\":\"All\",\"next\":\"Next\",\"previous\":\"Previous\"},\"select\":{\"rows\":{\"0\":\"\",\"_\":\": Selected %d rows\",\"1\":\": Selected 1 row\"}},\"datepicker\":{\"dayNames\":[\"Sunday\",\"Monday\",\"Tuesday\",\"Wednesday\",\"Thursday\",\"Friday\",\"Saturday\"],\"dayNamesShort\":[\"Sun\",\"Mon\",\"Tue\",\"Wed\",\"Thu\",\"Fri\",\"Sat\"],\"dayNamesMin\":[\"S\",\"M\",\"T\",\"W\",\"T\",\"F\",\"S\"],\"monthNames\":[\"January\",\"February\",\"March\",\"April\",\"May\",\"June\",\"July\",\"August\",\"September\",\"October\",\"November\",\"December\"],\"monthNamesShort\":[\"January\",\"February\",\"March\",\"April\",\"May\",\"June\",\"July\",\"August\",\"September\",\"October\",\"November\",\"December\"],\"monthNamesMin\":[\"Jan\",\"Feb\",\"Mar\",\"Apr\",\"May\",\"Jun\",\"Jul\",\"Aug\",\"Sep\",\"Oct\",\"Nov\",\"Dec\"],\"nextText\":\"Next\",\"prevText\":\"Prev\",\"currentText\":\"Today\",\"closeText\":\"Done\",\"today\":\"Today\",\"clear\":\"Clear\"}};/* ]]> */\n",
      "  </script>\n",
      "  <script type=\"text/javascript\">\n",
      "   /* MonsterInsights Scroll Tracking */\n",
      "\t\tif ( typeof(jQuery) !== 'undefined' ) {\n",
      "\t\tjQuery( document ).ready(function(){\n",
      "\t\tfunction monsterinsights_scroll_tracking_load() {\n",
      "\t\tif ( ( typeof(__gaTracker) !== 'undefined' && __gaTracker && __gaTracker.hasOwnProperty( \"loaded\" ) && __gaTracker.loaded == true ) || ( typeof(__gtagTracker) !== 'undefined' && __gtagTracker ) ) {\n",
      "\t\t(function(factory) {\n",
      "\t\tfactory(jQuery);\n",
      "\t\t}(function($) {\n",
      "\n",
      "\t\t/* Scroll Depth */\n",
      "\t\t\"use strict\";\n",
      "\t\tvar defaults = {\n",
      "\t\tpercentage: true\n",
      "\t\t};\n",
      "\n",
      "\t\tvar $window = $(window),\n",
      "\t\tcache = [],\n",
      "\t\tscrollEventBound = false,\n",
      "\t\tlastPixelDepth = 0;\n",
      "\n",
      "\t\t/*\n",
      "\t\t* Plugin\n",
      "\t\t*/\n",
      "\n",
      "\t\t$.scrollDepth = function(options) {\n",
      "\n",
      "\t\tvar startTime = +new Date();\n",
      "\n",
      "\t\toptions = $.extend({}, defaults, options);\n",
      "\n",
      "\t\t/*\n",
      "\t\t* Functions\n",
      "\t\t*/\n",
      "\n",
      "\t\tfunction sendEvent(action, label, scrollDistance, timing) {\n",
      "\t\tif ( 'undefined' === typeof MonsterInsightsObject || 'undefined' === typeof MonsterInsightsObject.sendEvent ) {\n",
      "\t\treturn;\n",
      "\t\t}\n",
      "\t\t\tvar paramName = action.toLowerCase();\n",
      "\tvar fieldsArray = {\n",
      "\tsend_to: 'G-2E9NND0N6Y',\n",
      "\tnon_interaction: true\n",
      "\t};\n",
      "\tfieldsArray[paramName] = label;\n",
      "\n",
      "\tif (arguments.length > 3) {\n",
      "\tfieldsArray.scroll_timing = timing\n",
      "\tMonsterInsightsObject.sendEvent('event', 'scroll_depth', fieldsArray);\n",
      "\t} else {\n",
      "\tMonsterInsightsObject.sendEvent('event', 'scroll_depth', fieldsArray);\n",
      "\t}\n",
      "\t\t\t}\n",
      "\n",
      "\t\tfunction calculateMarks(docHeight) {\n",
      "\t\treturn {\n",
      "\t\t'25%' : parseInt(docHeight * 0.25, 10),\n",
      "\t\t'50%' : parseInt(docHeight * 0.50, 10),\n",
      "\t\t'75%' : parseInt(docHeight * 0.75, 10),\n",
      "\t\t/* Cushion to trigger 100% event in iOS */\n",
      "\t\t'100%': docHeight - 5\n",
      "\t\t};\n",
      "\t\t}\n",
      "\n",
      "\t\tfunction checkMarks(marks, scrollDistance, timing) {\n",
      "\t\t/* Check each active mark */\n",
      "\t\t$.each(marks, function(key, val) {\n",
      "\t\tif ( $.inArray(key, cache) === -1 && scrollDistance >= val ) {\n",
      "\t\tsendEvent('Percentage', key, scrollDistance, timing);\n",
      "\t\tcache.push(key);\n",
      "\t\t}\n",
      "\t\t});\n",
      "\t\t}\n",
      "\n",
      "\t\tfunction rounded(scrollDistance) {\n",
      "\t\t/* Returns String */\n",
      "\t\treturn (Math.floor(scrollDistance/250) * 250).toString();\n",
      "\t\t}\n",
      "\n",
      "\t\tfunction init() {\n",
      "\t\tbindScrollDepth();\n",
      "\t\t}\n",
      "\n",
      "\t\t/*\n",
      "\t\t* Public Methods\n",
      "\t\t*/\n",
      "\n",
      "\t\t/* Reset Scroll Depth with the originally initialized options */\n",
      "\t\t$.scrollDepth.reset = function() {\n",
      "\t\tcache = [];\n",
      "\t\tlastPixelDepth = 0;\n",
      "\t\t$window.off('scroll.scrollDepth');\n",
      "\t\tbindScrollDepth();\n",
      "\t\t};\n",
      "\n",
      "\t\t/* Add DOM elements to be tracked */\n",
      "\t\t$.scrollDepth.addElements = function(elems) {\n",
      "\n",
      "\t\tif (typeof elems == \"undefined\" || !$.isArray(elems)) {\n",
      "\t\treturn;\n",
      "\t\t}\n",
      "\n",
      "\t\t$.merge(options.elements, elems);\n",
      "\n",
      "\t\t/* If scroll event has been unbound from window, rebind */\n",
      "\t\tif (!scrollEventBound) {\n",
      "\t\tbindScrollDepth();\n",
      "\t\t}\n",
      "\n",
      "\t\t};\n",
      "\n",
      "\t\t/* Remove DOM elements currently tracked */\n",
      "\t\t$.scrollDepth.removeElements = function(elems) {\n",
      "\n",
      "\t\tif (typeof elems == \"undefined\" || !$.isArray(elems)) {\n",
      "\t\treturn;\n",
      "\t\t}\n",
      "\n",
      "\t\t$.each(elems, function(index, elem) {\n",
      "\n",
      "\t\tvar inElementsArray = $.inArray(elem, options.elements);\n",
      "\t\tvar inCacheArray = $.inArray(elem, cache);\n",
      "\n",
      "\t\tif (inElementsArray != -1) {\n",
      "\t\toptions.elements.splice(inElementsArray, 1);\n",
      "\t\t}\n",
      "\n",
      "\t\tif (inCacheArray != -1) {\n",
      "\t\tcache.splice(inCacheArray, 1);\n",
      "\t\t}\n",
      "\n",
      "\t\t});\n",
      "\n",
      "\t\t};\n",
      "\n",
      "\t\t/*\n",
      "\t\t* Throttle function borrowed from:\n",
      "\t\t* Underscore.js 1.5.2\n",
      "\t\t* http://underscorejs.org\n",
      "\t\t* (c) 2009-2013 Jeremy Ashkenas, DocumentCloud and Investigative Reporters & Editors\n",
      "\t\t* Underscore may be freely distributed under the MIT license.\n",
      "\t\t*/\n",
      "\n",
      "\t\tfunction throttle(func, wait) {\n",
      "\t\tvar context, args, result;\n",
      "\t\tvar timeout = null;\n",
      "\t\tvar previous = 0;\n",
      "\t\tvar later = function() {\n",
      "\t\tprevious = new Date;\n",
      "\t\ttimeout = null;\n",
      "\t\tresult = func.apply(context, args);\n",
      "\t\t};\n",
      "\t\treturn function() {\n",
      "\t\tvar now = new Date;\n",
      "\t\tif (!previous) previous = now;\n",
      "\t\tvar remaining = wait - (now - previous);\n",
      "\t\tcontext = this;\n",
      "\t\targs = arguments;\n",
      "\t\tif (remaining <= 0) {\n",
      "\t\tclearTimeout(timeout);\n",
      "\t\ttimeout = null;\n",
      "\t\tprevious = now;\n",
      "\t\tresult = func.apply(context, args);\n",
      "\t\t} else if (!timeout) {\n",
      "\t\ttimeout = setTimeout(later, remaining);\n",
      "\t\t}\n",
      "\t\treturn result;\n",
      "\t\t};\n",
      "\t\t}\n",
      "\n",
      "\t\t/*\n",
      "\t\t* Scroll Event\n",
      "\t\t*/\n",
      "\n",
      "\t\tfunction bindScrollDepth() {\n",
      "\n",
      "\t\tscrollEventBound = true;\n",
      "\n",
      "\t\t$window.on('scroll.scrollDepth', throttle(function() {\n",
      "\t\t/*\n",
      "\t\t* We calculate document and window height on each scroll event to\n",
      "\t\t* account for dynamic DOM changes.\n",
      "\t\t*/\n",
      "\n",
      "\t\tvar docHeight = $(document).height(),\n",
      "\t\twinHeight = window.innerHeight ? window.innerHeight : $window.height(),\n",
      "\t\tscrollDistance = $window.scrollTop() + winHeight,\n",
      "\n",
      "\t\t/* Recalculate percentage marks */\n",
      "\t\tmarks = calculateMarks(docHeight),\n",
      "\n",
      "\t\t/* Timing */\n",
      "\t\ttiming = +new Date - startTime;\n",
      "\n",
      "\t\tcheckMarks(marks, scrollDistance, timing);\n",
      "\t\t}, 500));\n",
      "\n",
      "\t\t}\n",
      "\n",
      "\t\tinit();\n",
      "\t\t};\n",
      "\n",
      "\t\t/* UMD export */\n",
      "\t\treturn $.scrollDepth;\n",
      "\n",
      "\t\t}));\n",
      "\n",
      "\t\tjQuery.scrollDepth();\n",
      "\t\t} else {\n",
      "\t\tsetTimeout(monsterinsights_scroll_tracking_load, 200);\n",
      "\t\t}\n",
      "\t\t}\n",
      "\t\tmonsterinsights_scroll_tracking_load();\n",
      "\t\t});\n",
      "\t\t}\n",
      "\t\t/* End MonsterInsights Scroll Tracking */\n",
      "  </script>\n",
      "  <link href=\"https://civmin.utoronto.ca/wp-content/plugins/the-events-calendar/common/src/resources/css/variables-skeleton.min.css?ver=6.0.2\" id=\"tec-variables-skeleton-css\" media=\"all\" rel=\"stylesheet\" type=\"text/css\"/>\n",
      "  <link href=\"https://civmin.utoronto.ca/wp-content/plugins/the-events-calendar/common/src/resources/css/common-skeleton.min.css?ver=6.0.2\" id=\"tribe-common-skeleton-style-css\" media=\"all\" rel=\"stylesheet\" type=\"text/css\"/>\n",
      "  <link href=\"https://civmin.utoronto.ca/wp-content/plugins/the-events-calendar/src/resources/css/widget-events-list-skeleton.min.css?ver=6.6.3\" id=\"tribe-events-widgets-v2-events-list-skeleton-css\" media=\"all\" rel=\"stylesheet\" type=\"text/css\"/>\n",
      "  <link href=\"https://civmin.utoronto.ca/wp-content/plugins/the-events-calendar/common/src/resources/css/variables-full.min.css?ver=6.0.2\" id=\"tec-variables-full-css\" media=\"all\" rel=\"stylesheet\" type=\"text/css\"/>\n",
      "  <link href=\"https://civmin.utoronto.ca/wp-content/plugins/the-events-calendar/common/src/resources/css/common-full.min.css?ver=6.0.2\" id=\"tribe-common-full-style-css\" media=\"all\" rel=\"stylesheet\" type=\"text/css\"/>\n",
      "  <link href=\"https://civmin.utoronto.ca/wp-content/plugins/the-events-calendar/src/resources/css/widget-events-list-full.min.css?ver=6.6.3\" id=\"tribe-events-widgets-v2-events-list-full-css\" media=\"all\" rel=\"stylesheet\" type=\"text/css\"/>\n",
      "  <script id=\"dtgs_nonce_frontend-js\" src=\"https://civmin.utoronto.ca/wp-content/plugins/data-tables-generator-by-supsystic/app/assets/js/dtgsnonce.js?ver=0.01\" type=\"text/javascript\">\n",
      "  </script>\n",
      "  <script id=\"dtgs_nonce_frontend-js-after\" type=\"text/javascript\">\n",
      "   /* <![CDATA[ */\n",
      "var DTGS_NONCE_FRONTEND = \"ae41630ac9\"\n",
      "/* ]]> */\n",
      "  </script>\n",
      "  <script id=\"awsm-team-js-extra\" type=\"text/javascript\">\n",
      "   /* <![CDATA[ */\n",
      "var awsmTeamPublic = {\"ajaxurl\":\"https:\\/\\/civmin.utoronto.ca\\/wp-admin\\/admin-ajax.php\",\"deep_linking\":{\"enable\":\"\",\"member\":{\"prefix\":\"member\",\"suffix\":\"info\"},\"team\":{\"prefix\":\"team\",\"suffix\":\"info\"}},\"scripts_src\":\"https:\\/\\/civmin.utoronto.ca\\/wp-content\\/plugins\\/awsm-team-pro\\/js\"};\n",
      "/* ]]> */\n",
      "  </script>\n",
      "  <script id=\"awsm-team-js\" src=\"https://civmin.utoronto.ca/wp-content/plugins/awsm-team-pro/js/team.min.js?ver=1.10.2\" type=\"text/javascript\">\n",
      "  </script>\n",
      "  <script id=\"jquery-waypoints-js\" src=\"https://civmin.utoronto.ca/wp-content/plugins/bb-plugin/js/jquery.waypoints.min.js?ver=2.8.3.6\" type=\"text/javascript\">\n",
      "  </script>\n",
      "  <script id=\"imagesloaded-js\" src=\"https://civmin.utoronto.ca/wp-content/plugins/bb-plugin/js/jquery.imagesloaded.min.js?ver=2.8.3.6\" type=\"text/javascript\">\n",
      "  </script>\n",
      "  <script id=\"jquery-isotope-js\" src=\"https://civmin.utoronto.ca/wp-content/plugins/bbpowerpack/assets/js/isotope.pkgd.min.js?ver=3.0.1\" type=\"text/javascript\">\n",
      "  </script>\n",
      "  <script id=\"fl-builder-layout-27502-js\" src=\"https://civmin.utoronto.ca/wp-content/uploads/bb-plugin/cache/27502-layout.js?ver=8d77d2dd8e2eb2c065462d7149aa2bbd\" type=\"text/javascript\">\n",
      "  </script>\n",
      "  <script id=\"bootstrap-util-js\" src=\"https://civmin.utoronto.ca/wp-content/themes/fase-theme-2023-master/dist/js/bootstrap/util.min.js?ver=4.0.0\" type=\"text/javascript\">\n",
      "  </script>\n",
      "  <script id=\"bootstrap-theme-js\" src=\"https://civmin.utoronto.ca/wp-content/themes/fase-theme-2023-master/dist/js/bundled/bootstrap.js?ver=4.0.4\" type=\"text/javascript\">\n",
      "  </script>\n",
      "  <script defer=\"defer\" id=\"main-js\" src=\"https://civmin.utoronto.ca/wp-content/themes/fase-theme-2023-master/dist/js/site.min.js?ver=1.0.0\" type=\"text/javascript\">\n",
      "  </script>\n",
      "  <script id=\"tribe-common-js\" src=\"https://civmin.utoronto.ca/wp-content/plugins/the-events-calendar/common/src/resources/js/tribe-common.min.js?ver=6.0.2\" type=\"text/javascript\">\n",
      "  </script>\n",
      "  <script id=\"tribe-query-string-js\" src=\"https://civmin.utoronto.ca/wp-content/plugins/the-events-calendar/common/src/resources/js/utils/query-string.min.js?ver=6.0.2\" type=\"text/javascript\">\n",
      "  </script>\n",
      "  <script src=\"https://civmin.utoronto.ca/wp-content/plugins/the-events-calendar/common/src/resources/js/underscore-before.js\">\n",
      "  </script>\n",
      "  <script id=\"underscore-js\" src=\"https://civmin.utoronto.ca/wp-includes/js/underscore.min.js?ver=1.13.4\" type=\"text/javascript\">\n",
      "  </script>\n",
      "  <script src=\"https://civmin.utoronto.ca/wp-content/plugins/the-events-calendar/common/src/resources/js/underscore-after.js\">\n",
      "  </script>\n",
      "  <script defer=\"\" id=\"tribe-events-views-v2-manager-js\" src=\"https://civmin.utoronto.ca/wp-content/plugins/the-events-calendar/src/resources/js/views/manager.min.js?ver=6.6.3\" type=\"text/javascript\">\n",
      "  </script>\n",
      "  <script id=\"tribe-events-views-v2-breakpoints-js\" src=\"https://civmin.utoronto.ca/wp-content/plugins/the-events-calendar/src/resources/js/views/breakpoints.min.js?ver=6.6.3\" type=\"text/javascript\">\n",
      "  </script>\n",
      "  <style class=\"tec-customizer-inline-style\" id=\"tribe-events-widgets-v2-events-list-full-inline-css\" type=\"text/css\">\n",
      "   :root {\n",
      "\t\t\t\t/* Customizer-added Global Event styles */\n",
      "\t\t\t\t--tec-font-family-sans-serif: inherit;\n",
      "--tec-font-family-base: inherit;\n",
      "--tec-font-size-0: 12px;\n",
      "--tec-font-size-1: 14px;\n",
      "--tec-font-size-2: 16px;\n",
      "--tec-font-size-3: 18px;\n",
      "--tec-font-size-4: 20px;\n",
      "--tec-font-size-5: 23px;\n",
      "--tec-font-size-6: 25px;\n",
      "--tec-font-size-7: 27px;\n",
      "--tec-font-size-8: 32px;\n",
      "--tec-font-size-9: 36px;\n",
      "--tec-font-size-10: 47px;\n",
      "--tec-color-text-events-title: #00546e;\n",
      "--tec-color-text-event-title: #00546e;\n",
      "--tec-color-link-primary: #00546e;\n",
      "--tec-color-link-accent: #00546e;\n",
      "--tec-color-link-accent-hover: rgba(0,84,110, 0.8);\n",
      "\t\t\t}:root {\n",
      "\t\t\t\t/* Customizer-added Events Bar styles */\n",
      "\t\t\t\t--tec-color-text-events-bar-input: #00546e;\n",
      "--tec-color-text-events-bar-input-placeholder: #00546e;\n",
      "--tec-opacity-events-bar-input-placeholder: 0.6;\n",
      "--tec-color-text-view-selector-list-item: #00546e;\n",
      "--tec-color-text-view-selector-list-item-hover: #00546e;\n",
      "--tec-color-background-view-selector-list-item-hover: rgba(0,84,110, 0.12);\n",
      "\t\t\t}:root {\n",
      "\t\t\t\t/* Customizer-added Single Event styles */\n",
      "\t\t\t\t--tec-color-text-event-title: #00546e;\n",
      "\t\t\t}\n",
      "  </style>\n",
      " </body>\n",
      "</html>\n",
      "\n"
     ]
    }
   ],
   "source": [
    "from bs4 import BeautifulSoup\n",
    "soup = BeautifulSoup(my_response.text, 'html.parser')\n",
    "print(soup.prettify())"
   ]
  },
  {
   "cell_type": "markdown",
   "metadata": {},
   "source": [
    "### Request\n",
    "Now, let's check out the different attribute of our get request.\n",
    "\n",
    "**URL**"
   ]
  },
  {
   "cell_type": "code",
   "execution_count": 82,
   "metadata": {},
   "outputs": [
    {
     "data": {
      "text/plain": [
       "'https://civmin.utoronto.ca/'"
      ]
     },
     "execution_count": 82,
     "metadata": {},
     "output_type": "execute_result"
    }
   ],
   "source": [
    "my_response.request.url"
   ]
  },
  {
   "cell_type": "markdown",
   "metadata": {},
   "source": [
    "**Headers**"
   ]
  },
  {
   "cell_type": "code",
   "execution_count": 83,
   "metadata": {},
   "outputs": [
    {
     "name": "stdout",
     "output_type": "stream",
     "text": [
      "User-Agent: python-requests/2.32.3\n",
      "Accept-Encoding: gzip, deflate\n",
      "Accept: */*\n",
      "Connection: keep-alive\n"
     ]
    }
   ],
   "source": [
    "for key in my_response.request.headers:\n",
    "    print(f'{key}: {my_response.request.headers[key]}')"
   ]
  },
  {
   "cell_type": "markdown",
   "metadata": {},
   "source": [
    "**Body**"
   ]
  },
  {
   "cell_type": "code",
   "execution_count": 84,
   "metadata": {},
   "outputs": [],
   "source": [
    "my_response.request.body"
   ]
  },
  {
   "cell_type": "markdown",
   "metadata": {},
   "source": [
    "### Response\n",
    "Now, let's check out the different attribute of our the response.\n",
    "\n",
    "**Status Code**"
   ]
  },
  {
   "cell_type": "code",
   "execution_count": 85,
   "metadata": {},
   "outputs": [
    {
     "data": {
      "text/plain": [
       "200"
      ]
     },
     "execution_count": 85,
     "metadata": {},
     "output_type": "execute_result"
    }
   ],
   "source": [
    "my_response.status_code"
   ]
  },
  {
   "cell_type": "markdown",
   "metadata": {},
   "source": [
    "**Encoding**"
   ]
  },
  {
   "cell_type": "code",
   "execution_count": 86,
   "metadata": {},
   "outputs": [
    {
     "data": {
      "text/plain": [
       "'UTF-8'"
      ]
     },
     "execution_count": 86,
     "metadata": {},
     "output_type": "execute_result"
    }
   ],
   "source": [
    "my_response.encoding"
   ]
  },
  {
   "cell_type": "markdown",
   "metadata": {},
   "source": [
    "**Headers**"
   ]
  },
  {
   "cell_type": "code",
   "execution_count": 87,
   "metadata": {},
   "outputs": [
    {
     "name": "stdout",
     "output_type": "stream",
     "text": [
      "Date: Fri, 13 Sep 2024 04:54:02 GMT\n",
      "Server: Apache/2.4.6\n",
      "X-Powered-By: PHP/8.2.20\n",
      "Link: <https://civmin.utoronto.ca/wp-json/>; rel=\"https://api.w.org/\", <https://civmin.utoronto.ca/wp-json/wp/v2/pages/27502>; rel=\"alternate\"; title=\"JSON\"; type=\"application/json\", <https://civmin.utoronto.ca/>; rel=shortlink\n",
      "X-TEC-API-VERSION: v1\n",
      "X-TEC-API-ROOT: https://civmin.utoronto.ca/wp-json/tribe/events/v1/\n",
      "X-TEC-API-ORIGIN: https://civmin.utoronto.ca\n",
      "Keep-Alive: timeout=5, max=100\n",
      "Connection: Keep-Alive\n",
      "Transfer-Encoding: chunked\n",
      "Content-Type: text/html; charset=UTF-8\n"
     ]
    }
   ],
   "source": [
    "for key in my_response.headers:\n",
    "    print(f'{key}: {my_response.headers[key]}')"
   ]
  },
  {
   "cell_type": "markdown",
   "metadata": {},
   "source": [
    "**Text**"
   ]
  },
  {
   "cell_type": "code",
   "execution_count": 88,
   "metadata": {},
   "outputs": [
    {
     "data": {
      "text/plain": [
       "'<!DOCTYPE html>\\r\\n<html lang=\"en-US\">\\r\\n\\r\\n<head>\\r\\n\\r\\n\\t<meta charset=\"UTF-8\">\\r\\n\\t<meta name=\"viewport\" content=\"width=device-width, initial-scale=1\">\\r\\n\\t<link rel=\"profile\" href=\"https://gmpg.org/xfn/11\">\\r\\n\\t<link rel=\"pingback\" href=\"https://civmin.utoronto.ca/xmlrpc.php\">\\r\\n\\r\\n\\t\\t<meta name=\"description\" content=\"\">\\r\\n\\t<meta property=\"og:url\" content=\"https://civmin.utoronto.ca\"/>\\r\\n\\t<meta property=\"og:site_name\" content=\"Department of Civil &amp; Mineral Engineering\" />\\r\\n\\t<meta property=\"og:image\" conten'"
      ]
     },
     "execution_count": 88,
     "metadata": {},
     "output_type": "execute_result"
    }
   ],
   "source": [
    "my_response.text[0:500]"
   ]
  },
  {
   "cell_type": "code",
   "execution_count": 89,
   "metadata": {},
   "outputs": [
    {
     "data": {
      "text/plain": [
       "str"
      ]
     },
     "execution_count": 89,
     "metadata": {},
     "output_type": "execute_result"
    }
   ],
   "source": [
    "type(my_response.text[0:500])"
   ]
  },
  {
   "cell_type": "markdown",
   "metadata": {},
   "source": [
    "**Content**"
   ]
  },
  {
   "cell_type": "code",
   "execution_count": 90,
   "metadata": {},
   "outputs": [
    {
     "data": {
      "text/plain": [
       "b'<!DOCTYPE html>\\r\\n<html lang=\"en-US\">\\r\\n\\r\\n<head>\\r\\n\\r\\n\\t<meta charset=\"UTF-8\">\\r\\n\\t<meta name=\"viewport\" content=\"width=device-width, initial-scale=1\">\\r\\n\\t<link rel=\"profile\" href=\"https://gmpg.org/xfn/11\">\\r\\n\\t<link rel=\"pingback\" href=\"https://civmin.utoronto.ca/xmlrpc.php\">\\r\\n\\r\\n\\t\\t<meta name=\"description\" content=\"\">\\r\\n\\t<meta property=\"og:url\" content=\"https://civmin.utoronto.ca\"/>\\r\\n\\t<meta property=\"og:site_name\" content=\"Department of Civil &amp; Mineral Engineering\" />\\r\\n\\t<meta property=\"og:image\" conten'"
      ]
     },
     "execution_count": 90,
     "metadata": {},
     "output_type": "execute_result"
    }
   ],
   "source": [
    "my_response.content[0:500]"
   ]
  },
  {
   "cell_type": "code",
   "execution_count": 91,
   "metadata": {},
   "outputs": [
    {
     "data": {
      "text/plain": [
       "bytes"
      ]
     },
     "execution_count": 91,
     "metadata": {},
     "output_type": "execute_result"
    }
   ],
   "source": [
    "type(my_response.content[0:500])"
   ]
  },
  {
   "cell_type": "markdown",
   "metadata": {},
   "source": [
    "### Bad Request"
   ]
  },
  {
   "cell_type": "code",
   "execution_count": 92,
   "metadata": {},
   "outputs": [],
   "source": [
    "my_response = requests.get('http://www.civmin.utoronto.ca/sebs_mug_shot.jpg')"
   ]
  },
  {
   "cell_type": "code",
   "execution_count": 93,
   "metadata": {},
   "outputs": [
    {
     "data": {
      "text/plain": [
       "404"
      ]
     },
     "execution_count": 93,
     "metadata": {},
     "output_type": "execute_result"
    }
   ],
   "source": [
    "my_response.status_code"
   ]
  },
  {
   "cell_type": "markdown",
   "metadata": {},
   "source": [
    "### Requesting an Image Resource\n",
    "Check out [this](https://civmin.utoronto.ca/wp-content/uploads/bb-plugin/cache/IMG_5997_cropped-portrait-6ba5eb61ff3b97f3ca8b900ec4c00e9e-5e33200789147.jpg) picture of Seb."
   ]
  },
  {
   "cell_type": "code",
   "execution_count": 94,
   "metadata": {},
   "outputs": [],
   "source": [
    "my_response = requests.get('https://civmin.utoronto.ca/wp-content/uploads/bb-plugin/cache/IMG_5997_cropped-portrait-6ba5eb61ff3b97f3ca8b900ec4c00e9e-5e33200789147.jpg')"
   ]
  },
  {
   "cell_type": "code",
   "execution_count": 95,
   "metadata": {},
   "outputs": [
    {
     "data": {
      "text/plain": [
       "404"
      ]
     },
     "execution_count": 95,
     "metadata": {},
     "output_type": "execute_result"
    }
   ],
   "source": [
    "my_response.status_code"
   ]
  },
  {
   "cell_type": "code",
   "execution_count": 96,
   "metadata": {},
   "outputs": [
    {
     "data": {
      "text/plain": [
       "'UTF-8'"
      ]
     },
     "execution_count": 96,
     "metadata": {},
     "output_type": "execute_result"
    }
   ],
   "source": [
    "my_response.encoding"
   ]
  },
  {
   "cell_type": "code",
   "execution_count": 97,
   "metadata": {},
   "outputs": [
    {
     "data": {
      "text/plain": [
       "'<!DOCTYPE html>\\r\\n<html lang=\"en-US\">\\r\\n\\r\\n<head>\\r\\n\\r\\n\\t<meta charset=\"UTF-8\">\\r\\n\\t<meta name=\"viewport\" content=\"width=device-width, initial-scale=1\">\\r\\n\\t<link rel=\"profile\" href=\"https://gmpg.org/xfn/11\">\\r\\n'"
      ]
     },
     "execution_count": 97,
     "metadata": {},
     "output_type": "execute_result"
    }
   ],
   "source": [
    "my_response.text[0:200]"
   ]
  },
  {
   "cell_type": "code",
   "execution_count": 98,
   "metadata": {},
   "outputs": [
    {
     "data": {
      "text/plain": [
       "b'<!DOCTYPE html>\\r\\n<html lang=\"en-US\">\\r\\n\\r\\n<head>\\r\\n\\r\\n\\t<meta charset=\"UTF-8\">\\r\\n\\t<meta name=\"viewport\" content=\"width=device-width, initial-scale=1\">\\r\\n\\t<link rel=\"profile\" href=\"https://gmpg.org/xfn/11\">\\r\\n'"
      ]
     },
     "execution_count": 98,
     "metadata": {},
     "output_type": "execute_result"
    }
   ],
   "source": [
    "my_response.content[0:200]"
   ]
  },
  {
   "attachments": {},
   "cell_type": "markdown",
   "metadata": {
    "pycharm": {
     "name": "#%% md\n"
    }
   },
   "source": [
    "<a id='section7'></a>\n",
    "## 7. Web Technologies (REST API)\n",
    "You can learn how to work with the CoinGecko API [here](https://www.coingecko.com/en/api/documentation).\n",
    "\n",
    "Let's first work with the `/simple/price` route. "
   ]
  },
  {
   "cell_type": "code",
   "execution_count": 99,
   "metadata": {},
   "outputs": [
    {
     "data": {
      "text/html": [
       "<div>\n",
       "<style scoped>\n",
       "    .dataframe tbody tr th:only-of-type {\n",
       "        vertical-align: middle;\n",
       "    }\n",
       "\n",
       "    .dataframe tbody tr th {\n",
       "        vertical-align: top;\n",
       "    }\n",
       "\n",
       "    .dataframe thead th {\n",
       "        text-align: right;\n",
       "    }\n",
       "</style>\n",
       "<table border=\"1\" class=\"dataframe\">\n",
       "  <thead>\n",
       "    <tr style=\"text-align: right;\">\n",
       "      <th></th>\n",
       "      <th>bitcoin</th>\n",
       "      <th>ethereum</th>\n",
       "      <th>fantom</th>\n",
       "      <th>litecoin</th>\n",
       "    </tr>\n",
       "  </thead>\n",
       "  <tbody>\n",
       "    <tr>\n",
       "      <th>usd</th>\n",
       "      <td>57890</td>\n",
       "      <td>2354.25</td>\n",
       "      <td>0.481540</td>\n",
       "      <td>62.56</td>\n",
       "    </tr>\n",
       "    <tr>\n",
       "      <th>eur</th>\n",
       "      <td>52222</td>\n",
       "      <td>2123.76</td>\n",
       "      <td>0.434397</td>\n",
       "      <td>56.43</td>\n",
       "    </tr>\n",
       "    <tr>\n",
       "      <th>aud</th>\n",
       "      <td>86056</td>\n",
       "      <td>3499.70</td>\n",
       "      <td>0.715832</td>\n",
       "      <td>92.99</td>\n",
       "    </tr>\n",
       "    <tr>\n",
       "      <th>cad</th>\n",
       "      <td>78583</td>\n",
       "      <td>3195.81</td>\n",
       "      <td>0.653674</td>\n",
       "      <td>84.92</td>\n",
       "    </tr>\n",
       "  </tbody>\n",
       "</table>\n",
       "</div>"
      ],
      "text/plain": [
       "     bitcoin  ethereum    fantom  litecoin\n",
       "usd    57890   2354.25  0.481540     62.56\n",
       "eur    52222   2123.76  0.434397     56.43\n",
       "aud    86056   3499.70  0.715832     92.99\n",
       "cad    78583   3195.81  0.653674     84.92"
      ]
     },
     "execution_count": 99,
     "metadata": {},
     "output_type": "execute_result"
    }
   ],
   "source": [
    "base_url = 'https://api.coingecko.com/api/v3/'\n",
    "route = 'simple/price'\n",
    "params = {'ids': 'bitcoin,litecoin,ethereum,fantom,', 'vs_currencies': 'usd,eur,aud,cad'}\n",
    "\n",
    "my_response = requests.get(base_url + route, params=params)\n",
    "\n",
    "price_df = pd.DataFrame(my_response.json())\n",
    "price_df.head() "
   ]
  },
  {
   "cell_type": "markdown",
   "metadata": {},
   "source": [
    "Let's check out the `URL` we created."
   ]
  },
  {
   "cell_type": "code",
   "execution_count": 100,
   "metadata": {},
   "outputs": [
    {
     "data": {
      "text/plain": [
       "'https://api.coingecko.com/api/v3/simple/price?ids=bitcoin%2Clitecoin%2Cethereum%2Cfantom%2C&vs_currencies=usd%2Ceur%2Caud%2Ccad'"
      ]
     },
     "execution_count": 100,
     "metadata": {},
     "output_type": "execute_result"
    }
   ],
   "source": [
    "my_response.url"
   ]
  },
  {
   "cell_type": "markdown",
   "metadata": {},
   "source": [
    "Now let's work with the `/coins/list` route."
   ]
  },
  {
   "cell_type": "code",
   "execution_count": 101,
   "metadata": {},
   "outputs": [
    {
     "data": {
      "text/html": [
       "<div>\n",
       "<style scoped>\n",
       "    .dataframe tbody tr th:only-of-type {\n",
       "        vertical-align: middle;\n",
       "    }\n",
       "\n",
       "    .dataframe tbody tr th {\n",
       "        vertical-align: top;\n",
       "    }\n",
       "\n",
       "    .dataframe thead th {\n",
       "        text-align: right;\n",
       "    }\n",
       "</style>\n",
       "<table border=\"1\" class=\"dataframe\">\n",
       "  <thead>\n",
       "    <tr style=\"text-align: right;\">\n",
       "      <th></th>\n",
       "      <th>id</th>\n",
       "      <th>symbol</th>\n",
       "      <th>name</th>\n",
       "    </tr>\n",
       "  </thead>\n",
       "  <tbody>\n",
       "    <tr>\n",
       "      <th>0</th>\n",
       "      <td>01coin</td>\n",
       "      <td>zoc</td>\n",
       "      <td>01coin</td>\n",
       "    </tr>\n",
       "    <tr>\n",
       "      <th>1</th>\n",
       "      <td>0chain</td>\n",
       "      <td>zcn</td>\n",
       "      <td>Zus</td>\n",
       "    </tr>\n",
       "    <tr>\n",
       "      <th>2</th>\n",
       "      <td>0dog</td>\n",
       "      <td>0dog</td>\n",
       "      <td>Bitcoin Dogs</td>\n",
       "    </tr>\n",
       "    <tr>\n",
       "      <th>3</th>\n",
       "      <td>0-knowledge-network</td>\n",
       "      <td>0kn</td>\n",
       "      <td>0 Knowledge Network</td>\n",
       "    </tr>\n",
       "    <tr>\n",
       "      <th>4</th>\n",
       "      <td>0-mee</td>\n",
       "      <td>ome</td>\n",
       "      <td>O-MEE</td>\n",
       "    </tr>\n",
       "    <tr>\n",
       "      <th>5</th>\n",
       "      <td>0vix-protocol</td>\n",
       "      <td>vix</td>\n",
       "      <td>0VIX Protocol</td>\n",
       "    </tr>\n",
       "    <tr>\n",
       "      <th>6</th>\n",
       "      <td>0vm</td>\n",
       "      <td>zerovm</td>\n",
       "      <td>0VM</td>\n",
       "    </tr>\n",
       "    <tr>\n",
       "      <th>7</th>\n",
       "      <td>0x</td>\n",
       "      <td>zrx</td>\n",
       "      <td>0x Protocol</td>\n",
       "    </tr>\n",
       "    <tr>\n",
       "      <th>8</th>\n",
       "      <td>0x0-ai-ai-smart-contract</td>\n",
       "      <td>0x0</td>\n",
       "      <td>0x0.ai: AI Smart Contract</td>\n",
       "    </tr>\n",
       "    <tr>\n",
       "      <th>9</th>\n",
       "      <td>0x404</td>\n",
       "      <td>xfour</td>\n",
       "      <td>0x404</td>\n",
       "    </tr>\n",
       "  </tbody>\n",
       "</table>\n",
       "</div>"
      ],
      "text/plain": [
       "                         id  symbol                       name\n",
       "0                    01coin     zoc                     01coin\n",
       "1                    0chain     zcn                        Zus\n",
       "2                      0dog    0dog               Bitcoin Dogs\n",
       "3       0-knowledge-network     0kn        0 Knowledge Network\n",
       "4                     0-mee     ome                      O-MEE\n",
       "5             0vix-protocol     vix              0VIX Protocol\n",
       "6                       0vm  zerovm                        0VM\n",
       "7                        0x     zrx                0x Protocol\n",
       "8  0x0-ai-ai-smart-contract     0x0  0x0.ai: AI Smart Contract\n",
       "9                     0x404   xfour                      0x404"
      ]
     },
     "execution_count": 101,
     "metadata": {},
     "output_type": "execute_result"
    }
   ],
   "source": [
    "base_url = 'https://api.coingecko.com/api/v3/'\n",
    "route = 'coins/list'\n",
    "\n",
    "my_response = requests.get(base_url + route)\n",
    "\n",
    "coins_df = pd.DataFrame(my_response.json())\n",
    "coins_df.head(10) "
   ]
  },
  {
   "cell_type": "markdown",
   "metadata": {},
   "source": [
    "Now let's work with the `/coins/{id}/market_chart` route."
   ]
  },
  {
   "cell_type": "code",
   "execution_count": 102,
   "metadata": {},
   "outputs": [
    {
     "name": "stdout",
     "output_type": "stream",
     "text": [
      "       TimeStamp         Price       Date\n",
      "0  1694736000000  26531.395566 2023-09-15\n",
      "1  1694822400000  26634.631025 2023-09-16\n",
      "2  1694908800000  26557.768692 2023-09-17\n",
      "3  1694995200000  26520.988255 2023-09-18\n",
      "4  1695081600000  26741.461111 2023-09-19\n"
     ]
    }
   ],
   "source": [
    "import requests\n",
    "import pandas as pd\n",
    "\n",
    "# Specify the coin you want to retrieve market chart data for\n",
    "coin = 'bitcoin'\n",
    "\n",
    "# Correct base URL for market chart data\n",
    "base_url = f'https://api.coingecko.com/api/v3/coins/{coin}/market_chart'\n",
    "\n",
    "# Parameters for the API request (limited to 365 days)\n",
    "params = {\n",
    "    'vs_currency': 'usd',  # currency to compare\n",
    "    'days': '365'          # maximum limit for free users\n",
    "}\n",
    "\n",
    "# Sending a request to the correct API endpoint\n",
    "my_response = requests.get(base_url, params=params)\n",
    "\n",
    "# Check if the response was successful\n",
    "if my_response.status_code == 200:\n",
    "    # Convert the JSON response to a DataFrame\n",
    "    market_chart_data = pd.DataFrame(my_response.json()['prices'], columns=['TimeStamp', 'Price'])\n",
    "    market_chart_data['Date'] = pd.to_datetime(market_chart_data['TimeStamp'], unit='ms')\n",
    "    print(market_chart_data.head())\n",
    "else:\n",
    "    print(f\"Error: {my_response.status_code}, {my_response.text}\")"
   ]
  },
  {
   "cell_type": "markdown",
   "metadata": {},
   "source": [
    "Now let's aggrigate the data to set the opening, closing, min and max price for each dat."
   ]
  },
  {
   "cell_type": "code",
   "execution_count": 103,
   "metadata": {},
   "outputs": [
    {
     "data": {
      "text/html": [
       "<div>\n",
       "<style scoped>\n",
       "    .dataframe tbody tr th:only-of-type {\n",
       "        vertical-align: middle;\n",
       "    }\n",
       "\n",
       "    .dataframe tbody tr th {\n",
       "        vertical-align: top;\n",
       "    }\n",
       "\n",
       "    .dataframe thead tr th {\n",
       "        text-align: left;\n",
       "    }\n",
       "\n",
       "    .dataframe thead tr:last-of-type th {\n",
       "        text-align: right;\n",
       "    }\n",
       "</style>\n",
       "<table border=\"1\" class=\"dataframe\">\n",
       "  <thead>\n",
       "    <tr>\n",
       "      <th></th>\n",
       "      <th colspan=\"4\" halign=\"left\">Price</th>\n",
       "    </tr>\n",
       "    <tr>\n",
       "      <th></th>\n",
       "      <th>min</th>\n",
       "      <th>max</th>\n",
       "      <th>first</th>\n",
       "      <th>last</th>\n",
       "    </tr>\n",
       "    <tr>\n",
       "      <th>Date</th>\n",
       "      <th></th>\n",
       "      <th></th>\n",
       "      <th></th>\n",
       "      <th></th>\n",
       "    </tr>\n",
       "  </thead>\n",
       "  <tbody>\n",
       "    <tr>\n",
       "      <th>2023-09-15</th>\n",
       "      <td>26531.395566</td>\n",
       "      <td>26531.395566</td>\n",
       "      <td>26531.395566</td>\n",
       "      <td>26531.395566</td>\n",
       "    </tr>\n",
       "    <tr>\n",
       "      <th>2023-09-16</th>\n",
       "      <td>26634.631025</td>\n",
       "      <td>26634.631025</td>\n",
       "      <td>26634.631025</td>\n",
       "      <td>26634.631025</td>\n",
       "    </tr>\n",
       "    <tr>\n",
       "      <th>2023-09-17</th>\n",
       "      <td>26557.768692</td>\n",
       "      <td>26557.768692</td>\n",
       "      <td>26557.768692</td>\n",
       "      <td>26557.768692</td>\n",
       "    </tr>\n",
       "    <tr>\n",
       "      <th>2023-09-18</th>\n",
       "      <td>26520.988255</td>\n",
       "      <td>26520.988255</td>\n",
       "      <td>26520.988255</td>\n",
       "      <td>26520.988255</td>\n",
       "    </tr>\n",
       "    <tr>\n",
       "      <th>2023-09-19</th>\n",
       "      <td>26741.461111</td>\n",
       "      <td>26741.461111</td>\n",
       "      <td>26741.461111</td>\n",
       "      <td>26741.461111</td>\n",
       "    </tr>\n",
       "  </tbody>\n",
       "</table>\n",
       "</div>"
      ],
      "text/plain": [
       "                   Price                                          \n",
       "                     min           max         first          last\n",
       "Date                                                              \n",
       "2023-09-15  26531.395566  26531.395566  26531.395566  26531.395566\n",
       "2023-09-16  26634.631025  26634.631025  26634.631025  26634.631025\n",
       "2023-09-17  26557.768692  26557.768692  26557.768692  26557.768692\n",
       "2023-09-18  26520.988255  26520.988255  26520.988255  26520.988255\n",
       "2023-09-19  26741.461111  26741.461111  26741.461111  26741.461111"
      ]
     },
     "execution_count": 103,
     "metadata": {},
     "output_type": "execute_result"
    }
   ],
   "source": [
    "candlestick_data = market_chart_data.groupby(market_chart_data.Date.dt.date).agg({'Price': ['min', 'max', 'first', 'last']})\n",
    "candlestick_data.head()"
   ]
  },
  {
   "cell_type": "markdown",
   "metadata": {},
   "source": [
    "Lastly, let's plot the data using the amazing Plotly package."
   ]
  },
  {
   "cell_type": "code",
   "execution_count": 104,
   "metadata": {},
   "outputs": [
    {
     "name": "stdout",
     "output_type": "stream",
     "text": [
      "zsh:1: = not found\n",
      "Note: you may need to restart the kernel to use updated packages.\n",
      "Requirement already satisfied: plotly in /Users/ali/opt/anaconda3/envs/cme538/lib/python3.12/site-packages (5.24.1)\n",
      "Requirement already satisfied: tenacity>=6.2.0 in /Users/ali/opt/anaconda3/envs/cme538/lib/python3.12/site-packages (from plotly) (9.0.0)\n",
      "Requirement already satisfied: packaging in /Users/ali/opt/anaconda3/envs/cme538/lib/python3.12/site-packages (from plotly) (24.1)\n",
      "Note: you may need to restart the kernel to use updated packages.\n"
     ]
    }
   ],
   "source": [
    "%pip install nbformat == 4.2.0\n",
    "%pip install plotly"
   ]
  },
  {
   "cell_type": "code",
   "execution_count": 105,
   "metadata": {},
   "outputs": [
    {
     "data": {
      "application/vnd.plotly.v1+json": {
       "config": {
        "plotlyServerURL": "https://plot.ly"
       },
       "data": [
        {
         "close": [
          26531.39556626326,
          26634.631025000588,
          26557.768691994646,
          26520.988254783886,
          26741.461110948952,
          27219.296874634216,
          27115.846446970816,
          26561.133454198716,
          26572.0381115526,
          26573.9234797301,
          26249.562897845204,
          26298.634678281232,
          26204.75759083597,
          26350.146895428057,
          27009.01375072488,
          26917.199101637976,
          26969.876144072576,
          27967.510579087113,
          27615.06488509527,
          27439.121946705116,
          27792.1112772493,
          27435.874615135104,
          27958.196437350485,
          27977.543490700005,
          27948.10365174851,
          27593.782534439666,
          27392.247702732497,
          26842.190439092396,
          26729.137205815106,
          26841.136220644406,
          26863.183569079916,
          27150.29700140705,
          28513.30993247735,
          28417.72175169982,
          28328.245198134824,
          28715.748142407952,
          29677.392888476206,
          29920.07449265145,
          30019.38050086351,
          32953.262760830985,
          33846.72425733224,
          34471.986031672015,
          34174.451552912586,
          33899.09305644032,
          34092.630932838576,
          34556.242814761616,
          34498.70391946407,
          34672.2892841885,
          35457.45491210553,
          34924.05545044328,
          34731.38136896784,
          35048.407834901074,
          35061.92874919579,
          35031.26888208706,
          35436.53762957962,
          35795.080630710196,
          36768.42081912672,
          37344.249000720345,
          37122.722824306555,
          37067.69698212008,
          36549.16204829837,
          35545.201433454065,
          37903.66245166294,
          36201.51611146142,
          36527.76022530742,
          36582.36844192274,
          37413.99460790531,
          37489.298470802016,
          35965.36036068078,
          37464.83293220907,
          37293.316127426726,
          37738.93169747125,
          37809.85286625321,
          37491.838186008135,
          37250.16905148115,
          37802.23604377473,
          37810.34641654128,
          37711.81837585267,
          38688.25874179069,
          39481.666416062864,
          39960.275420410515,
          41974.331772543344,
          44105.94477259938,
          43788.28880825234,
          43270.11955970747,
          44202.17610943621,
          43745.49199189547,
          43757.959937619176,
          41200.96272610168,
          41450.819387377436,
          42931.76182603245,
          43009.5954563739,
          41992.01418722399,
          42247.06788172229,
          41410.819634575855,
          42684.182554683386,
          42250.206182797505,
          43634.1241684964,
          43849.69959939619,
          44003.6960216438,
          43752.03088478376,
          43034.971063091514,
          43638.236302200916,
          42516.426940282516,
          43418.46777504291,
          42600.65063315619,
          42074.70715618848,
          42220.61140121376,
          42208.202176186474,
          44168.68118687473,
          44994.67388689237,
          42821.558989157995,
          44195.57856209971,
          44113.69973389081,
          43956.12071720152,
          43883.74387905174,
          46936.185561217506,
          46105.94607828697,
          46632.31314804979,
          46314.355541602694,
          42893.92960550481,
          42848.47451640749,
          41800.93282193406,
          42587.336038354406,
          43148.00164342693,
          42713.859186938986,
          41261.39479801012,
          41600.94093254464,
          41626.10711003664,
          41541.89945706261,
          39504.73005758438,
          39833.45410501688,
          40123.67105847147,
          39938.28644155878,
          41862.9356109399,
          42119.61049464309,
          42026.57856232145,
          43267.60927638767,
          42892.03453014447,
          42583.26354663417,
          43069.043420936796,
          43170.65856159975,
          42976.84829990829,
          42599.35997055978,
          42648.45692113544,
          43087.78740814285,
          44247.415415479314,
          45338.271189789484,
          47143.24299107112,
          47768.995251247936,
          48189.88179303987,
          50050.13609456397,
          49732.14536955351,
          51790.16929752642,
          51958.23029105492,
          52166.43430976192,
          51684.51749264525,
          52138.48578873693,
          51764.313185487765,
          52286.79372554667,
          51842.75676625642,
          51319.500125702674,
          50841.081094770896,
          51553.096712831146,
          51751.884054934555,
          54478.191083122954,
          57003.52673730811,
          62558.58202419311,
          61298.216861101624,
          62426.64052919186,
          62067.86680212177,
          63053.10543906421,
          68186.64593432152,
          64291.536557569496,
          66145.91927850846,
          66944.87639053575,
          68315.25192078314,
          68508.0039626159,
          69075.66688195744,
          72130.55300765681,
          71467.17350326062,
          73097.76702694128,
          71420.03180142345,
          69497.7631929463,
          65292.31329331289,
          68425.41565643054,
          67708.94360930806,
          62132.51737873437,
          67819.05570684028,
          65535.97844847657,
          63509.04496523133,
          64285.80279102199,
          67310.98326810106,
          69938.94530200244,
          70082.05122475982,
          69435.75040305211,
          70710.19534863312,
          69919.05546148612,
          69702.3087473573,
          71246.95144060145,
          69785.92503802372,
          65440.41922587159,
          66123.938539074,
          68542.17715279506,
          67978.61023408506,
          69000.6499164776,
          69401.97360911008,
          71624.18486236996,
          69158.64381207665,
          70527.88997578963,
          70106.66413070948,
          67252.10504226631,
          64404.82548907413,
          65752.66004728881,
          63430.5714573684,
          63720.501587480736,
          61328.89798860725,
          63461.592695107174,
          63988.818471785664,
          64894.41869109179,
          64936.4207567739,
          66841.66685207361,
          66406.95244392671,
          64279.51812857524,
          64486.183359158975,
          63802.330049258766,
          63517.248743409626,
          63030.433616681854,
          63797.67963589958,
          60749.47209216387,
          58297.574075325494,
          59135.1733607733,
          62839.34073569376,
          63820.451902924986,
          64010.00865210892,
          63172.48129551341,
          62363.057191718624,
          61215.50400879193,
          63148.599943097026,
          60888.21674957157,
          60776.972079172134,
          61507.054004121346,
          62878.783300729294,
          61569.1130057734,
          66220.51831432826,
          65260.879803346186,
          67053.12326509564,
          66912.61861403697,
          66252.71259591613,
          71430.29700215145,
          70189.8358177002,
          69181.20085677762,
          67906.46534276106,
          68539.91646552991,
          69268.44558973772,
          68508.83110875699,
          69367.23871755725,
          68316.63588049631,
          67577.26558995963,
          68372.49288434093,
          67474.95483698409,
          67704.32641811523,
          67740.01690222476,
          68808.29368590549,
          70600.01116676089,
          71184.59943059199,
          70759.58819301432,
          69325.36238847222,
          69315.1041233966,
          69654.16073760358,
          69493.17760915738,
          67329.15232724321,
          68224.51967501991,
          66700.31696564378,
          66011.07873713733,
          66190.4874891135,
          66615.53782131766,
          66460.38897909952,
          65109.314812190474,
          64907.07460760319,
          64844.67441797763,
          64071.624284709695,
          64239.90348813148,
          63221.35738437477,
          60363.23497529626,
          61770.413870095355,
          60749.89619402014,
          61562.64532550036,
          60317.09697945116,
          60864.44316193428,
          62734.39383945474,
          62819.82226921849,
          62042.5650371006,
          60244.68076433092,
          57189.17412408636,
          56739.86285107204,
          58230.4841542266,
          55880.3753776708,
          56665.140733520275,
          57988.30351208401,
          57704.202284462874,
          57388.192479166675,
          57899.28895749592,
          59152.71913887286,
          60942.32773996293,
          64835.48973321571,
          65162.23625234354,
          64136.31384360687,
          63959.56900809379,
          66689.54880734957,
          67206.06470614894,
          68088.13996324532,
          67607.71339918874,
          65942.41746522837,
          65403.53513022529,
          65749.96361965332,
          67920.2964857025,
          68055.40838968738,
          68242.2474440493,
          66770.32091848266,
          66219.05102486102,
          64679.778647032515,
          65357.52960767435,
          61407.29547397454,
          60738.7449250574,
          58006.206586686734,
          53956.26184159744,
          55959.84107399357,
          55099.95181146735,
          61859.03159904161,
          60912.588533350805,
          60887.70861641504,
          58804.23449992608,
          59350.07433270696,
          60601.22317789727,
          58739.19382231015,
          57624.11692852191,
          58881.92579151217,
          59430.79163445865,
          58438.293742685404,
          59574.945812940874,
          59060.12610074137,
          61144.68762866613,
          60387.54062321362,
          64049.68561555576,
          64157.1606134782,
          64265.81631272862,
          62922.58634676265,
          59526.560879590994,
          59015.29633887944,
          59351.5794909728,
          59156.246036463555,
          58960.23658664587,
          57357.71617282246,
          59108.73235863689,
          57504.538586220435,
          57987.84601410068,
          56132.404732088595,
          53923.35611071905,
          54150.9383589072,
          54792.40755768575,
          57049.118751143265,
          57624.16178336144,
          57381.764445000474,
          58080.48767286504
         ],
         "high": [
          26531.39556626326,
          26634.631025000588,
          26557.768691994646,
          26520.988254783886,
          26741.461110948952,
          27219.296874634216,
          27115.846446970816,
          26561.133454198716,
          26572.0381115526,
          26573.9234797301,
          26249.562897845204,
          26298.634678281232,
          26204.75759083597,
          26350.146895428057,
          27009.01375072488,
          26917.199101637976,
          26969.876144072576,
          27967.510579087113,
          27615.06488509527,
          27439.121946705116,
          27792.1112772493,
          27435.874615135104,
          27958.196437350485,
          27977.543490700005,
          27948.10365174851,
          27593.782534439666,
          27392.247702732497,
          26842.190439092396,
          26729.137205815106,
          26841.136220644406,
          26863.183569079916,
          27150.29700140705,
          28513.30993247735,
          28417.72175169982,
          28328.245198134824,
          28715.748142407952,
          29677.392888476206,
          29920.07449265145,
          30019.38050086351,
          32953.262760830985,
          33846.72425733224,
          34471.986031672015,
          34174.451552912586,
          33899.09305644032,
          34092.630932838576,
          34556.242814761616,
          34498.70391946407,
          34672.2892841885,
          35457.45491210553,
          34924.05545044328,
          34731.38136896784,
          35048.407834901074,
          35061.92874919579,
          35031.26888208706,
          35436.53762957962,
          35795.080630710196,
          36768.42081912672,
          37344.249000720345,
          37122.722824306555,
          37067.69698212008,
          36549.16204829837,
          35545.201433454065,
          37903.66245166294,
          36201.51611146142,
          36527.76022530742,
          36582.36844192274,
          37413.99460790531,
          37489.298470802016,
          35965.36036068078,
          37464.83293220907,
          37293.316127426726,
          37738.93169747125,
          37809.85286625321,
          37491.838186008135,
          37250.16905148115,
          37802.23604377473,
          37810.34641654128,
          37711.81837585267,
          38688.25874179069,
          39481.666416062864,
          39960.275420410515,
          41974.331772543344,
          44105.94477259938,
          43788.28880825234,
          43270.11955970747,
          44202.17610943621,
          43745.49199189547,
          43757.959937619176,
          41200.96272610168,
          41450.819387377436,
          42931.76182603245,
          43009.5954563739,
          41992.01418722399,
          42247.06788172229,
          41410.819634575855,
          42684.182554683386,
          42250.206182797505,
          43634.1241684964,
          43849.69959939619,
          44003.6960216438,
          43752.03088478376,
          43034.971063091514,
          43638.236302200916,
          42516.426940282516,
          43418.46777504291,
          42600.65063315619,
          42074.70715618848,
          42220.61140121376,
          42208.202176186474,
          44168.68118687473,
          44994.67388689237,
          42821.558989157995,
          44195.57856209971,
          44113.69973389081,
          43956.12071720152,
          43883.74387905174,
          46936.185561217506,
          46105.94607828697,
          46632.31314804979,
          46314.355541602694,
          42893.92960550481,
          42848.47451640749,
          41800.93282193406,
          42587.336038354406,
          43148.00164342693,
          42713.859186938986,
          41261.39479801012,
          41600.94093254464,
          41626.10711003664,
          41541.89945706261,
          39504.73005758438,
          39833.45410501688,
          40123.67105847147,
          39938.28644155878,
          41862.9356109399,
          42119.61049464309,
          42026.57856232145,
          43267.60927638767,
          42892.03453014447,
          42583.26354663417,
          43069.043420936796,
          43170.65856159975,
          42976.84829990829,
          42599.35997055978,
          42648.45692113544,
          43087.78740814285,
          44247.415415479314,
          45338.271189789484,
          47143.24299107112,
          47768.995251247936,
          48189.88179303987,
          50050.13609456397,
          49732.14536955351,
          51790.16929752642,
          51958.23029105492,
          52166.43430976192,
          51684.51749264525,
          52138.48578873693,
          51764.313185487765,
          52286.79372554667,
          51842.75676625642,
          51319.500125702674,
          50841.081094770896,
          51553.096712831146,
          51751.884054934555,
          54478.191083122954,
          57003.52673730811,
          62558.58202419311,
          61298.216861101624,
          62426.64052919186,
          62067.86680212177,
          63053.10543906421,
          68186.64593432152,
          64291.536557569496,
          66145.91927850846,
          66944.87639053575,
          68315.25192078314,
          68508.0039626159,
          69075.66688195744,
          72130.55300765681,
          71467.17350326062,
          73097.76702694128,
          71420.03180142345,
          69497.7631929463,
          65292.31329331289,
          68425.41565643054,
          67708.94360930806,
          62132.51737873437,
          67819.05570684028,
          65535.97844847657,
          63509.04496523133,
          64285.80279102199,
          67310.98326810106,
          69938.94530200244,
          70082.05122475982,
          69435.75040305211,
          70710.19534863312,
          69919.05546148612,
          69702.3087473573,
          71246.95144060145,
          69785.92503802372,
          65440.41922587159,
          66123.938539074,
          68542.17715279506,
          67978.61023408506,
          69000.6499164776,
          69401.97360911008,
          71624.18486236996,
          69158.64381207665,
          70527.88997578963,
          70106.66413070948,
          67252.10504226631,
          64404.82548907413,
          65752.66004728881,
          63430.5714573684,
          63720.501587480736,
          61328.89798860725,
          63461.592695107174,
          63988.818471785664,
          64894.41869109179,
          64936.4207567739,
          66841.66685207361,
          66406.95244392671,
          64279.51812857524,
          64486.183359158975,
          63802.330049258766,
          63517.248743409626,
          63030.433616681854,
          63797.67963589958,
          60749.47209216387,
          58297.574075325494,
          59135.1733607733,
          62839.34073569376,
          63820.451902924986,
          64010.00865210892,
          63172.48129551341,
          62363.057191718624,
          61215.50400879193,
          63148.599943097026,
          60888.21674957157,
          60776.972079172134,
          61507.054004121346,
          62878.783300729294,
          61569.1130057734,
          66220.51831432826,
          65260.879803346186,
          67053.12326509564,
          66912.61861403697,
          66252.71259591613,
          71430.29700215145,
          70189.8358177002,
          69181.20085677762,
          67906.46534276106,
          68539.91646552991,
          69268.44558973772,
          68508.83110875699,
          69367.23871755725,
          68316.63588049631,
          67577.26558995963,
          68372.49288434093,
          67474.95483698409,
          67704.32641811523,
          67740.01690222476,
          68808.29368590549,
          70600.01116676089,
          71184.59943059199,
          70759.58819301432,
          69325.36238847222,
          69315.1041233966,
          69654.16073760358,
          69493.17760915738,
          67329.15232724321,
          68224.51967501991,
          66700.31696564378,
          66011.07873713733,
          66190.4874891135,
          66615.53782131766,
          66460.38897909952,
          65109.314812190474,
          64907.07460760319,
          64844.67441797763,
          64071.624284709695,
          64239.90348813148,
          63221.35738437477,
          60363.23497529626,
          61770.413870095355,
          60749.89619402014,
          61562.64532550036,
          60317.09697945116,
          60864.44316193428,
          62734.39383945474,
          62819.82226921849,
          62042.5650371006,
          60244.68076433092,
          57189.17412408636,
          56739.86285107204,
          58230.4841542266,
          55880.3753776708,
          56665.140733520275,
          57988.30351208401,
          57704.202284462874,
          57388.192479166675,
          57899.28895749592,
          59152.71913887286,
          60942.32773996293,
          64835.48973321571,
          65162.23625234354,
          64136.31384360687,
          63959.56900809379,
          66689.54880734957,
          67206.06470614894,
          68088.13996324532,
          67607.71339918874,
          65942.41746522837,
          65403.53513022529,
          65749.96361965332,
          67920.2964857025,
          68055.40838968738,
          68242.2474440493,
          66770.32091848266,
          66219.05102486102,
          64679.778647032515,
          65357.52960767435,
          61407.29547397454,
          60738.7449250574,
          58006.206586686734,
          53956.26184159744,
          55959.84107399357,
          55099.95181146735,
          61859.03159904161,
          60912.588533350805,
          60887.70861641504,
          58804.23449992608,
          59350.07433270696,
          60601.22317789727,
          58739.19382231015,
          57624.11692852191,
          58881.92579151217,
          59430.79163445865,
          58438.293742685404,
          59574.945812940874,
          59060.12610074137,
          61144.68762866613,
          60387.54062321362,
          64049.68561555576,
          64157.1606134782,
          64265.81631272862,
          62922.58634676265,
          59526.560879590994,
          59015.29633887944,
          59351.5794909728,
          59156.246036463555,
          58960.23658664587,
          57357.71617282246,
          59108.73235863689,
          57504.538586220435,
          57987.84601410068,
          56132.404732088595,
          53923.35611071905,
          54150.9383589072,
          54792.40755768575,
          57049.118751143265,
          57624.16178336144,
          57381.764445000474,
          58080.48767286504
         ],
         "low": [
          26531.39556626326,
          26634.631025000588,
          26557.768691994646,
          26520.988254783886,
          26741.461110948952,
          27219.296874634216,
          27115.846446970816,
          26561.133454198716,
          26572.0381115526,
          26573.9234797301,
          26249.562897845204,
          26298.634678281232,
          26204.75759083597,
          26350.146895428057,
          27009.01375072488,
          26917.199101637976,
          26969.876144072576,
          27967.510579087113,
          27615.06488509527,
          27439.121946705116,
          27792.1112772493,
          27435.874615135104,
          27958.196437350485,
          27977.543490700005,
          27948.10365174851,
          27593.782534439666,
          27392.247702732497,
          26842.190439092396,
          26729.137205815106,
          26841.136220644406,
          26863.183569079916,
          27150.29700140705,
          28513.30993247735,
          28417.72175169982,
          28328.245198134824,
          28715.748142407952,
          29677.392888476206,
          29920.07449265145,
          30019.38050086351,
          32953.262760830985,
          33846.72425733224,
          34471.986031672015,
          34174.451552912586,
          33899.09305644032,
          34092.630932838576,
          34556.242814761616,
          34498.70391946407,
          34672.2892841885,
          35457.45491210553,
          34924.05545044328,
          34731.38136896784,
          35048.407834901074,
          35061.92874919579,
          35031.26888208706,
          35436.53762957962,
          35795.080630710196,
          36768.42081912672,
          37344.249000720345,
          37122.722824306555,
          37067.69698212008,
          36549.16204829837,
          35545.201433454065,
          37903.66245166294,
          36201.51611146142,
          36527.76022530742,
          36582.36844192274,
          37413.99460790531,
          37489.298470802016,
          35965.36036068078,
          37464.83293220907,
          37293.316127426726,
          37738.93169747125,
          37809.85286625321,
          37491.838186008135,
          37250.16905148115,
          37802.23604377473,
          37810.34641654128,
          37711.81837585267,
          38688.25874179069,
          39481.666416062864,
          39960.275420410515,
          41974.331772543344,
          44105.94477259938,
          43788.28880825234,
          43270.11955970747,
          44202.17610943621,
          43745.49199189547,
          43757.959937619176,
          41200.96272610168,
          41450.819387377436,
          42931.76182603245,
          43009.5954563739,
          41992.01418722399,
          42247.06788172229,
          41410.819634575855,
          42684.182554683386,
          42250.206182797505,
          43634.1241684964,
          43849.69959939619,
          44003.6960216438,
          43752.03088478376,
          43034.971063091514,
          43638.236302200916,
          42516.426940282516,
          43418.46777504291,
          42600.65063315619,
          42074.70715618848,
          42220.61140121376,
          42208.202176186474,
          44168.68118687473,
          44994.67388689237,
          42821.558989157995,
          44195.57856209971,
          44113.69973389081,
          43956.12071720152,
          43883.74387905174,
          46936.185561217506,
          46105.94607828697,
          46632.31314804979,
          46314.355541602694,
          42893.92960550481,
          42848.47451640749,
          41800.93282193406,
          42587.336038354406,
          43148.00164342693,
          42713.859186938986,
          41261.39479801012,
          41600.94093254464,
          41626.10711003664,
          41541.89945706261,
          39504.73005758438,
          39833.45410501688,
          40123.67105847147,
          39938.28644155878,
          41862.9356109399,
          42119.61049464309,
          42026.57856232145,
          43267.60927638767,
          42892.03453014447,
          42583.26354663417,
          43069.043420936796,
          43170.65856159975,
          42976.84829990829,
          42599.35997055978,
          42648.45692113544,
          43087.78740814285,
          44247.415415479314,
          45338.271189789484,
          47143.24299107112,
          47768.995251247936,
          48189.88179303987,
          50050.13609456397,
          49732.14536955351,
          51790.16929752642,
          51958.23029105492,
          52166.43430976192,
          51684.51749264525,
          52138.48578873693,
          51764.313185487765,
          52286.79372554667,
          51842.75676625642,
          51319.500125702674,
          50841.081094770896,
          51553.096712831146,
          51751.884054934555,
          54478.191083122954,
          57003.52673730811,
          62558.58202419311,
          61298.216861101624,
          62426.64052919186,
          62067.86680212177,
          63053.10543906421,
          68186.64593432152,
          64291.536557569496,
          66145.91927850846,
          66944.87639053575,
          68315.25192078314,
          68508.0039626159,
          69075.66688195744,
          72130.55300765681,
          71467.17350326062,
          73097.76702694128,
          71420.03180142345,
          69497.7631929463,
          65292.31329331289,
          68425.41565643054,
          67708.94360930806,
          62132.51737873437,
          67819.05570684028,
          65535.97844847657,
          63509.04496523133,
          64285.80279102199,
          67310.98326810106,
          69938.94530200244,
          70082.05122475982,
          69435.75040305211,
          70710.19534863312,
          69919.05546148612,
          69702.3087473573,
          71246.95144060145,
          69785.92503802372,
          65440.41922587159,
          66123.938539074,
          68542.17715279506,
          67978.61023408506,
          69000.6499164776,
          69401.97360911008,
          71624.18486236996,
          69158.64381207665,
          70527.88997578963,
          70106.66413070948,
          67252.10504226631,
          64404.82548907413,
          65752.66004728881,
          63430.5714573684,
          63720.501587480736,
          61328.89798860725,
          63461.592695107174,
          63988.818471785664,
          64894.41869109179,
          64936.4207567739,
          66841.66685207361,
          66406.95244392671,
          64279.51812857524,
          64486.183359158975,
          63802.330049258766,
          63517.248743409626,
          63030.433616681854,
          63797.67963589958,
          60749.47209216387,
          58297.574075325494,
          59135.1733607733,
          62839.34073569376,
          63820.451902924986,
          64010.00865210892,
          63172.48129551341,
          62363.057191718624,
          61215.50400879193,
          63148.599943097026,
          60888.21674957157,
          60776.972079172134,
          61507.054004121346,
          62878.783300729294,
          61569.1130057734,
          66220.51831432826,
          65260.879803346186,
          67053.12326509564,
          66912.61861403697,
          66252.71259591613,
          71430.29700215145,
          70189.8358177002,
          69181.20085677762,
          67906.46534276106,
          68539.91646552991,
          69268.44558973772,
          68508.83110875699,
          69367.23871755725,
          68316.63588049631,
          67577.26558995963,
          68372.49288434093,
          67474.95483698409,
          67704.32641811523,
          67740.01690222476,
          68808.29368590549,
          70600.01116676089,
          71184.59943059199,
          70759.58819301432,
          69325.36238847222,
          69315.1041233966,
          69654.16073760358,
          69493.17760915738,
          67329.15232724321,
          68224.51967501991,
          66700.31696564378,
          66011.07873713733,
          66190.4874891135,
          66615.53782131766,
          66460.38897909952,
          65109.314812190474,
          64907.07460760319,
          64844.67441797763,
          64071.624284709695,
          64239.90348813148,
          63221.35738437477,
          60363.23497529626,
          61770.413870095355,
          60749.89619402014,
          61562.64532550036,
          60317.09697945116,
          60864.44316193428,
          62734.39383945474,
          62819.82226921849,
          62042.5650371006,
          60244.68076433092,
          57189.17412408636,
          56739.86285107204,
          58230.4841542266,
          55880.3753776708,
          56665.140733520275,
          57988.30351208401,
          57704.202284462874,
          57388.192479166675,
          57899.28895749592,
          59152.71913887286,
          60942.32773996293,
          64835.48973321571,
          65162.23625234354,
          64136.31384360687,
          63959.56900809379,
          66689.54880734957,
          67206.06470614894,
          68088.13996324532,
          67607.71339918874,
          65942.41746522837,
          65403.53513022529,
          65749.96361965332,
          67920.2964857025,
          68055.40838968738,
          68242.2474440493,
          66770.32091848266,
          66219.05102486102,
          64679.778647032515,
          65357.52960767435,
          61407.29547397454,
          60738.7449250574,
          58006.206586686734,
          53956.26184159744,
          55959.84107399357,
          55099.95181146735,
          61859.03159904161,
          60912.588533350805,
          60887.70861641504,
          58804.23449992608,
          59350.07433270696,
          60601.22317789727,
          58739.19382231015,
          57624.11692852191,
          58881.92579151217,
          59430.79163445865,
          58438.293742685404,
          59574.945812940874,
          59060.12610074137,
          61144.68762866613,
          60387.54062321362,
          64049.68561555576,
          64157.1606134782,
          64265.81631272862,
          62922.58634676265,
          59526.560879590994,
          59015.29633887944,
          59351.5794909728,
          59156.246036463555,
          58960.23658664587,
          57357.71617282246,
          59108.73235863689,
          57504.538586220435,
          57987.84601410068,
          56132.404732088595,
          53923.35611071905,
          54150.9383589072,
          54792.40755768575,
          57049.118751143265,
          57624.16178336144,
          57381.764445000474,
          58106.951229815284
         ],
         "open": [
          26531.39556626326,
          26634.631025000588,
          26557.768691994646,
          26520.988254783886,
          26741.461110948952,
          27219.296874634216,
          27115.846446970816,
          26561.133454198716,
          26572.0381115526,
          26573.9234797301,
          26249.562897845204,
          26298.634678281232,
          26204.75759083597,
          26350.146895428057,
          27009.01375072488,
          26917.199101637976,
          26969.876144072576,
          27967.510579087113,
          27615.06488509527,
          27439.121946705116,
          27792.1112772493,
          27435.874615135104,
          27958.196437350485,
          27977.543490700005,
          27948.10365174851,
          27593.782534439666,
          27392.247702732497,
          26842.190439092396,
          26729.137205815106,
          26841.136220644406,
          26863.183569079916,
          27150.29700140705,
          28513.30993247735,
          28417.72175169982,
          28328.245198134824,
          28715.748142407952,
          29677.392888476206,
          29920.07449265145,
          30019.38050086351,
          32953.262760830985,
          33846.72425733224,
          34471.986031672015,
          34174.451552912586,
          33899.09305644032,
          34092.630932838576,
          34556.242814761616,
          34498.70391946407,
          34672.2892841885,
          35457.45491210553,
          34924.05545044328,
          34731.38136896784,
          35048.407834901074,
          35061.92874919579,
          35031.26888208706,
          35436.53762957962,
          35795.080630710196,
          36768.42081912672,
          37344.249000720345,
          37122.722824306555,
          37067.69698212008,
          36549.16204829837,
          35545.201433454065,
          37903.66245166294,
          36201.51611146142,
          36527.76022530742,
          36582.36844192274,
          37413.99460790531,
          37489.298470802016,
          35965.36036068078,
          37464.83293220907,
          37293.316127426726,
          37738.93169747125,
          37809.85286625321,
          37491.838186008135,
          37250.16905148115,
          37802.23604377473,
          37810.34641654128,
          37711.81837585267,
          38688.25874179069,
          39481.666416062864,
          39960.275420410515,
          41974.331772543344,
          44105.94477259938,
          43788.28880825234,
          43270.11955970747,
          44202.17610943621,
          43745.49199189547,
          43757.959937619176,
          41200.96272610168,
          41450.819387377436,
          42931.76182603245,
          43009.5954563739,
          41992.01418722399,
          42247.06788172229,
          41410.819634575855,
          42684.182554683386,
          42250.206182797505,
          43634.1241684964,
          43849.69959939619,
          44003.6960216438,
          43752.03088478376,
          43034.971063091514,
          43638.236302200916,
          42516.426940282516,
          43418.46777504291,
          42600.65063315619,
          42074.70715618848,
          42220.61140121376,
          42208.202176186474,
          44168.68118687473,
          44994.67388689237,
          42821.558989157995,
          44195.57856209971,
          44113.69973389081,
          43956.12071720152,
          43883.74387905174,
          46936.185561217506,
          46105.94607828697,
          46632.31314804979,
          46314.355541602694,
          42893.92960550481,
          42848.47451640749,
          41800.93282193406,
          42587.336038354406,
          43148.00164342693,
          42713.859186938986,
          41261.39479801012,
          41600.94093254464,
          41626.10711003664,
          41541.89945706261,
          39504.73005758438,
          39833.45410501688,
          40123.67105847147,
          39938.28644155878,
          41862.9356109399,
          42119.61049464309,
          42026.57856232145,
          43267.60927638767,
          42892.03453014447,
          42583.26354663417,
          43069.043420936796,
          43170.65856159975,
          42976.84829990829,
          42599.35997055978,
          42648.45692113544,
          43087.78740814285,
          44247.415415479314,
          45338.271189789484,
          47143.24299107112,
          47768.995251247936,
          48189.88179303987,
          50050.13609456397,
          49732.14536955351,
          51790.16929752642,
          51958.23029105492,
          52166.43430976192,
          51684.51749264525,
          52138.48578873693,
          51764.313185487765,
          52286.79372554667,
          51842.75676625642,
          51319.500125702674,
          50841.081094770896,
          51553.096712831146,
          51751.884054934555,
          54478.191083122954,
          57003.52673730811,
          62558.58202419311,
          61298.216861101624,
          62426.64052919186,
          62067.86680212177,
          63053.10543906421,
          68186.64593432152,
          64291.536557569496,
          66145.91927850846,
          66944.87639053575,
          68315.25192078314,
          68508.0039626159,
          69075.66688195744,
          72130.55300765681,
          71467.17350326062,
          73097.76702694128,
          71420.03180142345,
          69497.7631929463,
          65292.31329331289,
          68425.41565643054,
          67708.94360930806,
          62132.51737873437,
          67819.05570684028,
          65535.97844847657,
          63509.04496523133,
          64285.80279102199,
          67310.98326810106,
          69938.94530200244,
          70082.05122475982,
          69435.75040305211,
          70710.19534863312,
          69919.05546148612,
          69702.3087473573,
          71246.95144060145,
          69785.92503802372,
          65440.41922587159,
          66123.938539074,
          68542.17715279506,
          67978.61023408506,
          69000.6499164776,
          69401.97360911008,
          71624.18486236996,
          69158.64381207665,
          70527.88997578963,
          70106.66413070948,
          67252.10504226631,
          64404.82548907413,
          65752.66004728881,
          63430.5714573684,
          63720.501587480736,
          61328.89798860725,
          63461.592695107174,
          63988.818471785664,
          64894.41869109179,
          64936.4207567739,
          66841.66685207361,
          66406.95244392671,
          64279.51812857524,
          64486.183359158975,
          63802.330049258766,
          63517.248743409626,
          63030.433616681854,
          63797.67963589958,
          60749.47209216387,
          58297.574075325494,
          59135.1733607733,
          62839.34073569376,
          63820.451902924986,
          64010.00865210892,
          63172.48129551341,
          62363.057191718624,
          61215.50400879193,
          63148.599943097026,
          60888.21674957157,
          60776.972079172134,
          61507.054004121346,
          62878.783300729294,
          61569.1130057734,
          66220.51831432826,
          65260.879803346186,
          67053.12326509564,
          66912.61861403697,
          66252.71259591613,
          71430.29700215145,
          70189.8358177002,
          69181.20085677762,
          67906.46534276106,
          68539.91646552991,
          69268.44558973772,
          68508.83110875699,
          69367.23871755725,
          68316.63588049631,
          67577.26558995963,
          68372.49288434093,
          67474.95483698409,
          67704.32641811523,
          67740.01690222476,
          68808.29368590549,
          70600.01116676089,
          71184.59943059199,
          70759.58819301432,
          69325.36238847222,
          69315.1041233966,
          69654.16073760358,
          69493.17760915738,
          67329.15232724321,
          68224.51967501991,
          66700.31696564378,
          66011.07873713733,
          66190.4874891135,
          66615.53782131766,
          66460.38897909952,
          65109.314812190474,
          64907.07460760319,
          64844.67441797763,
          64071.624284709695,
          64239.90348813148,
          63221.35738437477,
          60363.23497529626,
          61770.413870095355,
          60749.89619402014,
          61562.64532550036,
          60317.09697945116,
          60864.44316193428,
          62734.39383945474,
          62819.82226921849,
          62042.5650371006,
          60244.68076433092,
          57189.17412408636,
          56739.86285107204,
          58230.4841542266,
          55880.3753776708,
          56665.140733520275,
          57988.30351208401,
          57704.202284462874,
          57388.192479166675,
          57899.28895749592,
          59152.71913887286,
          60942.32773996293,
          64835.48973321571,
          65162.23625234354,
          64136.31384360687,
          63959.56900809379,
          66689.54880734957,
          67206.06470614894,
          68088.13996324532,
          67607.71339918874,
          65942.41746522837,
          65403.53513022529,
          65749.96361965332,
          67920.2964857025,
          68055.40838968738,
          68242.2474440493,
          66770.32091848266,
          66219.05102486102,
          64679.778647032515,
          65357.52960767435,
          61407.29547397454,
          60738.7449250574,
          58006.206586686734,
          53956.26184159744,
          55959.84107399357,
          55099.95181146735,
          61859.03159904161,
          60912.588533350805,
          60887.70861641504,
          58804.23449992608,
          59350.07433270696,
          60601.22317789727,
          58739.19382231015,
          57624.11692852191,
          58881.92579151217,
          59430.79163445865,
          58438.293742685404,
          59574.945812940874,
          59060.12610074137,
          61144.68762866613,
          60387.54062321362,
          64049.68561555576,
          64157.1606134782,
          64265.81631272862,
          62922.58634676265,
          59526.560879590994,
          59015.29633887944,
          59351.5794909728,
          59156.246036463555,
          58960.23658664587,
          57357.71617282246,
          59108.73235863689,
          57504.538586220435,
          57987.84601410068,
          56132.404732088595,
          53923.35611071905,
          54150.9383589072,
          54792.40755768575,
          57049.118751143265,
          57624.16178336144,
          57381.764445000474,
          58106.951229815284
         ],
         "type": "candlestick",
         "x": [
          "2023-09-15",
          "2023-09-16",
          "2023-09-17",
          "2023-09-18",
          "2023-09-19",
          "2023-09-20",
          "2023-09-21",
          "2023-09-22",
          "2023-09-23",
          "2023-09-24",
          "2023-09-25",
          "2023-09-26",
          "2023-09-27",
          "2023-09-28",
          "2023-09-29",
          "2023-09-30",
          "2023-10-01",
          "2023-10-02",
          "2023-10-03",
          "2023-10-04",
          "2023-10-05",
          "2023-10-06",
          "2023-10-07",
          "2023-10-08",
          "2023-10-09",
          "2023-10-10",
          "2023-10-11",
          "2023-10-12",
          "2023-10-13",
          "2023-10-14",
          "2023-10-15",
          "2023-10-16",
          "2023-10-17",
          "2023-10-18",
          "2023-10-19",
          "2023-10-20",
          "2023-10-21",
          "2023-10-22",
          "2023-10-23",
          "2023-10-24",
          "2023-10-25",
          "2023-10-26",
          "2023-10-27",
          "2023-10-28",
          "2023-10-29",
          "2023-10-30",
          "2023-10-31",
          "2023-11-01",
          "2023-11-02",
          "2023-11-03",
          "2023-11-04",
          "2023-11-05",
          "2023-11-06",
          "2023-11-07",
          "2023-11-08",
          "2023-11-09",
          "2023-11-10",
          "2023-11-11",
          "2023-11-12",
          "2023-11-13",
          "2023-11-14",
          "2023-11-15",
          "2023-11-16",
          "2023-11-17",
          "2023-11-18",
          "2023-11-19",
          "2023-11-20",
          "2023-11-21",
          "2023-11-22",
          "2023-11-23",
          "2023-11-24",
          "2023-11-25",
          "2023-11-26",
          "2023-11-27",
          "2023-11-28",
          "2023-11-29",
          "2023-11-30",
          "2023-12-01",
          "2023-12-02",
          "2023-12-03",
          "2023-12-04",
          "2023-12-05",
          "2023-12-06",
          "2023-12-07",
          "2023-12-08",
          "2023-12-09",
          "2023-12-10",
          "2023-12-11",
          "2023-12-12",
          "2023-12-13",
          "2023-12-14",
          "2023-12-15",
          "2023-12-16",
          "2023-12-17",
          "2023-12-18",
          "2023-12-19",
          "2023-12-20",
          "2023-12-21",
          "2023-12-22",
          "2023-12-23",
          "2023-12-24",
          "2023-12-25",
          "2023-12-26",
          "2023-12-27",
          "2023-12-28",
          "2023-12-29",
          "2023-12-30",
          "2023-12-31",
          "2024-01-01",
          "2024-01-02",
          "2024-01-03",
          "2024-01-04",
          "2024-01-05",
          "2024-01-06",
          "2024-01-07",
          "2024-01-08",
          "2024-01-09",
          "2024-01-10",
          "2024-01-11",
          "2024-01-12",
          "2024-01-13",
          "2024-01-14",
          "2024-01-15",
          "2024-01-16",
          "2024-01-17",
          "2024-01-18",
          "2024-01-19",
          "2024-01-20",
          "2024-01-21",
          "2024-01-22",
          "2024-01-23",
          "2024-01-24",
          "2024-01-25",
          "2024-01-26",
          "2024-01-27",
          "2024-01-28",
          "2024-01-29",
          "2024-01-30",
          "2024-01-31",
          "2024-02-01",
          "2024-02-02",
          "2024-02-03",
          "2024-02-04",
          "2024-02-05",
          "2024-02-06",
          "2024-02-07",
          "2024-02-08",
          "2024-02-09",
          "2024-02-10",
          "2024-02-11",
          "2024-02-12",
          "2024-02-13",
          "2024-02-14",
          "2024-02-15",
          "2024-02-16",
          "2024-02-17",
          "2024-02-18",
          "2024-02-19",
          "2024-02-20",
          "2024-02-21",
          "2024-02-22",
          "2024-02-23",
          "2024-02-24",
          "2024-02-25",
          "2024-02-26",
          "2024-02-27",
          "2024-02-28",
          "2024-02-29",
          "2024-03-01",
          "2024-03-02",
          "2024-03-03",
          "2024-03-04",
          "2024-03-05",
          "2024-03-06",
          "2024-03-07",
          "2024-03-08",
          "2024-03-09",
          "2024-03-10",
          "2024-03-11",
          "2024-03-12",
          "2024-03-13",
          "2024-03-14",
          "2024-03-15",
          "2024-03-16",
          "2024-03-17",
          "2024-03-18",
          "2024-03-19",
          "2024-03-20",
          "2024-03-21",
          "2024-03-22",
          "2024-03-23",
          "2024-03-24",
          "2024-03-25",
          "2024-03-26",
          "2024-03-27",
          "2024-03-28",
          "2024-03-29",
          "2024-03-30",
          "2024-03-31",
          "2024-04-01",
          "2024-04-02",
          "2024-04-03",
          "2024-04-04",
          "2024-04-05",
          "2024-04-06",
          "2024-04-07",
          "2024-04-08",
          "2024-04-09",
          "2024-04-10",
          "2024-04-11",
          "2024-04-12",
          "2024-04-13",
          "2024-04-14",
          "2024-04-15",
          "2024-04-16",
          "2024-04-17",
          "2024-04-18",
          "2024-04-19",
          "2024-04-20",
          "2024-04-21",
          "2024-04-22",
          "2024-04-23",
          "2024-04-24",
          "2024-04-25",
          "2024-04-26",
          "2024-04-27",
          "2024-04-28",
          "2024-04-29",
          "2024-04-30",
          "2024-05-01",
          "2024-05-02",
          "2024-05-03",
          "2024-05-04",
          "2024-05-05",
          "2024-05-06",
          "2024-05-07",
          "2024-05-08",
          "2024-05-09",
          "2024-05-10",
          "2024-05-11",
          "2024-05-12",
          "2024-05-13",
          "2024-05-14",
          "2024-05-15",
          "2024-05-16",
          "2024-05-17",
          "2024-05-18",
          "2024-05-19",
          "2024-05-20",
          "2024-05-21",
          "2024-05-22",
          "2024-05-23",
          "2024-05-24",
          "2024-05-25",
          "2024-05-26",
          "2024-05-27",
          "2024-05-28",
          "2024-05-29",
          "2024-05-30",
          "2024-05-31",
          "2024-06-01",
          "2024-06-02",
          "2024-06-03",
          "2024-06-04",
          "2024-06-05",
          "2024-06-06",
          "2024-06-07",
          "2024-06-08",
          "2024-06-09",
          "2024-06-10",
          "2024-06-11",
          "2024-06-12",
          "2024-06-13",
          "2024-06-14",
          "2024-06-15",
          "2024-06-16",
          "2024-06-17",
          "2024-06-18",
          "2024-06-19",
          "2024-06-20",
          "2024-06-21",
          "2024-06-22",
          "2024-06-23",
          "2024-06-24",
          "2024-06-25",
          "2024-06-26",
          "2024-06-27",
          "2024-06-28",
          "2024-06-29",
          "2024-06-30",
          "2024-07-01",
          "2024-07-02",
          "2024-07-03",
          "2024-07-04",
          "2024-07-05",
          "2024-07-06",
          "2024-07-07",
          "2024-07-08",
          "2024-07-09",
          "2024-07-10",
          "2024-07-11",
          "2024-07-12",
          "2024-07-13",
          "2024-07-14",
          "2024-07-15",
          "2024-07-16",
          "2024-07-17",
          "2024-07-18",
          "2024-07-19",
          "2024-07-20",
          "2024-07-21",
          "2024-07-22",
          "2024-07-23",
          "2024-07-24",
          "2024-07-25",
          "2024-07-26",
          "2024-07-27",
          "2024-07-28",
          "2024-07-29",
          "2024-07-30",
          "2024-07-31",
          "2024-08-01",
          "2024-08-02",
          "2024-08-03",
          "2024-08-04",
          "2024-08-05",
          "2024-08-06",
          "2024-08-07",
          "2024-08-08",
          "2024-08-09",
          "2024-08-10",
          "2024-08-11",
          "2024-08-12",
          "2024-08-13",
          "2024-08-14",
          "2024-08-15",
          "2024-08-16",
          "2024-08-17",
          "2024-08-18",
          "2024-08-19",
          "2024-08-20",
          "2024-08-21",
          "2024-08-22",
          "2024-08-23",
          "2024-08-24",
          "2024-08-25",
          "2024-08-26",
          "2024-08-27",
          "2024-08-28",
          "2024-08-29",
          "2024-08-30",
          "2024-08-31",
          "2024-09-01",
          "2024-09-02",
          "2024-09-03",
          "2024-09-04",
          "2024-09-05",
          "2024-09-06",
          "2024-09-07",
          "2024-09-08",
          "2024-09-09",
          "2024-09-10",
          "2024-09-11",
          "2024-09-12",
          "2024-09-13"
         ]
        }
       ],
       "layout": {
        "template": {
         "data": {
          "bar": [
           {
            "error_x": {
             "color": "#2a3f5f"
            },
            "error_y": {
             "color": "#2a3f5f"
            },
            "marker": {
             "line": {
              "color": "#E5ECF6",
              "width": 0.5
             },
             "pattern": {
              "fillmode": "overlay",
              "size": 10,
              "solidity": 0.2
             }
            },
            "type": "bar"
           }
          ],
          "barpolar": [
           {
            "marker": {
             "line": {
              "color": "#E5ECF6",
              "width": 0.5
             },
             "pattern": {
              "fillmode": "overlay",
              "size": 10,
              "solidity": 0.2
             }
            },
            "type": "barpolar"
           }
          ],
          "carpet": [
           {
            "aaxis": {
             "endlinecolor": "#2a3f5f",
             "gridcolor": "white",
             "linecolor": "white",
             "minorgridcolor": "white",
             "startlinecolor": "#2a3f5f"
            },
            "baxis": {
             "endlinecolor": "#2a3f5f",
             "gridcolor": "white",
             "linecolor": "white",
             "minorgridcolor": "white",
             "startlinecolor": "#2a3f5f"
            },
            "type": "carpet"
           }
          ],
          "choropleth": [
           {
            "colorbar": {
             "outlinewidth": 0,
             "ticks": ""
            },
            "type": "choropleth"
           }
          ],
          "contour": [
           {
            "colorbar": {
             "outlinewidth": 0,
             "ticks": ""
            },
            "colorscale": [
             [
              0,
              "#0d0887"
             ],
             [
              0.1111111111111111,
              "#46039f"
             ],
             [
              0.2222222222222222,
              "#7201a8"
             ],
             [
              0.3333333333333333,
              "#9c179e"
             ],
             [
              0.4444444444444444,
              "#bd3786"
             ],
             [
              0.5555555555555556,
              "#d8576b"
             ],
             [
              0.6666666666666666,
              "#ed7953"
             ],
             [
              0.7777777777777778,
              "#fb9f3a"
             ],
             [
              0.8888888888888888,
              "#fdca26"
             ],
             [
              1,
              "#f0f921"
             ]
            ],
            "type": "contour"
           }
          ],
          "contourcarpet": [
           {
            "colorbar": {
             "outlinewidth": 0,
             "ticks": ""
            },
            "type": "contourcarpet"
           }
          ],
          "heatmap": [
           {
            "colorbar": {
             "outlinewidth": 0,
             "ticks": ""
            },
            "colorscale": [
             [
              0,
              "#0d0887"
             ],
             [
              0.1111111111111111,
              "#46039f"
             ],
             [
              0.2222222222222222,
              "#7201a8"
             ],
             [
              0.3333333333333333,
              "#9c179e"
             ],
             [
              0.4444444444444444,
              "#bd3786"
             ],
             [
              0.5555555555555556,
              "#d8576b"
             ],
             [
              0.6666666666666666,
              "#ed7953"
             ],
             [
              0.7777777777777778,
              "#fb9f3a"
             ],
             [
              0.8888888888888888,
              "#fdca26"
             ],
             [
              1,
              "#f0f921"
             ]
            ],
            "type": "heatmap"
           }
          ],
          "heatmapgl": [
           {
            "colorbar": {
             "outlinewidth": 0,
             "ticks": ""
            },
            "colorscale": [
             [
              0,
              "#0d0887"
             ],
             [
              0.1111111111111111,
              "#46039f"
             ],
             [
              0.2222222222222222,
              "#7201a8"
             ],
             [
              0.3333333333333333,
              "#9c179e"
             ],
             [
              0.4444444444444444,
              "#bd3786"
             ],
             [
              0.5555555555555556,
              "#d8576b"
             ],
             [
              0.6666666666666666,
              "#ed7953"
             ],
             [
              0.7777777777777778,
              "#fb9f3a"
             ],
             [
              0.8888888888888888,
              "#fdca26"
             ],
             [
              1,
              "#f0f921"
             ]
            ],
            "type": "heatmapgl"
           }
          ],
          "histogram": [
           {
            "marker": {
             "pattern": {
              "fillmode": "overlay",
              "size": 10,
              "solidity": 0.2
             }
            },
            "type": "histogram"
           }
          ],
          "histogram2d": [
           {
            "colorbar": {
             "outlinewidth": 0,
             "ticks": ""
            },
            "colorscale": [
             [
              0,
              "#0d0887"
             ],
             [
              0.1111111111111111,
              "#46039f"
             ],
             [
              0.2222222222222222,
              "#7201a8"
             ],
             [
              0.3333333333333333,
              "#9c179e"
             ],
             [
              0.4444444444444444,
              "#bd3786"
             ],
             [
              0.5555555555555556,
              "#d8576b"
             ],
             [
              0.6666666666666666,
              "#ed7953"
             ],
             [
              0.7777777777777778,
              "#fb9f3a"
             ],
             [
              0.8888888888888888,
              "#fdca26"
             ],
             [
              1,
              "#f0f921"
             ]
            ],
            "type": "histogram2d"
           }
          ],
          "histogram2dcontour": [
           {
            "colorbar": {
             "outlinewidth": 0,
             "ticks": ""
            },
            "colorscale": [
             [
              0,
              "#0d0887"
             ],
             [
              0.1111111111111111,
              "#46039f"
             ],
             [
              0.2222222222222222,
              "#7201a8"
             ],
             [
              0.3333333333333333,
              "#9c179e"
             ],
             [
              0.4444444444444444,
              "#bd3786"
             ],
             [
              0.5555555555555556,
              "#d8576b"
             ],
             [
              0.6666666666666666,
              "#ed7953"
             ],
             [
              0.7777777777777778,
              "#fb9f3a"
             ],
             [
              0.8888888888888888,
              "#fdca26"
             ],
             [
              1,
              "#f0f921"
             ]
            ],
            "type": "histogram2dcontour"
           }
          ],
          "mesh3d": [
           {
            "colorbar": {
             "outlinewidth": 0,
             "ticks": ""
            },
            "type": "mesh3d"
           }
          ],
          "parcoords": [
           {
            "line": {
             "colorbar": {
              "outlinewidth": 0,
              "ticks": ""
             }
            },
            "type": "parcoords"
           }
          ],
          "pie": [
           {
            "automargin": true,
            "type": "pie"
           }
          ],
          "scatter": [
           {
            "fillpattern": {
             "fillmode": "overlay",
             "size": 10,
             "solidity": 0.2
            },
            "type": "scatter"
           }
          ],
          "scatter3d": [
           {
            "line": {
             "colorbar": {
              "outlinewidth": 0,
              "ticks": ""
             }
            },
            "marker": {
             "colorbar": {
              "outlinewidth": 0,
              "ticks": ""
             }
            },
            "type": "scatter3d"
           }
          ],
          "scattercarpet": [
           {
            "marker": {
             "colorbar": {
              "outlinewidth": 0,
              "ticks": ""
             }
            },
            "type": "scattercarpet"
           }
          ],
          "scattergeo": [
           {
            "marker": {
             "colorbar": {
              "outlinewidth": 0,
              "ticks": ""
             }
            },
            "type": "scattergeo"
           }
          ],
          "scattergl": [
           {
            "marker": {
             "colorbar": {
              "outlinewidth": 0,
              "ticks": ""
             }
            },
            "type": "scattergl"
           }
          ],
          "scattermapbox": [
           {
            "marker": {
             "colorbar": {
              "outlinewidth": 0,
              "ticks": ""
             }
            },
            "type": "scattermapbox"
           }
          ],
          "scatterpolar": [
           {
            "marker": {
             "colorbar": {
              "outlinewidth": 0,
              "ticks": ""
             }
            },
            "type": "scatterpolar"
           }
          ],
          "scatterpolargl": [
           {
            "marker": {
             "colorbar": {
              "outlinewidth": 0,
              "ticks": ""
             }
            },
            "type": "scatterpolargl"
           }
          ],
          "scatterternary": [
           {
            "marker": {
             "colorbar": {
              "outlinewidth": 0,
              "ticks": ""
             }
            },
            "type": "scatterternary"
           }
          ],
          "surface": [
           {
            "colorbar": {
             "outlinewidth": 0,
             "ticks": ""
            },
            "colorscale": [
             [
              0,
              "#0d0887"
             ],
             [
              0.1111111111111111,
              "#46039f"
             ],
             [
              0.2222222222222222,
              "#7201a8"
             ],
             [
              0.3333333333333333,
              "#9c179e"
             ],
             [
              0.4444444444444444,
              "#bd3786"
             ],
             [
              0.5555555555555556,
              "#d8576b"
             ],
             [
              0.6666666666666666,
              "#ed7953"
             ],
             [
              0.7777777777777778,
              "#fb9f3a"
             ],
             [
              0.8888888888888888,
              "#fdca26"
             ],
             [
              1,
              "#f0f921"
             ]
            ],
            "type": "surface"
           }
          ],
          "table": [
           {
            "cells": {
             "fill": {
              "color": "#EBF0F8"
             },
             "line": {
              "color": "white"
             }
            },
            "header": {
             "fill": {
              "color": "#C8D4E3"
             },
             "line": {
              "color": "white"
             }
            },
            "type": "table"
           }
          ]
         },
         "layout": {
          "annotationdefaults": {
           "arrowcolor": "#2a3f5f",
           "arrowhead": 0,
           "arrowwidth": 1
          },
          "autotypenumbers": "strict",
          "coloraxis": {
           "colorbar": {
            "outlinewidth": 0,
            "ticks": ""
           }
          },
          "colorscale": {
           "diverging": [
            [
             0,
             "#8e0152"
            ],
            [
             0.1,
             "#c51b7d"
            ],
            [
             0.2,
             "#de77ae"
            ],
            [
             0.3,
             "#f1b6da"
            ],
            [
             0.4,
             "#fde0ef"
            ],
            [
             0.5,
             "#f7f7f7"
            ],
            [
             0.6,
             "#e6f5d0"
            ],
            [
             0.7,
             "#b8e186"
            ],
            [
             0.8,
             "#7fbc41"
            ],
            [
             0.9,
             "#4d9221"
            ],
            [
             1,
             "#276419"
            ]
           ],
           "sequential": [
            [
             0,
             "#0d0887"
            ],
            [
             0.1111111111111111,
             "#46039f"
            ],
            [
             0.2222222222222222,
             "#7201a8"
            ],
            [
             0.3333333333333333,
             "#9c179e"
            ],
            [
             0.4444444444444444,
             "#bd3786"
            ],
            [
             0.5555555555555556,
             "#d8576b"
            ],
            [
             0.6666666666666666,
             "#ed7953"
            ],
            [
             0.7777777777777778,
             "#fb9f3a"
            ],
            [
             0.8888888888888888,
             "#fdca26"
            ],
            [
             1,
             "#f0f921"
            ]
           ],
           "sequentialminus": [
            [
             0,
             "#0d0887"
            ],
            [
             0.1111111111111111,
             "#46039f"
            ],
            [
             0.2222222222222222,
             "#7201a8"
            ],
            [
             0.3333333333333333,
             "#9c179e"
            ],
            [
             0.4444444444444444,
             "#bd3786"
            ],
            [
             0.5555555555555556,
             "#d8576b"
            ],
            [
             0.6666666666666666,
             "#ed7953"
            ],
            [
             0.7777777777777778,
             "#fb9f3a"
            ],
            [
             0.8888888888888888,
             "#fdca26"
            ],
            [
             1,
             "#f0f921"
            ]
           ]
          },
          "colorway": [
           "#636efa",
           "#EF553B",
           "#00cc96",
           "#ab63fa",
           "#FFA15A",
           "#19d3f3",
           "#FF6692",
           "#B6E880",
           "#FF97FF",
           "#FECB52"
          ],
          "font": {
           "color": "#2a3f5f"
          },
          "geo": {
           "bgcolor": "white",
           "lakecolor": "white",
           "landcolor": "#E5ECF6",
           "showlakes": true,
           "showland": true,
           "subunitcolor": "white"
          },
          "hoverlabel": {
           "align": "left"
          },
          "hovermode": "closest",
          "mapbox": {
           "style": "light"
          },
          "paper_bgcolor": "white",
          "plot_bgcolor": "#E5ECF6",
          "polar": {
           "angularaxis": {
            "gridcolor": "white",
            "linecolor": "white",
            "ticks": ""
           },
           "bgcolor": "#E5ECF6",
           "radialaxis": {
            "gridcolor": "white",
            "linecolor": "white",
            "ticks": ""
           }
          },
          "scene": {
           "xaxis": {
            "backgroundcolor": "#E5ECF6",
            "gridcolor": "white",
            "gridwidth": 2,
            "linecolor": "white",
            "showbackground": true,
            "ticks": "",
            "zerolinecolor": "white"
           },
           "yaxis": {
            "backgroundcolor": "#E5ECF6",
            "gridcolor": "white",
            "gridwidth": 2,
            "linecolor": "white",
            "showbackground": true,
            "ticks": "",
            "zerolinecolor": "white"
           },
           "zaxis": {
            "backgroundcolor": "#E5ECF6",
            "gridcolor": "white",
            "gridwidth": 2,
            "linecolor": "white",
            "showbackground": true,
            "ticks": "",
            "zerolinecolor": "white"
           }
          },
          "shapedefaults": {
           "line": {
            "color": "#2a3f5f"
           }
          },
          "ternary": {
           "aaxis": {
            "gridcolor": "white",
            "linecolor": "white",
            "ticks": ""
           },
           "baxis": {
            "gridcolor": "white",
            "linecolor": "white",
            "ticks": ""
           },
           "bgcolor": "#E5ECF6",
           "caxis": {
            "gridcolor": "white",
            "linecolor": "white",
            "ticks": ""
           }
          },
          "title": {
           "x": 0.05
          },
          "xaxis": {
           "automargin": true,
           "gridcolor": "white",
           "linecolor": "white",
           "ticks": "",
           "title": {
            "standoff": 15
           },
           "zerolinecolor": "white",
           "zerolinewidth": 2
          },
          "yaxis": {
           "automargin": true,
           "gridcolor": "white",
           "linecolor": "white",
           "ticks": "",
           "title": {
            "standoff": 15
           },
           "zerolinecolor": "white",
           "zerolinewidth": 2
          }
         }
        },
        "title": {
         "text": "Candlestick Chart"
        },
        "xaxis": {
         "title": {
          "text": "Date"
         }
        },
        "yaxis": {
         "title": {
          "text": "Price"
         }
        }
       }
      }
     },
     "metadata": {},
     "output_type": "display_data"
    }
   ],
   "source": [
    "import plotly.graph_objects as go\n",
    "\n",
    "# Create the figure with the Candlestick chart\n",
    "fig = go.Figure(data=[go.Candlestick(x=candlestick_data.index,\n",
    "                                     open=candlestick_data['Price']['first'],\n",
    "                                     high=candlestick_data['Price']['min'],\n",
    "                                     low=candlestick_data['Price']['max'],\n",
    "                                     close=candlestick_data['Price']['last'])])\n",
    "\n",
    "# Update layout\n",
    "fig.update_layout(title=\"Candlestick Chart\", xaxis_title=\"Date\", yaxis_title=\"Price\")\n",
    "fig.show()"
   ]
  },
  {
   "cell_type": "markdown",
   "metadata": {
    "pycharm": {
     "name": "#%% md\n"
    }
   },
   "source": [
    "<a id='section8'></a>\n",
    "## 8. Web Technologies (HTML)\n",
    "HTML stands for Hyper Text Markup Language and is the language that defines the structure of every webpage you visit. Most browsers haver a builtin debug tool that will allow you to see the HTML associated with each webpage you visit. Checkout [the CivMin](https://civmin.utoronto.ca/) site and press F12 on your keyboard.\n",
    "\n",
    "Below is an example of some simple HTML.\n",
    "\n",
    "```html\n",
    "<html>\n",
    "    <head>\n",
    "        <title>\n",
    "            A Simple HTML Document\n",
    "        </title>\n",
    "    </head>\n",
    "    <body>\n",
    "        <p>This is a very simple HTML document</p>\n",
    "        <p>It only has two paragraphs</p>\n",
    "    </body>\n",
    "</html>\n",
    "```\n",
    "\n",
    "Text surrounded with `< >` are called `tags` and as you can see from the HTML above, there are manu different types of tags.\n",
    "\n",
    "- HTML tag: It is the root of the html document which is used to specify that the document is html. <br>\n",
    "  `<html> Statements... </html>` <br>\n",
    "- Head tag: Head tag is used to contain all the head element in the html file. It contains the title, style, meta, … etc tag. <br>\n",
    "  `<head> Statements... </head>` <br>\n",
    "- Body tag: It is used to define the body of html document. It contains image, tables, lists, … etc. <br>\n",
    "  `<body> Statements... </body>` <br>\n",
    "- Title tag: It is used to define the title of html document. <br>\n",
    " `<title> Statements... </title>` <br>\n",
    "- Heading tag: It is used to define the heading of html document. <br>\n",
    "  `<h1> Statements... </h1>` <br>\n",
    "  `<h2> Statements... </h2>` <br>\n",
    "  `<h3> Statements... </h3>` <br>\n",
    "  `<h4> Statements... </h4>` <br>\n",
    "  `<h5> Statements... </h5>` <br>\n",
    "  `<h6> Statements... </h6>` <br>\n",
    "- Paragraph tag: It is used to define paragraph content in html document. <br>\n",
    "  `<p> Statements... </p>` <br>\n",
    "- Anchor tag: It is used to link one page to another page. <br>\n",
    "  `<a href=\"...\"> Statements... </a>` <br>\n",
    "- List tag: It is used to list the content. <br>\n",
    "  `<li> Statements... </li>` <br>\n",
    "- Ordered List tag: It is used to list the content in a particular order. <br>\n",
    "  `<ol> Statements... </ol>` <br>\n",
    "- Unordered List tag: It is used to list the content without order. <br>\n",
    "  `<ul> Statements... </ul>`\n",
    "  \n",
    "Let's first check out a very simple webpage. Remember the NOAA file we worked with in [Section 2: Loosely Formatted Text Data](#section2)? This [website](https://www.glerl.noaa.gov/emf/waves/GLERL-Donelan-Archive/2021/) contains forecast files and measurements for Wave parameters such as heigh and direction. Let's say we want to analysis this data and need a way to programmatically extract the download links for all Wave Height forcast files. The HTML on this webpage looks like this (Go to the webpage and hit F12 to check it our for yourself).\n",
    "\n",
    "```html\n",
    "<!DOCTYPE HTML PUBLIC \"-//W3C//DTD HTML 3.2 Final//EN\">\n",
    "<html>\n",
    " <head>\n",
    "  <title>Index of /emf/waves/GLERL-Donelan-Archive/2021</title>\n",
    " </head>\n",
    " <body>\n",
    "  <h1>Index of /emf/waves/GLERL-Donelan-Archive/2021</h1>\n",
    "  <table>\n",
    "   <tbody>   \n",
    "    <tr></tr>\n",
    "    <tr></tr>\n",
    "    <tr></tr> \n",
    "    <tr>\n",
    "     <td></td>\n",
    "     <td></td>\n",
    "     <td>2021-02-23 06:12</td>  \n",
    "     <td>67M</td>\n",
    "     <td></td>   \n",
    "    </tr>\n",
    "```\n",
    "\n",
    "Let's use the `requests.get()` function to get the HTML code from this home page."
   ]
  },
  {
   "cell_type": "code",
   "execution_count": 106,
   "metadata": {
    "pycharm": {
     "name": "#%%\n"
    },
    "scrolled": true
   },
   "outputs": [
    {
     "data": {
      "text/plain": [
       "'<!DOCTYPE HTML PUBLIC \"-//W3C//DTD HTML 3.2 Final//EN\">\\n<html>\\n <head>\\n  <title>Index of /emf/waves/GLERL-Donelan-Archive/2021</title>\\n </head>\\n <body>\\n<h1>Index of /emf/waves/GLERL-Donelan-Archive/2021</h1>\\n  <table>\\n   <tr><th valign=\"top\"><img src=\"/icons/blank.gif\" alt=\"[ICO]\"></th><th><a href=\"?C=N;O=D\">Name</a></th><th><a href=\"?C=M;O=A\">Last modified</a></th><th><a href=\"?C=S;O=A\">Size</a></th><th><a href=\"?C=D;O=A\">Description</a></th></tr>\\n   <tr><th colspan=\"5\"><hr></th></tr>\\n<tr><td valign=\"top\"><img src=\"/icons/back.gif\" alt=\"[PARENTDIR]\"></td><td><a href=\"/emf/waves/GLERL-Donelan-Archive/\">Parent Directory</a></td><td>&nbsp;</td><td align=\"right\">  - </td><td>&nbsp;</td></tr>\\n<tr><td valign=\"top\"><img src=\"/icons/unknown.gif\" alt=\"[   ]\"></td><td><a href=\"c2021.nc\">c2021.nc</a></td><td align=\"right\">2022-02-15 14:20  </td><td align=\"right\">779M</td><td>&nbsp;</td></tr>\\n<tr><td valign=\"top\"><img src=\"/icons/unknown.gif\" alt=\"[   ]\"></td><td><a href=\"c2021_05.in1.nc\">c2021_0'"
      ]
     },
     "execution_count": 106,
     "metadata": {},
     "output_type": "execute_result"
    }
   ],
   "source": [
    "response = requests.get('https://www.glerl.noaa.gov/emf/waves/GLERL-Donelan-Archive/2021/')\n",
    "response.text[0:1000]"
   ]
  },
  {
   "cell_type": "markdown",
   "metadata": {},
   "source": [
    "<a id='section9'></a>\n",
    "## 9. Web Scraping Book Data\n"
   ]
  },
  {
   "cell_type": "markdown",
   "metadata": {
    "pycharm": {
     "name": "#%% md\n"
    }
   },
   "source": [
    "Next, we'll use BeautifulSoup to parse the HTML from the [Books to Scrape](http://books.toscrape.com/catalogue/category/books_1/index.html). We’ll extract the book title, price, availability, and rating."
   ]
  },
  {
   "cell_type": "markdown",
   "metadata": {},
   "source": [
    "### Fetch Data from the Website\n",
    "We fetch the HTML data from the website using `requests.get()`. In this case, we scrape the first page of book listings from the website [Books to Scrape](http://books.toscrape.com/)."
   ]
  },
  {
   "cell_type": "code",
   "execution_count": 122,
   "metadata": {},
   "outputs": [
    {
     "name": "stdout",
     "output_type": "stream",
     "text": [
      "\n",
      "\n",
      "<!DOCTYPE html>\n",
      "<!--[if lt IE 7]>      <html lang=\"en-us\" class=\"no-js lt-ie9 lt-ie8 lt-ie7\"> <![endif]-->\n",
      "<!--[if IE 7]>         <html lang=\"en-us\" class=\"no-js lt-ie9 lt-ie8\"> <![endif]-->\n",
      "<!--[if\n"
     ]
    }
   ],
   "source": [
    "# URL for the book listings\n",
    "books_url = \"http://books.toscrape.com/catalogue/category/books_1/index.html\"\n",
    "\n",
    "# Get the response from the URL\n",
    "response = requests.get(books_url)\n",
    "\n",
    "# Fix encoding by setting it to 'utf-8'\n",
    "response.encoding = 'utf-8'\n",
    "\n",
    "# Check the first 200 characters of the response text\n",
    "print(response.text[0:200])"
   ]
  },
  {
   "cell_type": "markdown",
   "metadata": {},
   "source": [
    "### Parse the HTML using `BeautifulSoup`\n",
    "We create a `BeautifulSoup` object to parse the HTML and find all book containers (`<article>` tags with the class `product_pod`). Then, we inspect the first book container to understand its structure."
   ]
  },
  {
   "cell_type": "code",
   "execution_count": 123,
   "metadata": {},
   "outputs": [
    {
     "name": "stdout",
     "output_type": "stream",
     "text": [
      "<article class=\"product_pod\">\n",
      " <div class=\"image_container\">\n",
      "  <a href=\"../../a-light-in-the-attic_1000/index.html\">\n",
      "   <img alt=\"A Light in the Attic\" class=\"thumbnail\" src=\"../../../media/cache/2c/da/2cdad67c44b002e7ead0cc35693c0e8b.jpg\"/>\n",
      "  </a>\n",
      " </div>\n",
      " <p class=\"star-rating Three\">\n",
      "  <i class=\"icon-star\">\n",
      "  </i>\n",
      "  <i class=\"icon-star\">\n",
      "  </i>\n",
      "  <i class=\"icon-star\">\n",
      "  </i>\n",
      "  <i class=\"icon-star\">\n",
      "  </i>\n",
      "  <i class=\"icon-star\">\n",
      "  </i>\n",
      " </p>\n",
      " <h3>\n",
      "  <a href=\"../../a-light-in-the-attic_1000/index.html\" title=\"A Light in the Attic\">\n",
      "   A Light in the ...\n",
      "  </a>\n",
      " </h3>\n",
      " <div class=\"product_price\">\n",
      "  <p class=\"price_color\">\n",
      "   £51.77\n",
      "  </p>\n",
      "  <p class=\"instock availability\">\n",
      "   <i class=\"icon-ok\">\n",
      "   </i>\n",
      "   In stock\n",
      "  </p>\n",
      "  <form>\n",
      "   <button class=\"btn btn-primary btn-block\" data-loading-text=\"Adding...\" type=\"submit\">\n",
      "    Add to basket\n",
      "   </button>\n",
      "  </form>\n",
      " </div>\n",
      "</article>\n",
      "\n"
     ]
    }
   ],
   "source": [
    "# Create a BeautifulSoup object to parse the HTML\n",
    "soup = BeautifulSoup(response.text, \"html.parser\")\n",
    "\n",
    "# Find all book containers on the page\n",
    "books = soup.find_all('article', class_='product_pod')\n",
    "\n",
    "# Check out the first book to understand the structure\n",
    "print(books[0].prettify())"
   ]
  },
  {
   "cell_type": "markdown",
   "metadata": {},
   "source": [
    "### Extract Data from a Single Book\n",
    "We extract the book title, price, availability, and rating from the first book container. This step helps us figure out how to extract these values from all books on the page."
   ]
  },
  {
   "cell_type": "code",
   "execution_count": 124,
   "metadata": {},
   "outputs": [
    {
     "name": "stdout",
     "output_type": "stream",
     "text": [
      "Title: A Light in the Attic\n",
      "Price: £51.77\n",
      "Availability: In stock\n",
      "Rating: 3\n"
     ]
    }
   ],
   "source": [
    "# Extract the title, price, availability, and rating of the first book\n",
    "book = books[0]\n",
    "\n",
    "# Book Title\n",
    "title = book.h3.a['title']\n",
    "print(f\"Title: {title}\")\n",
    "\n",
    "# Book Price\n",
    "price = book.find('p', class_='price_color').text\n",
    "print(f\"Price: {price}\")\n",
    "\n",
    "# Book Availability\n",
    "availability = book.find('p', class_='instock availability').text.strip()\n",
    "print(f\"Availability: {availability}\")\n",
    "\n",
    "# Book Rating\n",
    "rating_class = book.p['class'][1]\n",
    "rating_dict = {'One': 1, 'Two': 2, 'Three': 3, 'Four': 4, 'Five': 5}\n",
    "rating = rating_dict.get(rating_class, 0)\n",
    "print(f\"Rating: {rating}\")"
   ]
  },
  {
   "cell_type": "markdown",
   "metadata": {},
   "source": [
    "### Extract Data from All Books\n",
    "We loop through all book containers on the page and extract the same attributes (title, price, availability, and rating) for each book, storing the data in lists."
   ]
  },
  {
   "cell_type": "code",
   "execution_count": 125,
   "metadata": {},
   "outputs": [],
   "source": [
    "# Now let's loop through all the books on the page and extract these attributes\n",
    "titles = []\n",
    "prices = []\n",
    "availabilities = []\n",
    "ratings = []\n",
    "\n",
    "for book in books:\n",
    "    # Title\n",
    "    title = book.h3.a['title']\n",
    "    titles.append(title)\n",
    "\n",
    "    # Price\n",
    "    price = book.find('p', class_='price_color').text\n",
    "    prices.append(price)\n",
    "\n",
    "    # Availability\n",
    "    availability = book.find('p', class_='instock availability').text.strip()\n",
    "    availabilities.append(availability)\n",
    "\n",
    "    # Rating\n",
    "    rating_class = book.p['class'][1]\n",
    "    rating = rating_dict.get(rating_class, 0)\n",
    "    ratings.append(rating)"
   ]
  },
  {
   "cell_type": "markdown",
   "metadata": {},
   "source": [
    "### Create a DataFrame\n",
    "We organize the extracted data into a pandas DataFrame and display the first few rows. This step helps structure the scraped data in a tabular format for further analysis."
   ]
  },
  {
   "cell_type": "code",
   "execution_count": 126,
   "metadata": {
    "scrolled": false
   },
   "outputs": [
    {
     "data": {
      "text/html": [
       "<div>\n",
       "<style scoped>\n",
       "    .dataframe tbody tr th:only-of-type {\n",
       "        vertical-align: middle;\n",
       "    }\n",
       "\n",
       "    .dataframe tbody tr th {\n",
       "        vertical-align: top;\n",
       "    }\n",
       "\n",
       "    .dataframe thead th {\n",
       "        text-align: right;\n",
       "    }\n",
       "</style>\n",
       "<table border=\"1\" class=\"dataframe\">\n",
       "  <thead>\n",
       "    <tr style=\"text-align: right;\">\n",
       "      <th></th>\n",
       "      <th>Title</th>\n",
       "      <th>Price</th>\n",
       "      <th>Availability</th>\n",
       "      <th>Rating</th>\n",
       "    </tr>\n",
       "  </thead>\n",
       "  <tbody>\n",
       "    <tr>\n",
       "      <th>0</th>\n",
       "      <td>A Light in the Attic</td>\n",
       "      <td>£51.77</td>\n",
       "      <td>In stock</td>\n",
       "      <td>3</td>\n",
       "    </tr>\n",
       "    <tr>\n",
       "      <th>1</th>\n",
       "      <td>Tipping the Velvet</td>\n",
       "      <td>£53.74</td>\n",
       "      <td>In stock</td>\n",
       "      <td>1</td>\n",
       "    </tr>\n",
       "    <tr>\n",
       "      <th>2</th>\n",
       "      <td>Soumission</td>\n",
       "      <td>£50.10</td>\n",
       "      <td>In stock</td>\n",
       "      <td>1</td>\n",
       "    </tr>\n",
       "    <tr>\n",
       "      <th>3</th>\n",
       "      <td>Sharp Objects</td>\n",
       "      <td>£47.82</td>\n",
       "      <td>In stock</td>\n",
       "      <td>4</td>\n",
       "    </tr>\n",
       "    <tr>\n",
       "      <th>4</th>\n",
       "      <td>Sapiens: A Brief History of Humankind</td>\n",
       "      <td>£54.23</td>\n",
       "      <td>In stock</td>\n",
       "      <td>5</td>\n",
       "    </tr>\n",
       "  </tbody>\n",
       "</table>\n",
       "</div>"
      ],
      "text/plain": [
       "                                   Title   Price Availability  Rating\n",
       "0                   A Light in the Attic  £51.77     In stock       3\n",
       "1                     Tipping the Velvet  £53.74     In stock       1\n",
       "2                             Soumission  £50.10     In stock       1\n",
       "3                          Sharp Objects  £47.82     In stock       4\n",
       "4  Sapiens: A Brief History of Humankind  £54.23     In stock       5"
      ]
     },
     "execution_count": 126,
     "metadata": {},
     "output_type": "execute_result"
    }
   ],
   "source": [
    "# Create a DataFrame from the lists\n",
    "books_df = pd.DataFrame({\n",
    "    'Title': titles,\n",
    "    'Price': prices,\n",
    "    'Availability': availabilities,\n",
    "    'Rating': ratings\n",
    "})\n",
    "\n",
    "# Display the first few rows of the DataFrame\n",
    "books_df.head()"
   ]
  },
  {
   "cell_type": "markdown",
   "metadata": {},
   "source": [
    "### Sort by Rating\n",
    "We sort the DataFrame by the `Rating` column in descending order and display the top-rated books."
   ]
  },
  {
   "cell_type": "code",
   "execution_count": 127,
   "metadata": {},
   "outputs": [
    {
     "name": "stdout",
     "output_type": "stream",
     "text": [
      "                                                Title   Price Availability  \\\n",
      "12                                        Set Me Free  £17.46     In stock   \n",
      "4               Sapiens: A Brief History of Humankind  £54.23     In stock   \n",
      "14                          Rip it Up and Start Again  £35.02     In stock   \n",
      "13  Scott Pilgrim's Precious Little Life (Scott Pi...  £52.29     In stock   \n",
      "3                                       Sharp Objects  £47.82     In stock   \n",
      "\n",
      "    Rating  \n",
      "12       5  \n",
      "4        5  \n",
      "14       5  \n",
      "13       5  \n",
      "3        4  \n"
     ]
    }
   ],
   "source": [
    "# Sort the DataFrame by Rating and show the top-rated books\n",
    "top_books = books_df.sort_values('Rating', ascending=False).head()\n",
    "print(top_books)"
   ]
  }
 ],
 "metadata": {
  "kernelspec": {
   "display_name": "Python 3 (ipykernel)",
   "language": "python",
   "name": "python3"
  },
  "language_info": {
   "codemirror_mode": {
    "name": "ipython",
    "version": 3
   },
   "file_extension": ".py",
   "mimetype": "text/x-python",
   "name": "python",
   "nbconvert_exporter": "python",
   "pygments_lexer": "ipython3",
   "version": "3.12.5"
  }
 },
 "nbformat": 4,
 "nbformat_minor": 4
}
