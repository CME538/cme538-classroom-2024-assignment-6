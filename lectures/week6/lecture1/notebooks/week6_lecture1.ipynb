{
 "cells": [
  {
   "cell_type": "markdown",
   "metadata": {},
   "source": [
    "# CME538 - Introduction to Data Science\n",
    "## Lecture 6.1 - Loss Functions"
   ]
  },
  {
   "cell_type": "markdown",
   "metadata": {},
   "source": [
    "## Setup Notebook"
   ]
  },
  {
   "cell_type": "code",
   "execution_count": 1,
   "metadata": {},
   "outputs": [],
   "source": [
    "# Import 3rd party libraries\n",
    "import numpy as np\n",
    "import pandas as pd\n",
    "import seaborn as sns\n",
    "import matplotlib.pylab as plt\n",
    "\n",
    "# Configure Notebook\n",
    "%matplotlib inline\n",
    "plt.style.use('fivethirtyeight')\n",
    "sns.set_context(\"notebook\")\n",
    "import warnings\n",
    "warnings.filterwarnings('ignore')"
   ]
  },
  {
   "cell_type": "markdown",
   "metadata": {},
   "source": [
    "# Import Tips Data\n",
    "Let's import out tips dataset from `Seaborn`."
   ]
  },
  {
   "cell_type": "code",
   "execution_count": null,
   "metadata": {},
   "outputs": [],
   "source": [
    "tips = sns.load_dataset('tips')\n",
    "tips = tips.iloc[0:-1]\n",
    "tips.head()"
   ]
  },
  {
   "cell_type": "markdown",
   "metadata": {},
   "source": [
    "Add a column representing the tip percentage."
   ]
  },
  {
   "cell_type": "code",
   "execution_count": null,
   "metadata": {},
   "outputs": [],
   "source": [
    "tips['tip_pct'] = tips['tip'] / tips['total_bill'] * 100\n",
    "tips.head()"
   ]
  },
  {
   "cell_type": "markdown",
   "metadata": {},
   "source": [
    "Now, let's plot `'tip_pct'` using a `Rugplot`."
   ]
  },
  {
   "cell_type": "code",
   "execution_count": null,
   "metadata": {},
   "outputs": [],
   "source": [
    "sns.rugplot(tips['tip_pct'], height=0.5);\n",
    "plt.ylim([0, 1])\n",
    "plt.xlabel('Tipe Percentage', fontsize=16)"
   ]
  },
  {
   "cell_type": "code",
   "execution_count": null,
   "metadata": {},
   "outputs": [],
   "source": [
    "sns.distplot(tips['tip_pct'], rug=True, label='Tip Percentage')\n",
    "plt.plot([np.mean(tips['tip_pct']), np.mean(tips['tip_pct'])], [0, 0.12], \n",
    "         '-r', lw=2, label='Mean = {}'.format(np.round(np.mean(tips['tip_pct']), 2)))\n",
    "plt.plot([np.median(tips['tip_pct']), np.median(tips['tip_pct'])], [0, 0.12], \n",
    "         '-g', lw=2, label='Median = {}'.format(np.round(np.median(tips['tip_pct']), 2)))\n",
    "plt.legend(fontsize=14)\n",
    "plt.xlabel('Tipe Percentage', fontsize=16)\n",
    "plt.ylabel('Density', fontsize=16)\n",
    "plt.ylim([0, 0.12]);"
   ]
  },
  {
   "cell_type": "code",
   "execution_count": null,
   "metadata": {},
   "outputs": [],
   "source": [
    "sns.rugplot(tips['tip_pct'], height=0.5);\n",
    "plt.xlim([10, 20])\n",
    "plt.ylim([0, 1])\n",
    "plt.xlabel('Tipe Percentage', fontsize=16)"
   ]
  },
  {
   "cell_type": "markdown",
   "metadata": {},
   "source": [
    "# Absolute Loss"
   ]
  },
  {
   "cell_type": "code",
   "execution_count": null,
   "metadata": {},
   "outputs": [],
   "source": [
    "observation = 15\n",
    "thetas = range(50)\n",
    "\n",
    "absolute_loss = [np.abs(observation - theta) for theta in thetas]\n",
    "\n",
    "sns.rugplot([observation], height=0.1, lw=5, label='Observation, y = 15')\n",
    "plt.plot(thetas, absolute_loss, '-', label='L($\\\\theta$, y) = |y - $\\\\theta$|')\n",
    "plt.legend(loc=4, fontsize=14)\n",
    "plt.ylim([-5, 35])\n",
    "plt.xlabel('Choice for $\\\\theta$', fontsize=16)\n",
    "plt.ylabel('Absolute Loss, L($\\\\theta$, y)', fontsize=16);"
   ]
  },
  {
   "cell_type": "markdown",
   "metadata": {},
   "source": [
    "# Squared Loss"
   ]
  },
  {
   "cell_type": "code",
   "execution_count": null,
   "metadata": {},
   "outputs": [],
   "source": [
    "observation = 15\n",
    "thetas = range(50)\n",
    "\n",
    "squared_loss = [(observation - theta)**2 for theta in thetas]\n",
    "\n",
    "sns.rugplot([observation], height=0.1, lw=5, label='Observation, y = 15')\n",
    "plt.plot(thetas, squared_loss, '-', label='L($\\\\theta$, y) = (y - $\\\\theta$)$^2$')\n",
    "plt.legend(loc=2, fontsize=14)\n",
    "plt.ylim([-160, 1200])\n",
    "plt.xlabel('Choice for $\\\\theta$', fontsize=16)\n",
    "plt.ylabel('Squared Loss, L($\\\\theta$, y)', fontsize=16);"
   ]
  },
  {
   "cell_type": "markdown",
   "metadata": {},
   "source": [
    "# Squared Loss vs Absolute Loss"
   ]
  },
  {
   "cell_type": "code",
   "execution_count": null,
   "metadata": {},
   "outputs": [],
   "source": [
    "observation = 15\n",
    "thetas = range(50)\n",
    "\n",
    "absolute_loss = [np.abs(observation - theta) for theta in thetas]\n",
    "squared_loss = [(observation - theta)**2 for theta in thetas]\n",
    "\n",
    "sns.rugplot([observation], height=0.1, lw=5, label='Observation, y = 15')\n",
    "plt.plot(thetas, squared_loss, '-', label='L($\\\\theta$, y) = (y - $\\\\theta$)$^2$')\n",
    "plt.plot(thetas, absolute_loss, '-', label='L($\\\\theta$, y) = |y - $\\\\theta$|')\n",
    "plt.legend(loc=4, fontsize=14)\n",
    "plt.ylim([-5, 35])\n",
    "plt.xlabel('Choice for $\\\\theta$', fontsize=16)\n",
    "plt.ylabel('Loss, L($\\\\theta$, y)', fontsize=16);"
   ]
  },
  {
   "cell_type": "code",
   "execution_count": null,
   "metadata": {},
   "outputs": [],
   "source": [
    "observation = 15\n",
    "thetas = range(50)\n",
    "\n",
    "absolute_loss = [np.abs(observation - theta) for theta in thetas]\n",
    "squared_loss = [(observation - theta)**2 for theta in thetas]\n",
    "\n",
    "sns.rugplot([observation], height=0.1, lw=5, label='Observation, y = 15')\n",
    "plt.plot(thetas, squared_loss, '-', label='L($\\\\theta$, y) = (y - $\\\\theta$)$^2$')\n",
    "plt.plot(thetas, absolute_loss, '-', label='L($\\\\theta$, y) = |y - $\\\\theta$|')\n",
    "plt.legend(loc=2, fontsize=14)\n",
    "plt.ylim([-160, 1200])\n",
    "plt.xlabel('Choice for $\\\\theta$', fontsize=16)\n",
    "plt.ylabel('Loss, L($\\\\theta$, y)', fontsize=16);"
   ]
  },
  {
   "cell_type": "markdown",
   "metadata": {},
   "source": [
    "# Average Loss"
   ]
  },
  {
   "cell_type": "code",
   "execution_count": 11,
   "metadata": {},
   "outputs": [],
   "source": [
    "def absolute_loss(y, theta):\n",
    "    \"\"\"\n",
    "    Returns the absolute loss between \n",
    "    multiple observations and one theta value.\n",
    "    \"\"\"\n",
    "    return np.mean(np.abs(y - theta))\n",
    "\n",
    "def squared_loss(y, theta):\n",
    "    \"\"\"\n",
    "    Returns the squared loss between \n",
    "    multiple observations and one theta value.\n",
    "    \"\"\"\n",
    "    return np.mean((y - theta)**2)\n",
    "\n",
    "def brute_force_optimize(loss_func, dataset, thetas):\n",
    "    \"\"\"\n",
    "    Returns the value of theta in thetas that produces the least loss\n",
    "    on a given dataset and the loss for all thetas.\n",
    "    \"\"\"\n",
    "    # Calculate loss for each theta\n",
    "    losses = [loss_func(theta, dataset) for theta in thetas]\n",
    "\n",
    "    return {'optimum_theta': thetas[np.argmin(losses)], \n",
    "            'optimum_loss': np.min(losses), \n",
    "            'thetas': thetas, \n",
    "            'losses': losses}"
   ]
  },
  {
   "cell_type": "markdown",
   "metadata": {},
   "source": [
    "## Average Absolute Loss"
   ]
  },
  {
   "cell_type": "code",
   "execution_count": 12,
   "metadata": {},
   "outputs": [],
   "source": [
    "# Run optimization\n",
    "absolute_loss_optimum = brute_force_optimize(\n",
    "    loss_func=absolute_loss, \n",
    "    dataset=tips['tip_pct'].values, \n",
    "    thetas=np.arange(0, 100, 5)\n",
    ")"
   ]
  },
  {
   "cell_type": "code",
   "execution_count": null,
   "metadata": {},
   "outputs": [],
   "source": [
    "sns.rugplot(tips['tip_pct'].values, height=0.1, label='Observations')\n",
    "plt.plot(absolute_loss_optimum['thetas'], \n",
    "         absolute_loss_optimum['losses'], \n",
    "         'o-', label='L($\\\\theta$, y)')\n",
    "plt.legend(loc=2, fontsize=14)\n",
    "plt.xlabel('Choice for $\\\\theta$', fontsize=16)\n",
    "plt.ylabel('Average Absolute Loss', fontsize=16);"
   ]
  },
  {
   "cell_type": "markdown",
   "metadata": {},
   "source": [
    "## Average Squared Loss"
   ]
  },
  {
   "cell_type": "code",
   "execution_count": 14,
   "metadata": {},
   "outputs": [],
   "source": [
    "# Run optimization\n",
    "squared_loss_optimum = brute_force_optimize(\n",
    "    loss_func=squared_loss, \n",
    "    dataset=tips['tip_pct'].values, \n",
    "    thetas=np.arange(0, 100, 5)\n",
    ")"
   ]
  },
  {
   "cell_type": "code",
   "execution_count": null,
   "metadata": {},
   "outputs": [],
   "source": [
    "sns.rugplot(tips['tip_pct'].values, height=0.1, label='Observations')\n",
    "plt.plot(squared_loss_optimum['thetas'], \n",
    "         squared_loss_optimum['losses'], \n",
    "         'o-', label='L($\\\\theta$, y)')\n",
    "plt.legend(loc=2, fontsize=14)\n",
    "plt.xlabel('Choice for $\\\\theta$', fontsize=16)\n",
    "plt.ylabel('Average Squared Loss', fontsize=16);"
   ]
  },
  {
   "cell_type": "markdown",
   "metadata": {},
   "source": [
    "# Brute Force Optimization"
   ]
  },
  {
   "cell_type": "code",
   "execution_count": 16,
   "metadata": {},
   "outputs": [],
   "source": [
    "# Run optimization\n",
    "absolute_loss_optimum = brute_force_optimize(\n",
    "    loss_func=absolute_loss, \n",
    "    dataset=tips['tip_pct'].values, \n",
    "    thetas=np.arange(0, 100, 0.01)\n",
    ")"
   ]
  },
  {
   "cell_type": "code",
   "execution_count": null,
   "metadata": {},
   "outputs": [],
   "source": [
    "sns.rugplot(tips['tip_pct'].values, height=0.1, label='Observations')\n",
    "plt.plot(absolute_loss_optimum['thetas'], \n",
    "         absolute_loss_optimum['losses'], \n",
    "         '-', label='L($\\\\theta$, y)')\n",
    "plt.plot(absolute_loss_optimum['optimum_theta'], \n",
    "         absolute_loss_optimum['optimum_loss'], \n",
    "         'o', markeredgecolor='k', ms=10, \n",
    "         label='Optimum $\\\\theta$ = {:.2f}'.format(absolute_loss_optimum['optimum_theta']))\n",
    "plt.legend(loc=2, fontsize=14)\n",
    "plt.xlabel('Choice for $\\\\theta$', fontsize=16)\n",
    "plt.ylabel('Average Absolute Loss', fontsize=16);"
   ]
  },
  {
   "cell_type": "code",
   "execution_count": 18,
   "metadata": {},
   "outputs": [],
   "source": [
    "# Run optimization\n",
    "squared_loss_optimum = brute_force_optimize(\n",
    "    loss_func=squared_loss, \n",
    "    dataset=tips['tip_pct'].values, \n",
    "    thetas=np.arange(0, 100, 0.01)\n",
    ")"
   ]
  },
  {
   "cell_type": "code",
   "execution_count": null,
   "metadata": {},
   "outputs": [],
   "source": [
    "sns.rugplot(tips['tip_pct'].values, height=0.1, label='Observations')\n",
    "plt.plot(squared_loss_optimum['thetas'], \n",
    "         squared_loss_optimum['losses'], \n",
    "         '-', label='L($\\\\theta$, y)')\n",
    "plt.plot(squared_loss_optimum['optimum_theta'], \n",
    "         squared_loss_optimum['optimum_loss'], \n",
    "         'o', markeredgecolor='k', ms=10, \n",
    "         label='Optimum $\\\\theta$ = {:.2f}'.format(squared_loss_optimum['optimum_theta']))\n",
    "plt.legend(loc=2, fontsize=14)\n",
    "plt.xlabel('Choice for $\\\\theta$', fontsize=16)\n",
    "plt.ylabel('Average Squared Loss', fontsize=16);"
   ]
  },
  {
   "cell_type": "code",
   "execution_count": null,
   "metadata": {},
   "outputs": [],
   "source": [
    "mean = np.mean(tips['tip_pct'].values)\n",
    "print('The mean tip percentage is {:.2f} %.'.format(mean))"
   ]
  },
  {
   "cell_type": "code",
   "execution_count": null,
   "metadata": {},
   "outputs": [],
   "source": [
    "median = np.median(tips['tip_pct'].values)\n",
    "print('The median tip percentage is {:.2f} %.'.format(median))"
   ]
  },
  {
   "cell_type": "markdown",
   "metadata": {},
   "source": [
    "## Different Ranges"
   ]
  },
  {
   "cell_type": "code",
   "execution_count": 22,
   "metadata": {},
   "outputs": [],
   "source": [
    "# Run optimization\n",
    "squared_loss_optimum = brute_force_optimize(\n",
    "    loss_func=squared_loss, \n",
    "    dataset=tips['tip_pct'].values, \n",
    "    thetas=np.arange(0, 100, 10)\n",
    ")"
   ]
  },
  {
   "cell_type": "code",
   "execution_count": null,
   "metadata": {},
   "outputs": [],
   "source": [
    "sns.rugplot(tips['tip_pct'].values, height=0.1, label='Observations')\n",
    "plt.plot(squared_loss_optimum['thetas'], \n",
    "         squared_loss_optimum['losses'], \n",
    "         'o-', label='L($\\\\theta$, y)')\n",
    "plt.plot(squared_loss_optimum['optimum_theta'], \n",
    "         squared_loss_optimum['optimum_loss'], \n",
    "         'o', markeredgecolor='k', ms=10, \n",
    "         label='Optimum $\\\\theta$ = {:.2f}'.format(squared_loss_optimum['optimum_theta']))\n",
    "plt.legend(loc=2, fontsize=14)\n",
    "plt.xlabel('Choice for $\\\\theta$', fontsize=16)\n",
    "plt.ylabel('Average Squared Loss', fontsize=16);"
   ]
  }
 ],
 "metadata": {
  "kernelspec": {
   "display_name": "Python 3 (ipykernel)",
   "language": "python",
   "name": "python3"
  },
  "language_info": {
   "codemirror_mode": {
    "name": "ipython",
    "version": 3
   },
   "file_extension": ".py",
   "mimetype": "text/x-python",
   "name": "python",
   "nbconvert_exporter": "python",
   "pygments_lexer": "ipython3",
   "version": "3.11.5"
  }
 },
 "nbformat": 4,
 "nbformat_minor": 4
}
