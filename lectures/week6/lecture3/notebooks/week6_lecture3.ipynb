{
 "cells": [
  {
   "cell_type": "markdown",
   "metadata": {},
   "source": [
    "# CME538 - Introduction to Data Science\n",
    "## Lecture 6.3 - Gradient Descent II"
   ]
  },
  {
   "cell_type": "markdown",
   "metadata": {},
   "source": [
    "## Setup Notebook"
   ]
  },
  {
   "cell_type": "code",
   "execution_count": 1,
   "metadata": {},
   "outputs": [],
   "source": [
    "# Import 3rd party libraries\n",
    "import random\n",
    "import numpy as np\n",
    "import pandas as pd\n",
    "import seaborn as sns\n",
    "from matplotlib import cm\n",
    "import matplotlib.pylab as plt\n",
    "from ipywidgets import interact, fixed, IntSlider\n",
    "\n",
    "# Configure Notebook\n",
    "%matplotlib inline\n",
    "plt.style.use('fivethirtyeight')\n",
    "sns.set_context(\"notebook\")\n",
    "import warnings\n",
    "warnings.filterwarnings('ignore')"
   ]
  },
  {
   "cell_type": "markdown",
   "metadata": {},
   "source": [
    "# Import Tips Data\n",
    "Let's import out tips dataset from `Seaborn`."
   ]
  },
  {
   "cell_type": "code",
   "execution_count": null,
   "metadata": {},
   "outputs": [],
   "source": [
    "tips = sns.load_dataset('tips')\n",
    "tips = tips.iloc[0:-1]\n",
    "tips.head()"
   ]
  },
  {
   "cell_type": "markdown",
   "metadata": {},
   "source": [
    "Add a column representing the tip percentage."
   ]
  },
  {
   "cell_type": "code",
   "execution_count": null,
   "metadata": {},
   "outputs": [],
   "source": [
    "tips['tip_pct'] = tips['tip'] / tips['total_bill'] * 100\n",
    "tips.head()"
   ]
  },
  {
   "cell_type": "code",
   "execution_count": null,
   "metadata": {},
   "outputs": [],
   "source": [
    "ax = sns.distplot(tips['tip_pct'])\n",
    "ax.set_xlabel('Tip Percentage')"
   ]
  },
  {
   "cell_type": "markdown",
   "metadata": {},
   "source": [
    "# Stochastic Gradient Descent"
   ]
  },
  {
   "cell_type": "code",
   "execution_count": 5,
   "metadata": {},
   "outputs": [],
   "source": [
    "def mse(theta0, theta1, x, y_obs):\n",
    "    y_hat = theta0 + theta1 * x\n",
    "    return np.mean((y_hat - y_obs) ** 2)\n",
    "\n",
    "def grad_mse(theta0, theta1, x, y_obs):\n",
    "    y_hat = theta0 + theta1 * x\n",
    "    grad_0 = -2 * (y_obs - y_hat)\n",
    "    grad_1 = -2 * x * (y_obs - y_hat)\n",
    "    return grad_0, grad_1"
   ]
  },
  {
   "cell_type": "code",
   "execution_count": 8,
   "metadata": {},
   "outputs": [],
   "source": [
    "def minimize_sgd(steps, epochs, data_ids, loss_fn, grad_loss_fn, \n",
    "                 x, y_obs, alpha=0.2):\n",
    "    \"\"\"\n",
    "    Uses gradient descent to minimize loss_fn. Returns the minimizing value of\n",
    "    theta once theta changes less than 0.001 between iterations.\n",
    "    \"\"\"\n",
    "    # Scale features\n",
    "    x = (x - np.mean(x)) / np.std(x)\n",
    "    y_obs = (y_obs - np.mean(y_obs)) / np.std(y_obs)\n",
    "    \n",
    "    # Convert steps\n",
    "    steps = range(steps)\n",
    "    \n",
    "    # Set starting epoch\n",
    "    epochs_conv = []\n",
    "    \n",
    "    # Set loss array\n",
    "    losses = []\n",
    "    losses_conv = []\n",
    "    \n",
    "    # Set theta array\n",
    "    theta0s = []\n",
    "    theta1s = []\n",
    "    \n",
    "    # Setup figure\n",
    "    fig = plt.figure(figsize=(14, 12))\n",
    "    fig.subplots_adjust(wspace=0.2, hspace=0.2)\n",
    "    ax1 = plt.subplot2grid((2, 2), (0, 0))\n",
    "    ax2 = plt.subplot2grid((2, 2), (0, 1))\n",
    "    ax3 = plt.subplot2grid((2, 2), (1, 0))\n",
    "    ax4 = plt.subplot2grid((2, 2), (1, 1), projection='3d')\n",
    "    \n",
    "    # Plot total_bill vs tip\n",
    "    sns.scatterplot(x = x, y = y_obs, ax=ax1)\n",
    "    ax1.xaxis.set_tick_params(labelsize=14)\n",
    "    ax1.yaxis.set_tick_params(labelsize=14)\n",
    "    ax1.set_ylabel('Tip', fontsize=18)\n",
    "    ax1.set_xlabel('Total Bill', fontsize=18)\n",
    "    ax1.set_xlim([-2, 4])\n",
    "    ax1.set_ylim([-2, 6])\n",
    "    \n",
    "    # Plot 2D contour\n",
    "    theta0_grid = np.linspace(-10, 15, 200)\n",
    "    theta1_grid = np.linspace(-10, 10, 200)\n",
    "    loss_grid = np.zeros([len(theta1_grid), len(theta0_grid)])\n",
    "    for theta0_id, theta0 in enumerate(theta0_grid):\n",
    "        for theta1_id, theta1 in enumerate(theta1_grid):\n",
    "            loss_grid[theta1_id, theta0_id] = loss_fn(theta0, theta1, x, y_obs)\n",
    "    X, Y = np.meshgrid(theta0_grid, theta1_grid)\n",
    "    cp = ax3.contour(X, Y, loss_grid, 6, colors='white', linestyles='dashed', linewidths=1)\n",
    "    ax3.clabel(cp, inline=1, fmt='%1.1f', fontsize=15 )\n",
    "    ax3.contourf(X, Y, loss_grid, alpha=0.65,cmap=cm.viridis) \n",
    "    ax3.set_xlabel('$\\\\theta_0$', fontsize=18)\n",
    "    ax3.set_ylabel('$\\\\theta_1$', fontsize=18)\n",
    "\n",
    "    # 3D Surface\n",
    "    surf = ax4.plot_surface(X, Y, loss_grid, cmap='viridis', rstride=1, cstride=1, antialiased=True, alpha=0.65)\n",
    "    ax4.set_xlabel('$\\\\theta_0$', fontsize=18)\n",
    "    ax4.set_ylabel('$\\\\theta_1$', fontsize=18)\n",
    "    ax4.set_zlabel('Loss', fontsize=18, rotation=90)\n",
    "    \n",
    "    # Set starting theta\n",
    "    theta0 = 12.5\n",
    "    theta1 = 7.5\n",
    "\n",
    "    for step in steps:\n",
    "    \n",
    "        # Update losses\n",
    "        losses.append(loss_fn(theta0, theta1, \n",
    "                              x[data_ids[step]], \n",
    "                              y_obs[data_ids[step]]))\n",
    "\n",
    "        # Update thetas\n",
    "        theta0s.append(theta0)\n",
    "        theta1s.append(theta1)\n",
    "\n",
    "        # Compute gradient\n",
    "        gradient_0, gradient_1 = grad_loss_fn(theta0, \n",
    "                                              theta1, \n",
    "                                              x[data_ids[step]], \n",
    "                                              y_obs[data_ids[step]])\n",
    "\n",
    "        # Get new theta\n",
    "        new_theta0 = theta0 - alpha * gradient_0\n",
    "        new_theta1 = theta1 - alpha * gradient_1\n",
    "\n",
    "        # Update theta\n",
    "        theta0 = new_theta0\n",
    "        theta1 = new_theta1\n",
    "\n",
    "    # Check for convergence\n",
    "    ax2.plot(np.array(list(steps)) / len(x), losses, '-o', markeredgecolor='k', ms=10)\n",
    "    ax2.set_xlim([-0.1, 1])\n",
    "    ax2.set_ylim([-20, 220])\n",
    "    ax2.set_xlabel('Epoch', fontsize=18)\n",
    "    ax2.set_ylabel('Loss', fontsize=18)\n",
    "    ax2.xaxis.set_tick_params(labelsize=14)\n",
    "    ax2.yaxis.set_tick_params(labelsize=14)\n",
    "    \n",
    "    # Plot updated model\n",
    "    ax1.set_title('$\\\\theta_0$ = {}\\n$\\\\theta_1$ = {}'.format(np.round(theta0, 2), np.round(theta1, 2)), fontsize=18)\n",
    "    ax1.plot(x, theta0 + x*theta1, linestyle='-', lw=3, color='#fc4f30')\n",
    "    \n",
    "    # Add updated\" theta \n",
    "    ax3.plot(theta0s, theta1s, '-', lw=4)\n",
    "    ax3.plot(theta0s[-1], theta1s[-1], 'o', markeredgecolor='k', ms=10)\n",
    "    \n",
    "    # Add updated theta\n",
    "    ax4.plot(theta0s, theta1s, losses, '-', lw=4)\n",
    "    ax4.plot(theta0s[-1], theta1s[-1], losses[-1], 'o', markeredgecolor='k', ms=10)\n",
    "    \n",
    "    plt.show()"
   ]
  },
  {
   "cell_type": "code",
   "execution_count": null,
   "metadata": {
    "scrolled": false
   },
   "outputs": [],
   "source": [
    "alpha = 0.02\n",
    "num_epochs = 20\n",
    "num_obs = len(tips)\n",
    "num_steps = num_epochs * num_obs \n",
    "data_ids = list()\n",
    "for _ in range(num_epochs):\n",
    "    temp = list(range(num_obs))\n",
    "    random.shuffle(temp)\n",
    "    data_ids.extend(temp)\n",
    "epochs = [i for i in range(num_steps) for _ in range(num_epochs)]\n",
    "\n",
    "# Launch widget\n",
    "interact(minimize_sgd,\n",
    "         steps=IntSlider(value=1, min=1, max=num_steps, step=1),\n",
    "         epochs=fixed(epochs),\n",
    "         data_ids=fixed(data_ids),\n",
    "         loss_fn=fixed(mse),\n",
    "         grad_loss_fn=fixed(grad_mse),\n",
    "         x=fixed(tips['total_bill'].values),\n",
    "         y_obs=fixed(tips['tip'].values),\n",
    "         alpha=fixed(alpha));"
   ]
  },
  {
   "cell_type": "code",
   "execution_count": null,
   "metadata": {},
   "outputs": [],
   "source": []
  }
 ],
 "metadata": {
  "kernelspec": {
   "display_name": "Python 3 (ipykernel)",
   "language": "python",
   "name": "python3"
  },
  "language_info": {
   "codemirror_mode": {
    "name": "ipython",
    "version": 3
   },
   "file_extension": ".py",
   "mimetype": "text/x-python",
   "name": "python",
   "nbconvert_exporter": "python",
   "pygments_lexer": "ipython3",
   "version": "3.11.5"
  }
 },
 "nbformat": 4,
 "nbformat_minor": 4
}
