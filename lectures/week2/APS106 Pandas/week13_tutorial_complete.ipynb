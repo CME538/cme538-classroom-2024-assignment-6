{
 "cells": [
  {
   "cell_type": "markdown",
   "metadata": {},
   "source": [
    "## Coding Question #1\n",
    "\n",
    "Write a Python function named `genre_titles` that extracts titles from a given genre, filters titles containing a specified keyword (case-insensitive), and returns a dictionary where each key is a genre and each value is a list of book titles that match the criteria.\n",
    "\n",
    "Read the dataframe from the file `books.csv` and save it into a variable df\n",
    "\n",
    "Usage example:\n",
    "\n",
    "`>>> genre_titles(df, \"Fiction\",'great')`\n",
    "\n",
    "    `{'Fiction': ['The Great Gatsby']}`\n",
    "\n",
    "\n",
    "Finally, save this result into a DataFrame called `filtered_books`"
   ]
  },
  {
   "cell_type": "code",
   "execution_count": 30,
   "metadata": {},
   "outputs": [],
   "source": [
    "import pandas as pd\n",
    "\n",
    "def genre_titles(df, target_genre, keyword):\n",
    "    \"\"\" (df, str, str) -> dict\n",
    "    assume that target_genre matches perfectly with the column values in \"Genre\"\n",
    "    assume that keyword search is not case-sensitive\n",
    "    for the dictionary, key = genre, values = list of titles containing key-word (not case sensitive)\n",
    "\n",
    "    genre_titles(df,\"Non-Fiction\",'of')\n",
    "    >> {'Fiction': ['The Great Gatsby']}\n",
    "    \"\"\"\n",
    "    \n",
    "    # Filter the DataFrame for the specified genre using .loc\n",
    "    genre_df = df.loc[df['Genre'].str.lower() == target_genre.lower()]\n",
    "\n",
    "    titles_list = []\n",
    "    # Iterate over the DataFrame using a for loop\n",
    "    for row in genre_df.index:\n",
    "\n",
    "        # isolate the Title\n",
    "        title = genre_df.loc[row,'Title']\n",
    "\n",
    "        # check if the keyword is in title\n",
    "        if keyword in title.lower().split(' '):\n",
    "            titles_list.append(title)\n",
    "    \n",
    "    # Return the result as a dictionary\n",
    "    return {target_genre: titles_list}"
   ]
  },
  {
   "cell_type": "code",
   "execution_count": 43,
   "metadata": {},
   "outputs": [
    {
     "data": {
      "text/html": [
       "<div>\n",
       "<style scoped>\n",
       "    .dataframe tbody tr th:only-of-type {\n",
       "        vertical-align: middle;\n",
       "    }\n",
       "\n",
       "    .dataframe tbody tr th {\n",
       "        vertical-align: top;\n",
       "    }\n",
       "\n",
       "    .dataframe thead th {\n",
       "        text-align: right;\n",
       "    }\n",
       "</style>\n",
       "<table border=\"1\" class=\"dataframe\">\n",
       "  <thead>\n",
       "    <tr style=\"text-align: right;\">\n",
       "      <th></th>\n",
       "      <th>Title</th>\n",
       "      <th>Genre</th>\n",
       "    </tr>\n",
       "  </thead>\n",
       "  <tbody>\n",
       "    <tr>\n",
       "      <th>0</th>\n",
       "      <td>To Kill a Mockingbird</td>\n",
       "      <td>Fiction</td>\n",
       "    </tr>\n",
       "    <tr>\n",
       "      <th>1</th>\n",
       "      <td>Brief History of Time</td>\n",
       "      <td>Non-Fiction</td>\n",
       "    </tr>\n",
       "    <tr>\n",
       "      <th>2</th>\n",
       "      <td>The Great Gatsby</td>\n",
       "      <td>Fiction</td>\n",
       "    </tr>\n",
       "    <tr>\n",
       "      <th>3</th>\n",
       "      <td>The Diary of Anne Frank</td>\n",
       "      <td>Non-Fiction</td>\n",
       "    </tr>\n",
       "    <tr>\n",
       "      <th>4</th>\n",
       "      <td>Mysteries of the Cosmos</td>\n",
       "      <td>Non-Fiction</td>\n",
       "    </tr>\n",
       "    <tr>\n",
       "      <th>5</th>\n",
       "      <td>The Art of the Code</td>\n",
       "      <td>Non-Fiction</td>\n",
       "    </tr>\n",
       "    <tr>\n",
       "      <th>6</th>\n",
       "      <td>Whispers in the Dark</td>\n",
       "      <td>Fiction</td>\n",
       "    </tr>\n",
       "    <tr>\n",
       "      <th>7</th>\n",
       "      <td>The Last of the Ancients</td>\n",
       "      <td>Fiction</td>\n",
       "    </tr>\n",
       "    <tr>\n",
       "      <th>8</th>\n",
       "      <td>Echoes of the Future</td>\n",
       "      <td>Science Fiction</td>\n",
       "    </tr>\n",
       "    <tr>\n",
       "      <th>9</th>\n",
       "      <td>The Silent Sea</td>\n",
       "      <td>Mystery</td>\n",
       "    </tr>\n",
       "    <tr>\n",
       "      <th>10</th>\n",
       "      <td>Journey through the Desert</td>\n",
       "      <td>Travel</td>\n",
       "    </tr>\n",
       "    <tr>\n",
       "      <th>11</th>\n",
       "      <td>Gardens Beyond Time</td>\n",
       "      <td>Gardening</td>\n",
       "    </tr>\n",
       "    <tr>\n",
       "      <th>12</th>\n",
       "      <td>The Mind of the Machine</td>\n",
       "      <td>Technology</td>\n",
       "    </tr>\n",
       "    <tr>\n",
       "      <th>13</th>\n",
       "      <td>Legends of the Forgotten</td>\n",
       "      <td>Fantasy</td>\n",
       "    </tr>\n",
       "  </tbody>\n",
       "</table>\n",
       "</div>"
      ],
      "text/plain": [
       "                         Title            Genre\n",
       "0        To Kill a Mockingbird          Fiction\n",
       "1        Brief History of Time      Non-Fiction\n",
       "2             The Great Gatsby          Fiction\n",
       "3      The Diary of Anne Frank      Non-Fiction\n",
       "4      Mysteries of the Cosmos      Non-Fiction\n",
       "5          The Art of the Code      Non-Fiction\n",
       "6         Whispers in the Dark          Fiction\n",
       "7     The Last of the Ancients          Fiction\n",
       "8         Echoes of the Future  Science Fiction\n",
       "9               The Silent Sea          Mystery\n",
       "10  Journey through the Desert           Travel\n",
       "11         Gardens Beyond Time        Gardening\n",
       "12     The Mind of the Machine       Technology\n",
       "13    Legends of the Forgotten          Fantasy"
      ]
     },
     "execution_count": 43,
     "metadata": {},
     "output_type": "execute_result"
    }
   ],
   "source": [
    "# read in dataframe from csv\n",
    "df = pd.read_csv('books.csv')\n",
    "df"
   ]
  },
  {
   "cell_type": "code",
   "execution_count": 32,
   "metadata": {},
   "outputs": [
    {
     "name": "stdout",
     "output_type": "stream",
     "text": [
      "{'Fiction': ['The Great Gatsby']}\n",
      "True\n"
     ]
    }
   ],
   "source": [
    "#Should return true\n",
    "print(genre_titles(df,\"Fiction\",'great'))\n",
    "print(genre_titles(df,\"Fiction\",'great')=={'Fiction': ['The Great Gatsby']})"
   ]
  },
  {
   "cell_type": "code",
   "execution_count": 33,
   "metadata": {},
   "outputs": [
    {
     "name": "stdout",
     "output_type": "stream",
     "text": [
      "True\n"
     ]
    }
   ],
   "source": [
    "#Should return true\n",
    "print(genre_titles(df,\"Non-Fiction\",'of')=={'Non-Fiction': ['Brief History of Time', 'The Diary of Anne Frank', 'Mysteries of the Cosmos', 'The Art of the Code']})"
   ]
  },
  {
   "cell_type": "code",
   "execution_count": 36,
   "metadata": {},
   "outputs": [
    {
     "data": {
      "text/html": [
       "<div>\n",
       "<style scoped>\n",
       "    .dataframe tbody tr th:only-of-type {\n",
       "        vertical-align: middle;\n",
       "    }\n",
       "\n",
       "    .dataframe tbody tr th {\n",
       "        vertical-align: top;\n",
       "    }\n",
       "\n",
       "    .dataframe thead th {\n",
       "        text-align: right;\n",
       "    }\n",
       "</style>\n",
       "<table border=\"1\" class=\"dataframe\">\n",
       "  <thead>\n",
       "    <tr style=\"text-align: right;\">\n",
       "      <th></th>\n",
       "      <th>Non-Fiction</th>\n",
       "    </tr>\n",
       "  </thead>\n",
       "  <tbody>\n",
       "    <tr>\n",
       "      <th>0</th>\n",
       "      <td>Brief History of Time</td>\n",
       "    </tr>\n",
       "    <tr>\n",
       "      <th>1</th>\n",
       "      <td>The Diary of Anne Frank</td>\n",
       "    </tr>\n",
       "    <tr>\n",
       "      <th>2</th>\n",
       "      <td>Mysteries of the Cosmos</td>\n",
       "    </tr>\n",
       "    <tr>\n",
       "      <th>3</th>\n",
       "      <td>The Art of the Code</td>\n",
       "    </tr>\n",
       "  </tbody>\n",
       "</table>\n",
       "</div>"
      ],
      "text/plain": [
       "               Non-Fiction\n",
       "0    Brief History of Time\n",
       "1  The Diary of Anne Frank\n",
       "2  Mysteries of the Cosmos\n",
       "3      The Art of the Code"
      ]
     },
     "execution_count": 36,
     "metadata": {},
     "output_type": "execute_result"
    }
   ],
   "source": [
    "# create a new dataframe from results\n",
    "filtered_books = pd.DataFrame(genre_titles(df,\"Non-Fiction\",'of'))\n",
    "filtered_books"
   ]
  }
 ],
 "metadata": {
  "kernelspec": {
   "display_name": "base",
   "language": "python",
   "name": "python3"
  },
  "language_info": {
   "codemirror_mode": {
    "name": "ipython",
    "version": 3
   },
   "file_extension": ".py",
   "mimetype": "text/x-python",
   "name": "python",
   "nbconvert_exporter": "python",
   "pygments_lexer": "ipython3",
   "version": "3.8.5"
  }
 },
 "nbformat": 4,
 "nbformat_minor": 2
}
