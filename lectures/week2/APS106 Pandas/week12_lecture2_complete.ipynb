{
 "cells": [
  {
   "cell_type": "markdown",
   "metadata": {
    "collapsed": true
   },
   "source": [
    "# APS106 - Fundamentals of Computer Programming\n",
    "## Week 12 | Lecture 1 (12.2) - More Pandas, Data Visualization\n",
    "\n",
    "### This Week\n",
    "| Lecture | Topics |\n",
    "| --- | --- |\n",
    "| 12.1 | Pandas |\n",
    "| **12.2** | **More Pandas, Data Visualization** | \n",
    "| 12.3 | Design Problem: Stock Market, Part 1 |\n",
    "\n",
    "### Lecture Structure\n",
    "1. [Conditional Selection](#section1)\n",
    "2. [Breakout Session 1](#section2)\n",
    "3. [Adding, Removing, and Modifying Columns](#section3)\n",
    "4. [Utility Methods](#section4)\n",
    "5. [String Methods](#section5)\n",
    "6. [Breakout Session 2](#section6)\n",
    "7. [Data Visualization](#section7)"
   ]
  },
  {
   "cell_type": "markdown",
   "metadata": {},
   "source": [
    "<a id='section1'></a>\n",
    "## 1. Conditional Selection\n",
    "Let's start by importing `pandas`."
   ]
  },
  {
   "cell_type": "code",
   "execution_count": null,
   "metadata": {},
   "outputs": [],
   "source": [
    "import pandas as pd"
   ]
  },
  {
   "cell_type": "markdown",
   "metadata": {},
   "source": [
    "Now, let's import a new dataset of baby names in New York."
   ]
  },
  {
   "cell_type": "code",
   "execution_count": null,
   "metadata": {},
   "outputs": [],
   "source": [
    "babynames = pd.read_csv('new_york_baby_names.csv')\n",
    "babynames.head()"
   ]
  },
  {
   "cell_type": "markdown",
   "metadata": {},
   "source": [
    "That way to read the table able is as follows. In the state of Ney York in 1910, 1923 babies of Female sex were born and given the name Mary.\n",
    "\n",
    "Let's start off by grabbing a smaller sample of our dataset."
   ]
  },
  {
   "cell_type": "code",
   "execution_count": null,
   "metadata": {},
   "outputs": [],
   "source": [
    "babynames_first_10_rows = babynames.loc[0:9, :]\n",
    "babynames_first_10_rows"
   ]
  },
  {
   "cell_type": "markdown",
   "metadata": {},
   "source": [
    "By passing in a sequence (`list` or `Series`) of `boolean` values, we can extract a subset of the rows in a `DataFrame`. We will keep only the rows that correspond to a `boolean` value of `True`.\n",
    "\n",
    "Let's first create a list of `booleans`. One requirement is that if we're created a list to filer the rows of a `DataFrame` then the `list` must have as many items in it as there are rows in the `DataFrame` we wantto filter. In this case, the `DataFrame` has **10** rows so the list must have **10** booleans."
   ]
  },
  {
   "cell_type": "code",
   "execution_count": null,
   "metadata": {},
   "outputs": [],
   "source": [
    "boolean_list = [True, False, True, False, True, False, True, False, True, False]"
   ]
  },
  {
   "cell_type": "markdown",
   "metadata": {},
   "source": [
    "Now, let's pass that list in as the first argument (row selection) in for the `.loc` method."
   ]
  },
  {
   "cell_type": "code",
   "execution_count": null,
   "metadata": {},
   "outputs": [],
   "source": [
    "babynames_first_10_rows.loc[boolean_list, :]"
   ]
  },
  {
   "cell_type": "markdown",
   "metadata": {},
   "source": [
    "As you can see above, we had placed `True` at the position of all even indices in the `list` and therefore, only rows with an even index are returned.\n",
    "\n",
    "Oftentimes, we'll use boolean selection to check for entries in a `DataFrame` that meet a particular condition. In the code below, we first selectiong a column, which returns a `Series`."
   ]
  },
  {
   "cell_type": "code",
   "execution_count": null,
   "metadata": {},
   "outputs": [],
   "source": [
    "babynames.loc[:, 'Sex']"
   ]
  },
  {
   "cell_type": "markdown",
   "metadata": {},
   "source": [
    "In the code below, we are using a logical condition to generate a boolean `Series`. "
   ]
  },
  {
   "cell_type": "code",
   "execution_count": null,
   "metadata": {},
   "outputs": [],
   "source": [
    "babynames.loc[:, 'Sex'] == \"F\""
   ]
  },
  {
   "cell_type": "markdown",
   "metadata": {},
   "source": [
    "Let's save this as a variable."
   ]
  },
  {
   "cell_type": "code",
   "execution_count": null,
   "metadata": {},
   "outputs": [],
   "source": [
    "boolean_series = babynames.loc[:, 'Sex'] == \"F\""
   ]
  },
  {
   "cell_type": "markdown",
   "metadata": {},
   "source": [
    "Now we can pass this `boolean` `Series` into `.loc` as the first argument (row selection). This will return a `DataFrame` where only the Female baby names will be returned."
   ]
  },
  {
   "cell_type": "code",
   "execution_count": null,
   "metadata": {},
   "outputs": [],
   "source": [
    "babynames.loc[boolean_series, :]"
   ]
  },
  {
   "cell_type": "markdown",
   "metadata": {},
   "source": [
    "As you can see from the print out above, only Female baby names are present in the resultant `DataFrame`. Let's check out the size of the original `DataFrame` and the one after select for only `sex == Female` baby names."
   ]
  },
  {
   "cell_type": "code",
   "execution_count": null,
   "metadata": {},
   "outputs": [],
   "source": [
    "total_rows = babynames.shape[0]\n",
    "female_rows = babynames.loc[boolean_series, :].shape[0]\n",
    "\n",
    "print(\"The original DataFrame has: \", total_rows, \" rows.\", sep='')\n",
    "print(\"The 'Female' filtered DataFrame has: \", female_rows, \" rows.\", sep='')"
   ]
  },
  {
   "cell_type": "markdown",
   "metadata": {},
   "source": [
    "Rather than creating a separate variable `boolean_series` for the `boolean` `Series`, we can pass the logical condition into `.loc` as the first argument (row selection)."
   ]
  },
  {
   "cell_type": "code",
   "execution_count": null,
   "metadata": {},
   "outputs": [],
   "source": [
    "babynames.loc[babynames.loc[:, 'Sex'] == \"F\", :]"
   ]
  },
  {
   "cell_type": "markdown",
   "metadata": {},
   "source": [
    "Lastly, let's show that the number of rows for the `sex == Female` `DataFrame` and the `sex == Male` `DataFrame` add up to the original size of the `babynames` `DataFrame`."
   ]
  },
  {
   "cell_type": "code",
   "execution_count": null,
   "metadata": {},
   "outputs": [],
   "source": [
    "total_rows = babynames.shape[0]\n",
    "female_rows = babynames.loc[babynames.loc[:, 'Sex'] == \"F\", :].shape[0] \n",
    "male_rows = babynames.loc[babynames.loc[:, 'Sex'] == \"M\", :].shape[0] \n",
    "\n",
    "print(\"The original DataFrame has: \", total_rows, \" rows.\", sep='')\n",
    "print(\"The 'Female' filtered DataFrame has: \", female_rows, \" rows.\", sep='')\n",
    "print(\"The 'Male' filtered DataFrame has: \", male_rows, \" rows.\", sep='')\n",
    "print(female_rows, \" + \", male_rows, \" = \", total_rows, sep='')"
   ]
  },
  {
   "cell_type": "markdown",
   "metadata": {},
   "source": [
    "### Multiple Conditions\n",
    "To filter on multiple conditions, we combine boolean operators using bitwise comparisons and use brackets `()` to separate the conditions.\n",
    "\n",
    "| Symbol | Usage | Meaning |\n",
    "| --- | --- | --- |\n",
    "| ~ | ~p | not p |\n",
    "| &#124; | p &#124; q | p or q |\n",
    "| & | p & q | p and q |\n",
    "\n",
    "The code below is filtering the `babynames` `DataFrame` to only include **Female** baby names for all years before the year **2000**."
   ]
  },
  {
   "cell_type": "code",
   "execution_count": null,
   "metadata": {},
   "outputs": [],
   "source": [
    "babynames.loc[(babynames.loc[:, \"Sex\"] == \"F\") & (babynames.loc[:, \"Year\"] < 2000), :]"
   ]
  },
  {
   "cell_type": "markdown",
   "metadata": {},
   "source": [
    "The code below is filtering the `babynames` `DataFrame` to include all baby names that are either **Female** or from before the year **2000**."
   ]
  },
  {
   "cell_type": "code",
   "execution_count": null,
   "metadata": {},
   "outputs": [],
   "source": [
    "babynames.loc[(babynames.loc[:, \"Sex\"] == \"F\") | (babynames.loc[:, \"Year\"] < 2000), :]"
   ]
  },
  {
   "cell_type": "markdown",
   "metadata": {},
   "source": [
    "The code below is filtering the `babynames` `DataFrame` to include **Female** baby names from the year **2000** that were given to less than **6** babies that year."
   ]
  },
  {
   "cell_type": "code",
   "execution_count": null,
   "metadata": {},
   "outputs": [],
   "source": [
    "babynames.loc[(babynames.loc[:, \"Sex\"] == \"M\") & \n",
    "              (babynames.loc[:, \"Year\"] == 2020) & \n",
    "              (babynames.loc[:, \"Count\"] < 6), :]"
   ]
  },
  {
   "cell_type": "markdown",
   "metadata": {},
   "source": [
    "The code below is filtering the `babynames` `DataFrame` to include **Female** baby names from the year **2000** that were given to more than **700** babies that year."
   ]
  },
  {
   "cell_type": "code",
   "execution_count": null,
   "metadata": {},
   "outputs": [],
   "source": [
    "babynames.loc[(babynames.loc[:, \"Sex\"] == \"M\") & \n",
    "              (babynames.loc[:, \"Year\"] == 2020) & \n",
    "              (babynames.loc[:, \"Count\"] > 700), :]"
   ]
  },
  {
   "cell_type": "markdown",
   "metadata": {},
   "source": [
    "### Membership Condition\n",
    "We can use `.isin` for Selection based on a list or Series. For example, let's way we wantto create a dictionary that only contains the names `\"Sebastian\"`, `\"Ben\"`, `\"Joseph\"`, `\"Katia\"`, and `\"Tamara\"`. Based on what we've learned so far, I could do the following."
   ]
  },
  {
   "cell_type": "code",
   "execution_count": null,
   "metadata": {},
   "outputs": [],
   "source": [
    "babynames.loc[(babynames.loc[:, \"Name\"] == \"Sebastian\") | \n",
    "              (babynames.loc[:, \"Name\"] == \"Ben\") | \n",
    "              (babynames.loc[:, \"Name\"] == \"Joseph\") | \n",
    "              (babynames.loc[:, \"Name\"] == \"Katia\") | \n",
    "              (babynames.loc[:, \"Name\"] == \"Tamara\"), :]"
   ]
  },
  {
   "cell_type": "markdown",
   "metadata": {},
   "source": [
    "A more concise method to achieve the above is by using the `.isin` method. The .`isin` method in Pandas is used to check whether each element in a `DataFrame` or `Series` is contained in a sequence of values. Here's how it works:"
   ]
  },
  {
   "cell_type": "code",
   "execution_count": null,
   "metadata": {},
   "outputs": [],
   "source": [
    "names = [\"Sebastian\", \"Ben\", \"Joseph\", \"Katia\", \"Tamara\"]\n",
    "babynames.loc[:, \"Name\"].isin(names)"
   ]
  },
  {
   "cell_type": "markdown",
   "metadata": {},
   "source": [
    "We get back a `Series` where the value is `True` if the `\"Name\"` is in the list `names` and `False` if its not. We can take this `boolean` `Series` and pass it to the first argument the `.loc` method (row selection)."
   ]
  },
  {
   "cell_type": "code",
   "execution_count": null,
   "metadata": {},
   "outputs": [],
   "source": [
    "names = [\"Sebastian\", \"Ben\", \"Joseph\", \"Katia\", \"Tamara\"]\n",
    "babynames.loc[babynames.loc[:, \"Name\"].isin(names), :]"
   ]
  },
  {
   "cell_type": "markdown",
   "metadata": {},
   "source": [
    "<a id='section2'></a>\n",
    "## 2. Breakout Session 1\n",
    "Let's import the `elections` and `babynames` datasets."
   ]
  },
  {
   "cell_type": "code",
   "execution_count": null,
   "metadata": {},
   "outputs": [],
   "source": [
    "elections = pd.read_csv('elections.csv')\n",
    "elections.head()"
   ]
  },
  {
   "cell_type": "code",
   "execution_count": null,
   "metadata": {},
   "outputs": [],
   "source": [
    "babynames = pd.read_csv('new_york_baby_names.csv')\n",
    "babynames.head()"
   ]
  },
  {
   "cell_type": "markdown",
   "metadata": {},
   "source": [
    "#### Question 1\n",
    "Display a `DataFrame` showing all **Republican** candidates who won the presidential election with less than **50%** of the popular vote."
   ]
  },
  {
   "cell_type": "code",
   "execution_count": null,
   "metadata": {},
   "outputs": [],
   "source": [
    "elections.loc[\n",
    "    (elections.loc[:, 'Party'] == 'Republican') & \\\n",
    "    (elections.loc[:, 'Result'] == 'win') & \\\n",
    "    (elections.loc[:, '%'] < 50)\n",
    ", :]"
   ]
  },
  {
   "cell_type": "markdown",
   "metadata": {},
   "source": [
    "#### Question 2\n",
    "Display a `DataFrame` showing all year where the following parties ran: `'Green'`, `'Union Labor'`, and `'Free Soil'`."
   ]
  },
  {
   "cell_type": "code",
   "execution_count": null,
   "metadata": {},
   "outputs": [],
   "source": [
    "elections.loc[elections.loc[:, 'Party'].isin([\"Green\", \"Union Labor\", \"Free Soil\"]), :]"
   ]
  },
  {
   "cell_type": "markdown",
   "metadata": {},
   "source": [
    "#### Question 3\n",
    "The `elections` `DataFrame` is in chronological order when imported. Building on the `DataFrame` from **Question 1**, print the name of the first **Republican** candidate to win the presidential election with less than **50%** of the popular vote."
   ]
  },
  {
   "cell_type": "code",
   "execution_count": null,
   "metadata": {},
   "outputs": [],
   "source": [
    "df_temp = elections.loc[(elections.loc[:, 'Party'] == 'Republican') & \\\n",
    "                        (elections.loc[:, 'Result'] == 'win') & \\\n",
    "                        (elections.loc[:, '%'] < 50), :]\n",
    "\n",
    "candidates_name = df_temp.loc[:, 'Candidate'].iloc[0]\n",
    "\n",
    "print(candidates_name, 'is was first Republican candidate to win the presidential election with less than **50%** of the popular vote.')"
   ]
  },
  {
   "cell_type": "markdown",
   "metadata": {},
   "source": [
    "#### Question 4\n",
    "Display a `DataFrame` showing all **Republican** and **Democratic** candidates who won the presidential election with less than **50%** of the popular vote."
   ]
  },
  {
   "cell_type": "code",
   "execution_count": null,
   "metadata": {},
   "outputs": [],
   "source": [
    "elections.loc[\n",
    "    ((elections.loc[:, 'Party'] == 'Republican') | (elections.loc[:, 'Party'] == 'Democratic')) & \\\n",
    "    (elections.loc[:, 'Result'] == 'win') & \\\n",
    "    (elections.loc[:, '%'] < 50)\n",
    ", :]"
   ]
  },
  {
   "cell_type": "markdown",
   "metadata": {},
   "source": [
    "#### Question 5\n",
    "Display a `DataFrame` showing all years where the name **Sebastian** was given to at leat one baby **Male** baby."
   ]
  },
  {
   "cell_type": "code",
   "execution_count": null,
   "metadata": {},
   "outputs": [],
   "source": [
    "babynames.loc[(babynames.loc[:, 'Name'] == 'Sebastian') & (babynames.loc[:, 'Sex'] == 'M'), :]"
   ]
  },
  {
   "cell_type": "markdown",
   "metadata": {},
   "source": [
    "#### Bonus\n",
    "We'll discuss plotting a bit later in the lecture but for now, check this out."
   ]
  },
  {
   "cell_type": "code",
   "execution_count": null,
   "metadata": {},
   "outputs": [],
   "source": [
    "babynames.loc[(babynames.loc[:, 'Name'] == 'Sebastian') & (babynames.loc[:, 'Sex'] == 'M'), :].plot('Year', 'Count')"
   ]
  },
  {
   "cell_type": "markdown",
   "metadata": {},
   "source": [
    "<a id='section3'></a>\n",
    "## 3. Adding, Removing, and Modifying Columns\n",
    "### Add a Column\n",
    "To add a column, use `.loc[, column-name]` to reference the desired new column, then assign it to a `Series` or `list` of appropriate length. Let's create a new column to the `babynames` `DataFrame` called `\"Dummy\"` and assigned zeros to it."
   ]
  },
  {
   "cell_type": "code",
   "execution_count": null,
   "metadata": {},
   "outputs": [],
   "source": [
    "babynames.loc[:,  \"Dummy\"] = 0\n",
    "babynames"
   ]
  },
  {
   "cell_type": "markdown",
   "metadata": {},
   "source": [
    "Now, let's try creating a new column called `\"Count_Squared\"` and assign to it the square of the `\"Count\"` column."
   ]
  },
  {
   "cell_type": "code",
   "execution_count": null,
   "metadata": {},
   "outputs": [],
   "source": [
    "babynames.loc[:,  \"Count_Squared\"] = babynames.loc[:,  \"Count\"] * babynames.loc[:,  \"Count\"]\n",
    "babynames"
   ]
  },
  {
   "cell_type": "markdown",
   "metadata": {},
   "source": [
    "### Modify a Column\n",
    "To modify a column, use `.loc[:, column-name]` to access the desired column, then re-assign it to a new `list` or `Series`."
   ]
  },
  {
   "cell_type": "code",
   "execution_count": null,
   "metadata": {},
   "outputs": [],
   "source": [
    "babynames.loc[:, \"Count\"] = babynames.loc[:, \"Count\"] - 10000\n",
    "babynames"
   ]
  },
  {
   "cell_type": "markdown",
   "metadata": {},
   "source": [
    "### Rename a Column Name\n",
    "Rename a column using the `.rename(old-column-name:new-column-name)` method."
   ]
  },
  {
   "cell_type": "code",
   "execution_count": null,
   "metadata": {},
   "outputs": [],
   "source": [
    "babynames = babynames.rename(columns={\"Name\":\"First-Name\"})\n",
    "babynames"
   ]
  },
  {
   "cell_type": "markdown",
   "metadata": {},
   "source": [
    "### Delete a Column\n",
    "Remove a column using `.drop()`."
   ]
  },
  {
   "cell_type": "code",
   "execution_count": null,
   "metadata": {},
   "outputs": [],
   "source": [
    "babynames = babynames.drop([\"Dummy\", \"Count_Squared\"], axis=\"columns\")\n",
    "babynames"
   ]
  },
  {
   "cell_type": "markdown",
   "metadata": {},
   "source": [
    "<a id='section4'></a>\n",
    "## 4. Utility Methods\n",
    "There are many, many utility methods built into `Pandas`, far more than we can possibly cover in `APS106`. You are encouraged to explore all the functionality outlined in the pandas documentation. For `APS106`, you will only be required to know the utility methods covered in this lecture."
   ]
  },
  {
   "cell_type": "code",
   "execution_count": null,
   "metadata": {},
   "outputs": [],
   "source": [
    "babynames = pd.read_csv('new_york_baby_names.csv')\n",
    "babynames.head()"
   ]
  },
  {
   "cell_type": "markdown",
   "metadata": {},
   "source": [
    "### `.max()`\n",
    "This function returns the maximum value along the specified axis. As shown below, `axis=0` is column-wise and `axis=1` is row-wise.\n",
    "\n",
    "<br>\n",
    "<img src=\"images/DataFrame.png\" alt=\"drawing\" width=\"450\"/>\n",
    "<br>\n",
    "\n",
    "For a `Series`.\n",
    "```python\n",
    "df['column_name'].min()\n",
    "```\n",
    "\n",
    "For a `DataFrame`, for column-wise calculation:\n",
    "```python\n",
    "df.min(axis=0)\n",
    "```\n",
    "or, for a row-wise calculation:\n",
    "```python\n",
    "df.min(axis=1)\n",
    "```\n",
    "\n",
    "First, let's try calculating the maximum baby name count. As you can see, because `Series` is 1-D data, we do not need to specify the axis."
   ]
  },
  {
   "cell_type": "code",
   "execution_count": null,
   "metadata": {},
   "outputs": [],
   "source": [
    "babynames.loc[:, 'Count'].max()"
   ]
  },
  {
   "cell_type": "markdown",
   "metadata": {},
   "source": [
    "For a `DataFrame`, if we use a column-wise operation, Pandas will return the maximum value for each column."
   ]
  },
  {
   "cell_type": "code",
   "execution_count": null,
   "metadata": {},
   "outputs": [],
   "source": [
    "babynames.max(axis=0)"
   ]
  },
  {
   "cell_type": "markdown",
   "metadata": {},
   "source": [
    "If we use a row-wise operation, Pandas will try to return the maximum value for each row."
   ]
  },
  {
   "cell_type": "code",
   "execution_count": null,
   "metadata": {},
   "outputs": [],
   "source": [
    "babynames.max(axis=1)"
   ]
  },
  {
   "cell_type": "markdown",
   "metadata": {},
   "source": [
    "As you can see, we get an error because Pandas cannot compare numberic and string data to determine which is larger. If we filter to only the numeric columns (`\"Year\"` and `\"Count\"`), then this should work. You can see that the `\"Year\"` is returned because its typically larger than the name count."
   ]
  },
  {
   "cell_type": "code",
   "execution_count": null,
   "metadata": {},
   "outputs": [],
   "source": [
    "babynames.loc[:, ['Year', 'Count']].max(axis=1)"
   ]
  },
  {
   "cell_type": "markdown",
   "metadata": {},
   "source": [
    "### `.min()`\n",
    "This function returns the minimum value along the specified axis."
   ]
  },
  {
   "cell_type": "code",
   "execution_count": null,
   "metadata": {},
   "outputs": [],
   "source": [
    "babynames.loc[:, ['Year', 'Count']].min(axis=1)"
   ]
  },
  {
   "cell_type": "markdown",
   "metadata": {},
   "source": [
    "### `.mean()`\n",
    "This function computes the arithmetic mean along the specified axis."
   ]
  },
  {
   "cell_type": "code",
   "execution_count": null,
   "metadata": {},
   "outputs": [],
   "source": [
    "babynames.loc[:, 'Count'].mean()"
   ]
  },
  {
   "cell_type": "markdown",
   "metadata": {},
   "source": [
    "### `.value_counts()`\n",
    "Count the number of times each unique value occurs in a `Series`. The output below is a `Series` where the `index` are all the unique names in the `babynames` `DataFrame` and the `values` are the total number of babies with those names."
   ]
  },
  {
   "cell_type": "code",
   "execution_count": null,
   "metadata": {},
   "outputs": [],
   "source": [
    "babynames.loc[:, \"Name\"].value_counts()"
   ]
  },
  {
   "cell_type": "markdown",
   "metadata": {},
   "source": [
    "### `.unique()`\n",
    "Return an array of all unique values in a `Series`. Below, we apply the `.unique()` method to the `Name` `Series` and get an array of all unique baby names in the `babynames` dataset. For the purpose of `APS106`, you can treat this array as a list-like object. It is mutable, indexable, and iterable. "
   ]
  },
  {
   "cell_type": "code",
   "execution_count": null,
   "metadata": {},
   "outputs": [],
   "source": [
    "babynames.loc[:, \"Name\"].unique()"
   ]
  },
  {
   "cell_type": "markdown",
   "metadata": {},
   "source": [
    "### `.sort_values()`\n",
    "The `.sort_values()` function in `Pandas` is used to sort a `DataFrame` or `Series` by one or more columns. It allows you to specify the column(s) by which you want to sort the data, as well as the order of sorting (ascending or descending).\n",
    "\n",
    "The code below sorts the `Name` `Series` in ascending order."
   ]
  },
  {
   "cell_type": "code",
   "execution_count": null,
   "metadata": {},
   "outputs": [],
   "source": [
    "babynames.loc[:, \"Name\"].sort_values()"
   ]
  },
  {
   "cell_type": "markdown",
   "metadata": {},
   "source": [
    "The code below sorts a `DataFrame` by the `Count` column in descending order."
   ]
  },
  {
   "cell_type": "code",
   "execution_count": null,
   "metadata": {},
   "outputs": [],
   "source": [
    "babynames.sort_values(by=[\"Count\"], ascending=[False]).head()"
   ]
  },
  {
   "cell_type": "markdown",
   "metadata": {},
   "source": [
    "The code below sorts a `DataFrame` first by the `\"Year\"` in ascending order and then by the `\"Count\"` in descending order."
   ]
  },
  {
   "cell_type": "code",
   "execution_count": null,
   "metadata": {},
   "outputs": [],
   "source": [
    "babynames.sort_values(by=[\"Year\", \"Count\"], ascending=[True, False]).head()"
   ]
  },
  {
   "cell_type": "markdown",
   "metadata": {},
   "source": [
    "### `.astype()`\n",
    "The `.astype()` function is used to cast a pandas object (like a `DataFrame` or a `Series`) to a specified dtype (data type). It allows you to explicitly convert the data to a desired data type.\n",
    "\n",
    "Let's say you have a `DataFrame` where one of the columns represents numerical values as strings, and you want to convert this column to numeric data type for numerical operations. Here's a simple example of how you can use `.astype()` to achieve this.\n",
    "\n",
    "First, let's create the `DataFrame`."
   ]
  },
  {
   "cell_type": "code",
   "execution_count": null,
   "metadata": {},
   "outputs": [],
   "source": [
    "data = {'NumericString': ['1', '2', '3', '4', '5']}\n",
    "df = pd.DataFrame(data)\n",
    "df"
   ]
  },
  {
   "cell_type": "markdown",
   "metadata": {},
   "source": [
    "Now let's check the data type of the `'NumericString'` column."
   ]
  },
  {
   "cell_type": "code",
   "execution_count": null,
   "metadata": {},
   "outputs": [],
   "source": [
    "print(\"Data types before conversion:\")\n",
    "print(df.dtypes)"
   ]
  },
  {
   "cell_type": "markdown",
   "metadata": {},
   "source": [
    "Lastly, let's convert the data type of the `'NumericString'` column from a `string` to an `int`."
   ]
  },
  {
   "cell_type": "code",
   "execution_count": null,
   "metadata": {},
   "outputs": [],
   "source": [
    "df.loc[:, 'NumericString'] = df.loc[:, 'NumericString'].astype(int)\n",
    "print(\"\\nData types after conversion:\")\n",
    "print(df.dtypes)"
   ]
  },
  {
   "cell_type": "markdown",
   "metadata": {},
   "source": [
    "<a id='section5'></a>\n",
    "## 5. String Methods\n",
    "The Pandas library is very useful for the manipulation of strings as it provides us with various handy string methods. It saves time and makes our program efficient. The following are `string` methods we will cover in APS106.\n",
    "1. `.upper()`\n",
    "2. `.lower()`\n",
    "3. `.len()`\n",
    "4. `.startswith()` / `.endswith()`\n",
    "5. `.replace()`\n",
    "\n",
    "### `.upper()`\n",
    "This `string` method converts a `string` into uppercase as you can see from the example below."
   ]
  },
  {
   "cell_type": "code",
   "execution_count": null,
   "metadata": {},
   "outputs": [],
   "source": [
    "babynames.loc[:, 'Name'].str.upper()"
   ]
  },
  {
   "cell_type": "markdown",
   "metadata": {},
   "source": [
    "`string` method opperator on `Series` NOT `DataFrames`. Notice the error when I try to call a `string` method from a `DataFrame`."
   ]
  },
  {
   "cell_type": "code",
   "execution_count": null,
   "metadata": {},
   "outputs": [],
   "source": [
    "babynames.str.upper()"
   ]
  },
  {
   "cell_type": "markdown",
   "metadata": {},
   "source": [
    "Additionally, we need to access `string` methods via the `.str` module. \n",
    "\n",
    "1. `Series.str.upper()`\n",
    "2. `Series.str.lower()`\n",
    "3. `Series.str.len()`\n",
    "4. `Series.str.startswith()`\n",
    "5. `Series.str.replace()`"
   ]
  },
  {
   "cell_type": "markdown",
   "metadata": {},
   "source": [
    "### `.lower()`\n",
    "This `string` method converts a `string` into lowercase as you can see from the example below."
   ]
  },
  {
   "cell_type": "code",
   "execution_count": null,
   "metadata": {},
   "outputs": [],
   "source": [
    "babynames.loc[:, 'Name'].str.lower()"
   ]
  },
  {
   "cell_type": "markdown",
   "metadata": {},
   "source": [
    "### `.len()`\n",
    "This `string` method returns the length (number of characters) of each `string`. This would be similar to:\n",
    "\n",
    "```python\n",
    ">>> var = 'seb'\n",
    ">>> print(len(var))\n",
    "3\n",
    "```"
   ]
  },
  {
   "cell_type": "code",
   "execution_count": null,
   "metadata": {},
   "outputs": [],
   "source": [
    "babynames.loc[:, 'Name'].str.len()"
   ]
  },
  {
   "cell_type": "markdown",
   "metadata": {},
   "source": [
    "### `.startswith()` / `.endswith()`\n",
    "`.startswith()` returns a `boolean` which is `True` if the `string` in the `Series` starts with the `string` that is passed as an argument to `.startswith()`. `.endswith()` returns a `boolean` which is `True` if the `string` in the `Series` ends with the `string` that is passed as an argument to `.endswith()`. \n",
    "\n",
    "Let's check out the first 5 rows of our `babynames` `DataFrame`."
   ]
  },
  {
   "cell_type": "code",
   "execution_count": null,
   "metadata": {},
   "outputs": [],
   "source": [
    "babynames.head()"
   ]
  },
  {
   "cell_type": "markdown",
   "metadata": {},
   "source": [
    "We can see that the first name is `Mary` and the fifth row is `Margaret`. Therefore, if we use `.startswith('M')`, we should get `True` for rows 0 and 4 and `False` for rows 1 - 3."
   ]
  },
  {
   "cell_type": "code",
   "execution_count": null,
   "metadata": {},
   "outputs": [],
   "source": [
    "babynames.loc[:, 'Name'].str.startswith('M')"
   ]
  },
  {
   "cell_type": "markdown",
   "metadata": {},
   "source": [
    "### `.replace()`\n",
    "Replaces a part of the string with another one. This works in a similar way to the Python string method `.replace()`. The `.replace()` takes two arguments: (1) The `string` to replace and (2) What `string` to replace it with.\n",
    "\n",
    "Let's consider a scenario where you have a `DataFrame` containing a column with strings representing monetary values, but some of these values are formatted with commas as thousands separators. You want to clean up the data by removing the commas from these values so that you can convert them to numerical values for analysis.\n",
    "\n",
    "Here's how you can use `str.replace()` from Pandas to achieve this. First, let's create the `DataFrame`."
   ]
  },
  {
   "cell_type": "code",
   "execution_count": null,
   "metadata": {},
   "outputs": [],
   "source": [
    "data = {'MonetaryValue': ['$1,000', '$2,500', '$3,750', '$4,500', '$5,250']}\n",
    "df = pd.DataFrame(data)\n",
    "df"
   ]
  },
  {
   "cell_type": "markdown",
   "metadata": {},
   "source": [
    "Now, let's use `.replace()` to replace the comma `\",\"` with an empty space `\"\"`."
   ]
  },
  {
   "cell_type": "code",
   "execution_count": null,
   "metadata": {},
   "outputs": [],
   "source": [
    "df.loc[:, 'MonetaryValue'] = df.loc[:, 'MonetaryValue'].str.replace(',', '')\n",
    "df"
   ]
  },
  {
   "cell_type": "markdown",
   "metadata": {},
   "source": [
    "Next, let's use `.replace()` to replace the dollar sign `\"$\"` with an empty space `\"\"`."
   ]
  },
  {
   "cell_type": "code",
   "execution_count": null,
   "metadata": {},
   "outputs": [],
   "source": [
    "df.loc[:, 'MonetaryValue'] = df.loc[:, 'MonetaryValue'].str.replace('$', '')\n",
    "df"
   ]
  },
  {
   "cell_type": "markdown",
   "metadata": {},
   "source": [
    "Now we can use `.astype()` to convert from a `string` to a `float` so we can apply mathematical operations to the column `\"MonetaryValue\"`."
   ]
  },
  {
   "cell_type": "code",
   "execution_count": null,
   "metadata": {},
   "outputs": [],
   "source": [
    "df.loc[:, 'MonetaryValue'] = df.loc[:, 'MonetaryValue'].astype(float)\n",
    "df"
   ]
  },
  {
   "cell_type": "markdown",
   "metadata": {},
   "source": [
    "<a id='section6'></a>\n",
    "## 6. Breakout Session 2\n",
    "For this Breakout Session, we will be working with the `babynames` dataset so let's load it again."
   ]
  },
  {
   "cell_type": "code",
   "execution_count": null,
   "metadata": {},
   "outputs": [],
   "source": [
    "babynames = pd.read_csv('new_york_baby_names.csv')\n",
    "babynames.head()"
   ]
  },
  {
   "cell_type": "markdown",
   "metadata": {},
   "source": [
    "### Question 1\n",
    "Create a new `DataFrame` called `babynames_1985` that only includes baby names from the year 1985."
   ]
  },
  {
   "cell_type": "code",
   "execution_count": null,
   "metadata": {},
   "outputs": [],
   "source": [
    "babynames_1985 = babynames.loc[babynames.loc[:, 'Year'] == 1985]\n",
    "babynames_1985.head()"
   ]
  },
  {
   "cell_type": "markdown",
   "metadata": {},
   "source": [
    "### Question 2\n",
    "Remove all names from `babynames_1985` that do not start with the letter `\"J\"`."
   ]
  },
  {
   "cell_type": "code",
   "execution_count": null,
   "metadata": {},
   "outputs": [],
   "source": [
    "babynames_1985 = babynames_1985.loc[babynames_1985.loc[:, \"Name\"].str.startswith('J'), :]\n",
    "babynames_1985.head()"
   ]
  },
  {
   "cell_type": "markdown",
   "metadata": {},
   "source": [
    "### Question 3\n",
    "Add a column to `babynames_1985` called `\"length\"` that contains the length of `\"Name\"` (the number of letters in the name). For example, the length of `\"Seb\"` is **3**."
   ]
  },
  {
   "cell_type": "code",
   "execution_count": null,
   "metadata": {},
   "outputs": [],
   "source": [
    "babynames_1985['length'] = babynames_1985.loc[:, 'Name'].str.len()\n",
    "babynames_1985.head()"
   ]
  },
  {
   "cell_type": "markdown",
   "metadata": {},
   "source": [
    "### Question 4\n",
    "Sort `babynames_1985` by the `\"length\"` column so that the first row contains the longest name starting with `\"J\"` from 1985."
   ]
  },
  {
   "cell_type": "code",
   "execution_count": null,
   "metadata": {},
   "outputs": [],
   "source": [
    "babynames_1985 = babynames_1985.sort_values(['length'], ascending=False)\n",
    "babynames_1985.head()"
   ]
  },
  {
   "cell_type": "markdown",
   "metadata": {},
   "source": [
    "### Question 5\n",
    "Filter `babynames_1985` to only include names that end with `\"ette\"` and have **8** or more letters."
   ]
  },
  {
   "cell_type": "code",
   "execution_count": null,
   "metadata": {},
   "outputs": [],
   "source": [
    "babynames_1985 = babynames_1985.loc[(babynames_1985.loc[:, \"Name\"].str.endswith('ette')) & \n",
    "                                    (babynames_1985.loc[:, \"Name\"].str.len() > 8), :]\n",
    "babynames_1985.head()"
   ]
  },
  {
   "cell_type": "markdown",
   "metadata": {},
   "source": [
    "### Question 6 (Bonus)\n",
    "Starting with `babynames_1985` below."
   ]
  },
  {
   "cell_type": "code",
   "execution_count": null,
   "metadata": {},
   "outputs": [],
   "source": [
    "babynames_1985 = babynames.loc[babynames.loc[:, 'Year'] == 1985, :]\n",
    "babynames_1985.head()"
   ]
  },
  {
   "cell_type": "markdown",
   "metadata": {},
   "source": [
    "Remove all names from `babynames_1985` that do not start with the letter `\"J\"` WITHOUT using Pandas `.str` methods."
   ]
  },
  {
   "cell_type": "code",
   "execution_count": null,
   "metadata": {},
   "outputs": [],
   "source": [
    "starts_with_j = []\n",
    "\n",
    "for index in babynames_1985.index:\n",
    "    \n",
    "    name = babynames_1985.loc[index, 'Name']\n",
    "    \n",
    "    if name[0] == 'J':\n",
    "        starts_with_j.append(True)\n",
    "    else:\n",
    "        starts_with_j.append(False)\n",
    "        \n",
    "babynames_1985 = babynames_1985.loc[starts_with_j, :]\n",
    "babynames_1985.head()"
   ]
  },
  {
   "cell_type": "markdown",
   "metadata": {},
   "source": [
    "<a id='section7'></a>\n",
    "## 7. Data Visualization\n",
    "There are MANY plotting libraries available in the Python ecosystem and doing a deep dive into them is way beyong the scope of APS106. However, Pandas has some basic plotting functionality we will cover. In particular, we will cover `line plots`, `scatter plots`, and `bar plot`.\n",
    "\n",
    "First let's create a dummy dataset to demonstrate these plotting functions."
   ]
  },
  {
   "cell_type": "code",
   "execution_count": null,
   "metadata": {},
   "outputs": [],
   "source": [
    "data = {'A': [1, 2, 3, 4, 5],\n",
    "        'B': [5, 4, 3, 2, 1]}\n",
    "df = pd.DataFrame(data)\n",
    "df"
   ]
  },
  {
   "cell_type": "markdown",
   "metadata": {},
   "source": [
    "### Line Plot"
   ]
  },
  {
   "cell_type": "code",
   "execution_count": null,
   "metadata": {},
   "outputs": [],
   "source": [
    "df.plot(kind='line', x='A', y='B')"
   ]
  },
  {
   "cell_type": "markdown",
   "metadata": {},
   "source": [
    "### Scatter Plot"
   ]
  },
  {
   "cell_type": "code",
   "execution_count": null,
   "metadata": {},
   "outputs": [],
   "source": [
    "df.plot(kind='scatter', x='A', y='B')"
   ]
  },
  {
   "cell_type": "markdown",
   "metadata": {},
   "source": [
    "### Bar Plot"
   ]
  },
  {
   "cell_type": "code",
   "execution_count": null,
   "metadata": {},
   "outputs": [],
   "source": [
    "df.plot(kind='bar', x='A', y='B')"
   ]
  },
  {
   "cell_type": "markdown",
   "metadata": {},
   "source": [
    "### Example 1: Uber Rides"
   ]
  },
  {
   "cell_type": "code",
   "execution_count": null,
   "metadata": {},
   "outputs": [],
   "source": [
    "combined_uber_data = pd.read_csv('combined_uber_data.csv')\n",
    "combined_uber_data.head()"
   ]
  },
  {
   "cell_type": "code",
   "execution_count": null,
   "metadata": {},
   "outputs": [],
   "source": [
    "combined_uber_data.plot(kind='bar', x='Date/Time', y='count', figsize=(15, 5), title='Uber Rides Per Week, 2014')"
   ]
  },
  {
   "cell_type": "markdown",
   "metadata": {},
   "source": [
    "### Example 2: Toronto Weather"
   ]
  },
  {
   "cell_type": "code",
   "execution_count": null,
   "metadata": {},
   "outputs": [],
   "source": [
    "toronto_weather_data = pd.read_csv('toronto_weather_data.csv')\n",
    "toronto_weather_data.head()"
   ]
  },
  {
   "cell_type": "code",
   "execution_count": null,
   "metadata": {},
   "outputs": [],
   "source": [
    "toronto_weather_data.plot(kind='line', y='Temp (°C)', figsize=(15, 5), title='Temperature in Toronto')"
   ]
  }
 ],
 "metadata": {
  "kernelspec": {
   "display_name": "Python 3 (ipykernel)",
   "language": "python",
   "name": "python3"
  },
  "language_info": {
   "codemirror_mode": {
    "name": "ipython",
    "version": 3
   },
   "file_extension": ".py",
   "mimetype": "text/x-python",
   "name": "python",
   "nbconvert_exporter": "python",
   "pygments_lexer": "ipython3",
   "version": "3.11.5"
  }
 },
 "nbformat": 4,
 "nbformat_minor": 1
}
