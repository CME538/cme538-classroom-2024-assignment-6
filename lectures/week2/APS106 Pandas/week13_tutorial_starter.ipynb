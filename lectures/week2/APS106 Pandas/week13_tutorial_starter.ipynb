{
 "cells": [
  {
   "cell_type": "markdown",
   "metadata": {},
   "source": [
    "## Coding Question #1\n",
    "\n",
    "Write a Python function named `genre_titles` that extracts titles from a given genre, filters titles containing a specified keyword (case-insensitive), and returns a dictionary where each key is a genre and each value is a list of book titles that match the criteria.\n",
    "\n",
    "Read the dataframe from the file `books.csv` and save it into a variable df\n",
    "\n",
    "Usage example:\n",
    "\n",
    "`>>> genre_titles(df, \"Fiction\",'great')`\n",
    "\n",
    "    `{'Fiction': ['The Great Gatsby']}`\n",
    "\n",
    "\n",
    "Finally, save this result into a DataFrame called `filtered_books`"
   ]
  },
  {
   "cell_type": "code",
   "execution_count": null,
   "metadata": {},
   "outputs": [],
   "source": [
    "def genre_titles(df, target_genre, keyword): \n",
    "    \"\"\" (df, str, str) -> dict\n",
    "    assume that target_genre matches perfectly with the column values in \"Genre\"\n",
    "    assume that keyword search is not case-sensitive\n",
    "    for the dictionary, key = genre, values = list of titles containing key-word (not case sensitive)\n",
    "\n",
    "    genre_titles(df,\"Non-Fiction\",'of')\n",
    "    >> {'Fiction': ['The Great Gatsby']}\n",
    "    \"\"\"\n"
   ]
  },
  {
   "cell_type": "code",
   "execution_count": null,
   "metadata": {},
   "outputs": [],
   "source": [
    "# read in dataframe from csv"
   ]
  },
  {
   "cell_type": "code",
   "execution_count": null,
   "metadata": {},
   "outputs": [],
   "source": [
    "#Should return true\n",
    "print(genre_titles(df,\"Fiction\",'great')=={'Fiction': ['The Great Gatsby']})"
   ]
  },
  {
   "cell_type": "code",
   "execution_count": null,
   "metadata": {},
   "outputs": [],
   "source": [
    "#Should return true\n",
    "print(genre_titles(df,\"Non-Fiction\",'of')=={'Non-Fiction': ['Brief History of Time', 'The Diary of Anne Frank', 'Mysteries of the Cosmos', 'The Art of the Code']})"
   ]
  },
  {
   "cell_type": "code",
   "execution_count": null,
   "metadata": {},
   "outputs": [],
   "source": [
    "# save your function output "
   ]
  }
 ],
 "metadata": {
  "kernelspec": {
   "display_name": "base",
   "language": "python",
   "name": "python3"
  },
  "language_info": {
   "codemirror_mode": {
    "name": "ipython",
    "version": 3
   },
   "file_extension": ".py",
   "mimetype": "text/x-python",
   "name": "python",
   "nbconvert_exporter": "python",
   "pygments_lexer": "ipython3",
   "version": "3.8.5"
  }
 },
 "nbformat": 4,
 "nbformat_minor": 2
}
