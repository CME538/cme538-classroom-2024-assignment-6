{
 "cells": [
  {
   "cell_type": "markdown",
   "metadata": {},
   "source": [
    "# CME538 - Introduction to Data Science\n",
    "\n",
    "## Introduction to Pandas: Code Along Activity with `titanic.csv`!\n",
    "\n",
    "**Data Dictionary**\n",
    "| Column Name  | Definition                         | Key                              |\n",
    "|-----------|------------------------------------|----------------------------------|\n",
    "| survival  | Survival                           | 0 = No, 1 = Yes                 |\n",
    "| pclass    | Ticket class                       | 1 = 1st, 2 = 2nd, 3 = 3rd       |\n",
    "| sex       | Sex                                |                                  |\n",
    "| Age       | Age in years                       |                                  |\n",
    "| sibsp     | # of siblings / spouses aboard     |                                  |\n",
    "| parch     | # of parents / children aboard     |                                  |\n",
    "| ticket    | Ticket number                      |                                  |\n",
    "| fare      | Passenger fare                     |                                  |\n",
    "| cabin     | Cabin number                       |                                  |\n",
    "| embarked  | Port of Embarkation                | C = Cherbourg, Q = Queenstown, S = Southampton |"
   ]
  },
  {
   "cell_type": "code",
   "execution_count": null,
   "metadata": {},
   "outputs": [],
   "source": [
    "# Import 3rd Party Libraries\n",
    "import pandas as pd\n",
    "import numpy as np\n",
    "import matplotlib.pyplot as plt"
   ]
  },
  {
   "cell_type": "markdown",
   "metadata": {},
   "source": [
    "First, let's import the dataset `titanic.csv`"
   ]
  },
  {
   "cell_type": "code",
   "execution_count": null,
   "metadata": {},
   "outputs": [],
   "source": [
    "# also see avaialable functions in pandas\n",
    "dir(pd)"
   ]
  },
  {
   "cell_type": "code",
   "execution_count": null,
   "metadata": {},
   "outputs": [],
   "source": [
    "# to see the arguments with pd.read_csv\n",
    "help(pd.read_csv) "
   ]
  },
  {
   "cell_type": "markdown",
   "metadata": {},
   "source": [
    "What if I have multiple files `csv`, or they are in another location?"
   ]
  },
  {
   "cell_type": "code",
   "execution_count": null,
   "metadata": {},
   "outputs": [],
   "source": [
    "import os\n",
    "\n",
    "# to see current directory\n",
    "print(os.listdir())"
   ]
  },
  {
   "cell_type": "markdown",
   "metadata": {},
   "source": [
    "Let's read in `titanic.csv`"
   ]
  },
  {
   "cell_type": "code",
   "execution_count": null,
   "metadata": {},
   "outputs": [],
   "source": [
    "titanic_df = pd.read_csv(\"titanic.csv\")\n",
    "titanic_df # preview your data"
   ]
  },
  {
   "cell_type": "markdown",
   "metadata": {},
   "source": [
    "Let's use `.head()` and `.tail()` to preview the results:"
   ]
  },
  {
   "cell_type": "code",
   "execution_count": null,
   "metadata": {
    "scrolled": true
   },
   "outputs": [],
   "source": [
    "# first 5 results\n",
    "titanic_df.head()"
   ]
  },
  {
   "cell_type": "code",
   "execution_count": null,
   "metadata": {},
   "outputs": [],
   "source": [
    "# first 2 results\n",
    "titanic_df.head(2)"
   ]
  },
  {
   "cell_type": "code",
   "execution_count": null,
   "metadata": {},
   "outputs": [],
   "source": [
    "# see the last 5 rows\n",
    "titanic_df.tail()"
   ]
  },
  {
   "cell_type": "code",
   "execution_count": null,
   "metadata": {},
   "outputs": [],
   "source": [
    "# see the last 10 rows\n",
    "titanic_df.tail(10)"
   ]
  },
  {
   "cell_type": "markdown",
   "metadata": {},
   "source": [
    "DataFrame attributes: `index`, `columns` and `shape`:"
   ]
  },
  {
   "cell_type": "code",
   "execution_count": null,
   "metadata": {},
   "outputs": [],
   "source": [
    "type(titanic_df)"
   ]
  },
  {
   "cell_type": "code",
   "execution_count": null,
   "metadata": {},
   "outputs": [],
   "source": [
    "# find all column names\n",
    "titanic_df.columns"
   ]
  },
  {
   "cell_type": "code",
   "execution_count": null,
   "metadata": {},
   "outputs": [],
   "source": [
    "# print out the index\n",
    "titanic_df.index"
   ]
  },
  {
   "cell_type": "code",
   "execution_count": null,
   "metadata": {},
   "outputs": [],
   "source": [
    "# shape of data; row/column\n",
    "titanic_df.shape"
   ]
  },
  {
   "cell_type": "code",
   "execution_count": null,
   "metadata": {},
   "outputs": [],
   "source": [
    "# create a series\n",
    "titanic_df['Survived']"
   ]
  },
  {
   "cell_type": "code",
   "execution_count": null,
   "metadata": {},
   "outputs": [],
   "source": [
    "# created a dataframe\n",
    "titanic_df[['Survived']]"
   ]
  },
  {
   "cell_type": "markdown",
   "metadata": {},
   "source": [
    "It is very easy to create a new column:"
   ]
  },
  {
   "cell_type": "code",
   "execution_count": null,
   "metadata": {},
   "outputs": [],
   "source": [
    "# preview data\n",
    "titanic_df.head()"
   ]
  },
  {
   "cell_type": "code",
   "execution_count": null,
   "metadata": {
    "scrolled": true
   },
   "outputs": [],
   "source": [
    "# create a new column Inflation_Fare\n",
    "titanic_df[\"Inflation_Fare\"] = titanic_df[\"Fare\"] * 25\n",
    "\n",
    "# preview result\n",
    "titanic_df.head(3)"
   ]
  },
  {
   "cell_type": "code",
   "execution_count": null,
   "metadata": {},
   "outputs": [],
   "source": [
    "# add a new dummy column\n",
    "titanic_df[\"Dummy_Column\"] = \"CME538 is great\"\n",
    "\n",
    "# preview\n",
    "titanic_df.head(3)"
   ]
  },
  {
   "cell_type": "markdown",
   "metadata": {},
   "source": [
    "Also very easy to update an existing column in our DataFrame:"
   ]
  },
  {
   "cell_type": "code",
   "execution_count": null,
   "metadata": {},
   "outputs": [],
   "source": [
    "# let's modify the Sex column\n",
    "titanic_df[\"Sex\"] = titanic_df[\"Sex\"].str.upper()\n",
    "\n",
    "# preview\n",
    "titanic_df.head(3)"
   ]
  },
  {
   "cell_type": "markdown",
   "metadata": {},
   "source": [
    "Let's practice using some of the in-built **utility methods**:\n",
    "- `max()`\n",
    "- `min()`\n",
    "- `mean()`\n",
    "- `unique()`\n",
    "- `sort_values()`\n",
    "- `value_counts()`\n",
    "- `astype()` *very important!*"
   ]
  },
  {
   "cell_type": "code",
   "execution_count": null,
   "metadata": {},
   "outputs": [],
   "source": [
    "# let's do some stats on Fare!\n",
    "print(titanic_df[\"Fare\"].mean())\n",
    "print(titanic_df[\"Fare\"].max())\n",
    "print(titanic_df[\"Fare\"].min())"
   ]
  },
  {
   "cell_type": "code",
   "execution_count": null,
   "metadata": {},
   "outputs": [],
   "source": [
    "# let's do some more stats on Age\n",
    "# print(titanic_df[\"Age\"].unique())\n",
    "print(titanic_df[\"Age\"].value_counts())"
   ]
  },
  {
   "cell_type": "code",
   "execution_count": null,
   "metadata": {},
   "outputs": [],
   "source": [
    "# make a mini variable\n",
    "# df = titanic_df\n",
    "df_col = titanic_df[\"Name\"]\n",
    "print(df_col.max())"
   ]
  },
  {
   "cell_type": "code",
   "execution_count": null,
   "metadata": {
    "scrolled": true
   },
   "outputs": [],
   "source": [
    "# outputting a variable return, instead of print\n",
    "df_col.max()\n",
    "df_col.min()"
   ]
  },
  {
   "cell_type": "code",
   "execution_count": null,
   "metadata": {},
   "outputs": [],
   "source": [
    "# what about methods on a string? max of a string?\n",
    "print(titanic_df[\"Name\"].max())"
   ]
  },
  {
   "cell_type": "code",
   "execution_count": null,
   "metadata": {},
   "outputs": [],
   "source": [
    "# what about methods on a string? what about mean?\n",
    "print(titanic_df[\"Name\"].mean())"
   ]
  },
  {
   "cell_type": "code",
   "execution_count": null,
   "metadata": {
    "scrolled": false
   },
   "outputs": [],
   "source": [
    "# use describe to see numeric column stats\n",
    "titanic_df.describe()"
   ]
  },
  {
   "cell_type": "code",
   "execution_count": null,
   "metadata": {
    "scrolled": false
   },
   "outputs": [],
   "source": [
    "# use describe to see numeric column stats\n",
    "titanic_df[[\"Age\",\"Fare\"]].describe()"
   ]
  },
  {
   "cell_type": "code",
   "execution_count": null,
   "metadata": {
    "scrolled": true
   },
   "outputs": [],
   "source": [
    "# to see value distribution, missing values\n",
    "titanic_df.info()"
   ]
  },
  {
   "cell_type": "markdown",
   "metadata": {},
   "source": [
    "There are also built-in string methods we can apply. Note that we need to use the `.str` argument first before applying these:\n",
    "- `.str.upper()`\n",
    "- `.str.lower()`\n",
    "- `.str.len()`\n",
    "- `.str.replace()`\n",
    "- `str.startswith()/str.endswith()` *returns a boolean series*"
   ]
  },
  {
   "cell_type": "code",
   "execution_count": null,
   "metadata": {
    "scrolled": true
   },
   "outputs": [],
   "source": [
    "titanic_df.head(3)"
   ]
  },
  {
   "cell_type": "code",
   "execution_count": null,
   "metadata": {},
   "outputs": [],
   "source": [
    "# lowercase the sex column\n",
    "titanic_df[\"Sex\"] = titanic_df[\"Sex\"].str.lower()\n",
    "\n",
    "titanic_df.head(3)"
   ]
  },
  {
   "cell_type": "code",
   "execution_count": null,
   "metadata": {
    "scrolled": true
   },
   "outputs": [],
   "source": [
    "titanic_df[\"Name Length\"] = titanic_df[\"Name\"].str.len() # find the length\n",
    "titanic_df.head(3) # preview"
   ]
  },
  {
   "cell_type": "code",
   "execution_count": null,
   "metadata": {},
   "outputs": [],
   "source": [
    "# let's replace a string\n",
    "titanic_df[\"Dummy_Column\"] = titanic_df[\"Dummy_Column\"].str.replace(\"great\", \"wonderful!!\")\n",
    "titanic_df[\"Dummy_Column\"] = titanic_df[\"Dummy_Column\"].str.replace(\"!!\", \"??\")\n",
    "\n",
    "# preview\n",
    "titanic_df.head()"
   ]
  },
  {
   "cell_type": "code",
   "execution_count": null,
   "metadata": {},
   "outputs": [],
   "source": [
    "# let's create a last name column\n",
    "\n",
    "# strategy - split on comman, retreive the first entry (last name with [0])\n",
    "titanic_df[\"Last_Name\"] = titanic_df[\"Name\"].str.split().str.get(0)\n",
    "\n",
    "titanic_df.head()"
   ]
  },
  {
   "cell_type": "markdown",
   "metadata": {},
   "source": [
    "What about filtering our DataFrame? Using conditionals:"
   ]
  },
  {
   "cell_type": "code",
   "execution_count": null,
   "metadata": {},
   "outputs": [],
   "source": [
    "filt_50 = titanic_df['Age'] > 50\n",
    "filt_50"
   ]
  },
  {
   "cell_type": "code",
   "execution_count": null,
   "metadata": {},
   "outputs": [],
   "source": [
    "# remember that comparisons always return a boolean in Python\n",
    "4 > 5"
   ]
  },
  {
   "cell_type": "code",
   "execution_count": null,
   "metadata": {},
   "outputs": [],
   "source": [
    "# let's get everyone over 50\n",
    "filt_50_df = titanic_df[titanic_df['Age'] > 50]\n",
    "\n",
    "# preview\n",
    "filt_50_df.head()"
   ]
  },
  {
   "cell_type": "markdown",
   "metadata": {},
   "source": [
    "Let's filter on male over 50"
   ]
  },
  {
   "cell_type": "code",
   "execution_count": null,
   "metadata": {
    "scrolled": true
   },
   "outputs": [],
   "source": [
    "filt_50_male_df = titanic_df[\n",
    "    (titanic_df['Age'] > 50) &  # filter criteria 1\n",
    "    (titanic_df[\"Sex\"] == 'male') # filter criteria 2\n",
    "]\n",
    "\n",
    "filt_50_male_df.head(3)"
   ]
  },
  {
   "cell_type": "code",
   "execution_count": null,
   "metadata": {},
   "outputs": [],
   "source": [
    "titanic_df['Sex'].unique()"
   ]
  },
  {
   "cell_type": "code",
   "execution_count": null,
   "metadata": {},
   "outputs": [],
   "source": [
    "filt_50_not_male_df = titanic_df[\n",
    "    (titanic_df['Age'] > 50) &  # filter criteria 1, over 50\n",
    "    ~(titanic_df[\"Sex\"] == 'male') # filter criteria 2, not male with ~\n",
    "]\n",
    "\n",
    "filt_50_not_male_df.head(3)"
   ]
  },
  {
   "cell_type": "markdown",
   "metadata": {},
   "source": [
    "What if you are male, **or** over 50?"
   ]
  },
  {
   "cell_type": "code",
   "execution_count": null,
   "metadata": {},
   "outputs": [],
   "source": [
    "filt_50_or_male_df = titanic_df[\n",
    "    (titanic_df['Age'] > 50) |  # filter criteria 1, over 50\n",
    "    (titanic_df[\"Sex\"] == 'male') & # filter criteria 2, male\n",
    "    (titanic_df[\"Fare\"] > 50) # filter criteria 3, fare > 50\n",
    "]\n",
    "\n",
    "filt_50_or_male_df.head(3)"
   ]
  },
  {
   "cell_type": "markdown",
   "metadata": {},
   "source": [
    "Let's practice now using  `.loc` (label-based slicing) and `.iloc` (index-based slicing):"
   ]
  },
  {
   "cell_type": "markdown",
   "metadata": {},
   "source": [
    "Using `loc` filter to all rows where the passenger's `Age` is greater than 50, and they `Embarked` from \"S\":"
   ]
  },
  {
   "cell_type": "code",
   "execution_count": null,
   "metadata": {},
   "outputs": [],
   "source": [
    "# let's practice filtering with loc -> [row, col]\n",
    "filt_df = titanic_df.loc[(titanic_df[\"Age\"] > 50) &  # row filter 1\n",
    "                         (titanic_df[\"Embarked\"] == \"S\"),  # row filter 2\n",
    "                         [\"Name\",\"Cabin\"]] # this filters the columns returned (Name and Cabin)\n",
    "filt_df.head(3)"
   ]
  },
  {
   "cell_type": "markdown",
   "metadata": {},
   "source": [
    "Using `iloc` select the first 10 rows, and the columns `Name`, `Age` and `Fare`:"
   ]
  },
  {
   "cell_type": "code",
   "execution_count": null,
   "metadata": {},
   "outputs": [],
   "source": [
    "filt_iloc_df = titanic_df.iloc[0:10] # just first 10 rows\n",
    "filt_iloc_df"
   ]
  },
  {
   "cell_type": "markdown",
   "metadata": {},
   "source": [
    "Easy alternative to get the first 10 rows with `head`:"
   ]
  },
  {
   "cell_type": "code",
   "execution_count": null,
   "metadata": {},
   "outputs": [],
   "source": [
    "temp_var = titanic_df.head(10)\n",
    "temp_var"
   ]
  },
  {
   "cell_type": "code",
   "execution_count": null,
   "metadata": {},
   "outputs": [],
   "source": [
    "filt_iloc_df = titanic_df.iloc[0:10,[3,5,9]] # rows (0-10), columns (list with their position)\n",
    "filt_iloc_df"
   ]
  },
  {
   "cell_type": "markdown",
   "metadata": {},
   "source": [
    "What about getting aggregate statistics? Let's practice using `.groupby()`:\n",
    "\n",
    "1. Find average paid fare by passengers based on their `Pclass` and `Survived` status:"
   ]
  },
  {
   "cell_type": "code",
   "execution_count": null,
   "metadata": {},
   "outputs": [],
   "source": [
    "# find count\n",
    "grouped_df = titanic_df.groupby([\"Pclass\",\"Survived\"]).agg(\"count\")\n",
    "grouped_df"
   ]
  },
  {
   "cell_type": "code",
   "execution_count": null,
   "metadata": {},
   "outputs": [],
   "source": [
    "# find average paid fare by passengers based on their Pclass and Survived status\n",
    "grouped_df = titanic_df.groupby([\"Pclass\",\"Survived\"])[['Fare']].mean()\n",
    "grouped_df"
   ]
  },
  {
   "cell_type": "markdown",
   "metadata": {},
   "source": [
    "2. Find the total number of passengers based on their `Sex` and `Embarked` location, then sort the results by the total number of passengers in descending order:"
   ]
  },
  {
   "cell_type": "code",
   "execution_count": null,
   "metadata": {},
   "outputs": [],
   "source": [
    "# Find the total number of passengers based on their Sex and Embarked location, \n",
    "# then sort the results by the total number of passengers in descending order.\n",
    "passengers_df = titanic_df.groupby([\"Sex\",\"Embarked\"])[[\"PassengerId\"]].count()\n",
    "\n",
    "# now let's sort\n",
    "passengers_df = passengers_df.sort_values(by = \"PassengerId\", ascending = False)\n",
    "\n",
    "# preview\n",
    "passengers_df"
   ]
  },
  {
   "cell_type": "markdown",
   "metadata": {},
   "source": [
    "3. Find the survival of passengers based on `Class`, `Sex`, `Survived` and express this as a **percent (%)**:"
   ]
  },
  {
   "cell_type": "code",
   "execution_count": null,
   "metadata": {},
   "outputs": [],
   "source": [
    "titanic_df.shape"
   ]
  },
  {
   "cell_type": "code",
   "execution_count": null,
   "metadata": {},
   "outputs": [],
   "source": [
    "passengers_grouped = titanic_df.groupby(['Pclass','Sex','Survived']).agg(\"count\")\n",
    "passengers_grouped"
   ]
  },
  {
   "cell_type": "code",
   "execution_count": null,
   "metadata": {},
   "outputs": [],
   "source": [
    "# notice if we do not have an aggregation no dataframe object is returned\n",
    "titanic_df.groupby(['Pclass','Sex','Survived'])"
   ]
  },
  {
   "cell_type": "code",
   "execution_count": null,
   "metadata": {},
   "outputs": [],
   "source": [
    "# 1 - find the amount of passengers for Class, Sex and Survived\n",
    "passengers_grouped = titanic_df.groupby(['Pclass','Sex','Survived'])[[\"PassengerId\"]].count()\n",
    "\n",
    "# 2 - find the total amount of all passengers\n",
    "total_passengers = passengers_grouped['PassengerId'].sum()\n",
    "\n",
    "# alternative way to find number people, use shape to get the row\n",
    "# total_passengers = titanic_df.shape[0]\n",
    "\n",
    "# 3 - create a new column\n",
    "passengers_grouped['Percent'] = passengers_grouped[\"PassengerId\"] / total_passengers * 100\n",
    "\n",
    "# preview results\n",
    "passengers_grouped"
   ]
  },
  {
   "cell_type": "markdown",
   "metadata": {},
   "source": [
    "Creating Functions and Using `.apply()`, Looping over Rows"
   ]
  },
  {
   "cell_type": "code",
   "execution_count": null,
   "metadata": {},
   "outputs": [],
   "source": [
    "# quick review of functions\n",
    "\n",
    "def celcius_to_farenheit(x):\n",
    "    \"\"\"\n",
    "    Argument: x (float)\n",
    "    Returns: y (float)\n",
    "    \n",
    "    Description: a function that takes a number x, and adds 2\n",
    "    \"\"\"\n",
    "    y = x * 9/5 + 32\n",
    "    return y\n",
    "\n",
    "variable = 3\n",
    "print(celcius_to_farenheit(variable))  \n",
    "print(celcius_to_farenheit(2)) \n",
    "print(celcius_to_farenheit(5))"
   ]
  },
  {
   "cell_type": "code",
   "execution_count": null,
   "metadata": {},
   "outputs": [],
   "source": [
    "variable = 6\n",
    "\n",
    "if variable > 20: # fail this condition, skip forward\n",
    "    print(\"Greater than 20\")\n",
    "else: # 6 meets this condition\n",
    "    print(\"Less than 20\") # print"
   ]
  },
  {
   "cell_type": "markdown",
   "metadata": {},
   "source": [
    "Create a function that categorizes passengers based on their age and apply it to create a new column `AgeCategory`. \n",
    "The function should return:\n",
    "- 'Child' for passengers under 18\n",
    "- 'Adult' for those between 18 and 60\n",
    "- 'Senior' for those above 60"
   ]
  },
  {
   "cell_type": "code",
   "execution_count": null,
   "metadata": {},
   "outputs": [],
   "source": [
    "# define the function here\n",
    "def age_category(age):\n",
    "    \"\"\"\n",
    "    Input: age (numeric)\n",
    "    Output: category (string)\n",
    "    \n",
    "    This function compares the age and returns one of 3 outputs, Child/Adult/Senior\n",
    "    \"\"\"\n",
    "    if age < 18:\n",
    "        return \"Child\"\n",
    "    \n",
    "    elif 18 < age < 60:\n",
    "        return \"Adult\"\n",
    "    \n",
    "    else:\n",
    "        return \"Senior\"\n",
    "\n",
    "# code is starting here\n",
    "test_age = 34\n",
    "print(age_category(test_age)) # let's call our function on a single variable"
   ]
  },
  {
   "cell_type": "code",
   "execution_count": null,
   "metadata": {},
   "outputs": [],
   "source": [
    "# write code here\n",
    "def age_category(age):\n",
    "    \"\"\"\n",
    "    Input: age (numeric)\n",
    "    Output: category (string)\n",
    "    \n",
    "    This function compares the age and returns one of 3 outputs, Child/Adult/Senior\n",
    "    \"\"\"\n",
    "    if age < 18:\n",
    "        return \"Child\"\n",
    "    \n",
    "    elif 18 <= age <= 60:\n",
    "        return \"Adult\"\n",
    "    \n",
    "    else:\n",
    "        return \"Senior\"\n",
    "    \n",
    "    \n",
    "# let's define a new column   \n",
    "titanic_df[\"AgeCategory\"] = titanic_df[\"Age\"].apply(age_category)\n",
    "\n",
    "# preview\n",
    "titanic_df.head(4)"
   ]
  },
  {
   "cell_type": "code",
   "execution_count": null,
   "metadata": {},
   "outputs": [],
   "source": [
    "# preview results from our column\n",
    "titanic_df[\"AgeCategory\"].value_counts()"
   ]
  },
  {
   "cell_type": "markdown",
   "metadata": {},
   "source": [
    "What about saving our data?"
   ]
  },
  {
   "cell_type": "code",
   "execution_count": null,
   "metadata": {},
   "outputs": [],
   "source": [
    "# let's save into our same directory\n",
    "titanic_df.to_csv(\"my_new_titanic.csv\")"
   ]
  },
  {
   "cell_type": "markdown",
   "metadata": {},
   "source": [
    "Almost done! Let's save our notebook `.ipynb` and also export as an HTML!"
   ]
  }
 ],
 "metadata": {
  "kernelspec": {
   "display_name": "Python 3 (ipykernel)",
   "language": "python",
   "name": "python3"
  },
  "language_info": {
   "codemirror_mode": {
    "name": "ipython",
    "version": 3
   },
   "file_extension": ".py",
   "mimetype": "text/x-python",
   "name": "python",
   "nbconvert_exporter": "python",
   "pygments_lexer": "ipython3",
   "version": "3.11.6"
  }
 },
 "nbformat": 4,
 "nbformat_minor": 2
}
