{
 "cells": [
  {
   "cell_type": "markdown",
   "metadata": {},
   "source": [
    "# CME538 - Introduction to Data Science\n",
    "\n",
    "## Introduction to Pandas: Code Along Activity with `titanic.csv`!\n",
    "\n",
    "**Data Dictionary**\n",
    "| Column Name  | Definition                         | Key                              |\n",
    "|-----------|------------------------------------|----------------------------------|\n",
    "| survival  | Survival                           | 0 = No, 1 = Yes                 |\n",
    "| pclass    | Ticket class                       | 1 = 1st, 2 = 2nd, 3 = 3rd       |\n",
    "| sex       | Sex                                |                                  |\n",
    "| Age       | Age in years                       |                                  |\n",
    "| sibsp     | # of siblings / spouses aboard     |                                  |\n",
    "| parch     | # of parents / children aboard     |                                  |\n",
    "| ticket    | Ticket number                      |                                  |\n",
    "| fare      | Passenger fare                     |                                  |\n",
    "| cabin     | Cabin number                       |                                  |\n",
    "| embarked  | Port of Embarkation                | C = Cherbourg, Q = Queenstown, S = Southampton |"
   ]
  },
  {
   "cell_type": "code",
   "execution_count": null,
   "metadata": {},
   "outputs": [],
   "source": [
    "# Import 3rd Party Libraries\n"
   ]
  },
  {
   "cell_type": "markdown",
   "metadata": {},
   "source": [
    "First, let's import the dataset `titanic.csv`"
   ]
  },
  {
   "cell_type": "code",
   "execution_count": null,
   "metadata": {},
   "outputs": [],
   "source": []
  },
  {
   "cell_type": "markdown",
   "metadata": {},
   "source": [
    "If you are ever unsure about what a built-in command/function does, `dir()` and `help()` are there to help:"
   ]
  },
  {
   "cell_type": "code",
   "execution_count": null,
   "metadata": {},
   "outputs": [],
   "source": []
  },
  {
   "cell_type": "markdown",
   "metadata": {},
   "source": [
    "Let's use `.head()` and `.tail()` to preview the results:"
   ]
  },
  {
   "cell_type": "code",
   "execution_count": null,
   "metadata": {},
   "outputs": [],
   "source": []
  },
  {
   "cell_type": "markdown",
   "metadata": {},
   "source": [
    "DataFrame attributes: `index`, `columns` and `shape`:"
   ]
  },
  {
   "cell_type": "code",
   "execution_count": null,
   "metadata": {},
   "outputs": [],
   "source": []
  },
  {
   "cell_type": "markdown",
   "metadata": {},
   "source": [
    "It is very easy to create a new column:"
   ]
  },
  {
   "cell_type": "code",
   "execution_count": null,
   "metadata": {},
   "outputs": [],
   "source": []
  },
  {
   "cell_type": "markdown",
   "metadata": {},
   "source": [
    "Also very easy to update an existing column in our DataFrame:"
   ]
  },
  {
   "cell_type": "code",
   "execution_count": null,
   "metadata": {},
   "outputs": [],
   "source": []
  },
  {
   "cell_type": "markdown",
   "metadata": {},
   "source": [
    "Let's practice using some of the in-built **utility methods**:\n",
    "- `max()`\n",
    "- `min()`\n",
    "- `mean()`\n",
    "- `unique()`\n",
    "- `sort_values()`\n",
    "- `value_counts()`\n",
    "- `astype()` *very important!*"
   ]
  },
  {
   "cell_type": "code",
   "execution_count": null,
   "metadata": {},
   "outputs": [],
   "source": []
  },
  {
   "cell_type": "markdown",
   "metadata": {},
   "source": [
    "There are also built-in string methods we can apply. Note that we need to use the `.str` argument first before applying these:\n",
    "- `.str.upper()`\n",
    "- `.str.lower()`\n",
    "- `.str.len()`\n",
    "- `.str.replace()`\n",
    "- `str.startswith()/str.endswith()` *returns a boolean series*"
   ]
  },
  {
   "cell_type": "code",
   "execution_count": null,
   "metadata": {},
   "outputs": [],
   "source": []
  },
  {
   "cell_type": "markdown",
   "metadata": {},
   "source": [
    "What about filtering our DataFrame? Using conditionals:"
   ]
  },
  {
   "cell_type": "code",
   "execution_count": null,
   "metadata": {},
   "outputs": [],
   "source": []
  },
  {
   "cell_type": "code",
   "execution_count": null,
   "metadata": {},
   "outputs": [],
   "source": []
  },
  {
   "cell_type": "markdown",
   "metadata": {},
   "source": [
    "Let's practice now using  `.loc` (label-based slicing) and `.iloc` (index-based slicing):"
   ]
  },
  {
   "cell_type": "markdown",
   "metadata": {},
   "source": [
    "Using `loc` filter to all rows where the passenger's `Age` is greater than 50, and they `Embarked` from \"S\":"
   ]
  },
  {
   "cell_type": "code",
   "execution_count": null,
   "metadata": {},
   "outputs": [],
   "source": []
  },
  {
   "cell_type": "markdown",
   "metadata": {},
   "source": [
    "Using `iloc` select the first 10 rows, and the columns `Name`, `Age` and `Fare`:"
   ]
  },
  {
   "cell_type": "code",
   "execution_count": null,
   "metadata": {},
   "outputs": [],
   "source": []
  },
  {
   "cell_type": "markdown",
   "metadata": {},
   "source": [
    "What about getting aggregate statistics? Let's practice using `.groupby()`:\n",
    "\n",
    "1. Find average paid fare by passengers based on their `Pclass` and `Survived` status:"
   ]
  },
  {
   "cell_type": "code",
   "execution_count": null,
   "metadata": {},
   "outputs": [],
   "source": [
    "# find average paid fare by passengers based on their Pclass and Survived status"
   ]
  },
  {
   "cell_type": "markdown",
   "metadata": {},
   "source": [
    "2. Find the total number of passengers based on their `Sex` and `Embarked` location, then sort the results by the total number of passengers in descending order:"
   ]
  },
  {
   "cell_type": "code",
   "execution_count": 2,
   "metadata": {},
   "outputs": [],
   "source": [
    "# Find the total number of passengers based on their Sex and Embarked location, then sort the results by the total number of passengers in descending order."
   ]
  },
  {
   "cell_type": "markdown",
   "metadata": {},
   "source": [
    "3. Find the survival of passengers based on `Class` and `Sex`, and express this as a **percent (%)**:"
   ]
  },
  {
   "cell_type": "code",
   "execution_count": null,
   "metadata": {},
   "outputs": [],
   "source": [
    "# 1 - find the amount of passengers for Class, Sex and Survived\n",
    "\n",
    "# 2 - find the total amount of all passengers\n",
    "\n",
    "# 3 - create a new column"
   ]
  },
  {
   "cell_type": "markdown",
   "metadata": {},
   "source": [
    "Creating Functions and Using `.apply()`, Looping over Rows"
   ]
  },
  {
   "cell_type": "code",
   "execution_count": null,
   "metadata": {},
   "outputs": [],
   "source": [
    "# quick review of functions"
   ]
  },
  {
   "cell_type": "markdown",
   "metadata": {},
   "source": [
    "Create a function that categorizes passengers based on their age and apply it to create a new column `AgeCategory`. \n",
    "The function should return:\n",
    "- 'Child' for passengers under 18\n",
    "- 'Adult' for those between 18 and 60\n",
    "- 'Senior' for those above 60"
   ]
  },
  {
   "cell_type": "code",
   "execution_count": null,
   "metadata": {},
   "outputs": [],
   "source": [
    "# write code here"
   ]
  },
  {
   "cell_type": "markdown",
   "metadata": {},
   "source": [
    "What about saving our data?"
   ]
  },
  {
   "cell_type": "code",
   "execution_count": null,
   "metadata": {},
   "outputs": [],
   "source": []
  },
  {
   "cell_type": "markdown",
   "metadata": {},
   "source": [
    "Almost done! Let's save our notebook `.ipynb` and also export as an HTML!"
   ]
  }
 ],
 "metadata": {
  "kernelspec": {
   "display_name": "Python 3",
   "language": "python",
   "name": "python3"
  },
  "language_info": {
   "codemirror_mode": {
    "name": "ipython",
    "version": 3
   },
   "file_extension": ".py",
   "mimetype": "text/x-python",
   "name": "python",
   "nbconvert_exporter": "python",
   "pygments_lexer": "ipython3",
   "version": "3.11.5"
  }
 },
 "nbformat": 4,
 "nbformat_minor": 2
}
