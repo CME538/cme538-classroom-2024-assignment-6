{
 "cells": [
  {
   "cell_type": "markdown",
   "metadata": {},
   "source": [
    "# CME538 - Introduction to Data Science\n",
    "## Lecture 2.2 - Pandas II\n",
    "### New Concepts\n",
    "* Operations on String series, e.g. `babynames['Name'].str.startswith()`\n",
    "* Creating and dropping columns.\n",
    "    * Creating temporary columns is often convenient for sorting.\n",
    "* Passing an index as an argument to `.loc`.\n",
    "    * Useful as an alternate way to sort a dataframe.\n",
    "* Groupby: Output of `.groupby('Name')` is a `DataFrameGroupBy` object. Condense back into a DataFrame or Series with:\n",
    "    * groupby.agg\n",
    "    * groupby.size\n",
    "    * groupby.filter\n",
    "    * and more...\n",
    "* Pivot tables: An alternate way to group by exactly two columns. \n",
    "\n",
    "\n",
    "### Lecture Structure\n",
    "In this lecture, we'll introduce additional syntax by trying to solve various practical problems on the baby names dataset.\n",
    "* [Goal 1](#section1): Find the most popular name in California in 2018.\n",
    "* [Goal 2](#section2): Find all names that start with J.\n",
    "* [Goal 3](#section3): Sort names by length.\n",
    "* [Goal 4](#section4): Find the name whose popularity has changed the most.\n",
    "* [groupby Puzzles](#groupby_puzzles1): Some groupby.agg puzzles. \n",
    "* [Goal 5](#section5): Count the number of female and male babies born in each year.\n",
    "* [groupby Puzzles](#groupby_puzzles2): Another groupby.agg puzzle. "
   ]
  },
  {
   "cell_type": "markdown",
   "metadata": {},
   "source": [
    "## Setup Notebook\n",
    "At the start of a notebook, we need to import the Python packages we plan to use.\n",
    "* [Time](https://docs.python.org/3/library/time.html) - This module provides various time-related functions. \n",
    "* [NumPy](https://numpy.org/) - A library for the Python programming language, adding support for large, multi-dimensional arrays and matrices, along with a large collection of high-level mathematical functions to operate on these arrays. NumPy was introcuded in Lecture 3 and we will learn more about its functionality in this lecture. It is customary to `import numpy as np`.\n",
    "* [Pandas](https://pandas.pydata.org/) - pandas is a fast, powerful, flexible and easy to use open source data analysis and manipulation tool, built on top of the Python programming language. Lecture 4, 5, and 6 will do a deep dive into the core functionality of Pandas. It is customary to `import pandas as pd`. \n",
    "* [Seaborn](https://seaborn.pydata.org/) - Seaborn is a Python data visualization library based on matplotlib. It provides a high-level interface for drawing attractive and informative statistical graphics. We will use Seaborn throughout CIV1498 for data visualization. It is customary to `import seaborn as pd`.  \n",
    "* [Maplotlib](https://matplotlib.org//) - Matplotlib is a comprehensive library for creating static, animated, and interactive visualizations in Python. We will use Matplotlib throughout CIV1498 for data visualization. It is customary to `import matplotlib.pyplot as plt`. \n",
    "\n",
    "Next, we want to configure the Jupyter Notebook.\n",
    "* `%matplotlib inline` - This code configured the notebook to display all plots, from Seaborn or Matplotlib, in the Notebook as opposed to in a separate pop-up window.\n",
    "* `plt.style.use('fivethirtyeight')` - This code configured the plots with the \"fivethirtyeight\" styling, which tries to replicate the styles from the website [FiveThirtyEight](https://fivethirtyeight.com/).\n",
    "* `sns.set_context(\"notebook\")` - This sets the plotting context parameters to be optimized for a Notebook. This affects things like the size of the labels, lines, and other elements of the plot, but not the overall style."
   ]
  },
  {
   "cell_type": "code",
   "execution_count": null,
   "metadata": {},
   "outputs": [],
   "source": [
    "# Import 3rd party libraries\n",
    "import time\n",
    "import numpy as np\n",
    "import pandas as pd\n",
    "import seaborn as sns\n",
    "import matplotlib.pyplot as plt\n",
    "\n",
    "# Configure Notebook\n",
    "%matplotlib inline\n",
    "plt.style.use('fivethirtyeight')\n",
    "sns.set_context(\"notebook\")"
   ]
  },
  {
   "cell_type": "markdown",
   "metadata": {},
   "source": [
    "## Baby Names Dataset\n",
    "Let's start by loading the New York baby names again."
   ]
  },
  {
   "cell_type": "code",
   "execution_count": null,
   "metadata": {},
   "outputs": [],
   "source": [
    "import urllib.request\n",
    "import os.path\n",
    "import zipfile\n",
    "\n",
    "data_url = \"https://www.ssa.gov/oact/babynames/state/namesbystate.zip\"\n",
    "local_filename = \"babynamesbystate.zip\"\n",
    "if not os.path.exists(local_filename): # if the data exists don't download again\n",
    "    with urllib.request.urlopen(data_url) as resp, open(local_filename, 'wb') as f:\n",
    "        f.write(resp.read())\n",
    "\n",
    "zf = zipfile.ZipFile(local_filename, 'r')\n",
    "\n",
    "ca_name = 'NY.TXT'\n",
    "field_names = ['State', 'Sex', 'Year', 'Name', 'Count']\n",
    "with zf.open(ca_name) as fh:\n",
    "    baby_names = pd.read_csv(fh, header=None, names=field_names)\n",
    "\n",
    "baby_names.sample(5)"
   ]
  },
  {
   "cell_type": "markdown",
   "metadata": {},
   "source": [
    "<a id='section1'></a>\n",
    "## Goal 1\n",
    "#### Find the most popular baby name in New York in 2018.\n",
    "\n",
    "Let's start by filtering the dataset to 2018 data points and then sorting by the `Count` column."
   ]
  },
  {
   "cell_type": "code",
   "execution_count": null,
   "metadata": {},
   "outputs": [],
   "source": [
    "baby_names[baby_names['Year'] == 2018].sort_values(by='Count', ascending=False).head()"
   ]
  },
  {
   "cell_type": "markdown",
   "metadata": {},
   "source": [
    "<a id='section2'></a>\n",
    "## Goal 2\n",
    "#### Find all names that start with J.\n",
    "Goal 2 will focus on introducing operations on String Series.\n",
    "#### Approach 1: Combine Lecture 4 Pandas syntax with Lecture 3 / APS106 ideas.\n",
    "Let's take a look and the first 10 baby names."
   ]
  },
  {
   "cell_type": "code",
   "execution_count": null,
   "metadata": {},
   "outputs": [],
   "source": [
    "baby_names['Name'].head(10)"
   ]
  },
  {
   "cell_type": "markdown",
   "metadata": {},
   "source": [
    " We can first use Python list comprehension, which was reviewed in Lecture 3 and covered in APS106, to create a Boolean list. The value is True when the name starts with **J** and False when it does not. "
   ]
  },
  {
   "cell_type": "code",
   "execution_count": null,
   "metadata": {},
   "outputs": [],
   "source": [
    "starts_with_j = [x[0] == 'J' for x in baby_names['Name']]\n",
    "starts_with_j[0:10]"
   ]
  },
  {
   "cell_type": "markdown",
   "metadata": {},
   "source": [
    "Next, we can use the Boolean list to filter our DataFrame."
   ]
  },
  {
   "cell_type": "code",
   "execution_count": null,
   "metadata": {},
   "outputs": [],
   "source": [
    "baby_names[starts_with_j].head()"
   ]
  },
  {
   "cell_type": "markdown",
   "metadata": {},
   "source": [
    "To make our code more compact, we can combine the operations from the previous two cells."
   ]
  },
  {
   "cell_type": "code",
   "execution_count": null,
   "metadata": {},
   "outputs": [],
   "source": [
    "baby_names[[x[0] == 'J' for x in baby_names['Name']]].head()"
   ]
  },
  {
   "cell_type": "markdown",
   "metadata": {},
   "source": [
    "#### Approach 2: Use the Series.str methods.\n",
    "Series.str are vectorized string functions for Series and Index."
   ]
  },
  {
   "cell_type": "code",
   "execution_count": null,
   "metadata": {},
   "outputs": [],
   "source": [
    "baby_names['Name'].str.startswith('J').head()"
   ]
  },
  {
   "cell_type": "markdown",
   "metadata": {},
   "source": [
    "This produces a Boolean Series which can then be used to filter our DataFrame."
   ]
  },
  {
   "cell_type": "code",
   "execution_count": null,
   "metadata": {},
   "outputs": [],
   "source": [
    "baby_names[baby_names['Name'].str.startswith('J')].head()"
   ]
  },
  {
   "cell_type": "markdown",
   "metadata": {},
   "source": [
    "Although both approaches are perfectly valid, we would say that **Approach 1** is not idiomatic. Meaning that people from the broader pandas community won’t like reading your code. Additionally, **Approach 2** is easiest to understand, which is always important when writing code."
   ]
  },
  {
   "cell_type": "markdown",
   "metadata": {},
   "source": [
    "Series.str has many other useful methods"
   ]
  },
  {
   "cell_type": "code",
   "execution_count": null,
   "metadata": {},
   "outputs": [],
   "source": [
    "baby_names[baby_names['Name'].str.contains('ice')].head()"
   ]
  },
  {
   "cell_type": "code",
   "execution_count": null,
   "metadata": {},
   "outputs": [],
   "source": [
    "baby_names['Name'].str.split('a').head()"
   ]
  },
  {
   "cell_type": "markdown",
   "metadata": {},
   "source": [
    "**Challenge:** Try to write a line of code that creates a list (or Series or array) of all names that end with “ert”.\n",
    "\n",
    "<details>\n",
    "    <summary>Solution</summary>\n",
    "<code>\n",
    "baby_names[baby_names['Name'].str.endswith('ert')]['Name'].unique()\n",
    "</code>\n",
    "</details>"
   ]
  },
  {
   "cell_type": "markdown",
   "metadata": {},
   "source": [
    "<a id='section3'></a>\n",
    "## Goal 3\n",
    "#### Sort names by length.\n",
    "Suppose we want to sort all rows by the length of the name.\n",
    "\n",
    "As before, there are ways to do this using only Lecture 3 and 4 content as well as concepts covered in. Check out this code below."
   ]
  },
  {
   "cell_type": "code",
   "execution_count": null,
   "metadata": {},
   "outputs": [],
   "source": [
    "baby_names.iloc[\n",
    "    [i for i, m in sorted(enumerate(baby_names['Name']), \n",
    "                          key=lambda x: -len(x[1]))]\n",
    "].head(5)"
   ]
  },
  {
   "cell_type": "markdown",
   "metadata": {},
   "source": [
    "#### Approach 1: Create a temporary column.\n",
    "Create a new series of only the lengths. Then add that series to the dataframe as a column. Then sort by that column. Then drop that column.\n",
    "\n",
    "Create a new series of only the lengths."
   ]
  },
  {
   "cell_type": "code",
   "execution_count": null,
   "metadata": {},
   "outputs": [],
   "source": [
    "baby_name_lengths = baby_names['Name'].str.len()"
   ]
  },
  {
   "cell_type": "markdown",
   "metadata": {},
   "source": [
    "Then, add that series to the dataframe as a column."
   ]
  },
  {
   "cell_type": "code",
   "execution_count": null,
   "metadata": {},
   "outputs": [],
   "source": [
    "baby_names['name_lengths'] = baby_name_lengths\n",
    "baby_names.head()"
   ]
  },
  {
   "cell_type": "markdown",
   "metadata": {},
   "source": [
    "Next, sort by the temporary column."
   ]
  },
  {
   "cell_type": "code",
   "execution_count": null,
   "metadata": {},
   "outputs": [],
   "source": [
    "baby_names = baby_names.sort_values(by='name_lengths', ascending=False)\n",
    "baby_names.head()"
   ]
  },
  {
   "cell_type": "markdown",
   "metadata": {},
   "source": [
    "And finally, drop the temporary column."
   ]
  },
  {
   "cell_type": "code",
   "execution_count": null,
   "metadata": {},
   "outputs": [],
   "source": [
    "baby_names = baby_names.drop('name_lengths', axis = 1)\n",
    "baby_names.head()"
   ]
  },
  {
   "cell_type": "markdown",
   "metadata": {},
   "source": [
    "We can also use the Python `.map` function if we want to use an arbitrarily defined function. Suppose we want to sort by the number of occurrences of `'dr'` plus the number of occurences of `'ea'`."
   ]
  },
  {
   "cell_type": "code",
   "execution_count": null,
   "metadata": {},
   "outputs": [],
   "source": [
    "def dr_ea_count(string):\n",
    "    return string.count('dr') + string.count('ea')\n",
    "\n",
    "#create the temporary column\n",
    "baby_names['dr_ea_count'] = baby_names['Name'].map(dr_ea_count)\n",
    "\n",
    "#sort by the temporary column\n",
    "baby_names = baby_names.sort_values(by = 'dr_ea_count', ascending=False)\n",
    "\n",
    "#drop that column\n",
    "baby_names = baby_names.drop('dr_ea_count', axis = 1)\n",
    "baby_names.head(5)"
   ]
  },
  {
   "cell_type": "markdown",
   "metadata": {},
   "source": [
    "#### Approach 2: Generate an index sorted in the desired order.\n",
    "Let's start over by first scrambling the order of baby_names."
   ]
  },
  {
   "cell_type": "code",
   "execution_count": null,
   "metadata": {},
   "outputs": [],
   "source": [
    "baby_names = baby_names.sample(frac=1)\n",
    "baby_names.head()"
   ]
  },
  {
   "cell_type": "markdown",
   "metadata": {},
   "source": [
    "Another approach is to take advantage of the fact that .loc can accept an index.\n",
    "- `df.loc[idx]` returns df with its rows in the same order as the given index.\n",
    "- Only works if the index exactly matches the DataFrame.\n",
    "\n",
    "The first step was to create a sequence of the lengths of the names."
   ]
  },
  {
   "cell_type": "code",
   "execution_count": null,
   "metadata": {},
   "outputs": [],
   "source": [
    "name_lengths = baby_names['Name'].str.len()\n",
    "name_lengths.head()"
   ]
  },
  {
   "cell_type": "markdown",
   "metadata": {},
   "source": [
    "The next step is to sort the new series we just created."
   ]
  },
  {
   "cell_type": "code",
   "execution_count": null,
   "metadata": {},
   "outputs": [],
   "source": [
    "name_lengths_sorted_by_length = name_lengths.sort_values(ascending=False)\n",
    "name_lengths_sorted_by_length.head()"
   ]
  },
  {
   "cell_type": "markdown",
   "metadata": {},
   "source": [
    "Next, we pass the index of the sorted series to the `.loc` method of the original DataFrame."
   ]
  },
  {
   "cell_type": "code",
   "execution_count": null,
   "metadata": {},
   "outputs": [],
   "source": [
    "index_sorted_by_length = name_lengths_sorted_by_length.index\n",
    "index_sorted_by_length[0:5]"
   ]
  },
  {
   "cell_type": "code",
   "execution_count": null,
   "metadata": {},
   "outputs": [],
   "source": [
    "baby_names.loc[index_sorted_by_length].head()"
   ]
  },
  {
   "cell_type": "markdown",
   "metadata": {},
   "source": [
    "This is a lot of code, so let's try combining it all in one line of code."
   ]
  },
  {
   "cell_type": "code",
   "execution_count": null,
   "metadata": {},
   "outputs": [],
   "source": [
    "baby_names.loc[baby_names['Name'].str.len().sort_values(ascending=False).index].head()"
   ]
  },
  {
   "cell_type": "markdown",
   "metadata": {},
   "source": [
    "<a id='section4'></a>\n",
    "## Goal 4\n",
    "#### Name whose popularity has changed the most. \n",
    "First we need to define change in popularity. \n",
    "\n",
    "For the purposes of lecture, let’s stay simple and use the absolute max/min difference (AMMD): max(count) - min(count). \n",
    "\n",
    "To make sure we understand this quantity, let's consider the name Jennifer."
   ]
  },
  {
   "cell_type": "code",
   "execution_count": null,
   "metadata": {},
   "outputs": [],
   "source": [
    "jennifer_counts = baby_names[baby_names['Name']=='Jennifer']\n",
    "jennifer_counts.head()"
   ]
  },
  {
   "cell_type": "markdown",
   "metadata": {},
   "source": [
    "Let's calculate the AMMD for Jennifer."
   ]
  },
  {
   "cell_type": "code",
   "execution_count": null,
   "metadata": {},
   "outputs": [],
   "source": [
    "def ammd(series):\n",
    "    return max(series) - min(series)"
   ]
  },
  {
   "cell_type": "code",
   "execution_count": null,
   "metadata": {},
   "outputs": [],
   "source": [
    "ammd(jennifer_counts['Count'])"
   ]
  },
  {
   "cell_type": "code",
   "execution_count": null,
   "metadata": {},
   "outputs": [],
   "source": [
    "ammd(baby_names[baby_names['Name']=='Jennifer']['Count'])"
   ]
  },
  {
   "cell_type": "markdown",
   "metadata": {},
   "source": [
    "#### Approach 1: Hack something using our existing Python knowledge."
   ]
  },
  {
   "cell_type": "code",
   "execution_count": null,
   "metadata": {},
   "outputs": [],
   "source": [
    "start_time = time.time()\n",
    "baby_name_count_ammd = dict()\n",
    "for name in sorted(baby_names['Name'].unique()):\n",
    "    counts_of_current_name = baby_names[baby_names['Name'] == name]['Count']\n",
    "    baby_name_count_ammd['name'] = ammd(counts_of_current_name)\n",
    "print('Compute time: {} seconds.'.format(time.time() - start_time))"
   ]
  },
  {
   "cell_type": "markdown",
   "metadata": {},
   "source": [
    "You can run this code if you like but it takes quite some time. 5.5 minutes to be exact. The most expensive operation is filtering the DataFrame many many times.\n",
    "\n",
    "There must be a better way right?\n",
    "\n",
    "Introducing `.groupby().agg()`!\n",
    "\n",
    "But first, what exactly does `.groupby()` do?"
   ]
  },
  {
   "cell_type": "code",
   "execution_count": null,
   "metadata": {
    "scrolled": false
   },
   "outputs": [],
   "source": [
    "for idx, (name, group) in enumerate(baby_names.groupby('Name')):\n",
    "    \n",
    "    # Print the name and the group DataFrame\n",
    "    print(name)\n",
    "    print(group)\n",
    "    print('')\n",
    "    \n",
    "    if idx >= 5:\n",
    "        break"
   ]
  },
  {
   "cell_type": "markdown",
   "metadata": {},
   "source": [
    "Aggregate using one or more operations over the specified axis. These operations can be built in (min, max) or user-defined (ammd)."
   ]
  },
  {
   "cell_type": "markdown",
   "metadata": {},
   "source": [
    "<br>\n",
    "<img src=\"images/pandas_groupby_agg_biggest_change.png\" alt=\"drawing\" width=\"700\"/>\n",
    "<br> \n",
    "<center>Courtesy of Josh Hug</center>\n",
    "\n",
    "Let's take a look at the DataFrame again."
   ]
  },
  {
   "cell_type": "code",
   "execution_count": null,
   "metadata": {},
   "outputs": [],
   "source": [
    "baby_names.head()"
   ]
  },
  {
   "cell_type": "markdown",
   "metadata": {},
   "source": [
    "If I run `baby_names.groupby('Name').agg(ammd).head()`, what would you expect the output to be?"
   ]
  },
  {
   "cell_type": "code",
   "execution_count": null,
   "metadata": {},
   "outputs": [],
   "source": [
    "baby_names.groupby('Name').agg(ammd).head()"
   ]
  },
  {
   "cell_type": "markdown",
   "metadata": {},
   "source": [
    "What do you think the Year column represents?\n",
    "- The number of years a name appeared.\n",
    "- The difference between the earliest and latest year a name appeared.\n",
    "- It has no meaning because our code was only designed to work with counts.\n",
    "- Not sure.\n",
    "\n",
    "<details>\n",
    "    <summary>Solution</summary>\n",
    "<code>\n",
    "The difference between the earliest and latest year a name appeared.\n",
    "</code>\n",
    "</details>\n",
    "\n",
    "Why don't we see columns for Sex or State? We did not tell GroupBy which columns we wanted it to apply the aggregation function on, so it applied it to all the relevant columns and returned the output. Sex and State have string-object datatypes and therefore, `ammd` count not be computed (cannot substract strings). For example, see the code below, which gets the first row of each group."
   ]
  },
  {
   "cell_type": "code",
   "execution_count": null,
   "metadata": {},
   "outputs": [],
   "source": [
    "baby_names.groupby('Name').first().head()"
   ]
  },
  {
   "cell_type": "markdown",
   "metadata": {},
   "source": [
    "<a id='groupby_puzzles1'></a>\n",
    "## `.groupby()` Puzzles\n",
    "#### Puzzle 1\n",
    "To test your understanding, try to interpret the result of the code below."
   ]
  },
  {
   "cell_type": "code",
   "execution_count": null,
   "metadata": {},
   "outputs": [],
   "source": [
    "baby_names.head(5)"
   ]
  },
  {
   "cell_type": "code",
   "execution_count": null,
   "metadata": {},
   "outputs": [],
   "source": [
    "baby_names.groupby('Year').agg(ammd).plot();"
   ]
  },
  {
   "cell_type": "markdown",
   "metadata": {},
   "source": [
    "For reference, the first 5 values from the plot above are below."
   ]
  },
  {
   "cell_type": "code",
   "execution_count": null,
   "metadata": {},
   "outputs": [],
   "source": [
    "baby_names.groupby('Year').agg(ammd).head()"
   ]
  },
  {
   "cell_type": "markdown",
   "metadata": {},
   "source": [
    "#### Puzzle 2\n",
    "Let's import another elections dataset."
   ]
  },
  {
   "cell_type": "code",
   "execution_count": null,
   "metadata": {},
   "outputs": [],
   "source": [
    "elections = pd.read_csv('elections.csv')\n",
    "elections.head()"
   ]
  },
  {
   "cell_type": "markdown",
   "metadata": {},
   "source": [
    "Let's groupby political party and then take the maximum value of each column in a group."
   ]
  },
  {
   "cell_type": "code",
   "execution_count": null,
   "metadata": {},
   "outputs": [],
   "source": [
    "elections.groupby('Party').agg(max).head(10)"
   ]
  },
  {
   "cell_type": "markdown",
   "metadata": {},
   "source": [
    "We have to be careful when using aggregation functions. For example, the code below might be misinterpreted to say that Woodrow Wilson ran for election in 2016. Why is this happening?\n",
    "\n",
    "Every column is calculated independently! Among Democrats:\n",
    "- Last year they ran: 2016\n",
    "- Alphabetically latest candidate name: Woodrow Wilson\n",
    "- Highest number of votes: 69498516\n",
    "- Alphabetically latest Result ['loss', 'win']: win\n",
    "- Highest % of vote: 61.34"
   ]
  },
  {
   "cell_type": "markdown",
   "metadata": {},
   "source": [
    "#### Puzzle 3\n",
    "Inspired by above, try to predict the results of the groupby operation shown. \n",
    "<br>\n",
    "<img src=\"images/groupby_puzzle_3.png\" alt=\"drawing\" width=\"700\"/>\n",
    "<br> \n",
    "<center>Courtesy of Josh Hug</center>\n",
    "\n",
    "<details>\n",
    "    <summary>Solution</summary>\n",
    "<code>\n",
    "[A, 3, hi]\n",
    "[B, 6, tx]\n",
    "[C, 9, sd]\n",
    "</code>\n",
    "</details>"
   ]
  },
  {
   "cell_type": "markdown",
   "metadata": {},
   "source": [
    "#### Puzzle 4\n",
    "Next we'll write code that properly returns the best result by each party. That is, each row should show the Year, Candidate, Popular Vote, Result, and % for the election in which that party saw its best results (rather than mixing them as in Puzzle 2).\n",
    "\n",
    "First sort the DataFrame so that rows are in ascending order of %."
   ]
  },
  {
   "cell_type": "code",
   "execution_count": null,
   "metadata": {},
   "outputs": [],
   "source": [
    "elections_sorted_by_percent = elections.sort_values('%', ascending=False)\n",
    "elections_sorted_by_percent.head()"
   ]
  },
  {
   "cell_type": "markdown",
   "metadata": {},
   "source": [
    "Then group by Party and take the 0th member of each series, which will be the best outcome (highest vote)."
   ]
  },
  {
   "cell_type": "code",
   "execution_count": null,
   "metadata": {
    "scrolled": false
   },
   "outputs": [],
   "source": [
    "elections_sorted_by_percent.groupby('Party').agg(lambda x : x.iloc[0])"
   ]
  },
  {
   "cell_type": "markdown",
   "metadata": {},
   "source": [
    "#### Other `.groupby()` features.\n",
    "**.size()**\n",
    "<br>\n",
    "Size returns a Series giving the size of each group.\n",
    "\n",
    "![](groupby_size.png)\n",
    "<center>Courtesy of UCBerkeley</center>"
   ]
  },
  {
   "cell_type": "code",
   "execution_count": null,
   "metadata": {},
   "outputs": [],
   "source": [
    "elections.groupby('Party').size().head()"
   ]
  },
  {
   "cell_type": "markdown",
   "metadata": {},
   "source": [
    "**.filter()**\n",
    "<br>\n",
    "Filter gives a copy of the original DataFrame where row r is included if its group obeys the given condition.\n",
    "\n",
    "Note: Filtering is done per GROUP, not per ROW.\n",
    "\n",
    "![](images/groupby_filter.png)\n",
    "<center>Courtesy of Josh Hug</center>"
   ]
  },
  {
   "cell_type": "code",
   "execution_count": null,
   "metadata": {},
   "outputs": [],
   "source": [
    "elections.groupby('Year').filter(lambda df: df['%'].max() < 45)"
   ]
  },
  {
   "cell_type": "markdown",
   "metadata": {},
   "source": [
    "**`.sum()`, `.mean()`, etc.**\n",
    "<br>\n",
    "As an alternative to `groupby.agg(sum)`, we can also simply do `groupby.sum()`.\n",
    "<br>\n",
    "<img src=\"images/groupby_sum.png\" alt=\"drawing\" width=\"700\"/>\n",
    "<br> \n",
    "<center>Courtesy of Josh Hug</center>"
   ]
  },
  {
   "cell_type": "code",
   "execution_count": null,
   "metadata": {},
   "outputs": [],
   "source": [
    "elections.groupby('Year').agg(sum).head()"
   ]
  },
  {
   "cell_type": "code",
   "execution_count": null,
   "metadata": {},
   "outputs": [],
   "source": [
    "elections.groupby('Year').sum().head()"
   ]
  },
  {
   "cell_type": "markdown",
   "metadata": {},
   "source": [
    "Try other common operations.\n",
    "\n",
    "`elections.groupby('Year').min()`<br>\n",
    "`elections.groupby('Year').max()`<br>\n",
    "`elections.groupby('Year').mean()`<br>\n",
    "`elections.groupby('Year').median()`"
   ]
  },
  {
   "cell_type": "markdown",
   "metadata": {},
   "source": [
    "**.groupby() multiple features.**\n",
    "<br>\n",
    "It is possible to group a DataFrame by multiple features. For example, if we group by Year and Sex we get back a DataFrame with the total number of babies of each sex born in each year.\n",
    "\n",
    "The DataFrame resulting from the aggregation operation is now multi-indexed. That is, it has more than one dimension to its index."
   ]
  },
  {
   "cell_type": "code",
   "execution_count": null,
   "metadata": {},
   "outputs": [],
   "source": [
    "baby_names.groupby(['Name', 'Sex']).sum().head()"
   ]
  },
  {
   "cell_type": "code",
   "execution_count": null,
   "metadata": {},
   "outputs": [],
   "source": [
    "baby_names.groupby(['Name', 'Sex']).sum().loc[['Mike', 'Blake', 'Avery'], :]"
   ]
  },
  {
   "cell_type": "markdown",
   "metadata": {},
   "source": [
    "<a id='section5'></a>\n",
    "## Goal 5\n",
    "#### Finding the number of babies born in each year of each sex.\n",
    "Suppose we want to build a table showing the total number of babies born of each sex in each year. One way is to `.groupby()` using both columns of interest."
   ]
  },
  {
   "cell_type": "code",
   "execution_count": null,
   "metadata": {},
   "outputs": [],
   "source": [
    "baby_names.groupby(['Year', 'Sex']).sum().head()"
   ]
  },
  {
   "cell_type": "markdown",
   "metadata": {},
   "source": [
    "A more natural approach is to use a **Pivot Table**."
   ]
  },
  {
   "cell_type": "code",
   "execution_count": null,
   "metadata": {},
   "outputs": [],
   "source": [
    "baby_names.head()"
   ]
  },
  {
   "cell_type": "markdown",
   "metadata": {},
   "source": [
    "The basic idea behind **Pivot Tables** is shown in the image below.\n",
    "<br>\n",
    "<img src=\"images/pivot_table.png\" alt=\"drawing\" width=\"700\"/>\n",
    "<br> \n",
    "<center>Courtesy of Josh Hug</center>"
   ]
  },
  {
   "cell_type": "code",
   "execution_count": null,
   "metadata": {},
   "outputs": [],
   "source": [
    "baby_names_pivot = baby_names.pivot_table(\n",
    "    index='Year',    # the rows (turned into index)\n",
    "    columns='Sex',   # the column values\n",
    "    values='Count',  # the field(s) to processed in each group\n",
    "    aggfunc=sum,     # group operation\n",
    ")\n",
    "baby_names_pivot.head()"
   ]
  },
  {
   "cell_type": "code",
   "execution_count": null,
   "metadata": {},
   "outputs": [],
   "source": [
    "baby_names_pivot_2 = baby_names.pivot_table(\n",
    "    index='Year',              # the rows (turned into index)\n",
    "    columns='Sex',             # the column values\n",
    "    values=['Count', 'Name'],  # the field(s) to processed in each group\n",
    "    aggfunc=np.max,            # group operation\n",
    ")\n",
    "baby_names_pivot_2.head()"
   ]
  },
  {
   "cell_type": "markdown",
   "metadata": {},
   "source": [
    "<a id='groupby_puzzles2'></a>\n",
    "## Another `.groupby()` Puzzle\n",
    "#### More careful look at the most popular 2018 name in California.\n",
    "In Goal 1, we didn't take into account the unlikely possibility that the most popular name was actually spread across both birth sexes. For example, what if in the table below it turns out that there were 300 female Noahs born in CA in 2018. In that case, Noah would actually be the most popular.\n",
    "\n",
    "Since our queries are getting pretty long, I've stuck them inside parentheses which allows us to spread them over many lines."
   ]
  },
  {
   "cell_type": "code",
   "execution_count": null,
   "metadata": {},
   "outputs": [],
   "source": [
    "(\n",
    "    baby_names[baby_names['Year'] == 2018]\n",
    "        .sort_values(by='Count', ascending=False)\n",
    "        .head()\n",
    ")"
   ]
  },
  {
   "cell_type": "markdown",
   "metadata": {},
   "source": [
    "Try to add a single line to the operation above so that each row represents the sum of male and female babies born in 2018 with that name. "
   ]
  },
  {
   "cell_type": "code",
   "execution_count": null,
   "metadata": {},
   "outputs": [],
   "source": [
    "(\n",
    "    baby_names[baby_names['Year'] == 2018]\n",
    "        .groupby(['Name'])\n",
    "        .agg(lambda df: df.sum())[['Year', 'State', 'Count']]\n",
    "        .sort_values(by='Count', ascending=False)\n",
    "        .head()\n",
    ")"
   ]
  }
 ],
 "metadata": {
  "kernelspec": {
   "display_name": "Python 3 (ipykernel)",
   "language": "python",
   "name": "python3"
  },
  "language_info": {
   "codemirror_mode": {
    "name": "ipython",
    "version": 3
   },
   "file_extension": ".py",
   "mimetype": "text/x-python",
   "name": "python",
   "nbconvert_exporter": "python",
   "pygments_lexer": "ipython3",
   "version": "3.9.7"
  }
 },
 "nbformat": 4,
 "nbformat_minor": 4
}
