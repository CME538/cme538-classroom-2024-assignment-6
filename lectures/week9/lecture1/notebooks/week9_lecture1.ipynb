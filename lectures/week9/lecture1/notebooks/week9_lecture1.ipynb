{
 "cells": [
  {
   "cell_type": "markdown",
   "metadata": {},
   "source": [
    "# CME538 - Introduction to Data Science\n",
    "## Lecture 9.1 - Diagnosing Bias & Variance"
   ]
  },
  {
   "cell_type": "markdown",
   "metadata": {},
   "source": [
    "## Setup Notebook"
   ]
  },
  {
   "cell_type": "code",
   "execution_count": null,
   "metadata": {},
   "outputs": [],
   "source": [
    "# Import 3rd party libraries\n",
    "import os\n",
    "import numpy as np\n",
    "import pandas as pd\n",
    "import seaborn as sns\n",
    "import matplotlib.pylab as plt\n",
    "from sklearn.linear_model import LinearRegression, Lasso, Ridge\n",
    "\n",
    "# Local imports\n",
    "from bias_variance_visualization import func, fit_model, bias_variance_visualizer\n",
    "\n",
    "# Configure Notebook\n",
    "%matplotlib inline\n",
    "plt.style.use('fivethirtyeight')\n",
    "sns.set_context(\"notebook\")\n",
    "import warnings\n",
    "warnings.filterwarnings('ignore')"
   ]
  },
  {
   "cell_type": "markdown",
   "metadata": {},
   "source": [
    "# Let's Create Some Data\n",
    "Consider the following cubic function.\n",
    "$$g(x) = \\theta_0 + \\theta_1 \\cdot \\text{x} + \\theta_2 \\cdot x^{2} + \\theta_3 \\cdot x^{3}$$\n",
    "\n",
    "Where:\n",
    "- $\\theta_0$ =  1.000\n",
    "- $\\theta_1$ = -0.003\n",
    "- $\\theta_2$ =  0.050 \n",
    "- $\\theta_3$ =  0.003"
   ]
  },
  {
   "cell_type": "markdown",
   "metadata": {},
   "source": [
    "Now, let's plot out function for `-10 <= x <= 10`."
   ]
  },
  {
   "cell_type": "code",
   "execution_count": null,
   "metadata": {},
   "outputs": [],
   "source": [
    "plt.figure(figsize = (10, 7))\n",
    "ax = sns.lineplot(np.arange(-10, 10, 0.01), func(np.arange(-10, 10, 0.01)), \n",
    "                  color='#fc4f30', lw = 4, label='g(x)')\n",
    "ax.xaxis.set_tick_params(labelsize=16)\n",
    "ax.yaxis.set_tick_params(labelsize=16)\n",
    "ax.set_xlabel('x', fontsize=22)\n",
    "ax.set_ylabel('y', fontsize=22)\n",
    "ax.set_xlim([-10, 10])\n",
    "ax.set_ylim([-3, 8])\n",
    "ax.legend(loc=2, fontsize=16)\n",
    "plt.show()"
   ]
  },
  {
   "cell_type": "markdown",
   "metadata": {},
   "source": [
    "Next, let's create a large dataset by adding random noise to the true values."
   ]
  },
  {
   "cell_type": "code",
   "execution_count": null,
   "metadata": {},
   "outputs": [],
   "source": [
    "n_samples = 10000\n",
    "x = np.random.uniform(-10, 10, n_samples)\n",
    "y = func(x) + np.random.normal(0, 0.3, n_samples)\n",
    "data = pd.DataFrame({'x': x, 'y': y})\n",
    "data.head()"
   ]
  },
  {
   "cell_type": "markdown",
   "metadata": {},
   "source": [
    "Plot just the samples"
   ]
  },
  {
   "cell_type": "code",
   "execution_count": null,
   "metadata": {},
   "outputs": [],
   "source": [
    "plt.figure(figsize = (10, 7))\n",
    "ax = sns.scatterplot(x='x', y='y', data=data, label='y = g(x) + $\\epsilon$')\n",
    "ax.xaxis.set_tick_params(labelsize=16)\n",
    "ax.yaxis.set_tick_params(labelsize=16)\n",
    "ax.set_xlabel('x', fontsize=22)\n",
    "ax.set_ylabel('y', fontsize=22)\n",
    "ax.set_xlim([-10, 10])\n",
    "ax.set_ylim([-3, 8])\n",
    "ax.legend(loc=2, fontsize=16)\n",
    "plt.show()"
   ]
  },
  {
   "cell_type": "markdown",
   "metadata": {},
   "source": [
    "Plot the samples and the true function."
   ]
  },
  {
   "cell_type": "code",
   "execution_count": null,
   "metadata": {},
   "outputs": [],
   "source": [
    "plt.figure(figsize = (10, 7))\n",
    "ax = sns.scatterplot(x='x', y='y', data=data, label='y = g(x) + $\\epsilon$')\n",
    "ax = sns.lineplot(np.arange(-10, 10, 0.01), func(np.arange(-10, 10, 0.01)), \n",
    "                  color='#fc4f30', lw = 4, label='g(x)')\n",
    "ax.xaxis.set_tick_params(labelsize=16)\n",
    "ax.yaxis.set_tick_params(labelsize=16)\n",
    "ax.set_xlabel('x', fontsize=22)\n",
    "ax.set_ylabel('y', fontsize=22)\n",
    "ax.set_xlim([-10, 10])\n",
    "ax.set_ylim([-3, 8])\n",
    "ax.legend(loc=2, fontsize=16)\n",
    "plt.show()"
   ]
  },
  {
   "cell_type": "markdown",
   "metadata": {},
   "source": [
    "Lastly, let's try fitting a model to the complete dataset."
   ]
  },
  {
   "cell_type": "code",
   "execution_count": null,
   "metadata": {},
   "outputs": [],
   "source": [
    "# Fit model\n",
    "x_plotting, y_plotting, y_train_pred, y_test_pred, model = fit_model(2, LinearRegression(fit_intercept=True), data)\n",
    "\n",
    "# Plot model and data\n",
    "plt.figure(figsize = (10, 7))\n",
    "ax = sns.scatterplot(x='x', y='y', data=data, label='y = g(x) + $\\epsilon$')\n",
    "ax.plot(x_plotting, y_plotting, label='$\\hat{y}$', color='#6d904f', lw = 4)\n",
    "ax.xaxis.set_tick_params(labelsize=16)\n",
    "ax.yaxis.set_tick_params(labelsize=16)\n",
    "ax.set_xlabel('x', fontsize=22)\n",
    "ax.set_ylabel('y', fontsize=22)\n",
    "ax.set_xlim([-10, 10])\n",
    "ax.set_ylim([-3, 8])\n",
    "ax.legend(loc=2, fontsize=16)\n",
    "plt.show()"
   ]
  },
  {
   "cell_type": "markdown",
   "metadata": {},
   "source": [
    "# Underfitting: Scenario 1\n",
    "- Model: Polynomial Order 1\n",
    "- Test Size: 30%\n",
    "- Sample Size: 1000\n",
    "- Simulations: 25"
   ]
  },
  {
   "cell_type": "code",
   "execution_count": null,
   "metadata": {},
   "outputs": [],
   "source": [
    "bias_variance_visualizer(data=data, deg=1, test_split=0.3, n_samples=1000, n_models=25, \n",
    "                         folder='underfitting_1', ml_model=LinearRegression(fit_intercept=True))"
   ]
  },
  {
   "cell_type": "markdown",
   "metadata": {},
   "source": [
    "# Underfitting: Scenario 2\n",
    "- Model: Polynomial Order 1\n",
    "- Test Size: 30%\n",
    "- Sample Size: 50\n",
    "- Simulations: 25"
   ]
  },
  {
   "cell_type": "code",
   "execution_count": null,
   "metadata": {},
   "outputs": [],
   "source": [
    "bias_variance_visualizer(data=data, deg=1, test_split=0.3, n_samples=50, n_models=25, \n",
    "                         folder='underfitting_2', ml_model=LinearRegression(fit_intercept=True))"
   ]
  },
  {
   "cell_type": "markdown",
   "metadata": {},
   "source": [
    "# Overfitting: Scenario 1\n",
    "- Model: Polynomial Order 10\n",
    "- Test Size: 30%\n",
    "- Sample Size: 5000\n",
    "- Simulations: 25"
   ]
  },
  {
   "cell_type": "code",
   "execution_count": null,
   "metadata": {},
   "outputs": [],
   "source": [
    "bias_variance_visualizer(data=data, deg=10, test_split=0.3, n_samples=5000, n_models=25, \n",
    "                         folder='Overfitting_1', ml_model=LinearRegression(fit_intercept=True))"
   ]
  },
  {
   "cell_type": "markdown",
   "metadata": {},
   "source": [
    "# Overfitting: Scenario 2\n",
    "- Model: Polynomial Order 10\n",
    "- Test Size: 30%\n",
    "- Sample Size: 1000\n",
    "- Simulations: 25"
   ]
  },
  {
   "cell_type": "code",
   "execution_count": null,
   "metadata": {},
   "outputs": [],
   "source": [
    "bias_variance_visualizer(data=data, deg=10, test_split=0.3, n_samples=1000, n_models=25, \n",
    "                         folder='Overfitting_2', ml_model=LinearRegression(fit_intercept=True))"
   ]
  },
  {
   "cell_type": "markdown",
   "metadata": {},
   "source": [
    "# Overfitting: Scenario 3\n",
    "- Model: Polynomial Order 10\n",
    "- Test Size: 30%\n",
    "- Sample Size: 100\n",
    "- Simulations: 25"
   ]
  },
  {
   "cell_type": "code",
   "execution_count": null,
   "metadata": {},
   "outputs": [],
   "source": [
    "bias_variance_visualizer(data=data, deg=10, test_split=0.3, n_samples=100, n_models=25, \n",
    "                         folder='Overfitting_3', ml_model=LinearRegression(fit_intercept=True))"
   ]
  },
  {
   "cell_type": "markdown",
   "metadata": {},
   "source": [
    "# Overfitting: Scenario 4\n",
    "- Model: Polynomial Order 10\n",
    "- Test Size: 30%\n",
    "- Sample Size: 10\n",
    "- Simulations: 25"
   ]
  },
  {
   "cell_type": "code",
   "execution_count": null,
   "metadata": {},
   "outputs": [],
   "source": [
    "bias_variance_visualizer(data=data, deg=10, test_split=0.3, n_samples=10, n_models=25, \n",
    "                         folder='Overfitting_4', ml_model=LinearRegression(fit_intercept=True))"
   ]
  }
 ],
 "metadata": {
  "kernelspec": {
   "display_name": "Python 3 (ipykernel)",
   "language": "python",
   "name": "python3"
  },
  "language_info": {
   "codemirror_mode": {
    "name": "ipython",
    "version": 3
   },
   "file_extension": ".py",
   "mimetype": "text/x-python",
   "name": "python",
   "nbconvert_exporter": "python",
   "pygments_lexer": "ipython3",
   "version": "3.9.7"
  }
 },
 "nbformat": 4,
 "nbformat_minor": 4
}
