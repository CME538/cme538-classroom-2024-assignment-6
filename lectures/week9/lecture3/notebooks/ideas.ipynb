{
 "cells": [
  {
   "cell_type": "markdown",
   "metadata": {},
   "source": [
    "Data Science Dojo <br/>\n",
    "Copyright (c) 2020\n",
    "\n",
    "---\n",
    "\n",
    "**Exercise:** Feature engineering for extracting out the signal/pattern <br/>\n",
    "**Level:** Advanced <br/>\n",
    "**Expected time to complete:** 1 hour <br/>"
   ]
  },
  {
   "cell_type": "markdown",
   "metadata": {},
   "source": [
    "# Feature engineering – the extraction process"
   ]
  },
  {
   "cell_type": "markdown",
   "metadata": {},
   "source": [
    "## Data source\n",
    "\n",
    "Team Performance for Quarter 1 data is a simulated dataset that looks at common problems in team performance in any field of work. However, the problems are not obvious on the surface. \n",
    "\n",
    "Online Purchases data is a simulated dataset that records each customer's total purchase for each session they are on the website. Not all factors are recorded, such as time of purchase. However, key patterns and insights can still be gained from the few data points collected. \n",
    "\n",
    "Google Analytics Sessions on Austintexas.gov looks at viewers of the Austintexas.gov website. A single session can contain multiple page views, events, social interactions, and e-commerce transactions, with the series being a total count each day. However, the time series pattern or trend is not obvious on the surface. \n",
    "This dataset can be accessed here: https://catalog.data.gov/dataset/google-analytics-sessions-on-austintexas-gov"
   ]
  },
  {
   "cell_type": "markdown",
   "metadata": {},
   "source": [
    "## Load the packages\n",
    "\n",
    "Please pip install pandas, matplotlib, seaborn, numpy, and datetime"
   ]
  },
  {
   "cell_type": "code",
   "execution_count": 2,
   "metadata": {},
   "outputs": [],
   "source": [
    "# Load the packages\n",
    "import pandas as pd\n",
    "import matplotlib.pyplot as plt\n",
    "import seaborn as sns\n",
    "import numpy as np\n",
    "import datetime"
   ]
  },
  {
   "cell_type": "markdown",
   "metadata": {},
   "source": [
    "## Read team performance quarter 1 data"
   ]
  },
  {
   "cell_type": "code",
   "execution_count": 3,
   "metadata": {},
   "outputs": [],
   "source": [
    "# Read in team_performance_q1 data\n",
    "team_performance = pd.read_csv('Datasets/team_performance_q1.csv')"
   ]
  },
  {
   "cell_type": "markdown",
   "metadata": {},
   "source": [
    "## Inspect team performance data"
   ]
  },
  {
   "cell_type": "markdown",
   "metadata": {},
   "source": [
    "Notice performance level could be a categorical representation of both completed tasks and difficulty."
   ]
  },
  {
   "cell_type": "code",
   "execution_count": 4,
   "metadata": {},
   "outputs": [
    {
     "name": "stdout",
     "output_type": "stream",
     "text": [
      "              Sprint Period    Team Member Team Leader Tasks Difficulty Avg  \\\n",
      "0  Jan 1 2019 - Jan 15 2019   Janet Chaves  Ben Fullen               Medium   \n",
      "1  Jan 1 2019 - Jan 15 2019  Henry Swansen  Ben Fullen               Medium   \n",
      "2  Jan 1 2019 - Jan 15 2019          Yu Li  Ben Fullen            Difficult   \n",
      "3  Jan 1 2019 - Jan 15 2019   Bharat Datra  Ben Fullen            Difficult   \n",
      "4  Jan 1 2019 - Jan 15 2019     Ali Khalin  Ben Fullen               Medium   \n",
      "\n",
      "   Num Assigned Tasks  Num Completed Tasks Performance Level  \n",
      "0                   8                    8             Green  \n",
      "1                   8                    8             Green  \n",
      "2                   6                    6             Green  \n",
      "3                   6                    6             Green  \n",
      "4                   8                    7            Yellow  \n"
     ]
    }
   ],
   "source": [
    "# Preview the data\n",
    "print(team_performance.head())"
   ]
  },
  {
   "cell_type": "code",
   "execution_count": 5,
   "metadata": {},
   "outputs": [
    {
     "name": "stdout",
     "output_type": "stream",
     "text": [
      "Sprint Period           object\n",
      "Team Member             object\n",
      "Team Leader             object\n",
      "Tasks Difficulty Avg    object\n",
      "Num Assigned Tasks       int64\n",
      "Num Completed Tasks      int64\n",
      "Performance Level       object\n",
      "dtype: object\n"
     ]
    }
   ],
   "source": [
    "# Check data types of given features make sense\n",
    "print(team_performance.dtypes)"
   ]
  },
  {
   "cell_type": "markdown",
   "metadata": {},
   "source": [
    "I'm Interested in a team member's performance level as the business outcome."
   ]
  },
  {
   "cell_type": "code",
   "execution_count": 6,
   "metadata": {},
   "outputs": [
    {
     "name": "stdout",
     "output_type": "stream",
     "text": [
      "['Green' 'Yellow' 'Orange' 'Red']\n"
     ]
    }
   ],
   "source": [
    "# Check the unique categorical levels in Performance Level\n",
    "print(team_performance['Performance Level'].unique())"
   ]
  },
  {
   "cell_type": "markdown",
   "metadata": {},
   "source": [
    "Notice how given features give us clues for how outcome could have been assigned."
   ]
  },
  {
   "cell_type": "code",
   "execution_count": 7,
   "metadata": {},
   "outputs": [
    {
     "name": "stdout",
     "output_type": "stream",
     "text": [
      "              Sprint Period    Team Member Team Leader Tasks Difficulty Avg  \\\n",
      "0  Jan 1 2019 - Jan 15 2019   Janet Chaves  Ben Fullen               Medium   \n",
      "1  Jan 1 2019 - Jan 15 2019  Henry Swansen  Ben Fullen               Medium   \n",
      "2  Jan 1 2019 - Jan 15 2019          Yu Li  Ben Fullen            Difficult   \n",
      "3  Jan 1 2019 - Jan 15 2019   Bharat Datra  Ben Fullen            Difficult   \n",
      "5  Jan 1 2019 - Jan 15 2019   Rachel Braun  Ben Fullen            Difficult   \n",
      "\n",
      "   Num Assigned Tasks  Num Completed Tasks Performance Level  \n",
      "0                   8                    8             Green  \n",
      "1                   8                    8             Green  \n",
      "2                   6                    6             Green  \n",
      "3                   6                    6             Green  \n",
      "5                   6                    6             Green  \n",
      "                Sprint Period   Team Member       Team Leader  \\\n",
      "9    Jan 1 2019 - Jan 15 2019  Marcus Jones  Raymond Freedman   \n",
      "10   Jan 1 2019 - Jan 15 2019   Luke Ballen  Raymond Freedman   \n",
      "25  Jan 16 2019 - Jan 30 2019      Lucy Yen  Raymond Freedman   \n",
      "26  Jan 16 2019 - Jan 30 2019  Marcus Jones  Raymond Freedman   \n",
      "27  Jan 16 2019 - Jan 30 2019   Luke Ballen  Raymond Freedman   \n",
      "\n",
      "   Tasks Difficulty Avg  Num Assigned Tasks  Num Completed Tasks  \\\n",
      "9             Difficult                   8                    1   \n",
      "10            Difficult                   8                    2   \n",
      "25            Difficult                   9                    2   \n",
      "26            Difficult                   9                    2   \n",
      "27            Difficult                   8                    1   \n",
      "\n",
      "   Performance Level  \n",
      "9                Red  \n",
      "10               Red  \n",
      "25               Red  \n",
      "26               Red  \n",
      "27               Red  \n"
     ]
    }
   ],
   "source": [
    "print(team_performance[team_performance['Performance Level']=='Green'].head())\n",
    "print(team_performance[team_performance['Performance Level']=='Red'].head())"
   ]
  },
  {
   "cell_type": "markdown",
   "metadata": {},
   "source": [
    "## Create overall score feature"
   ]
  },
  {
   "cell_type": "markdown",
   "metadata": {},
   "source": [
    "Create a feature that takes into account both the number of completed tasks and difficulty level.\n",
    "\n",
    "The higher the number of completed tasks the higher the weight. The higher the difficulty level the higher the weight.\n",
    "\n",
    "If a team member completes all assigned tasks at the max difficulty level, a high score will be given."
   ]
  },
  {
   "cell_type": "code",
   "execution_count": 8,
   "metadata": {},
   "outputs": [
    {
     "name": "stdout",
     "output_type": "stream",
     "text": [
      "              Sprint Period    Team Member Team Leader Tasks Difficulty Avg  \\\n",
      "0  Jan 1 2019 - Jan 15 2019   Janet Chaves  Ben Fullen               Medium   \n",
      "1  Jan 1 2019 - Jan 15 2019  Henry Swansen  Ben Fullen               Medium   \n",
      "2  Jan 1 2019 - Jan 15 2019          Yu Li  Ben Fullen            Difficult   \n",
      "3  Jan 1 2019 - Jan 15 2019   Bharat Datra  Ben Fullen            Difficult   \n",
      "4  Jan 1 2019 - Jan 15 2019     Ali Khalin  Ben Fullen               Medium   \n",
      "\n",
      "   Num Assigned Tasks  Num Completed Tasks Performance Level  \\\n",
      "0                   8                    8             Green   \n",
      "1                   8                    8             Green   \n",
      "2                   6                    6             Green   \n",
      "3                   6                    6             Green   \n",
      "4                   8                    7            Yellow   \n",
      "\n",
      "   Tasks Completed Weight  \n",
      "0                   1.000  \n",
      "1                   1.000  \n",
      "2                   1.000  \n",
      "3                   1.000  \n",
      "4                   0.875  \n"
     ]
    }
   ],
   "source": [
    "team_performance['Tasks Completed Weight'] = team_performance['Num Completed Tasks'] / team_performance['Num Assigned Tasks']\n",
    "print(team_performance.head())"
   ]
  },
  {
   "cell_type": "code",
   "execution_count": 9,
   "metadata": {},
   "outputs": [
    {
     "name": "stdout",
     "output_type": "stream",
     "text": [
      "['Medium' 'Difficult' 'Easy']\n",
      "3\n"
     ]
    }
   ],
   "source": [
    "print(team_performance['Tasks Difficulty Avg'].unique())\n",
    "print(len(team_performance['Tasks Difficulty Avg'].unique()))"
   ]
  },
  {
   "cell_type": "code",
   "execution_count": 10,
   "metadata": {},
   "outputs": [],
   "source": [
    "team_performance['Tasks Difficulty Weight'] = np.where(team_performance['Tasks Difficulty Avg']=='Difficult', \n",
    "                                                       3/len(team_performance['Tasks Difficulty Avg'].unique()),\n",
    "                                                  np.where(team_performance['Tasks Difficulty Avg']=='Medium', \n",
    "                                                           2/len(team_performance['Tasks Difficulty Avg'].unique()),\n",
    "                                                           1/len(team_performance['Tasks Difficulty Avg'].unique()) \n",
    "                                                          )\n",
    "                                                     )"
   ]
  },
  {
   "cell_type": "code",
   "execution_count": 11,
   "metadata": {},
   "outputs": [
    {
     "name": "stdout",
     "output_type": "stream",
     "text": [
      "              Sprint Period   Team Member       Team Leader  \\\n",
      "2  Jan 1 2019 - Jan 15 2019         Yu Li        Ben Fullen   \n",
      "3  Jan 1 2019 - Jan 15 2019  Bharat Datra        Ben Fullen   \n",
      "5  Jan 1 2019 - Jan 15 2019  Rachel Braun        Ben Fullen   \n",
      "6  Jan 1 2019 - Jan 15 2019  Don Van Boen        Ben Fullen   \n",
      "9  Jan 1 2019 - Jan 15 2019  Marcus Jones  Raymond Freedman   \n",
      "\n",
      "  Tasks Difficulty Avg  Num Assigned Tasks  Num Completed Tasks  \\\n",
      "2            Difficult                   6                    6   \n",
      "3            Difficult                   6                    6   \n",
      "5            Difficult                   6                    6   \n",
      "6            Difficult                   6                    6   \n",
      "9            Difficult                   8                    1   \n",
      "\n",
      "  Performance Level  Tasks Completed Weight  Tasks Difficulty Weight  \n",
      "2             Green                   1.000                      1.0  \n",
      "3             Green                   1.000                      1.0  \n",
      "5             Green                   1.000                      1.0  \n",
      "6             Green                   1.000                      1.0  \n",
      "9               Red                   0.125                      1.0  \n",
      "              Sprint Period    Team Member       Team Leader  \\\n",
      "0  Jan 1 2019 - Jan 15 2019   Janet Chaves        Ben Fullen   \n",
      "1  Jan 1 2019 - Jan 15 2019  Henry Swansen        Ben Fullen   \n",
      "4  Jan 1 2019 - Jan 15 2019     Ali Khalin        Ben Fullen   \n",
      "7  Jan 1 2019 - Jan 15 2019    Ronal Valen        Ben Fullen   \n",
      "8  Jan 1 2019 - Jan 15 2019       Lucy Yen  Raymond Freedman   \n",
      "\n",
      "  Tasks Difficulty Avg  Num Assigned Tasks  Num Completed Tasks  \\\n",
      "0               Medium                   8                    8   \n",
      "1               Medium                   8                    8   \n",
      "4               Medium                   8                    7   \n",
      "7               Medium                   8                    8   \n",
      "8               Medium                   8                    4   \n",
      "\n",
      "  Performance Level  Tasks Completed Weight  Tasks Difficulty Weight  \n",
      "0             Green                   1.000                 0.666667  \n",
      "1             Green                   1.000                 0.666667  \n",
      "4            Yellow                   0.875                 0.666667  \n",
      "7             Green                   1.000                 0.666667  \n",
      "8            Orange                   0.500                 0.666667  \n",
      "                Sprint Period     Team Member Team Leader  \\\n",
      "13   Jan 1 2019 - Jan 15 2019  Khalid Jerkson   Vindi Lan   \n",
      "15   Jan 1 2019 - Jan 15 2019  Jonas Anderson   Vindi Lan   \n",
      "20  Jan 16 2019 - Jan 30 2019    Bharat Datra  Ben Fullen   \n",
      "30  Jan 16 2019 - Jan 30 2019  Khalid Jerkson   Vindi Lan   \n",
      "47  Jan 31 2019 - Feb 14 2019  Khalid Jerkson   Vindi Lan   \n",
      "\n",
      "   Tasks Difficulty Avg  Num Assigned Tasks  Num Completed Tasks  \\\n",
      "13                 Easy                   8                    5   \n",
      "15                 Easy                   9                    8   \n",
      "20                 Easy                  10                    9   \n",
      "30                 Easy                  10                    5   \n",
      "47                 Easy                   9                    8   \n",
      "\n",
      "   Performance Level  Tasks Completed Weight  Tasks Difficulty Weight  \n",
      "13            Orange                0.625000                 0.333333  \n",
      "15            Yellow                0.888889                 0.333333  \n",
      "20            Yellow                0.900000                 0.333333  \n",
      "30            Orange                0.500000                 0.333333  \n",
      "47            Yellow                0.888889                 0.333333  \n"
     ]
    }
   ],
   "source": [
    "print(team_performance[team_performance['Tasks Difficulty Avg']=='Difficult'].head())\n",
    "print(team_performance[team_performance['Tasks Difficulty Avg']=='Medium'].head())\n",
    "print(team_performance[team_performance['Tasks Difficulty Avg']=='Easy'].head())"
   ]
  },
  {
   "cell_type": "code",
   "execution_count": 12,
   "metadata": {},
   "outputs": [
    {
     "name": "stdout",
     "output_type": "stream",
     "text": [
      "              Sprint Period    Team Member Team Leader Tasks Difficulty Avg  \\\n",
      "0  Jan 1 2019 - Jan 15 2019   Janet Chaves  Ben Fullen               Medium   \n",
      "1  Jan 1 2019 - Jan 15 2019  Henry Swansen  Ben Fullen               Medium   \n",
      "2  Jan 1 2019 - Jan 15 2019          Yu Li  Ben Fullen            Difficult   \n",
      "3  Jan 1 2019 - Jan 15 2019   Bharat Datra  Ben Fullen            Difficult   \n",
      "4  Jan 1 2019 - Jan 15 2019     Ali Khalin  Ben Fullen               Medium   \n",
      "\n",
      "   Num Assigned Tasks  Num Completed Tasks Performance Level  \\\n",
      "0                   8                    8             Green   \n",
      "1                   8                    8             Green   \n",
      "2                   6                    6             Green   \n",
      "3                   6                    6             Green   \n",
      "4                   8                    7            Yellow   \n",
      "\n",
      "   Tasks Completed Weight  Tasks Difficulty Weight  Overall Score  \n",
      "0                   1.000                 0.666667       0.666667  \n",
      "1                   1.000                 0.666667       0.666667  \n",
      "2                   1.000                 1.000000       1.000000  \n",
      "3                   1.000                 1.000000       1.000000  \n",
      "4                   0.875                 0.666667       0.583333  \n"
     ]
    }
   ],
   "source": [
    "team_performance['Overall Score'] = team_performance['Tasks Completed Weight'] * team_performance['Tasks Difficulty Weight']\n",
    "print(team_performance.head())"
   ]
  },
  {
   "cell_type": "markdown",
   "metadata": {},
   "source": [
    "Check overall score makes sense with the given performance level. If so, this could be a useful feature indicative of the outcome."
   ]
  },
  {
   "cell_type": "code",
   "execution_count": 13,
   "metadata": {},
   "outputs": [
    {
     "data": {
      "image/png": "[encoded data removed]",
      "text/plain": [
       "<Figure size 432x288 with 1 Axes>"
      ]
     },
     "metadata": {
      "needs_background": "light"
     },
     "output_type": "display_data"
    }
   ],
   "source": [
    "# Plot overall score with performance level\n",
    "overall_score_plot = sns.boxplot(x='Performance Level', y='Overall Score', data=team_performance)\n",
    "plt.show()"
   ]
  },
  {
   "cell_type": "markdown",
   "metadata": {},
   "source": [
    "## Performance on a team level"
   ]
  },
  {
   "cell_type": "markdown",
   "metadata": {},
   "source": [
    "Check how people perform on a team level. \n",
    "\n",
    "Could certain red, green, organge or yellow outcomes be mostly attributed to certain teams or certain team leaders?"
   ]
  },
  {
   "cell_type": "code",
   "execution_count": 14,
   "metadata": {},
   "outputs": [
    {
     "data": {
      "image/png": "[encoded data removed]",
      "text/plain": [
       "<Figure size 432x288 with 1 Axes>"
      ]
     },
     "metadata": {
      "needs_background": "light"
     },
     "output_type": "display_data"
    }
   ],
   "source": [
    "# Plot team leader with performance level\n",
    "teams_plot = sns.countplot(x='Performance Level', hue='Team Leader', data=team_performance)\n",
    "plt.show()"
   ]
  },
  {
   "cell_type": "markdown",
   "metadata": {},
   "source": [
    "Notice how team counts look like there's a disproportion of workers.\n",
    "\n",
    "Could the red performing team be disadvantaged with much less people to get work done?"
   ]
  },
  {
   "cell_type": "code",
   "execution_count": 15,
   "metadata": {},
   "outputs": [
    {
     "name": "stdout",
     "output_type": "stream",
     "text": [
      "Team Leader\n",
      "Ben Fullen          8.0\n",
      "Raymond Freedman    3.0\n",
      "Vindi Lan           6.0\n",
      "dtype: float64\n"
     ]
    }
   ],
   "source": [
    "# Check how many team members belong to each team\n",
    "# leader by counting each team leader, taking into\n",
    "# account team leaders repeat across ea sprint period\n",
    "print(team_performance.groupby('Team Leader').size() / len(team_performance['Sprint Period'].unique()))"
   ]
  },
  {
   "cell_type": "markdown",
   "metadata": {},
   "source": [
    "Are these small group of red performing team members also disadvantaged with mostly difficult tasks?"
   ]
  },
  {
   "cell_type": "code",
   "execution_count": 16,
   "metadata": {},
   "outputs": [
    {
     "data": {
      "image/png": "[encoded data removed]",
      "text/plain": [
       "<Figure size 432x288 with 1 Axes>"
      ]
     },
     "metadata": {
      "needs_background": "light"
     },
     "output_type": "display_data"
    }
   ],
   "source": [
    "# Plot team leader with tasks difficulty\n",
    "tasks_difficulty_teams_plot = sns.countplot(x='Tasks Difficulty Avg', hue='Team Leader', data=team_performance)\n",
    "plt.show()"
   ]
  },
  {
   "cell_type": "markdown",
   "metadata": {},
   "source": [
    "## Create team size feature"
   ]
  },
  {
   "cell_type": "markdown",
   "metadata": {},
   "source": [
    "Create a feature that takes into account team size, which could lead to a certain outcome."
   ]
  },
  {
   "cell_type": "code",
   "execution_count": 17,
   "metadata": {},
   "outputs": [
    {
     "name": "stdout",
     "output_type": "stream",
     "text": [
      "3.0\n"
     ]
    }
   ],
   "source": [
    "print(sum(team_performance['Team Leader']=='Raymond Freedman') / len(team_performance['Sprint Period'].unique()) )"
   ]
  },
  {
   "cell_type": "code",
   "execution_count": 18,
   "metadata": {},
   "outputs": [],
   "source": [
    "team_performance['Team Size'] = np.where(team_performance['Team Leader']=='Raymond Freedman', \n",
    "                                         sum(team_performance['Team Leader']=='Raymond Freedman') / len(team_performance['Sprint Period'].unique()),\n",
    "                                    np.where(team_performance['Team Leader']=='Ben Fullen', \n",
    "                                             sum(team_performance['Team Leader']=='Ben Fullen') / len(team_performance['Sprint Period'].unique()),\n",
    "                                             sum(team_performance['Team Leader']=='Vindi Lan') / len(team_performance['Sprint Period'].unique()) \n",
    "                                            )\n",
    "                                        )"
   ]
  },
  {
   "cell_type": "code",
   "execution_count": 19,
   "metadata": {},
   "outputs": [
    {
     "name": "stdout",
     "output_type": "stream",
     "text": [
      "                Sprint Period   Team Member       Team Leader  \\\n",
      "8    Jan 1 2019 - Jan 15 2019      Lucy Yen  Raymond Freedman   \n",
      "9    Jan 1 2019 - Jan 15 2019  Marcus Jones  Raymond Freedman   \n",
      "10   Jan 1 2019 - Jan 15 2019   Luke Ballen  Raymond Freedman   \n",
      "25  Jan 16 2019 - Jan 30 2019      Lucy Yen  Raymond Freedman   \n",
      "26  Jan 16 2019 - Jan 30 2019  Marcus Jones  Raymond Freedman   \n",
      "\n",
      "   Tasks Difficulty Avg  Num Assigned Tasks  Num Completed Tasks  \\\n",
      "8                Medium                   8                    4   \n",
      "9             Difficult                   8                    1   \n",
      "10            Difficult                   8                    2   \n",
      "25            Difficult                   9                    2   \n",
      "26            Difficult                   9                    2   \n",
      "\n",
      "   Performance Level  Tasks Completed Weight  Tasks Difficulty Weight  \\\n",
      "8             Orange                0.500000                 0.666667   \n",
      "9                Red                0.125000                 1.000000   \n",
      "10               Red                0.250000                 1.000000   \n",
      "25               Red                0.222222                 1.000000   \n",
      "26               Red                0.222222                 1.000000   \n",
      "\n",
      "    Overall Score  Team Size  \n",
      "8        0.333333        3.0  \n",
      "9        0.125000        3.0  \n",
      "10       0.250000        3.0  \n",
      "25       0.222222        3.0  \n",
      "26       0.222222        3.0  \n",
      "              Sprint Period    Team Member Team Leader Tasks Difficulty Avg  \\\n",
      "0  Jan 1 2019 - Jan 15 2019   Janet Chaves  Ben Fullen               Medium   \n",
      "1  Jan 1 2019 - Jan 15 2019  Henry Swansen  Ben Fullen               Medium   \n",
      "2  Jan 1 2019 - Jan 15 2019          Yu Li  Ben Fullen            Difficult   \n",
      "3  Jan 1 2019 - Jan 15 2019   Bharat Datra  Ben Fullen            Difficult   \n",
      "4  Jan 1 2019 - Jan 15 2019     Ali Khalin  Ben Fullen               Medium   \n",
      "\n",
      "   Num Assigned Tasks  Num Completed Tasks Performance Level  \\\n",
      "0                   8                    8             Green   \n",
      "1                   8                    8             Green   \n",
      "2                   6                    6             Green   \n",
      "3                   6                    6             Green   \n",
      "4                   8                    7            Yellow   \n",
      "\n",
      "   Tasks Completed Weight  Tasks Difficulty Weight  Overall Score  Team Size  \n",
      "0                   1.000                 0.666667       0.666667        8.0  \n",
      "1                   1.000                 0.666667       0.666667        8.0  \n",
      "2                   1.000                 1.000000       1.000000        8.0  \n",
      "3                   1.000                 1.000000       1.000000        8.0  \n",
      "4                   0.875                 0.666667       0.583333        8.0  \n",
      "               Sprint Period     Team Member Team Leader Tasks Difficulty Avg  \\\n",
      "11  Jan 1 2019 - Jan 15 2019     Sithi Bavat   Vindi Lan               Medium   \n",
      "12  Jan 1 2019 - Jan 15 2019     Jenny Maree   Vindi Lan               Medium   \n",
      "13  Jan 1 2019 - Jan 15 2019  Khalid Jerkson   Vindi Lan                 Easy   \n",
      "14  Jan 1 2019 - Jan 15 2019       Palat Siv   Vindi Lan               Medium   \n",
      "15  Jan 1 2019 - Jan 15 2019  Jonas Anderson   Vindi Lan                 Easy   \n",
      "\n",
      "    Num Assigned Tasks  Num Completed Tasks Performance Level  \\\n",
      "11                   9                    9             Green   \n",
      "12                   9                    9             Green   \n",
      "13                   8                    5            Orange   \n",
      "14                   9                    9             Green   \n",
      "15                   9                    8            Yellow   \n",
      "\n",
      "    Tasks Completed Weight  Tasks Difficulty Weight  Overall Score  Team Size  \n",
      "11                1.000000                 0.666667       0.666667        6.0  \n",
      "12                1.000000                 0.666667       0.666667        6.0  \n",
      "13                0.625000                 0.333333       0.208333        6.0  \n",
      "14                1.000000                 0.666667       0.666667        6.0  \n",
      "15                0.888889                 0.333333       0.296296        6.0  \n"
     ]
    }
   ],
   "source": [
    "print(team_performance[team_performance['Team Leader']=='Raymond Freedman'].head())\n",
    "print(team_performance[team_performance['Team Leader']=='Ben Fullen'].head())\n",
    "print(team_performance[team_performance['Team Leader']=='Vindi Lan'].head())"
   ]
  },
  {
   "cell_type": "markdown",
   "metadata": {},
   "source": [
    "## Create a under/well resourced feature"
   ]
  },
  {
   "cell_type": "markdown",
   "metadata": {},
   "source": [
    "Create a feature that takes into account team size smaller than other teams, and where these disadvantaged people are also \n",
    "lumbered with the most difficult work. Both of these points could lead to a certain outcome."
   ]
  },
  {
   "cell_type": "code",
   "execution_count": 20,
   "metadata": {},
   "outputs": [
    {
     "name": "stdout",
     "output_type": "stream",
     "text": [
      "              Sprint Period    Team Member Team Leader Tasks Difficulty Avg  \\\n",
      "0  Jan 1 2019 - Jan 15 2019   Janet Chaves  Ben Fullen               Medium   \n",
      "1  Jan 1 2019 - Jan 15 2019  Henry Swansen  Ben Fullen               Medium   \n",
      "2  Jan 1 2019 - Jan 15 2019          Yu Li  Ben Fullen            Difficult   \n",
      "3  Jan 1 2019 - Jan 15 2019   Bharat Datra  Ben Fullen            Difficult   \n",
      "4  Jan 1 2019 - Jan 15 2019     Ali Khalin  Ben Fullen               Medium   \n",
      "\n",
      "   Num Assigned Tasks  Num Completed Tasks Performance Level  \\\n",
      "0                   8                    8             Green   \n",
      "1                   8                    8             Green   \n",
      "2                   6                    6             Green   \n",
      "3                   6                    6             Green   \n",
      "4                   8                    7            Yellow   \n",
      "\n",
      "   Tasks Completed Weight  Tasks Difficulty Weight  Overall Score  Team Size  \\\n",
      "0                   1.000                 0.666667       0.666667        8.0   \n",
      "1                   1.000                 0.666667       0.666667        8.0   \n",
      "2                   1.000                 1.000000       1.000000        8.0   \n",
      "3                   1.000                 1.000000       1.000000        8.0   \n",
      "4                   0.875                 0.666667       0.583333        8.0   \n",
      "\n",
      "        Resources  \n",
      "0  Well resourced  \n",
      "1  Well resourced  \n",
      "2  Well resourced  \n",
      "3  Well resourced  \n",
      "4  Well resourced  \n"
     ]
    }
   ],
   "source": [
    "team_performance['Resources'] = np.where((team_performance['Team Size']<6) & (team_performance['Tasks Difficulty Avg']=='Difficult'), \n",
    "                                         'Under resourced', \n",
    "                                         'Well resourced')\n",
    "print(team_performance.head())"
   ]
  },
  {
   "cell_type": "markdown",
   "metadata": {},
   "source": [
    "Check the resource level makes sense with leading to a certain outcome. If so, this could be a useful feature indicative of a certain outcome."
   ]
  },
  {
   "cell_type": "code",
   "execution_count": 21,
   "metadata": {},
   "outputs": [
    {
     "data": {
      "image/png": "[encoded data removed]",
      "text/plain": [
       "<Figure size 432x288 with 1 Axes>"
      ]
     },
     "metadata": {
      "needs_background": "light"
     },
     "output_type": "display_data"
    }
   ],
   "source": [
    "# Plot resources with performance level\n",
    "resources_plot = sns.countplot(x='Performance Level', hue='Resources', data=team_performance)\n",
    "plt.show()"
   ]
  },
  {
   "cell_type": "markdown",
   "metadata": {},
   "source": [
    "## Read online purchases data"
   ]
  },
  {
   "cell_type": "code",
   "execution_count": 22,
   "metadata": {},
   "outputs": [],
   "source": [
    "# Read in online_purchases data\n",
    "online_purchases = pd.read_csv('Datasets/online_purchases.csv')"
   ]
  },
  {
   "cell_type": "markdown",
   "metadata": {},
   "source": [
    "## Inspect online purchases data"
   ]
  },
  {
   "cell_type": "markdown",
   "metadata": {},
   "source": [
    "I'm interested in total amount purchased as the business outcome."
   ]
  },
  {
   "cell_type": "code",
   "execution_count": 23,
   "metadata": {},
   "outputs": [
    {
     "name": "stdout",
     "output_type": "stream",
     "text": [
      "     ip_location  num_visits_before_purchase  avg_mins_on_site  \\\n",
      "0         Austin                           3              13.4   \n",
      "1  Washington DC                          10              25.6   \n",
      "2   Brooklyn NYC                           6              16.2   \n",
      "3      Baltimore                           9              36.8   \n",
      "4         Dulles                          12              30.1   \n",
      "\n",
      "   total_usd_purhcase_amount  \n",
      "0                      99.99  \n",
      "1                       0.00  \n",
      "2                       5.99  \n",
      "3                       0.00  \n",
      "4                       0.00  \n"
     ]
    }
   ],
   "source": [
    "# Preview the data\n",
    "print(online_purchases.head())"
   ]
  },
  {
   "cell_type": "code",
   "execution_count": 24,
   "metadata": {},
   "outputs": [
    {
     "name": "stdout",
     "output_type": "stream",
     "text": [
      "ip_location                    object\n",
      "num_visits_before_purchase      int64\n",
      "avg_mins_on_site              float64\n",
      "total_usd_purhcase_amount     float64\n",
      "dtype: object\n"
     ]
    }
   ],
   "source": [
    "# Check data types of given features make sense\n",
    "print(online_purchases.dtypes)"
   ]
  },
  {
   "cell_type": "markdown",
   "metadata": {},
   "source": [
    "Check if online customers are mostly high purchasers or low or a wide range."
   ]
  },
  {
   "cell_type": "code",
   "execution_count": 25,
   "metadata": {},
   "outputs": [
    {
     "data": {
      "image/png": "[encoded data removed]",
      "text/plain": [
       "<Figure size 432x288 with 1 Axes>"
      ]
     },
     "metadata": {
      "needs_background": "light"
     },
     "output_type": "display_data"
    }
   ],
   "source": [
    "# Plot total purchase amount\n",
    "purchase_amount_plot = sns.boxplot(y='total_usd_purhcase_amount', data=online_purchases)\n",
    "plt.show()"
   ]
  },
  {
   "cell_type": "markdown",
   "metadata": {},
   "source": [
    "It would be interesting to find out if the outlier high purchasers could be mostly coming from a certain location."
   ]
  },
  {
   "cell_type": "code",
   "execution_count": 26,
   "metadata": {},
   "outputs": [
    {
     "data": {
      "image/png": "[encoded data removed]",
      "text/plain": [
       "<Figure size 432x288 with 1 Axes>"
      ]
     },
     "metadata": {
      "needs_background": "light"
     },
     "output_type": "display_data"
    }
   ],
   "source": [
    "# Plot location with total purchase amount\n",
    "purchaser_locations_plot = sns.boxplot(x='ip_location', y='total_usd_purhcase_amount', data=online_purchases)\n",
    "purchaser_locations_plot.set_xticklabels(purchaser_locations_plot.get_xticklabels(), rotation=90)\n",
    "plt.show()"
   ]
  },
  {
   "cell_type": "markdown",
   "metadata": {},
   "source": [
    "Check the relationship with other features.\n",
    "\n",
    "It would be interesting to see if there is a relationship between number of visits to the shopping cart page before purchase with the outcome, and average mins on site with the outcome."
   ]
  },
  {
   "cell_type": "code",
   "execution_count": 27,
   "metadata": {},
   "outputs": [
    {
     "data": {
      "image/png": "[encoded data removed]",
      "text/plain": [
       "<Figure size 432x288 with 1 Axes>"
      ]
     },
     "metadata": {
      "needs_background": "light"
     },
     "output_type": "display_data"
    },
    {
     "data": {
      "image/png": "[encoded data removed]",
      "text/plain": [
       "<Figure size 432x288 with 1 Axes>"
      ]
     },
     "metadata": {
      "needs_background": "light"
     },
     "output_type": "display_data"
    }
   ],
   "source": [
    "cart_visits_plot = sns.scatterplot(x='num_visits_before_purchase', y='total_usd_purhcase_amount', data=online_purchases)\n",
    "plt.show()\n",
    "\n",
    "avg_mins_plot = sns.scatterplot(x='avg_mins_on_site', y='total_usd_purhcase_amount', data=online_purchases)\n",
    "plt.show()"
   ]
  },
  {
   "cell_type": "markdown",
   "metadata": {},
   "source": [
    "<i>Note: \n",
    "When you do not have clear labels of numeric features to help guide you, you can visualize all relationships between numeric features at once using a scatterplot matrix.\n",
    "\n",
    "See if some features highly correlated with the outcome. Some features that highly correlate with each other could also be redundant features.\n",
    "\n",
    "See useless_labels_mtcars.csv as an example. \n",
    "</i>"
   ]
  },
  {
   "cell_type": "markdown",
   "metadata": {},
   "source": [
    "## Create customer value feature"
   ]
  },
  {
   "cell_type": "markdown",
   "metadata": {},
   "source": [
    "Create a feature that takes into account the Austin location and low number of visits to the cart, as these seem to lead to high purchases."
   ]
  },
  {
   "cell_type": "code",
   "execution_count": 28,
   "metadata": {},
   "outputs": [
    {
     "name": "stdout",
     "output_type": "stream",
     "text": [
      "     ip_location  num_visits_before_purchase  avg_mins_on_site  \\\n",
      "0         Austin                           3              13.4   \n",
      "1  Washington DC                          10              25.6   \n",
      "2   Brooklyn NYC                           6              16.2   \n",
      "3      Baltimore                           9              36.8   \n",
      "4         Dulles                          12              30.1   \n",
      "\n",
      "   total_usd_purhcase_amount customer_value  \n",
      "0                      99.99     High value  \n",
      "1                       0.00      Low value  \n",
      "2                       5.99      Low value  \n",
      "3                       0.00      Low value  \n",
      "4                       0.00      Low value  \n"
     ]
    }
   ],
   "source": [
    "online_purchases['customer_value'] = np.where((online_purchases['ip_location']=='Austin') & (online_purchases['num_visits_before_purchase']<=3), \n",
    "                                              'High value', \n",
    "                                              'Low value')\n",
    "print(online_purchases.head())"
   ]
  },
  {
   "cell_type": "code",
   "execution_count": 29,
   "metadata": {},
   "outputs": [
    {
     "data": {
      "image/png": "[encoded data removed]",
      "text/plain": [
       "<Figure size 432x288 with 1 Axes>"
      ]
     },
     "metadata": {
      "needs_background": "light"
     },
     "output_type": "display_data"
    }
   ],
   "source": [
    "high_purchases_plot = sns.boxplot(x='customer_value', y='total_usd_purhcase_amount', data=online_purchases)\n",
    "plt.show()"
   ]
  },
  {
   "cell_type": "markdown",
   "metadata": {},
   "source": [
    "When using clustering or regression, categorical level features need number representation that is not ordinal."
   ]
  },
  {
   "cell_type": "code",
   "execution_count": 30,
   "metadata": {},
   "outputs": [
    {
     "name": "stdout",
     "output_type": "stream",
     "text": [
      "   num_visits_before_purchase  avg_mins_on_site  total_usd_purhcase_amount  \\\n",
      "0                           3              13.4                      99.99   \n",
      "1                          10              25.6                       0.00   \n",
      "2                           6              16.2                       5.99   \n",
      "3                           9              36.8                       0.00   \n",
      "4                          12              30.1                       0.00   \n",
      "\n",
      "   customer_value_High value  customer_value_Low value  \n",
      "0                          1                         0  \n",
      "1                          0                         1  \n",
      "2                          0                         1  \n",
      "3                          0                         1  \n",
      "4                          0                         1  \n"
     ]
    }
   ],
   "source": [
    "# One-hot encode non-ordinal categorical features\n",
    "# Exclude location; too many one-hot features not\n",
    "# a good idea for clustering\n",
    "# Simplify locations by main areas, then one-hot encode\n",
    "online_purchases_onehot = pd.get_dummies(online_purchases.iloc[:,1:5])\n",
    "print(online_purchases_onehot.head())"
   ]
  },
  {
   "cell_type": "markdown",
   "metadata": {},
   "source": [
    "Techniques that rely on distances need a meaningful measure for distances on a scale.\n",
    "\n",
    "Scale/normalize data to a scale of 0-1. Min-max scaling is a common way to do this. Minimum feature value is 0 through to max value 1."
   ]
  },
  {
   "cell_type": "code",
   "execution_count": 31,
   "metadata": {},
   "outputs": [],
   "source": [
    "# The min-max scale function - how to scale data into 0-1"
   ]
  },
  {
   "cell_type": "code",
   "execution_count": 32,
   "metadata": {},
   "outputs": [
    {
     "name": "stdout",
     "output_type": "stream",
     "text": [
      "   num_visits_before_purchase  avg_mins_on_site  total_usd_purhcase_amount\n",
      "0                    0.142857          0.203857                   0.714265\n",
      "1                    0.642857          0.539945                   0.000000\n",
      "2                    0.357143          0.280992                   0.042789\n",
      "3                    0.571429          0.848485                   0.000000\n",
      "4                    0.785714          0.663912                   0.000000\n"
     ]
    }
   ],
   "source": [
    "def scale(dataset):\n",
    "    dataset = (dataset-dataset.min())/(dataset.max()-dataset.min())\n",
    "    return dataset\n",
    "\n",
    "online_purchases_scaled = scale(online_purchases.iloc[:,1:4])\n",
    "\n",
    "print(online_purchases_scaled.head())"
   ]
  },
  {
   "cell_type": "markdown",
   "metadata": {},
   "source": [
    "## Read web sessions data"
   ]
  },
  {
   "cell_type": "code",
   "execution_count": 33,
   "metadata": {},
   "outputs": [],
   "source": [
    "# Read in Google_Analytics_Sessions_on_Austintexas.gov data\n",
    "webpg_sessions = pd.read_csv('Datasets/Google_Analytics_Sessions_on_Austintexas.gov.csv')"
   ]
  },
  {
   "cell_type": "markdown",
   "metadata": {},
   "source": [
    "## Inspect web sessions data"
   ]
  },
  {
   "cell_type": "code",
   "execution_count": 34,
   "metadata": {},
   "outputs": [
    {
     "name": "stdout",
     "output_type": "stream",
     "text": [
      "Date        object\n",
      "Sessions     int64\n",
      "dtype: object\n",
      "Date        datetime64[ns]\n",
      "Sessions             int64\n",
      "dtype: object\n"
     ]
    }
   ],
   "source": [
    "# Check data type of given time-based observations and datetime make sense\n",
    "print(webpg_sessions.dtypes)\n",
    "# Fix datetime to be treated as a date\n",
    "webpg_sessions['Date'] = pd.to_datetime(webpg_sessions['Date'])\n",
    "print(webpg_sessions.dtypes)"
   ]
  },
  {
   "cell_type": "markdown",
   "metadata": {},
   "source": [
    "Read in the data as a time series and plot the observations over time to check for potential trend, seasonality, cyclic pattern, or no obvious trend."
   ]
  },
  {
   "cell_type": "code",
   "execution_count": 35,
   "metadata": {},
   "outputs": [
    {
     "data": {
      "image/png": "[encoded data removed]",
      "text/plain": [
       "<Figure size 432x288 with 1 Axes>"
      ]
     },
     "metadata": {
      "needs_background": "light"
     },
     "output_type": "display_data"
    }
   ],
   "source": [
    "# Plot the time series data\n",
    "webpg_sessions_ts = webpg_sessions.set_index('Date')\n",
    "plt.plot(webpg_sessions_ts)\n",
    "plt.show()"
   ]
  },
  {
   "cell_type": "markdown",
   "metadata": {},
   "source": [
    "Notice how the pattern is difficult to read and interpret"
   ]
  },
  {
   "cell_type": "markdown",
   "metadata": {},
   "source": [
    "## Create monthly average time series"
   ]
  },
  {
   "cell_type": "markdown",
   "metadata": {},
   "source": [
    "Daily observations are difficult to read. \n",
    "\n",
    "The business is okay with estimating a monthly average. Extreme high values will also be smoothed over with an average. This could make the underlying pattern more visible."
   ]
  },
  {
   "cell_type": "code",
   "execution_count": 36,
   "metadata": {},
   "outputs": [
    {
     "name": "stdout",
     "output_type": "stream",
     "text": [
      "                Sessions\n",
      "Date                    \n",
      "2012-01-31  18882.000000\n",
      "2012-02-29  23300.586207\n",
      "2012-03-31  20704.032258\n",
      "2012-04-30  22171.833333\n",
      "2012-05-31  22330.677419\n"
     ]
    }
   ],
   "source": [
    "webpg_sessions_monthly = webpg_sessions.groupby(pd.Grouper(key='Date', freq='1M')).mean()\n",
    "print(webpg_sessions_monthly.head())"
   ]
  },
  {
   "cell_type": "markdown",
   "metadata": {},
   "source": [
    "Plot the monthly observations over time to check for potential trend, seasonality, cyclic pattern, or no obvious trend."
   ]
  },
  {
   "cell_type": "code",
   "execution_count": 37,
   "metadata": {},
   "outputs": [
    {
     "data": {
      "image/png": "[encoded data removed]",
      "text/plain": [
       "<Figure size 432x288 with 1 Axes>"
      ]
     },
     "metadata": {
      "needs_background": "light"
     },
     "output_type": "display_data"
    }
   ],
   "source": [
    "plt.plot(webpg_sessions_monthly)\n",
    "plt.show()"
   ]
  },
  {
   "cell_type": "markdown",
   "metadata": {},
   "source": [
    "## Create day and month categories from datetime"
   ]
  },
  {
   "cell_type": "markdown",
   "metadata": {},
   "source": [
    "In regression, datetime might need to be extracted into column features of month and day.\n",
    "\n",
    "It would be interesting to see if there are certain days and/or months where web sessions tend to spike?"
   ]
  },
  {
   "cell_type": "code",
   "execution_count": 38,
   "metadata": {},
   "outputs": [
    {
     "name": "stdout",
     "output_type": "stream",
     "text": [
      "        Date  Sessions  Month        Day\n",
      "0 2019-03-31     68335      3     Sunday\n",
      "1 2019-03-30     60763      3   Saturday\n",
      "2 2019-03-29    113197      3     Friday\n",
      "3 2019-03-28    133210      3   Thursday\n",
      "4 2019-03-27    134408      3  Wednesday\n"
     ]
    }
   ],
   "source": [
    "webpg_sessions['Month'] = webpg_sessions['Date'].dt.month\n",
    "webpg_sessions['Day'] = webpg_sessions['Date'].dt.day_name()\n",
    "print(webpg_sessions.head())"
   ]
  },
  {
   "cell_type": "code",
   "execution_count": 39,
   "metadata": {},
   "outputs": [
    {
     "name": "stdout",
     "output_type": "stream",
     "text": [
      "Date        datetime64[ns]\n",
      "Sessions             int64\n",
      "Month             category\n",
      "Day               category\n",
      "dtype: object\n"
     ]
    }
   ],
   "source": [
    "webpg_sessions['Month'] = pd.Categorical(webpg_sessions.Month)\n",
    "webpg_sessions['Day'] = pd.Categorical(webpg_sessions.Day)\n",
    "print(webpg_sessions.dtypes)"
   ]
  },
  {
   "cell_type": "code",
   "execution_count": 40,
   "metadata": {},
   "outputs": [
    {
     "data": {
      "image/png": "[encoded data removed]",
      "text/plain": [
       "<Figure size 432x288 with 1 Axes>"
      ]
     },
     "metadata": {
      "needs_background": "light"
     },
     "output_type": "display_data"
    }
   ],
   "source": [
    "month_sessions = sns.boxplot(x='Month', y='Sessions', data=webpg_sessions)\n",
    "plt.show()"
   ]
  },
  {
   "cell_type": "code",
   "execution_count": 41,
   "metadata": {},
   "outputs": [
    {
     "data": {
      "image/png": "[encoded data removed]",
      "text/plain": [
       "<Figure size 432x288 with 1 Axes>"
      ]
     },
     "metadata": {
      "needs_background": "light"
     },
     "output_type": "display_data"
    }
   ],
   "source": [
    "day_sessions = sns.boxplot(x='Day', y='Sessions', data=webpg_sessions,order=['Saturday','Sunday','Monday','Tuesday','Wednesday','Thursday','Friday'])\n",
    "day_sessions.set_xticklabels(day_sessions.get_xticklabels(), rotation=90)\n",
    "plt.show()"
   ]
  },
  {
   "cell_type": "code",
   "execution_count": null,
   "metadata": {},
   "outputs": [],
   "source": []
  }
 ],
 "metadata": {
  "kernelspec": {
   "display_name": "Python 3",
   "language": "python",
   "name": "python3"
  },
  "language_info": {
   "codemirror_mode": {
    "name": "ipython",
    "version": 3
   },
   "file_extension": ".py",
   "mimetype": "text/x-python",
   "name": "python",
   "nbconvert_exporter": "python",
   "pygments_lexer": "ipython3",
   "version": "3.6.7"
  }
 },
 "nbformat": 4,
 "nbformat_minor": 2
}
