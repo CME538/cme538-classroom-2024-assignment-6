{
 "cells": [
  {
   "cell_type": "markdown",
   "metadata": {},
   "source": [
    "# CME538 - Introduction to Data Science\n",
    "## Lecture 9.3 - Feature Selection and Hyper-Parameter Tuning"
   ]
  },
  {
   "cell_type": "markdown",
   "metadata": {},
   "source": [
    "## Setup Notebook"
   ]
  },
  {
   "cell_type": "code",
   "execution_count": 1,
   "metadata": {},
   "outputs": [],
   "source": [
    "import numpy as np\n",
    "import pandas as pd\n",
    "import seaborn as sns\n",
    "import matplotlib.pyplot as plt\n",
    "\n",
    "# Configure Notebook\n",
    "%matplotlib inline\n",
    "plt.style.use('fivethirtyeight')\n",
    "sns.set_context(\"notebook\")\n",
    "import warnings\n",
    "warnings.filterwarnings('ignore')"
   ]
  },
  {
   "cell_type": "code",
   "execution_count": 46,
   "metadata": {},
   "outputs": [],
   "source": [
    "n_rows = 100\n",
    "n_features = 5000\n",
    "X = pd.DataFrame(np.random.uniform(low=0, \n",
    "                                   high=10, \n",
    "                                   size=(n_rows, n_features)))\n",
    "y = pd.DataFrame(np.array([np.random.rand() > .5 \n",
    "                           for _ in range(n_rows)]).astype(int)) "
   ]
  },
  {
   "cell_type": "code",
   "execution_count": 47,
   "metadata": {},
   "outputs": [
    {
     "data": {
      "text/html": [
       "<div>\n",
       "<style scoped>\n",
       "    .dataframe tbody tr th:only-of-type {\n",
       "        vertical-align: middle;\n",
       "    }\n",
       "\n",
       "    .dataframe tbody tr th {\n",
       "        vertical-align: top;\n",
       "    }\n",
       "\n",
       "    .dataframe thead th {\n",
       "        text-align: right;\n",
       "    }\n",
       "</style>\n",
       "<table border=\"1\" class=\"dataframe\">\n",
       "  <thead>\n",
       "    <tr style=\"text-align: right;\">\n",
       "      <th></th>\n",
       "      <th>0</th>\n",
       "      <th>1</th>\n",
       "      <th>2</th>\n",
       "      <th>3</th>\n",
       "      <th>4</th>\n",
       "      <th>5</th>\n",
       "      <th>6</th>\n",
       "      <th>7</th>\n",
       "      <th>8</th>\n",
       "      <th>9</th>\n",
       "      <th>...</th>\n",
       "      <th>4990</th>\n",
       "      <th>4991</th>\n",
       "      <th>4992</th>\n",
       "      <th>4993</th>\n",
       "      <th>4994</th>\n",
       "      <th>4995</th>\n",
       "      <th>4996</th>\n",
       "      <th>4997</th>\n",
       "      <th>4998</th>\n",
       "      <th>4999</th>\n",
       "    </tr>\n",
       "  </thead>\n",
       "  <tbody>\n",
       "    <tr>\n",
       "      <th>0</th>\n",
       "      <td>4.685346</td>\n",
       "      <td>4.621338</td>\n",
       "      <td>0.421401</td>\n",
       "      <td>8.220299</td>\n",
       "      <td>7.170496</td>\n",
       "      <td>3.831672</td>\n",
       "      <td>0.274757</td>\n",
       "      <td>6.277240</td>\n",
       "      <td>9.585150</td>\n",
       "      <td>7.820659</td>\n",
       "      <td>...</td>\n",
       "      <td>9.233566</td>\n",
       "      <td>6.461299</td>\n",
       "      <td>4.642871</td>\n",
       "      <td>4.375170</td>\n",
       "      <td>1.437501</td>\n",
       "      <td>6.770450</td>\n",
       "      <td>5.706096</td>\n",
       "      <td>2.998815</td>\n",
       "      <td>9.863649</td>\n",
       "      <td>6.426377</td>\n",
       "    </tr>\n",
       "    <tr>\n",
       "      <th>1</th>\n",
       "      <td>4.873630</td>\n",
       "      <td>1.367966</td>\n",
       "      <td>3.281150</td>\n",
       "      <td>5.496731</td>\n",
       "      <td>5.710099</td>\n",
       "      <td>3.171971</td>\n",
       "      <td>0.595500</td>\n",
       "      <td>3.795774</td>\n",
       "      <td>3.326330</td>\n",
       "      <td>4.874029</td>\n",
       "      <td>...</td>\n",
       "      <td>2.705768</td>\n",
       "      <td>2.944610</td>\n",
       "      <td>6.664836</td>\n",
       "      <td>9.986188</td>\n",
       "      <td>6.151102</td>\n",
       "      <td>2.252349</td>\n",
       "      <td>2.676394</td>\n",
       "      <td>3.455338</td>\n",
       "      <td>7.086854</td>\n",
       "      <td>4.904004</td>\n",
       "    </tr>\n",
       "    <tr>\n",
       "      <th>2</th>\n",
       "      <td>9.561681</td>\n",
       "      <td>0.846882</td>\n",
       "      <td>7.453997</td>\n",
       "      <td>0.623928</td>\n",
       "      <td>1.204593</td>\n",
       "      <td>5.151973</td>\n",
       "      <td>0.087356</td>\n",
       "      <td>7.042019</td>\n",
       "      <td>4.175005</td>\n",
       "      <td>2.495240</td>\n",
       "      <td>...</td>\n",
       "      <td>1.622548</td>\n",
       "      <td>2.847801</td>\n",
       "      <td>5.158267</td>\n",
       "      <td>2.873063</td>\n",
       "      <td>7.017836</td>\n",
       "      <td>7.866978</td>\n",
       "      <td>3.770479</td>\n",
       "      <td>9.344670</td>\n",
       "      <td>6.123987</td>\n",
       "      <td>6.830487</td>\n",
       "    </tr>\n",
       "    <tr>\n",
       "      <th>3</th>\n",
       "      <td>4.601852</td>\n",
       "      <td>5.222871</td>\n",
       "      <td>0.106468</td>\n",
       "      <td>8.830091</td>\n",
       "      <td>2.126838</td>\n",
       "      <td>6.914440</td>\n",
       "      <td>3.331835</td>\n",
       "      <td>8.692605</td>\n",
       "      <td>6.750796</td>\n",
       "      <td>0.912625</td>\n",
       "      <td>...</td>\n",
       "      <td>3.900523</td>\n",
       "      <td>4.696055</td>\n",
       "      <td>6.736360</td>\n",
       "      <td>8.467704</td>\n",
       "      <td>3.214503</td>\n",
       "      <td>0.729818</td>\n",
       "      <td>9.402131</td>\n",
       "      <td>0.511188</td>\n",
       "      <td>1.932622</td>\n",
       "      <td>5.136917</td>\n",
       "    </tr>\n",
       "    <tr>\n",
       "      <th>4</th>\n",
       "      <td>3.959263</td>\n",
       "      <td>6.515789</td>\n",
       "      <td>3.701864</td>\n",
       "      <td>5.011036</td>\n",
       "      <td>6.079014</td>\n",
       "      <td>9.290182</td>\n",
       "      <td>6.750210</td>\n",
       "      <td>3.564404</td>\n",
       "      <td>2.019154</td>\n",
       "      <td>0.695808</td>\n",
       "      <td>...</td>\n",
       "      <td>8.969227</td>\n",
       "      <td>7.975564</td>\n",
       "      <td>0.591235</td>\n",
       "      <td>4.857502</td>\n",
       "      <td>5.660168</td>\n",
       "      <td>5.819351</td>\n",
       "      <td>6.421546</td>\n",
       "      <td>3.864785</td>\n",
       "      <td>4.388814</td>\n",
       "      <td>1.537731</td>\n",
       "    </tr>\n",
       "  </tbody>\n",
       "</table>\n",
       "<p>5 rows × 5000 columns</p>\n",
       "</div>"
      ],
      "text/plain": [
       "       0         1         2         3         4         5         6     \\\n",
       "0  4.685346  4.621338  0.421401  8.220299  7.170496  3.831672  0.274757   \n",
       "1  4.873630  1.367966  3.281150  5.496731  5.710099  3.171971  0.595500   \n",
       "2  9.561681  0.846882  7.453997  0.623928  1.204593  5.151973  0.087356   \n",
       "3  4.601852  5.222871  0.106468  8.830091  2.126838  6.914440  3.331835   \n",
       "4  3.959263  6.515789  3.701864  5.011036  6.079014  9.290182  6.750210   \n",
       "\n",
       "       7         8         9     ...      4990      4991      4992      4993  \\\n",
       "0  6.277240  9.585150  7.820659  ...  9.233566  6.461299  4.642871  4.375170   \n",
       "1  3.795774  3.326330  4.874029  ...  2.705768  2.944610  6.664836  9.986188   \n",
       "2  7.042019  4.175005  2.495240  ...  1.622548  2.847801  5.158267  2.873063   \n",
       "3  8.692605  6.750796  0.912625  ...  3.900523  4.696055  6.736360  8.467704   \n",
       "4  3.564404  2.019154  0.695808  ...  8.969227  7.975564  0.591235  4.857502   \n",
       "\n",
       "       4994      4995      4996      4997      4998      4999  \n",
       "0  1.437501  6.770450  5.706096  2.998815  9.863649  6.426377  \n",
       "1  6.151102  2.252349  2.676394  3.455338  7.086854  4.904004  \n",
       "2  7.017836  7.866978  3.770479  9.344670  6.123987  6.830487  \n",
       "3  3.214503  0.729818  9.402131  0.511188  1.932622  5.136917  \n",
       "4  5.660168  5.819351  6.421546  3.864785  4.388814  1.537731  \n",
       "\n",
       "[5 rows x 5000 columns]"
      ]
     },
     "execution_count": 47,
     "metadata": {},
     "output_type": "execute_result"
    }
   ],
   "source": [
    "X.head()    "
   ]
  },
  {
   "cell_type": "code",
   "execution_count": 48,
   "metadata": {},
   "outputs": [
    {
     "data": {
      "text/html": [
       "<div>\n",
       "<style scoped>\n",
       "    .dataframe tbody tr th:only-of-type {\n",
       "        vertical-align: middle;\n",
       "    }\n",
       "\n",
       "    .dataframe tbody tr th {\n",
       "        vertical-align: top;\n",
       "    }\n",
       "\n",
       "    .dataframe thead th {\n",
       "        text-align: right;\n",
       "    }\n",
       "</style>\n",
       "<table border=\"1\" class=\"dataframe\">\n",
       "  <thead>\n",
       "    <tr style=\"text-align: right;\">\n",
       "      <th></th>\n",
       "      <th>0</th>\n",
       "    </tr>\n",
       "  </thead>\n",
       "  <tbody>\n",
       "    <tr>\n",
       "      <th>0</th>\n",
       "      <td>1</td>\n",
       "    </tr>\n",
       "    <tr>\n",
       "      <th>1</th>\n",
       "      <td>1</td>\n",
       "    </tr>\n",
       "    <tr>\n",
       "      <th>2</th>\n",
       "      <td>1</td>\n",
       "    </tr>\n",
       "    <tr>\n",
       "      <th>3</th>\n",
       "      <td>0</td>\n",
       "    </tr>\n",
       "    <tr>\n",
       "      <th>4</th>\n",
       "      <td>1</td>\n",
       "    </tr>\n",
       "  </tbody>\n",
       "</table>\n",
       "</div>"
      ],
      "text/plain": [
       "   0\n",
       "0  1\n",
       "1  1\n",
       "2  1\n",
       "3  0\n",
       "4  1"
      ]
     },
     "execution_count": 48,
     "metadata": {},
     "output_type": "execute_result"
    }
   ],
   "source": [
    "y.head()"
   ]
  },
  {
   "cell_type": "markdown",
   "metadata": {},
   "source": [
    "# Feature Selection Outside CV Loop"
   ]
  },
  {
   "cell_type": "code",
   "execution_count": 5,
   "metadata": {},
   "outputs": [],
   "source": [
    "from sklearn.model_selection import KFold\n",
    "from sklearn.metrics import accuracy_score\n",
    "from sklearn.linear_model import LogisticRegression\n",
    "from sklearn.feature_selection import SelectKBest, chi2\n",
    "\n",
    "# Select the 5 best features from X, y\n",
    "X_new = SelectKBest(chi2, k=2).fit_transform(X, y)\n",
    "X_new = pd.DataFrame(X_new)\n",
    "\n",
    "# Setup\n",
    "model = LogisticRegression(penalty='none')\n",
    "five_fold = KFold(n_splits=5, random_state=0)\n",
    "accuracy_scores = []\n",
    "\n",
    "# Iterature thought cv-folds\n",
    "for train_index, val_index in five_fold.split(X_new):\n",
    "    \n",
    "    # Fit model\n",
    "    model.fit(X_new.iloc[train_index, :], \n",
    "              y.iloc[train_index])\n",
    "\n",
    "    # Append accuracy scores\n",
    "    accuracy_scores.append(\n",
    "        accuracy_score(y.iloc[val_index], \n",
    "                       model.predict(X_new.iloc[val_index, :])))"
   ]
  },
  {
   "cell_type": "code",
   "execution_count": 6,
   "metadata": {},
   "outputs": [
    {
     "data": {
      "image/png": "[encoded data removed]",
      "text/plain": [
       "<Figure size 432x288 with 1 Axes>"
      ]
     },
     "metadata": {},
     "output_type": "display_data"
    }
   ],
   "source": [
    "labels = ['Fold 1', 'Fold 2', 'Fold 3', 'Fold 4', 'Fold 5']\n",
    "\n",
    "x = np.arange(len(labels))  # the label locations\n",
    "width = 0.35  # the width of the bars\n",
    "\n",
    "fig, ax = plt.subplots()\n",
    "ax.bar(x, accuracy_scores, width)\n",
    "ax.plot([x[0]-width/2, x[-1]+width/2], [np.mean(accuracy_scores), np.mean(accuracy_scores)], lw=4, color='#fc4f30', label='Mean Accuracy\\n{}'.format(np.mean(accuracy_scores)))\n",
    "ax.set_ylabel('Accuracy', fontsize=16)\n",
    "ax.set_ylim([0, 1.])\n",
    "ax.set_title('Accuracy for each cross-validation fold', fontsize=14)\n",
    "ax.set_xticks(x)\n",
    "ax.set_xticklabels(labels, fontsize=14)\n",
    "ax.legend(frameon=False);"
   ]
  },
  {
   "cell_type": "markdown",
   "metadata": {},
   "source": [
    "# Feature Selection Inside CV Loop"
   ]
  },
  {
   "cell_type": "code",
   "execution_count": 7,
   "metadata": {},
   "outputs": [
    {
     "name": "stdout",
     "output_type": "stream",
     "text": [
      "Selected features: [1237, 4382]\n",
      "Selected features: [937, 2311]\n",
      "Selected features: [3384, 4112]\n",
      "Selected features: [4382, 4578]\n",
      "Selected features: [674, 4055]\n"
     ]
    }
   ],
   "source": [
    "from sklearn.model_selection import KFold\n",
    "from sklearn.metrics import accuracy_score\n",
    "from sklearn.linear_model import LogisticRegression\n",
    "from sklearn.feature_selection import SelectKBest, chi2\n",
    "\n",
    "# Setup\n",
    "model = LogisticRegression(penalty='none')\n",
    "five_fold = KFold(n_splits=5, random_state=0)\n",
    "accuracy_scores = []\n",
    "\n",
    "# Iterature thought cv-folds\n",
    "for train_index, val_index in five_fold.split(X_new):\n",
    "    \n",
    "    # Select the 5 best features from X, y\n",
    "    select = SelectKBest(chi2, k=2).fit(X.iloc[train_index, :], \n",
    "                                        y.iloc[train_index])\n",
    "    \n",
    "    # Create reduced Feature set\n",
    "    X_new = X.loc[:, select.get_support()]\n",
    "    print('Selected features: {}'.format(X_new.columns.tolist()))\n",
    "\n",
    "    # Fit model\n",
    "    model.fit(X_new.iloc[train_index, :], \n",
    "              y.iloc[train_index])\n",
    "\n",
    "    # Append accuracy scores\n",
    "    accuracy_scores.append(\n",
    "        accuracy_score(y.iloc[val_index], \n",
    "                       model.predict(X_new.iloc[val_index, :])))"
   ]
  },
  {
   "cell_type": "code",
   "execution_count": 8,
   "metadata": {},
   "outputs": [
    {
     "data": {
      "image/png": "[encoded data removed]",
      "text/plain": [
       "<Figure size 432x288 with 1 Axes>"
      ]
     },
     "metadata": {},
     "output_type": "display_data"
    }
   ],
   "source": [
    "labels = ['Fold 1', 'Fold 2', 'Fold 3', 'Fold 4', 'Fold 5']\n",
    "\n",
    "x = np.arange(len(labels))  # the label locations\n",
    "width = 0.35  # the width of the bars\n",
    "\n",
    "fig, ax = plt.subplots()\n",
    "ax.bar(x, accuracy_scores, width)\n",
    "ax.plot([x[0]-width/2, x[-1]+width/2], [np.mean(accuracy_scores), np.mean(accuracy_scores)], lw=4, color='#fc4f30', label='Mean Accuracy\\n{}'.format(np.mean(accuracy_scores)))\n",
    "ax.set_ylabel('Accuracy', fontsize=16)\n",
    "ax.set_ylim([0, 1.])\n",
    "ax.set_title('Accuracy for each cross-validation fold', fontsize=14)\n",
    "ax.set_xticks(x)\n",
    "ax.set_xticklabels(labels, fontsize=14)\n",
    "ax.legend(frameon=False);"
   ]
  },
  {
   "cell_type": "markdown",
   "metadata": {},
   "source": [
    "# Diabetes Dataset"
   ]
  },
  {
   "cell_type": "code",
   "execution_count": 36,
   "metadata": {
    "scrolled": true
   },
   "outputs": [
    {
     "data": {
      "text/html": [
       "<div>\n",
       "<style scoped>\n",
       "    .dataframe tbody tr th:only-of-type {\n",
       "        vertical-align: middle;\n",
       "    }\n",
       "\n",
       "    .dataframe tbody tr th {\n",
       "        vertical-align: top;\n",
       "    }\n",
       "\n",
       "    .dataframe thead th {\n",
       "        text-align: right;\n",
       "    }\n",
       "</style>\n",
       "<table border=\"1\" class=\"dataframe\">\n",
       "  <thead>\n",
       "    <tr style=\"text-align: right;\">\n",
       "      <th></th>\n",
       "      <th>Pregnancies</th>\n",
       "      <th>Glucose</th>\n",
       "      <th>BloodPressure</th>\n",
       "      <th>SkinThickness</th>\n",
       "      <th>Insulin</th>\n",
       "      <th>BMI</th>\n",
       "      <th>Age</th>\n",
       "      <th>Outcome</th>\n",
       "    </tr>\n",
       "  </thead>\n",
       "  <tbody>\n",
       "    <tr>\n",
       "      <th>0</th>\n",
       "      <td>6</td>\n",
       "      <td>148</td>\n",
       "      <td>72</td>\n",
       "      <td>35</td>\n",
       "      <td>0</td>\n",
       "      <td>33.6</td>\n",
       "      <td>50</td>\n",
       "      <td>1</td>\n",
       "    </tr>\n",
       "    <tr>\n",
       "      <th>1</th>\n",
       "      <td>1</td>\n",
       "      <td>85</td>\n",
       "      <td>66</td>\n",
       "      <td>29</td>\n",
       "      <td>0</td>\n",
       "      <td>26.6</td>\n",
       "      <td>31</td>\n",
       "      <td>0</td>\n",
       "    </tr>\n",
       "    <tr>\n",
       "      <th>2</th>\n",
       "      <td>8</td>\n",
       "      <td>183</td>\n",
       "      <td>64</td>\n",
       "      <td>0</td>\n",
       "      <td>0</td>\n",
       "      <td>23.3</td>\n",
       "      <td>32</td>\n",
       "      <td>1</td>\n",
       "    </tr>\n",
       "    <tr>\n",
       "      <th>3</th>\n",
       "      <td>1</td>\n",
       "      <td>89</td>\n",
       "      <td>66</td>\n",
       "      <td>23</td>\n",
       "      <td>94</td>\n",
       "      <td>28.1</td>\n",
       "      <td>21</td>\n",
       "      <td>0</td>\n",
       "    </tr>\n",
       "    <tr>\n",
       "      <th>4</th>\n",
       "      <td>0</td>\n",
       "      <td>137</td>\n",
       "      <td>40</td>\n",
       "      <td>35</td>\n",
       "      <td>168</td>\n",
       "      <td>43.1</td>\n",
       "      <td>33</td>\n",
       "      <td>1</td>\n",
       "    </tr>\n",
       "  </tbody>\n",
       "</table>\n",
       "</div>"
      ],
      "text/plain": [
       "   Pregnancies  Glucose  BloodPressure  SkinThickness  Insulin   BMI  Age  \\\n",
       "0            6      148             72             35        0  33.6   50   \n",
       "1            1       85             66             29        0  26.6   31   \n",
       "2            8      183             64              0        0  23.3   32   \n",
       "3            1       89             66             23       94  28.1   21   \n",
       "4            0      137             40             35      168  43.1   33   \n",
       "\n",
       "   Outcome  \n",
       "0        1  \n",
       "1        0  \n",
       "2        1  \n",
       "3        0  \n",
       "4        1  "
      ]
     },
     "execution_count": 36,
     "metadata": {},
     "output_type": "execute_result"
    }
   ],
   "source": [
    "diabetes = pd.read_csv('diabetes.csv')\n",
    "diabetes = diabetes.drop(['DiabetesPedigreeFunction'], axis=1)\n",
    "diabetes.head()"
   ]
  },
  {
   "cell_type": "code",
   "execution_count": 37,
   "metadata": {},
   "outputs": [],
   "source": [
    "X = diabetes.iloc[:, 0:7]\n",
    "y = diabetes.iloc[:, 7]"
   ]
  },
  {
   "cell_type": "markdown",
   "metadata": {},
   "source": [
    "## Feature Selection Inside CV Loop"
   ]
  },
  {
   "cell_type": "code",
   "execution_count": 38,
   "metadata": {},
   "outputs": [
    {
     "name": "stdout",
     "output_type": "stream",
     "text": [
      "Selected features: ['Pregnancies', 'Glucose', 'Insulin', 'Age']\n",
      "Selected features: ['Glucose', 'Insulin', 'BMI', 'Age']\n",
      "Selected features: ['Glucose', 'Insulin', 'BMI', 'Age']\n",
      "Selected features: ['Glucose', 'Insulin', 'BMI', 'Age']\n",
      "Selected features: ['Glucose', 'Insulin', 'BMI', 'Age']\n"
     ]
    }
   ],
   "source": [
    "# Setup\n",
    "model = LogisticRegression(penalty='none')\n",
    "five_fold = KFold(n_splits=5, random_state=0)\n",
    "accuracy_scores = []\n",
    "\n",
    "# Iterature thought cv-folds\n",
    "for train_index, val_index in five_fold.split(X_new):\n",
    "    \n",
    "    # Select the 5 best features from X, y\n",
    "    select = SelectKBest(chi2, k=4).fit(X.iloc[train_index, :], \n",
    "                                        y.iloc[train_index])\n",
    "    \n",
    "    # Create reduced Feature set\n",
    "    X_new = X.loc[:, select.get_support()]\n",
    "    print('Selected features: {}'.format(X_new.columns.tolist()))\n",
    "\n",
    "    # Fit model\n",
    "    model.fit(X_new.iloc[train_index, :], \n",
    "              y.iloc[train_index])\n",
    "\n",
    "    # Append accuracy scores\n",
    "    accuracy_scores.append(\n",
    "        accuracy_score(y.iloc[val_index], \n",
    "                       model.predict(X_new.iloc[val_index, :])))"
   ]
  },
  {
   "cell_type": "code",
   "execution_count": 39,
   "metadata": {},
   "outputs": [
    {
     "data": {
      "image/png": "[encoded data removed]",
      "text/plain": [
       "<Figure size 432x288 with 1 Axes>"
      ]
     },
     "metadata": {},
     "output_type": "display_data"
    }
   ],
   "source": [
    "labels = ['Fold 1', 'Fold 2', 'Fold 3', 'Fold 4', 'Fold 5']\n",
    "\n",
    "x = np.arange(len(labels))  # the label locations\n",
    "width = 0.35  # the width of the bars\n",
    "\n",
    "fig, ax = plt.subplots()\n",
    "ax.bar(x, accuracy_scores, width)\n",
    "ax.plot([x[0]-width/2, x[-1]+width/2], [np.mean(accuracy_scores), np.mean(accuracy_scores)], lw=4, color='#fc4f30', label='Mean Accuracy\\n{}'.format(np.mean(accuracy_scores)))\n",
    "ax.set_ylabel('Accuracy', fontsize=16)\n",
    "ax.set_ylim([0, 1.])\n",
    "ax.set_title('Accuracy for each cross-validation fold', fontsize=14)\n",
    "ax.set_xticks(x)\n",
    "ax.set_xticklabels(labels, fontsize=14)\n",
    "ax.legend(frameon=False);"
   ]
  },
  {
   "cell_type": "markdown",
   "metadata": {},
   "source": [
    "## Feature Selection Outside CV Loop"
   ]
  },
  {
   "cell_type": "code",
   "execution_count": 57,
   "metadata": {},
   "outputs": [],
   "source": [
    "# Select the 5 best features from X, y\n",
    "X_new = SelectKBest(chi2, k=2).fit_transform(X, y)\n",
    "X_new = pd.DataFrame(X_new)\n",
    "\n",
    "# Setup\n",
    "model = LogisticRegression(penalty='none')\n",
    "five_fold = KFold(n_splits=5, random_state=0)\n",
    "accuracy_scores = []\n",
    "\n",
    "# Iterature thought cv-folds\n",
    "for train_index, val_index in five_fold.split(X_new):\n",
    "    \n",
    "    # Fit model\n",
    "    model.fit(X_new.iloc[train_index, :], \n",
    "              y.iloc[train_index])\n",
    "\n",
    "    # Append accuracy scores\n",
    "    accuracy_scores.append(\n",
    "        accuracy_score(y.iloc[val_index], \n",
    "                       model.predict(X_new.iloc[val_index, :])))"
   ]
  },
  {
   "cell_type": "code",
   "execution_count": 58,
   "metadata": {},
   "outputs": [
    {
     "data": {
      "image/png": "[encoded data removed]",
      "text/plain": [
       "<Figure size 432x288 with 1 Axes>"
      ]
     },
     "metadata": {},
     "output_type": "display_data"
    }
   ],
   "source": [
    "labels = ['Fold 1', 'Fold 2', 'Fold 3', 'Fold 4', 'Fold 5']\n",
    "\n",
    "x = np.arange(len(labels))  # the label locations\n",
    "width = 0.35  # the width of the bars\n",
    "\n",
    "fig, ax = plt.subplots()\n",
    "ax.bar(x, accuracy_scores, width)\n",
    "ax.plot([x[0]-width/2, x[-1]+width/2], [np.mean(accuracy_scores), np.mean(accuracy_scores)], lw=4, color='#fc4f30', label='Mean Accuracy\\n{}'.format(np.mean(accuracy_scores)))\n",
    "ax.set_ylabel('Accuracy', fontsize=16)\n",
    "ax.set_ylim([0, 1.])\n",
    "ax.set_title('Accuracy for each cross-validation fold', fontsize=14)\n",
    "ax.set_xticks(x)\n",
    "ax.set_xticklabels(labels, fontsize=14)\n",
    "ax.legend(frameon=False);"
   ]
  },
  {
   "cell_type": "code",
   "execution_count": 60,
   "metadata": {},
   "outputs": [
    {
     "name": "stdout",
     "output_type": "stream",
     "text": [
      "{'C': 1.0, 'class_weight': None, 'dual': False, 'fit_intercept': True, 'intercept_scaling': 1, 'l1_ratio': None, 'max_iter': 100, 'multi_class': 'auto', 'n_jobs': None, 'penalty': 'none', 'random_state': None, 'solver': 'lbfgs', 'tol': 0.0001, 'verbose': 0, 'warm_start': False}\n"
     ]
    }
   ],
   "source": [
    "print(model.get_params())"
   ]
  },
  {
   "cell_type": "code",
   "execution_count": 61,
   "metadata": {},
   "outputs": [
    {
     "name": "stdout",
     "output_type": "stream",
     "text": [
      "[[-0.28241143  0.21456956]]\n"
     ]
    }
   ],
   "source": [
    "print(model.coef_)"
   ]
  },
  {
   "cell_type": "code",
   "execution_count": 63,
   "metadata": {},
   "outputs": [
    {
     "name": "stdout",
     "output_type": "stream",
     "text": [
      "[0.14600557]\n"
     ]
    }
   ],
   "source": [
    "print(model.intercept_)"
   ]
  },
  {
   "cell_type": "markdown",
   "metadata": {},
   "source": [
    "# Hyper-Parameters"
   ]
  },
  {
   "cell_type": "code",
   "execution_count": 64,
   "metadata": {},
   "outputs": [
    {
     "name": "stdout",
     "output_type": "stream",
     "text": [
      "{'C': 1.0, 'class_weight': None, 'dual': False, 'fit_intercept': True, 'intercept_scaling': 1, 'l1_ratio': None, 'max_iter': 100, 'multi_class': 'auto', 'n_jobs': None, 'penalty': 'l2', 'random_state': None, 'solver': 'lbfgs', 'tol': 0.0001, 'verbose': 0, 'warm_start': False}\n"
     ]
    }
   ],
   "source": [
    "from sklearn.linear_model import LogisticRegression\n",
    "\n",
    "model = LogisticRegression()\n",
    "\n",
    "print(model.get_params())"
   ]
  },
  {
   "cell_type": "code",
   "execution_count": 65,
   "metadata": {},
   "outputs": [
    {
     "name": "stdout",
     "output_type": "stream",
     "text": [
      "{'bootstrap': True, 'ccp_alpha': 0.0, 'class_weight': None, 'criterion': 'gini', 'max_depth': None, 'max_features': 'auto', 'max_leaf_nodes': None, 'max_samples': None, 'min_impurity_decrease': 0.0, 'min_impurity_split': None, 'min_samples_leaf': 1, 'min_samples_split': 2, 'min_weight_fraction_leaf': 0.0, 'n_estimators': 100, 'n_jobs': None, 'oob_score': False, 'random_state': None, 'verbose': 0, 'warm_start': False}\n"
     ]
    }
   ],
   "source": [
    "from sklearn.ensemble import RandomForestClassifier\n",
    "\n",
    "model = RandomForestClassifier()\n",
    "\n",
    "print(model.get_params())"
   ]
  },
  {
   "cell_type": "code",
   "execution_count": 67,
   "metadata": {},
   "outputs": [
    {
     "data": {
      "text/html": [
       "<div>\n",
       "<style scoped>\n",
       "    .dataframe tbody tr th:only-of-type {\n",
       "        vertical-align: middle;\n",
       "    }\n",
       "\n",
       "    .dataframe tbody tr th {\n",
       "        vertical-align: top;\n",
       "    }\n",
       "\n",
       "    .dataframe thead th {\n",
       "        text-align: right;\n",
       "    }\n",
       "</style>\n",
       "<table border=\"1\" class=\"dataframe\">\n",
       "  <thead>\n",
       "    <tr style=\"text-align: right;\">\n",
       "      <th></th>\n",
       "      <th>Pregnancies</th>\n",
       "      <th>Glucose</th>\n",
       "      <th>BloodPressure</th>\n",
       "      <th>SkinThickness</th>\n",
       "      <th>Insulin</th>\n",
       "      <th>BMI</th>\n",
       "      <th>Age</th>\n",
       "      <th>Outcome</th>\n",
       "    </tr>\n",
       "  </thead>\n",
       "  <tbody>\n",
       "    <tr>\n",
       "      <th>0</th>\n",
       "      <td>6</td>\n",
       "      <td>148</td>\n",
       "      <td>72</td>\n",
       "      <td>35</td>\n",
       "      <td>0</td>\n",
       "      <td>33.6</td>\n",
       "      <td>50</td>\n",
       "      <td>1</td>\n",
       "    </tr>\n",
       "    <tr>\n",
       "      <th>1</th>\n",
       "      <td>1</td>\n",
       "      <td>85</td>\n",
       "      <td>66</td>\n",
       "      <td>29</td>\n",
       "      <td>0</td>\n",
       "      <td>26.6</td>\n",
       "      <td>31</td>\n",
       "      <td>0</td>\n",
       "    </tr>\n",
       "    <tr>\n",
       "      <th>2</th>\n",
       "      <td>8</td>\n",
       "      <td>183</td>\n",
       "      <td>64</td>\n",
       "      <td>0</td>\n",
       "      <td>0</td>\n",
       "      <td>23.3</td>\n",
       "      <td>32</td>\n",
       "      <td>1</td>\n",
       "    </tr>\n",
       "    <tr>\n",
       "      <th>3</th>\n",
       "      <td>1</td>\n",
       "      <td>89</td>\n",
       "      <td>66</td>\n",
       "      <td>23</td>\n",
       "      <td>94</td>\n",
       "      <td>28.1</td>\n",
       "      <td>21</td>\n",
       "      <td>0</td>\n",
       "    </tr>\n",
       "    <tr>\n",
       "      <th>4</th>\n",
       "      <td>0</td>\n",
       "      <td>137</td>\n",
       "      <td>40</td>\n",
       "      <td>35</td>\n",
       "      <td>168</td>\n",
       "      <td>43.1</td>\n",
       "      <td>33</td>\n",
       "      <td>1</td>\n",
       "    </tr>\n",
       "  </tbody>\n",
       "</table>\n",
       "</div>"
      ],
      "text/plain": [
       "   Pregnancies  Glucose  BloodPressure  SkinThickness  Insulin   BMI  Age  \\\n",
       "0            6      148             72             35        0  33.6   50   \n",
       "1            1       85             66             29        0  26.6   31   \n",
       "2            8      183             64              0        0  23.3   32   \n",
       "3            1       89             66             23       94  28.1   21   \n",
       "4            0      137             40             35      168  43.1   33   \n",
       "\n",
       "   Outcome  \n",
       "0        1  \n",
       "1        0  \n",
       "2        1  \n",
       "3        0  \n",
       "4        1  "
      ]
     },
     "execution_count": 67,
     "metadata": {},
     "output_type": "execute_result"
    }
   ],
   "source": [
    "diabetes = pd.read_csv('diabetes.csv')\n",
    "diabetes = diabetes.drop(['DiabetesPedigreeFunction'], axis=1)\n",
    "diabetes.head()"
   ]
  },
  {
   "cell_type": "code",
   "execution_count": 70,
   "metadata": {},
   "outputs": [
    {
     "data": {
      "text/html": [
       "<div>\n",
       "<style scoped>\n",
       "    .dataframe tbody tr th:only-of-type {\n",
       "        vertical-align: middle;\n",
       "    }\n",
       "\n",
       "    .dataframe tbody tr th {\n",
       "        vertical-align: top;\n",
       "    }\n",
       "\n",
       "    .dataframe thead th {\n",
       "        text-align: right;\n",
       "    }\n",
       "</style>\n",
       "<table border=\"1\" class=\"dataframe\">\n",
       "  <thead>\n",
       "    <tr style=\"text-align: right;\">\n",
       "      <th></th>\n",
       "      <th>Glucose</th>\n",
       "      <th>Insulin</th>\n",
       "      <th>BMI</th>\n",
       "    </tr>\n",
       "  </thead>\n",
       "  <tbody>\n",
       "    <tr>\n",
       "      <th>0</th>\n",
       "      <td>148</td>\n",
       "      <td>0</td>\n",
       "      <td>33.6</td>\n",
       "    </tr>\n",
       "    <tr>\n",
       "      <th>1</th>\n",
       "      <td>85</td>\n",
       "      <td>0</td>\n",
       "      <td>26.6</td>\n",
       "    </tr>\n",
       "    <tr>\n",
       "      <th>2</th>\n",
       "      <td>183</td>\n",
       "      <td>0</td>\n",
       "      <td>23.3</td>\n",
       "    </tr>\n",
       "    <tr>\n",
       "      <th>3</th>\n",
       "      <td>89</td>\n",
       "      <td>94</td>\n",
       "      <td>28.1</td>\n",
       "    </tr>\n",
       "    <tr>\n",
       "      <th>4</th>\n",
       "      <td>137</td>\n",
       "      <td>168</td>\n",
       "      <td>43.1</td>\n",
       "    </tr>\n",
       "  </tbody>\n",
       "</table>\n",
       "</div>"
      ],
      "text/plain": [
       "   Glucose  Insulin   BMI\n",
       "0      148        0  33.6\n",
       "1       85        0  26.6\n",
       "2      183        0  23.3\n",
       "3       89       94  28.1\n",
       "4      137      168  43.1"
      ]
     },
     "execution_count": 70,
     "metadata": {},
     "output_type": "execute_result"
    }
   ],
   "source": [
    "X = diabetes[['Glucose', 'Insulin', 'BMI']]\n",
    "X.head()"
   ]
  },
  {
   "cell_type": "code",
   "execution_count": 72,
   "metadata": {},
   "outputs": [
    {
     "data": {
      "text/html": [
       "<div>\n",
       "<style scoped>\n",
       "    .dataframe tbody tr th:only-of-type {\n",
       "        vertical-align: middle;\n",
       "    }\n",
       "\n",
       "    .dataframe tbody tr th {\n",
       "        vertical-align: top;\n",
       "    }\n",
       "\n",
       "    .dataframe thead th {\n",
       "        text-align: right;\n",
       "    }\n",
       "</style>\n",
       "<table border=\"1\" class=\"dataframe\">\n",
       "  <thead>\n",
       "    <tr style=\"text-align: right;\">\n",
       "      <th></th>\n",
       "      <th>Outcome</th>\n",
       "    </tr>\n",
       "  </thead>\n",
       "  <tbody>\n",
       "    <tr>\n",
       "      <th>0</th>\n",
       "      <td>1</td>\n",
       "    </tr>\n",
       "    <tr>\n",
       "      <th>1</th>\n",
       "      <td>0</td>\n",
       "    </tr>\n",
       "    <tr>\n",
       "      <th>2</th>\n",
       "      <td>1</td>\n",
       "    </tr>\n",
       "    <tr>\n",
       "      <th>3</th>\n",
       "      <td>0</td>\n",
       "    </tr>\n",
       "    <tr>\n",
       "      <th>4</th>\n",
       "      <td>1</td>\n",
       "    </tr>\n",
       "  </tbody>\n",
       "</table>\n",
       "</div>"
      ],
      "text/plain": [
       "   Outcome\n",
       "0        1\n",
       "1        0\n",
       "2        1\n",
       "3        0\n",
       "4        1"
      ]
     },
     "execution_count": 72,
     "metadata": {},
     "output_type": "execute_result"
    }
   ],
   "source": [
    "y = diabetes[['Outcome']]\n",
    "y.head()"
   ]
  },
  {
   "cell_type": "code",
   "execution_count": 133,
   "metadata": {},
   "outputs": [
    {
     "data": {
      "text/plain": [
       "GridSearchCV(cv=KFold(n_splits=5, random_state=None, shuffle=False),\n",
       "             estimator=LogisticRegression(),\n",
       "             param_grid={'C': (0.001, 0.01, 0.1, 1, 10, 100),\n",
       "                         'class_weight': (None, 'balanced'),\n",
       "                         'fit_intercept': (True, False),\n",
       "                         'penalty': ('l1', 'l2', 'none')},\n",
       "             scoring='accuracy')"
      ]
     },
     "execution_count": 133,
     "metadata": {},
     "output_type": "execute_result"
    }
   ],
   "source": [
    "from sklearn.model_selection import GridSearchCV\n",
    "\n",
    "model = LogisticRegression()\n",
    "\n",
    "cv = KFold(n_splits=5)\n",
    "\n",
    "param_grid = {'penalty': ('l1', 'l2', 'none'),\n",
    "              'fit_intercept': (True, False),\n",
    "              'C' : (0.001, 0.01, 0.1, 1, 10, 100), \n",
    "              'class_weight': (None, 'balanced')}\n",
    "\n",
    "gs = GridSearchCV(estimator=model, \n",
    "                  param_grid=param_grid, \n",
    "                  scoring='accuracy',\n",
    "                  cv=cv)\n",
    "gs.fit(X, y)"
   ]
  },
  {
   "cell_type": "code",
   "execution_count": 134,
   "metadata": {},
   "outputs": [
    {
     "data": {
      "image/png": "[encoded data removed]",
      "text/plain": [
       "<Figure size 432x288 with 1 Axes>"
      ]
     },
     "metadata": {},
     "output_type": "display_data"
    }
   ],
   "source": [
    "df = pd.DataFrame(gs.cv_results_).sort_values('mean_test_score', \n",
    "                                               ascending=False).reset_index(drop=True)\n",
    "ax = sns.barplot(x=df.index, y='mean_test_score', data=df, color='#008fd5')\n",
    "ax.axes.xaxis.set_ticklabels([])\n",
    "plt.tick_params(bottom=False)\n",
    "ax.set_xlabel('Grid Search ID', fontsize=14)\n",
    "ax.set_ylabel('CV Accuracy', fontsize=14)\n",
    "ax.set_xlim([0, 47]);"
   ]
  },
  {
   "cell_type": "code",
   "execution_count": 135,
   "metadata": {},
   "outputs": [
    {
     "data": {
      "text/plain": [
       "(72, 17)"
      ]
     },
     "execution_count": 135,
     "metadata": {},
     "output_type": "execute_result"
    }
   ],
   "source": [
    "df.shape"
   ]
  },
  {
   "cell_type": "code",
   "execution_count": 168,
   "metadata": {},
   "outputs": [
    {
     "data": {
      "text/plain": [
       "RandomizedSearchCV(cv=KFold(n_splits=5, random_state=None, shuffle=False),\n",
       "                   estimator=LogisticRegression(), n_iter=72,\n",
       "                   param_distributions={'C': <scipy.stats._distn_infrastructure.rv_frozen object at 0x0000029AA2CCFB50>,\n",
       "                                        'class_weight': (None, 'balanced'),\n",
       "                                        'fit_intercept': (True, False),\n",
       "                                        'penalty': ('l1', 'l2', 'none')},\n",
       "                   scoring='accuracy')"
      ]
     },
     "execution_count": 168,
     "metadata": {},
     "output_type": "execute_result"
    }
   ],
   "source": [
    "from sklearn.utils.fixes import loguniform\n",
    "from sklearn.model_selection import RandomizedSearchCV\n",
    "\n",
    "model = LogisticRegression()\n",
    "\n",
    "cv = KFold(n_splits=5)\n",
    "\n",
    "param_distributions = {'penalty': ('l1', 'l2', 'none'),\n",
    "                       'fit_intercept': (True, False),\n",
    "                       'C' : loguniform(1e-3, 1e2), \n",
    "                       'class_weight': (None, 'balanced')}\n",
    "\n",
    "gs = RandomizedSearchCV(estimator=model, \n",
    "                        param_distributions=param_distributions, \n",
    "                        n_iter=72,\n",
    "                        scoring='accuracy',\n",
    "                        cv=cv)\n",
    "gs.fit(X, y)"
   ]
  },
  {
   "cell_type": "code",
   "execution_count": 169,
   "metadata": {},
   "outputs": [
    {
     "data": {
      "image/png": "[encoded data removed]",
      "text/plain": [
       "<Figure size 432x288 with 1 Axes>"
      ]
     },
     "metadata": {},
     "output_type": "display_data"
    }
   ],
   "source": [
    "df = pd.DataFrame(gs.cv_results_).sort_values('mean_test_score', \n",
    "                                               ascending=False).reset_index(drop=True)\n",
    "ax = sns.barplot(x=df.index, y='mean_test_score', data=df, color='#008fd5')\n",
    "ax.axes.xaxis.set_ticklabels([])\n",
    "plt.tick_params(bottom=False)\n",
    "ax.set_xlabel('Grid Search ID', fontsize=14)\n",
    "ax.set_ylabel('CV Accuracy', fontsize=14)\n",
    "ax.set_xlim([0, 47]);"
   ]
  },
  {
   "cell_type": "code",
   "execution_count": 171,
   "metadata": {},
   "outputs": [
    {
     "data": {
      "text/html": [
       "<div>\n",
       "<style scoped>\n",
       "    .dataframe tbody tr th:only-of-type {\n",
       "        vertical-align: middle;\n",
       "    }\n",
       "\n",
       "    .dataframe tbody tr th {\n",
       "        vertical-align: top;\n",
       "    }\n",
       "\n",
       "    .dataframe thead th {\n",
       "        text-align: right;\n",
       "    }\n",
       "</style>\n",
       "<table border=\"1\" class=\"dataframe\">\n",
       "  <thead>\n",
       "    <tr style=\"text-align: right;\">\n",
       "      <th></th>\n",
       "      <th>mean_fit_time</th>\n",
       "      <th>std_fit_time</th>\n",
       "      <th>mean_score_time</th>\n",
       "      <th>std_score_time</th>\n",
       "      <th>param_C</th>\n",
       "      <th>param_class_weight</th>\n",
       "      <th>param_fit_intercept</th>\n",
       "      <th>param_penalty</th>\n",
       "      <th>params</th>\n",
       "      <th>split0_test_score</th>\n",
       "      <th>split1_test_score</th>\n",
       "      <th>split2_test_score</th>\n",
       "      <th>split3_test_score</th>\n",
       "      <th>split4_test_score</th>\n",
       "      <th>mean_test_score</th>\n",
       "      <th>std_test_score</th>\n",
       "      <th>rank_test_score</th>\n",
       "    </tr>\n",
       "  </thead>\n",
       "  <tbody>\n",
       "    <tr>\n",
       "      <th>45</th>\n",
       "      <td>0.006383</td>\n",
       "      <td>0.000811</td>\n",
       "      <td>0.001596</td>\n",
       "      <td>0.000489</td>\n",
       "      <td>12.1613</td>\n",
       "      <td>balanced</td>\n",
       "      <td>False</td>\n",
       "      <td>l2</td>\n",
       "      <td>{'C': 12.161291163406654, 'class_weight': 'bal...</td>\n",
       "      <td>0.487013</td>\n",
       "      <td>0.538961</td>\n",
       "      <td>0.506494</td>\n",
       "      <td>0.490196</td>\n",
       "      <td>0.45098</td>\n",
       "      <td>0.494729</td>\n",
       "      <td>0.028597</td>\n",
       "      <td>38</td>\n",
       "    </tr>\n",
       "    <tr>\n",
       "      <th>46</th>\n",
       "      <td>0.008979</td>\n",
       "      <td>0.001780</td>\n",
       "      <td>0.002596</td>\n",
       "      <td>0.000480</td>\n",
       "      <td>0.153582</td>\n",
       "      <td>balanced</td>\n",
       "      <td>False</td>\n",
       "      <td>l2</td>\n",
       "      <td>{'C': 0.15358174126746088, 'class_weight': 'ba...</td>\n",
       "      <td>0.487013</td>\n",
       "      <td>0.538961</td>\n",
       "      <td>0.506494</td>\n",
       "      <td>0.490196</td>\n",
       "      <td>0.45098</td>\n",
       "      <td>0.494729</td>\n",
       "      <td>0.028597</td>\n",
       "      <td>38</td>\n",
       "    </tr>\n",
       "    <tr>\n",
       "      <th>47</th>\n",
       "      <td>0.000791</td>\n",
       "      <td>0.000396</td>\n",
       "      <td>0.000000</td>\n",
       "      <td>0.000000</td>\n",
       "      <td>33.5844</td>\n",
       "      <td>None</td>\n",
       "      <td>False</td>\n",
       "      <td>l1</td>\n",
       "      <td>{'C': 33.58444996043326, 'class_weight': None,...</td>\n",
       "      <td>NaN</td>\n",
       "      <td>NaN</td>\n",
       "      <td>NaN</td>\n",
       "      <td>NaN</td>\n",
       "      <td>NaN</td>\n",
       "      <td>NaN</td>\n",
       "      <td>NaN</td>\n",
       "      <td>55</td>\n",
       "    </tr>\n",
       "    <tr>\n",
       "      <th>48</th>\n",
       "      <td>0.000798</td>\n",
       "      <td>0.000746</td>\n",
       "      <td>0.000000</td>\n",
       "      <td>0.000000</td>\n",
       "      <td>0.00843731</td>\n",
       "      <td>balanced</td>\n",
       "      <td>True</td>\n",
       "      <td>l1</td>\n",
       "      <td>{'C': 0.00843731253968914, 'class_weight': 'ba...</td>\n",
       "      <td>NaN</td>\n",
       "      <td>NaN</td>\n",
       "      <td>NaN</td>\n",
       "      <td>NaN</td>\n",
       "      <td>NaN</td>\n",
       "      <td>NaN</td>\n",
       "      <td>NaN</td>\n",
       "      <td>57</td>\n",
       "    </tr>\n",
       "    <tr>\n",
       "      <th>49</th>\n",
       "      <td>0.000598</td>\n",
       "      <td>0.000488</td>\n",
       "      <td>0.000000</td>\n",
       "      <td>0.000000</td>\n",
       "      <td>0.00857619</td>\n",
       "      <td>None</td>\n",
       "      <td>False</td>\n",
       "      <td>l1</td>\n",
       "      <td>{'C': 0.00857618882438179, 'class_weight': Non...</td>\n",
       "      <td>NaN</td>\n",
       "      <td>NaN</td>\n",
       "      <td>NaN</td>\n",
       "      <td>NaN</td>\n",
       "      <td>NaN</td>\n",
       "      <td>NaN</td>\n",
       "      <td>NaN</td>\n",
       "      <td>58</td>\n",
       "    </tr>\n",
       "  </tbody>\n",
       "</table>\n",
       "</div>"
      ],
      "text/plain": [
       "    mean_fit_time  std_fit_time  mean_score_time  std_score_time     param_C  \\\n",
       "45       0.006383      0.000811         0.001596        0.000489     12.1613   \n",
       "46       0.008979      0.001780         0.002596        0.000480    0.153582   \n",
       "47       0.000791      0.000396         0.000000        0.000000     33.5844   \n",
       "48       0.000798      0.000746         0.000000        0.000000  0.00843731   \n",
       "49       0.000598      0.000488         0.000000        0.000000  0.00857619   \n",
       "\n",
       "   param_class_weight param_fit_intercept param_penalty  \\\n",
       "45           balanced               False            l2   \n",
       "46           balanced               False            l2   \n",
       "47               None               False            l1   \n",
       "48           balanced                True            l1   \n",
       "49               None               False            l1   \n",
       "\n",
       "                                               params  split0_test_score  \\\n",
       "45  {'C': 12.161291163406654, 'class_weight': 'bal...           0.487013   \n",
       "46  {'C': 0.15358174126746088, 'class_weight': 'ba...           0.487013   \n",
       "47  {'C': 33.58444996043326, 'class_weight': None,...                NaN   \n",
       "48  {'C': 0.00843731253968914, 'class_weight': 'ba...                NaN   \n",
       "49  {'C': 0.00857618882438179, 'class_weight': Non...                NaN   \n",
       "\n",
       "    split1_test_score  split2_test_score  split3_test_score  \\\n",
       "45           0.538961           0.506494           0.490196   \n",
       "46           0.538961           0.506494           0.490196   \n",
       "47                NaN                NaN                NaN   \n",
       "48                NaN                NaN                NaN   \n",
       "49                NaN                NaN                NaN   \n",
       "\n",
       "    split4_test_score  mean_test_score  std_test_score  rank_test_score  \n",
       "45            0.45098         0.494729        0.028597               38  \n",
       "46            0.45098         0.494729        0.028597               38  \n",
       "47                NaN              NaN             NaN               55  \n",
       "48                NaN              NaN             NaN               57  \n",
       "49                NaN              NaN             NaN               58  "
      ]
     },
     "execution_count": 171,
     "metadata": {},
     "output_type": "execute_result"
    }
   ],
   "source": [
    "df.iloc[45:50]"
   ]
  },
  {
   "cell_type": "code",
   "execution_count": 141,
   "metadata": {},
   "outputs": [
    {
     "data": {
      "text/plain": [
       "(30, 17)"
      ]
     },
     "execution_count": 141,
     "metadata": {},
     "output_type": "execute_result"
    }
   ],
   "source": [
    "df.shape"
   ]
  }
 ],
 "metadata": {
  "kernelspec": {
   "display_name": "Python 3 (ipykernel)",
   "language": "python",
   "name": "python3"
  },
  "language_info": {
   "codemirror_mode": {
    "name": "ipython",
    "version": 3
   },
   "file_extension": ".py",
   "mimetype": "text/x-python",
   "name": "python",
   "nbconvert_exporter": "python",
   "pygments_lexer": "ipython3",
   "version": "3.9.7"
  }
 },
 "nbformat": 4,
 "nbformat_minor": 4
}
