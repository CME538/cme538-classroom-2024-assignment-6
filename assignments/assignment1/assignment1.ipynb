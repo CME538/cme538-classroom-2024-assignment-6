{
 "cells": [
  {
   "cell_type": "markdown",
   "metadata": {},
   "source": [
    "# CME538 - Introduction to Data Science\n",
    "## Assignment 1 - Pandas"
   ]
  },
  {
   "cell_type": "markdown",
   "metadata": {},
   "source": [
    "### Learning Objectives\n",
    "After completing this assignment, you should be comfortable:\n",
    "\n",
    "- Reading delimited text data into Pandas.\n",
    "- Exploring a DataFrame using Pandas functions (grouby, filter, sort, index, etc.).\n",
    "\n",
    "You are welcome to add additional cells to use as scratch pads, but please move them before submission. Only include your final answer in the cell provided.\n",
    "\n",
    "### Marking Breakdown\n",
    "\n",
    "Question | Points\n",
    ":-- | :--\n",
    "Question 1a | 1\n",
    "Question 1b | 1\n",
    "Question 1c | 1\n",
    "Question 1d | 1\n",
    "Question 1e | 1\n",
    "Question 1f | 1\n",
    "Question 1g | 1\n",
    "Question 1h | 1\n",
    "Question 1i | 1\n",
    "Question 1j | 1\n",
    "Question 2a | 1\n",
    "Question 2b | 1\n",
    "Question 2c | 1\n",
    "Question 2d | 1\n",
    "Question 2e | 1\n",
    "Question 2f | 1\n",
    "**Total** | **16**\n",
    "\n",
    "One of the following marks below will be added to the **Total** above.\n",
    "\n",
    "### Code Quality\n",
    "\n",
    "| Rank | Points | Description |\n",
    "| :-- | :-- | :-- |\n",
    "| Youngling | 1 | Code is unorganized, variables names are not descriptive, redundant, memory-intensive, computationally-intensive, uncommented, error-prone, difficult to understand. |\n",
    "| Padawan | 2 | Code is organized, variables names are descriptive, satisfactory utilization of memory and computational resources, satisfactory commenting, readable. |\n",
    "| Jedi | 3 | Code is organized, easy to understand, efficient, clean, a pleasure to read. #cleancode |"
   ]
  },
  {
   "cell_type": "markdown",
   "metadata": {},
   "source": [
    "## Setup Notebook"
   ]
  },
  {
   "cell_type": "code",
   "execution_count": null,
   "metadata": {},
   "outputs": [],
   "source": [
    "# Import 3rd party libraries\n",
    "import pandas as pd"
   ]
  },
  {
   "cell_type": "markdown",
   "metadata": {},
   "source": [
    "## Question 1\n",
    "For this question, we will be using the [SF Salaries](https://www.kaggle.com/kaggle/sf-salaries) dataset from Kaggle. This data contains the names, job title, and compensation for San Francisco city employees on an annual basis from 2011 to 2014.\n",
    "\n",
    "### Question 1a: \n",
    "Use Pandas to import `SF_Salaries.csv` into a DataFrame object and assign the DataFrame to a new variable called `sf_salaries`."
   ]
  },
  {
   "cell_type": "code",
   "execution_count": null,
   "metadata": {},
   "outputs": [],
   "source": [
    "# Write your code here. \n",
    "sf_salaries = ...\n",
    "\n",
    "# View DataFrame\n",
    "sf_salaries.head()"
   ]
  },
  {
   "cell_type": "markdown",
   "metadata": {},
   "source": [
    "### Question 1b:\n",
    "Using `.info()`, please report: \n",
    "- The number of rows.\n",
    "- The number of columns.\n",
    "- What are the unique data types in the DataFrame.\n",
    "\n",
    "**Answer code here:**"
   ]
  },
  {
   "cell_type": "code",
   "execution_count": null,
   "metadata": {},
   "outputs": [],
   "source": [
    "# Write your code here.\n",
    "..."
   ]
  },
  {
   "cell_type": "markdown",
   "metadata": {},
   "source": [
    "**Answer Text Here:** (Marks will be assigned based on what is printed below.)\n",
    "- Number of enties = ...\n",
    "- Number of columns = ...\n",
    "- Unique datatypes = ..."
   ]
  },
  {
   "cell_type": "markdown",
   "metadata": {},
   "source": [
    "### Question 1c:\n",
    "What is the minimum, maximum and mean BasePay in the dataset? Set the variables `base_pay_min`, `base_pay_max`, and `base_pay_mean` to these values.\n",
    "\n",
    "**Answer code here:**"
   ]
  },
  {
   "cell_type": "code",
   "execution_count": null,
   "metadata": {},
   "outputs": [],
   "source": [
    "# Write your code here.\n",
    "base_pay_min = ...\n",
    "base_pay_max = ...\n",
    "base_pay_mean = ...\n",
    "\n",
    "# Print answers\n",
    "print('Min base pay: {}'.format(base_pay_min))\n",
    "print('Max base pay: {}'.format(base_pay_max))\n",
    "print('Mean base pay: {}'.format(base_pay_mean))"
   ]
  },
  {
   "cell_type": "markdown",
   "metadata": {},
   "source": [
    "### Question 1d:\n",
    "What is the `TotalPay` and `JobTitle` for `GREGORY STANGLAND`. Set the variables `total_pay` and `job_title` to these values.\n",
    "\n",
    "**Answer code here:**"
   ]
  },
  {
   "cell_type": "code",
   "execution_count": null,
   "metadata": {},
   "outputs": [],
   "source": [
    "# Write your code here.\n",
    "total_pay = ...\n",
    "job_title = ...\n",
    "\n",
    "# Print answers\n",
    "print('GREGORY STANGLAND total pay: {}'.format(total_pay))\n",
    "print('GREGORY STANGLAND job title: {}'.format(job_title))"
   ]
  },
  {
   "cell_type": "markdown",
   "metadata": {},
   "source": [
    "### Question 1e:\n",
    "What is the name of the person with the highest `TotalPay`, in what year did they receive that pay and what was the amount of that pay?\n",
    "\n",
    "Set the variables `name`, `year`, and `total_pay` to these values.\n",
    "\n",
    "**Answer code here:**"
   ]
  },
  {
   "cell_type": "code",
   "execution_count": null,
   "metadata": {},
   "outputs": [],
   "source": [
    "# Write your code here.\n",
    "name = ...\n",
    "year = ...\n",
    "total_pay = ...\n",
    "\n",
    "# Print answers\n",
    "print('Name: {}'.format(name))\n",
    "print('Year: {}'.format(year))\n",
    "print('Total Pay: {}'.format(total_pay))"
   ]
  },
  {
   "cell_type": "markdown",
   "metadata": {},
   "source": [
    "### Question 1f:\n",
    "Compute the maximum `TotalPay` for each year in the dataset. Set the variable `max_annual_total_pay` to a Series where the index is the `Year` and the values are the maximum `TotalPay` for a particular year.\n",
    "\n",
    "**Answer code here:**"
   ]
  },
  {
   "cell_type": "code",
   "execution_count": null,
   "metadata": {},
   "outputs": [],
   "source": [
    "# Write your code here.\n",
    "max_annual_total_pay = ...\n",
    "\n",
    "# Print answers\n",
    "print(max_annual_total_pay)"
   ]
  },
  {
   "cell_type": "markdown",
   "metadata": {},
   "source": [
    "### Question 1g:\n",
    "How many unique job titles are there in the dataset? Set the variable `unique_jobs` to the value.\n",
    "\n",
    "**Answer code here:**"
   ]
  },
  {
   "cell_type": "code",
   "execution_count": null,
   "metadata": {},
   "outputs": [],
   "source": [
    "# Write your code here.\n",
    "unique_jobs = ...\n",
    "\n",
    "# Print answers\n",
    "print('Number of unique jobs: {}'.format(unique_jobs))"
   ]
  },
  {
   "cell_type": "markdown",
   "metadata": {},
   "source": [
    "### Question 1h:\n",
    "What are the ten most common jobs? Set the variable `job_counts` to a Series where the index is the `JobTitle` and the values are the number of occurences of a particular `JobTitle` in the dataset. If the values are in descending order, the `.head(10)` method can be used to get the top 10 most common jobs.\n",
    "\n",
    "**Answer code here:**"
   ]
  },
  {
   "cell_type": "code",
   "execution_count": null,
   "metadata": {},
   "outputs": [],
   "source": [
    "# Write your code here.\n",
    "top_10_job_counts = ...\n",
    "\n",
    "# Print answers\n",
    "print(top_10_job_counts)"
   ]
  },
  {
   "cell_type": "markdown",
   "metadata": {},
   "source": [
    "### Question 1i:\n",
    "How many jobs were represented by only one person in 2014? Set the variable `num_jobs` to the value.\n",
    "\n",
    "**Answer code here:**"
   ]
  },
  {
   "cell_type": "code",
   "execution_count": null,
   "metadata": {},
   "outputs": [],
   "source": [
    "# Write your code here.\n",
    "num_jobs = ...\n",
    "\n",
    "# Print answers\n",
    "print('Number of jobs represented by only one person in 2014: {}'.format(num_jobs))"
   ]
  },
  {
   "cell_type": "markdown",
   "metadata": {},
   "source": [
    "### Question 1j:\n",
    "How many people had the word `Chief` in their job title in 2013? Set the variable `num_jobs_chief` to the value.\n",
    "\n",
    "**Answer code here:**"
   ]
  },
  {
   "cell_type": "code",
   "execution_count": null,
   "metadata": {},
   "outputs": [],
   "source": [
    "# Write your code here.\n",
    "num_jobs_chief = ...\n",
    "\n",
    "# Print answers\n",
    "print('Number of jobs titles containing the word Chief in 2013: {}'.format(num_jobs_chief))"
   ]
  },
  {
   "cell_type": "markdown",
   "metadata": {},
   "source": [
    "## Question 2\n",
    "For this question, we will be using the [Winemag](https://www.kaggle.com/zynicide/wine-reviews) dataset from Kaggle, which contains 130,000 wine reviews.\n",
    "\n",
    "First, reuse your code from Question 1a and use Pandas to import `winemag_data.csv` into a DataFrame and assign it to a new variable `wine_reviews`."
   ]
  },
  {
   "cell_type": "code",
   "execution_count": null,
   "metadata": {},
   "outputs": [],
   "source": [
    "# Write your code here.\n",
    "wine_reviews = ...\n",
    "\n",
    "# View DataFreame\n",
    "wine_reviews.head()"
   ]
  },
  {
   "cell_type": "markdown",
   "metadata": {},
   "source": [
    "Next, reuse your code from Question 1b and using .info(), please report:\n",
    "\n",
    "- The number of entries.\n",
    "- The number of columns.\n",
    "- What are the unique data types in the DataFrame.\n",
    "\n",
    "**Answer code here:**"
   ]
  },
  {
   "cell_type": "code",
   "execution_count": null,
   "metadata": {},
   "outputs": [],
   "source": [
    "# Write your code here.\n",
    "..."
   ]
  },
  {
   "cell_type": "markdown",
   "metadata": {},
   "source": [
    "**Answer Text Here:**\n",
    "- Number of enties = ...\n",
    "- Number of columns = ...\n",
    "- Unique datatypes = ..."
   ]
  },
  {
   "cell_type": "markdown",
   "metadata": {},
   "source": [
    "### Question 2a:\n",
    "How many reviews has each reviewer made according to their twitter handle? Set the variable `reviewers` to a Series where the index is the `taster_twitter_handle` and the values are the number of reviews of a particular `taster_twitter_handle` in the dataset. \n",
    "\n",
    "**Answer code here:**"
   ]
  },
  {
   "cell_type": "code",
   "execution_count": null,
   "metadata": {},
   "outputs": [],
   "source": [
    "# Write your code here.\n",
    "reviewers = ...\n",
    "\n",
    "# Print answers\n",
    "print(reviewers)"
   ]
  },
  {
   "cell_type": "markdown",
   "metadata": {},
   "source": [
    "### Question 2b:\n",
    "What is the maximum score (points) for a given price? Set the variable `price_max_points` to a Series where the index is the `price` and the values are the maximum `points` for a particular price. The index should be in descending order (highest price to lowest price).\n",
    "\n",
    "**Answer code here:**"
   ]
  },
  {
   "cell_type": "code",
   "execution_count": null,
   "metadata": {},
   "outputs": [],
   "source": [
    "# Write your code here.\n",
    "price_max_points = ...\n",
    "\n",
    "# Print answers\n",
    "print(price_max_points)"
   ]
  },
  {
   "cell_type": "markdown",
   "metadata": {},
   "source": [
    "### Question 2c:\n",
    "What percentage of descriptions contain the word `fruity` or `tart`. Set the variable `fruity_tart_percentage` to the answer.\n",
    "\n",
    "**Answer code here:**"
   ]
  },
  {
   "cell_type": "code",
   "execution_count": null,
   "metadata": {},
   "outputs": [],
   "source": [
    "# Write your code here.\n",
    "fruity_tart_percentage = ...\n",
    "\n",
    "# Print answers\n",
    "print('{} % of reviews contains the word fruity or tart.'.format(fruity_tart_percentage))"
   ]
  },
  {
   "cell_type": "markdown",
   "metadata": {},
   "source": [
    "### Question 2d:\n",
    "How many times is the word `fruity` or `tart` used in review descriptions for a particular country? Set the variable `fruity_tart_count_by_country` to a Series where the index is the `country` and the values are the number of times `fruity` or `tart` appear in the descriptions from a particular country. The values should be in descending order (highest count to lowest count).\n",
    "\n",
    "**Answer code here:**"
   ]
  },
  {
   "cell_type": "code",
   "execution_count": null,
   "metadata": {},
   "outputs": [],
   "source": [
    "# Write your code here.\n",
    "fruity_tart_count_by_country = ...\n",
    "\n",
    "# Print answers\n",
    "print(fruity_tart_count_by_country)"
   ]
  },
  {
   "cell_type": "markdown",
   "metadata": {},
   "source": [
    "### Question 2e:\n",
    "How many unique varieties does each country have? Set the variable `country_varieties_count` to a Series where the index is the `country` and the values are the number of unique wine varieties. The values should be in descending order (highest count to lowest count).\n",
    "\n",
    "**Answer code here:**"
   ]
  },
  {
   "cell_type": "code",
   "execution_count": null,
   "metadata": {},
   "outputs": [],
   "source": [
    "# Write your code here.\n",
    "country_varieties_count = ...\n",
    "\n",
    "# Print answers\n",
    "print(country_varieties_count)"
   ]
  },
  {
   "cell_type": "markdown",
   "metadata": {},
   "source": [
    "### Question 2f:\n",
    "What combination of countries and varieties are most common? Set the variable `country_varieties` to a Series whose index is a MultiIndex of (country, variety) pairs. For example, a merlot produced in the France should map to {'France', 'Merlot'}. The values should be in descending order (highest count to lowest count).\n",
    "\n",
    "**Answer code here:**"
   ]
  },
  {
   "cell_type": "code",
   "execution_count": null,
   "metadata": {},
   "outputs": [],
   "source": [
    "# Write your code here.\n",
    "country_varieties = ...\n",
    "\n",
    "# Print answers\n",
    "print(country_varieties)"
   ]
  },
  {
   "cell_type": "markdown",
   "metadata": {},
   "source": [
    "**Congratulation, you're done Assignment 1. Review your answers and clean up that code before submitting on Quercus. `#cleancode`** "
   ]
  }
 ],
 "metadata": {
  "kernelspec": {
   "display_name": "Python 3 (ipykernel)",
   "language": "python",
   "name": "python3"
  },
  "language_info": {
   "codemirror_mode": {
    "name": "ipython",
    "version": 3
   },
   "file_extension": ".py",
   "mimetype": "text/x-python",
   "name": "python",
   "nbconvert_exporter": "python",
   "pygments_lexer": "ipython3",
   "version": "3.9.7"
  }
 },
 "nbformat": 4,
 "nbformat_minor": 4
}
