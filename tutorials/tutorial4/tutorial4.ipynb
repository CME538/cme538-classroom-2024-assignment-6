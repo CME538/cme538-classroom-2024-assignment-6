{
 "cells": [
  {
   "cell_type": "markdown",
   "metadata": {},
   "source": [
    "# CME538 - Introduction to Data Science\n",
    "\n",
    "## Tutorial 4 - JSON, Datetime and Visualization \n",
    "By Navid Kayhani, Marc Saleh\n",
    "### Goals\n",
    "\n",
    "### Tutorial Structure\n",
    "\n",
    "\n",
    "1. JSON files Basics\n",
    "\n",
    "    1.1 Loading JSON file\n",
    "    \n",
    "    2.2 Writing JSON file\n",
    "    \n",
    "    3.3 Accessing data in a json dictionary\n",
    "\n",
    "\n",
    "2. Lecture Content Recap\n",
    "\n",
    "    2.1 Working with strings for text analysis\n",
    "    \n",
    "    2.2. Working with datetime data type\n",
    "    \n",
    "    2.3. Visualization examples with Seaborn\n",
    "    \n",
    "    "
   ]
  },
  {
   "cell_type": "markdown",
   "metadata": {},
   "source": [
    "<a id='section0'></a>\n",
    "## Setup Notebook\n",
    "At the start of a notebook, we need to import the Python packages we plan to use.\n",
    "* [NumPy](https://numpy.org/) - A library for the Python programming language, adding support for large, multi-dimensional arrays and matrices, along with a large collection of high-level mathematical functions to operate on these arrays. NumPy was introcuded in Lecture 4 and we will learn more about its functionality in this lecture. It is customary to `import numpy as np`.\n",
    "* [Pandas](https://pandas.pydata.org/) - pandas is a fast, powerful, flexible and easy to use open source data analysis and manipulation tool, built on top of the Python programming language. Lecture 5 and 6 will do a deep dive into the core functionality of Pandas. It is customary to `import pandas as pd`. \n",
    "* [Seaborn](https://seaborn.pydata.org/) - Seaborn is a Python data visualization library based on matplotlib. It provides a high-level interface for drawing attractive and informative statistical graphics. We will use Seaborn throughout CIV1498 for data visualization. It is customary to `import seaborn as sns`.  \n",
    "* [Maplotlib](https://matplotlib.org//) - Matplotlib is a comprehensive library for creating static, animated, and interactive visualizations in Python. We will use Matplotlib throughout CIV1498 for data visualization. It is customary to `import matplotlib.pyplot as plt`. \n",
    "\n",
    "Next, we want to configure the Jupyter Notebook.\n",
    "* `%matplotlib inline` - This code configured the notebook to display all plots, from Seaborn or Matplotlib, in the Notebook as opposed to in a separate pop-up window.\n",
    "* `plt.style.use('fivethirtyeight')` - This code configured the plots with the \"fivethirtyeight\" styling, which tries to replicate the styles from the website [FiveThirtyEight](https://fivethirtyeight.com/).\n",
    "* `sns.set_context(\"notebook\")` - This sets the plotting context parameters to be optimized for a Notebook. This affects things like the size of the labels, lines, and other elements of the plot, but not the overall style."
   ]
  },
  {
   "cell_type": "code",
   "execution_count": null,
   "metadata": {},
   "outputs": [],
   "source": [
    "# 3rd party imports\n",
    "import os\n",
    "import json\n",
    "import pandas as pd\n",
    "import seaborn as sns\n",
    "from datetime import datetime\n",
    "import matplotlib.pylab as plt\n",
    "\n",
    "# Configure Notebook\n",
    "#for plots to be inline\n",
    "%matplotlib inline \n",
    "#for auto_complete \n",
    "%config Completer.use_jedi = False \n",
    "\n",
    "plt.style.use('fivethirtyeight')\n",
    "sns.set_context(\"notebook\")"
   ]
  },
  {
   "cell_type": "markdown",
   "metadata": {},
   "source": [
    "# <a id='section1'></a>\n",
    "## 1. JSON files Basics\n"
   ]
  },
  {
   "cell_type": "markdown",
   "metadata": {},
   "source": [
    "We will show how JSON looks like and how to deal with JSON in Python with the example dictionary shown below. "
   ]
  },
  {
   "cell_type": "code",
   "execution_count": null,
   "metadata": {},
   "outputs": [],
   "source": [
    "dict_doe_family = {     \n",
    "    \"John\": {\n",
    "        \"first name\": \"John\", \n",
    "        \"last name\": \"Doe\", \n",
    "        \"gender\": \"male\", \n",
    "        \"age\": 30, \n",
    "        \"favorite_animal\": \"panda\",\n",
    "        \"married\": True,\n",
    "        \"children\": [\"James\", \"Jennifer\"],\n",
    "        \"hobbies\": [\"photography\", \"sky diving\", \"reading\"]},\n",
    "    \"Jane\": {\n",
    "        \"first name\": \"Jane\", \n",
    "        \"last name\": \"Doe\", \n",
    "        \"gender\": \"female\", \n",
    "        \"age\": 27, \n",
    "        \"favorite_animal\": \"zebra\",\n",
    "        \"married\": False,\n",
    "        \"children\": None,\n",
    "        \"hobbies\": [\"cooking\", \"gaming\", \"tennis\"]}}"
   ]
  },
  {
   "cell_type": "markdown",
   "metadata": {},
   "source": [
    "We will focus on the following method:\n",
    "* **to read JSON**: the methods `json.load()`\n",
    "* **to write JSON**: the methods `json.dump()``"
   ]
  },
  {
   "cell_type": "markdown",
   "metadata": {},
   "source": [
    "### 1.1 Loading JSON from file or string\n",
    "The `load()` method is used to load a JSON encoded file as a Python dictionary:"
   ]
  },
  {
   "cell_type": "code",
   "execution_count": null,
   "metadata": {},
   "outputs": [],
   "source": [
    "# read in file content as dict using the json module\n"
   ]
  },
  {
   "cell_type": "markdown",
   "metadata": {},
   "source": [
    "### 1.2 Writing JSON to file or string\n",
    "Let's first define our Python dictionary again:"
   ]
  },
  {
   "cell_type": "code",
   "execution_count": null,
   "metadata": {},
   "outputs": [],
   "source": [
    "dict_doe_family = {     \n",
    "    \"John\": {\n",
    "        \"first name\": \"John\", \n",
    "        \"last name\": \"Doe\", \n",
    "        \"gender\": \"male\", \n",
    "        \"age\": 30, \n",
    "        \"favorite_animal\": \"panda\",\n",
    "        \"married\": True,\n",
    "        \"children\": [\"James\", \"Jennifer\"],\n",
    "        \"hobbies\": [\"photography\", \"sky diving\", \"reading\"]},\n",
    "    \"Jane\": {\n",
    "        \"first name\": \"Jane\", \n",
    "        \"last name\": \"Doe\", \n",
    "        \"gender\": \"female\", \n",
    "        \"age\": 27, \n",
    "        \"favorite_animal\": \"zebra\",\n",
    "        \"married\": False,\n",
    "        \"children\": None,\n",
    "        \"hobbies\": [\"cooking\", \"gaming\", \"tennis\"]}}"
   ]
  },
  {
   "cell_type": "markdown",
   "metadata": {},
   "source": [
    "The **`json.dump()`** method is used to write a Python dictionary to a JSON encoded file:"
   ]
  },
  {
   "cell_type": "code",
   "execution_count": null,
   "metadata": {},
   "outputs": [],
   "source": [
    "# Write code here\n"
   ]
  },
  {
   "cell_type": "markdown",
   "metadata": {},
   "source": [
    "### 1.3 Accessing data in a json dictionary\n",
    "\n",
    "Note that the values in this dictionary can be containers themselves: Each key has another dictionary as a value. The keys 'children' and 'hobbies' have lists as values. Note that we can look at such a dictionary in terms of **layers of nesting**.\n",
    "\n",
    "\n",
    "Consider the dict below. How many layers (i.e. containers within containers) can you identify?"
   ]
  },
  {
   "cell_type": "code",
   "execution_count": null,
   "metadata": {},
   "outputs": [],
   "source": [
    "dict_doe_family = {     \n",
    "    \"John\": {\n",
    "        \"first name\": \"John\", \n",
    "        \"last name\": \"Doe\", \n",
    "        \"gender\": \"male\", \n",
    "        \"age\": 30, \n",
    "        \"favorite_animal\": \"panda\",\n",
    "        \"married\": True,\n",
    "        \"children\": [\"James\", \"Jennifer\"],\n",
    "        \"hobbies\": [\"photography\", \"sky diving\", \"reading\"]},\n",
    "    \"Jane\": {\n",
    "        \"first name\": \"Jane\", \n",
    "        \"last name\": \"Doe\", \n",
    "        \"gender\": \"female\", \n",
    "        \"age\": 27, \n",
    "        \"favorite_animal\": \"zebra\",\n",
    "        \"married\": False,\n",
    "        \"children\": None,\n",
    "        \"hobbies\": [\"cooking\", \"gaming\", \"tennis\"]}}"
   ]
  },
  {
   "cell_type": "code",
   "execution_count": null,
   "metadata": {},
   "outputs": [],
   "source": [
    "# access information about John\n",
    "\n",
    "# access information about John's hobbies:\n",
    "\n",
    "\n",
    "# You can also do this in one go:\n"
   ]
  },
  {
   "cell_type": "code",
   "execution_count": null,
   "metadata": {},
   "outputs": [],
   "source": [
    "# iterate over family dict by accessing \n",
    "#the family members (keys) and their information (values), and saves their hobbies in a list\n",
    "\n",
    "# create empty list where hobbies of family members will be stored\n"
   ]
  },
  {
   "cell_type": "markdown",
   "metadata": {},
   "source": [
    "## 2.1 Working with strings for text analysis"
   ]
  },
  {
   "cell_type": "code",
   "execution_count": null,
   "metadata": {},
   "outputs": [],
   "source": [
    "s = \"#Hey, Thi$s is a string. With. Punctuation!!!\" # Sample string "
   ]
  },
  {
   "cell_type": "markdown",
   "metadata": {},
   "source": [
    "Python provides a constant called string.punctuation that provides a great list of punctuation characters."
   ]
  },
  {
   "cell_type": "code",
   "execution_count": null,
   "metadata": {},
   "outputs": [],
   "source": [
    "import string\n",
    "string.punctuation"
   ]
  },
  {
   "cell_type": "markdown",
   "metadata": {},
   "source": [
    "Python offers a function called translate() that will map one set of characters to another.\n",
    "\n",
    "We can use the function maketrans() to create a mapping table. We can create an empty mapping table, but the third argument of this function allows us to list all of the characters to remove during the translation process. For example:"
   ]
  },
  {
   "cell_type": "code",
   "execution_count": null,
   "metadata": {
    "scrolled": true
   },
   "outputs": [],
   "source": [
    "s.translate(str.maketrans('', '', string.punctuation))"
   ]
  },
  {
   "cell_type": "code",
   "execution_count": null,
   "metadata": {},
   "outputs": [],
   "source": [
    "# survey responses from electric vehicle owners on their opinion of public charging infrastructure\n",
    "responses_survey = ['!!For in city use, my at home level 2 charger is more than adequate. Because I have limited range and poor battery management system in my car, I rarely go out of town, but I am in the market for a new EV and consider that the number and distribution of level 3 chargers throughout Canada is grossly inadequate and I am concerned that as they are being build they are not being built to provide energy quickly enough to match the capabilites of EVs that are coming on market. In my view, they should be capable of 350kW. This will ensure that there are not lineups at the pumps so to speak.',\n",
    "                                        'Once installed, public EV charging stations should be recommissioned (eg GO transit parking lots where the units were removed but the rough-in wiring remains).  Give EV ownership a chance to expand given federally zero-emission vehicle mandate by 2035.  Why not offer incentives for phasing in EV charging stations at petrol stations as ICE cars phase-out and EV cars ownership expands?  Reducing/eliminating the cause of range anxiety could help to get us all into zero-emission vehicles ahead of 2035.',\n",
    "                                        'Given the positive environmental effects of EVs I believe the price of electricity should be MUCH lower for EV owners.  I.e. there should be a way to determine what electricity I uses is going to my car...? separate metre? Also given MB has a lot of extra electricity and gives it away to large users I believe EV owners should get some sort of credit. Also I worry that MB Hydro is NOT prepared to provide adequate electric service to communities with LOTS of EV usage.',\n",
    "                                        'DCFC is highly over-rated.  Most cars and depending on SoC, can not fully utilize rates over 100KW, and all batteries cut back draw starting about 60% SoC.  It would be better to have more 50/100KW chargers for light duty vehicles than funding for faster chargers. DCFC should normally only be used for inter-city travel, and located in service centres on highways (which is not listed in the survey question above).  Destinations and overnight hotels Level 2 is adequate.']\n"
   ]
  },
  {
   "cell_type": "markdown",
   "metadata": {},
   "source": [
    "Remove all punctuation and common words (stopwords) from each response in the list of responses to the survey"
   ]
  },
  {
   "cell_type": "code",
   "execution_count": null,
   "metadata": {},
   "outputs": [],
   "source": [
    "# create new list without punctuation\n",
    "\n",
    "\n",
    "# create new list without stopwords\n",
    "\n",
    "# stopwords include common words like ['what', 'who', 'is', 'a', 'at', 'is', 'he']\n"
   ]
  },
  {
   "cell_type": "markdown",
   "metadata": {},
   "source": [
    "## 2.2 Working with datetime data type"
   ]
  },
  {
   "cell_type": "markdown",
   "metadata": {},
   "source": [
    "In this tutorial, we’ll be working with daily time series of Open Power System Data (OPSD) for Germany, which has been rapidly expanding its renewable energy production in recent years. The data set includes country-wide totals of electricity consumption, wind power production, and solar power production for 2006-2017. "
   ]
  },
  {
   "cell_type": "code",
   "execution_count": null,
   "metadata": {
    "scrolled": true
   },
   "outputs": [],
   "source": [
    "# upload json data\n"
   ]
  },
  {
   "cell_type": "code",
   "execution_count": null,
   "metadata": {
    "scrolled": true
   },
   "outputs": [],
   "source": [
    "# convert the data into pandas dataframe\n"
   ]
  },
  {
   "cell_type": "code",
   "execution_count": null,
   "metadata": {},
   "outputs": [],
   "source": [
    "# print dataframe info\n"
   ]
  },
  {
   "cell_type": "code",
   "execution_count": null,
   "metadata": {},
   "outputs": [],
   "source": [
    "# transform numerical columns to floats\n"
   ]
  },
  {
   "cell_type": "code",
   "execution_count": null,
   "metadata": {},
   "outputs": [],
   "source": [
    "# convert the 'Date' column to datetime format\n"
   ]
  },
  {
   "cell_type": "code",
   "execution_count": null,
   "metadata": {
    "scrolled": true
   },
   "outputs": [],
   "source": [
    "# set the date column as the index\n"
   ]
  },
  {
   "cell_type": "markdown",
   "metadata": {},
   "source": [
    "#### Time-based indexing"
   ]
  },
  {
   "cell_type": "code",
   "execution_count": null,
   "metadata": {},
   "outputs": [],
   "source": [
    "# add new columns 'Year' and 'Month' that indicate the year and month associated with each observation\n"
   ]
  },
  {
   "cell_type": "markdown",
   "metadata": {},
   "source": [
    "## 2.3 Visualization examples with seaborn"
   ]
  },
  {
   "cell_type": "markdown",
   "metadata": {},
   "source": [
    "The following chart was made by ([Abela, 2006](http://extremepresentation.typepad.com/blog/2006/09/choosing_a_good.html)). It provides a first intuition on what kind of visualization to choose for your data. He also asks exactly the right question: **What do you want to show?** It is essential for any piece of communication to first consider: what is my main point? And after creating a visualization, to ask yourself: does this visualization indeed communicate what I want to communicate? (Ideally, also ask others: what kind of message am I conveying here?)\n",
    "\n",
    "![chart_chooser](./images/chart_chooser.jpg)\n"
   ]
  },
  {
   "cell_type": "code",
   "execution_count": null,
   "metadata": {},
   "outputs": [],
   "source": [
    "opsd_daily"
   ]
  },
  {
   "cell_type": "code",
   "execution_count": null,
   "metadata": {},
   "outputs": [],
   "source": [
    "# Plot boxplots of daily energy consumption energy consumption per year\n"
   ]
  },
  {
   "cell_type": "code",
   "execution_count": null,
   "metadata": {
    "scrolled": true
   },
   "outputs": [],
   "source": [
    "# create new df by aggregating data to yearly energy consumption and production\n"
   ]
  },
  {
   "cell_type": "code",
   "execution_count": null,
   "metadata": {},
   "outputs": [],
   "source": [
    "# Plot a lineplot of the total energy consumption over each year\n",
    "\n"
   ]
  },
  {
   "cell_type": "code",
   "execution_count": null,
   "metadata": {},
   "outputs": [],
   "source": [
    "# Plot lineplots of the total energy production from wind and solar over each year\n",
    "\n"
   ]
  },
  {
   "cell_type": "code",
   "execution_count": null,
   "metadata": {},
   "outputs": [],
   "source": [
    "# add a column that estimate the proportion of wind + solar out of total energy consumed in a year\n"
   ]
  },
  {
   "cell_type": "code",
   "execution_count": null,
   "metadata": {},
   "outputs": [],
   "source": [
    "# Plot a barplot of the proportion of energy consumption that was produced from wind + farm each year\n"
   ]
  },
  {
   "cell_type": "code",
   "execution_count": null,
   "metadata": {},
   "outputs": [],
   "source": []
  },
  {
   "cell_type": "code",
   "execution_count": null,
   "metadata": {},
   "outputs": [],
   "source": []
  },
  {
   "cell_type": "code",
   "execution_count": null,
   "metadata": {},
   "outputs": [],
   "source": []
  },
  {
   "cell_type": "code",
   "execution_count": null,
   "metadata": {},
   "outputs": [],
   "source": []
  }
 ],
 "metadata": {
  "kernelspec": {
   "display_name": "Python 3 (ipykernel)",
   "language": "python",
   "name": "python3"
  },
  "language_info": {
   "codemirror_mode": {
    "name": "ipython",
    "version": 3
   },
   "file_extension": ".py",
   "mimetype": "text/x-python",
   "name": "python",
   "nbconvert_exporter": "python",
   "pygments_lexer": "ipython3",
   "version": "3.9.7"
  }
 },
 "nbformat": 4,
 "nbformat_minor": 4
}
