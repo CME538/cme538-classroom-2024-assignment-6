{
 "cells": [
  {
   "cell_type": "markdown",
   "metadata": {},
   "source": [
    "# CME538 - Introduction to Data Science\n",
    "\n",
    "## Tutorial 2 - Pandas: A Brief Review \n",
    "By Navid Kayhani, Marc Saleh\n",
    "### Goals\n",
    "\n",
    "### Tutorial Structure\n",
    "0. [Import the necessary libraries](#section0)\n",
    "\n",
    "\n",
    "1. [Review of basics in Pandas](#section1)\n",
    "\n",
    "    1.1. Anatomy of a DataFrame\n",
    "    \n",
    "    1.2. Define a DataFrame from scratch \n",
    "    \n",
    "    1.3. DataFrame Manipulation\n",
    "    \n",
    "    \n",
    "2. Exploring an imported dataframe\n",
    "\n",
    "    2.1 Read in data sources (Importing CSV files)\n",
    "    \n",
    "    2.2 Filtering a dataframe based on conditions\n",
    "    \n",
    "    2.3 Using groupby()\n",
    "    \n",
    "    2.4 Iterrating through a dataframe"
   ]
  },
  {
   "cell_type": "markdown",
   "metadata": {},
   "source": [
    "<a id='section0'></a>\n",
    "## Setup Notebook\n",
    "At the start of a notebook, we need to import the Python packages we plan to use.\n",
    "* [NumPy](https://numpy.org/) - A library for the Python programming language, adding support for large, multi-dimensional arrays and matrices, along with a large collection of high-level mathematical functions to operate on these arrays. NumPy was introcuded in Lecture 4 and we will learn more about its functionality in this lecture. It is customary to `import numpy as np`.\n",
    "* [Pandas](https://pandas.pydata.org/) - pandas is a fast, powerful, flexible and easy to use open source data analysis and manipulation tool, built on top of the Python programming language. Lecture 5 and 6 will do a deep dive into the core functionality of Pandas. It is customary to `import pandas as pd`. \n",
    "* [Seaborn](https://seaborn.pydata.org/) - Seaborn is a Python data visualization library based on matplotlib. It provides a high-level interface for drawing attractive and informative statistical graphics. We will use Seaborn throughout CIV1498 for data visualization. It is customary to `import seaborn as sns`.  \n",
    "* [Maplotlib](https://matplotlib.org//) - Matplotlib is a comprehensive library for creating static, animated, and interactive visualizations in Python. We will use Matplotlib throughout CIV1498 for data visualization. It is customary to `import matplotlib.pyplot as plt`. \n",
    "\n",
    "Next, we want to configure the Jupyter Notebook.\n",
    "* `%matplotlib inline` - This code configured the notebook to display all plots, from Seaborn or Matplotlib, in the Notebook as opposed to in a separate pop-up window.\n",
    "* `plt.style.use('fivethirtyeight')` - This code configured the plots with the \"fivethirtyeight\" styling, which tries to replicate the styles from the website [FiveThirtyEight](https://fivethirtyeight.com/).\n",
    "* `sns.set_context(\"notebook\")` - This sets the plotting context parameters to be optimized for a Notebook. This affects things like the size of the labels, lines, and other elements of the plot, but not the overall style."
   ]
  },
  {
   "cell_type": "code",
   "execution_count": 2,
   "metadata": {},
   "outputs": [],
   "source": [
    "# Import 3rd party libraries\n",
    "import numpy as np\n",
    "import pandas as pd\n",
    "import seaborn as sns\n",
    "import matplotlib.pyplot as plt"
   ]
  },
  {
   "cell_type": "code",
   "execution_count": 3,
   "metadata": {},
   "outputs": [],
   "source": [
    "import warnings\n",
    "warnings.filterwarnings('ignore')"
   ]
  },
  {
   "cell_type": "markdown",
   "metadata": {},
   "source": [
    "<a id='section1'></a>\n",
    "## 1. Basics\n",
    "\n",
    "### 1.1. Anatomy of a DataFrame\n",
    "The primary two components of `pandas` are the `Series` and `DataFrames`.\n",
    "\n",
    "![DFvsSeries](https://storage.googleapis.com/lds-media/images/series-and-dataframe.width-1200.png)\n",
    "<center>Series and DataFrames: Number of purchases for apples and oranges</center>\n",
    "\n",
    "https://www.learndatasci.com/tutorials/python-pandas-tutorial-complete-introduction-for-beginners/"
   ]
  },
  {
   "cell_type": "markdown",
   "metadata": {},
   "source": [
    "### 1.2 Creating DataFrames from scratch and selecting values"
   ]
  },
  {
   "cell_type": "markdown",
   "metadata": {},
   "source": [
    "There are many ways to create a `DataFrame` from scratch, but a great option is to just use a simple Python dictionaries `dict`.\n",
    "\n",
    "Dictionaries are used to store data values in `key:value` pairs.\n",
    "\n",
    "A dictionary is a collection which is unordered, changeable and does not allow duplicates (they cannot have two items with the same `key`).\n",
    "\n",
    "Dictionaries are written with curly brackets, and have `keys` and `values`:"
   ]
  },
  {
   "cell_type": "markdown",
   "metadata": {},
   "source": [
    "##### **Create a dictionary that includes the 'apples' and 'oranges' series**"
   ]
  },
  {
   "cell_type": "code",
   "execution_count": 4,
   "metadata": {
    "scrolled": true
   },
   "outputs": [],
   "source": [
    "data = {'apples' : [3,2,0,1],\n",
    "       'oranges' : [0,3,7,2]}"
   ]
  },
  {
   "cell_type": "markdown",
   "metadata": {},
   "source": [
    "Print the values for the key 'apples'"
   ]
  },
  {
   "cell_type": "code",
   "execution_count": 6,
   "metadata": {},
   "outputs": [
    {
     "name": "stdout",
     "output_type": "stream",
     "text": [
      "[3, 2, 0, 1]\n"
     ]
    }
   ],
   "source": [
    "print(data['apples'])"
   ]
  },
  {
   "cell_type": "markdown",
   "metadata": {},
   "source": [
    "##### Use the dictionnary to create a dataframe where each key is a column and its associated values are represented in the rows"
   ]
  },
  {
   "cell_type": "code",
   "execution_count": 7,
   "metadata": {},
   "outputs": [
    {
     "name": "stdout",
     "output_type": "stream",
     "text": [
      "   apples  oranges\n",
      "0       3        0\n",
      "1       2        3\n",
      "2       0        7\n",
      "3       1        2\n"
     ]
    }
   ],
   "source": [
    "purchases = pd.DataFrame(data)\n",
    "print(purchases)"
   ]
  },
  {
   "cell_type": "markdown",
   "metadata": {},
   "source": [
    "The `Index` of this DataFrame was given to us on creation as the numbers 0-3, we could change it and assign an existing column as the index"
   ]
  },
  {
   "cell_type": "code",
   "execution_count": 11,
   "metadata": {},
   "outputs": [
    {
     "data": {
      "text/html": [
       "<div>\n",
       "<style scoped>\n",
       "    .dataframe tbody tr th:only-of-type {\n",
       "        vertical-align: middle;\n",
       "    }\n",
       "\n",
       "    .dataframe tbody tr th {\n",
       "        vertical-align: top;\n",
       "    }\n",
       "\n",
       "    .dataframe thead th {\n",
       "        text-align: right;\n",
       "    }\n",
       "</style>\n",
       "<table border=\"1\" class=\"dataframe\">\n",
       "  <thead>\n",
       "    <tr style=\"text-align: right;\">\n",
       "      <th></th>\n",
       "      <th>apples</th>\n",
       "    </tr>\n",
       "    <tr>\n",
       "      <th>oranges</th>\n",
       "      <th></th>\n",
       "    </tr>\n",
       "  </thead>\n",
       "  <tbody>\n",
       "    <tr>\n",
       "      <th>0</th>\n",
       "      <td>3</td>\n",
       "    </tr>\n",
       "    <tr>\n",
       "      <th>3</th>\n",
       "      <td>2</td>\n",
       "    </tr>\n",
       "    <tr>\n",
       "      <th>7</th>\n",
       "      <td>0</td>\n",
       "    </tr>\n",
       "    <tr>\n",
       "      <th>2</th>\n",
       "      <td>1</td>\n",
       "    </tr>\n",
       "  </tbody>\n",
       "</table>\n",
       "</div>"
      ],
      "text/plain": [
       "         apples\n",
       "oranges        \n",
       "0             3\n",
       "3             2\n",
       "7             0\n",
       "2             1"
      ]
     },
     "execution_count": 11,
     "metadata": {},
     "output_type": "execute_result"
    }
   ],
   "source": [
    "# make the 'oranges' column the index\n",
    "orange_index_purchases = purchases.set_index('oranges')\n",
    "orange_index_purchases"
   ]
  },
  {
   "cell_type": "markdown",
   "metadata": {},
   "source": [
    "We could also create our own index column when we initialize the Dataframe with the dictionnary\n",
    "\n",
    "Let's have customer names as our index:"
   ]
  },
  {
   "cell_type": "code",
   "execution_count": 12,
   "metadata": {},
   "outputs": [
    {
     "data": {
      "text/html": [
       "<div>\n",
       "<style scoped>\n",
       "    .dataframe tbody tr th:only-of-type {\n",
       "        vertical-align: middle;\n",
       "    }\n",
       "\n",
       "    .dataframe tbody tr th {\n",
       "        vertical-align: top;\n",
       "    }\n",
       "\n",
       "    .dataframe thead th {\n",
       "        text-align: right;\n",
       "    }\n",
       "</style>\n",
       "<table border=\"1\" class=\"dataframe\">\n",
       "  <thead>\n",
       "    <tr style=\"text-align: right;\">\n",
       "      <th></th>\n",
       "      <th>apples</th>\n",
       "      <th>oranges</th>\n",
       "    </tr>\n",
       "  </thead>\n",
       "  <tbody>\n",
       "    <tr>\n",
       "      <th>Sarah</th>\n",
       "      <td>3</td>\n",
       "      <td>0</td>\n",
       "    </tr>\n",
       "    <tr>\n",
       "      <th>Tim</th>\n",
       "      <td>2</td>\n",
       "      <td>3</td>\n",
       "    </tr>\n",
       "    <tr>\n",
       "      <th>Lily</th>\n",
       "      <td>0</td>\n",
       "      <td>7</td>\n",
       "    </tr>\n",
       "    <tr>\n",
       "      <th>David</th>\n",
       "      <td>1</td>\n",
       "      <td>2</td>\n",
       "    </tr>\n",
       "  </tbody>\n",
       "</table>\n",
       "</div>"
      ],
      "text/plain": [
       "       apples  oranges\n",
       "Sarah       3        0\n",
       "Tim         2        3\n",
       "Lily        0        7\n",
       "David       1        2"
      ]
     },
     "execution_count": 12,
     "metadata": {},
     "output_type": "execute_result"
    }
   ],
   "source": [
    "# Names 'Sarah', 'Tim', 'Lily', 'David'\n",
    "purchases = pd.DataFrame(data, index =['Sarah', 'Tim', 'Lily', 'David'])\n",
    "purchases"
   ]
  },
  {
   "cell_type": "markdown",
   "metadata": {},
   "source": [
    "##### Select values using df.loc[rows_list, columns_list]"
   ]
  },
  {
   "cell_type": "markdown",
   "metadata": {},
   "source": [
    "We can locate a customer's purchases by the using the name or numerical position of rows and columns"
   ]
  },
  {
   "cell_type": "code",
   "execution_count": 15,
   "metadata": {},
   "outputs": [
    {
     "name": "stdout",
     "output_type": "stream",
     "text": [
      "apples     1\n",
      "oranges    2\n",
      "Name: David, dtype: int64\n",
      "apples     1\n",
      "oranges    2\n",
      "Name: David, dtype: int64\n"
     ]
    }
   ],
   "source": [
    "# select all purchases of David using .loc\n",
    "print(purchases.loc['David'])\n",
    "\n",
    "# select all purchases of David using .iloc knowing that David represents row 3\n",
    "print(purchases.iloc[3])"
   ]
  },
  {
   "cell_type": "code",
   "execution_count": 17,
   "metadata": {},
   "outputs": [
    {
     "name": "stdout",
     "output_type": "stream",
     "text": [
      "2\n",
      "2\n"
     ]
    }
   ],
   "source": [
    "# select the number of oranges David purchased using .loc\n",
    "oranges_david = purchases.loc['David','oranges']\n",
    "print(apples_david)\n",
    "\n",
    "# select the number of oranges David purchased using .iloc knowing that David represents row 3 and the oranges column represents column 1\n",
    "oranges_david = purchases.iloc[3,1]\n",
    "print(oranges_david)"
   ]
  },
  {
   "cell_type": "code",
   "execution_count": 18,
   "metadata": {},
   "outputs": [
    {
     "data": {
      "text/html": [
       "<div>\n",
       "<style scoped>\n",
       "    .dataframe tbody tr th:only-of-type {\n",
       "        vertical-align: middle;\n",
       "    }\n",
       "\n",
       "    .dataframe tbody tr th {\n",
       "        vertical-align: top;\n",
       "    }\n",
       "\n",
       "    .dataframe thead th {\n",
       "        text-align: right;\n",
       "    }\n",
       "</style>\n",
       "<table border=\"1\" class=\"dataframe\">\n",
       "  <thead>\n",
       "    <tr style=\"text-align: right;\">\n",
       "      <th></th>\n",
       "      <th>apples</th>\n",
       "      <th>oranges</th>\n",
       "    </tr>\n",
       "  </thead>\n",
       "  <tbody>\n",
       "    <tr>\n",
       "      <th>Sarah</th>\n",
       "      <td>3</td>\n",
       "      <td>0</td>\n",
       "    </tr>\n",
       "    <tr>\n",
       "      <th>Tim</th>\n",
       "      <td>2</td>\n",
       "      <td>3</td>\n",
       "    </tr>\n",
       "    <tr>\n",
       "      <th>Lily</th>\n",
       "      <td>0</td>\n",
       "      <td>7</td>\n",
       "    </tr>\n",
       "    <tr>\n",
       "      <th>David</th>\n",
       "      <td>1</td>\n",
       "      <td>2</td>\n",
       "    </tr>\n",
       "  </tbody>\n",
       "</table>\n",
       "</div>"
      ],
      "text/plain": [
       "       apples  oranges\n",
       "Sarah       3        0\n",
       "Tim         2        3\n",
       "Lily        0        7\n",
       "David       1        2"
      ]
     },
     "execution_count": 18,
     "metadata": {},
     "output_type": "execute_result"
    }
   ],
   "source": [
    "purchases"
   ]
  },
  {
   "cell_type": "markdown",
   "metadata": {},
   "source": [
    "Let's get back to our numbered indices and have the names as a new column:"
   ]
  },
  {
   "cell_type": "code",
   "execution_count": 19,
   "metadata": {},
   "outputs": [
    {
     "data": {
      "text/html": [
       "<div>\n",
       "<style scoped>\n",
       "    .dataframe tbody tr th:only-of-type {\n",
       "        vertical-align: middle;\n",
       "    }\n",
       "\n",
       "    .dataframe tbody tr th {\n",
       "        vertical-align: top;\n",
       "    }\n",
       "\n",
       "    .dataframe thead th {\n",
       "        text-align: right;\n",
       "    }\n",
       "</style>\n",
       "<table border=\"1\" class=\"dataframe\">\n",
       "  <thead>\n",
       "    <tr style=\"text-align: right;\">\n",
       "      <th></th>\n",
       "      <th>index</th>\n",
       "      <th>apples</th>\n",
       "      <th>oranges</th>\n",
       "    </tr>\n",
       "  </thead>\n",
       "  <tbody>\n",
       "    <tr>\n",
       "      <th>0</th>\n",
       "      <td>Sarah</td>\n",
       "      <td>3</td>\n",
       "      <td>0</td>\n",
       "    </tr>\n",
       "    <tr>\n",
       "      <th>1</th>\n",
       "      <td>Tim</td>\n",
       "      <td>2</td>\n",
       "      <td>3</td>\n",
       "    </tr>\n",
       "    <tr>\n",
       "      <th>2</th>\n",
       "      <td>Lily</td>\n",
       "      <td>0</td>\n",
       "      <td>7</td>\n",
       "    </tr>\n",
       "    <tr>\n",
       "      <th>3</th>\n",
       "      <td>David</td>\n",
       "      <td>1</td>\n",
       "      <td>2</td>\n",
       "    </tr>\n",
       "  </tbody>\n",
       "</table>\n",
       "</div>"
      ],
      "text/plain": [
       "   index  apples  oranges\n",
       "0  Sarah       3        0\n",
       "1    Tim       2        3\n",
       "2   Lily       0        7\n",
       "3  David       1        2"
      ]
     },
     "execution_count": 19,
     "metadata": {},
     "output_type": "execute_result"
    }
   ],
   "source": [
    "# reset index\n",
    "purchases = purchases.reset_index()\n",
    "purchases"
   ]
  },
  {
   "cell_type": "markdown",
   "metadata": {},
   "source": [
    "Let's rename the generated column to `name`"
   ]
  },
  {
   "cell_type": "code",
   "execution_count": 21,
   "metadata": {
    "scrolled": true
   },
   "outputs": [
    {
     "name": "stdout",
     "output_type": "stream",
     "text": [
      "   index  apples  oranges\n",
      "0  Sarah       3        0\n",
      "1    Tim       2        3\n",
      "2   Lily       0        7\n",
      "3  David       1        2\n"
     ]
    }
   ],
   "source": [
    "# Common mistake is forgetting to overwrite a dataframe when making changes\n",
    "purchases.rename(columns = {'index' : 'name'})"
   ]
  },
  {
   "cell_type": "markdown",
   "metadata": {},
   "source": [
    "Rename a column with overwrite"
   ]
  },
  {
   "cell_type": "code",
   "execution_count": 22,
   "metadata": {},
   "outputs": [],
   "source": [
    "# OPTION 1 with inplace = true\n",
    "purchases.rename(columns = {'index' : 'name'}, inplace = True)\n",
    "\n",
    "# OPTION 2 with purchases = purchases.rename\n",
    "purchases = purchases.rename(columns = {'index' : 'name'})"
   ]
  },
  {
   "cell_type": "markdown",
   "metadata": {},
   "source": [
    "### 1.3. DataFrame Manipulation"
   ]
  },
  {
   "cell_type": "markdown",
   "metadata": {},
   "source": [
    "##### Add column\n",
    "\n",
    "Maybe we have other types of fruits in our store (bananas):"
   ]
  },
  {
   "cell_type": "code",
   "execution_count": 24,
   "metadata": {},
   "outputs": [],
   "source": [
    "# add the column bananas: [0, 1 , 3 , 3]\n",
    "purchases['bananas'] = [0, 1 , 3 , 3]"
   ]
  },
  {
   "cell_type": "markdown",
   "metadata": {},
   "source": [
    "##### Add row\n",
    "\n",
    "Maybe we have other customers:"
   ]
  },
  {
   "cell_type": "code",
   "execution_count": 27,
   "metadata": {},
   "outputs": [],
   "source": [
    "# Insert a new row\n",
    "# Pass the row elements as key value pairs to append() function \n",
    "\n",
    "new_row = {'name': 'Dan', 'apples': 2, 'oranges':2, 'bananas':0}\n",
    "purchases = purchases.append(new_row , ignore_index = True)"
   ]
  },
  {
   "cell_type": "code",
   "execution_count": 28,
   "metadata": {},
   "outputs": [
    {
     "data": {
      "text/html": [
       "<div>\n",
       "<style scoped>\n",
       "    .dataframe tbody tr th:only-of-type {\n",
       "        vertical-align: middle;\n",
       "    }\n",
       "\n",
       "    .dataframe tbody tr th {\n",
       "        vertical-align: top;\n",
       "    }\n",
       "\n",
       "    .dataframe thead th {\n",
       "        text-align: right;\n",
       "    }\n",
       "</style>\n",
       "<table border=\"1\" class=\"dataframe\">\n",
       "  <thead>\n",
       "    <tr style=\"text-align: right;\">\n",
       "      <th></th>\n",
       "      <th>name</th>\n",
       "      <th>apples</th>\n",
       "      <th>oranges</th>\n",
       "      <th>bananas</th>\n",
       "    </tr>\n",
       "  </thead>\n",
       "  <tbody>\n",
       "    <tr>\n",
       "      <th>0</th>\n",
       "      <td>Sarah</td>\n",
       "      <td>3</td>\n",
       "      <td>0</td>\n",
       "      <td>0</td>\n",
       "    </tr>\n",
       "    <tr>\n",
       "      <th>1</th>\n",
       "      <td>Tim</td>\n",
       "      <td>2</td>\n",
       "      <td>3</td>\n",
       "      <td>1</td>\n",
       "    </tr>\n",
       "    <tr>\n",
       "      <th>2</th>\n",
       "      <td>Lily</td>\n",
       "      <td>0</td>\n",
       "      <td>7</td>\n",
       "      <td>3</td>\n",
       "    </tr>\n",
       "    <tr>\n",
       "      <th>3</th>\n",
       "      <td>David</td>\n",
       "      <td>1</td>\n",
       "      <td>2</td>\n",
       "      <td>3</td>\n",
       "    </tr>\n",
       "    <tr>\n",
       "      <th>4</th>\n",
       "      <td>Dan</td>\n",
       "      <td>2</td>\n",
       "      <td>2</td>\n",
       "      <td>0</td>\n",
       "    </tr>\n",
       "  </tbody>\n",
       "</table>\n",
       "</div>"
      ],
      "text/plain": [
       "    name  apples  oranges  bananas\n",
       "0  Sarah       3        0        0\n",
       "1    Tim       2        3        1\n",
       "2   Lily       0        7        3\n",
       "3  David       1        2        3\n",
       "4    Dan       2        2        0"
      ]
     },
     "execution_count": 28,
     "metadata": {},
     "output_type": "execute_result"
    }
   ],
   "source": [
    "purchases"
   ]
  },
  {
   "cell_type": "markdown",
   "metadata": {},
   "source": [
    "**Q** :What is the maximum number of purchased items between the categories purchased for each customer?"
   ]
  },
  {
   "cell_type": "code",
   "execution_count": 29,
   "metadata": {},
   "outputs": [
    {
     "data": {
      "text/plain": [
       "0    3\n",
       "1    3\n",
       "2    7\n",
       "3    3\n",
       "4    2\n",
       "dtype: int64"
      ]
     },
     "execution_count": 29,
     "metadata": {},
     "output_type": "execute_result"
    }
   ],
   "source": [
    "# I want to find the maximum in each row --> I have to check data in each column (axis=1)\n",
    "purchases.max(axis = 1)"
   ]
  },
  {
   "cell_type": "markdown",
   "metadata": {},
   "source": [
    "**Q** :What is the highest number of a good purchased between the customers for each category?"
   ]
  },
  {
   "cell_type": "code",
   "execution_count": 30,
   "metadata": {},
   "outputs": [
    {
     "data": {
      "text/plain": [
       "name       Tim\n",
       "apples       3\n",
       "oranges      7\n",
       "bananas      3\n",
       "dtype: object"
      ]
     },
     "execution_count": 30,
     "metadata": {},
     "output_type": "execute_result"
    }
   ],
   "source": [
    "# I want to find the maximum in each column --> I have to check data in each row (axis=0)\n",
    "purchases.max(axis = 0)"
   ]
  },
  {
   "cell_type": "code",
   "execution_count": 31,
   "metadata": {},
   "outputs": [
    {
     "data": {
      "text/plain": [
       "(5, 4)"
      ]
     },
     "execution_count": 31,
     "metadata": {},
     "output_type": "execute_result"
    }
   ],
   "source": [
    "#check the df shape. Do axis number 0 and 1 make sense now?\n",
    "purchases.shape"
   ]
  },
  {
   "cell_type": "markdown",
   "metadata": {},
   "source": [
    "Transpose the dataframe"
   ]
  },
  {
   "cell_type": "code",
   "execution_count": 32,
   "metadata": {},
   "outputs": [
    {
     "data": {
      "text/html": [
       "<div>\n",
       "<style scoped>\n",
       "    .dataframe tbody tr th:only-of-type {\n",
       "        vertical-align: middle;\n",
       "    }\n",
       "\n",
       "    .dataframe tbody tr th {\n",
       "        vertical-align: top;\n",
       "    }\n",
       "\n",
       "    .dataframe thead th {\n",
       "        text-align: right;\n",
       "    }\n",
       "</style>\n",
       "<table border=\"1\" class=\"dataframe\">\n",
       "  <thead>\n",
       "    <tr style=\"text-align: right;\">\n",
       "      <th></th>\n",
       "      <th>0</th>\n",
       "      <th>1</th>\n",
       "      <th>2</th>\n",
       "      <th>3</th>\n",
       "      <th>4</th>\n",
       "    </tr>\n",
       "  </thead>\n",
       "  <tbody>\n",
       "    <tr>\n",
       "      <th>name</th>\n",
       "      <td>Sarah</td>\n",
       "      <td>Tim</td>\n",
       "      <td>Lily</td>\n",
       "      <td>David</td>\n",
       "      <td>Dan</td>\n",
       "    </tr>\n",
       "    <tr>\n",
       "      <th>apples</th>\n",
       "      <td>3</td>\n",
       "      <td>2</td>\n",
       "      <td>0</td>\n",
       "      <td>1</td>\n",
       "      <td>2</td>\n",
       "    </tr>\n",
       "    <tr>\n",
       "      <th>oranges</th>\n",
       "      <td>0</td>\n",
       "      <td>3</td>\n",
       "      <td>7</td>\n",
       "      <td>2</td>\n",
       "      <td>2</td>\n",
       "    </tr>\n",
       "    <tr>\n",
       "      <th>bananas</th>\n",
       "      <td>0</td>\n",
       "      <td>1</td>\n",
       "      <td>3</td>\n",
       "      <td>3</td>\n",
       "      <td>0</td>\n",
       "    </tr>\n",
       "  </tbody>\n",
       "</table>\n",
       "</div>"
      ],
      "text/plain": [
       "             0    1     2      3    4\n",
       "name     Sarah  Tim  Lily  David  Dan\n",
       "apples       3    2     0      1    2\n",
       "oranges      0    3     7      2    2\n",
       "bananas      0    1     3      3    0"
      ]
     },
     "execution_count": 32,
     "metadata": {},
     "output_type": "execute_result"
    }
   ],
   "source": [
    "#transpose the df\n",
    "purchases_t = purchases.transpose()\n",
    "purchases_t"
   ]
  },
  {
   "cell_type": "code",
   "execution_count": 33,
   "metadata": {},
   "outputs": [
    {
     "data": {
      "text/plain": [
       "(4, 5)"
      ]
     },
     "execution_count": 33,
     "metadata": {},
     "output_type": "execute_result"
    }
   ],
   "source": [
    "#check the df shape. Do axis number 0 and 1 make sense now?\n",
    "purchases_t.shape"
   ]
  },
  {
   "cell_type": "markdown",
   "metadata": {},
   "source": [
    "## 2.0 Exploring an imported dataframe"
   ]
  },
  {
   "cell_type": "markdown",
   "metadata": {},
   "source": [
    "### 2.1. Read in data sourses (Importing CSV files)\n",
    "* `pd.read_csv()` - Import a **comma-separated values (.csv)** file."
   ]
  },
  {
   "cell_type": "code",
   "execution_count": 35,
   "metadata": {
    "scrolled": true
   },
   "outputs": [
    {
     "name": "stdout",
     "output_type": "stream",
     "text": [
      "      Id      Name  Year Gender State  Count\n",
      "0  13298      Emma  2013      F    AK     57\n",
      "1  13299    Sophia  2013      F    AK     50\n",
      "2  13300   Abigail  2013      F    AK     39\n",
      "3  13301  Isabella  2013      F    AK     38\n",
      "4  13302    Olivia  2013      F    AK     35\n"
     ]
    }
   ],
   "source": [
    "# import dataframe\n",
    "df_names = pd.read_csv('US_baby_names_2013-14.csv')\n",
    "\n",
    "print(df_names.head())"
   ]
  },
  {
   "cell_type": "code",
   "execution_count": 37,
   "metadata": {},
   "outputs": [
    {
     "name": "stdout",
     "output_type": "stream",
     "text": [
      "<class 'pandas.core.frame.DataFrame'>\n",
      "RangeIndex: 186891 entries, 0 to 186890\n",
      "Data columns (total 6 columns):\n",
      " #   Column  Non-Null Count   Dtype \n",
      "---  ------  --------------   ----- \n",
      " 0   Id      186891 non-null  int64 \n",
      " 1   Name    186891 non-null  object\n",
      " 2   Year    186891 non-null  int64 \n",
      " 3   Gender  186891 non-null  object\n",
      " 4   State   186891 non-null  object\n",
      " 5   Count   186891 non-null  int64 \n",
      "dtypes: int64(3), object(3)\n",
      "memory usage: 8.6+ MB\n"
     ]
    }
   ],
   "source": [
    "# explore general info on column types, use .info()\n",
    "df_names.info()"
   ]
  },
  {
   "cell_type": "code",
   "execution_count": 38,
   "metadata": {},
   "outputs": [
    {
     "data": {
      "text/html": [
       "<div>\n",
       "<style scoped>\n",
       "    .dataframe tbody tr th:only-of-type {\n",
       "        vertical-align: middle;\n",
       "    }\n",
       "\n",
       "    .dataframe tbody tr th {\n",
       "        vertical-align: top;\n",
       "    }\n",
       "\n",
       "    .dataframe thead th {\n",
       "        text-align: right;\n",
       "    }\n",
       "</style>\n",
       "<table border=\"1\" class=\"dataframe\">\n",
       "  <thead>\n",
       "    <tr style=\"text-align: right;\">\n",
       "      <th></th>\n",
       "      <th>Id</th>\n",
       "      <th>Year</th>\n",
       "      <th>Count</th>\n",
       "    </tr>\n",
       "  </thead>\n",
       "  <tbody>\n",
       "    <tr>\n",
       "      <th>count</th>\n",
       "      <td>1.868910e+05</td>\n",
       "      <td>186891.000000</td>\n",
       "      <td>186891.000000</td>\n",
       "    </tr>\n",
       "    <tr>\n",
       "      <th>mean</th>\n",
       "      <td>2.852127e+06</td>\n",
       "      <td>2013.503759</td>\n",
       "      <td>33.067692</td>\n",
       "    </tr>\n",
       "    <tr>\n",
       "      <th>std</th>\n",
       "      <td>1.652032e+06</td>\n",
       "      <td>0.499987</td>\n",
       "      <td>87.988787</td>\n",
       "    </tr>\n",
       "    <tr>\n",
       "      <th>min</th>\n",
       "      <td>1.329800e+04</td>\n",
       "      <td>2013.000000</td>\n",
       "      <td>5.000000</td>\n",
       "    </tr>\n",
       "    <tr>\n",
       "      <th>25%</th>\n",
       "      <td>1.325804e+06</td>\n",
       "      <td>2013.000000</td>\n",
       "      <td>7.000000</td>\n",
       "    </tr>\n",
       "    <tr>\n",
       "      <th>50%</th>\n",
       "      <td>2.816340e+06</td>\n",
       "      <td>2014.000000</td>\n",
       "      <td>11.000000</td>\n",
       "    </tr>\n",
       "    <tr>\n",
       "      <th>75%</th>\n",
       "      <td>4.347148e+06</td>\n",
       "      <td>2014.000000</td>\n",
       "      <td>26.000000</td>\n",
       "    </tr>\n",
       "    <tr>\n",
       "      <th>max</th>\n",
       "      <td>5.647426e+06</td>\n",
       "      <td>2014.000000</td>\n",
       "      <td>3451.000000</td>\n",
       "    </tr>\n",
       "  </tbody>\n",
       "</table>\n",
       "</div>"
      ],
      "text/plain": [
       "                 Id           Year          Count\n",
       "count  1.868910e+05  186891.000000  186891.000000\n",
       "mean   2.852127e+06    2013.503759      33.067692\n",
       "std    1.652032e+06       0.499987      87.988787\n",
       "min    1.329800e+04    2013.000000       5.000000\n",
       "25%    1.325804e+06    2013.000000       7.000000\n",
       "50%    2.816340e+06    2014.000000      11.000000\n",
       "75%    4.347148e+06    2014.000000      26.000000\n",
       "max    5.647426e+06    2014.000000    3451.000000"
      ]
     },
     "execution_count": 38,
     "metadata": {},
     "output_type": "execute_result"
    }
   ],
   "source": [
    "# explore statistical data of numerical columns in dataframe, use .describe()\n",
    "df_names.describe()"
   ]
  },
  {
   "cell_type": "markdown",
   "metadata": {},
   "source": [
    "List the US states in the df"
   ]
  },
  {
   "cell_type": "code",
   "execution_count": 40,
   "metadata": {},
   "outputs": [
    {
     "data": {
      "text/plain": [
       "array(['AK', 'AL', 'AR', 'AZ', 'CA', 'CO', 'CT', 'DC', 'DE', 'FL', 'GA',\n",
       "       'HI', 'IA', 'ID', 'IL', 'IN', 'KS', 'KY', 'LA', 'MA', 'MD', 'ME',\n",
       "       'MI', 'MN', 'MO', 'MS', 'MT', 'NC', 'ND', 'NE', 'NH', 'NJ', 'NM',\n",
       "       'NV', 'NY', 'OH', 'OK', 'OR', 'PA', 'RI', 'SC', 'SD', 'TN', 'TX',\n",
       "       'UT', 'VA', 'VT', 'WA', 'WI', 'WV', 'WY'], dtype=object)"
      ]
     },
     "execution_count": 40,
     "metadata": {},
     "output_type": "execute_result"
    }
   ],
   "source": [
    "df_names['State'].unique()"
   ]
  },
  {
   "cell_type": "markdown",
   "metadata": {},
   "source": [
    "### 2.2 Filtering dataframe based on conditions"
   ]
  },
  {
   "cell_type": "markdown",
   "metadata": {},
   "source": [
    "##### Find the 10 most popular male baby names in CA in 2013.\n"
   ]
  },
  {
   "cell_type": "code",
   "execution_count": 44,
   "metadata": {},
   "outputs": [
    {
     "data": {
      "text/html": [
       "<div>\n",
       "<style scoped>\n",
       "    .dataframe tbody tr th:only-of-type {\n",
       "        vertical-align: middle;\n",
       "    }\n",
       "\n",
       "    .dataframe tbody tr th {\n",
       "        vertical-align: top;\n",
       "    }\n",
       "\n",
       "    .dataframe thead th {\n",
       "        text-align: right;\n",
       "    }\n",
       "</style>\n",
       "<table border=\"1\" class=\"dataframe\">\n",
       "  <thead>\n",
       "    <tr style=\"text-align: right;\">\n",
       "      <th></th>\n",
       "      <th>Id</th>\n",
       "      <th>Name</th>\n",
       "      <th>Year</th>\n",
       "      <th>Gender</th>\n",
       "      <th>State</th>\n",
       "      <th>Count</th>\n",
       "    </tr>\n",
       "  </thead>\n",
       "  <tbody>\n",
       "    <tr>\n",
       "      <th>19288</th>\n",
       "      <td>704421</td>\n",
       "      <td>Jacob</td>\n",
       "      <td>2013</td>\n",
       "      <td>M</td>\n",
       "      <td>CA</td>\n",
       "      <td>2879</td>\n",
       "    </tr>\n",
       "    <tr>\n",
       "      <th>19289</th>\n",
       "      <td>704422</td>\n",
       "      <td>Ethan</td>\n",
       "      <td>2013</td>\n",
       "      <td>M</td>\n",
       "      <td>CA</td>\n",
       "      <td>2659</td>\n",
       "    </tr>\n",
       "    <tr>\n",
       "      <th>19290</th>\n",
       "      <td>704423</td>\n",
       "      <td>Daniel</td>\n",
       "      <td>2013</td>\n",
       "      <td>M</td>\n",
       "      <td>CA</td>\n",
       "      <td>2590</td>\n",
       "    </tr>\n",
       "    <tr>\n",
       "      <th>19291</th>\n",
       "      <td>704424</td>\n",
       "      <td>Jayden</td>\n",
       "      <td>2013</td>\n",
       "      <td>M</td>\n",
       "      <td>CA</td>\n",
       "      <td>2580</td>\n",
       "    </tr>\n",
       "    <tr>\n",
       "      <th>19292</th>\n",
       "      <td>704425</td>\n",
       "      <td>Matthew</td>\n",
       "      <td>2013</td>\n",
       "      <td>M</td>\n",
       "      <td>CA</td>\n",
       "      <td>2553</td>\n",
       "    </tr>\n",
       "    <tr>\n",
       "      <th>...</th>\n",
       "      <td>...</td>\n",
       "      <td>...</td>\n",
       "      <td>...</td>\n",
       "      <td>...</td>\n",
       "      <td>...</td>\n",
       "      <td>...</td>\n",
       "    </tr>\n",
       "    <tr>\n",
       "      <th>21926</th>\n",
       "      <td>707059</td>\n",
       "      <td>Eliu</td>\n",
       "      <td>2013</td>\n",
       "      <td>M</td>\n",
       "      <td>CA</td>\n",
       "      <td>5</td>\n",
       "    </tr>\n",
       "    <tr>\n",
       "      <th>21925</th>\n",
       "      <td>707058</td>\n",
       "      <td>Elisandro</td>\n",
       "      <td>2013</td>\n",
       "      <td>M</td>\n",
       "      <td>CA</td>\n",
       "      <td>5</td>\n",
       "    </tr>\n",
       "    <tr>\n",
       "      <th>21924</th>\n",
       "      <td>707057</td>\n",
       "      <td>Elih</td>\n",
       "      <td>2013</td>\n",
       "      <td>M</td>\n",
       "      <td>CA</td>\n",
       "      <td>5</td>\n",
       "    </tr>\n",
       "    <tr>\n",
       "      <th>21923</th>\n",
       "      <td>707056</td>\n",
       "      <td>Ej</td>\n",
       "      <td>2013</td>\n",
       "      <td>M</td>\n",
       "      <td>CA</td>\n",
       "      <td>5</td>\n",
       "    </tr>\n",
       "    <tr>\n",
       "      <th>22178</th>\n",
       "      <td>707311</td>\n",
       "      <td>Zyair</td>\n",
       "      <td>2013</td>\n",
       "      <td>M</td>\n",
       "      <td>CA</td>\n",
       "      <td>5</td>\n",
       "    </tr>\n",
       "  </tbody>\n",
       "</table>\n",
       "<p>2891 rows × 6 columns</p>\n",
       "</div>"
      ],
      "text/plain": [
       "           Id       Name  Year Gender State  Count\n",
       "19288  704421      Jacob  2013      M    CA   2879\n",
       "19289  704422      Ethan  2013      M    CA   2659\n",
       "19290  704423     Daniel  2013      M    CA   2590\n",
       "19291  704424     Jayden  2013      M    CA   2580\n",
       "19292  704425    Matthew  2013      M    CA   2553\n",
       "...       ...        ...   ...    ...   ...    ...\n",
       "21926  707059       Eliu  2013      M    CA      5\n",
       "21925  707058  Elisandro  2013      M    CA      5\n",
       "21924  707057       Elih  2013      M    CA      5\n",
       "21923  707056         Ej  2013      M    CA      5\n",
       "22178  707311      Zyair  2013      M    CA      5\n",
       "\n",
       "[2891 rows x 6 columns]"
      ]
     },
     "execution_count": 44,
     "metadata": {},
     "output_type": "execute_result"
    }
   ],
   "source": [
    "# Let's first filter the dataframe to only keep male baby names from california in 2013\n",
    "df_M_Cali_2013 = df_names[(df_names['Year'] == 2013) &\n",
    "                         (df_names['State'] == 'CA') &\n",
    "                         (df_names['Gender'] == 'M')]\n",
    "\n",
    "# Let's now sort this dataframe by the 'Count' column in descending order and only print the first 10 rows\n",
    "sorted_df_M_Cali_2013 = df_M_Cali_2013.sort_values(by ='Count', ascending = False)\n",
    "\n",
    "sorted_df_M_Cali_2013"
   ]
  },
  {
   "cell_type": "code",
   "execution_count": 46,
   "metadata": {},
   "outputs": [
    {
     "data": {
      "text/html": [
       "<div>\n",
       "<style scoped>\n",
       "    .dataframe tbody tr th:only-of-type {\n",
       "        vertical-align: middle;\n",
       "    }\n",
       "\n",
       "    .dataframe tbody tr th {\n",
       "        vertical-align: top;\n",
       "    }\n",
       "\n",
       "    .dataframe thead th {\n",
       "        text-align: right;\n",
       "    }\n",
       "</style>\n",
       "<table border=\"1\" class=\"dataframe\">\n",
       "  <thead>\n",
       "    <tr style=\"text-align: right;\">\n",
       "      <th></th>\n",
       "      <th>Id</th>\n",
       "      <th>Name</th>\n",
       "      <th>Year</th>\n",
       "      <th>Gender</th>\n",
       "      <th>State</th>\n",
       "      <th>Count</th>\n",
       "    </tr>\n",
       "  </thead>\n",
       "  <tbody>\n",
       "    <tr>\n",
       "      <th>19288</th>\n",
       "      <td>704421</td>\n",
       "      <td>Jacob</td>\n",
       "      <td>2013</td>\n",
       "      <td>M</td>\n",
       "      <td>CA</td>\n",
       "      <td>2879</td>\n",
       "    </tr>\n",
       "    <tr>\n",
       "      <th>19289</th>\n",
       "      <td>704422</td>\n",
       "      <td>Ethan</td>\n",
       "      <td>2013</td>\n",
       "      <td>M</td>\n",
       "      <td>CA</td>\n",
       "      <td>2659</td>\n",
       "    </tr>\n",
       "    <tr>\n",
       "      <th>19290</th>\n",
       "      <td>704423</td>\n",
       "      <td>Daniel</td>\n",
       "      <td>2013</td>\n",
       "      <td>M</td>\n",
       "      <td>CA</td>\n",
       "      <td>2590</td>\n",
       "    </tr>\n",
       "    <tr>\n",
       "      <th>19291</th>\n",
       "      <td>704424</td>\n",
       "      <td>Jayden</td>\n",
       "      <td>2013</td>\n",
       "      <td>M</td>\n",
       "      <td>CA</td>\n",
       "      <td>2580</td>\n",
       "    </tr>\n",
       "    <tr>\n",
       "      <th>19292</th>\n",
       "      <td>704425</td>\n",
       "      <td>Matthew</td>\n",
       "      <td>2013</td>\n",
       "      <td>M</td>\n",
       "      <td>CA</td>\n",
       "      <td>2553</td>\n",
       "    </tr>\n",
       "    <tr>\n",
       "      <th>...</th>\n",
       "      <td>...</td>\n",
       "      <td>...</td>\n",
       "      <td>...</td>\n",
       "      <td>...</td>\n",
       "      <td>...</td>\n",
       "      <td>...</td>\n",
       "    </tr>\n",
       "    <tr>\n",
       "      <th>21926</th>\n",
       "      <td>707059</td>\n",
       "      <td>Eliu</td>\n",
       "      <td>2013</td>\n",
       "      <td>M</td>\n",
       "      <td>CA</td>\n",
       "      <td>5</td>\n",
       "    </tr>\n",
       "    <tr>\n",
       "      <th>21925</th>\n",
       "      <td>707058</td>\n",
       "      <td>Elisandro</td>\n",
       "      <td>2013</td>\n",
       "      <td>M</td>\n",
       "      <td>CA</td>\n",
       "      <td>5</td>\n",
       "    </tr>\n",
       "    <tr>\n",
       "      <th>21924</th>\n",
       "      <td>707057</td>\n",
       "      <td>Elih</td>\n",
       "      <td>2013</td>\n",
       "      <td>M</td>\n",
       "      <td>CA</td>\n",
       "      <td>5</td>\n",
       "    </tr>\n",
       "    <tr>\n",
       "      <th>21923</th>\n",
       "      <td>707056</td>\n",
       "      <td>Ej</td>\n",
       "      <td>2013</td>\n",
       "      <td>M</td>\n",
       "      <td>CA</td>\n",
       "      <td>5</td>\n",
       "    </tr>\n",
       "    <tr>\n",
       "      <th>22178</th>\n",
       "      <td>707311</td>\n",
       "      <td>Zyair</td>\n",
       "      <td>2013</td>\n",
       "      <td>M</td>\n",
       "      <td>CA</td>\n",
       "      <td>5</td>\n",
       "    </tr>\n",
       "  </tbody>\n",
       "</table>\n",
       "<p>2891 rows × 6 columns</p>\n",
       "</div>"
      ],
      "text/plain": [
       "           Id       Name  Year Gender State  Count\n",
       "19288  704421      Jacob  2013      M    CA   2879\n",
       "19289  704422      Ethan  2013      M    CA   2659\n",
       "19290  704423     Daniel  2013      M    CA   2590\n",
       "19291  704424     Jayden  2013      M    CA   2580\n",
       "19292  704425    Matthew  2013      M    CA   2553\n",
       "...       ...        ...   ...    ...   ...    ...\n",
       "21926  707059       Eliu  2013      M    CA      5\n",
       "21925  707058  Elisandro  2013      M    CA      5\n",
       "21924  707057       Elih  2013      M    CA      5\n",
       "21923  707056         Ej  2013      M    CA      5\n",
       "22178  707311      Zyair  2013      M    CA      5\n",
       "\n",
       "[2891 rows x 6 columns]"
      ]
     },
     "execution_count": 46,
     "metadata": {},
     "output_type": "execute_result"
    }
   ],
   "source": [
    "# The previous cell could be completed in a single line of code\n",
    "sorted_df_M_Cali_2013 = df_names[(df_names['Year'] == 2013) &\n",
    "                         (df_names['State'] == 'CA') &\n",
    "                         (df_names['Gender'] == 'M')].sort_values(by ='Count', ascending = False)"
   ]
  },
  {
   "cell_type": "markdown",
   "metadata": {},
   "source": [
    "### 2.3 Using groupby. to aggregate data"
   ]
  },
  {
   "cell_type": "markdown",
   "metadata": {},
   "source": [
    "##### How many male and female babies were born in 2014?"
   ]
  },
  {
   "cell_type": "code",
   "execution_count": 50,
   "metadata": {},
   "outputs": [
    {
     "name": "stdout",
     "output_type": "stream",
     "text": [
      "\n",
      "\n",
      "\n",
      "\n",
      "Gender\n",
      "F    1446259\n",
      "M    1667352\n",
      "Name: Count, dtype: int64\n"
     ]
    }
   ],
   "source": [
    "# use .groupby('Column to group by').aggregation_method() to group by year and gender\n",
    "#print(df_names.groupby(['Year' , 'Gender']).sum())\n",
    "\n",
    "print('\\n')\n",
    "\n",
    "# We are interested in the count column\n",
    "#print(df_names.groupby(['Year' , 'Gender']).sum()['Count'])\n",
    "\n",
    "print('\\n')\n",
    "\n",
    "# we are also interested in year 2014 specifically (.loc)\n",
    "print(df_names.groupby(['Year' , 'Gender']).sum()['Count'].loc[2014])"
   ]
  },
  {
   "cell_type": "markdown",
   "metadata": {},
   "source": [
    "##### Combining both the grouping function and the dataframe condition based filtering, answer the following question"
   ]
  },
  {
   "cell_type": "markdown",
   "metadata": {},
   "source": [
    "##### What is the most popular name that has the letter 'z' in it?"
   ]
  },
  {
   "cell_type": "code",
   "execution_count": 51,
   "metadata": {},
   "outputs": [],
   "source": [
    "df_name_Z = df_names[(df_names['Name'].str.contains('z')) | (df_names['Name'].str.contains('Z'))].groupby('Name').sum().sort_values(by= 'Count', ascending = False)"
   ]
  },
  {
   "cell_type": "code",
   "execution_count": 53,
   "metadata": {},
   "outputs": [
    {
     "data": {
      "text/html": [
       "<div>\n",
       "<style scoped>\n",
       "    .dataframe tbody tr th:only-of-type {\n",
       "        vertical-align: middle;\n",
       "    }\n",
       "\n",
       "    .dataframe tbody tr th {\n",
       "        vertical-align: top;\n",
       "    }\n",
       "\n",
       "    .dataframe thead th {\n",
       "        text-align: right;\n",
       "    }\n",
       "</style>\n",
       "<table border=\"1\" class=\"dataframe\">\n",
       "  <thead>\n",
       "    <tr style=\"text-align: right;\">\n",
       "      <th></th>\n",
       "      <th>Id</th>\n",
       "      <th>Year</th>\n",
       "      <th>Count</th>\n",
       "    </tr>\n",
       "    <tr>\n",
       "      <th>Name</th>\n",
       "      <th></th>\n",
       "      <th></th>\n",
       "      <th></th>\n",
       "    </tr>\n",
       "  </thead>\n",
       "  <tbody>\n",
       "    <tr>\n",
       "      <th>Elizabeth</th>\n",
       "      <td>293243593</td>\n",
       "      <td>205377</td>\n",
       "      <td>18905</td>\n",
       "    </tr>\n",
       "    <tr>\n",
       "      <th>Zoey</th>\n",
       "      <td>293244668</td>\n",
       "      <td>205377</td>\n",
       "      <td>14568</td>\n",
       "    </tr>\n",
       "    <tr>\n",
       "      <th>Zoe</th>\n",
       "      <td>293957347</td>\n",
       "      <td>207391</td>\n",
       "      <td>11791</td>\n",
       "    </tr>\n",
       "    <tr>\n",
       "      <th>Zachary</th>\n",
       "      <td>298261184</td>\n",
       "      <td>205377</td>\n",
       "      <td>10863</td>\n",
       "    </tr>\n",
       "    <tr>\n",
       "      <th>Mackenzie</th>\n",
       "      <td>290191136</td>\n",
       "      <td>209405</td>\n",
       "      <td>8144</td>\n",
       "    </tr>\n",
       "    <tr>\n",
       "      <th>Ezra</th>\n",
       "      <td>338973328</td>\n",
       "      <td>239605</td>\n",
       "      <td>6267</td>\n",
       "    </tr>\n",
       "    <tr>\n",
       "      <th>Hazel</th>\n",
       "      <td>286666912</td>\n",
       "      <td>201351</td>\n",
       "      <td>4922</td>\n",
       "    </tr>\n",
       "    <tr>\n",
       "      <th>Ezekiel</th>\n",
       "      <td>261234922</td>\n",
       "      <td>185242</td>\n",
       "      <td>4498</td>\n",
       "    </tr>\n",
       "    <tr>\n",
       "      <th>Mckenzie</th>\n",
       "      <td>266858791</td>\n",
       "      <td>191283</td>\n",
       "      <td>4488</td>\n",
       "    </tr>\n",
       "    <tr>\n",
       "      <th>Zayden</th>\n",
       "      <td>264907961</td>\n",
       "      <td>187255</td>\n",
       "      <td>4281</td>\n",
       "    </tr>\n",
       "  </tbody>\n",
       "</table>\n",
       "</div>"
      ],
      "text/plain": [
       "                  Id    Year  Count\n",
       "Name                               \n",
       "Elizabeth  293243593  205377  18905\n",
       "Zoey       293244668  205377  14568\n",
       "Zoe        293957347  207391  11791\n",
       "Zachary    298261184  205377  10863\n",
       "Mackenzie  290191136  209405   8144\n",
       "Ezra       338973328  239605   6267\n",
       "Hazel      286666912  201351   4922\n",
       "Ezekiel    261234922  185242   4498\n",
       "Mckenzie   266858791  191283   4488\n",
       "Zayden     264907961  187255   4281"
      ]
     },
     "execution_count": 53,
     "metadata": {},
     "output_type": "execute_result"
    }
   ],
   "source": [
    "df_name_Z.head(10)"
   ]
  },
  {
   "cell_type": "code",
   "execution_count": 54,
   "metadata": {},
   "outputs": [
    {
     "name": "stdout",
     "output_type": "stream",
     "text": [
      "          Name         Id    Year  Count\n",
      "0    Elizabeth  293243593  205377  18905\n",
      "1         Zoey  293244668  205377  14568\n",
      "2          Zoe  293957347  207391  11791\n",
      "3      Zachary  298261184  205377  10863\n",
      "4    Mackenzie  290191136  209405   8144\n",
      "..         ...        ...     ...    ...\n",
      "761  Kynzleigh    4937651    2014      5\n",
      "762       Elza     565090    2014      5\n",
      "763    Kynzlie    4937652    2014      5\n",
      "764    Larenzo    2872417    2013      5\n",
      "765      Tzivy    3749652    2014      5\n",
      "\n",
      "[766 rows x 4 columns]\n"
     ]
    }
   ],
   "source": [
    "# reset index to move 'Name' as column\n",
    "df_name_Z.reset_index(inplace= True)\n",
    "\n",
    "# print list of first 10 names\n",
    "print(df_name_Z)"
   ]
  },
  {
   "cell_type": "markdown",
   "metadata": {},
   "source": [
    "### 2.4 Iterate through a dataframe"
   ]
  },
  {
   "cell_type": "markdown",
   "metadata": {},
   "source": [
    "##### Iterrate through the dataframe and add a new 'HighFemaleBirth' column.\n",
    "\n",
    "For each baby name (row), 'HighFemaleBirth' is attributed a 'Yes' value if the number of birth with this name is above 500 and the name is female. A value of 'No' is otherwise attributed."
   ]
  },
  {
   "cell_type": "code",
   "execution_count": 55,
   "metadata": {},
   "outputs": [],
   "source": [
    "# select a smaller portion of the data (first 30,000 rows)\n",
    "data = df_names.iloc[:30000]"
   ]
  },
  {
   "cell_type": "code",
   "execution_count": 60,
   "metadata": {},
   "outputs": [
    {
     "data": {
      "text/plain": [
       "(30000, 6)"
      ]
     },
     "execution_count": 60,
     "metadata": {},
     "output_type": "execute_result"
    }
   ],
   "source": [
    "data.shape"
   ]
  },
  {
   "cell_type": "code",
   "execution_count": 61,
   "metadata": {},
   "outputs": [
    {
     "name": "stdout",
     "output_type": "stream",
     "text": [
      "Wall time: 863 ms\n"
     ]
    }
   ],
   "source": [
    "%%time\n",
    "# OPTION 1: Simple for loop over range\n",
    "\n",
    "# initalize empty list\n",
    "HighFemaleBirth = []\n",
    "\n",
    "for row_index in range(data.shape[0]):\n",
    "    Count = data.loc[row_index , 'Count']\n",
    "    Gender = data.loc[row_index, 'Gender']\n",
    "    \n",
    "    if (Count >=500) and (Gender == 'F'):\n",
    "        HighFemaleBirth.append('Yes')\n",
    "    else:\n",
    "        HighFemaleBirth.append('No')\n",
    "\n",
    "data['HighFemaleBirth'] = HighFemaleBirth\n"
   ]
  },
  {
   "cell_type": "code",
   "execution_count": 63,
   "metadata": {},
   "outputs": [
    {
     "name": "stdout",
     "output_type": "stream",
     "text": [
      "Wall time: 4.4 s\n"
     ]
    }
   ],
   "source": [
    "%%time\n",
    "# OPTION 2: Simple for loop using .iterrows()\n",
    "\n",
    "# initalize empty list\n",
    "HighFemaleBirth = []\n",
    "\n",
    "for index, row in data.iterrows():\n",
    "    Count = row['Count']\n",
    "    Gender = row['Gender']\n",
    "    \n",
    "    if (Count >=500) and (Gender == 'F'):\n",
    "        HighFemaleBirth.append('Yes')\n",
    "    else:\n",
    "        HighFemaleBirth.append('No')\n",
    "        \n",
    "data['HighFemaleBirth'] = HighFemaleBirth"
   ]
  },
  {
   "cell_type": "code",
   "execution_count": 65,
   "metadata": {},
   "outputs": [
    {
     "name": "stdout",
     "output_type": "stream",
     "text": [
      "Wall time: 545 ms\n"
     ]
    }
   ],
   "source": [
    "%%time\n",
    "# OPTION 3: Using pandas .apply\n",
    "def add_highfemalebirth(Count , Gender):\n",
    "    if (Count >=500) and (Gender == 'F'):\n",
    "        return 'Yes'\n",
    "    else:\n",
    "        return 'No'\n",
    "    \n",
    "data['HighFemaleBirth'] = data.apply(lambda row : add_highfemalebirth(row['Count'], row['Gender']) , axis =1)"
   ]
  },
  {
   "cell_type": "markdown",
   "metadata": {},
   "source": [
    "##### Check results of the new column is working"
   ]
  },
  {
   "cell_type": "code",
   "execution_count": 67,
   "metadata": {},
   "outputs": [
    {
     "data": {
      "text/plain": [
       "No     29852\n",
       "Yes      148\n",
       "Name: HighFemaleBirth, dtype: int64"
      ]
     },
     "execution_count": 67,
     "metadata": {},
     "output_type": "execute_result"
    }
   ],
   "source": [
    "# print the count of each value in the 'HighFemaleBirth' column\n",
    "data['HighFemaleBirth'].value_counts()"
   ]
  },
  {
   "cell_type": "code",
   "execution_count": 68,
   "metadata": {},
   "outputs": [
    {
     "data": {
      "text/html": [
       "<div>\n",
       "<style scoped>\n",
       "    .dataframe tbody tr th:only-of-type {\n",
       "        vertical-align: middle;\n",
       "    }\n",
       "\n",
       "    .dataframe tbody tr th {\n",
       "        vertical-align: top;\n",
       "    }\n",
       "\n",
       "    .dataframe thead th {\n",
       "        text-align: right;\n",
       "    }\n",
       "</style>\n",
       "<table border=\"1\" class=\"dataframe\">\n",
       "  <thead>\n",
       "    <tr style=\"text-align: right;\">\n",
       "      <th></th>\n",
       "      <th>Id</th>\n",
       "      <th>Name</th>\n",
       "      <th>Year</th>\n",
       "      <th>Gender</th>\n",
       "      <th>State</th>\n",
       "      <th>Count</th>\n",
       "      <th>HighFemaleBirth</th>\n",
       "    </tr>\n",
       "  </thead>\n",
       "  <tbody>\n",
       "    <tr>\n",
       "      <th>6837</th>\n",
       "      <td>307228</td>\n",
       "      <td>Sophia</td>\n",
       "      <td>2013</td>\n",
       "      <td>F</td>\n",
       "      <td>AZ</td>\n",
       "      <td>604</td>\n",
       "      <td>Yes</td>\n",
       "    </tr>\n",
       "    <tr>\n",
       "      <th>11353</th>\n",
       "      <td>557545</td>\n",
       "      <td>Sophia</td>\n",
       "      <td>2013</td>\n",
       "      <td>F</td>\n",
       "      <td>CA</td>\n",
       "      <td>3451</td>\n",
       "      <td>Yes</td>\n",
       "    </tr>\n",
       "    <tr>\n",
       "      <th>11354</th>\n",
       "      <td>557546</td>\n",
       "      <td>Isabella</td>\n",
       "      <td>2013</td>\n",
       "      <td>F</td>\n",
       "      <td>CA</td>\n",
       "      <td>2783</td>\n",
       "      <td>Yes</td>\n",
       "    </tr>\n",
       "    <tr>\n",
       "      <th>11355</th>\n",
       "      <td>557547</td>\n",
       "      <td>Mia</td>\n",
       "      <td>2013</td>\n",
       "      <td>F</td>\n",
       "      <td>CA</td>\n",
       "      <td>2592</td>\n",
       "      <td>Yes</td>\n",
       "    </tr>\n",
       "    <tr>\n",
       "      <th>11356</th>\n",
       "      <td>557548</td>\n",
       "      <td>Emma</td>\n",
       "      <td>2013</td>\n",
       "      <td>F</td>\n",
       "      <td>CA</td>\n",
       "      <td>2478</td>\n",
       "      <td>Yes</td>\n",
       "    </tr>\n",
       "    <tr>\n",
       "      <th>...</th>\n",
       "      <td>...</td>\n",
       "      <td>...</td>\n",
       "      <td>...</td>\n",
       "      <td>...</td>\n",
       "      <td>...</td>\n",
       "      <td>...</td>\n",
       "      <td>...</td>\n",
       "    </tr>\n",
       "    <tr>\n",
       "      <th>15374</th>\n",
       "      <td>561566</td>\n",
       "      <td>Valerie</td>\n",
       "      <td>2014</td>\n",
       "      <td>F</td>\n",
       "      <td>CA</td>\n",
       "      <td>534</td>\n",
       "      <td>Yes</td>\n",
       "    </tr>\n",
       "    <tr>\n",
       "      <th>15375</th>\n",
       "      <td>561567</td>\n",
       "      <td>Ruby</td>\n",
       "      <td>2014</td>\n",
       "      <td>F</td>\n",
       "      <td>CA</td>\n",
       "      <td>531</td>\n",
       "      <td>Yes</td>\n",
       "    </tr>\n",
       "    <tr>\n",
       "      <th>15376</th>\n",
       "      <td>561568</td>\n",
       "      <td>Claire</td>\n",
       "      <td>2014</td>\n",
       "      <td>F</td>\n",
       "      <td>CA</td>\n",
       "      <td>520</td>\n",
       "      <td>Yes</td>\n",
       "    </tr>\n",
       "    <tr>\n",
       "      <th>15377</th>\n",
       "      <td>561569</td>\n",
       "      <td>Ariel</td>\n",
       "      <td>2014</td>\n",
       "      <td>F</td>\n",
       "      <td>CA</td>\n",
       "      <td>507</td>\n",
       "      <td>Yes</td>\n",
       "    </tr>\n",
       "    <tr>\n",
       "      <th>15378</th>\n",
       "      <td>561570</td>\n",
       "      <td>Naomi</td>\n",
       "      <td>2014</td>\n",
       "      <td>F</td>\n",
       "      <td>CA</td>\n",
       "      <td>503</td>\n",
       "      <td>Yes</td>\n",
       "    </tr>\n",
       "  </tbody>\n",
       "</table>\n",
       "<p>148 rows × 7 columns</p>\n",
       "</div>"
      ],
      "text/plain": [
       "           Id      Name  Year Gender State  Count HighFemaleBirth\n",
       "6837   307228    Sophia  2013      F    AZ    604             Yes\n",
       "11353  557545    Sophia  2013      F    CA   3451             Yes\n",
       "11354  557546  Isabella  2013      F    CA   2783             Yes\n",
       "11355  557547       Mia  2013      F    CA   2592             Yes\n",
       "11356  557548      Emma  2013      F    CA   2478             Yes\n",
       "...       ...       ...   ...    ...   ...    ...             ...\n",
       "15374  561566   Valerie  2014      F    CA    534             Yes\n",
       "15375  561567      Ruby  2014      F    CA    531             Yes\n",
       "15376  561568    Claire  2014      F    CA    520             Yes\n",
       "15377  561569     Ariel  2014      F    CA    507             Yes\n",
       "15378  561570     Naomi  2014      F    CA    503             Yes\n",
       "\n",
       "[148 rows x 7 columns]"
      ]
     },
     "execution_count": 68,
     "metadata": {},
     "output_type": "execute_result"
    }
   ],
   "source": [
    "# Look at the rows that have a 'Yes' for 'HighFemaleBirth'\n",
    "test = data[data['HighFemaleBirth'] == 'Yes']\n",
    "test"
   ]
  },
  {
   "cell_type": "code",
   "execution_count": null,
   "metadata": {},
   "outputs": [],
   "source": []
  }
 ],
 "metadata": {
  "kernelspec": {
   "display_name": "Python 3 (ipykernel)",
   "language": "python",
   "name": "python3"
  },
  "language_info": {
   "codemirror_mode": {
    "name": "ipython",
    "version": 3
   },
   "file_extension": ".py",
   "mimetype": "text/x-python",
   "name": "python",
   "nbconvert_exporter": "python",
   "pygments_lexer": "ipython3",
   "version": "3.9.7"
  }
 },
 "nbformat": 4,
 "nbformat_minor": 4
}
