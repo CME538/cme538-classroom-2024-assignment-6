{
 "cells": [
  {
   "cell_type": "markdown",
   "id": "5ebf4771",
   "metadata": {},
   "source": [
    "# CME538 - Tutorial 1\n",
    "\n",
    "## The Data Science Toolbox\n",
    "\n",
    "Prepared by: Katia Ossetchkina"
   ]
  },
  {
   "cell_type": "markdown",
   "id": "eccdd2e0",
   "metadata": {},
   "source": [
    "### Tutorial Goals\n",
    "\n",
    "This tutorial is to help you get familiar with the Data Science toolkit. \n",
    "- Get familiar with the different IDEs (see powerpoint and \"How Does That Work\" videos coming later this week)\n",
    "- Get comfortable working with Jupyter notebooks (`.ipynb`)\n",
    "- Understand formatting and run options in notebooks"
   ]
  },
  {
   "cell_type": "markdown",
   "id": "f2ac38d0",
   "metadata": {},
   "source": [
    "### Notebooks (`.ipynb`) vs. Python Files (`.py`)\n",
    "\n",
    "In notebooks (`.ipynb` extension), we run cell blocks, which allows us to pick and chose different parts of the code we want to run. Code can be parsed out based on functionality, and different things we might want to compare and test. As well, notebooks provide a visual way to present your code, include different plots and charts (very helpful in data exploration, which we'll be doing a lot of in this course!), and also give you the option to include both text blocks (`markdown`, which is not executible, such as this cell block), and code cell blocks which you can run! All your course assignments here will be in `.ipynb` format. To run a `.ipynb`, we will be using `Jupyter Notebooks` from `Anaconda` or `JupyterHub` in this course (or `PyCharm` if you have the professional version). \n",
    "\n",
    "In contrast, in a Python file (`.py` extension), the entire file is run from start to finish, which is great for building data engineering pipelines, but you lose the ability to have the plots displayed, and segments of code running (but computation wise a `.py` file is much better designed). We will only touch on these towards the end of the course, so do not worry about this for now (but just be aware of the difference!). `PyCharm` will be used in this course to execute `.py` files."
   ]
  },
  {
   "cell_type": "markdown",
   "id": "68e7f694",
   "metadata": {},
   "source": [
    "### Cell Types\n",
    "\n",
    "There are two main types:\n",
    "\n",
    "1. `Code Cells`: These are executible cells with Python code. These will have Python syntax formatting, and also a `In[]` on the left side of the cell, indicating that it is executible.\n",
    "2. `Markdown`: These are text code cells which can help explain your code, and are not executing pieces of code (such as this one!). You can include images, formatting, text in these cells. For everything you can do with markdown (and there is a lot!), check out this link: https://www.markdownguide.org/basic-syntax/"
   ]
  },
  {
   "cell_type": "markdown",
   "id": "8f6f1f3e",
   "metadata": {},
   "source": [
    "This is a markdown cell too!"
   ]
  },
  {
   "cell_type": "code",
   "execution_count": 1,
   "id": "f5aa3c0f",
   "metadata": {},
   "outputs": [],
   "source": [
    "# This is a code cell!"
   ]
  },
  {
   "cell_type": "markdown",
   "id": "8d58dda9",
   "metadata": {},
   "source": [
    "### Some Code Samples"
   ]
  },
  {
   "cell_type": "code",
   "execution_count": 3,
   "id": "01bfd6f2",
   "metadata": {},
   "outputs": [],
   "source": [
    "# a hash at the beginning of a line is a commented out piece of code\n",
    "# comments are good to take notes, and explain what you are doing to a user"
   ]
  },
  {
   "cell_type": "code",
   "execution_count": 4,
   "id": "afedadd3",
   "metadata": {},
   "outputs": [
    {
     "name": "stdout",
     "output_type": "stream",
     "text": [
      "7\n"
     ]
    }
   ],
   "source": [
    "my_integer = 7 # you can also add comments like this at the end of a line of code\n",
    "\n",
    "# print out my variable\n",
    "print(my_integer)"
   ]
  },
  {
   "cell_type": "code",
   "execution_count": 5,
   "id": "dd4adf74",
   "metadata": {},
   "outputs": [
    {
     "name": "stdout",
     "output_type": "stream",
     "text": [
      "Requirement already satisfied: seaborn in /Users/ekaterinaossetchkina/opt/anaconda3/lib/python3.8/site-packages (0.11.0)\n",
      "Requirement already satisfied: pandas>=0.23 in /Users/ekaterinaossetchkina/opt/anaconda3/lib/python3.8/site-packages (from seaborn) (1.3.0)\n",
      "Requirement already satisfied: scipy>=1.0 in /Users/ekaterinaossetchkina/opt/anaconda3/lib/python3.8/site-packages (from seaborn) (1.9.3)\n",
      "Requirement already satisfied: matplotlib>=2.2 in /Users/ekaterinaossetchkina/opt/anaconda3/lib/python3.8/site-packages (from seaborn) (3.6.3)\n",
      "Requirement already satisfied: numpy>=1.15 in /Users/ekaterinaossetchkina/opt/anaconda3/lib/python3.8/site-packages (from seaborn) (1.24.0)\n",
      "Requirement already satisfied: kiwisolver>=1.0.1 in /Users/ekaterinaossetchkina/opt/anaconda3/lib/python3.8/site-packages (from matplotlib>=2.2->seaborn) (1.3.0)\n",
      "Requirement already satisfied: pillow>=6.2.0 in /Users/ekaterinaossetchkina/opt/anaconda3/lib/python3.8/site-packages (from matplotlib>=2.2->seaborn) (9.5.0)\n",
      "Requirement already satisfied: pyparsing>=2.2.1 in /Users/ekaterinaossetchkina/opt/anaconda3/lib/python3.8/site-packages (from matplotlib>=2.2->seaborn) (2.4.7)\n",
      "Requirement already satisfied: python-dateutil>=2.7 in /Users/ekaterinaossetchkina/opt/anaconda3/lib/python3.8/site-packages (from matplotlib>=2.2->seaborn) (2.8.1)\n",
      "Requirement already satisfied: cycler>=0.10 in /Users/ekaterinaossetchkina/opt/anaconda3/lib/python3.8/site-packages (from matplotlib>=2.2->seaborn) (0.10.0)\n",
      "Requirement already satisfied: packaging>=20.0 in /Users/ekaterinaossetchkina/opt/anaconda3/lib/python3.8/site-packages (from matplotlib>=2.2->seaborn) (22.0)\n",
      "Requirement already satisfied: contourpy>=1.0.1 in /Users/ekaterinaossetchkina/opt/anaconda3/lib/python3.8/site-packages (from matplotlib>=2.2->seaborn) (1.0.7)\n",
      "Requirement already satisfied: fonttools>=4.22.0 in /Users/ekaterinaossetchkina/opt/anaconda3/lib/python3.8/site-packages (from matplotlib>=2.2->seaborn) (4.38.0)\n",
      "Requirement already satisfied: six in /Users/ekaterinaossetchkina/opt/anaconda3/lib/python3.8/site-packages (from cycler>=0.10->matplotlib>=2.2->seaborn) (1.15.0)\n",
      "Requirement already satisfied: pytz>=2017.3 in /Users/ekaterinaossetchkina/opt/anaconda3/lib/python3.8/site-packages (from pandas>=0.23->seaborn) (2020.1)\n",
      "\u001B[33mWARNING: You are using pip version 21.1.2; however, version 23.2.1 is available.\n",
      "You should consider upgrading via the '/Users/ekaterinaossetchkina/opt/anaconda3/bin/python -m pip install --upgrade pip' command.\u001B[0m\n"
     ]
    }
   ],
   "source": [
    "# you can install modules (or libraries) directly in Jupyter notebook using \n",
    "# !pip install module-name\n",
    "# This is a one-time task - if this is new to you, check out the APS106 week 1 and 2 lectures on Quercus!\n",
    "\n",
    "!pip install seaborn"
   ]
  },
  {
   "cell_type": "code",
   "execution_count": 6,
   "id": "71c6cb74",
   "metadata": {},
   "outputs": [
    {
     "name": "stdout",
     "output_type": "stream",
     "text": [
      "This is our first tutorial!\n"
     ]
    }
   ],
   "source": [
    "# this is how you import a module\n",
    "import math\n",
    "\n",
    "# define a variable test\n",
    "test = 7\n",
    "\n",
    "# printing out a string!\n",
    "print(\"This is our first tutorial!\")"
   ]
  },
  {
   "cell_type": "code",
   "execution_count": 7,
   "id": "75b8f733",
   "metadata": {},
   "outputs": [
    {
     "data": {
      "text/plain": [
       "'Tisha likes to eat fancy feast and is 5 years old'"
      ]
     },
     "execution_count": 7,
     "metadata": {},
     "output_type": "execute_result"
    }
   ],
   "source": [
    "# let's define a function cat_name\n",
    "def cat_name(name, food, age):\n",
    "    return \"{} likes to eat {} and is {} years old\".format(name, food, age)\n",
    "\n",
    "# define variables\n",
    "new_name = \"Tisha\"\n",
    "food = \"fancy feast\"\n",
    "age = \"5\"\n",
    "\n",
    "# let's test our function cat_name with our variables!\n",
    "cat_name(new_name, food, age)"
   ]
  },
  {
   "cell_type": "markdown",
   "id": "869841db",
   "metadata": {},
   "source": [
    "### Types of Comments in Python\n",
    "\n",
    "- Comments (`#`): Good for adding descriptions after your code\n",
    "- Doc-Strings (`\"\"\" \"\"\"`): These are comments you will see in between triple quotes, most commonly found inside a function/method. These are really useful for documenting the function and arguments, see the example below!"
   ]
  },
  {
   "cell_type": "code",
   "execution_count": 8,
   "id": "dcae19ad",
   "metadata": {},
   "outputs": [],
   "source": [
    "# let's create a function my_function, which does some stuff with a string\n",
    "# we will also create a doc-string in the function\n",
    "\n",
    "def my_function(name):\n",
    "    \"\"\"\n",
    "    my function will print out your name\n",
    "    args: name (str)\n",
    "    \"\"\"\n",
    "    name = \"The best name is \" + name + \"!\"\n",
    "    return name"
   ]
  },
  {
   "cell_type": "code",
   "execution_count": 9,
   "id": "6eda3a6d",
   "metadata": {
    "scrolled": false
   },
   "outputs": [
    {
     "name": "stdout",
     "output_type": "stream",
     "text": [
      "Help on function my_function in module __main__:\n",
      "\n",
      "my_function(name)\n",
      "    my function will print out your name\n",
      "    args: name (str)\n"
     ]
    }
   ],
   "source": [
    "# the help function is built into Python3, and if your function\n",
    "# has a doc-string, you can read about your function!\n",
    "\n",
    "help(my_function)"
   ]
  },
  {
   "cell_type": "code",
   "execution_count": 15,
   "id": "3d18346f",
   "metadata": {},
   "outputs": [
    {
     "data": {
      "image/png": "[encoded data removed]",
      "text/plain": [
       "<Figure size 432x288 with 1 Axes>"
      ]
     },
     "metadata": {
      "needs_background": "light"
     },
     "output_type": "display_data"
    }
   ],
   "source": [
    "# let's run a simple scatter plot \n",
    "import matplotlib.pyplot as plt\n",
    "\n",
    "# defining our lists (or arrays)\n",
    "x = [1,2,3,4,5]\n",
    "y = [1,2,3,4,5]\n",
    "\n",
    "# define the plot\n",
    "plt.scatter(x,y)\n",
    "plt.show()\n",
    "\n",
    "# you can also save it as a png if you wanted! dpi = dots per inch (resolution)\n",
    "# plt.savefig('scatter_plot.png',dpi=300)"
   ]
  },
  {
   "cell_type": "markdown",
   "id": "093a1d1b",
   "metadata": {},
   "source": [
    "Remember how we defined `x` up above for the scatter plot? \n",
    "\n",
    "Even though it is in a different cell, the Python kernel remembers all the variables from your run. This allows us to re-use x in other blocks of code, in the cell below we just print `x` as an example. (Also an important note to remember where you define things, and your last run. It is easy to over-write variables, so make sure to name things well and remember what you last executed)."
   ]
  },
  {
   "cell_type": "code",
   "execution_count": 16,
   "id": "e2495c5c",
   "metadata": {},
   "outputs": [
    {
     "name": "stdout",
     "output_type": "stream",
     "text": [
      "Old x: [1, 2, 3, 4, 5]\n",
      "New x: [5, 2, 3, 4, 5]\n"
     ]
    }
   ],
   "source": [
    "# remember how we defined x up above?\n",
    "print('Old x: {}'.format(x))\n",
    "\n",
    "# let's modify the first item in the array x now! Remember in Python we start to count from 0\n",
    "x[0] = 5\n",
    "\n",
    "# let's print the updated x array\n",
    "print('New x: {}'.format(x))"
   ]
  },
  {
   "cell_type": "code",
   "execution_count": null,
   "id": "a3586542",
   "metadata": {},
   "outputs": [],
   "source": []
  }
 ],
 "metadata": {
  "kernelspec": {
   "display_name": "Python 3",
   "language": "python",
   "name": "python3"
  },
  "language_info": {
   "codemirror_mode": {
    "name": "ipython",
    "version": 3
   },
   "file_extension": ".py",
   "mimetype": "text/x-python",
   "name": "python",
   "nbconvert_exporter": "python",
   "pygments_lexer": "ipython3",
   "version": "3.8.5"
  }
 },
 "nbformat": 4,
 "nbformat_minor": 5
}
