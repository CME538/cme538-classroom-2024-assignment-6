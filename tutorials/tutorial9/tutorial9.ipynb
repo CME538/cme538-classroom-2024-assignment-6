{
 "cells": [
  {
   "cell_type": "markdown",
   "metadata": {},
   "source": [
    "# CME538 - Introduction to Data Science\n",
    "\n",
    "## Tutorial 9 - Feature Selection, Hyper-Parameter Tuning, and Regularization\n",
    "By Navid Kayhani and Marc Saleh\n",
    "\n",
    "-\n",
    "\n",
    "\n",
    "\n",
    "\n",
    "\n",
    "This notebook is mainly based on:\n",
    "\n",
    "[[1]](https://www.kaggle.com/gunesevitan/titanic-advanced-feature-engineering-tutorial) Titanic - Advanced Feature Engineering Tutorial\n",
    "\n"
   ]
  },
  {
   "cell_type": "markdown",
   "metadata": {},
   "source": [
    "<a id='section0'></a>\n",
    "## Setup Notebook\n",
    "First, we need to import the Python packages we plan to use.\n"
   ]
  },
  {
   "cell_type": "code",
   "execution_count": 1,
   "metadata": {},
   "outputs": [],
   "source": [
    "import matplotlib.pyplot as plt\n",
    "import pandas as pd\n",
    "import numpy as np\n",
    "import seaborn as sns\n",
    "\n",
    "from sklearn.preprocessing import StandardScaler\n",
    "from sklearn.model_selection import train_test_split\n",
    "\n",
    "# generate confusion matrix\n",
    "from sklearn.metrics import confusion_matrix\n",
    "from sklearn.metrics import ConfusionMatrixDisplay\n",
    "\n",
    "#Logestic Regresion\n",
    "from sklearn.linear_model import LogisticRegression\n",
    "#Metrics\n",
    "from sklearn.metrics import accuracy_score, roc_curve, auc\n",
    "from sklearn.metrics import confusion_matrix,classification_report,accuracy_score\n",
    "\n",
    "#model selection\n",
    "from sklearn.model_selection import StratifiedKFold\n",
    "\n",
    "# Configure Notebook\n",
    "#for plots to be inline\n",
    "%matplotlib inline \n",
    "#for auto_complete \n",
    "%config Completer.use_jedi = False \n",
    "# import warnings\n",
    "\n",
    "# warnings.filterwarnings('ignore')\n",
    "plt.style.use('fivethirtyeight')\n",
    "sns.set_context(\"notebook\")"
   ]
  },
  {
   "cell_type": "markdown",
   "metadata": {},
   "source": [
    "<a id='section1'></a>\n",
    "\n",
    "# Reading data and exploratory data analysis\n",
    "\n",
    "## Read in data\n",
    "\n",
    "The next step after importing the requried Python packages is to import the dataset. We use the titanic dataset for this tutorial. "
   ]
  },
  {
   "cell_type": "code",
   "execution_count": 2,
   "metadata": {},
   "outputs": [
    {
     "data": {
      "text/html": [
       "<div>\n",
       "<style scoped>\n",
       "    .dataframe tbody tr th:only-of-type {\n",
       "        vertical-align: middle;\n",
       "    }\n",
       "\n",
       "    .dataframe tbody tr th {\n",
       "        vertical-align: top;\n",
       "    }\n",
       "\n",
       "    .dataframe thead th {\n",
       "        text-align: right;\n",
       "    }\n",
       "</style>\n",
       "<table border=\"1\" class=\"dataframe\">\n",
       "  <thead>\n",
       "    <tr style=\"text-align: right;\">\n",
       "      <th></th>\n",
       "      <th>Survived</th>\n",
       "      <th>Pclass</th>\n",
       "      <th>Name</th>\n",
       "      <th>Sex</th>\n",
       "      <th>Age</th>\n",
       "      <th>SibSp</th>\n",
       "      <th>Parch</th>\n",
       "      <th>Ticket</th>\n",
       "      <th>Fare</th>\n",
       "      <th>Cabin</th>\n",
       "      <th>Embarked</th>\n",
       "    </tr>\n",
       "    <tr>\n",
       "      <th>PassengerId</th>\n",
       "      <th></th>\n",
       "      <th></th>\n",
       "      <th></th>\n",
       "      <th></th>\n",
       "      <th></th>\n",
       "      <th></th>\n",
       "      <th></th>\n",
       "      <th></th>\n",
       "      <th></th>\n",
       "      <th></th>\n",
       "      <th></th>\n",
       "    </tr>\n",
       "  </thead>\n",
       "  <tbody>\n",
       "    <tr>\n",
       "      <th>1</th>\n",
       "      <td>0</td>\n",
       "      <td>3</td>\n",
       "      <td>Braund, Mr. Owen Harris</td>\n",
       "      <td>male</td>\n",
       "      <td>22.0</td>\n",
       "      <td>1</td>\n",
       "      <td>0</td>\n",
       "      <td>A/5 21171</td>\n",
       "      <td>7.2500</td>\n",
       "      <td>NaN</td>\n",
       "      <td>S</td>\n",
       "    </tr>\n",
       "    <tr>\n",
       "      <th>2</th>\n",
       "      <td>1</td>\n",
       "      <td>1</td>\n",
       "      <td>Cumings, Mrs. John Bradley (Florence Briggs Th...</td>\n",
       "      <td>female</td>\n",
       "      <td>38.0</td>\n",
       "      <td>1</td>\n",
       "      <td>0</td>\n",
       "      <td>PC 17599</td>\n",
       "      <td>71.2833</td>\n",
       "      <td>C85</td>\n",
       "      <td>C</td>\n",
       "    </tr>\n",
       "    <tr>\n",
       "      <th>3</th>\n",
       "      <td>1</td>\n",
       "      <td>3</td>\n",
       "      <td>Heikkinen, Miss. Laina</td>\n",
       "      <td>female</td>\n",
       "      <td>26.0</td>\n",
       "      <td>0</td>\n",
       "      <td>0</td>\n",
       "      <td>STON/O2. 3101282</td>\n",
       "      <td>7.9250</td>\n",
       "      <td>NaN</td>\n",
       "      <td>S</td>\n",
       "    </tr>\n",
       "    <tr>\n",
       "      <th>4</th>\n",
       "      <td>1</td>\n",
       "      <td>1</td>\n",
       "      <td>Futrelle, Mrs. Jacques Heath (Lily May Peel)</td>\n",
       "      <td>female</td>\n",
       "      <td>35.0</td>\n",
       "      <td>1</td>\n",
       "      <td>0</td>\n",
       "      <td>113803</td>\n",
       "      <td>53.1000</td>\n",
       "      <td>C123</td>\n",
       "      <td>S</td>\n",
       "    </tr>\n",
       "    <tr>\n",
       "      <th>5</th>\n",
       "      <td>0</td>\n",
       "      <td>3</td>\n",
       "      <td>Allen, Mr. William Henry</td>\n",
       "      <td>male</td>\n",
       "      <td>35.0</td>\n",
       "      <td>0</td>\n",
       "      <td>0</td>\n",
       "      <td>373450</td>\n",
       "      <td>8.0500</td>\n",
       "      <td>NaN</td>\n",
       "      <td>S</td>\n",
       "    </tr>\n",
       "  </tbody>\n",
       "</table>\n",
       "</div>"
      ],
      "text/plain": [
       "             Survived  Pclass  \\\n",
       "PassengerId                     \n",
       "1                   0       3   \n",
       "2                   1       1   \n",
       "3                   1       3   \n",
       "4                   1       1   \n",
       "5                   0       3   \n",
       "\n",
       "                                                          Name     Sex   Age  \\\n",
       "PassengerId                                                                    \n",
       "1                                      Braund, Mr. Owen Harris    male  22.0   \n",
       "2            Cumings, Mrs. John Bradley (Florence Briggs Th...  female  38.0   \n",
       "3                                       Heikkinen, Miss. Laina  female  26.0   \n",
       "4                 Futrelle, Mrs. Jacques Heath (Lily May Peel)  female  35.0   \n",
       "5                                     Allen, Mr. William Henry    male  35.0   \n",
       "\n",
       "             SibSp  Parch            Ticket     Fare Cabin Embarked  \n",
       "PassengerId                                                          \n",
       "1                1      0         A/5 21171   7.2500   NaN        S  \n",
       "2                1      0          PC 17599  71.2833   C85        C  \n",
       "3                0      0  STON/O2. 3101282   7.9250   NaN        S  \n",
       "4                1      0            113803  53.1000  C123        S  \n",
       "5                0      0            373450   8.0500   NaN        S  "
      ]
     },
     "execution_count": 2,
     "metadata": {},
     "output_type": "execute_result"
    }
   ],
   "source": [
    "df_titanic = ...\n",
    "df_titanic.head()"
   ]
  },
  {
   "cell_type": "markdown",
   "metadata": {},
   "source": [
    "Now let's look at the dataset using `info()` method"
   ]
  },
  {
   "cell_type": "code",
   "execution_count": 3,
   "metadata": {
    "scrolled": true
   },
   "outputs": [
    {
     "name": "stdout",
     "output_type": "stream",
     "text": [
      "<class 'pandas.core.frame.DataFrame'>\n",
      "Int64Index: 891 entries, 1 to 891\n",
      "Data columns (total 11 columns):\n",
      " #   Column    Non-Null Count  Dtype  \n",
      "---  ------    --------------  -----  \n",
      " 0   Survived  891 non-null    int64  \n",
      " 1   Pclass    891 non-null    int64  \n",
      " 2   Name      891 non-null    object \n",
      " 3   Sex       891 non-null    object \n",
      " 4   Age       714 non-null    float64\n",
      " 5   SibSp     891 non-null    int64  \n",
      " 6   Parch     891 non-null    int64  \n",
      " 7   Ticket    891 non-null    object \n",
      " 8   Fare      891 non-null    float64\n",
      " 9   Cabin     204 non-null    object \n",
      " 10  Embarked  889 non-null    object \n",
      "dtypes: float64(2), int64(4), object(5)\n",
      "memory usage: 83.5+ KB\n"
     ]
    }
   ],
   "source": [
    "..."
   ]
  },
  {
   "cell_type": "markdown",
   "metadata": {},
   "source": [
    "Let me provide more information about each column "
   ]
  },
  {
   "cell_type": "markdown",
   "metadata": {},
   "source": [
    "* `PassengerId` passenger unique id (index)\n",
    "* `Survived` target variable (**0** or **1**):\n",
    "    - **1 = Survived**\n",
    "    - **0 = Not Survived**\n",
    "* `Pclass` (Passenger Class) a categorical ordinal feature which has **3** unique values (**1**,  **2 **or **3**):\n",
    "    - **1 = First Class**\n",
    "    - **2 = Premium Economy Class**\n",
    "    - **3 = Economy Class**\n",
    "* `Name` last name, title, first name\n",
    "* `Sex` (Passenger gender) categorical feature\n",
    "* `Age` here a float\n",
    "* `SibSp` total number of the passengers' siblings and spouse\n",
    "* `Parch` total number of the passengers' parents and children\n",
    "* `Ticket` ticket number \n",
    "* `Fare` fare paid by the passenger \n",
    "* `Cabin` cabin number\n",
    "* `Embarked` (Embarkation point) a categorical feature which has **3** unique values (**C**, **Q** or **S**):\n",
    "    - **C = Cherbourg, France**\n",
    "    - **Q = Queesntown, Ireland (present day Cobh, Ireland)**\n",
    "    - **S = Southampton, U.K.**"
   ]
  },
  {
   "cell_type": "markdown",
   "metadata": {},
   "source": [
    "## Data Cleaning"
   ]
  },
  {
   "cell_type": "markdown",
   "metadata": {},
   "source": [
    "### **Missing Values**"
   ]
  },
  {
   "cell_type": "markdown",
   "metadata": {},
   "source": [
    "Some columns have missing values."
   ]
  },
  {
   "cell_type": "code",
   "execution_count": 4,
   "metadata": {},
   "outputs": [
    {
     "data": {
      "text/plain": [
       "Survived      0\n",
       "Pclass        0\n",
       "Name          0\n",
       "Sex           0\n",
       "Age         177\n",
       "SibSp         0\n",
       "Parch         0\n",
       "Ticket        0\n",
       "Fare          0\n",
       "Cabin       687\n",
       "Embarked      2\n",
       "dtype: int64"
      ]
     },
     "execution_count": 4,
     "metadata": {},
     "output_type": "execute_result"
    }
   ],
   "source": [
    "..."
   ]
  },
  {
   "cell_type": "markdown",
   "metadata": {},
   "source": [
    "Roughly **78%** of the values in `Cabin` is missing. Missing values in `Age`, `Embarked` can be filled with a descriptive statistical measure but that wouldn't work for `Cabin`."
   ]
  },
  {
   "cell_type": "markdown",
   "metadata": {},
   "source": [
    "####  Age"
   ]
  },
  {
   "cell_type": "code",
   "execution_count": 5,
   "metadata": {},
   "outputs": [
    {
     "data": {
      "image/png": "[encoded data removed]",
      "text/plain": [
       "<Figure size 432x288 with 1 Axes>"
      ]
     },
     "metadata": {},
     "output_type": "display_data"
    }
   ],
   "source": [
    "# Plot age distribution\n",
    "ax = ...\n",
    "#plot density\n",
    "...\n",
    "\n",
    "\n",
    "ax.set(xlabel='Age')\n",
    "plt.axvline(x=..., color = 'red', ls='--')\n",
    "plt.axvline(x=..., color = 'yellow', ls='--')\n",
    "plt.text(30.1,0,'mean {}'.format(...,rotation=90)\n",
    "plt.text(25.1,0,'median {}'.format(...),rotation=90)\n",
    "\n",
    "\n",
    "plt.legend()\n",
    "plt.xlim(0,85)\n",
    "plt.show()"
   ]
  },
  {
   "cell_type": "markdown",
   "metadata": {},
   "source": [
    "`Age` is (right) skewed, using the mean might give us biased ages towards older ages. Using the median to impute the missing values might be a better idea. However, let's see a more involved approach for imputing missing values."
   ]
  },
  {
   "cell_type": "markdown",
   "metadata": {},
   "source": [
    "Let's check which feature is more correlated with `Age` and calculate the median based on that feature "
   ]
  },
  {
   "cell_type": "code",
   "execution_count": 6,
   "metadata": {},
   "outputs": [
    {
     "data": {
      "text/plain": [
       "Age         1.000000\n",
       "Pclass      0.369226\n",
       "SibSp       0.308247\n",
       "Parch       0.189119\n",
       "Fare        0.096067\n",
       "Survived    0.077221\n",
       "Name: Age, dtype: float64"
      ]
     },
     "execution_count": 6,
     "metadata": {},
     "output_type": "execute_result"
    }
   ],
   "source": [
    "..."
   ]
  },
  {
   "cell_type": "markdown",
   "metadata": {},
   "source": [
    "Let's see if the medians are actually different for different `Pclass`"
   ]
  },
  {
   "cell_type": "code",
   "execution_count": 7,
   "metadata": {},
   "outputs": [
    {
     "data": {
      "text/plain": [
       "Pclass\n",
       "1    37.0\n",
       "2    29.0\n",
       "3    24.0\n",
       "Name: Age, dtype: float64"
      ]
     },
     "execution_count": 7,
     "metadata": {},
     "output_type": "execute_result"
    }
   ],
   "source": [
    "..."
   ]
  },
  {
   "cell_type": "markdown",
   "metadata": {},
   "source": [
    "Let's also examine categorical features like `Sex` "
   ]
  },
  {
   "cell_type": "code",
   "execution_count": 8,
   "metadata": {},
   "outputs": [
    {
     "data": {
      "text/plain": [
       "Sex\n",
       "female    27.0\n",
       "male      29.0\n",
       "Name: Age, dtype: float64"
      ]
     },
     "execution_count": 8,
     "metadata": {},
     "output_type": "execute_result"
    }
   ],
   "source": [
    "..."
   ]
  },
  {
   "cell_type": "markdown",
   "metadata": {},
   "source": [
    "Now let's combine them"
   ]
  },
  {
   "cell_type": "code",
   "execution_count": 9,
   "metadata": {},
   "outputs": [
    {
     "data": {
      "text/plain": [
       "Pclass  Sex   \n",
       "1       female    35.0\n",
       "        male      40.0\n",
       "2       female    28.0\n",
       "        male      30.0\n",
       "3       female    21.5\n",
       "        male      25.0\n",
       "Name: Age, dtype: float64"
      ]
     },
     "execution_count": 9,
     "metadata": {},
     "output_type": "execute_result"
    }
   ],
   "source": [
    "..."
   ]
  },
  {
   "cell_type": "markdown",
   "metadata": {},
   "source": [
    "They seem like meaningful categories, so let's keep that. The higher `Pclass`, the higher the median `Age` for both males and females. However, females tend to have slightly lower median `Age` than males. Now, let's fill the missing values in `age` feature by the above values. "
   ]
  },
  {
   "cell_type": "code",
   "execution_count": 10,
   "metadata": {},
   "outputs": [
    {
     "data": {
      "text/plain": [
       "Survived      0\n",
       "Pclass        0\n",
       "Name          0\n",
       "Sex           0\n",
       "Age           0\n",
       "SibSp         0\n",
       "Parch         0\n",
       "Ticket        0\n",
       "Fare          0\n",
       "Cabin       687\n",
       "Embarked      2\n",
       "dtype: int64"
      ]
     },
     "execution_count": 10,
     "metadata": {},
     "output_type": "execute_result"
    }
   ],
   "source": [
    "# Filling the missing values in Age with the medians of Sex and Pclass groups\n",
    "df_titanic['Age'] = ...\n",
    "df_titanic.isnull().sum()"
   ]
  },
  {
   "cell_type": "markdown",
   "metadata": {},
   "source": [
    "#### Embarked"
   ]
  },
  {
   "cell_type": "markdown",
   "metadata": {},
   "source": [
    "`Embarked` is a categorical feature and there are only **2** missing values. Let's see what they are"
   ]
  },
  {
   "cell_type": "code",
   "execution_count": 11,
   "metadata": {},
   "outputs": [
    {
     "data": {
      "text/html": [
       "<div>\n",
       "<style scoped>\n",
       "    .dataframe tbody tr th:only-of-type {\n",
       "        vertical-align: middle;\n",
       "    }\n",
       "\n",
       "    .dataframe tbody tr th {\n",
       "        vertical-align: top;\n",
       "    }\n",
       "\n",
       "    .dataframe thead th {\n",
       "        text-align: right;\n",
       "    }\n",
       "</style>\n",
       "<table border=\"1\" class=\"dataframe\">\n",
       "  <thead>\n",
       "    <tr style=\"text-align: right;\">\n",
       "      <th></th>\n",
       "      <th>Survived</th>\n",
       "      <th>Pclass</th>\n",
       "      <th>Name</th>\n",
       "      <th>Sex</th>\n",
       "      <th>Age</th>\n",
       "      <th>SibSp</th>\n",
       "      <th>Parch</th>\n",
       "      <th>Ticket</th>\n",
       "      <th>Fare</th>\n",
       "      <th>Cabin</th>\n",
       "      <th>Embarked</th>\n",
       "    </tr>\n",
       "    <tr>\n",
       "      <th>PassengerId</th>\n",
       "      <th></th>\n",
       "      <th></th>\n",
       "      <th></th>\n",
       "      <th></th>\n",
       "      <th></th>\n",
       "      <th></th>\n",
       "      <th></th>\n",
       "      <th></th>\n",
       "      <th></th>\n",
       "      <th></th>\n",
       "      <th></th>\n",
       "    </tr>\n",
       "  </thead>\n",
       "  <tbody>\n",
       "    <tr>\n",
       "      <th>62</th>\n",
       "      <td>1</td>\n",
       "      <td>1</td>\n",
       "      <td>Icard, Miss. Amelie</td>\n",
       "      <td>female</td>\n",
       "      <td>38.0</td>\n",
       "      <td>0</td>\n",
       "      <td>0</td>\n",
       "      <td>113572</td>\n",
       "      <td>80.0</td>\n",
       "      <td>B28</td>\n",
       "      <td>NaN</td>\n",
       "    </tr>\n",
       "    <tr>\n",
       "      <th>830</th>\n",
       "      <td>1</td>\n",
       "      <td>1</td>\n",
       "      <td>Stone, Mrs. George Nelson (Martha Evelyn)</td>\n",
       "      <td>female</td>\n",
       "      <td>62.0</td>\n",
       "      <td>0</td>\n",
       "      <td>0</td>\n",
       "      <td>113572</td>\n",
       "      <td>80.0</td>\n",
       "      <td>B28</td>\n",
       "      <td>NaN</td>\n",
       "    </tr>\n",
       "  </tbody>\n",
       "</table>\n",
       "</div>"
      ],
      "text/plain": [
       "             Survived  Pclass                                       Name  \\\n",
       "PassengerId                                                                \n",
       "62                  1       1                        Icard, Miss. Amelie   \n",
       "830                 1       1  Stone, Mrs. George Nelson (Martha Evelyn)   \n",
       "\n",
       "                Sex   Age  SibSp  Parch  Ticket  Fare Cabin Embarked  \n",
       "PassengerId                                                           \n",
       "62           female  38.0      0      0  113572  80.0   B28      NaN  \n",
       "830          female  62.0      0      0  113572  80.0   B28      NaN  "
      ]
     },
     "execution_count": 11,
     "metadata": {},
     "output_type": "execute_result"
    }
   ],
   "source": [
    "..."
   ]
  },
  {
   "cell_type": "markdown",
   "metadata": {},
   "source": [
    "We can just impute with the port where most people boarded"
   ]
  },
  {
   "cell_type": "code",
   "execution_count": 12,
   "metadata": {},
   "outputs": [
    {
     "data": {
      "image/png": "[encoded data removed]",
      "text/plain": [
       "<Figure size 432x288 with 1 Axes>"
      ]
     },
     "metadata": {},
     "output_type": "display_data"
    }
   ],
   "source": [
    "# check distribution of embarked value\n",
    "sns.countplot(...)\n",
    "plt.show()"
   ]
  },
  {
   "cell_type": "markdown",
   "metadata": {},
   "source": [
    "Missing values in `Embarked` are filled with *S*."
   ]
  },
  {
   "cell_type": "code",
   "execution_count": 13,
   "metadata": {},
   "outputs": [],
   "source": [
    "# Filling the missing values in Embarked with S\n",
    "..."
   ]
  },
  {
   "cell_type": "markdown",
   "metadata": {},
   "source": [
    "#### Cabin"
   ]
  },
  {
   "cell_type": "markdown",
   "metadata": {},
   "source": [
    "Many `Cabin` values are missing. Let's drop the feature"
   ]
  },
  {
   "cell_type": "code",
   "execution_count": 14,
   "metadata": {},
   "outputs": [],
   "source": [
    "# Dropping the Cabin feature\n",
    "..."
   ]
  },
  {
   "cell_type": "markdown",
   "metadata": {},
   "source": [
    "Now we have handled the missing values in `Age`, `Embarked`, and `Cabin` features, and there is not missing values anymore. "
   ]
  },
  {
   "cell_type": "markdown",
   "metadata": {},
   "source": [
    "### EDA"
   ]
  },
  {
   "cell_type": "markdown",
   "metadata": {},
   "source": [
    "Let's look at the target variable distribution  "
   ]
  },
  {
   "cell_type": "code",
   "execution_count": 22,
   "metadata": {},
   "outputs": [
    {
     "data": {
      "image/png": "[encoded data removed]",
      "text/plain": [
       "<Figure size 432x288 with 1 Axes>"
      ]
     },
     "metadata": {},
     "output_type": "display_data"
    }
   ],
   "source": [
    "# Target variable (Survived)\n",
    "survived = ...\n",
    "not_survived = ...\n",
    "survived_per = survived / df_titanic.shape[0] * 100\n",
    "not_survived_per = not_survived / df_titanic.shape[0] * 100\n",
    "sns.countplot(x='Survived', data=df_titanic)\n",
    "plt.xticks((0, 1), ['Not Survived ({0:.2f}%)'.format(not_survived_per), 'Survived ({0:.2f}%)'.format(survived_per)])\n",
    "plt.show()"
   ]
  },
  {
   "cell_type": "markdown",
   "metadata": {},
   "source": [
    "### **Correlations**\n",
    "Many features are correlated with each other. The highest correlation between features is between between `Fare` and `Pclass`, as expected. Also, `SibSp` and `Parch` are highly correlated and show the size of a family. "
   ]
  },
  {
   "cell_type": "code",
   "execution_count": 33,
   "metadata": {},
   "outputs": [
    {
     "data": {
      "image/png": "[encoded data removed]",
      "text/plain": [
       "<Figure size 720x720 with 2 Axes>"
      ]
     },
     "metadata": {},
     "output_type": "display_data"
    }
   ],
   "source": [
    "fig, axs = plt.subplots( figsize=(10, 10))\n",
    "\n",
    "sns.heatmap(..., annot_kws={'size': 14})   \n",
    "axs.tick_params(axis='x', labelsize=14)\n",
    "axs.tick_params(axis='y', labelsize=14)\n",
    "    \n",
    "axs.set_title('Correlations', size=15)\n",
    "\n",
    "plt.show()"
   ]
  },
  {
   "cell_type": "markdown",
   "metadata": {},
   "source": [
    "### **Target Distribution in Features**"
   ]
  },
  {
   "cell_type": "code",
   "execution_count": 42,
   "metadata": {},
   "outputs": [
    {
     "data": {
      "image/png": "[encoded data removed]",
      "text/plain": [
       "<Figure size 432x288 with 1 Axes>"
      ]
     },
     "metadata": {},
     "output_type": "display_data"
    }
   ],
   "source": [
    "# fig, ax = plt.subplots(figsize=(10, 10))\n",
    "\n",
    "# Distribution of survival in feature Age\n",
    "sns.distplot(..., color = 'red', label='Not Survived', hist=True)\n",
    "sns.distplot(..., color = 'green', label='Survived', hist=True)\n",
    "plt.legend()\n",
    "\n",
    "plt.show()"
   ]
  },
  {
   "cell_type": "code",
   "execution_count": 43,
   "metadata": {},
   "outputs": [
    {
     "data": {
      "image/png": "[encoded data removed]",
      "text/plain": [
       "<Figure size 432x288 with 1 Axes>"
      ]
     },
     "metadata": {},
     "output_type": "display_data"
    }
   ],
   "source": [
    "# fig, ax = plt.subplots(figsize=(10, 10))\n",
    "\n",
    "# Distribution of survival in feature Fare\n",
    "sns.distplot(..., color = 'red', label='Not Survived', hist=True)\n",
    "sns.distplot(..., color = 'green', label='Survived', hist=True)\n",
    "plt.legend()\n",
    "\n",
    "plt.show()"
   ]
  },
  {
   "cell_type": "code",
   "execution_count": 70,
   "metadata": {
    "scrolled": false
   },
   "outputs": [
    {
     "data": {
      "image/png": "[encoded data removed]",
      "text/plain": [
       "<Figure size 720x1080 with 5 Axes>"
      ]
     },
     "metadata": {},
     "output_type": "display_data"
    }
   ],
   "source": [
    "cat_features = ...\n",
    "\n",
    "fig, axs = plt.subplots(figsize=(10, 15))\n",
    "# plt.subplots_adjust(right=1, top=1.5)\n",
    "\n",
    "for i, feature in enumerate(cat_features):    \n",
    "    plt.subplot(3,2, i+1)\n",
    "    sns.countplot(x=feature, hue='Survived', palette = ['red', 'green'], data=df_titanic)\n",
    "    \n",
    "    plt.legend(['Not Survived', 'Survived'], loc='upper center', prop={'size': 10})\n",
    "\n",
    "plt.show()"
   ]
  },
  {
   "cell_type": "markdown",
   "metadata": {},
   "source": [
    "### **Conclusion**\n",
    "Most features are correlated with each other. This can be used to create new features using feature transformation and feature interaction. \n",
    "\n",
    "Target encoding could be very useful due to the high correlations with `Survived` feature.\n",
    "\n",
    "Categorical features have distinct distributions with different survival rates. Those features can be one-hot encoded and combined with each other to make new features."
   ]
  },
  {
   "cell_type": "markdown",
   "metadata": {},
   "source": [
    "## **Feature Engineering**\n",
    "### **Binning Continuous Features**"
   ]
  },
  {
   "cell_type": "markdown",
   "metadata": {},
   "source": [
    "```python\n",
    "pandas.qcut(x, q, labels=None, retbins=False, precision=3, duplicates='raise')[source]\n",
    "```\n",
    "Quantile-based discretization function.\n",
    "\n",
    "Discretize variable into equal-sized buckets based on rank or based on sample quantiles. For example 1000 values for 10 quantiles would produce a Categorical object indicating quantile membership for each data point."
   ]
  },
  {
   "cell_type": "markdown",
   "metadata": {},
   "source": [
    "#### **Fare**\n",
    "As we saw, `Fare` is right skewed and survival rate is extremely high on the right end. Let's group them into bins. Let's see how many bins we would need"
   ]
  },
  {
   "cell_type": "code",
   "execution_count": 74,
   "metadata": {},
   "outputs": [
    {
     "data": {
      "text/plain": [
       "PassengerId\n",
       "1        (-0.001, 7.854]\n",
       "2      (39.688, 512.329]\n",
       "3          (7.854, 10.5]\n",
       "4      (39.688, 512.329]\n",
       "5          (7.854, 10.5]\n",
       "             ...        \n",
       "887       (10.5, 21.679]\n",
       "888     (21.679, 39.688]\n",
       "889     (21.679, 39.688]\n",
       "890     (21.679, 39.688]\n",
       "891      (-0.001, 7.854]\n",
       "Name: Fare, Length: 891, dtype: category\n",
       "Categories (5, interval[float64]): [(-0.001, 7.854] < (7.854, 10.5] < (10.5, 21.679] < (21.679, 39.688] < (39.688, 512.329]]"
      ]
     },
     "execution_count": 74,
     "metadata": {},
     "output_type": "execute_result"
    }
   ],
   "source": [
    "..."
   ]
  },
  {
   "cell_type": "code",
   "execution_count": 75,
   "metadata": {},
   "outputs": [
    {
     "data": {
      "text/plain": [
       "PassengerId\n",
       "1        (-0.001, 7.55]\n",
       "2      (39.688, 77.958]\n",
       "3         (7.854, 8.05]\n",
       "4      (39.688, 77.958]\n",
       "5         (7.854, 8.05]\n",
       "             ...       \n",
       "887      (10.5, 14.454]\n",
       "888      (27.0, 39.688]\n",
       "889      (21.679, 27.0]\n",
       "890      (27.0, 39.688]\n",
       "891       (7.55, 7.854]\n",
       "Name: Fare, Length: 891, dtype: category\n",
       "Categories (10, interval[float64]): [(-0.001, 7.55] < (7.55, 7.854] < (7.854, 8.05] < (8.05, 10.5] ... (21.679, 27.0] < (27.0, 39.688] < (39.688, 77.958] < (77.958, 512.329]]"
      ]
     },
     "execution_count": 75,
     "metadata": {},
     "output_type": "execute_result"
    }
   ],
   "source": [
    "..."
   ]
  },
  {
   "cell_type": "markdown",
   "metadata": {},
   "source": [
    "**10** quantile based bins are used for `Fare` feature. 10 bins provide decent amount of information gain. The groups at the left side of the graph has the lowest survival rate and the groups at the right side of the graph has the highest survival rate. This high survival rate was not visible in the distribution graph."
   ]
  },
  {
   "cell_type": "code",
   "execution_count": 76,
   "metadata": {},
   "outputs": [],
   "source": [
    "df_titanic['Fare'] = ..."
   ]
  },
  {
   "cell_type": "code",
   "execution_count": 82,
   "metadata": {},
   "outputs": [
    {
     "data": {
      "image/png": "[encoded data removed]",
      "text/plain": [
       "<Figure size 1584x648 with 1 Axes>"
      ]
     },
     "metadata": {},
     "output_type": "display_data"
    }
   ],
   "source": [
    "fig, axs = plt.subplots(figsize=(22, 9))\n",
    "sns.countplot(...)\n",
    "\n",
    "plt.xlabel('Fare', size=15, labelpad=20)\n",
    "plt.ylabel('Passenger Count', size=15, labelpad=20)\n",
    "plt.tick_params(axis='x', labelsize=10)\n",
    "plt.tick_params(axis='y', labelsize=15)\n",
    "\n",
    "plt.legend(['Not Survived', 'Survived'], loc='upper right', prop={'size': 15})\n",
    "plt.title('Count of Survival in {} Feature'.format('Fare'), size=15, y=1.05)\n",
    "\n",
    "plt.show()"
   ]
  },
  {
   "cell_type": "markdown",
   "metadata": {},
   "source": [
    "### Frequency Encoding"
   ]
  },
  {
   "cell_type": "markdown",
   "metadata": {},
   "source": [
    "`Family_Size` is defined as a new feature by adding `SibSp`, `Parch` and **1**. `SibSp` is the number of siblings and spouse, and `Parch` is the number of parents and children. Those columns are added in order to find the total size of families. Adding **1** at the end, is the current passenger. "
   ]
  },
  {
   "cell_type": "code",
   "execution_count": 78,
   "metadata": {},
   "outputs": [],
   "source": [
    "df_titanic['Family_Size'] = ...\n"
   ]
  },
  {
   "cell_type": "code",
   "execution_count": 84,
   "metadata": {},
   "outputs": [
    {
     "data": {
      "text/plain": [
       "<matplotlib.legend.Legend at 0x27162f6c580>"
      ]
     },
     "execution_count": 84,
     "metadata": {},
     "output_type": "execute_result"
    },
    {
     "data": {
      "image/png": "[encoded data removed]",
      "text/plain": [
       "<Figure size 432x288 with 1 Axes>"
      ]
     },
     "metadata": {},
     "output_type": "display_data"
    }
   ],
   "source": [
    "sns.countplot(...)\n",
    "plt.legend(['Not Survived', 'Survived'], loc='upper right', prop={'size': 15})\n"
   ]
  },
  {
   "cell_type": "markdown",
   "metadata": {},
   "source": [
    "\n",
    "Then we group them based on their size\n",
    "* Family Size with **1** are labeled as **Alone**\n",
    "* Family Size with **2**, **3** and **4** are labeled as **Small**\n",
    "* Family Size with **5** and **6** are labeled as **Medium**\n",
    "* Family Size with **7** and larger are labeled as **Large**"
   ]
  },
  {
   "cell_type": "code",
   "execution_count": 85,
   "metadata": {},
   "outputs": [],
   "source": [
    "family_map =...\n",
    "\n",
    "df_titanic['Family_Size_Grouped'] = ...\n"
   ]
  },
  {
   "cell_type": "code",
   "execution_count": 90,
   "metadata": {},
   "outputs": [
    {
     "data": {
      "text/plain": [
       "<matplotlib.legend.Legend at 0x271653ff190>"
      ]
     },
     "execution_count": 90,
     "metadata": {},
     "output_type": "execute_result"
    },
    {
     "data": {
      "image/png": "[encoded data removed]",
      "text/plain": [
       "<Figure size 432x288 with 1 Axes>"
      ]
     },
     "metadata": {},
     "output_type": "display_data"
    }
   ],
   "source": [
    "order = ...\n",
    "\n",
    "sns.countplot(...)\n",
    "plt.legend(['Not Survived', 'Survived'], loc='upper right', prop={'size': 15})\n"
   ]
  },
  {
   "cell_type": "code",
   "execution_count": 104,
   "metadata": {},
   "outputs": [
    {
     "name": "stdout",
     "output_type": "stream",
     "text": [
      "<class 'pandas.core.frame.DataFrame'>\n",
      "Int64Index: 891 entries, 1 to 891\n",
      "Data columns (total 12 columns):\n",
      " #   Column               Non-Null Count  Dtype   \n",
      "---  ------               --------------  -----   \n",
      " 0   Survived             891 non-null    int64   \n",
      " 1   Pclass               891 non-null    int64   \n",
      " 2   Name                 891 non-null    object  \n",
      " 3   Sex                  891 non-null    object  \n",
      " 4   Age                  891 non-null    float64 \n",
      " 5   SibSp                891 non-null    int64   \n",
      " 6   Parch                891 non-null    int64   \n",
      " 7   Ticket               891 non-null    object  \n",
      " 8   Fare                 891 non-null    category\n",
      " 9   Embarked             891 non-null    object  \n",
      " 10  Family_Size          891 non-null    int64   \n",
      " 11  Family_Size_Grouped  891 non-null    object  \n",
      "dtypes: category(1), float64(1), int64(5), object(5)\n",
      "memory usage: 124.9+ KB\n"
     ]
    }
   ],
   "source": [
    "df_titanic.info()"
   ]
  },
  {
   "cell_type": "markdown",
   "metadata": {},
   "source": [
    "# Model Preparation"
   ]
  },
  {
   "cell_type": "code",
   "execution_count": 107,
   "metadata": {},
   "outputs": [
    {
     "name": "stdout",
     "output_type": "stream",
     "text": [
      "Train: (623, 12) Val: (134, 12) Test: (134, 12)\n"
     ]
    }
   ],
   "source": [
    "# Split data into training, validation and test sets\n",
    "train, test = ...\n",
    "\n",
    "val, test = ...\n",
    "\n",
    "print('Train:', train.shape, 'Val:', val.shape, 'Test:', test.shape)"
   ]
  },
  {
   "cell_type": "markdown",
   "metadata": {},
   "source": [
    "`StratifiedKFold` is a variation of k-fold which returns stratified folds: each set contains approximately the same percentage of samples of each target class as the complete set."
   ]
  },
  {
   "cell_type": "code",
   "execution_count": 109,
   "metadata": {},
   "outputs": [
    {
     "data": {
      "text/html": [
       "<div>\n",
       "<style scoped>\n",
       "    .dataframe tbody tr th:only-of-type {\n",
       "        vertical-align: middle;\n",
       "    }\n",
       "\n",
       "    .dataframe tbody tr th {\n",
       "        vertical-align: top;\n",
       "    }\n",
       "\n",
       "    .dataframe thead th {\n",
       "        text-align: right;\n",
       "    }\n",
       "</style>\n",
       "<table border=\"1\" class=\"dataframe\">\n",
       "  <thead>\n",
       "    <tr style=\"text-align: right;\">\n",
       "      <th></th>\n",
       "      <th>Age</th>\n",
       "      <th>Pclass_1</th>\n",
       "      <th>Pclass_2</th>\n",
       "      <th>Pclass_3</th>\n",
       "      <th>Sex_female</th>\n",
       "      <th>Sex_male</th>\n",
       "      <th>Embarked_C</th>\n",
       "      <th>Embarked_Q</th>\n",
       "      <th>Embarked_S</th>\n",
       "      <th>Family_Size_Grouped_Alone</th>\n",
       "      <th>...</th>\n",
       "      <th>Fare_(-0.001, 7.55]</th>\n",
       "      <th>Fare_(7.55, 7.854]</th>\n",
       "      <th>Fare_(7.854, 8.05]</th>\n",
       "      <th>Fare_(8.05, 10.5]</th>\n",
       "      <th>Fare_(10.5, 14.454]</th>\n",
       "      <th>Fare_(14.454, 21.679]</th>\n",
       "      <th>Fare_(21.679, 27.0]</th>\n",
       "      <th>Fare_(27.0, 39.688]</th>\n",
       "      <th>Fare_(39.688, 77.958]</th>\n",
       "      <th>Fare_(77.958, 512.329]</th>\n",
       "    </tr>\n",
       "    <tr>\n",
       "      <th>PassengerId</th>\n",
       "      <th></th>\n",
       "      <th></th>\n",
       "      <th></th>\n",
       "      <th></th>\n",
       "      <th></th>\n",
       "      <th></th>\n",
       "      <th></th>\n",
       "      <th></th>\n",
       "      <th></th>\n",
       "      <th></th>\n",
       "      <th></th>\n",
       "      <th></th>\n",
       "      <th></th>\n",
       "      <th></th>\n",
       "      <th></th>\n",
       "      <th></th>\n",
       "      <th></th>\n",
       "      <th></th>\n",
       "      <th></th>\n",
       "      <th></th>\n",
       "      <th></th>\n",
       "    </tr>\n",
       "  </thead>\n",
       "  <tbody>\n",
       "    <tr>\n",
       "      <th>232</th>\n",
       "      <td>0.000864</td>\n",
       "      <td>0</td>\n",
       "      <td>0</td>\n",
       "      <td>1</td>\n",
       "      <td>0</td>\n",
       "      <td>1</td>\n",
       "      <td>0</td>\n",
       "      <td>0</td>\n",
       "      <td>1</td>\n",
       "      <td>1</td>\n",
       "      <td>...</td>\n",
       "      <td>0</td>\n",
       "      <td>1</td>\n",
       "      <td>0</td>\n",
       "      <td>0</td>\n",
       "      <td>0</td>\n",
       "      <td>0</td>\n",
       "      <td>0</td>\n",
       "      <td>0</td>\n",
       "      <td>0</td>\n",
       "      <td>0</td>\n",
       "    </tr>\n",
       "    <tr>\n",
       "      <th>837</th>\n",
       "      <td>-0.607545</td>\n",
       "      <td>0</td>\n",
       "      <td>0</td>\n",
       "      <td>1</td>\n",
       "      <td>0</td>\n",
       "      <td>1</td>\n",
       "      <td>0</td>\n",
       "      <td>0</td>\n",
       "      <td>1</td>\n",
       "      <td>1</td>\n",
       "      <td>...</td>\n",
       "      <td>0</td>\n",
       "      <td>0</td>\n",
       "      <td>0</td>\n",
       "      <td>1</td>\n",
       "      <td>0</td>\n",
       "      <td>0</td>\n",
       "      <td>0</td>\n",
       "      <td>0</td>\n",
       "      <td>0</td>\n",
       "      <td>0</td>\n",
       "    </tr>\n",
       "    <tr>\n",
       "      <th>640</th>\n",
       "      <td>-0.303340</td>\n",
       "      <td>0</td>\n",
       "      <td>0</td>\n",
       "      <td>1</td>\n",
       "      <td>0</td>\n",
       "      <td>1</td>\n",
       "      <td>0</td>\n",
       "      <td>0</td>\n",
       "      <td>1</td>\n",
       "      <td>0</td>\n",
       "      <td>...</td>\n",
       "      <td>0</td>\n",
       "      <td>0</td>\n",
       "      <td>0</td>\n",
       "      <td>0</td>\n",
       "      <td>0</td>\n",
       "      <td>1</td>\n",
       "      <td>0</td>\n",
       "      <td>0</td>\n",
       "      <td>0</td>\n",
       "      <td>0</td>\n",
       "    </tr>\n",
       "    <tr>\n",
       "      <th>390</th>\n",
       "      <td>-0.911749</td>\n",
       "      <td>0</td>\n",
       "      <td>1</td>\n",
       "      <td>0</td>\n",
       "      <td>1</td>\n",
       "      <td>0</td>\n",
       "      <td>1</td>\n",
       "      <td>0</td>\n",
       "      <td>0</td>\n",
       "      <td>1</td>\n",
       "      <td>...</td>\n",
       "      <td>0</td>\n",
       "      <td>0</td>\n",
       "      <td>0</td>\n",
       "      <td>0</td>\n",
       "      <td>1</td>\n",
       "      <td>0</td>\n",
       "      <td>0</td>\n",
       "      <td>0</td>\n",
       "      <td>0</td>\n",
       "      <td>0</td>\n",
       "    </tr>\n",
       "    <tr>\n",
       "      <th>598</th>\n",
       "      <td>1.521886</td>\n",
       "      <td>0</td>\n",
       "      <td>0</td>\n",
       "      <td>1</td>\n",
       "      <td>0</td>\n",
       "      <td>1</td>\n",
       "      <td>0</td>\n",
       "      <td>0</td>\n",
       "      <td>1</td>\n",
       "      <td>1</td>\n",
       "      <td>...</td>\n",
       "      <td>1</td>\n",
       "      <td>0</td>\n",
       "      <td>0</td>\n",
       "      <td>0</td>\n",
       "      <td>0</td>\n",
       "      <td>0</td>\n",
       "      <td>0</td>\n",
       "      <td>0</td>\n",
       "      <td>0</td>\n",
       "      <td>0</td>\n",
       "    </tr>\n",
       "  </tbody>\n",
       "</table>\n",
       "<p>5 rows × 23 columns</p>\n",
       "</div>"
      ],
      "text/plain": [
       "                  Age  Pclass_1  Pclass_2  Pclass_3  Sex_female  Sex_male  \\\n",
       "PassengerId                                                                 \n",
       "232          0.000864         0         0         1           0         1   \n",
       "837         -0.607545         0         0         1           0         1   \n",
       "640         -0.303340         0         0         1           0         1   \n",
       "390         -0.911749         0         1         0           1         0   \n",
       "598          1.521886         0         0         1           0         1   \n",
       "\n",
       "             Embarked_C  Embarked_Q  Embarked_S  Family_Size_Grouped_Alone  \\\n",
       "PassengerId                                                                  \n",
       "232                   0           0           1                          1   \n",
       "837                   0           0           1                          1   \n",
       "640                   0           0           1                          0   \n",
       "390                   1           0           0                          1   \n",
       "598                   0           0           1                          1   \n",
       "\n",
       "             ...  Fare_(-0.001, 7.55]  Fare_(7.55, 7.854]  Fare_(7.854, 8.05]  \\\n",
       "PassengerId  ...                                                                \n",
       "232          ...                    0                   1                   0   \n",
       "837          ...                    0                   0                   0   \n",
       "640          ...                    0                   0                   0   \n",
       "390          ...                    0                   0                   0   \n",
       "598          ...                    1                   0                   0   \n",
       "\n",
       "             Fare_(8.05, 10.5]  Fare_(10.5, 14.454]  Fare_(14.454, 21.679]  \\\n",
       "PassengerId                                                                  \n",
       "232                          0                    0                      0   \n",
       "837                          1                    0                      0   \n",
       "640                          0                    0                      1   \n",
       "390                          0                    1                      0   \n",
       "598                          0                    0                      0   \n",
       "\n",
       "             Fare_(21.679, 27.0]  Fare_(27.0, 39.688]  Fare_(39.688, 77.958]  \\\n",
       "PassengerId                                                                    \n",
       "232                            0                    0                      0   \n",
       "837                            0                    0                      0   \n",
       "640                            0                    0                      0   \n",
       "390                            0                    0                      0   \n",
       "598                            0                    0                      0   \n",
       "\n",
       "             Fare_(77.958, 512.329]  \n",
       "PassengerId                          \n",
       "232                               0  \n",
       "837                               0  \n",
       "640                               0  \n",
       "390                               0  \n",
       "598                               0  \n",
       "\n",
       "[5 rows x 23 columns]"
      ]
     },
     "execution_count": 109,
     "metadata": {},
     "output_type": "execute_result"
    }
   ],
   "source": [
    "# Define numerical features to use for modelling\n",
    "num_features = ...\n",
    "\n",
    "# Define categorical features to use for modelling\n",
    "cat_features = ...\n",
    "\n",
    "# Standardize features by removing the mean and scaling to unit variance for the training data\n",
    "scaler = ...\n",
    "scaler.fit(...)\n",
    "\n",
    "def create_features(df):\n",
    "    \"\"\"Create a feature set from df.\"\"\"\n",
    "    # make a copy of the columns in original df that contain numerical features\n",
    "    scaled = ...\n",
    "    \n",
    "    # Convert numeric features to standard units\n",
    "    scaled.iloc[:, :] = ...\n",
    "    \n",
    "    # Convert categorical features using dummy encoding\n",
    "    categoricals =...\n",
    "    \n",
    "    return ...\n",
    "\n",
    "# Let's test our function\n",
    "create_features(train).head()"
   ]
  },
  {
   "cell_type": "code",
   "execution_count": 110,
   "metadata": {},
   "outputs": [
    {
     "data": {
      "text/plain": [
       "LogisticRegression(penalty='none', random_state=42)"
      ]
     },
     "execution_count": 110,
     "metadata": {},
     "output_type": "execute_result"
    }
   ],
   "source": [
    "# logistic regression model\n",
    "model = ...\n",
    "model.fit(create_features(train), train['Survived'])"
   ]
  },
  {
   "cell_type": "code",
   "execution_count": 111,
   "metadata": {},
   "outputs": [
    {
     "name": "stdout",
     "output_type": "stream",
     "text": [
      "Validation accuracy: 79.1044776119403 %\n"
     ]
    }
   ],
   "source": [
    "# generate accuracy score\n",
    "accuracy = ...\n",
    "\n",
    "# Print score\n",
    "print('Validation accuracy: {} %'.format(accuracy * 100))"
   ]
  },
  {
   "cell_type": "code",
   "execution_count": 113,
   "metadata": {},
   "outputs": [
    {
     "data": {
      "image/png": "[encoded data removed]",
      "text/plain": [
       "<Figure size 432x288 with 2 Axes>"
      ]
     },
     "metadata": {},
     "output_type": "display_data"
    }
   ],
   "source": [
    "# generate confusion matrix\n",
    "cm = ...\n",
    "cm_display = ConfusionMatrixDisplay(cm).plot()"
   ]
  },
  {
   "cell_type": "code",
   "execution_count": 115,
   "metadata": {},
   "outputs": [
    {
     "name": "stdout",
     "output_type": "stream",
     "text": [
      "Precision: 73.08 %\n",
      "Recall: 73.08 %\n"
     ]
    }
   ],
   "source": [
    "# estimate precision and recall\n",
    "from sklearn.metrics import precision_score, recall_score, f1_score\n",
    "\n",
    "# Write your code here\n",
    "precision = ...\n",
    "recall = ...\n",
    "\n",
    "print('Precision: {:.2f} %'.format(precision * 100))\n",
    "print('Recall: {:.2f} %'.format(recall * 100))"
   ]
  },
  {
   "cell_type": "markdown",
   "metadata": {},
   "source": [
    "#### LASSO VS RIDGE Regularization"
   ]
  },
  {
   "cell_type": "markdown",
   "metadata": {},
   "source": [
    "L1 regularization (also called least absolute deviations) is a powerful tool that can be used to reduce the number of features and limit overfitting. There are many tutorials out there explaining L1 regularization and I will not try to do that here. Instead, this tutorial is show the effect of the regularization parameter C on the coefficients and model accuracy. \n",
    "\n",
    "\"... Basically, a high C means \"Trust this training data a lot\", while a low value says \"This data may not be fully representative of the real world data, so if it's telling you to make a parameter really large, don't listen to it\"...\"[[from here]](https://stackoverflow.com/questions/67513075/what-is-c-parameter-in-sklearn-logistic-regression)"
   ]
  },
  {
   "cell_type": "code",
   "execution_count": 116,
   "metadata": {},
   "outputs": [
    {
     "name": "stdout",
     "output_type": "stream",
     "text": [
      "C: 10\n",
      "Coefficient of each feature: [[-0.57714357  0.70082935  0.         -1.19056046  1.66272113 -1.0284492\n",
      "   0.12780168  0.         -0.18504097  0.20904311 -1.6559419  -2.2837054\n",
      "   0.01489146 -0.58779421 -0.51561033  0.         -0.5518633  -0.09540099\n",
      "   0.07546251  0.35278823  0.0278216   0.88205021  0.35668849]]\n",
      "Training accuracy: 0.8186195826645265\n",
      "Validation accuracy: 0.7985074626865671\n",
      "\n",
      "C: 1\n",
      "Coefficient of each feature: [[-0.50236966  0.83493477  0.         -1.22346367  1.30539202 -1.24536159\n",
      "   0.12909762  0.         -0.14700515  0.34793069 -0.63952142 -1.4399432\n",
      "   0.37994894 -0.35827303 -0.17785854  0.         -0.32908224  0.\n",
      "   0.          0.13173495 -0.06194534  0.51288959  0.00470648]]\n",
      "Training accuracy: 0.812199036918138\n",
      "Validation accuracy: 0.8059701492537313\n",
      "\n",
      "C: 0.1\n",
      "Coefficient of each feature: [[-0.17982084  0.40911997  0.         -0.98021898  1.08015676 -0.92565443\n",
      "   0.          0.          0.          0.          0.          0.\n",
      "   0.18495133  0.          0.          0.          0.          0.\n",
      "   0.          0.          0.          0.          0.        ]]\n",
      "Training accuracy: 0.7897271268057785\n",
      "Validation accuracy: 0.7835820895522388\n",
      "\n",
      "C: 0.001\n",
      "Coefficient of each feature: [[0. 0. 0. 0. 0. 0. 0. 0. 0. 0. 0. 0. 0. 0. 0. 0. 0. 0. 0. 0. 0. 0. 0.]]\n",
      "Training accuracy: 0.6163723916532905\n",
      "Validation accuracy: 0.6119402985074627\n",
      "\n"
     ]
    }
   ],
   "source": [
    "C = ...\n",
    "\n",
    "for c in C:\n",
    "    model = ...\n",
    "    model.fit(...)\n",
    "    print('C:', c)\n",
    "    print('Coefficient of each feature:', model.coef_)\n",
    "    print('Training accuracy:', model.score(create_features(train), train['Survived']))\n",
    "    print('Validation accuracy:', model.score(create_features(val), val['Survived']))\n",
    "    print('')"
   ]
  },
  {
   "cell_type": "markdown",
   "metadata": {},
   "source": [
    "L2 regularization (RIDGE)"
   ]
  },
  {
   "cell_type": "code",
   "execution_count": 117,
   "metadata": {},
   "outputs": [
    {
     "name": "stdout",
     "output_type": "stream",
     "text": [
      "C: 10\n",
      "Coefficient of each feature: [[-0.57765492  0.73887444  0.05986887 -1.12145721  1.1839996  -1.5067135\n",
      "   0.04083324 -0.08727212 -0.27627502  1.07522947 -0.83164213 -1.42998929\n",
      "   0.86368804 -0.63270268 -0.56636262 -0.05197654 -0.59362485 -0.13751464\n",
      "   0.05724     0.34049477  0.02414359  0.87645098  0.36113806]]\n",
      "Training accuracy: 0.8186195826645265\n",
      "Validation accuracy: 0.7910447761194029\n",
      "\n",
      "C: 1\n",
      "Coefficient of each feature: [[-0.52136936  0.79190315  0.09408596 -1.10797708  1.16579395 -1.38778192\n",
      "   0.08961469 -0.05780088 -0.25380178  0.77267347 -0.565268   -1.12207926\n",
      "   0.69268581 -0.50028276 -0.36446173  0.0252887  -0.44857106 -0.07559861\n",
      "   0.05295781  0.26471644 -0.08470254  0.68954707  0.21911871]]\n",
      "Training accuracy: 0.8154093097913323\n",
      "Validation accuracy: 0.7985074626865671\n",
      "\n",
      "C: 0.1\n",
      "Coefficient of each feature: [[-0.31031444  0.59348695  0.14394326 -0.80838561  0.95792391 -1.02887931\n",
      "   0.13524044 -0.01840155 -0.18779429  0.152793   -0.1706141  -0.41099942\n",
      "   0.35786512 -0.25894303 -0.09333156 -0.02202526 -0.1823398   0.01917244\n",
      "  -0.02274972  0.11543612 -0.13729385  0.32996212  0.18115715]]\n",
      "Training accuracy: 0.8025682182985554\n",
      "Validation accuracy: 0.8059701492537313\n",
      "\n",
      "C: 0.001\n",
      "Coefficient of each feature: [[-0.01083107  0.02266254  0.00353968 -0.07032842  0.05543207 -0.09955827\n",
      "   0.00605595 -0.0047886  -0.04539356 -0.05177959 -0.00382221 -0.00750828\n",
      "   0.01898388 -0.01980289 -0.0084352  -0.0182704  -0.0106392  -0.00037834\n",
      "  -0.00537293  0.00209997 -0.00803888  0.00950477  0.01520689]]\n",
      "Training accuracy: 0.6982343499197432\n",
      "Validation accuracy: 0.664179104477612\n",
      "\n"
     ]
    }
   ],
   "source": [
    "C = ...\n",
    "\n",
    "for c in C:\n",
    "    model = ...\n",
    "    model.fit(...)\n",
    "    print('C:', c)\n",
    "    print('Coefficient of each feature:', model.coef_)\n",
    "    print('Training accuracy:', model.score(create_features(train), train['Survived']))\n",
    "    print('Validation accuracy:', model.score(create_features(val), val['Survived']))\n",
    "    print('')"
   ]
  },
  {
   "cell_type": "markdown",
   "metadata": {},
   "source": [
    "##### GridSearchCV useful tool"
   ]
  },
  {
   "cell_type": "markdown",
   "metadata": {},
   "source": [
    "Exhaustive search over specified parameter values for an estimator."
   ]
  },
  {
   "cell_type": "code",
   "execution_count": 122,
   "metadata": {},
   "outputs": [],
   "source": [
    "new_train = ..."
   ]
  },
  {
   "cell_type": "code",
   "execution_count": 123,
   "metadata": {},
   "outputs": [
    {
     "name": "stdout",
     "output_type": "stream",
     "text": [
      "Accuracy Score : 0.8507462686567164\n",
      "Precision Score : 0.918918918918919\n",
      "Recall Score : 0.6666666666666666\n",
      "F1 Score : 0.7727272727272727\n"
     ]
    },
    {
     "data": {
      "image/png": "[encoded data removed]",
      "text/plain": [
       "<Figure size 432x288 with 2 Axes>"
      ]
     },
     "metadata": {},
     "output_type": "display_data"
    }
   ],
   "source": [
    "#Grid Search\n",
    "from sklearn.model_selection import GridSearchCV\n",
    "# instatiate a  model\n",
    "model = ...\n",
    "# establish dict of hyperparameters\n",
    "grid_values = ...\n",
    "# set gridsearch\n",
    "grid_model_acc = ...\n",
    "\n",
    "# fit data\n",
    "grid_model_acc.fit(create_features(new_train), new_train['Survived'])\n",
    "\n",
    "#Predict values based on new parameters\n",
    "y_pred_acc = grid_model_acc.predict(create_features(test))\n",
    "\n",
    "# New Model Evaluation metrics \n",
    "print('Accuracy Score : ' + str(accuracy_score(test['Survived'], y_pred_acc)))\n",
    "print('Precision Score : ' + str(precision_score(test['Survived'], y_pred_acc)))\n",
    "print('Recall Score : ' + str(recall_score(test['Survived'], y_pred_acc)))\n",
    "print('F1 Score : ' + str(f1_score(test['Survived'], y_pred_acc)))\n",
    "\n",
    "#Logistic Regression (Grid Search) Confusion matrix\n",
    "cm = confusion_matrix(test['Survived'], y_pred_acc)\n",
    "cm_display = ConfusionMatrixDisplay(cm).plot()"
   ]
  },
  {
   "cell_type": "code",
   "execution_count": null,
   "metadata": {},
   "outputs": [],
   "source": []
  }
 ],
 "metadata": {
  "kernelspec": {
   "display_name": "Python 3 (ipykernel)",
   "language": "python",
   "name": "python3"
  },
  "language_info": {
   "codemirror_mode": {
    "name": "ipython",
    "version": 3
   },
   "file_extension": ".py",
   "mimetype": "text/x-python",
   "name": "python",
   "nbconvert_exporter": "python",
   "pygments_lexer": "ipython3",
   "version": "3.9.7"
  }
 },
 "nbformat": 4,
 "nbformat_minor": 4
}
