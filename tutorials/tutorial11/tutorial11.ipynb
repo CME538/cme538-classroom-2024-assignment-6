{
 "cells": [
  {
   "cell_type": "markdown",
   "metadata": {},
   "source": [
    "# CME538 - Introduction to Data Science\n",
    "## Tutorial 11 - Decision Trees, Random Forests, and Pipelines\n",
    "By Navid Kayhani\n",
    "\n",
    "### Overview \n",
    "In this tutorial, we will revisit the problem of Email Spam Classification that you previously saw in Assignment 8. In the first part, we aim to train a set of models to classify emails as `spam` or `not-spam`. In the second part, we see how we can create Machine Learning pipelines to make our code ready for production. \n",
    "### Learning Objectives\n",
    "\n",
    "- #### Part 1 \n",
    "- Decision Trees\n",
    "- Random Forests\n",
    "- #### Part 2\n",
    "- Productionization\n",
    "- ML Pipelines\n",
    "\n",
    "\n"
   ]
  },
  {
   "cell_type": "markdown",
   "metadata": {},
   "source": [
    "## Setup Notebook"
   ]
  },
  {
   "cell_type": "code",
   "execution_count": 1,
   "metadata": {},
   "outputs": [],
   "source": [
    "import matplotlib.pyplot as plt\n",
    "import pandas as pd\n",
    "import numpy as np\n",
    "import seaborn as sns\n",
    "\n",
    "from sklearn.preprocessing import StandardScaler\n",
    "from sklearn.model_selection import train_test_split\n",
    "\n",
    "# Generate confusion matrix\n",
    "from sklearn.metrics import confusion_matrix, f1_score\n",
    "from sklearn.metrics import ConfusionMatrixDisplay\n",
    "from sklearn.metrics import plot_confusion_matrix, classification_report\n",
    "\n",
    "#Random Forest \n",
    "from sklearn.ensemble import RandomForestClassifier\n",
    "\n",
    "#Logestic Regresion\n",
    "from sklearn.linear_model import LogisticRegression\n",
    "#Metrics\n",
    "\n",
    "#model selection\n",
    "from sklearn.model_selection import StratifiedKFold\n",
    "\n",
    "# Configure Notebook\n",
    "#for plots to be inline\n",
    "%matplotlib inline \n",
    "#for auto_complete \n",
    "%config Completer.use_jedi = False \n",
    "# import warnings\n",
    "\n",
    "# warnings.filterwarnings('ignore')\n",
    "plt.style.use('fivethirtyeight')\n",
    "sns.set_context(\"notebook\")"
   ]
  },
  {
   "cell_type": "markdown",
   "metadata": {},
   "source": [
    "# Part 1"
   ]
  },
  {
   "cell_type": "markdown",
   "metadata": {},
   "source": [
    "## The Data\n",
    "The data can be found in the file `emails.csv` next to this notebook. The `csv` contains the following columns.\n",
    "\n",
    "Columns of `emails.csv` include:\n",
    "- `id`: An identifier for the training example\n",
    "- `subject`: The subject of the email\n",
    "- `email`:  The text of the email\n",
    "- `label`: 1 if the email is `spam`, 0 if the email is `not-spam`\n",
    "\n",
    "The file `emails.csv` contains 7513 rows where each row is an email.\n",
    "\n",
    "First, let's import `emails.csv` to a DataFrame."
   ]
  },
  {
   "cell_type": "code",
   "execution_count": 2,
   "metadata": {},
   "outputs": [
    {
     "data": {
      "text/html": [
       "<div>\n",
       "<style scoped>\n",
       "    .dataframe tbody tr th:only-of-type {\n",
       "        vertical-align: middle;\n",
       "    }\n",
       "\n",
       "    .dataframe tbody tr th {\n",
       "        vertical-align: top;\n",
       "    }\n",
       "\n",
       "    .dataframe thead th {\n",
       "        text-align: right;\n",
       "    }\n",
       "</style>\n",
       "<table border=\"1\" class=\"dataframe\">\n",
       "  <thead>\n",
       "    <tr style=\"text-align: right;\">\n",
       "      <th></th>\n",
       "      <th>id</th>\n",
       "      <th>subject</th>\n",
       "      <th>email</th>\n",
       "      <th>label</th>\n",
       "    </tr>\n",
       "  </thead>\n",
       "  <tbody>\n",
       "    <tr>\n",
       "      <th>4282</th>\n",
       "      <td>4282</td>\n",
       "      <td>Subject: RE: [ILUG] Dell GX260 V Redhat 7.3\\n</td>\n",
       "      <td>&gt; When I get a box I don't want any of that in...</td>\n",
       "      <td>0</td>\n",
       "    </tr>\n",
       "    <tr>\n",
       "      <th>6293</th>\n",
       "      <td>6293</td>\n",
       "      <td>Subject: IBM eNews: Aktuelle Informationen von...</td>\n",
       "      <td>IBM eNews\\n 4. Juli 2002\\n \\n Liebe Leserin, l...</td>\n",
       "      <td>0</td>\n",
       "    </tr>\n",
       "    <tr>\n",
       "      <th>2349</th>\n",
       "      <td>2349</td>\n",
       "      <td>Subject: [zzzzteana] Height, weight, girth, etc\\n</td>\n",
       "      <td>http://www.guardian.co.uk/uk_news/story/0,3604...</td>\n",
       "      <td>0</td>\n",
       "    </tr>\n",
       "    <tr>\n",
       "      <th>3786</th>\n",
       "      <td>3786</td>\n",
       "      <td>Subject: Re: The GOv gets tough on Net Users.....</td>\n",
       "      <td>Hire a really talented skywriter to doodle nud...</td>\n",
       "      <td>0</td>\n",
       "    </tr>\n",
       "    <tr>\n",
       "      <th>4731</th>\n",
       "      <td>4731</td>\n",
       "      <td>Subject: Lander risks missing Mars trip\\n</td>\n",
       "      <td>URL: http://www.newsisfree.com/click/-4,805285...</td>\n",
       "      <td>0</td>\n",
       "    </tr>\n",
       "  </tbody>\n",
       "</table>\n",
       "</div>"
      ],
      "text/plain": [
       "        id                                            subject  \\\n",
       "4282  4282      Subject: RE: [ILUG] Dell GX260 V Redhat 7.3\\n   \n",
       "6293  6293  Subject: IBM eNews: Aktuelle Informationen von...   \n",
       "2349  2349  Subject: [zzzzteana] Height, weight, girth, etc\\n   \n",
       "3786  3786  Subject: Re: The GOv gets tough on Net Users.....   \n",
       "4731  4731          Subject: Lander risks missing Mars trip\\n   \n",
       "\n",
       "                                                  email  label  \n",
       "4282  > When I get a box I don't want any of that in...      0  \n",
       "6293  IBM eNews\\n 4. Juli 2002\\n \\n Liebe Leserin, l...      0  \n",
       "2349  http://www.guardian.co.uk/uk_news/story/0,3604...      0  \n",
       "3786  Hire a really talented skywriter to doodle nud...      0  \n",
       "4731  URL: http://www.newsisfree.com/click/-4,805285...      0  "
      ]
     },
     "execution_count": 2,
     "metadata": {},
     "output_type": "execute_result"
    }
   ],
   "source": [
    "email_data = ...\n",
    "email_data.head()"
   ]
  },
  {
   "cell_type": "markdown",
   "metadata": {},
   "source": [
    "# 1. Data Cleaning and Pre-processing\n",
    "First, let's convert the email and subject text to lower case. This is based on the assumption that what differentiates `spam` emails from `not-spam` emails is case-insensitive."
   ]
  },
  {
   "cell_type": "markdown",
   "metadata": {},
   "source": [
    "Next, let's check if our data contains any missing values. "
   ]
  },
  {
   "cell_type": "markdown",
   "metadata": {},
   "source": [
    "### Missing Values and Imputation"
   ]
  },
  {
   "cell_type": "code",
   "execution_count": 3,
   "metadata": {},
   "outputs": [
    {
     "name": "stdout",
     "output_type": "stream",
     "text": [
      "Missingness before imputation:\n",
      "id         0\n",
      "subject    6\n",
      "email      0\n",
      "label      0\n",
      "dtype: int64\n"
     ]
    }
   ],
   "source": [
    "print('Missingness before imputation:')\n",
    "print(...)"
   ]
  },
  {
   "cell_type": "markdown",
   "metadata": {},
   "source": [
    "We can see there are 6 missing values for `'subject'`. This means that a subject was not included in the email and therefore, we can we replace missing values with appropriate filler values (i.e., NaN values in the subject or email columns will be replaced with empty strings `''`)."
   ]
  },
  {
   "cell_type": "code",
   "execution_count": 4,
   "metadata": {},
   "outputs": [
    {
     "name": "stdout",
     "output_type": "stream",
     "text": [
      "Missingness after imputation:\n",
      "id         0\n",
      "subject    0\n",
      "email      0\n",
      "label      0\n",
      "dtype: int64\n"
     ]
    }
   ],
   "source": [
    "email_data[['subject', 'email']] = ...\n",
    "print('Missingness after imputation:')\n",
    "print(...)"
   ]
  },
  {
   "cell_type": "code",
   "execution_count": 5,
   "metadata": {},
   "outputs": [
    {
     "data": {
      "text/html": [
       "<div>\n",
       "<style scoped>\n",
       "    .dataframe tbody tr th:only-of-type {\n",
       "        vertical-align: middle;\n",
       "    }\n",
       "\n",
       "    .dataframe tbody tr th {\n",
       "        vertical-align: top;\n",
       "    }\n",
       "\n",
       "    .dataframe thead th {\n",
       "        text-align: right;\n",
       "    }\n",
       "</style>\n",
       "<table border=\"1\" class=\"dataframe\">\n",
       "  <thead>\n",
       "    <tr style=\"text-align: right;\">\n",
       "      <th></th>\n",
       "      <th>id</th>\n",
       "      <th>subject</th>\n",
       "      <th>email</th>\n",
       "      <th>label</th>\n",
       "    </tr>\n",
       "  </thead>\n",
       "  <tbody>\n",
       "    <tr>\n",
       "      <th>4282</th>\n",
       "      <td>4282</td>\n",
       "      <td>Subject: RE: [ILUG] Dell GX260 V Redhat 7.3\\n</td>\n",
       "      <td>&gt; When I get a box I don't want any of that in...</td>\n",
       "      <td>0</td>\n",
       "    </tr>\n",
       "    <tr>\n",
       "      <th>6293</th>\n",
       "      <td>6293</td>\n",
       "      <td>Subject: IBM eNews: Aktuelle Informationen von...</td>\n",
       "      <td>IBM eNews\\n 4. Juli 2002\\n \\n Liebe Leserin, l...</td>\n",
       "      <td>0</td>\n",
       "    </tr>\n",
       "    <tr>\n",
       "      <th>2349</th>\n",
       "      <td>2349</td>\n",
       "      <td>Subject: [zzzzteana] Height, weight, girth, etc\\n</td>\n",
       "      <td>http://www.guardian.co.uk/uk_news/story/0,3604...</td>\n",
       "      <td>0</td>\n",
       "    </tr>\n",
       "    <tr>\n",
       "      <th>3786</th>\n",
       "      <td>3786</td>\n",
       "      <td>Subject: Re: The GOv gets tough on Net Users.....</td>\n",
       "      <td>Hire a really talented skywriter to doodle nud...</td>\n",
       "      <td>0</td>\n",
       "    </tr>\n",
       "    <tr>\n",
       "      <th>4731</th>\n",
       "      <td>4731</td>\n",
       "      <td>Subject: Lander risks missing Mars trip\\n</td>\n",
       "      <td>URL: http://www.newsisfree.com/click/-4,805285...</td>\n",
       "      <td>0</td>\n",
       "    </tr>\n",
       "  </tbody>\n",
       "</table>\n",
       "</div>"
      ],
      "text/plain": [
       "        id                                            subject  \\\n",
       "4282  4282      Subject: RE: [ILUG] Dell GX260 V Redhat 7.3\\n   \n",
       "6293  6293  Subject: IBM eNews: Aktuelle Informationen von...   \n",
       "2349  2349  Subject: [zzzzteana] Height, weight, girth, etc\\n   \n",
       "3786  3786  Subject: Re: The GOv gets tough on Net Users.....   \n",
       "4731  4731          Subject: Lander risks missing Mars trip\\n   \n",
       "\n",
       "                                                  email  label  \n",
       "4282  > When I get a box I don't want any of that in...      0  \n",
       "6293  IBM eNews\\n 4. Juli 2002\\n \\n Liebe Leserin, l...      0  \n",
       "2349  http://www.guardian.co.uk/uk_news/story/0,3604...      0  \n",
       "3786  Hire a really talented skywriter to doodle nud...      0  \n",
       "4731  URL: http://www.newsisfree.com/click/-4,805285...      0  "
      ]
     },
     "execution_count": 5,
     "metadata": {},
     "output_type": "execute_result"
    }
   ],
   "source": [
    "email_data.head()"
   ]
  },
  {
   "cell_type": "markdown",
   "metadata": {},
   "source": [
    "### Lower case"
   ]
  },
  {
   "cell_type": "code",
   "execution_count": 6,
   "metadata": {
    "scrolled": false
   },
   "outputs": [
    {
     "data": {
      "text/html": [
       "<div>\n",
       "<style scoped>\n",
       "    .dataframe tbody tr th:only-of-type {\n",
       "        vertical-align: middle;\n",
       "    }\n",
       "\n",
       "    .dataframe tbody tr th {\n",
       "        vertical-align: top;\n",
       "    }\n",
       "\n",
       "    .dataframe thead th {\n",
       "        text-align: right;\n",
       "    }\n",
       "</style>\n",
       "<table border=\"1\" class=\"dataframe\">\n",
       "  <thead>\n",
       "    <tr style=\"text-align: right;\">\n",
       "      <th></th>\n",
       "      <th>id</th>\n",
       "      <th>subject</th>\n",
       "      <th>email</th>\n",
       "      <th>label</th>\n",
       "    </tr>\n",
       "  </thead>\n",
       "  <tbody>\n",
       "    <tr>\n",
       "      <th>4282</th>\n",
       "      <td>4282</td>\n",
       "      <td>subject: re: [ilug] dell gx260 v redhat 7.3\\n</td>\n",
       "      <td>&gt; when i get a box i don't want any of that in...</td>\n",
       "      <td>0</td>\n",
       "    </tr>\n",
       "    <tr>\n",
       "      <th>6293</th>\n",
       "      <td>6293</td>\n",
       "      <td>subject: ibm enews: aktuelle informationen von...</td>\n",
       "      <td>ibm enews\\n 4. juli 2002\\n \\n liebe leserin, l...</td>\n",
       "      <td>0</td>\n",
       "    </tr>\n",
       "    <tr>\n",
       "      <th>2349</th>\n",
       "      <td>2349</td>\n",
       "      <td>subject: [zzzzteana] height, weight, girth, etc\\n</td>\n",
       "      <td>http://www.guardian.co.uk/uk_news/story/0,3604...</td>\n",
       "      <td>0</td>\n",
       "    </tr>\n",
       "    <tr>\n",
       "      <th>3786</th>\n",
       "      <td>3786</td>\n",
       "      <td>subject: re: the gov gets tough on net users.....</td>\n",
       "      <td>hire a really talented skywriter to doodle nud...</td>\n",
       "      <td>0</td>\n",
       "    </tr>\n",
       "    <tr>\n",
       "      <th>4731</th>\n",
       "      <td>4731</td>\n",
       "      <td>subject: lander risks missing mars trip\\n</td>\n",
       "      <td>url: http://www.newsisfree.com/click/-4,805285...</td>\n",
       "      <td>0</td>\n",
       "    </tr>\n",
       "  </tbody>\n",
       "</table>\n",
       "</div>"
      ],
      "text/plain": [
       "        id                                            subject  \\\n",
       "4282  4282      subject: re: [ilug] dell gx260 v redhat 7.3\\n   \n",
       "6293  6293  subject: ibm enews: aktuelle informationen von...   \n",
       "2349  2349  subject: [zzzzteana] height, weight, girth, etc\\n   \n",
       "3786  3786  subject: re: the gov gets tough on net users.....   \n",
       "4731  4731          subject: lander risks missing mars trip\\n   \n",
       "\n",
       "                                                  email  label  \n",
       "4282  > when i get a box i don't want any of that in...      0  \n",
       "6293  ibm enews\\n 4. juli 2002\\n \\n liebe leserin, l...      0  \n",
       "2349  http://www.guardian.co.uk/uk_news/story/0,3604...      0  \n",
       "3786  hire a really talented skywriter to doodle nud...      0  \n",
       "4731  url: http://www.newsisfree.com/click/-4,805285...      0  "
      ]
     },
     "execution_count": 6,
     "metadata": {},
     "output_type": "execute_result"
    }
   ],
   "source": [
    "email_data['subject'] = ..\n",
    "email_data['email'] = ...\n",
    "email_data.head()"
   ]
  },
  {
   "cell_type": "code",
   "execution_count": 7,
   "metadata": {},
   "outputs": [],
   "source": [
    "def word_detector(words, texts):\n",
    "    \n",
    "    \"\"\"\n",
    "    Returns a DataFrame with detections of words.\n",
    "\n",
    "    Parameters:\n",
    "        words (list): A list of words to look for.\n",
    "        texts (Series): A series of strings to search in.\n",
    "\n",
    "    Returns:\n",
    "        (DataFrame): A DataFrame with len(words) columns and texts.shape[0] rows.\n",
    "    \"\"\"\n",
    "    \n",
    "    # Write your code here\n",
    "    detections = 1 * np.array([texts.str.contains(word) for word in words]).T\n",
    "                                  \n",
    "    return pd.DataFrame(index=texts.index, data=detections, columns=words)"
   ]
  },
  {
   "cell_type": "markdown",
   "metadata": {},
   "source": [
    "## Split Data"
   ]
  },
  {
   "cell_type": "markdown",
   "metadata": {},
   "source": [
    "Lastly, let's split `email_data` into training and test datasets. We'll need this test data to assess the performance of our classifier once we are finished training. Note that we have set the seed (random_state) to `0`. This will produce a pseudo-random sequence of random numbers that is the same every time you run the code.\n",
    "\n",
    "You'll notice that we've added an argument for `'stratify'` and set it equal to our training target `'label'`. This is done to maintain the proportion of each class in `train` and `test`. If 20% of the emails are `spam` in the dataset, then we want 20% of the emails in the `train` and `test` datasets to be also be `spam`."
   ]
  },
  {
   "cell_type": "code",
   "execution_count": 8,
   "metadata": {},
   "outputs": [
    {
     "name": "stdout",
     "output_type": "stream",
     "text": [
      "Train: (6761, 4) Test: (752, 4)\n",
      "Train spam proportion: 25.63 %\n",
      "Test spam proportion: 25.66 %\n"
     ]
    }
   ],
   "source": [
    "from sklearn.model_selection import train_test_split\n",
    "train, test = ...\n",
    "print('Train:', train.shape, 'Test:', test.shape)\n",
    "print('Train spam proportion: {:.2f} %'.format(train['label'][train['label'] == 1].shape[0] / train.shape[0] * 100))\n",
    "print('Test spam proportion: {:.2f} %'.format(test['label'][test['label'] == 1].shape[0] / test.shape[0] * 100))"
   ]
  },
  {
   "cell_type": "code",
   "execution_count": 9,
   "metadata": {},
   "outputs": [
    {
     "data": {
      "text/html": [
       "<div>\n",
       "<style scoped>\n",
       "    .dataframe tbody tr th:only-of-type {\n",
       "        vertical-align: middle;\n",
       "    }\n",
       "\n",
       "    .dataframe tbody tr th {\n",
       "        vertical-align: top;\n",
       "    }\n",
       "\n",
       "    .dataframe thead th {\n",
       "        text-align: right;\n",
       "    }\n",
       "</style>\n",
       "<table border=\"1\" class=\"dataframe\">\n",
       "  <thead>\n",
       "    <tr style=\"text-align: right;\">\n",
       "      <th></th>\n",
       "      <th>id</th>\n",
       "      <th>subject</th>\n",
       "      <th>email</th>\n",
       "      <th>label</th>\n",
       "    </tr>\n",
       "  </thead>\n",
       "  <tbody>\n",
       "    <tr>\n",
       "      <th>6277</th>\n",
       "      <td>6277</td>\n",
       "      <td>subject: [spambayes] maybe change x-spam-dispo...</td>\n",
       "      <td>\\n     &gt;&gt; accordingly, i wrote unheader.py, wh...</td>\n",
       "      <td>0</td>\n",
       "    </tr>\n",
       "    <tr>\n",
       "      <th>2342</th>\n",
       "      <td>2342</td>\n",
       "      <td>subject: perl programmers are so cute\\n</td>\n",
       "      <td>url: http://diveintomark.org/archives/2002/10/...</td>\n",
       "      <td>0</td>\n",
       "    </tr>\n",
       "    <tr>\n",
       "      <th>3147</th>\n",
       "      <td>3147</td>\n",
       "      <td>subject: sun\\n</td>\n",
       "      <td>well, it looks like sun are going ahead with\\n...</td>\n",
       "      <td>0</td>\n",
       "    </tr>\n",
       "    <tr>\n",
       "      <th>643</th>\n",
       "      <td>643</td>\n",
       "      <td>subject: [spambayes] spambayes package?\\n</td>\n",
       "      <td>\\n     &gt;&gt; before we get too far down this road...</td>\n",
       "      <td>0</td>\n",
       "    </tr>\n",
       "    <tr>\n",
       "      <th>7128</th>\n",
       "      <td>7128</td>\n",
       "      <td>subject: re: use of base image / delta image f...</td>\n",
       "      <td>&gt; ben mord said:\\n &gt; \\n &gt; &gt;ah. in that case, y...</td>\n",
       "      <td>0</td>\n",
       "    </tr>\n",
       "  </tbody>\n",
       "</table>\n",
       "</div>"
      ],
      "text/plain": [
       "        id                                            subject  \\\n",
       "6277  6277  subject: [spambayes] maybe change x-spam-dispo...   \n",
       "2342  2342            subject: perl programmers are so cute\\n   \n",
       "3147  3147                                     subject: sun\\n   \n",
       "643    643          subject: [spambayes] spambayes package?\\n   \n",
       "7128  7128  subject: re: use of base image / delta image f...   \n",
       "\n",
       "                                                  email  label  \n",
       "6277  \\n     >> accordingly, i wrote unheader.py, wh...      0  \n",
       "2342  url: http://diveintomark.org/archives/2002/10/...      0  \n",
       "3147  well, it looks like sun are going ahead with\\n...      0  \n",
       "643   \\n     >> before we get too far down this road...      0  \n",
       "7128  > ben mord said:\\n > \\n > >ah. in that case, y...      0  "
      ]
     },
     "execution_count": 9,
     "metadata": {},
     "output_type": "execute_result"
    }
   ],
   "source": [
    "train.head()"
   ]
  },
  {
   "cell_type": "markdown",
   "metadata": {},
   "source": [
    "# 2. Feature Engineering\n",
    "We would like to take the text of an email and predict whether the email is `spam` or `not-spam`. This is a classification problem and we will be using `decision tree` and `random forest` to train a classifier. The data here is unstructured text and not numbers. Therefore, we will need to extract some numeric features from the raw email text. "
   ]
  },
  {
   "cell_type": "markdown",
   "metadata": {},
   "source": [
    "####  Text feature extraction"
   ]
  },
  {
   "cell_type": "code",
   "execution_count": 10,
   "metadata": {},
   "outputs": [],
   "source": [
    "words = ['drug', 'bank', 'prescription', 'memo', 'private', \n",
    "         'body', 'business', 'html', 'money', 'offer', 'please']\n",
    "\n",
    "# Write your code here\n",
    "X_train = ...\n",
    "y_train = ..."
   ]
  },
  {
   "cell_type": "code",
   "execution_count": 11,
   "metadata": {
    "scrolled": true
   },
   "outputs": [
    {
     "data": {
      "text/html": [
       "<div>\n",
       "<style scoped>\n",
       "    .dataframe tbody tr th:only-of-type {\n",
       "        vertical-align: middle;\n",
       "    }\n",
       "\n",
       "    .dataframe tbody tr th {\n",
       "        vertical-align: top;\n",
       "    }\n",
       "\n",
       "    .dataframe thead th {\n",
       "        text-align: right;\n",
       "    }\n",
       "</style>\n",
       "<table border=\"1\" class=\"dataframe\">\n",
       "  <thead>\n",
       "    <tr style=\"text-align: right;\">\n",
       "      <th></th>\n",
       "      <th>drug</th>\n",
       "      <th>bank</th>\n",
       "      <th>prescription</th>\n",
       "      <th>memo</th>\n",
       "      <th>private</th>\n",
       "      <th>body</th>\n",
       "      <th>business</th>\n",
       "      <th>html</th>\n",
       "      <th>money</th>\n",
       "      <th>offer</th>\n",
       "      <th>please</th>\n",
       "    </tr>\n",
       "  </thead>\n",
       "  <tbody>\n",
       "    <tr>\n",
       "      <th>6277</th>\n",
       "      <td>0</td>\n",
       "      <td>0</td>\n",
       "      <td>0</td>\n",
       "      <td>0</td>\n",
       "      <td>0</td>\n",
       "      <td>0</td>\n",
       "      <td>0</td>\n",
       "      <td>0</td>\n",
       "      <td>0</td>\n",
       "      <td>0</td>\n",
       "      <td>1</td>\n",
       "    </tr>\n",
       "    <tr>\n",
       "      <th>2342</th>\n",
       "      <td>0</td>\n",
       "      <td>0</td>\n",
       "      <td>0</td>\n",
       "      <td>0</td>\n",
       "      <td>0</td>\n",
       "      <td>0</td>\n",
       "      <td>0</td>\n",
       "      <td>1</td>\n",
       "      <td>0</td>\n",
       "      <td>0</td>\n",
       "      <td>0</td>\n",
       "    </tr>\n",
       "    <tr>\n",
       "      <th>3147</th>\n",
       "      <td>0</td>\n",
       "      <td>1</td>\n",
       "      <td>0</td>\n",
       "      <td>0</td>\n",
       "      <td>0</td>\n",
       "      <td>0</td>\n",
       "      <td>1</td>\n",
       "      <td>0</td>\n",
       "      <td>0</td>\n",
       "      <td>0</td>\n",
       "      <td>0</td>\n",
       "    </tr>\n",
       "    <tr>\n",
       "      <th>643</th>\n",
       "      <td>0</td>\n",
       "      <td>0</td>\n",
       "      <td>0</td>\n",
       "      <td>0</td>\n",
       "      <td>0</td>\n",
       "      <td>0</td>\n",
       "      <td>0</td>\n",
       "      <td>0</td>\n",
       "      <td>0</td>\n",
       "      <td>0</td>\n",
       "      <td>0</td>\n",
       "    </tr>\n",
       "    <tr>\n",
       "      <th>7128</th>\n",
       "      <td>0</td>\n",
       "      <td>0</td>\n",
       "      <td>0</td>\n",
       "      <td>0</td>\n",
       "      <td>0</td>\n",
       "      <td>0</td>\n",
       "      <td>0</td>\n",
       "      <td>0</td>\n",
       "      <td>0</td>\n",
       "      <td>0</td>\n",
       "      <td>0</td>\n",
       "    </tr>\n",
       "  </tbody>\n",
       "</table>\n",
       "</div>"
      ],
      "text/plain": [
       "      drug  bank  prescription  memo  private  body  business  html  money  \\\n",
       "6277     0     0             0     0        0     0         0     0      0   \n",
       "2342     0     0             0     0        0     0         0     1      0   \n",
       "3147     0     1             0     0        0     0         1     0      0   \n",
       "643      0     0             0     0        0     0         0     0      0   \n",
       "7128     0     0             0     0        0     0         0     0      0   \n",
       "\n",
       "      offer  please  \n",
       "6277      0       1  \n",
       "2342      0       0  \n",
       "3147      0       0  \n",
       "643       0       0  \n",
       "7128      0       0  "
      ]
     },
     "execution_count": 11,
     "metadata": {},
     "output_type": "execute_result"
    }
   ],
   "source": [
    "X_train.head()"
   ]
  },
  {
   "cell_type": "code",
   "execution_count": 12,
   "metadata": {},
   "outputs": [
    {
     "data": {
      "text/html": [
       "<div>\n",
       "<style scoped>\n",
       "    .dataframe tbody tr th:only-of-type {\n",
       "        vertical-align: middle;\n",
       "    }\n",
       "\n",
       "    .dataframe tbody tr th {\n",
       "        vertical-align: top;\n",
       "    }\n",
       "\n",
       "    .dataframe thead th {\n",
       "        text-align: right;\n",
       "    }\n",
       "</style>\n",
       "<table border=\"1\" class=\"dataframe\">\n",
       "  <thead>\n",
       "    <tr style=\"text-align: right;\">\n",
       "      <th></th>\n",
       "      <th>label</th>\n",
       "    </tr>\n",
       "  </thead>\n",
       "  <tbody>\n",
       "    <tr>\n",
       "      <th>6277</th>\n",
       "      <td>0</td>\n",
       "    </tr>\n",
       "    <tr>\n",
       "      <th>2342</th>\n",
       "      <td>0</td>\n",
       "    </tr>\n",
       "    <tr>\n",
       "      <th>3147</th>\n",
       "      <td>0</td>\n",
       "    </tr>\n",
       "    <tr>\n",
       "      <th>643</th>\n",
       "      <td>0</td>\n",
       "    </tr>\n",
       "    <tr>\n",
       "      <th>7128</th>\n",
       "      <td>0</td>\n",
       "    </tr>\n",
       "  </tbody>\n",
       "</table>\n",
       "</div>"
      ],
      "text/plain": [
       "      label\n",
       "6277      0\n",
       "2342      0\n",
       "3147      0\n",
       "643       0\n",
       "7128      0"
      ]
     },
     "execution_count": 12,
     "metadata": {},
     "output_type": "execute_result"
    }
   ],
   "source": [
    "y_train.head()"
   ]
  },
  {
   "cell_type": "markdown",
   "metadata": {},
   "source": [
    "# 2. Model Building\n"
   ]
  },
  {
   "cell_type": "code",
   "execution_count": 13,
   "metadata": {},
   "outputs": [
    {
     "data": {
      "image/png": "[encoded data removed]",
      "text/plain": [
       "<Figure size 432x216 with 1 Axes>"
      ]
     },
     "metadata": {},
     "output_type": "display_data"
    }
   ],
   "source": [
    "df_temp = ...\n",
    "\n",
    "plt.figure(figsize=(6, 3))\n",
    "plt.title('Number of Spam emails', fontsize=18)\n",
    "ax = sns.countplot(x='label', data=df_temp)\n",
    "ax.xaxis.set_tick_params(labelsize=14)\n",
    "ax.yaxis.set_tick_params(labelsize=14)\n",
    "ax.set_xlabel('', fontsize=18)\n",
    "ax.set_ylabel('Email Count', fontsize=18)\n",
    "plt.show()"
   ]
  },
  {
   "cell_type": "markdown",
   "metadata": {},
   "source": [
    "###  Logistic Regression"
   ]
  },
  {
   "cell_type": "code",
   "execution_count": 14,
   "metadata": {},
   "outputs": [
    {
     "name": "stderr",
     "output_type": "stream",
     "text": [
      "C:\\Users\\nkayf\\anaconda3\\lib\\site-packages\\sklearn\\utils\\validation.py:73: DataConversionWarning: A column-vector y was passed when a 1d array was expected. Please change the shape of y to (n_samples, ), for example using ravel().\n",
      "  return f(**kwargs)\n"
     ]
    }
   ],
   "source": [
    "log_reg = ...\n",
    "model_log_reg = ..."
   ]
  },
  {
   "cell_type": "code",
   "execution_count": 15,
   "metadata": {},
   "outputs": [
    {
     "name": "stdout",
     "output_type": "stream",
     "text": [
      "              precision    recall  f1-score   support\n",
      "\n",
      "           0       0.85      0.94      0.89      5028\n",
      "           1       0.75      0.53      0.62      1733\n",
      "\n",
      "    accuracy                           0.83      6761\n",
      "   macro avg       0.80      0.74      0.76      6761\n",
      "weighted avg       0.83      0.83      0.82      6761\n",
      "\n"
     ]
    }
   ],
   "source": [
    "print(...)"
   ]
  },
  {
   "cell_type": "code",
   "execution_count": 16,
   "metadata": {},
   "outputs": [
    {
     "name": "stdout",
     "output_type": "stream",
     "text": [
      "f_score = 0.6228513650151668\n"
     ]
    },
    {
     "data": {
      "image/png": "[encoded data removed]",
      "text/plain": [
       "<Figure size 432x288 with 2 Axes>"
      ]
     },
     "metadata": {},
     "output_type": "display_data"
    }
   ],
   "source": [
    "plot_confusion_matrix(...)\n",
    "print(f'f_score = {f1_score(...)}')"
   ]
  },
  {
   "cell_type": "markdown",
   "metadata": {},
   "source": [
    "### Decision Tree"
   ]
  },
  {
   "cell_type": "code",
   "execution_count": 17,
   "metadata": {},
   "outputs": [],
   "source": [
    "from sklearn import tree\n",
    "\n",
    "# Create Decision Tree classifer object\n",
    "tree = ...\n",
    "\n",
    "# Train Decision Tree Classifer\n",
    "model_tree = ..."
   ]
  },
  {
   "cell_type": "code",
   "execution_count": 18,
   "metadata": {},
   "outputs": [
    {
     "name": "stdout",
     "output_type": "stream",
     "text": [
      "              precision    recall  f1-score   support\n",
      "\n",
      "           0       0.90      0.94      0.92      5028\n",
      "           1       0.81      0.68      0.74      1733\n",
      "\n",
      "    accuracy                           0.88      6761\n",
      "   macro avg       0.85      0.81      0.83      6761\n",
      "weighted avg       0.87      0.88      0.87      6761\n",
      "\n"
     ]
    }
   ],
   "source": [
    "print(...)"
   ]
  },
  {
   "cell_type": "code",
   "execution_count": 19,
   "metadata": {},
   "outputs": [
    {
     "name": "stdout",
     "output_type": "stream",
     "text": [
      "f_score = 0.7417135709818636\n"
     ]
    },
    {
     "data": {
      "image/png": "[encoded data removed]",
      "text/plain": [
       "<Figure size 432x288 with 2 Axes>"
      ]
     },
     "metadata": {},
     "output_type": "display_data"
    }
   ],
   "source": [
    "plot_confusion_matrix(...)\n",
    "print(f'f_score = {f1_score(...)}')"
   ]
  },
  {
   "cell_type": "markdown",
   "metadata": {},
   "source": [
    "### Random Forest"
   ]
  },
  {
   "cell_type": "code",
   "execution_count": 20,
   "metadata": {},
   "outputs": [],
   "source": [
    "from sklearn.ensemble import RandomForestClassifier"
   ]
  },
  {
   "cell_type": "code",
   "execution_count": 21,
   "metadata": {},
   "outputs": [
    {
     "name": "stderr",
     "output_type": "stream",
     "text": [
      "<ipython-input-21-3da301193c47>:7: DataConversionWarning: A column-vector y was passed when a 1d array was expected. Please change the shape of y to (n_samples,), for example using ravel().\n",
      "  model_forest = forest.fit(X_train,y_train)\n"
     ]
    }
   ],
   "source": [
    "from sklearn import tree\n",
    "\n",
    "# Create Random Forest classifer object\n",
    "forest = ...\n",
    "\n",
    "# Train Random Forest Classifer\n",
    "model_forest = ..."
   ]
  },
  {
   "cell_type": "code",
   "execution_count": 22,
   "metadata": {},
   "outputs": [
    {
     "name": "stdout",
     "output_type": "stream",
     "text": [
      "              precision    recall  f1-score   support\n",
      "\n",
      "           0       0.90      0.94      0.92      5028\n",
      "           1       0.81      0.69      0.74      1733\n",
      "\n",
      "    accuracy                           0.88      6761\n",
      "   macro avg       0.85      0.82      0.83      6761\n",
      "weighted avg       0.87      0.88      0.87      6761\n",
      "\n"
     ]
    }
   ],
   "source": [
    "print(classification_report(...)"
   ]
  },
  {
   "cell_type": "code",
   "execution_count": 23,
   "metadata": {},
   "outputs": [
    {
     "name": "stdout",
     "output_type": "stream",
     "text": [
      "f_score = 0.7423580786026202\n"
     ]
    },
    {
     "data": {
      "image/png": "[encoded data removed]",
      "text/plain": [
       "<Figure size 432x288 with 2 Axes>"
      ]
     },
     "metadata": {},
     "output_type": "display_data"
    }
   ],
   "source": [
    "plot_confusion_matrix(...)\n",
    "print(f'f_score = {f1_score(...)}')"
   ]
  },
  {
   "cell_type": "markdown",
   "metadata": {},
   "source": [
    "Although, we improved our model. It seems them models are still biased. Maybe revising the features could be helpful. But, let's move on for now. "
   ]
  },
  {
   "cell_type": "markdown",
   "metadata": {},
   "source": [
    "## Evaluating Classifiers"
   ]
  },
  {
   "cell_type": "code",
   "execution_count": 24,
   "metadata": {},
   "outputs": [],
   "source": [
    "X_test = ...\n",
    "y_test = ..."
   ]
  },
  {
   "cell_type": "code",
   "execution_count": 25,
   "metadata": {},
   "outputs": [
    {
     "data": {
      "text/html": [
       "<div>\n",
       "<style scoped>\n",
       "    .dataframe tbody tr th:only-of-type {\n",
       "        vertical-align: middle;\n",
       "    }\n",
       "\n",
       "    .dataframe tbody tr th {\n",
       "        vertical-align: top;\n",
       "    }\n",
       "\n",
       "    .dataframe thead th {\n",
       "        text-align: right;\n",
       "    }\n",
       "</style>\n",
       "<table border=\"1\" class=\"dataframe\">\n",
       "  <thead>\n",
       "    <tr style=\"text-align: right;\">\n",
       "      <th></th>\n",
       "      <th>drug</th>\n",
       "      <th>bank</th>\n",
       "      <th>prescription</th>\n",
       "      <th>memo</th>\n",
       "      <th>private</th>\n",
       "      <th>body</th>\n",
       "      <th>business</th>\n",
       "      <th>html</th>\n",
       "      <th>money</th>\n",
       "      <th>offer</th>\n",
       "      <th>please</th>\n",
       "    </tr>\n",
       "  </thead>\n",
       "  <tbody>\n",
       "    <tr>\n",
       "      <th>2565</th>\n",
       "      <td>0</td>\n",
       "      <td>0</td>\n",
       "      <td>0</td>\n",
       "      <td>0</td>\n",
       "      <td>0</td>\n",
       "      <td>1</td>\n",
       "      <td>0</td>\n",
       "      <td>1</td>\n",
       "      <td>0</td>\n",
       "      <td>0</td>\n",
       "      <td>1</td>\n",
       "    </tr>\n",
       "    <tr>\n",
       "      <th>4354</th>\n",
       "      <td>0</td>\n",
       "      <td>0</td>\n",
       "      <td>0</td>\n",
       "      <td>0</td>\n",
       "      <td>0</td>\n",
       "      <td>1</td>\n",
       "      <td>0</td>\n",
       "      <td>1</td>\n",
       "      <td>0</td>\n",
       "      <td>1</td>\n",
       "      <td>1</td>\n",
       "    </tr>\n",
       "    <tr>\n",
       "      <th>5561</th>\n",
       "      <td>0</td>\n",
       "      <td>0</td>\n",
       "      <td>0</td>\n",
       "      <td>0</td>\n",
       "      <td>0</td>\n",
       "      <td>0</td>\n",
       "      <td>1</td>\n",
       "      <td>0</td>\n",
       "      <td>1</td>\n",
       "      <td>0</td>\n",
       "      <td>1</td>\n",
       "    </tr>\n",
       "    <tr>\n",
       "      <th>7323</th>\n",
       "      <td>0</td>\n",
       "      <td>0</td>\n",
       "      <td>0</td>\n",
       "      <td>0</td>\n",
       "      <td>0</td>\n",
       "      <td>0</td>\n",
       "      <td>0</td>\n",
       "      <td>0</td>\n",
       "      <td>0</td>\n",
       "      <td>0</td>\n",
       "      <td>0</td>\n",
       "    </tr>\n",
       "    <tr>\n",
       "      <th>3920</th>\n",
       "      <td>0</td>\n",
       "      <td>0</td>\n",
       "      <td>0</td>\n",
       "      <td>0</td>\n",
       "      <td>0</td>\n",
       "      <td>0</td>\n",
       "      <td>0</td>\n",
       "      <td>0</td>\n",
       "      <td>0</td>\n",
       "      <td>0</td>\n",
       "      <td>0</td>\n",
       "    </tr>\n",
       "  </tbody>\n",
       "</table>\n",
       "</div>"
      ],
      "text/plain": [
       "      drug  bank  prescription  memo  private  body  business  html  money  \\\n",
       "2565     0     0             0     0        0     1         0     1      0   \n",
       "4354     0     0             0     0        0     1         0     1      0   \n",
       "5561     0     0             0     0        0     0         1     0      1   \n",
       "7323     0     0             0     0        0     0         0     0      0   \n",
       "3920     0     0             0     0        0     0         0     0      0   \n",
       "\n",
       "      offer  please  \n",
       "2565      0       1  \n",
       "4354      1       1  \n",
       "5561      0       1  \n",
       "7323      0       0  \n",
       "3920      0       0  "
      ]
     },
     "execution_count": 25,
     "metadata": {},
     "output_type": "execute_result"
    }
   ],
   "source": [
    "X_test.head()"
   ]
  },
  {
   "cell_type": "code",
   "execution_count": 26,
   "metadata": {},
   "outputs": [],
   "source": [
    "y_pred_tree = ..."
   ]
  },
  {
   "cell_type": "code",
   "execution_count": 27,
   "metadata": {},
   "outputs": [],
   "source": [
    "y_pred_forest = ..."
   ]
  },
  {
   "cell_type": "code",
   "execution_count": 28,
   "metadata": {},
   "outputs": [],
   "source": [
    "y_pred_log_reg = ..."
   ]
  },
  {
   "cell_type": "code",
   "execution_count": 29,
   "metadata": {},
   "outputs": [],
   "source": [
    "y_test = ..."
   ]
  },
  {
   "cell_type": "code",
   "execution_count": 30,
   "metadata": {},
   "outputs": [
    {
     "name": "stdout",
     "output_type": "stream",
     "text": [
      "LogisticRegression()\n",
      "f_score = 0.6407185628742514\n"
     ]
    },
    {
     "data": {
      "image/png": "[encoded data removed]",
      "text/plain": [
       "<Figure size 432x288 with 2 Axes>"
      ]
     },
     "metadata": {},
     "output_type": "display_data"
    }
   ],
   "source": [
    "print(model_log_reg)\n",
    "plot_confusion_matrix(model_log_reg,X_test,y_test)\n",
    "print(f'f_score = {f1_score(y_test, y_pred_log_reg)}')"
   ]
  },
  {
   "cell_type": "code",
   "execution_count": 31,
   "metadata": {},
   "outputs": [
    {
     "name": "stdout",
     "output_type": "stream",
     "text": [
      "DecisionTreeClassifier()\n",
      "              precision    recall  f1-score   support\n",
      "\n",
      "           0       0.89      0.92      0.91       559\n",
      "           1       0.75      0.68      0.72       193\n",
      "\n",
      "    accuracy                           0.86       752\n",
      "   macro avg       0.82      0.80      0.81       752\n",
      "weighted avg       0.86      0.86      0.86       752\n",
      "\n"
     ]
    }
   ],
   "source": [
    "print(model_tree)\n",
    "print(classification_report(y_test, y_pred_tree))"
   ]
  },
  {
   "cell_type": "code",
   "execution_count": 32,
   "metadata": {},
   "outputs": [
    {
     "name": "stdout",
     "output_type": "stream",
     "text": [
      "DecisionTreeClassifier()\n",
      "f_score = 0.717391304347826\n"
     ]
    },
    {
     "data": {
      "image/png": "[encoded data removed]",
      "text/plain": [
       "<Figure size 432x288 with 2 Axes>"
      ]
     },
     "metadata": {},
     "output_type": "display_data"
    }
   ],
   "source": [
    "print(model_tree)\n",
    "plot_confusion_matrix(model_tree,X_test,y_test)\n",
    "print(f'f_score = {f1_score(y_test, y_pred_tree)}')"
   ]
  },
  {
   "cell_type": "code",
   "execution_count": 33,
   "metadata": {},
   "outputs": [
    {
     "name": "stdout",
     "output_type": "stream",
     "text": [
      "RandomForestClassifier(random_state=0)\n",
      "              precision    recall  f1-score   support\n",
      "\n",
      "           0       0.90      0.92      0.91       559\n",
      "           1       0.76      0.71      0.73       193\n",
      "\n",
      "    accuracy                           0.87       752\n",
      "   macro avg       0.83      0.82      0.82       752\n",
      "weighted avg       0.87      0.87      0.87       752\n",
      "\n"
     ]
    }
   ],
   "source": [
    "print(model_forest)\n",
    "print(classification_report(y_test, y_pred_forest))"
   ]
  },
  {
   "cell_type": "code",
   "execution_count": 34,
   "metadata": {},
   "outputs": [
    {
     "name": "stdout",
     "output_type": "stream",
     "text": [
      "RandomForestClassifier(random_state=0)\n",
      "f_score = 0.7345844504021448\n"
     ]
    },
    {
     "data": {
      "image/png": "[encoded data removed]",
      "text/plain": [
       "<Figure size 432x288 with 2 Axes>"
      ]
     },
     "metadata": {},
     "output_type": "display_data"
    }
   ],
   "source": [
    "print(model_forest)\n",
    "plot_confusion_matrix(model_forest,X_test,y_test)\n",
    "print(f'f_score = {f1_score(y_test, y_pred_forest)}')"
   ]
  },
  {
   "cell_type": "markdown",
   "metadata": {},
   "source": [
    "# Part 2: ML Pipeline"
   ]
  },
  {
   "cell_type": "markdown",
   "metadata": {},
   "source": [
    "Now that we are satisfied with the model we trained, how can we prepare our code for production? We can't run the whole notebook every time, can we?"
   ]
  },
  {
   "cell_type": "markdown",
   "metadata": {},
   "source": [
    "#### In this part we want to answer the following questions:"
   ]
  },
  {
   "cell_type": "markdown",
   "metadata": {},
   "source": [
    "1. What are pipelines and how to create them?\n",
    "2. How to save and load models?\n",
    "3. How to use models for inference? "
   ]
  },
  {
   "cell_type": "markdown",
   "metadata": {},
   "source": [
    "### ML Projects' Life Cycle "
   ]
  },
  {
   "cell_type": "markdown",
   "metadata": {},
   "source": [
    "<br>\n",
    "<img src=\"images/MLLC.png\" width = 700/>\n",
    "<br>\n"
   ]
  },
  {
   "cell_type": "markdown",
   "metadata": {},
   "source": [
    "Let's focus on how we could prepare our code for production."
   ]
  },
  {
   "cell_type": "markdown",
   "metadata": {},
   "source": [
    "<br>\n",
    "<img src=\"images/Classifcation.png\" width = 700 />\n",
    "<br>\n"
   ]
  },
  {
   "cell_type": "code",
   "execution_count": 35,
   "metadata": {},
   "outputs": [],
   "source": [
    "import model"
   ]
  },
  {
   "cell_type": "code",
   "execution_count": 36,
   "metadata": {},
   "outputs": [
    {
     "name": "stderr",
     "output_type": "stream",
     "text": [
      "C:\\Users\\nkayf\\Desktop\\Myrepo\\CIV1498-winter-2021-material-private\\tutorials\\tutorial10\\model.py:44: DataConversionWarning: A column-vector y was passed when a 1d array was expected. Please change the shape of y to (n_samples,), for example using ravel().\n",
      "  model = forest.fit(X_train, y_train)\n"
     ]
    },
    {
     "name": "stdout",
     "output_type": "stream",
     "text": [
      "[INFO] Training done!\n",
      "[INFO] Training data stats:\n",
      "              precision    recall  f1-score   support\n",
      "\n",
      "           0       0.90      0.94      0.92      5028\n",
      "           1       0.81      0.69      0.74      1733\n",
      "\n",
      "    accuracy                           0.88      6761\n",
      "   macro avg       0.85      0.82      0.83      6761\n",
      "weighted avg       0.87      0.88      0.87      6761\n",
      "\n",
      "f_score = 0.7423580786026202\n",
      "[INFO] Test data stats:\n",
      "              precision    recall  f1-score   support\n",
      "\n",
      "           0       0.90      0.92      0.91       559\n",
      "           1       0.76      0.71      0.73       193\n",
      "\n",
      "    accuracy                           0.87       752\n",
      "   macro avg       0.83      0.82      0.82       752\n",
      "weighted avg       0.87      0.87      0.87       752\n",
      "\n",
      "f_score = 0.7345844504021448\n",
      "[INFO] Model saved as model.pkl\n"
     ]
    },
    {
     "data": {
      "image/png": "[encoded data removed]",
      "text/plain": [
       "<Figure size 432x288 with 2 Axes>"
      ]
     },
     "metadata": {},
     "output_type": "display_data"
    },
    {
     "data": {
      "image/png": "[encoded data removed]",
      "text/plain": [
       "<Figure size 432x288 with 2 Axes>"
      ]
     },
     "metadata": {},
     "output_type": "display_data"
    }
   ],
   "source": [
    "model.train()"
   ]
  },
  {
   "cell_type": "code",
   "execution_count": null,
   "metadata": {},
   "outputs": [],
   "source": []
  }
 ],
 "metadata": {
  "kernelspec": {
   "display_name": "Python 3 (ipykernel)",
   "language": "python",
   "name": "python3"
  },
  "language_info": {
   "codemirror_mode": {
    "name": "ipython",
    "version": 3
   },
   "file_extension": ".py",
   "mimetype": "text/x-python",
   "name": "python",
   "nbconvert_exporter": "python",
   "pygments_lexer": "ipython3",
   "version": "3.9.7"
  }
 },
 "nbformat": 4,
 "nbformat_minor": 4
}
