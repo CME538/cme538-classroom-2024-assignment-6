{
 "cells": [
  {
   "cell_type": "markdown",
   "metadata": {},
   "source": [
    "# CME538 - Introduction to Data Science\n",
    "\n",
    "## Tutorial 6 - Geospatial Analysis: An overview \n",
    "By Navid Kayhani, Marc Saleh\n",
    "### Goals\n",
    "\n",
    "### Tutorial Structure\n",
    "\n",
    "\n",
    "\n",
    "### 1. Read in geospaital data\n",
    "\n",
    "\n",
    "### 2. Coordinate Reference Systems in Python / GeoPandas\n",
    "\n",
    "\n",
    "### 3. Spatial relationships and operations\n",
    "\n",
    "    3.1 Using 'Within'\n",
    "    \n",
    "    3.2 Using 'Intersect'\n",
    "    \n",
    "\n",
    "### 4. Folium and interactive maps\n",
    "\n",
    "    4.1 Using 'Chlorpeth'\n",
    "    \n",
    "    4.2 Using 'Marker'\n",
    "\n",
    "\n",
    "***\n",
    "    \n",
    "This notebook is manily based on:\n",
    "\n",
    "\n",
    "[[1]](https://github.com/jorisvandenbossche/geopandas-tutorial) Introduction to geospatial data analysis with GeoPandas and the PyData stack by @jorisvandenbossche\n",
    "\n",
    "[[2]](https://www.kaggle.com/learn/geospatial-analysis) Geospatial Analysis by Kaggle"
   ]
  },
  {
   "cell_type": "markdown",
   "metadata": {},
   "source": [
    "<a id='section0'></a>\n",
    "## Setup Notebook\n",
    "At the start of a notebook, we need to import the Python packages we plan to use.\n"
   ]
  },
  {
   "cell_type": "code",
   "execution_count": null,
   "metadata": {},
   "outputs": [],
   "source": [
    "import os\n",
    "import json\n",
    "import pandas as pd\n",
    "import seaborn as sns\n",
    "from datetime import datetime\n",
    "import matplotlib.pylab as plt\n",
    "import geopandas as gpd\n",
    "\n",
    "# Configure Notebook\n",
    "#for plots to be inline\n",
    "%matplotlib inline \n",
    "#for auto_complete \n",
    "%config Completer.use_jedi = False \n",
    "\n",
    "plt.style.use('fivethirtyeight')\n",
    "sns.set_context(\"notebook\")"
   ]
  },
  {
   "cell_type": "markdown",
   "metadata": {},
   "source": [
    "<a id='section1'></a>\n",
    "\n",
    "# 1. Read in geospatial data\n",
    "\n",
    "There are several geospatial GIS file formats, such as [shapefile (.shp)](https://en.wikipedia.org/wiki/Shapefile), [GeoJSON](https://en.wikipedia.org/wiki/GeoJSON), geopackage files (GPKG), PostGIS (PostgreSQL) database. \n",
    "\n",
    "Shapefile is the most common file type that you'll encounter, and all of these file types can be quickly loaded with the gpd.read_file() function. \n",
    "\n",
    "You have been already familiar with shapfiles, geometric object, GeoPandas, etc. from LEC14 of the course. We review some basics and see some examples here. "
   ]
  },
  {
   "cell_type": "markdown",
   "metadata": {},
   "source": [
    "### What's a GeoDataFrame?\n",
    "\n",
    "A GeoDataFrame contains a tabular, geospatial dataset:\n",
    "\n",
    "* It has a **'geometry' column** that contains the geometry information (or features in GeoJSON).\n",
    "* The other columns are the **attributes** (or properties in GeoJSON) that describe each of the geometries\n",
    "\n",
    "Such a `GeoDataFrame` is just like a pandas `DataFrame`, but with some additional functionality for working with geospatial data:\n",
    "\n",
    "* A `.geometry` attribute that always returns the column with the geometry information (returning a GeoSeries). The column name itself does not necessarily need to be 'geometry', but it will always be accessible as the `.geometry` attribute.\n",
    "* It has some extra methods for working with spatial data (area, distance, buffer, intersection, ...), which we will see in later notebooks.\n",
    "\n",
    "***\n",
    "**It's still a DataFrame**, so we have all the pandas functionality available to use on the geospatial dataset, and to do data manipulations with the attributes and geometry information together."
   ]
  },
  {
   "cell_type": "markdown",
   "metadata": {},
   "source": [
    "### Geometry (`shapely`) Objects: Points, Linestrings and Polygons\n",
    "\n",
    "Spatial vector data can consist of different types, and the 3 fundamental types are:\n",
    "\n",
    "1. `Point` data: represents a single point in space.\n",
    "\n",
    "2. `Line` data (\"`LineString`\"): represents a sequence of points that form a line.\n",
    "\n",
    "3. `Polygon` data: represents a filled area.\n"
   ]
  },
  {
   "cell_type": "markdown",
   "metadata": {},
   "source": [
    "<div class=\"alert alert-info\" style=\"font-size:100%\">\n",
    "\n",
    "**Summary:** <br>\n",
    "\n",
    "* A `GeoDataFrame` allows to perform typical tabular data analysis together with spatial operations\n",
    "* A `GeoDataFrame` (or *Feature Collection*) consists of:\n",
    "    * **Geometries** or **features**: the spatial objects\n",
    "    * **Attributes** or **properties**: columns with information about each spatial object\n",
    "    \n",
    "Single geometries are represented by `shapely` objects:\n",
    "\n",
    "* If you access a single geometry of a GeoDataFrame, you get a shapely geometry object\n",
    "* Those objects have similar functionality as geopandas objects (GeoDataFrame/GeoSeries). For example:\n",
    "    * `single_shapely_object.distance(other_point)` -> distance between two points\n",
    "    * `geodataframe.distance(other_point)` ->  distance for each point in the geodataframe to the other point\n",
    "\n",
    "</div>"
   ]
  },
  {
   "cell_type": "markdown",
   "metadata": {},
   "source": [
    "we start with the following datasets:\n",
    "\n",
    "\n",
    "\n",
    "1. The administrative districts of Paris (https://opendata.paris.fr/explore/dataset/quartier_paris/): `paris_districts_utm.geojson`.\n",
    "\n",
    "\n",
    "2. Information about the public bicycle sharing system in Paris ([vélib](https://opendata.paris.fr/explore/dataset/velib-emplacement-des-stations/export/?basemap=jawg.dark&location=11,48.8559,2.35192))\n",
    "\n",
    "We will start with exploring the bicycle station dataset (available as a GeoPackage file)\n",
    "    \n"
   ]
  },
  {
   "cell_type": "markdown",
   "metadata": {},
   "source": [
    "#### Read the stations datasets into a GeoDataFrame called `stations`.\n",
    "Check the type of the returned object (with `type(..)`)"
   ]
  },
  {
   "cell_type": "code",
   "execution_count": null,
   "metadata": {
    "scrolled": true
   },
   "outputs": [],
   "source": [
    "# import stations geodataframe\n",
    "stations = gpd.read_file(\"paris_bike_stations_mercator.gpkg\")\n",
    "type(stations)"
   ]
  },
  {
   "cell_type": "markdown",
   "metadata": {},
   "source": [
    "#### Check the first rows of the dataframes. What kind of geometries dooes this datasets contain?"
   ]
  },
  {
   "cell_type": "code",
   "execution_count": null,
   "metadata": {},
   "outputs": [],
   "source": [
    "# print the first 5 rows of the geodataframe\n",
    "stations.head()"
   ]
  },
  {
   "cell_type": "code",
   "execution_count": null,
   "metadata": {},
   "outputs": [],
   "source": [
    "# print columns types\n",
    "stations.info()"
   ]
  },
  {
   "cell_type": "code",
   "execution_count": null,
   "metadata": {},
   "outputs": [],
   "source": [
    "# add availability column, which represent available bikes / bike_stands\n",
    "stations['availablity'] = stations['available_bikes']/ stations['bike_stands']"
   ]
  },
  {
   "cell_type": "markdown",
   "metadata": {},
   "source": [
    "#### Make a quick plot of the stations dataset."
   ]
  },
  {
   "cell_type": "code",
   "execution_count": null,
   "metadata": {},
   "outputs": [],
   "source": [
    "# plot stations\n",
    "stations.plot(figsize=(12,6));"
   ]
  },
  {
   "cell_type": "markdown",
   "metadata": {},
   "source": [
    "#### Plot a histogram showing the distribution of the capacity in the stations."
   ]
  },
  {
   "cell_type": "code",
   "execution_count": null,
   "metadata": {},
   "outputs": [],
   "source": [
    "# plot 'availability' histogram\n",
    "stations['availablity'].hist();"
   ]
  },
  {
   "cell_type": "markdown",
   "metadata": {},
   "source": [
    "<a id='section2'></a>\n",
    "\n",
    "# 2. Coordinate Reference Systems in Python / GeoPandas"
   ]
  },
  {
   "cell_type": "markdown",
   "metadata": {},
   "source": [
    "![Mercator](images/projections.png)"
   ]
  },
  {
   "cell_type": "markdown",
   "metadata": {},
   "source": [
    "![Mercator](images/Mercator_area.gif)"
   ]
  },
  {
   "cell_type": "code",
   "execution_count": null,
   "metadata": {},
   "outputs": [],
   "source": [
    "# Import the districts dataset\n",
    "districts = gpd.read_file(\"paris_districts.geojson\")"
   ]
  },
  {
   "cell_type": "code",
   "execution_count": null,
   "metadata": {},
   "outputs": [],
   "source": [
    "# Check the CRS information\n",
    "districts.crs"
   ]
  },
  {
   "cell_type": "code",
   "execution_count": null,
   "metadata": {},
   "outputs": [],
   "source": [
    "# Show the first 5 rows of the GeoDataFrame\n",
    "districts.head()"
   ]
  },
  {
   "cell_type": "code",
   "execution_count": null,
   "metadata": {},
   "outputs": [],
   "source": [
    "# Plot the districts dataset #pip install descartes for polygons in geopandas\n",
    "districts.plot()"
   ]
  },
  {
   "cell_type": "code",
   "execution_count": null,
   "metadata": {},
   "outputs": [],
   "source": [
    "# plot districts with a specific focus on population as a legend\n",
    "districts.plot(column='population', figsize=(12, 6), legend=True);"
   ]
  },
  {
   "cell_type": "markdown",
   "metadata": {},
   "source": [
    "## Does it make sense?\n",
    "### Is just population a good metric?"
   ]
  },
  {
   "cell_type": "code",
   "execution_count": null,
   "metadata": {},
   "outputs": [],
   "source": [
    "# Calculate the area of all districts\n",
    "districts.geometry.area[0:5]"
   ]
  },
  {
   "cell_type": "markdown",
   "metadata": {},
   "source": [
    "For converting to projected coordinates, we will use 'EPSG 2154' as the standard projected CRS for France"
   ]
  },
  {
   "cell_type": "code",
   "execution_count": null,
   "metadata": {},
   "outputs": [],
   "source": [
    "# Convert the districts to the projected CRS\n",
    "districts_2154 = districts.to_crs(epsg=2154)"
   ]
  },
  {
   "cell_type": "code",
   "execution_count": null,
   "metadata": {},
   "outputs": [],
   "source": [
    "# Plot the districts dataset again\n",
    "districts_2154.plot()"
   ]
  },
  {
   "cell_type": "code",
   "execution_count": null,
   "metadata": {},
   "outputs": [],
   "source": [
    "# Calculate the area of all districts\n",
    "districts_2154.geometry.area[0:5]"
   ]
  },
  {
   "cell_type": "markdown",
   "metadata": {},
   "source": [
    "#### What is the unit though?!"
   ]
  },
  {
   "cell_type": "code",
   "execution_count": null,
   "metadata": {},
   "outputs": [],
   "source": [
    "districts_2154.crs\n",
    "districts_2154.crs.axis_info[0].unit_name"
   ]
  },
  {
   "cell_type": "code",
   "execution_count": null,
   "metadata": {},
   "outputs": [],
   "source": [
    "# dividing by 10^6 for showing km²\n",
    "districts_2154['area'] = districts_2154.geometry.area / 1e6 #km2"
   ]
  },
  {
   "cell_type": "code",
   "execution_count": null,
   "metadata": {},
   "outputs": [],
   "source": [
    "districts_2154.sort_values(by='area', ascending=False)[0:10]"
   ]
  },
  {
   "cell_type": "code",
   "execution_count": null,
   "metadata": {},
   "outputs": [],
   "source": [
    "# Add a population density column\n",
    "districts_2154['population_density'] = districts_2154['population'] / districts_2154.geometry.area * 10**6"
   ]
  },
  {
   "cell_type": "code",
   "execution_count": null,
   "metadata": {},
   "outputs": [],
   "source": [
    "# Make a plot of the districts colored by the population density\n",
    "districts_2154.plot(column='population_density', figsize=(12, 6), legend=True);"
   ]
  },
  {
   "cell_type": "code",
   "execution_count": null,
   "metadata": {},
   "outputs": [],
   "source": [
    "# Plot stations geodataframe again\n",
    "stations.plot(figsize=(12,6));"
   ]
  },
  {
   "cell_type": "code",
   "execution_count": null,
   "metadata": {},
   "outputs": [],
   "source": [
    "# Plot districts and stations together\n",
    "ax = districts_2154.plot(column='population_density', figsize=(12, 6), legend=True);\n",
    "stations.plot(ax=ax, color='red', edgecolor='k', label='Bike Stations')"
   ]
  },
  {
   "cell_type": "code",
   "execution_count": null,
   "metadata": {},
   "outputs": [],
   "source": [
    "stations.crs"
   ]
  },
  {
   "cell_type": "code",
   "execution_count": null,
   "metadata": {},
   "outputs": [],
   "source": [
    "districts_2154.crs"
   ]
  },
  {
   "cell_type": "code",
   "execution_count": null,
   "metadata": {},
   "outputs": [],
   "source": [
    "# Convert station geodataframe to match districts\n",
    "stations = stations.to_crs(epsg=2154)"
   ]
  },
  {
   "cell_type": "code",
   "execution_count": null,
   "metadata": {},
   "outputs": [],
   "source": [
    "# Plot districts and stations together\n",
    "ax = districts_2154.plot(column='population_density', figsize=(12, 6), legend=True);\n",
    "stations.plot(ax=ax, color='red', edgecolor='k', label='Bike Stations')\n",
    "plt.legend(fontsize=16, loc=2)\n",
    "plt.xlabel('Easting (metre)', fontsize=20)\n",
    "plt.ylabel('Northing (metre)', fontsize=20)\n",
    "plt.show()"
   ]
  },
  {
   "cell_type": "markdown",
   "metadata": {},
   "source": [
    "# <a id='section3'></a>\n",
    "\n",
    "# 3. Spatial relationships and operations"
   ]
  },
  {
   "cell_type": "markdown",
   "metadata": {},
   "source": [
    "<div class=\"alert alert-info\" style=\"font-size:120%\">\n",
    "\n",
    "**REFERENCE**:\n",
    "\n",
    "An example of the different functions to check spatial relationships (*spatial predicate functions*):\n",
    "\n",
    "* `equals`\n",
    "* `contains`\n",
    "* `crosses`\n",
    "* `disjoint`\n",
    "* `intersects`\n",
    "* `overlaps`\n",
    "* `touches`\n",
    "* `within`\n",
    "* `covers`\n",
    "\n",
    "\n",
    "See https://shapely.readthedocs.io/en/stable/manual.html#predicates-and-relationships for an overview of those methods.\n",
    "\n",
    "See https://en.wikipedia.org/wiki/DE-9IM for all details on the semantics of those operations.\n",
    "\n",
    "</div>"
   ]
  },
  {
   "cell_type": "markdown",
   "metadata": {},
   "source": [
    "### 3.1 Using 'Within'"
   ]
  },
  {
   "cell_type": "markdown",
   "metadata": {},
   "source": [
    "##### Let's count the number of the number of stations in each district using 'within'"
   ]
  },
  {
   "cell_type": "code",
   "execution_count": null,
   "metadata": {},
   "outputs": [],
   "source": [
    "# convert to a common crs\n",
    "districts_4326 = districts.to_crs(epsg=4326)\n",
    "stations_4326 = stations.to_crs(epsg=4326)"
   ]
  },
  {
   "cell_type": "code",
   "execution_count": null,
   "metadata": {},
   "outputs": [],
   "source": [
    "# add new column that represents total stations in each district using 'within'\n",
    "districts_4326['total_stations'] = districts_4326.apply(lambda row: stations_4326.within(row.geometry).sum(),axis = 1)"
   ]
  },
  {
   "cell_type": "code",
   "execution_count": null,
   "metadata": {},
   "outputs": [],
   "source": [
    "# sort value sin descending order\n",
    "districts_4326 = districts_4326.sort_values('total_stations', ascending = False)"
   ]
  },
  {
   "cell_type": "markdown",
   "metadata": {},
   "source": [
    "### 3.2 Using 'Intersect'"
   ]
  },
  {
   "cell_type": "code",
   "execution_count": null,
   "metadata": {},
   "outputs": [],
   "source": [
    "# import district file and projected to 3857 crs\n",
    "districts = gpd.read_file(\"paris_districts.geojson\").to_crs(epsg=3857)"
   ]
  },
  {
   "cell_type": "code",
   "execution_count": null,
   "metadata": {},
   "outputs": [],
   "source": [
    "# created a line with http://geojson.io\n",
    "s_seine = gpd.GeoDataFrame.from_features({\"type\":\"FeatureCollection\",\"features\":[{\"type\":\"Feature\",\"properties\":{},\"geometry\":{\"type\":\"LineString\",\"coordinates\":[[2.408924102783203,48.805619828930226],[2.4092674255371094,48.81703747481909],[2.3927879333496094,48.82325391133874],[2.360687255859375,48.84912860497674],[2.338714599609375,48.85827758964043],[2.318115234375,48.8641501307046],[2.298717498779297,48.863246707697],[2.2913360595703125,48.859519915404825],[2.2594070434570312,48.8311646245967],[2.2436141967773438,48.82325391133874],[2.236919403076172,48.82347994904826],[2.227306365966797,48.828339513221444],[2.2224998474121094,48.83862215329593],[2.2254180908203125,48.84856379804802],[2.2240447998046875,48.85409863123821],[2.230224609375,48.867989496547864],[2.260265350341797,48.89192242750887],[2.300262451171875,48.910203080780285]]}}]},\n",
    "                                               crs={'init': 'epsg:4326'})\n",
    "# convert to common crs\n",
    "s_seine_utm = s_seine.to_crs(epsg=3857)\n",
    "s_seine_utm"
   ]
  },
  {
   "cell_type": "code",
   "execution_count": null,
   "metadata": {
    "scrolled": true
   },
   "outputs": [],
   "source": [
    "# check geometry\n",
    "s_seine_utm['geometry']"
   ]
  },
  {
   "cell_type": "code",
   "execution_count": null,
   "metadata": {},
   "outputs": [],
   "source": [
    "# check geometry type\n",
    "type(s_seine_utm['geometry'])"
   ]
  },
  {
   "cell_type": "code",
   "execution_count": null,
   "metadata": {},
   "outputs": [],
   "source": [
    "# plot districts and seine together\n",
    "import matplotlib.pyplot as plt\n",
    "fig, ax = plt.subplots(figsize=(20, 10))\n",
    "districts.plot(ax=ax, color='grey', alpha=0.4, edgecolor='k')\n",
    "s_seine_utm.plot(ax=ax)"
   ]
  },
  {
   "cell_type": "code",
   "execution_count": null,
   "metadata": {},
   "outputs": [],
   "source": [
    "# access the single geometry object\n",
    "seine = s_seine_utm['geometry'].squeeze()\n",
    "type(seine)"
   ]
  },
  {
   "cell_type": "code",
   "execution_count": null,
   "metadata": {},
   "outputs": [],
   "source": [
    "# add buffer of 100m around seine\n",
    "seine_buffer = seine.buffer(100)\n",
    "seine_buffer"
   ]
  },
  {
   "cell_type": "code",
   "execution_count": null,
   "metadata": {},
   "outputs": [],
   "source": [
    "# create geoDataframe of the intersection of the bugger and the districts\n",
    "districts_seine = districts[districts.intersects(seine_buffer)]"
   ]
  },
  {
   "cell_type": "code",
   "execution_count": null,
   "metadata": {},
   "outputs": [],
   "source": [
    "# Plot intersection\n",
    "fig, ax = plt.subplots(figsize=(20, 10))\n",
    "districts.plot(ax=ax, color='grey', alpha=0.4, edgecolor='k')\n",
    "districts_seine.plot(ax=ax, color='blue', alpha=0.4, edgecolor='k')\n",
    "s_seine_utm.plot(ax=ax)"
   ]
  },
  {
   "cell_type": "markdown",
   "metadata": {},
   "source": [
    "# 4. Folium and interactive maps"
   ]
  },
  {
   "cell_type": "code",
   "execution_count": null,
   "metadata": {},
   "outputs": [],
   "source": [
    "# !pip intstall folium"
   ]
  },
  {
   "cell_type": "code",
   "execution_count": null,
   "metadata": {},
   "outputs": [],
   "source": [
    "import folium\n",
    "from folium import Choropleth, Circle, Marker\n",
    "from folium.plugins import HeatMap, MarkerCluster"
   ]
  },
  {
   "cell_type": "markdown",
   "metadata": {},
   "source": [
    "### 4.1 Using Chropleth"
   ]
  },
  {
   "cell_type": "code",
   "execution_count": null,
   "metadata": {},
   "outputs": [],
   "source": [
    "districts_4326"
   ]
  },
  {
   "cell_type": "code",
   "execution_count": null,
   "metadata": {},
   "outputs": [],
   "source": [
    "# create a GeoDataFrame where each distict is assigned a different row, \n",
    "# and the \"geometry\" column contains the geographical boundaries.\n",
    "plot_geography = districts_4326.to_crs(epsg=4326)[['district_name', 'geometry']]\n",
    "plot_geography = plot_geography.set_index('district_name')\n",
    "plot_geography.head()"
   ]
  },
  {
   "cell_type": "code",
   "execution_count": null,
   "metadata": {},
   "outputs": [],
   "source": [
    "# Next, we'll create a DataFrame from districts_4326 containing the quanity we want to plot 'total_stations' \n",
    "# and the district name, which should match the index of plot_geography.\n",
    "plot_data = districts_4326[['district_name', 'total_stations']]\n",
    "plot_data.head()"
   ]
  },
  {
   "cell_type": "code",
   "execution_count": null,
   "metadata": {
    "scrolled": true
   },
   "outputs": [],
   "source": [
    "# Create a base map\n",
    "map_6 = folium.Map(location=[48.8566, 2.3522], \n",
    "                 tiles='cartodbpositron',\n",
    "                 zoom_start=10)\n",
    "\n",
    "# Add a choropleth map to the base map\n",
    "Choropleth(geo_data=plot_geography.__geo_interface__, \n",
    "           columns=['district_name', 'total_stations'],\n",
    "           data=plot_data, \n",
    "           key_on='feature.id', \n",
    "           fill_color='YlOrRd', \n",
    "           legend_name='Bikeshare Total Station number'\n",
    "          ).add_to(map_6)\n",
    "\n",
    "# Display the map\n",
    "map_6"
   ]
  },
  {
   "cell_type": "markdown",
   "metadata": {},
   "source": [
    "### 4.2 Using a Marker"
   ]
  },
  {
   "cell_type": "markdown",
   "metadata": {},
   "source": [
    "##### Creating a map 'm_1'  from a point"
   ]
  },
  {
   "cell_type": "code",
   "execution_count": null,
   "metadata": {},
   "outputs": [],
   "source": [
    "# Create a map of Toronto\n",
    "m_1 = folium.Map(location=[43.63,-79.4], tiles='openstreetmap', zoom_start=12)\n",
    "\n",
    "# Display the map\n",
    "m_1"
   ]
  },
  {
   "cell_type": "markdown",
   "metadata": {},
   "source": [
    "##### Plot the points from dataframe or geodataframe on the map 'm_1' based on coordinates"
   ]
  },
  {
   "cell_type": "code",
   "execution_count": null,
   "metadata": {},
   "outputs": [],
   "source": [
    "# create dataframe with cooridinates of the UofT and a nearby location\n",
    "uoft_df = pd.DataFrame({'Lat': [43.6629,43.6524], 'Long': [-79.3957,-79.3957]})"
   ]
  },
  {
   "cell_type": "code",
   "execution_count": null,
   "metadata": {},
   "outputs": [],
   "source": [
    "uoft_df"
   ]
  },
  {
   "cell_type": "code",
   "execution_count": null,
   "metadata": {},
   "outputs": [],
   "source": [
    "# You can convert the dataframe to a GeoDataFrame of the UofT location and the nearby location\n",
    "uoft_gdf = gpd.GeoDataFrame(uoft_df,\n",
    "                            geometry=gpd.points_from_xy(uoft_df.Long, uoft_df.Lat))"
   ]
  },
  {
   "cell_type": "code",
   "execution_count": null,
   "metadata": {},
   "outputs": [],
   "source": [
    "uoft_gdf"
   ]
  },
  {
   "cell_type": "code",
   "execution_count": null,
   "metadata": {},
   "outputs": [],
   "source": [
    "# Add points to the map 'm_1' generated earlier using Marker by iterating trhough dataframe or geodataframe\n",
    "for idx, row in uoft_gdf.iterrows():\n",
    "    Marker([row['Lat'], row['Long']]).add_to(m_1)"
   ]
  },
  {
   "cell_type": "code",
   "execution_count": null,
   "metadata": {
    "scrolled": true
   },
   "outputs": [],
   "source": [
    "m_1"
   ]
  },
  {
   "cell_type": "markdown",
   "metadata": {},
   "source": [
    "https://www.kaggle.com/alexisbcook/interactive-maps"
   ]
  }
 ],
 "metadata": {
  "kernelspec": {
   "display_name": "Python 3 (ipykernel)",
   "language": "python",
   "name": "python3"
  },
  "language_info": {
   "codemirror_mode": {
    "name": "ipython",
    "version": 3
   },
   "file_extension": ".py",
   "mimetype": "text/x-python",
   "name": "python",
   "nbconvert_exporter": "python",
   "pygments_lexer": "ipython3",
   "version": "3.9.7"
  }
 },
 "nbformat": 4,
 "nbformat_minor": 4
}
