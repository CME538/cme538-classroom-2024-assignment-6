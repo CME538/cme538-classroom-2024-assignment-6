{
 "cells": [
  {
   "cell_type": "markdown",
   "metadata": {},
   "source": [
    "# CME538 - Introduction to Data Science\n",
    "## Tutorial 3 - Parsing HTML"
   ]
  },
  {
   "cell_type": "markdown",
   "metadata": {},
   "source": [
    "### Learning Objectives\n",
    "After completing this tutorial, you should be comfortable:\n",
    "\n",
    "- Understanding the overall structure of HTML tags\n",
    "- Finding the information of interest within a web-page by going through the HTML source code\n",
    "- Using Python and BeautifulSoup to extract the information of interest from HTML elements \n",
    "\n",
    "### Turtorial Structure\n",
    "1. [What is HTML](#section1)\n",
    "2. [Scraping The Guardian](#section2)\n",
    "3. [Scraping quotes.toscrape.com](#section3)"
   ]
  },
  {
   "cell_type": "markdown",
   "metadata": {},
   "source": [
    "<a id='section1'></a>\n",
    "# 1. What is HTML?"
   ]
  },
  {
   "cell_type": "markdown",
   "metadata": {},
   "source": [
    "source = https://www.w3schools.com/html/html_intro.asp"
   ]
  },
  {
   "cell_type": "markdown",
   "metadata": {},
   "source": [
    "- HTML stands for Hyper Text Markup Language\n",
    "- HTML is the standard markup language for creating Web pages\n",
    "- It describes the structure of a Web page\n",
    "- HTML consists of a series of elements that tell the browser how to display the content\n",
    "- HTML elements label pieces of content such as \"this is a **heading**\" , \"this is a **paragraph**\" , \"this is a **link**\" , etc."
   ]
  },
  {
   "cell_type": "markdown",
   "metadata": {},
   "source": [
    "<div style=\"display: flex; justify-content: flex-start; gap: 1px;\">\n",
    "    <img src=\"HTML-basic_format.png\" alt=\"HTML Basic Format\" width=\"500\"/>\n",
    "    <img src=\"HTML-doc.png\" alt=\"HTML Doc Structure\" width=\"200\"/>\n",
    "</div>"
   ]
  },
  {
   "cell_type": "markdown",
   "metadata": {},
   "source": [
    "HTML tags look something like this (very similar to XML files):\n",
    "\n",
    "![HTML Tags](HTML-sample_tag.png)"
   ]
  },
  {
   "cell_type": "markdown",
   "metadata": {},
   "source": [
    "An example of some HTML code below:"
   ]
  },
  {
   "cell_type": "code",
   "execution_count": null,
   "metadata": {
    "vscode": {
     "languageId": "xml"
    }
   },
   "outputs": [],
   "source": [
    "<div>\n",
    "<img src=\"attachment:image.png\" width=\"400\" align='left'/>\n",
    "</div>"
   ]
  },
  {
   "cell_type": "markdown",
   "metadata": {},
   "source": [
    "# 2. Scraping the Guardian\n",
    "<a id='section2'></a>\n",
    "\n",
    "Let's scrape the best books from the 21st century, according to The Guardian:"
   ]
  },
  {
   "cell_type": "code",
   "execution_count": 1,
   "metadata": {},
   "outputs": [
    {
     "name": "stdout",
     "output_type": "stream",
     "text": [
      "<Response [200]>\n"
     ]
    }
   ],
   "source": [
    "import requests\n",
    "\n",
    "# URL of the page to scrape\n",
    "url = 'https://www.theguardian.com/books/2019/sep/21/best-books-of-the-21st-century'\n",
    "\n",
    "# Check if we were successful in retrieiving the data\n",
    "response = requests.get(url)\n",
    "\n",
    "# Print response status\n",
    "print(response)"
   ]
  },
  {
   "cell_type": "markdown",
   "metadata": {},
   "source": [
    "To parse our HTML document, we’ll use a Python module called BeautifulSoup, the most common web scraping module for Python."
   ]
  },
  {
   "cell_type": "code",
   "execution_count": 2,
   "metadata": {},
   "outputs": [],
   "source": [
    "from bs4 import BeautifulSoup"
   ]
  },
  {
   "cell_type": "markdown",
   "metadata": {},
   "source": [
    "If you don't have this library installed, no worries! Let's `pip install` it now:"
   ]
  },
  {
   "cell_type": "code",
   "execution_count": 3,
   "metadata": {},
   "outputs": [
    {
     "name": "stdout",
     "output_type": "stream",
     "text": [
      "Collecting bs4\n",
      "  Downloading bs4-0.0.2-py2.py3-none-any.whl (1.2 kB)\n",
      "Requirement already satisfied: beautifulsoup4 in /Users/ekaterinaossetchkina/opt/anaconda3/lib/python3.8/site-packages (from bs4) (4.9.3)\n",
      "Requirement already satisfied: soupsieve>1.2 in /Users/ekaterinaossetchkina/opt/anaconda3/lib/python3.8/site-packages (from beautifulsoup4->bs4) (2.0.1)\n",
      "Installing collected packages: bs4\n",
      "Successfully installed bs4-0.0.2\n",
      "\u001b[33mWARNING: You are using pip version 21.1.2; however, version 24.2 is available.\n",
      "You should consider upgrading via the '/Users/ekaterinaossetchkina/opt/anaconda3/bin/python -m pip install --upgrade pip' command.\u001b[0m\n"
     ]
    }
   ],
   "source": [
    "!pip install bs4 # one time run! after installed, don't worry about rerunning."
   ]
  },
  {
   "cell_type": "markdown",
   "metadata": {},
   "source": [
    "Let's start to parse the website data with `BeautifulSoup` like so:"
   ]
  },
  {
   "cell_type": "code",
   "execution_count": 5,
   "metadata": {},
   "outputs": [],
   "source": [
    "# print(response.text)"
   ]
  },
  {
   "cell_type": "code",
   "execution_count": 9,
   "metadata": {},
   "outputs": [
    {
     "name": "stdout",
     "output_type": "stream",
     "text": [
      "<!DOCTYPE html>\n",
      "\n",
      "<html lang=\"en\">\n",
      "<head>\n",
      "<!-- Hello there, HTML enthusiast! -->\n",
      "<!-- DCR commit hash 2eb4af1a41e9fbee7a623e8ab6eaf7343a9ffee3 -->\n",
      "<title>The 100 best books of the 21st century  | Books\n"
     ]
    }
   ],
   "source": [
    "html_soup = BeautifulSoup(response.text, 'html.parser')\n",
    "\n",
    "print(str(html_soup)[0:200]) # preview first 200 char"
   ]
  },
  {
   "cell_type": "markdown",
   "metadata": {},
   "source": [
    "We are interested in extracting out a few specific tags, we can use the built-in `find_all` method:"
   ]
  },
  {
   "cell_type": "code",
   "execution_count": 10,
   "metadata": {},
   "outputs": [
    {
     "name": "stdout",
     "output_type": "stream",
     "text": [
      "Help on method find_all in module bs4.element:\n",
      "\n",
      "find_all(name=None, attrs={}, recursive=True, text=None, limit=None, **kwargs) method of bs4.BeautifulSoup instance\n",
      "    Look in the children of this PageElement and find all\n",
      "    PageElements that match the given criteria.\n",
      "    \n",
      "    All find_* methods take a common set of arguments. See the online\n",
      "    documentation for detailed explanations.\n",
      "    \n",
      "    :param name: A filter on tag name.\n",
      "    :param attrs: A dictionary of filters on attribute values.\n",
      "    :param recursive: If this is True, find_all() will perform a\n",
      "        recursive search of this PageElement's children. Otherwise,\n",
      "        only the direct children will be considered.\n",
      "    :param limit: Stop looking after finding this many results.\n",
      "    :kwargs: A dictionary of filters on attribute values.\n",
      "    :return: A ResultSet of PageElements.\n",
      "    :rtype: bs4.element.ResultSet\n",
      "\n"
     ]
    }
   ],
   "source": [
    "help(html_soup.find_all)"
   ]
  },
  {
   "cell_type": "code",
   "execution_count": 11,
   "metadata": {},
   "outputs": [
    {
     "name": "stdout",
     "output_type": "stream",
     "text": [
      "[<h2 class=\"dcr-1x1qaem\" id=\"100\">100</h2>, <h2 class=\"dcr-1x1qaem\" id=\"i-feel-bad-about-my-neck\"><strong>I Feel Bad About My Neck</strong></h2>, <h2 class=\"dcr-1x1qaem\" id=\"by-nora-ephron-2006\">by Nora Ephron (2006)</h2>, <h2 class=\"dcr-1x1qaem\" id=\"99\">99</h2>, <h2 class=\"dcr-1x1qaem\" id=\"broken-glass\"><strong>Broken Glass</strong></h2>, <h2 class=\"dcr-1x1qaem\" id=\"by-alain-mabanckou-2005-translated-by-helen-stevenson-2009\">by Alain Mabanckou (2005), translated by Helen Stevenson (2009)</h2>, <h2 class=\"dcr-1x1qaem\" id=\"98\">98</h2>, <h2 class=\"dcr-1x1qaem\" id=\"the-girl-with-the-dragon-tattoo\"><strong>The Girl </strong><strong>With the Dragon Tattoo</strong></h2>, <h2 class=\"dcr-1x1qaem\" id=\"by-stieg-larsson-2005-translated-by-steven-t-murray-2008\">by Stieg Larsson (2005), translated by Steven T Murray (2008)</h2>, <h2 class=\"dcr-1x1qaem\" id=\"97\">97</h2>, <h2 class=\"dcr-1x1qaem\" id=\"harry-potter-and-the-goblet-of-fire\"><strong>Harry Potter and the Goblet of Fire</strong></h2>, <h2 class=\"dcr-1x1qaem\" id=\"by-jk-rowling-2000\">by JK Rowling (2000)</h2>, <h2 class=\"dcr-1x1qaem\" id=\"96\">96</h2>, <h2 class=\"dcr-1x1qaem\" id=\"a-little-life\"><strong>A Little Life</strong></h2>, <h2 class=\"dcr-1x1qaem\" id=\"by-hanya-yanagihara-2015\">by Hanya Yanagihara (2015)</h2>, <h2 class=\"dcr-1x1qaem\" id=\"95\">95</h2>, <h2 class=\"dcr-1x1qaem\" id=\"chronicles-volume-one\"><strong>Chronicles: Volume One</strong></h2>, <h2 class=\"dcr-1x1qaem\" id=\"by-bob-dylan-2004\">by Bob Dylan (2004)</h2>, <h2 class=\"dcr-1x1qaem\" id=\"94\">94</h2>, <h2 class=\"dcr-1x1qaem\" id=\"the-tipping-point\"><strong>The Tipping Point</strong></h2>, <h2 class=\"dcr-1x1qaem\" id=\"by-malcolm-gladwell-2000\">by Malcolm Gladwell (2000)</h2>, <h2 class=\"dcr-1x1qaem\" id=\"93\">93</h2>, <h2 class=\"dcr-1x1qaem\" id=\"darkmans\"><strong>Darkmans</strong></h2>, <h2 class=\"dcr-1x1qaem\" id=\"by-nicola-barker-2007\">by Nicola Barker (2007)</h2>, <h2 class=\"dcr-1x1qaem\" id=\"92\">92</h2>, <h2 class=\"dcr-1x1qaem\" id=\"the-siege\"><strong>The Siege</strong></h2>, <h2 class=\"dcr-1x1qaem\" id=\"by-helen-dunmore-2001\">by Helen Dunmore (2001)</h2>, <h2 class=\"dcr-1x1qaem\" id=\"91\">91</h2>, <h2 class=\"dcr-1x1qaem\" id=\"light\"><strong>Light</strong></h2>, <h2 class=\"dcr-1x1qaem\" id=\"by-m-john-harrison-2002\">by M John Harrison (2002)</h2>, <h2 class=\"dcr-1x1qaem\" id=\"90\">90</h2>, <h2 class=\"dcr-1x1qaem\" id=\"visitation\"><strong>Visitation</strong></h2>, <h2 class=\"dcr-1x1qaem\" id=\"by-jenny-erpenbeck-2008-translated-by-susan-bernofsky-2010\">by Jenny Erpenbeck (2008), translated by Susan Bernofsky (2010)</h2>, <h2 class=\"dcr-1x1qaem\" id=\"89\">89</h2>, <h2 class=\"dcr-1x1qaem\" id=\"bad-blood\"><strong>Bad Blood</strong></h2>, <h2 class=\"dcr-1x1qaem\" id=\"by-lorna-sage-2000\">by Lorna Sage (2000)</h2>, <h2 class=\"dcr-1x1qaem\" id=\"88\">88</h2>, <h2 class=\"dcr-1x1qaem\" id=\"noughts-crosses\"><strong>Noughts </strong><strong>&amp; Crosses</strong></h2>, <h2 class=\"dcr-1x1qaem\" id=\"by-malorie-blackman-2001\">by Malorie Blackman (2001)</h2>, <h2 class=\"dcr-1x1qaem\" id=\"87\">87</h2>, <h2 class=\"dcr-1x1qaem\" id=\"priestdaddy\"><strong>Priestdaddy</strong></h2>, <h2 class=\"dcr-1x1qaem\" id=\"by-patricia-lockwood-2017\">by Patricia Lockwood (2017)</h2>, <h2 class=\"dcr-1x1qaem\" id=\"86\">86</h2>, <h2 class=\"dcr-1x1qaem\" id=\"adults-in-the-room\"><strong>Adults in the Room</strong></h2>, <h2 class=\"dcr-1x1qaem\" id=\"by-yanis-varoufakis-2017\">by Yanis Varoufakis (2017)</h2>, <h2 class=\"dcr-1x1qaem\" id=\"85\">85</h2>, <h2 class=\"dcr-1x1qaem\" id=\"the-god-delusion\"><strong>The God Delusion</strong></h2>, <h2 class=\"dcr-1x1qaem\" id=\"by-richard-dawkins-2006\">by Richard Dawkins (2006)</h2>, <h2 class=\"dcr-1x1qaem\" id=\"84\">84</h2>, <h2 class=\"dcr-1x1qaem\" id=\"the-cost-of-living\"><strong>The Cost of Living</strong></h2>, <h2 class=\"dcr-1x1qaem\" id=\"by-deborah-levy-2018\">by Deborah Levy (2018)</h2>, <h2 class=\"dcr-1x1qaem\" id=\"83\">83</h2>, <h2 class=\"dcr-1x1qaem\" id=\"tell-me-how-it-ends\"><strong>Tell Me How It Ends</strong></h2>, <h2 class=\"dcr-1x1qaem\" id=\"by-valeria-luiselli-2016-translated-by-luiselli-with-lizzie-davis-2017\">by Valeria Luiselli (2016), translated by Luiselli with Lizzie Davis (2017)</h2>, <h2 class=\"dcr-1x1qaem\" id=\"82\">82</h2>, <h2 class=\"dcr-1x1qaem\" id=\"coraline\"><strong>Coraline</strong></h2>, <h2 class=\"dcr-1x1qaem\" id=\"by-neil-gaiman-2002\">by Neil Gaiman (2002)</h2>, <h2 class=\"dcr-1x1qaem\" id=\"81\">81</h2>, <h2 class=\"dcr-1x1qaem\" id=\"harvest\"><strong>Harvest</strong></h2>, <h2 class=\"dcr-1x1qaem\" id=\"by-jim-crace-2013\">by Jim Crace (2013)</h2>, <h2 class=\"dcr-1x1qaem\" id=\"80\">80</h2>, <h2 class=\"dcr-1x1qaem\" id=\"stories-of-your-life-and-others\"><strong>Stories of Your Life and Others</strong></h2>, <h2 class=\"dcr-1x1qaem\" id=\"by-ted-chiang-2002\">by Ted Chiang (2002)</h2>, <h2 class=\"dcr-1x1qaem\" id=\"79\">79</h2>, <h2 class=\"dcr-1x1qaem\" id=\"the-spirit-level\"><strong>The Spirit Level</strong></h2>, <h2 class=\"dcr-1x1qaem\" id=\"by-richard-wilkinson-and-kate-pickett-2009\">by Richard Wilkinson and Kate Pickett (2009)</h2>, <h2 class=\"dcr-1x1qaem\" id=\"78\">78</h2>, <h2 class=\"dcr-1x1qaem\" id=\"the-fifth-season\"><strong>The Fifth Season</strong></h2>, <h2 class=\"dcr-1x1qaem\" id=\"by-nk-jemisin-2015\">by NK Jemisin (2015)</h2>, <h2 class=\"dcr-1x1qaem\" id=\"77\">77</h2>, <h2 class=\"dcr-1x1qaem\" id=\"signs-preceding-the-end-of-the-world\"><strong>Signs Preceding the End of the World</strong></h2>, <h2 class=\"dcr-1x1qaem\" id=\"by-yuri-herrera-2009-translated-by-lisa-dillman-2015\">by Yuri Herrera (2009), translated by Lisa Dillman (2015)</h2>, <h2 class=\"dcr-1x1qaem\" id=\"76\">76</h2>, <h2 class=\"dcr-1x1qaem\" id=\"thinking-fast-and-slow\"><strong>Thinking, Fast and Slow</strong></h2>, <h2 class=\"dcr-1x1qaem\" id=\"by-daniel-kahneman-2011\">by Daniel Kahneman (2011)</h2>, <h2 class=\"dcr-1x1qaem\" id=\"75\">75</h2>, <h2 class=\"dcr-1x1qaem\" id=\"drive-your-plow-over-the-bones-of-the-dead\"><strong>Drive Your Plow Over the Bones of the Dead</strong></h2>, <h2 class=\"dcr-1x1qaem\" id=\"by-olga-tokarczuk-2009-translated-by-antonia-lloyd-jones-2018\">by Olga Tokarczuk (2009), translated by Antonia Lloyd-Jones (2018)</h2>, <h2 class=\"dcr-1x1qaem\" id=\"74\">74</h2>, <h2 class=\"dcr-1x1qaem\" id=\"days-without-end\"><strong>Days Without End</strong></h2>, <h2 class=\"dcr-1x1qaem\" id=\"by-sebastian-barry-2016\">by Sebastian Barry (2016)</h2>, <h2 class=\"dcr-1x1qaem\" id=\"73\">73</h2>, <h2 class=\"dcr-1x1qaem\" id=\"nothing-to-envy\"><strong>Nothing to Envy</strong></h2>, <h2 class=\"dcr-1x1qaem\" id=\"by-barbara-demick-2009\">by Barbara Demick (2009)</h2>, <h2 class=\"dcr-1x1qaem\" id=\"72\">72</h2>, <h2 class=\"dcr-1x1qaem\" id=\"the-age-of-surveillance-capitalism\"><strong>The Age of Surveillance Capitalism</strong></h2>, <h2 class=\"dcr-1x1qaem\" id=\"by-shoshana-zuboff-2019\">by Shoshana Zuboff (2019)</h2>, <h2 class=\"dcr-1x1qaem\" id=\"71\">71</h2>, <h2 class=\"dcr-1x1qaem\" id=\"jimmy-corrigan-the-smartest-kid-on-earth\"><strong>Jimmy Corrigan: </strong><strong>The Smartest Kid on Earth</strong></h2>, <h2 class=\"dcr-1x1qaem\" id=\"by-chris-ware-2000\">by Chris Ware (2000)</h2>, <h2 class=\"dcr-1x1qaem\" id=\"70\">70</h2>, <h2 class=\"dcr-1x1qaem\" id=\"notes-on-a-scandal\"><strong>Notes on a Scandal</strong></h2>, <h2 class=\"dcr-1x1qaem\" id=\"by-zoe-heller-2003\">by Zoë Heller (2003)</h2>, <h2 class=\"dcr-1x1qaem\" id=\"69\">69</h2>, <h2 class=\"dcr-1x1qaem\" id=\"the-infatuations\"><strong>The Infatuations</strong></h2>, <h2 class=\"dcr-1x1qaem\" id=\"by-javier-marias-2011-translated-by-margaret-jull-costa-2013\">by Javier Marías (2011), translated by Margaret Jull Costa (2013)</h2>, <h2 class=\"dcr-1x1qaem\" id=\"68\">68</h2>, <h2 class=\"dcr-1x1qaem\" id=\"the-constant-gardener\"><strong>The Constant Gardener</strong></h2>, <h2 class=\"dcr-1x1qaem\" id=\"by-john-le-carre-2001\">by John le Carré (2001)</h2>, <h2 class=\"dcr-1x1qaem\" id=\"67\">67</h2>, <h2 class=\"dcr-1x1qaem\" id=\"the-silence-of-the-girls\"><strong>The Silence of the Girls</strong></h2>, <h2 class=\"dcr-1x1qaem\" id=\"by-pat-barker-2018\">by Pat Barker (2018)</h2>, <h2 class=\"dcr-1x1qaem\" id=\"66\">66</h2>, <h2 class=\"dcr-1x1qaem\" id=\"seven-brief-lessons-on-physics\"><strong>Seven Brief Lessons on Physics</strong></h2>, <h2 class=\"dcr-1x1qaem\" id=\"by-carlo-rovelli-2014\">by Carlo Rovelli (2014)</h2>, <h2 class=\"dcr-1x1qaem\" id=\"65\">65</h2>, <h2 class=\"dcr-1x1qaem\" id=\"gone-girl\"><strong>Gone Girl</strong></h2>, <h2 class=\"dcr-1x1qaem\" id=\"by-gillian-flynn-2012\">by Gillian Flynn (2012)</h2>, <h2 class=\"dcr-1x1qaem\" id=\"64\">64</h2>, <h2 class=\"dcr-1x1qaem\" id=\"on-writing\"><strong>On Writing</strong></h2>, <h2 class=\"dcr-1x1qaem\" id=\"by-stephen-king-2000\">by Stephen King (2000)</h2>, <h2 class=\"dcr-1x1qaem\" id=\"63\">63</h2>, <h2 class=\"dcr-1x1qaem\" id=\"the-immortal-life-of-henrietta-lacks\"><strong>The Immortal Life of Henrietta Lacks</strong></h2>, <h2 class=\"dcr-1x1qaem\" id=\"by-rebecca-skloot-2010\">by Rebecca Skloot (2010)</h2>, <h2 class=\"dcr-1x1qaem\" id=\"62\">62</h2>, <h2 class=\"dcr-1x1qaem\" id=\"mothers-milk\"><strong>Mother’s Milk</strong></h2>, <h2 class=\"dcr-1x1qaem\" id=\"by-edward-st-aubyn-2006\">by Edward St Aubyn (2006)</h2>, <h2 class=\"dcr-1x1qaem\" id=\"61\">61</h2>, <h2 class=\"dcr-1x1qaem\" id=\"this-house-of-grief\"><strong>This House of Grief</strong></h2>, <h2 class=\"dcr-1x1qaem\" id=\"by-helen-garner-2014\">by Helen Garner (2014)</h2>, <h2 class=\"dcr-1x1qaem\" id=\"60\">60</h2>, <h2 class=\"dcr-1x1qaem\" id=\"dart\"><strong>Dart</strong></h2>, <h2 class=\"dcr-1x1qaem\" id=\"by-alice-oswald-2002\">by Alice Oswald (2002)</h2>, <h2 class=\"dcr-1x1qaem\" id=\"59\">59</h2>, <h2 class=\"dcr-1x1qaem\" id=\"the-beauty-of-the-husband\"><strong>The Beauty of the Husband</strong></h2>, <h2 class=\"dcr-1x1qaem\" id=\"by-anne-carson-2002\">by Anne Carson (2002)</h2>, <h2 class=\"dcr-1x1qaem\" id=\"58\">58</h2>, <h2 class=\"dcr-1x1qaem\" id=\"postwar\"><strong>Postwar</strong></h2>, <h2 class=\"dcr-1x1qaem\" id=\"by-tony-judt-2005\">by Tony Judt (2005)</h2>, <h2 class=\"dcr-1x1qaem\" id=\"57\">57</h2>, <h2 class=\"dcr-1x1qaem\" id=\"the-amazing-adventures-of-kavalier-and-clay\"><strong>The Amazing Adventures of Kavalier and Clay</strong></h2>, <h2 class=\"dcr-1x1qaem\" id=\"by-michael-chabon-2000\">by Michael Chabon (2000)</h2>, <h2 class=\"dcr-1x1qaem\" id=\"56\">56</h2>, <h2 class=\"dcr-1x1qaem\" id=\"underland\"><strong>Underland</strong></h2>, <h2 class=\"dcr-1x1qaem\" id=\"by-robert-macfarlane-2019\">by Robert Macfarlane (2019)</h2>, <h2 class=\"dcr-1x1qaem\" id=\"55\">55</h2>, <h2 class=\"dcr-1x1qaem\" id=\"the-omnivores-dilemma\"><strong>The Omnivore’s Dilemma</strong></h2>, <h2 class=\"dcr-1x1qaem\" id=\"by-michael-pollan-2006\">by Michael Pollan (2006)</h2>, <h2 class=\"dcr-1x1qaem\" id=\"54\">54</h2>, <h2 class=\"dcr-1x1qaem\" id=\"women-power\"><strong>Women </strong><strong>&amp; Power</strong></h2>, <h2 class=\"dcr-1x1qaem\" id=\"by-mary-beard-2017\">by Mary Beard (2017)</h2>, <h2 class=\"dcr-1x1qaem\" id=\"53\">53</h2>, <h2 class=\"dcr-1x1qaem\" id=\"true-history-of-the-kelly-gang\"><strong>True History of the Kelly Gang</strong></h2>, <h2 class=\"dcr-1x1qaem\" id=\"by-peter-carey-2000\">by Peter Carey (2000)</h2>, <h2 class=\"dcr-1x1qaem\" id=\"52\">52</h2>, <h2 class=\"dcr-1x1qaem\" id=\"small-island\"><strong>Small Island</strong></h2>, <h2 class=\"dcr-1x1qaem\" id=\"by-andrea-levy-2004\">by Andrea Levy (2004)</h2>, <h2 class=\"dcr-1x1qaem\" id=\"51\">51</h2>, <h2 class=\"dcr-1x1qaem\" id=\"brooklyn\"><strong>Brooklyn</strong></h2>, <h2 class=\"dcr-1x1qaem\" id=\"by-colm-toibin-2009\">by Colm Tóibín (2009)</h2>, <h2 class=\"dcr-1x1qaem\" id=\"50\">50</h2>, <h2 class=\"dcr-1x1qaem\" id=\"oryx-and-crake\"><strong>Oryx and Crake</strong></h2>, <h2 class=\"dcr-1x1qaem\" id=\"by-margaret-atwood-2003\">by Margaret Atwood (2003)</h2>, <h2 class=\"dcr-1x1qaem\" id=\"49\">49</h2>, <h2 class=\"dcr-1x1qaem\" id=\"why-be-happy-when-you-could-be-normal\"><strong>Why Be Happy When You Could Be Normal?</strong></h2>, <h2 class=\"dcr-1x1qaem\" id=\"by-jeanette-winterson-2011\">by Jeanette Winterson (2011)</h2>, <h2 class=\"dcr-1x1qaem\" id=\"48\">48<strong> </strong></h2>, <h2 class=\"dcr-1x1qaem\" id=\"night-watch\"><strong>Night Watch</strong></h2>, <h2 class=\"dcr-1x1qaem\" id=\"by-terry-pratchett-2002\">by Terry Pratchett (2002)</h2>, <h2 class=\"dcr-1x1qaem\" id=\"47\">47</h2>, <h2 class=\"dcr-1x1qaem\" id=\"persepolis\"><strong>Persepolis</strong></h2>, <h2 class=\"dcr-1x1qaem\" id=\"by-marjane-satrapi-2000-2003-translated-by-mattias-ripa-2003-2004\">by Marjane Satrapi (2000-2003), translated by Mattias Ripa (2003-2004)</h2>, <h2 class=\"dcr-1x1qaem\" id=\"46\">46</h2>, <h2 class=\"dcr-1x1qaem\" id=\"human-chain\"><strong>Human Chain</strong></h2>, <h2 class=\"dcr-1x1qaem\" id=\"by-seamus-heaney-2010\">by Seamus Heaney (2010)</h2>, <h2 class=\"dcr-1x1qaem\" id=\"45\">45</h2>, <h2 class=\"dcr-1x1qaem\" id=\"levels-of-life\"><strong>Levels of Life</strong></h2>, <h2 class=\"dcr-1x1qaem\" id=\"by-julian-barnes-2013\">by Julian Barnes (2013)</h2>, <h2 class=\"dcr-1x1qaem\" id=\"44\">44</h2>, <h2 class=\"dcr-1x1qaem\" id=\"hope-in-the-dark\"><strong>Hope in the Dark</strong></h2>, <h2 class=\"dcr-1x1qaem\" id=\"by-rebecca-solnit-2004\">by Rebecca Solnit (2004)</h2>, <h2 class=\"dcr-1x1qaem\" id=\"43\">43</h2>, <h2 class=\"dcr-1x1qaem\" id=\"citizen-an-american-lyric\"><strong>Citizen: An American Lyric</strong></h2>, <h2 class=\"dcr-1x1qaem\" id=\"by-claudia-rankine-2014\">by Claudia Rankine (2014)</h2>, <h2 class=\"dcr-1x1qaem\" id=\"42\">42</h2>, <h2 class=\"dcr-1x1qaem\" id=\"moneyball\"><strong>Moneyball</strong></h2>, <h2 class=\"dcr-1x1qaem\" id=\"by-michael-lewis-2010\">by Michael Lewis (2010)</h2>, <h2 class=\"dcr-1x1qaem\" id=\"41\">41</h2>, <h2 class=\"dcr-1x1qaem\" id=\"atonement\"><strong>Atonement</strong></h2>, <h2 class=\"dcr-1x1qaem\" id=\"by-ian-mcewan-2001\">by Ian McEwan (2001)</h2>, <h2 class=\"dcr-1x1qaem\" id=\"40\">40</h2>, <h2 class=\"dcr-1x1qaem\" id=\"the-year-of-magical-thinking\"><strong>The Year of Magical Thinking</strong></h2>, <h2 class=\"dcr-1x1qaem\" id=\"by-joan-didion-2005\">by Joan Didion (2005)</h2>, <h2 class=\"dcr-1x1qaem\" id=\"39\">39</h2>, <h2 class=\"dcr-1x1qaem\" id=\"white-teeth\"><strong>White Teeth</strong></h2>, <h2 class=\"dcr-1x1qaem\" id=\"by-zadie-smith-2000\">by Zadie Smith (2000)</h2>, <h2 class=\"dcr-1x1qaem\" id=\"38\">38</h2>, <h2 class=\"dcr-1x1qaem\" id=\"the-line-of-beauty\"><strong>The Line of Beauty</strong></h2>, <h2 class=\"dcr-1x1qaem\" id=\"by-alan-hollinghurst-2004\">by Alan Hollinghurst (2004)</h2>, <h2 class=\"dcr-1x1qaem\" id=\"37\">37</h2>, <h2 class=\"dcr-1x1qaem\" id=\"the-green-road\"><strong>The Green Road</strong></h2>, <h2 class=\"dcr-1x1qaem\" id=\"by-anne-enright-2015\">by Anne Enright (2015)</h2>, <h2 class=\"dcr-1x1qaem\" id=\"36\">36</h2>, <h2 class=\"dcr-1x1qaem\" id=\"experience\"><strong>Experience</strong></h2>, <h2 class=\"dcr-1x1qaem\" id=\"by-martin-amis-2000\">by Martin Amis (2000)</h2>, <h2 class=\"dcr-1x1qaem\" id=\"35\">35</h2>, <h2 class=\"dcr-1x1qaem\" id=\"the-hare-with-amber-eyes\"><strong>The Hare with Amber Eyes</strong></h2>, <h2 class=\"dcr-1x1qaem\" id=\"by-edmund-de-waal-2010\">by Edmund de Waal (2010)</h2>, <h2 class=\"dcr-1x1qaem\" id=\"34\">34</h2>, <h2 class=\"dcr-1x1qaem\" id=\"outline-by-rachel\"><strong>Outline by Rachel</strong></h2>, <h2 class=\"dcr-1x1qaem\" id=\"cusk-2014\">Cusk (2014)</h2>, <h2 class=\"dcr-1x1qaem\" id=\"33\">33</h2>, <h2 class=\"dcr-1x1qaem\" id=\"fun-home\"><strong>Fun Home</strong></h2>, <h2 class=\"dcr-1x1qaem\" id=\"by-alison-bechdel-2006\">by Alison Bechdel (2006)</h2>, <h2 class=\"dcr-1x1qaem\" id=\"32\">32</h2>, <h2 class=\"dcr-1x1qaem\" id=\"the-emperor-of-all-maladies\"><strong>The Emperor of All Maladies</strong></h2>, <h2 class=\"dcr-1x1qaem\" id=\"by-siddhartha-mukherjee-2010\">by Siddhartha Mukherjee (2010)</h2>, <h2 class=\"dcr-1x1qaem\" id=\"31\">31</h2>, <h2 class=\"dcr-1x1qaem\" id=\"the-argonauts\"><strong>The Argonauts</strong></h2>, <h2 class=\"dcr-1x1qaem\" id=\"by-maggie-nelson-2015\">by Maggie Nelson (2015)</h2>, <h2 class=\"dcr-1x1qaem\" id=\"30\">30</h2>, <h2 class=\"dcr-1x1qaem\" id=\"the-underground-railroad\"><strong>The Underground Railroad</strong></h2>, <h2 class=\"dcr-1x1qaem\" id=\"by-colson-whitehead-2016\">by Colson Whitehead (2016)</h2>, <h2 class=\"dcr-1x1qaem\" id=\"29\">29</h2>, <h2 class=\"dcr-1x1qaem\" id=\"a-death-in-the-family\"><strong>A Death in the Family</strong></h2>, <h2 class=\"dcr-1x1qaem\" id=\"by-karl-ove-knausgaard-2009-translated-by-don-bartlett-2012\">by Karl Ove Knausgaard (2009), translated by Don Bartlett (2012)</h2>, <h2 class=\"dcr-1x1qaem\" id=\"28\">28</h2>, <h2 class=\"dcr-1x1qaem\" id=\"rapture\"><strong>Rapture</strong></h2>, <h2 class=\"dcr-1x1qaem\" id=\"by-carol-ann-duffy-2005\">by Carol Ann Duffy (2005)</h2>, <h2 class=\"dcr-1x1qaem\" id=\"27\">27</h2>, <h2 class=\"dcr-1x1qaem\" id=\"hateship-friendship-courtship-loveship-marriage\"><strong>Hateship, Friendship, Courtship, Loveship, Marriage</strong></h2>, <h2 class=\"dcr-1x1qaem\" id=\"by-alice-munro-2001\">by Alice Munro (2001)</h2>, <h2 class=\"dcr-1x1qaem\" id=\"26\">26</h2>, <h2 class=\"dcr-1x1qaem\" id=\"capital-in-the-twenty-first-century\"><strong>Capital in the Twenty First Century</strong></h2>, <h2 class=\"dcr-1x1qaem\" id=\"by-thomas-piketty-2013-translated-by-arthur-goldhammer-2014\">by Thomas Piketty (2013), translated by Arthur Goldhammer (2014)</h2>, <h2 class=\"dcr-1x1qaem\" id=\"25\">25</h2>, <h2 class=\"dcr-1x1qaem\" id=\"normal-people\"><strong>Normal People</strong></h2>, <h2 class=\"dcr-1x1qaem\" id=\"by-sally-rooney-2018\">by Sally Rooney (2018)</h2>, <h2 class=\"dcr-1x1qaem\" id=\"24\">24</h2>, <h2 class=\"dcr-1x1qaem\" id=\"a-visit-from-the-goon-squad\"><strong>A Visit from The Goon Squad</strong></h2>, <h2 class=\"dcr-1x1qaem\" id=\"by-jennifer-egan-2011\">by Jennifer Egan (2011)</h2>, <h2 class=\"dcr-1x1qaem\" id=\"23\">23</h2>, <h2 class=\"dcr-1x1qaem\" id=\"the-noonday-demon\"><strong>The Noonday Demon</strong></h2>, <h2 class=\"dcr-1x1qaem\" id=\"by-andrew-solomon-2001\">by Andrew Solomon (2001)</h2>, <h2 class=\"dcr-1x1qaem\" id=\"22\">22</h2>, <h2 class=\"dcr-1x1qaem\" id=\"tenth-of-december\"><strong>Tenth of December</strong></h2>, <h2 class=\"dcr-1x1qaem\" id=\"by-george-saunders-2013\">by George Saunders (2013)</h2>, <h2 class=\"dcr-1x1qaem\" id=\"21\">21</h2>, <h2 class=\"dcr-1x1qaem\" id=\"sapiens\"><strong>Sapiens</strong></h2>, <h2 class=\"dcr-1x1qaem\" id=\"by-yuval-noah-harari-2011-translated-by-harari-with-john-purcell-and-haim-watzman-2014\">by Yuval Noah Harari (2011), translated by Harari with John Purcell and Haim Watzman (2014)</h2>, <h2 class=\"dcr-1x1qaem\" id=\"20\">20</h2>, <h2 class=\"dcr-1x1qaem\" id=\"life-after-life\"><strong>Life After Life</strong></h2>, <h2 class=\"dcr-1x1qaem\" id=\"by-kate-atkinson-2013\">by Kate Atkinson (2013)</h2>, <h2 class=\"dcr-1x1qaem\" id=\"19\">19</h2>, <h2 class=\"dcr-1x1qaem\" id=\"the-curious-incident-of-the-dog-in-the-nighttime\"><strong>The Curious Incident of the Dog in the Night‑Time</strong></h2>, <h2 class=\"dcr-1x1qaem\" id=\"by-mark-haddon-2003\">by Mark Haddon (2003)</h2>, <h2 class=\"dcr-1x1qaem\" id=\"18\">18</h2>, <h2 class=\"dcr-1x1qaem\" id=\"the-shock-doctrine\"><strong>The Shock Doctrine</strong></h2>, <h2 class=\"dcr-1x1qaem\" id=\"by-naomi-klein-2007\">by Naomi Klein (2007)</h2>, <h2 class=\"dcr-1x1qaem\" id=\"17\">17</h2>, <h2 class=\"dcr-1x1qaem\" id=\"the-road\"><strong>The Road</strong></h2>, <h2 class=\"dcr-1x1qaem\" id=\"by-cormac-mccarthy-2006\">by Cormac McCarthy (2006)</h2>, <h2 class=\"dcr-1x1qaem\" id=\"16\">16</h2>, <h2 class=\"dcr-1x1qaem\" id=\"the-corrections\"><strong>The Corrections</strong></h2>, <h2 class=\"dcr-1x1qaem\" id=\"by-jonathan-franzen-2001\">by Jonathan Franzen (2001)</h2>, <h2 class=\"dcr-1x1qaem\" id=\"15\">15</h2>, <h2 class=\"dcr-1x1qaem\" id=\"the-sixth-extinction\"><strong>The Sixth Extinction</strong></h2>, <h2 class=\"dcr-1x1qaem\" id=\"by-elizabeth-kolbert-2014\">by Elizabeth Kolbert (2014)</h2>, <h2 class=\"dcr-1x1qaem\" id=\"14\">14</h2>, <h2 class=\"dcr-1x1qaem\" id=\"fingersmith\"><strong>Fingersmith</strong></h2>, <h2 class=\"dcr-1x1qaem\" id=\"by-sarah-waters-2002\">by Sarah Waters (2002)</h2>, <h2 class=\"dcr-1x1qaem\" id=\"13\">13</h2>, <h2 class=\"dcr-1x1qaem\" id=\"nickel-and-dimed\"><strong>Nickel and Dimed</strong></h2>, <h2 class=\"dcr-1x1qaem\" id=\"by-barbara-ehrenreich-2001\">by Barbara Ehrenreich (2001)</h2>, <h2 class=\"dcr-1x1qaem\" id=\"12\">12</h2>, <h2 class=\"dcr-1x1qaem\" id=\"the-plot-against-america\"><strong>The Plot Against America</strong></h2>, <h2 class=\"dcr-1x1qaem\" id=\"by-philip-roth-2004\">by Philip Roth (2004)</h2>, <h2 class=\"dcr-1x1qaem\" id=\"11\">11</h2>, <h2 class=\"dcr-1x1qaem\" id=\"my-brilliant-friend\"><strong>My Brilliant Friend</strong></h2>, <h2 class=\"dcr-1x1qaem\" id=\"by-elena-ferrante-2011-translated-by-ann-goldstein-2012\">by Elena Ferrante (2011), translated by Ann Goldstein (2012)</h2>, <h2 class=\"dcr-1x1qaem\" id=\"10\">10</h2>, <h2 class=\"dcr-1x1qaem\" id=\"half-of-a-yellow-sun\"><strong>Half of a Yellow Sun</strong></h2>, <h2 class=\"dcr-1x1qaem\" id=\"by-chimamanda-ngozi-adichie-2006\">by Chimamanda Ngozi Adichie (2006)</h2>, <h2 class=\"dcr-1x1qaem\" id=\"9\">9</h2>, <h2 class=\"dcr-1x1qaem\" id=\"cloud-atlas\"><strong>Cloud Atlas</strong></h2>, <h2 class=\"dcr-1x1qaem\" id=\"david-mitchell-2004\">David Mitchell (2004)</h2>, <h2 class=\"dcr-1x1qaem\" id=\"8\">8</h2>, <h2 class=\"dcr-1x1qaem\" id=\"autumn\"><strong>Autumn</strong></h2>, <h2 class=\"dcr-1x1qaem\" id=\"by-ali-smith-2016\">by Ali Smith (2016)</h2>, <h2 class=\"dcr-1x1qaem\" id=\"7\">7</h2>, <h2 class=\"dcr-1x1qaem\" id=\"between-the-world-and-me\"><strong>Between the World and Me</strong></h2>, <h2 class=\"dcr-1x1qaem\" id=\"by-ta-nehisi-coates-2015\">by Ta-Nehisi Coates (2015)</h2>, <h2 class=\"dcr-1x1qaem\" id=\"6\">6</h2>, <h2 class=\"dcr-1x1qaem\" id=\"the-amber-spyglass\"><strong>The Amber Spyglass</strong></h2>, <h2 class=\"dcr-1x1qaem\" id=\"by-philip-pullman-2000\">by Philip Pullman (2000)</h2>, <h2 class=\"dcr-1x1qaem\" id=\"5\">5</h2>, <h2 class=\"dcr-1x1qaem\" id=\"austerlitz\"><strong>Austerlitz</strong></h2>, <h2 class=\"dcr-1x1qaem\" id=\"by-wg-sebald-2001-translated-by-anthea-bell-2001\">by WG Sebald (2001), translated by Anthea Bell (2001)</h2>, <h2 class=\"dcr-1x1qaem\" id=\"4\">4</h2>, <h2 class=\"dcr-1x1qaem\" id=\"never-let-me-go\"><strong>Never Let Me Go</strong></h2>, <h2 class=\"dcr-1x1qaem\" id=\"by-kazuo-ishiguro-2005\">by Kazuo Ishiguro (2005)</h2>, <h2 class=\"dcr-1x1qaem\" id=\"3\">3</h2>, <h2 class=\"dcr-1x1qaem\" id=\"secondhand-time\"><strong>Secondhand Time</strong></h2>, <h2 class=\"dcr-1x1qaem\" id=\"by-svetlana-alexievich-2013-translated-by-bela-shayevich-2016\">by Svetlana Alexievich (2013), translated by Bela Shayevich (2016)</h2>, <h2 class=\"dcr-1x1qaem\" id=\"2\">2</h2>, <h2 class=\"dcr-1x1qaem\" id=\"gilead\"><strong>Gilead</strong></h2>, <h2 class=\"dcr-1x1qaem\" id=\"by-marilynne-robinson-2004\">by Marilynne Robinson (2004)</h2>, <h2 class=\"dcr-1x1qaem\" id=\"1\">1</h2>, <h2 class=\"dcr-1x1qaem\" id=\"wolf-hall\"><strong>Wolf Hall</strong></h2>, <h2 class=\"dcr-1x1qaem\" id=\"by-hilary-mantel-2009\">by Hilary Mantel (2009)</h2>, <h2 class=\"dcr-7wump5\"><span class=\"dcr-1xd0zzo\">More on this story</span></h2>, <h2 class=\"dcr-7wump5\"><span class=\"dcr-1xd0zzo\">More on this story</span></h2>, <h2 class=\"dcr-aep3nc\">Comments <span class=\"dcr-xodiwl\">(…)</span></h2>, <h2 class=\"dcr-1ghvphd\" style=\"color:var(--article-section-title);\">Most viewed</h2>, <h2 class=\"dcr-1ghvphd\" style=\"color:var(--article-section-title);\">Most viewed</h2>]\n"
     ]
    }
   ],
   "source": [
    "# let's find all the h2 tags\n",
    "book_titles = html_soup.find_all('h2')\n",
    "\n",
    "# let's print our variable, returns a list\n",
    "print(book_titles)"
   ]
  },
  {
   "cell_type": "code",
   "execution_count": 16,
   "metadata": {
    "scrolled": true
   },
   "outputs": [
    {
     "name": "stdout",
     "output_type": "stream",
     "text": [
      "<h2 class=\"dcr-1x1qaem\" id=\"i-feel-bad-about-my-neck\"><strong>I Feel Bad About My Neck</strong></h2>\n"
     ]
    }
   ],
   "source": [
    "# let's return the first title\n",
    "print(book_titles[1])"
   ]
  },
  {
   "cell_type": "code",
   "execution_count": 17,
   "metadata": {},
   "outputs": [
    {
     "name": "stdout",
     "output_type": "stream",
     "text": [
      "I Feel Bad About My Neck\n"
     ]
    }
   ],
   "source": [
    "# print out the text content of the tag\n",
    "print(book_titles[1].text)"
   ]
  },
  {
   "cell_type": "code",
   "execution_count": 18,
   "metadata": {},
   "outputs": [
    {
     "name": "stdout",
     "output_type": "stream",
     "text": [
      "100\n",
      "I Feel Bad About My Neck\n",
      "by Nora Ephron (2006)\n",
      "99\n",
      "Broken Glass\n",
      "by Alain Mabanckou (2005), translated by Helen Stevenson (2009)\n",
      "98\n",
      "The Girl With the Dragon Tattoo\n",
      "by Stieg Larsson (2005), translated by Steven T Murray (2008)\n",
      "97\n",
      "Harry Potter and the Goblet of Fire\n",
      "by JK Rowling (2000)\n",
      "96\n",
      "A Little Life\n",
      "by Hanya Yanagihara (2015)\n",
      "95\n",
      "Chronicles: Volume One\n",
      "by Bob Dylan (2004)\n",
      "94\n",
      "The Tipping Point\n",
      "by Malcolm Gladwell (2000)\n",
      "93\n",
      "Darkmans\n",
      "by Nicola Barker (2007)\n",
      "92\n",
      "The Siege\n",
      "by Helen Dunmore (2001)\n",
      "91\n",
      "Light\n",
      "by M John Harrison (2002)\n",
      "90\n",
      "Visitation\n",
      "by Jenny Erpenbeck (2008), translated by Susan Bernofsky (2010)\n",
      "89\n",
      "Bad Blood\n",
      "by Lorna Sage (2000)\n",
      "88\n",
      "Noughts & Crosses\n",
      "by Malorie Blackman (2001)\n",
      "87\n",
      "Priestdaddy\n",
      "by Patricia Lockwood (2017)\n",
      "86\n",
      "Adults in the Room\n",
      "by Yanis Varoufakis (2017)\n",
      "85\n",
      "The God Delusion\n",
      "by Richard Dawkins (2006)\n",
      "84\n",
      "The Cost of Living\n",
      "by Deborah Levy (2018)\n",
      "83\n",
      "Tell Me How It Ends\n",
      "by Valeria Luiselli (2016), translated by Luiselli with Lizzie Davis (2017)\n",
      "82\n",
      "Coraline\n",
      "by Neil Gaiman (2002)\n",
      "81\n",
      "Harvest\n",
      "by Jim Crace (2013)\n",
      "80\n",
      "Stories of Your Life and Others\n",
      "by Ted Chiang (2002)\n",
      "79\n",
      "The Spirit Level\n",
      "by Richard Wilkinson and Kate Pickett (2009)\n",
      "78\n",
      "The Fifth Season\n",
      "by NK Jemisin (2015)\n",
      "77\n",
      "Signs Preceding the End of the World\n",
      "by Yuri Herrera (2009), translated by Lisa Dillman (2015)\n",
      "76\n",
      "Thinking, Fast and Slow\n",
      "by Daniel Kahneman (2011)\n",
      "75\n",
      "Drive Your Plow Over the Bones of the Dead\n",
      "by Olga Tokarczuk (2009), translated by Antonia Lloyd-Jones (2018)\n",
      "74\n",
      "Days Without End\n",
      "by Sebastian Barry (2016)\n",
      "73\n",
      "Nothing to Envy\n",
      "by Barbara Demick (2009)\n",
      "72\n",
      "The Age of Surveillance Capitalism\n",
      "by Shoshana Zuboff (2019)\n",
      "71\n",
      "Jimmy Corrigan: The Smartest Kid on Earth\n",
      "by Chris Ware (2000)\n",
      "70\n",
      "Notes on a Scandal\n",
      "by Zoë Heller (2003)\n",
      "69\n",
      "The Infatuations\n",
      "by Javier Marías (2011), translated by Margaret Jull Costa (2013)\n",
      "68\n",
      "The Constant Gardener\n",
      "by John le Carré (2001)\n",
      "67\n",
      "The Silence of the Girls\n",
      "by Pat Barker (2018)\n",
      "66\n",
      "Seven Brief Lessons on Physics\n",
      "by Carlo Rovelli (2014)\n",
      "65\n",
      "Gone Girl\n",
      "by Gillian Flynn (2012)\n",
      "64\n",
      "On Writing\n",
      "by Stephen King (2000)\n",
      "63\n",
      "The Immortal Life of Henrietta Lacks\n",
      "by Rebecca Skloot (2010)\n",
      "62\n",
      "Mother’s Milk\n",
      "by Edward St Aubyn (2006)\n",
      "61\n",
      "This House of Grief\n",
      "by Helen Garner (2014)\n",
      "60\n",
      "Dart\n",
      "by Alice Oswald (2002)\n",
      "59\n",
      "The Beauty of the Husband\n",
      "by Anne Carson (2002)\n",
      "58\n",
      "Postwar\n",
      "by Tony Judt (2005)\n",
      "57\n",
      "The Amazing Adventures of Kavalier and Clay\n",
      "by Michael Chabon (2000)\n",
      "56\n",
      "Underland\n",
      "by Robert Macfarlane (2019)\n",
      "55\n",
      "The Omnivore’s Dilemma\n",
      "by Michael Pollan (2006)\n",
      "54\n",
      "Women & Power\n",
      "by Mary Beard (2017)\n",
      "53\n",
      "True History of the Kelly Gang\n",
      "by Peter Carey (2000)\n",
      "52\n",
      "Small Island\n",
      "by Andrea Levy (2004)\n",
      "51\n",
      "Brooklyn\n",
      "by Colm Tóibín (2009)\n",
      "50\n",
      "Oryx and Crake\n",
      "by Margaret Atwood (2003)\n",
      "49\n",
      "Why Be Happy When You Could Be Normal?\n",
      "by Jeanette Winterson (2011)\n",
      "48 \n",
      "Night Watch\n",
      "by Terry Pratchett (2002)\n",
      "47\n",
      "Persepolis\n",
      "by Marjane Satrapi (2000-2003), translated by Mattias Ripa (2003-2004)\n",
      "46\n",
      "Human Chain\n",
      "by Seamus Heaney (2010)\n",
      "45\n",
      "Levels of Life\n",
      "by Julian Barnes (2013)\n",
      "44\n",
      "Hope in the Dark\n",
      "by Rebecca Solnit (2004)\n",
      "43\n",
      "Citizen: An American Lyric\n",
      "by Claudia Rankine (2014)\n",
      "42\n",
      "Moneyball\n",
      "by Michael Lewis (2010)\n",
      "41\n",
      "Atonement\n",
      "by Ian McEwan (2001)\n",
      "40\n",
      "The Year of Magical Thinking\n",
      "by Joan Didion (2005)\n",
      "39\n",
      "White Teeth\n",
      "by Zadie Smith (2000)\n",
      "38\n",
      "The Line of Beauty\n",
      "by Alan Hollinghurst (2004)\n",
      "37\n",
      "The Green Road\n",
      "by Anne Enright (2015)\n",
      "36\n",
      "Experience\n",
      "by Martin Amis (2000)\n",
      "35\n",
      "The Hare with Amber Eyes\n",
      "by Edmund de Waal (2010)\n",
      "34\n",
      "Outline by Rachel\n",
      "Cusk (2014)\n",
      "33\n",
      "Fun Home\n",
      "by Alison Bechdel (2006)\n",
      "32\n",
      "The Emperor of All Maladies\n",
      "by Siddhartha Mukherjee (2010)\n",
      "31\n",
      "The Argonauts\n",
      "by Maggie Nelson (2015)\n",
      "30\n",
      "The Underground Railroad\n",
      "by Colson Whitehead (2016)\n",
      "29\n",
      "A Death in the Family\n",
      "by Karl Ove Knausgaard (2009), translated by Don Bartlett (2012)\n",
      "28\n",
      "Rapture\n",
      "by Carol Ann Duffy (2005)\n",
      "27\n",
      "Hateship, Friendship, Courtship, Loveship, Marriage\n",
      "by Alice Munro (2001)\n",
      "26\n",
      "Capital in the Twenty First Century\n",
      "by Thomas Piketty (2013), translated by Arthur Goldhammer (2014)\n",
      "25\n",
      "Normal People\n",
      "by Sally Rooney (2018)\n",
      "24\n",
      "A Visit from The Goon Squad\n",
      "by Jennifer Egan (2011)\n",
      "23\n",
      "The Noonday Demon\n",
      "by Andrew Solomon (2001)\n",
      "22\n",
      "Tenth of December\n",
      "by George Saunders (2013)\n",
      "21\n",
      "Sapiens\n",
      "by Yuval Noah Harari (2011), translated by Harari with John Purcell and Haim Watzman (2014)\n",
      "20\n",
      "Life After Life\n",
      "by Kate Atkinson (2013)\n",
      "19\n",
      "The Curious Incident of the Dog in the Night‑Time\n",
      "by Mark Haddon (2003)\n",
      "18\n",
      "The Shock Doctrine\n",
      "by Naomi Klein (2007)\n",
      "17\n",
      "The Road\n",
      "by Cormac McCarthy (2006)\n",
      "16\n",
      "The Corrections\n",
      "by Jonathan Franzen (2001)\n",
      "15\n",
      "The Sixth Extinction\n",
      "by Elizabeth Kolbert (2014)\n",
      "14\n",
      "Fingersmith\n",
      "by Sarah Waters (2002)\n",
      "13\n",
      "Nickel and Dimed\n",
      "by Barbara Ehrenreich (2001)\n",
      "12\n",
      "The Plot Against America\n",
      "by Philip Roth (2004)\n",
      "11\n",
      "My Brilliant Friend\n",
      "by Elena Ferrante (2011), translated by Ann Goldstein (2012)\n",
      "10\n",
      "Half of a Yellow Sun\n",
      "by Chimamanda Ngozi Adichie (2006)\n",
      "9\n",
      "Cloud Atlas\n",
      "David Mitchell (2004)\n",
      "8\n",
      "Autumn\n",
      "by Ali Smith (2016)\n",
      "7\n",
      "Between the World and Me\n",
      "by Ta-Nehisi Coates (2015)\n",
      "6\n",
      "The Amber Spyglass\n",
      "by Philip Pullman (2000)\n",
      "5\n",
      "Austerlitz\n",
      "by WG Sebald (2001), translated by Anthea Bell (2001)\n",
      "4\n",
      "Never Let Me Go\n",
      "by Kazuo Ishiguro (2005)\n",
      "3\n",
      "Secondhand Time\n",
      "by Svetlana Alexievich (2013), translated by Bela Shayevich (2016)\n",
      "2\n",
      "Gilead\n",
      "by Marilynne Robinson (2004)\n",
      "1\n",
      "Wolf Hall\n",
      "by Hilary Mantel (2009)\n",
      "More on this story\n",
      "More on this story\n",
      "Comments (…)\n",
      "Most viewed\n",
      "Most viewed\n"
     ]
    }
   ],
   "source": [
    "# let's iterate over all the h2 tags\n",
    "for title in book_titles:\n",
    "    print(title.text)"
   ]
  },
  {
   "cell_type": "markdown",
   "metadata": {},
   "source": [
    "We want to simplify and get some sub-lists:"
   ]
  },
  {
   "cell_type": "code",
   "execution_count": null,
   "metadata": {},
   "outputs": [],
   "source": [
    "# example list\n",
    "book_example = [100,\n",
    "         'I Feel Bad About My Neck',\n",
    "         'by Nora Ephron (2006)',\n",
    "         99,\n",
    "         'Broken Glass',\n",
    "         'by Alain Mabanckou (2005), translated by Helen Stevenson (2009)',\n",
    "         98,\n",
    "         'The Girl With the Dragon Tattoo'\n",
    "         'by Stieg Larsson (2005), translated by Steven T Murray (2008)']"
   ]
  },
  {
   "cell_type": "markdown",
   "metadata": {},
   "source": [
    "To this:"
   ]
  },
  {
   "cell_type": "code",
   "execution_count": null,
   "metadata": {},
   "outputs": [],
   "source": [
    "rank_list = [100, 99, 98]\n",
    "title_list = ['I Feel Bad About My Neck', 'Broken Glass', 'The Girl With the Dragon Tattoo']\n",
    "year_author_list = ['Nora Ephron (2006)','Alain Mabanckou (2005)', 'Stieg Larsson (2005)']"
   ]
  },
  {
   "cell_type": "markdown",
   "metadata": {},
   "source": [
    "Maybe we can use `list comprehension` to iterate over the output:"
   ]
  },
  {
   "cell_type": "code",
   "execution_count": 27,
   "metadata": {},
   "outputs": [
    {
     "name": "stdout",
     "output_type": "stream",
     "text": [
      "[1, 2, 3, 4, 5, 6, 7, 8, 9, 10, 11, 12]\n"
     ]
    }
   ],
   "source": [
    "# INEFFICIENT\n",
    "my_list = [1, 2, 3, 4, 5, 6, 7, 8, 9, 10, 11, 12]\n",
    "\n",
    "copy_list = []\n",
    "for i in my_list:\n",
    "    copy_list.append(i)\n",
    "    \n",
    "print(copy_list)"
   ]
  },
  {
   "cell_type": "code",
   "execution_count": 28,
   "metadata": {
    "scrolled": true
   },
   "outputs": [
    {
     "name": "stdout",
     "output_type": "stream",
     "text": [
      "[1, 2, 3, 4, 5, 6, 7, 8, 9, 10, 11, 12]\n"
     ]
    }
   ],
   "source": [
    "my_list = [1, 2, 3, 4, 5, 6, 7, 8, 9, 10, 11, 12]\n",
    "\n",
    "# make a copy\n",
    "copy_list = [item for item in my_list]\n",
    "print(copy_list)"
   ]
  },
  {
   "cell_type": "code",
   "execution_count": 29,
   "metadata": {
    "scrolled": true
   },
   "outputs": [
    {
     "name": "stdout",
     "output_type": "stream",
     "text": [
      "[3, 4, 5, 6, 7, 8, 9, 10, 11, 12, 13, 14]\n"
     ]
    }
   ],
   "source": [
    "# we can also modify the individual entries of the list\n",
    "\n",
    "# add 2 to each entry\n",
    "copy_list2 = [item+2 for item in my_list]\n",
    "print(copy_list2)"
   ]
  },
  {
   "cell_type": "code",
   "execution_count": 30,
   "metadata": {
    "scrolled": true
   },
   "outputs": [
    {
     "name": "stdout",
     "output_type": "stream",
     "text": [
      "0\n",
      "2\n",
      "4\n"
     ]
    }
   ],
   "source": [
    "# the range function\n",
    "for index in range(0, 6, 2): # range(start, stop, step) -> 0, 2, 4 (stop is up to and not including)\n",
    "    print(index)"
   ]
  },
  {
   "cell_type": "markdown",
   "metadata": {},
   "source": [
    "How to use the range function? Start at 0, step-size of 3, and we will iterate until the end of the list `len(my_list)`"
   ]
  },
  {
   "cell_type": "code",
   "execution_count": 31,
   "metadata": {},
   "outputs": [
    {
     "name": "stdout",
     "output_type": "stream",
     "text": [
      "[1, 2, 3, 4, 5, 6, 7, 8, 9, 10, 11, 12]\n"
     ]
    }
   ],
   "source": [
    "print(my_list)"
   ]
  },
  {
   "cell_type": "code",
   "execution_count": 32,
   "metadata": {},
   "outputs": [
    {
     "name": "stdout",
     "output_type": "stream",
     "text": [
      "[1, 4, 7, 10]\n"
     ]
    }
   ],
   "source": [
    "# print every 3rd\n",
    "every_third_list = [my_list[index] for index in range(0, len(my_list), 3)]\n",
    "print(every_third_list)"
   ]
  },
  {
   "cell_type": "markdown",
   "metadata": {},
   "source": [
    "Now let's apply this to the books!"
   ]
  },
  {
   "cell_type": "code",
   "execution_count": 35,
   "metadata": {},
   "outputs": [
    {
     "data": {
      "text/plain": [
       "['100',\n",
       " 'I Feel Bad About My Neck',\n",
       " 'by Nora Ephron (2006)',\n",
       " '99',\n",
       " 'Broken Glass',\n",
       " 'by Alain Mabanckou (2005), translated by Helen Stevenson (2009)',\n",
       " '98',\n",
       " 'The Girl With the Dragon Tattoo',\n",
       " 'by Stieg Larsson (2005), translated by Steven T Murray (2008)',\n",
       " '97']"
      ]
     },
     "execution_count": 35,
     "metadata": {},
     "output_type": "execute_result"
    }
   ],
   "source": [
    "books[0:10]"
   ]
  },
  {
   "cell_type": "code",
   "execution_count": 39,
   "metadata": {},
   "outputs": [],
   "source": [
    "books = [title.text for title in book_titles]\n",
    "# print(books)\n",
    "\n",
    "# let's extract the rank\n",
    "rank = [books[index] for index in range(0, len(books), 3)]\n",
    "\n",
    "# let's do the same for titles\n",
    "titles = [books[index] for index in range(1, len(books), 3)]\n",
    "\n",
    "# same for author/year \n",
    "author_year = [books[index] for index in range(2, len(books), 3)]"
   ]
  },
  {
   "cell_type": "code",
   "execution_count": 40,
   "metadata": {},
   "outputs": [
    {
     "data": {
      "text/plain": [
       "'by Nora Ephron (2006)'"
      ]
     },
     "execution_count": 40,
     "metadata": {},
     "output_type": "execute_result"
    }
   ],
   "source": [
    "author_year[0]"
   ]
  },
  {
   "cell_type": "code",
   "execution_count": 42,
   "metadata": {},
   "outputs": [
    {
     "name": "stdout",
     "output_type": "stream",
     "text": [
      "2006\n"
     ]
    }
   ],
   "source": [
    "# get the year out\n",
    "print(author_year[0].split('(')[-1].strip(')'))"
   ]
  },
  {
   "cell_type": "code",
   "execution_count": 45,
   "metadata": {},
   "outputs": [
    {
     "name": "stdout",
     "output_type": "stream",
     "text": [
      "Nora Ephron\n"
     ]
    }
   ],
   "source": [
    "# get the author name\n",
    "\n",
    "# split on (, removed the 'by' and strip() to remove extra white-spaces before/after\n",
    "print(author_year[0].split('(')[0].replace('by','').strip())"
   ]
  },
  {
   "cell_type": "markdown",
   "metadata": {},
   "source": [
    "Hmm looks like there is still some noise in the tags, let's make sure it's just books:"
   ]
  },
  {
   "cell_type": "code",
   "execution_count": 49,
   "metadata": {},
   "outputs": [],
   "source": [
    "# trim our lists to be 100 length\n",
    "rank = rank[0:100]\n",
    "titles = titles[0:100]\n",
    "author_year = author_year[0:100]\n",
    "\n",
    "# print(titles)"
   ]
  },
  {
   "cell_type": "code",
   "execution_count": 51,
   "metadata": {},
   "outputs": [
    {
     "name": "stdout",
     "output_type": "stream",
     "text": [
      "['2006', '2009', '2008', '2000', '2015', '2004', '2000', '2007', '2001', '2002', '2010', '2000', '2001', '2017', '2017', '2006', '2018', '2017', '2002', '2013', '2002', '2009', '2015', '2015', '2011', '2018', '2016', '2009', '2019', '2000', '2003', '2013', '2001', '2018', '2014', '2012', '2000', '2010', '2006', '2014', '2002', '2002', '2005', '2000', '2019', '2006', '2017', '2000', '2004', '2009', '2003', '2011', '2002', '2003-2004', '2010', '2013', '2004', '2014', '2010', '2001', '2005', '2000', '2004', '2015', '2000', '2010', '2014', '2006', '2010', '2015', '2016', '2012', '2005', '2001', '2014', '2018', '2011', '2001', '2013', '2014', '2013', '2003', '2007', '2006', '2001', '2014', '2002', '2001', '2004', '2012', '2006', '2004', '2016', '2015', '2000', '2001', '2005', '2016', '2004', '2009']\n",
      "['Nora Ephron', 'Alain Mabanckou', 'Stieg Larsson', 'JK Rowling', 'Hanya Yanagihara', 'Bob Dylan', 'Malcolm Gladwell', 'Nicola Barker', 'Helen Dunmore', 'M John Harrison', 'Jenny Erpenbeck', 'Lorna Sage', 'Malorie Blackman', 'Patricia Lockwood', 'Yanis Varoufakis', 'Richard Dawkins', 'Deborah Levy', 'Valeria Luiselli', 'Neil Gaiman', 'Jim Crace', 'Ted Chiang', 'Richard Wilkinson and Kate Pickett', 'NK Jemisin', 'Yuri Herrera', 'Daniel Kahneman', 'Olga Tokarczuk', 'Sebastian Barry', 'Barbara Demick', 'Shoshana Zuboff', 'Chris Ware', 'Zoë Heller', 'Javier Marías', 'John le Carré', 'Pat Barker', 'Carlo Rovelli', 'Gillian Flynn', 'Stephen King', 'Rebecca Skloot', 'Edward St Aun', 'Helen Garner', 'Alice Oswald', 'Anne Carson', 'Tony Judt', 'Michael Chabon', 'Robert Macfarlane', 'Michael Pollan', 'Mary Beard', 'Peter Carey', 'Andrea Levy', 'Colm Tóibín', 'Margaret Atwood', 'Jeanette Winterson', 'Terry Pratchett', 'Marjane Satrapi', 'Seamus Heaney', 'Julian Barnes', 'Rebecca Solnit', 'Claudia Rankine', 'Michael Lewis', 'Ian McEwan', 'Joan Didion', 'Zadie Smith', 'Alan Hollinghurst', 'Anne Enright', 'Martin Amis', 'Edmund de Waal', 'Cusk', 'Alison Bechdel', 'Siddhartha Mukherjee', 'Maggie Nelson', 'Colson Whitehead', 'Karl Ove Knausgaard', 'Carol Ann Duffy', 'Alice Munro', 'Thomas Piketty', 'Sally Rooney', 'Jennifer Egan', 'Andrew Solomon', 'George Saunders', 'Yuval Noah Harari', 'Kate Atkinson', 'Mark Haddon', 'Naomi Klein', 'Cormac McCarthy', 'Jonathan Franzen', 'Elizabeth Kolbert', 'Sarah Waters', 'Barbara Ehrenreich', 'Philip Roth', 'Elena Ferrante', 'Chimamanda Ngozi Adichie', 'David Mitchell', 'Ali Smith', 'Ta-Nehisi Coates', 'Philip Pullman', 'WG Sebald', 'Kazuo Ishiguro', 'Svetlana Alexievich', 'Marilynne Robinson', 'Hilary Mantel']\n"
     ]
    }
   ],
   "source": [
    "# let's modify the author_year variable to create two sub-lists\n",
    "year = [author.split('(')[-1].strip(')') for author in author_year]\n",
    "author = [author.split('(')[0].replace('by','').strip() for author in author_year]\n",
    "\n",
    "# let's print out our lists\n",
    "print(year)\n",
    "print(author)"
   ]
  },
  {
   "cell_type": "markdown",
   "metadata": {},
   "source": [
    "Let's create our dataframe!"
   ]
  },
  {
   "cell_type": "code",
   "execution_count": 52,
   "metadata": {},
   "outputs": [
    {
     "name": "stderr",
     "output_type": "stream",
     "text": [
      "/Users/ekaterinaossetchkina/opt/anaconda3/lib/python3.8/site-packages/pandas/core/computation/expressions.py:20: UserWarning: Pandas requires version '2.7.3' or newer of 'numexpr' (version '2.7.1' currently installed).\n",
      "  from pandas.core.computation.check import NUMEXPR_INSTALLED\n"
     ]
    },
    {
     "data": {
      "text/html": [
       "<div>\n",
       "<style scoped>\n",
       "    .dataframe tbody tr th:only-of-type {\n",
       "        vertical-align: middle;\n",
       "    }\n",
       "\n",
       "    .dataframe tbody tr th {\n",
       "        vertical-align: top;\n",
       "    }\n",
       "\n",
       "    .dataframe thead th {\n",
       "        text-align: right;\n",
       "    }\n",
       "</style>\n",
       "<table border=\"1\" class=\"dataframe\">\n",
       "  <thead>\n",
       "    <tr style=\"text-align: right;\">\n",
       "      <th></th>\n",
       "      <th>Titles</th>\n",
       "      <th>Rank</th>\n",
       "      <th>Year</th>\n",
       "      <th>Author</th>\n",
       "    </tr>\n",
       "  </thead>\n",
       "  <tbody>\n",
       "    <tr>\n",
       "      <th>0</th>\n",
       "      <td>I Feel Bad About My Neck</td>\n",
       "      <td>100</td>\n",
       "      <td>2006</td>\n",
       "      <td>Nora Ephron</td>\n",
       "    </tr>\n",
       "    <tr>\n",
       "      <th>1</th>\n",
       "      <td>Broken Glass</td>\n",
       "      <td>99</td>\n",
       "      <td>2009</td>\n",
       "      <td>Alain Mabanckou</td>\n",
       "    </tr>\n",
       "    <tr>\n",
       "      <th>2</th>\n",
       "      <td>The Girl With the Dragon Tattoo</td>\n",
       "      <td>98</td>\n",
       "      <td>2008</td>\n",
       "      <td>Stieg Larsson</td>\n",
       "    </tr>\n",
       "    <tr>\n",
       "      <th>3</th>\n",
       "      <td>Harry Potter and the Goblet of Fire</td>\n",
       "      <td>97</td>\n",
       "      <td>2000</td>\n",
       "      <td>JK Rowling</td>\n",
       "    </tr>\n",
       "    <tr>\n",
       "      <th>4</th>\n",
       "      <td>A Little Life</td>\n",
       "      <td>96</td>\n",
       "      <td>2015</td>\n",
       "      <td>Hanya Yanagihara</td>\n",
       "    </tr>\n",
       "  </tbody>\n",
       "</table>\n",
       "</div>"
      ],
      "text/plain": [
       "                                Titles Rank  Year            Author\n",
       "0             I Feel Bad About My Neck  100  2006       Nora Ephron\n",
       "1                         Broken Glass   99  2009   Alain Mabanckou\n",
       "2      The Girl With the Dragon Tattoo   98  2008     Stieg Larsson\n",
       "3  Harry Potter and the Goblet of Fire   97  2000        JK Rowling\n",
       "4                        A Little Life   96  2015  Hanya Yanagihara"
      ]
     },
     "execution_count": 52,
     "metadata": {},
     "output_type": "execute_result"
    }
   ],
   "source": [
    "import pandas as pd\n",
    "\n",
    "# let's create a df from the list\n",
    "df_books = pd.DataFrame({\n",
    "    'Titles':titles,\n",
    "    'Rank': rank,\n",
    "    'Year': year,\n",
    "    'Author': author})\n",
    "\n",
    "df_books.head()"
   ]
  },
  {
   "cell_type": "code",
   "execution_count": 53,
   "metadata": {},
   "outputs": [
    {
     "data": {
      "text/html": [
       "<div>\n",
       "<style scoped>\n",
       "    .dataframe tbody tr th:only-of-type {\n",
       "        vertical-align: middle;\n",
       "    }\n",
       "\n",
       "    .dataframe tbody tr th {\n",
       "        vertical-align: top;\n",
       "    }\n",
       "\n",
       "    .dataframe thead th {\n",
       "        text-align: right;\n",
       "    }\n",
       "</style>\n",
       "<table border=\"1\" class=\"dataframe\">\n",
       "  <thead>\n",
       "    <tr style=\"text-align: right;\">\n",
       "      <th></th>\n",
       "      <th>Titles</th>\n",
       "      <th>Rank</th>\n",
       "      <th>Year</th>\n",
       "      <th>Author</th>\n",
       "    </tr>\n",
       "  </thead>\n",
       "  <tbody>\n",
       "    <tr>\n",
       "      <th>95</th>\n",
       "      <td>Austerlitz</td>\n",
       "      <td>5</td>\n",
       "      <td>2001</td>\n",
       "      <td>WG Sebald</td>\n",
       "    </tr>\n",
       "    <tr>\n",
       "      <th>96</th>\n",
       "      <td>Never Let Me Go</td>\n",
       "      <td>4</td>\n",
       "      <td>2005</td>\n",
       "      <td>Kazuo Ishiguro</td>\n",
       "    </tr>\n",
       "    <tr>\n",
       "      <th>97</th>\n",
       "      <td>Secondhand Time</td>\n",
       "      <td>3</td>\n",
       "      <td>2016</td>\n",
       "      <td>Svetlana Alexievich</td>\n",
       "    </tr>\n",
       "    <tr>\n",
       "      <th>98</th>\n",
       "      <td>Gilead</td>\n",
       "      <td>2</td>\n",
       "      <td>2004</td>\n",
       "      <td>Marilynne Robinson</td>\n",
       "    </tr>\n",
       "    <tr>\n",
       "      <th>99</th>\n",
       "      <td>Wolf Hall</td>\n",
       "      <td>1</td>\n",
       "      <td>2009</td>\n",
       "      <td>Hilary Mantel</td>\n",
       "    </tr>\n",
       "  </tbody>\n",
       "</table>\n",
       "</div>"
      ],
      "text/plain": [
       "             Titles Rank  Year               Author\n",
       "95       Austerlitz    5  2001            WG Sebald\n",
       "96  Never Let Me Go    4  2005       Kazuo Ishiguro\n",
       "97  Secondhand Time    3  2016  Svetlana Alexievich\n",
       "98           Gilead    2  2004   Marilynne Robinson\n",
       "99        Wolf Hall    1  2009        Hilary Mantel"
      ]
     },
     "execution_count": 53,
     "metadata": {},
     "output_type": "execute_result"
    }
   ],
   "source": [
    "df_books.tail()"
   ]
  },
  {
   "cell_type": "markdown",
   "metadata": {},
   "source": [
    "# 3. One more example: `Quotes to Scrape`\n",
    "<a id='section3'></a>"
   ]
  },
  {
   "cell_type": "code",
   "execution_count": 54,
   "metadata": {},
   "outputs": [],
   "source": [
    "# URL of the website\n",
    "url = 'http://quotes.toscrape.com/'"
   ]
  },
  {
   "cell_type": "code",
   "execution_count": 56,
   "metadata": {},
   "outputs": [
    {
     "name": "stdout",
     "output_type": "stream",
     "text": [
      "<Response [200]>\n"
     ]
    }
   ],
   "source": [
    "# check that can scrape the website\n",
    "response = requests.get(url)\n",
    "print(response)\n",
    "\n",
    "# Parse the page content with BeautifulSoup\n",
    "soup = BeautifulSoup(response.text, \"html.parser\")\n",
    "# print(soup)"
   ]
  },
  {
   "cell_type": "code",
   "execution_count": 57,
   "metadata": {},
   "outputs": [
    {
     "name": "stdout",
     "output_type": "stream",
     "text": [
      "[<div class=\"quote\" itemscope=\"\" itemtype=\"http://schema.org/CreativeWork\">\n",
      "<span class=\"text\" itemprop=\"text\">“The world as we have created it is a process of our thinking. It cannot be changed without changing our thinking.”</span>\n",
      "<span>by <small class=\"author\" itemprop=\"author\">Albert Einstein</small>\n",
      "<a href=\"/author/Albert-Einstein\">(about)</a>\n",
      "</span>\n",
      "<div class=\"tags\">\n",
      "            Tags:\n",
      "            <meta class=\"keywords\" content=\"change,deep-thoughts,thinking,world\" itemprop=\"keywords\"/>\n",
      "<a class=\"tag\" href=\"/tag/change/page/1/\">change</a>\n",
      "<a class=\"tag\" href=\"/tag/deep-thoughts/page/1/\">deep-thoughts</a>\n",
      "<a class=\"tag\" href=\"/tag/thinking/page/1/\">thinking</a>\n",
      "<a class=\"tag\" href=\"/tag/world/page/1/\">world</a>\n",
      "</div>\n",
      "</div>, <div class=\"quote\" itemscope=\"\" itemtype=\"http://schema.org/CreativeWork\">\n",
      "<span class=\"text\" itemprop=\"text\">“It is our choices, Harry, that show what we truly are, far more than our abilities.”</span>\n",
      "<span>by <small class=\"author\" itemprop=\"author\">J.K. Rowling</small>\n",
      "<a href=\"/author/J-K-Rowling\">(about)</a>\n",
      "</span>\n",
      "<div class=\"tags\">\n",
      "            Tags:\n",
      "            <meta class=\"keywords\" content=\"abilities,choices\" itemprop=\"keywords\"/>\n",
      "<a class=\"tag\" href=\"/tag/abilities/page/1/\">abilities</a>\n",
      "<a class=\"tag\" href=\"/tag/choices/page/1/\">choices</a>\n",
      "</div>\n",
      "</div>, <div class=\"quote\" itemscope=\"\" itemtype=\"http://schema.org/CreativeWork\">\n",
      "<span class=\"text\" itemprop=\"text\">“There are only two ways to live your life. One is as though nothing is a miracle. The other is as though everything is a miracle.”</span>\n",
      "<span>by <small class=\"author\" itemprop=\"author\">Albert Einstein</small>\n",
      "<a href=\"/author/Albert-Einstein\">(about)</a>\n",
      "</span>\n",
      "<div class=\"tags\">\n",
      "            Tags:\n",
      "            <meta class=\"keywords\" content=\"inspirational,life,live,miracle,miracles\" itemprop=\"keywords\"/>\n",
      "<a class=\"tag\" href=\"/tag/inspirational/page/1/\">inspirational</a>\n",
      "<a class=\"tag\" href=\"/tag/life/page/1/\">life</a>\n",
      "<a class=\"tag\" href=\"/tag/live/page/1/\">live</a>\n",
      "<a class=\"tag\" href=\"/tag/miracle/page/1/\">miracle</a>\n",
      "<a class=\"tag\" href=\"/tag/miracles/page/1/\">miracles</a>\n",
      "</div>\n",
      "</div>, <div class=\"quote\" itemscope=\"\" itemtype=\"http://schema.org/CreativeWork\">\n",
      "<span class=\"text\" itemprop=\"text\">“The person, be it gentleman or lady, who has not pleasure in a good novel, must be intolerably stupid.”</span>\n",
      "<span>by <small class=\"author\" itemprop=\"author\">Jane Austen</small>\n",
      "<a href=\"/author/Jane-Austen\">(about)</a>\n",
      "</span>\n",
      "<div class=\"tags\">\n",
      "            Tags:\n",
      "            <meta class=\"keywords\" content=\"aliteracy,books,classic,humor\" itemprop=\"keywords\"/>\n",
      "<a class=\"tag\" href=\"/tag/aliteracy/page/1/\">aliteracy</a>\n",
      "<a class=\"tag\" href=\"/tag/books/page/1/\">books</a>\n",
      "<a class=\"tag\" href=\"/tag/classic/page/1/\">classic</a>\n",
      "<a class=\"tag\" href=\"/tag/humor/page/1/\">humor</a>\n",
      "</div>\n",
      "</div>, <div class=\"quote\" itemscope=\"\" itemtype=\"http://schema.org/CreativeWork\">\n",
      "<span class=\"text\" itemprop=\"text\">“Imperfection is beauty, madness is genius and it's better to be absolutely ridiculous than absolutely boring.”</span>\n",
      "<span>by <small class=\"author\" itemprop=\"author\">Marilyn Monroe</small>\n",
      "<a href=\"/author/Marilyn-Monroe\">(about)</a>\n",
      "</span>\n",
      "<div class=\"tags\">\n",
      "            Tags:\n",
      "            <meta class=\"keywords\" content=\"be-yourself,inspirational\" itemprop=\"keywords\"/>\n",
      "<a class=\"tag\" href=\"/tag/be-yourself/page/1/\">be-yourself</a>\n",
      "<a class=\"tag\" href=\"/tag/inspirational/page/1/\">inspirational</a>\n",
      "</div>\n",
      "</div>, <div class=\"quote\" itemscope=\"\" itemtype=\"http://schema.org/CreativeWork\">\n",
      "<span class=\"text\" itemprop=\"text\">“Try not to become a man of success. Rather become a man of value.”</span>\n",
      "<span>by <small class=\"author\" itemprop=\"author\">Albert Einstein</small>\n",
      "<a href=\"/author/Albert-Einstein\">(about)</a>\n",
      "</span>\n",
      "<div class=\"tags\">\n",
      "            Tags:\n",
      "            <meta class=\"keywords\" content=\"adulthood,success,value\" itemprop=\"keywords\"/>\n",
      "<a class=\"tag\" href=\"/tag/adulthood/page/1/\">adulthood</a>\n",
      "<a class=\"tag\" href=\"/tag/success/page/1/\">success</a>\n",
      "<a class=\"tag\" href=\"/tag/value/page/1/\">value</a>\n",
      "</div>\n",
      "</div>, <div class=\"quote\" itemscope=\"\" itemtype=\"http://schema.org/CreativeWork\">\n",
      "<span class=\"text\" itemprop=\"text\">“It is better to be hated for what you are than to be loved for what you are not.”</span>\n",
      "<span>by <small class=\"author\" itemprop=\"author\">André Gide</small>\n",
      "<a href=\"/author/Andre-Gide\">(about)</a>\n",
      "</span>\n",
      "<div class=\"tags\">\n",
      "            Tags:\n",
      "            <meta class=\"keywords\" content=\"life,love\" itemprop=\"keywords\"/>\n",
      "<a class=\"tag\" href=\"/tag/life/page/1/\">life</a>\n",
      "<a class=\"tag\" href=\"/tag/love/page/1/\">love</a>\n",
      "</div>\n",
      "</div>, <div class=\"quote\" itemscope=\"\" itemtype=\"http://schema.org/CreativeWork\">\n",
      "<span class=\"text\" itemprop=\"text\">“I have not failed. I've just found 10,000 ways that won't work.”</span>\n",
      "<span>by <small class=\"author\" itemprop=\"author\">Thomas A. Edison</small>\n",
      "<a href=\"/author/Thomas-A-Edison\">(about)</a>\n",
      "</span>\n",
      "<div class=\"tags\">\n",
      "            Tags:\n",
      "            <meta class=\"keywords\" content=\"edison,failure,inspirational,paraphrased\" itemprop=\"keywords\"/>\n",
      "<a class=\"tag\" href=\"/tag/edison/page/1/\">edison</a>\n",
      "<a class=\"tag\" href=\"/tag/failure/page/1/\">failure</a>\n",
      "<a class=\"tag\" href=\"/tag/inspirational/page/1/\">inspirational</a>\n",
      "<a class=\"tag\" href=\"/tag/paraphrased/page/1/\">paraphrased</a>\n",
      "</div>\n",
      "</div>, <div class=\"quote\" itemscope=\"\" itemtype=\"http://schema.org/CreativeWork\">\n",
      "<span class=\"text\" itemprop=\"text\">“A woman is like a tea bag; you never know how strong it is until it's in hot water.”</span>\n",
      "<span>by <small class=\"author\" itemprop=\"author\">Eleanor Roosevelt</small>\n",
      "<a href=\"/author/Eleanor-Roosevelt\">(about)</a>\n",
      "</span>\n",
      "<div class=\"tags\">\n",
      "            Tags:\n",
      "            <meta class=\"keywords\" content=\"misattributed-eleanor-roosevelt\" itemprop=\"keywords\"/>\n",
      "<a class=\"tag\" href=\"/tag/misattributed-eleanor-roosevelt/page/1/\">misattributed-eleanor-roosevelt</a>\n",
      "</div>\n",
      "</div>, <div class=\"quote\" itemscope=\"\" itemtype=\"http://schema.org/CreativeWork\">\n",
      "<span class=\"text\" itemprop=\"text\">“A day without sunshine is like, you know, night.”</span>\n",
      "<span>by <small class=\"author\" itemprop=\"author\">Steve Martin</small>\n",
      "<a href=\"/author/Steve-Martin\">(about)</a>\n",
      "</span>\n",
      "<div class=\"tags\">\n",
      "            Tags:\n",
      "            <meta class=\"keywords\" content=\"humor,obvious,simile\" itemprop=\"keywords\"/>\n",
      "<a class=\"tag\" href=\"/tag/humor/page/1/\">humor</a>\n",
      "<a class=\"tag\" href=\"/tag/obvious/page/1/\">obvious</a>\n",
      "<a class=\"tag\" href=\"/tag/simile/page/1/\">simile</a>\n",
      "</div>\n",
      "</div>]\n"
     ]
    }
   ],
   "source": [
    "quotes = soup.find_all(\"div\", class_ = \"quote\")\n",
    "print(quotes)"
   ]
  },
  {
   "cell_type": "code",
   "execution_count": 62,
   "metadata": {
    "scrolled": true
   },
   "outputs": [
    {
     "data": {
      "text/plain": [
       "<div class=\"quote\" itemscope=\"\" itemtype=\"http://schema.org/CreativeWork\">\n",
       "<span class=\"text\" itemprop=\"text\">“The world as we have created it is a process of our thinking. It cannot be changed without changing our thinking.”</span>\n",
       "<span>by <small class=\"author\" itemprop=\"author\">Albert Einstein</small>\n",
       "<a href=\"/author/Albert-Einstein\">(about)</a>\n",
       "</span>\n",
       "<div class=\"tags\">\n",
       "            Tags:\n",
       "            <meta class=\"keywords\" content=\"change,deep-thoughts,thinking,world\" itemprop=\"keywords\"/>\n",
       "<a class=\"tag\" href=\"/tag/change/page/1/\">change</a>\n",
       "<a class=\"tag\" href=\"/tag/deep-thoughts/page/1/\">deep-thoughts</a>\n",
       "<a class=\"tag\" href=\"/tag/thinking/page/1/\">thinking</a>\n",
       "<a class=\"tag\" href=\"/tag/world/page/1/\">world</a>\n",
       "</div>\n",
       "</div>"
      ]
     },
     "execution_count": 62,
     "metadata": {},
     "output_type": "execute_result"
    }
   ],
   "source": [
    "# print out the first quote\n",
    "quotes[0]"
   ]
  },
  {
   "cell_type": "code",
   "execution_count": 65,
   "metadata": {},
   "outputs": [
    {
     "name": "stdout",
     "output_type": "stream",
     "text": [
      "“The world as we have created it is a process of our thinking. It cannot be changed without changing our thinking.”\n"
     ]
    }
   ],
   "source": [
    "# we can iterate using tags directly inside the quotes variable\n",
    "quote_text = quotes[0].find('span', class_ = 'text')\n",
    "\n",
    "print(quote_text.text)"
   ]
  },
  {
   "cell_type": "code",
   "execution_count": 67,
   "metadata": {},
   "outputs": [
    {
     "name": "stdout",
     "output_type": "stream",
     "text": [
      "Albert Einstein\n"
     ]
    }
   ],
   "source": [
    "# let's extract the author\n",
    "quote_author = quotes[0].find('small', class_ = 'author')\n",
    "\n",
    "print(quote_author.text)"
   ]
  },
  {
   "cell_type": "code",
   "execution_count": 84,
   "metadata": {},
   "outputs": [
    {
     "name": "stdout",
     "output_type": "stream",
     "text": [
      "change, deep-thoughts, thinking, world\n"
     ]
    }
   ],
   "source": [
    "# let's extract the tags\n",
    "quote_tags = quotes[0].find('div', class_ = 'tags')\n",
    "\n",
    "print(quote_tags.text)\n",
    "\n",
    "# # let's convert it to a string\n",
    "# tags = str(quote_tags.text).replace(\"Tags:\", '').strip()\n",
    "\n",
    "# # let's change the newline with comma-separated\n",
    "# tags = tags.replace(\"\\n\",\", \")\n",
    "\n",
    "# in one line\n",
    "tags = str(quote_tags.text).replace(\"Tags:\", '').strip().replace(\"\\n\",\", \")\n",
    "\n",
    "print(tags)"
   ]
  },
  {
   "cell_type": "code",
   "execution_count": 87,
   "metadata": {},
   "outputs": [
    {
     "data": {
      "text/html": [
       "<div>\n",
       "<style scoped>\n",
       "    .dataframe tbody tr th:only-of-type {\n",
       "        vertical-align: middle;\n",
       "    }\n",
       "\n",
       "    .dataframe tbody tr th {\n",
       "        vertical-align: top;\n",
       "    }\n",
       "\n",
       "    .dataframe thead th {\n",
       "        text-align: right;\n",
       "    }\n",
       "</style>\n",
       "<table border=\"1\" class=\"dataframe\">\n",
       "  <thead>\n",
       "    <tr style=\"text-align: right;\">\n",
       "      <th></th>\n",
       "      <th>Quote</th>\n",
       "      <th>Author</th>\n",
       "      <th>Tags</th>\n",
       "    </tr>\n",
       "  </thead>\n",
       "  <tbody>\n",
       "    <tr>\n",
       "      <th>0</th>\n",
       "      <td>“The world as we have created it is a process ...</td>\n",
       "      <td>Albert Einstein</td>\n",
       "      <td>change, deep-thoughts, thinking, world</td>\n",
       "    </tr>\n",
       "    <tr>\n",
       "      <th>1</th>\n",
       "      <td>“It is our choices, Harry, that show what we t...</td>\n",
       "      <td>J.K. Rowling</td>\n",
       "      <td>abilities, choices</td>\n",
       "    </tr>\n",
       "    <tr>\n",
       "      <th>2</th>\n",
       "      <td>“There are only two ways to live your life. On...</td>\n",
       "      <td>Albert Einstein</td>\n",
       "      <td>inspirational, life, live, miracle, miracles</td>\n",
       "    </tr>\n",
       "    <tr>\n",
       "      <th>3</th>\n",
       "      <td>“The person, be it gentleman or lady, who has ...</td>\n",
       "      <td>Jane Austen</td>\n",
       "      <td>aliteracy, books, classic, humor</td>\n",
       "    </tr>\n",
       "    <tr>\n",
       "      <th>4</th>\n",
       "      <td>“Imperfection is beauty, madness is genius and...</td>\n",
       "      <td>Marilyn Monroe</td>\n",
       "      <td>be-yourself, inspirational</td>\n",
       "    </tr>\n",
       "    <tr>\n",
       "      <th>5</th>\n",
       "      <td>“Try not to become a man of success. Rather be...</td>\n",
       "      <td>Albert Einstein</td>\n",
       "      <td>adulthood, success, value</td>\n",
       "    </tr>\n",
       "    <tr>\n",
       "      <th>6</th>\n",
       "      <td>“It is better to be hated for what you are tha...</td>\n",
       "      <td>André Gide</td>\n",
       "      <td>life, love</td>\n",
       "    </tr>\n",
       "    <tr>\n",
       "      <th>7</th>\n",
       "      <td>“I have not failed. I've just found 10,000 way...</td>\n",
       "      <td>Thomas A. Edison</td>\n",
       "      <td>edison, failure, inspirational, paraphrased</td>\n",
       "    </tr>\n",
       "    <tr>\n",
       "      <th>8</th>\n",
       "      <td>“A woman is like a tea bag; you never know how...</td>\n",
       "      <td>Eleanor Roosevelt</td>\n",
       "      <td>misattributed-eleanor-roosevelt</td>\n",
       "    </tr>\n",
       "    <tr>\n",
       "      <th>9</th>\n",
       "      <td>“A day without sunshine is like, you know, nig...</td>\n",
       "      <td>Steve Martin</td>\n",
       "      <td>humor, obvious, simile</td>\n",
       "    </tr>\n",
       "  </tbody>\n",
       "</table>\n",
       "</div>"
      ],
      "text/plain": [
       "                                               Quote             Author  \\\n",
       "0  “The world as we have created it is a process ...    Albert Einstein   \n",
       "1  “It is our choices, Harry, that show what we t...       J.K. Rowling   \n",
       "2  “There are only two ways to live your life. On...    Albert Einstein   \n",
       "3  “The person, be it gentleman or lady, who has ...        Jane Austen   \n",
       "4  “Imperfection is beauty, madness is genius and...     Marilyn Monroe   \n",
       "5  “Try not to become a man of success. Rather be...    Albert Einstein   \n",
       "6  “It is better to be hated for what you are tha...         André Gide   \n",
       "7  “I have not failed. I've just found 10,000 way...   Thomas A. Edison   \n",
       "8  “A woman is like a tea bag; you never know how...  Eleanor Roosevelt   \n",
       "9  “A day without sunshine is like, you know, nig...       Steve Martin   \n",
       "\n",
       "                                           Tags  \n",
       "0        change, deep-thoughts, thinking, world  \n",
       "1                            abilities, choices  \n",
       "2  inspirational, life, live, miracle, miracles  \n",
       "3              aliteracy, books, classic, humor  \n",
       "4                    be-yourself, inspirational  \n",
       "5                     adulthood, success, value  \n",
       "6                                    life, love  \n",
       "7   edison, failure, inspirational, paraphrased  \n",
       "8               misattributed-eleanor-roosevelt  \n",
       "9                        humor, obvious, simile  "
      ]
     },
     "execution_count": 87,
     "metadata": {},
     "output_type": "execute_result"
    }
   ],
   "source": [
    "# let's iterate over every quote inside quotes\n",
    "\n",
    "# data to be stored in a list\n",
    "data = []\n",
    "\n",
    "for quote in quotes:\n",
    "    \n",
    "    # extract the text of the quote\n",
    "    text = quote.find('span', class_ = 'text').text\n",
    "    \n",
    "    # extract the author of the quote\n",
    "    author = quote.find('small', class_ = 'author').text\n",
    "    \n",
    "    # extract the tags\n",
    "    quote_tags = quote.find('div', class_ = 'tags')\n",
    "    tags = str(quote_tags.text).replace(\"Tags:\", '').strip().replace(\"\\n\",\", \")\n",
    "    \n",
    "    # we will make a dictionary for each row\n",
    "    data.append({\n",
    "        'Quote': text,\n",
    "        'Author': author,\n",
    "        'Tags': tags\n",
    "    }\n",
    "    )\n",
    "    \n",
    "# outside of the loop, let's make our dataframe by combining rows\n",
    "df_quotes = pd.DataFrame(data)\n",
    "\n",
    "df_quotes"
   ]
  },
  {
   "cell_type": "code",
   "execution_count": null,
   "metadata": {},
   "outputs": [],
   "source": []
  }
 ],
 "metadata": {
  "kernelspec": {
   "display_name": "Python 3",
   "language": "python",
   "name": "python3"
  },
  "language_info": {
   "codemirror_mode": {
    "name": "ipython",
    "version": 3
   },
   "file_extension": ".py",
   "mimetype": "text/x-python",
   "name": "python",
   "nbconvert_exporter": "python",
   "pygments_lexer": "ipython3",
   "version": "3.8.5"
  }
 },
 "nbformat": 4,
 "nbformat_minor": 2
}
