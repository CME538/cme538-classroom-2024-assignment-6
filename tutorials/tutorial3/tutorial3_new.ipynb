{
 "cells": [
  {
   "cell_type": "markdown",
   "metadata": {},
   "source": [
    "# CME538 - Introduction to Data Science\n",
    "## Tutorial 3 - Parsing HTML"
   ]
  },
  {
   "cell_type": "markdown",
   "metadata": {},
   "source": [
    "### Learning Objectives\n",
    "After completing this tutorial, you should be comfortable:\n",
    "\n",
    "- Understanding the overall structure of HTML tags\n",
    "- Finding the information of interest within a web-page by going through the HTML source code\n",
    "- Using Python and BeautifulSoup to extract the information of interest from HTML elements \n",
    "\n",
    "### Turtorial Structure\n",
    "1. [What is HTML](#section1)\n",
    "2. [Scraping The Guardian](#section2)\n",
    "3. [Scraping quotes.toscrape.com](#section3)"
   ]
  },
  {
   "cell_type": "markdown",
   "metadata": {},
   "source": [
    "<a id='section1'></a>\n",
    "# 1. What is HTML?"
   ]
  },
  {
   "cell_type": "markdown",
   "metadata": {},
   "source": [
    "source = https://www.w3schools.com/html/html_intro.asp"
   ]
  },
  {
   "cell_type": "markdown",
   "metadata": {},
   "source": [
    "- HTML stands for Hyper Text Markup Language\n",
    "- HTML is the standard markup language for creating Web pages\n",
    "- It describes the structure of a Web page\n",
    "- HTML consists of a series of elements that tell the browser how to display the content\n",
    "- HTML elements label pieces of content such as \"this is a **heading**\" , \"this is a **paragraph**\" , \"this is a **link**\" , etc."
   ]
  },
  {
   "cell_type": "markdown",
   "metadata": {},
   "source": [
    "<div style=\"display: flex; justify-content: flex-start; gap: 1px;\">\n",
    "    <img src=\"HTML-basic_format.png\" alt=\"HTML Basic Format\" width=\"500\"/>\n",
    "    <img src=\"HTML-doc.png\" alt=\"HTML Doc Structure\" width=\"200\"/>\n",
    "</div>"
   ]
  },
  {
   "cell_type": "markdown",
   "metadata": {},
   "source": [
    "HTML tags look something like this (very similar to XML files):\n",
    "\n",
    "![HTML Tags](HTML-sample_tag.png)"
   ]
  },
  {
   "cell_type": "markdown",
   "metadata": {},
   "source": [
    "An example of some HTML code below:"
   ]
  },
  {
   "cell_type": "code",
   "execution_count": null,
   "metadata": {
    "vscode": {
     "languageId": "xml"
    }
   },
   "outputs": [],
   "source": [
    "<div>\n",
    "<img src=\"attachment:image.png\" width=\"400\" align='left'/>\n",
    "</div>"
   ]
  },
  {
   "cell_type": "markdown",
   "metadata": {},
   "source": [
    "# 2. Scraping the Guardian\n",
    "<a id='section2'></a>\n",
    "\n",
    "Let's scrape the best books from the 21st century, according to The Guardian:"
   ]
  },
  {
   "cell_type": "code",
   "execution_count": null,
   "metadata": {},
   "outputs": [],
   "source": [
    "import requests\n",
    "\n",
    "# URL of the page to scrape\n",
    "url = 'https://www.theguardian.com/books/2019/sep/21/best-books-of-the-21st-century'\n",
    "\n",
    "# Check if we were successful in retrieiving the data"
   ]
  },
  {
   "cell_type": "markdown",
   "metadata": {},
   "source": [
    "To parse our HTML document, we’ll use a Python module called BeautifulSoup, the most common web scraping module for Python."
   ]
  },
  {
   "cell_type": "code",
   "execution_count": null,
   "metadata": {},
   "outputs": [],
   "source": []
  },
  {
   "cell_type": "markdown",
   "metadata": {},
   "source": [
    "If you don't have this library installed, no worries! Let's `pip install` it now:"
   ]
  },
  {
   "cell_type": "code",
   "execution_count": null,
   "metadata": {},
   "outputs": [],
   "source": [
    "!pip install bs4 # one time run! after installed, don't worry about rerunning."
   ]
  },
  {
   "cell_type": "markdown",
   "metadata": {},
   "source": [
    "Let's start to parse the website data with `BeautifulSoup` like so:"
   ]
  },
  {
   "cell_type": "code",
   "execution_count": null,
   "metadata": {},
   "outputs": [],
   "source": [
    "# print(response.text)"
   ]
  },
  {
   "cell_type": "code",
   "execution_count": null,
   "metadata": {},
   "outputs": [],
   "source": []
  },
  {
   "cell_type": "markdown",
   "metadata": {},
   "source": [
    "We are interested in extracting out a few specific tags, we can use the built-in `find_all` method:"
   ]
  },
  {
   "cell_type": "code",
   "execution_count": null,
   "metadata": {},
   "outputs": [],
   "source": [
    "help(html_soup.find_all)"
   ]
  },
  {
   "cell_type": "code",
   "execution_count": null,
   "metadata": {},
   "outputs": [],
   "source": [
    "# let's find all the h2 tags\n",
    "book_titles = "
   ]
  },
  {
   "cell_type": "code",
   "execution_count": null,
   "metadata": {
    "scrolled": true
   },
   "outputs": [],
   "source": [
    "# let's return the first title\n",
    "print(book_titles[1])"
   ]
  },
  {
   "cell_type": "code",
   "execution_count": null,
   "metadata": {},
   "outputs": [],
   "source": [
    "# print out the text content of the tag\n",
    "print(book_titles[1].text)"
   ]
  },
  {
   "cell_type": "code",
   "execution_count": null,
   "metadata": {},
   "outputs": [],
   "source": [
    "# let's iterate over all the h2 tags\n"
   ]
  },
  {
   "cell_type": "markdown",
   "metadata": {},
   "source": [
    "We want to simplify and get some sub-lists:"
   ]
  },
  {
   "cell_type": "code",
   "execution_count": null,
   "metadata": {},
   "outputs": [],
   "source": [
    "# example list\n",
    "book_example = [100,\n",
    "         'I Feel Bad About My Neck',\n",
    "         'by Nora Ephron (2006)',\n",
    "         99,\n",
    "         'Broken Glass',\n",
    "         'by Alain Mabanckou (2005), translated by Helen Stevenson (2009)',\n",
    "         98,\n",
    "         'The Girl With the Dragon Tattoo'\n",
    "         'by Stieg Larsson (2005), translated by Steven T Murray (2008)']"
   ]
  },
  {
   "cell_type": "markdown",
   "metadata": {},
   "source": [
    "To this:"
   ]
  },
  {
   "cell_type": "code",
   "execution_count": null,
   "metadata": {},
   "outputs": [],
   "source": [
    "rank_list = [100, 99, 98]\n",
    "title_list = ['I Feel Bad About My Neck', 'Broken Glass', 'The Girl With the Dragon Tattoo']\n",
    "year_author_list = ['Nora Ephron (2006)','Alain Mabanckou (2005)', 'Stieg Larsson (2005)']"
   ]
  },
  {
   "cell_type": "markdown",
   "metadata": {},
   "source": [
    "Maybe we can use `list comprehension` to iterate over the output:"
   ]
  },
  {
   "cell_type": "code",
   "execution_count": null,
   "metadata": {},
   "outputs": [],
   "source": [
    "# INEFFICIENT\n",
    "my_list = [1, 2, 3, 4, 5, 6, 7, 8, 9, 10, 11, 12]\n",
    "\n",
    "copy_list = []\n",
    "for i in my_list:\n",
    "    copy_list.append(i)\n",
    "    \n",
    "print(copy_list)"
   ]
  },
  {
   "cell_type": "code",
   "execution_count": null,
   "metadata": {
    "scrolled": true
   },
   "outputs": [],
   "source": [
    "my_list = [1, 2, 3, 4, 5, 6, 7, 8, 9, 10, 11, 12]\n",
    "\n",
    "# make a copy\n",
    "copy_list = [item for item in my_list]\n",
    "print(copy_list)"
   ]
  },
  {
   "cell_type": "code",
   "execution_count": null,
   "metadata": {
    "scrolled": true
   },
   "outputs": [],
   "source": [
    "# we can also modify the individual entries of the list\n",
    "\n",
    "# add 2 to each entry\n",
    "copy_list2 = [item+2 for item in my_list]\n",
    "print(copy_list2)"
   ]
  },
  {
   "cell_type": "code",
   "execution_count": null,
   "metadata": {
    "scrolled": true
   },
   "outputs": [],
   "source": [
    "# the range function\n",
    "for index in range(0, 6, 2): # range(start, stop, step) -> 0, 2, 4 (stop is up to and not including)\n",
    "    print(index)"
   ]
  },
  {
   "cell_type": "markdown",
   "metadata": {},
   "source": [
    "How to use the range function? Start at 0, step-size of 3, and we will iterate until the end of the list `len(my_list)`"
   ]
  },
  {
   "cell_type": "code",
   "execution_count": null,
   "metadata": {},
   "outputs": [],
   "source": [
    "print(my_list)"
   ]
  },
  {
   "cell_type": "code",
   "execution_count": null,
   "metadata": {},
   "outputs": [],
   "source": [
    "# print every 3rd\n",
    "every_third_list = [my_list[index] for index in range(0, len(my_list), 3)]\n",
    "print(every_third_list)"
   ]
  },
  {
   "cell_type": "markdown",
   "metadata": {},
   "source": [
    "Now let's apply this to the books!"
   ]
  },
  {
   "cell_type": "code",
   "execution_count": null,
   "metadata": {},
   "outputs": [],
   "source": [
    "books = [title.text for title in book_titles]\n",
    "# print(books)\n",
    "\n",
    "# let's extract the rank\n",
    "rank = \n",
    "\n",
    "# let's do the same for titles\n",
    "titles = \n",
    "\n",
    "# same for author/year \n",
    "author_year = "
   ]
  },
  {
   "cell_type": "code",
   "execution_count": null,
   "metadata": {},
   "outputs": [],
   "source": [
    "# get the year out\n"
   ]
  },
  {
   "cell_type": "code",
   "execution_count": null,
   "metadata": {},
   "outputs": [],
   "source": [
    "# get the author name\n",
    "\n",
    "# split on (, removed the 'by' and strip() to remove extra white-spaces before/after\n"
   ]
  },
  {
   "cell_type": "markdown",
   "metadata": {},
   "source": [
    "Hmm looks like there is still some noise in the tags, let's make sure it's just books:"
   ]
  },
  {
   "cell_type": "code",
   "execution_count": null,
   "metadata": {},
   "outputs": [],
   "source": [
    "# trim our lists to be 100 length\n",
    "\n",
    "\n",
    "# print(titles)"
   ]
  },
  {
   "cell_type": "code",
   "execution_count": null,
   "metadata": {},
   "outputs": [],
   "source": [
    "# let's modify the author_year variable to create two sub-lists\n",
    "year = \n",
    "author =\n",
    "\n",
    "# let's print out our lists\n",
    "print(year)\n",
    "print(author)"
   ]
  },
  {
   "cell_type": "markdown",
   "metadata": {},
   "source": [
    "Let's create our dataframe!"
   ]
  },
  {
   "cell_type": "code",
   "execution_count": null,
   "metadata": {},
   "outputs": [],
   "source": [
    "\n",
    "df_books = ..."
   ]
  },
  {
   "cell_type": "code",
   "execution_count": null,
   "metadata": {},
   "outputs": [],
   "source": []
  },
  {
   "cell_type": "markdown",
   "metadata": {},
   "source": [
    "# 3. One more example: `Quotes to Scrape`\n",
    "<a id='section3'></a>"
   ]
  },
  {
   "cell_type": "code",
   "execution_count": null,
   "metadata": {},
   "outputs": [],
   "source": [
    "# URL of the website\n",
    "url = 'http://quotes.toscrape.com/'"
   ]
  },
  {
   "cell_type": "code",
   "execution_count": null,
   "metadata": {},
   "outputs": [],
   "source": [
    "# check that can scrape the website\n",
    "\n",
    "\n",
    "# Parse the page content with BeautifulSoup\n"
   ]
  },
  {
   "cell_type": "code",
   "execution_count": null,
   "metadata": {},
   "outputs": [],
   "source": []
  },
  {
   "cell_type": "code",
   "execution_count": null,
   "metadata": {
    "scrolled": true
   },
   "outputs": [],
   "source": [
    "# print out the first quote\n",
    "quotes[0]"
   ]
  },
  {
   "cell_type": "code",
   "execution_count": null,
   "metadata": {},
   "outputs": [],
   "source": [
    "# we can iterate using tags directly inside the quotes variable\n"
   ]
  },
  {
   "cell_type": "code",
   "execution_count": null,
   "metadata": {},
   "outputs": [],
   "source": [
    "# let's extract the author\n"
   ]
  },
  {
   "cell_type": "code",
   "execution_count": null,
   "metadata": {},
   "outputs": [],
   "source": [
    "# let's extract the tags\n",
    "\n",
    "\n",
    "# let's convert it to a string\n",
    "\n",
    "\n",
    "# let's change the newline with comma-separated\n",
    "\n",
    "\n",
    "# in one line\n"
   ]
  },
  {
   "cell_type": "code",
   "execution_count": null,
   "metadata": {},
   "outputs": [],
   "source": [
    "# let's iterate over every quote inside quotes\n",
    "\n",
    "# data to be stored in a list\n",
    "data = []\n",
    "\n",
    "for quote in quotes:\n",
    "    \n",
    "    ...\n",
    "    \n",
    "# outside of the loop, let's make our dataframe by combining rows\n",
    "df_quotes = pd.DataFrame(data)\n",
    "\n",
    "df_quotes"
   ]
  },
  {
   "cell_type": "code",
   "execution_count": null,
   "metadata": {},
   "outputs": [],
   "source": []
  }
 ],
 "metadata": {
  "kernelspec": {
   "display_name": "Python 3",
   "language": "python",
   "name": "python3"
  },
  "language_info": {
   "codemirror_mode": {
    "name": "ipython",
    "version": 3
   },
   "file_extension": ".py",
   "mimetype": "text/x-python",
   "name": "python",
   "nbconvert_exporter": "python",
   "pygments_lexer": "ipython3",
   "version": "3.8.5"
  }
 },
 "nbformat": 4,
 "nbformat_minor": 2
}
